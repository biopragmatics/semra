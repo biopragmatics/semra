{
 "cells": [
  {
   "cell_type": "code",
   "execution_count": 1,
   "id": "02787abf-7bf4-47c3-8794-1f81ff573476",
   "metadata": {},
   "outputs": [
    {
     "name": "stderr",
     "output_type": "stream",
     "text": [
      "/Users/cthoyt/.virtualenvs/indra/lib/python3.11/site-packages/pydantic/_internal/_config.py:322: UserWarning: Valid config keys have changed in V2:\n",
      "* 'underscore_attrs_are_private' has been removed\n",
      "  warnings.warn(message, UserWarning)\n"
     ]
    }
   ],
   "source": [
    "import itertools as itt\n",
    "import math\n",
    "from collections import Counter, defaultdict\n",
    "\n",
    "import bioregistry\n",
    "import bioversions\n",
    "import matplotlib.pyplot as plt\n",
    "import networkx as nx\n",
    "import pandas as pd\n",
    "import pyobo\n",
    "import seaborn as sns\n",
    "from disease import CONFIGURATION, MODULE\n",
    "from IPython.display import SVG\n",
    "from pyobo.sources.mesh import get_mesh_category_curies\n",
    "from tqdm.auto import tqdm\n",
    "\n",
    "import semra\n",
    "import semra.api\n",
    "from semra.api import get_index, to_multidigraph\n",
    "from semra.io import from_pickle, from_sssom"
   ]
  },
  {
   "cell_type": "markdown",
   "id": "4a0346eb-891d-4c14-b0dc-aa73fa0c6f70",
   "metadata": {},
   "source": [
    "## Summarize the Resources"
   ]
  },
  {
   "cell_type": "code",
   "execution_count": 2,
   "id": "c0b88756-654e-4e77-bbc0-c85eb9b15a2b",
   "metadata": {},
   "outputs": [
    {
     "name": "stdout",
     "output_type": "stream",
     "text": [
      "doid 11511\n",
      "mondo 24099\n",
      "efo 16410\n",
      "mesh 354069\n",
      "ncit 181982\n",
      "orphanet 0\n"
     ]
    },
    {
     "data": {
      "application/vnd.jupyter.widget-view+json": {
       "model_id": "",
       "version_major": 2,
       "version_minor": 0
      },
      "text/plain": [
       "Downloading ordo_orphanet.owl: 0.00B [00:00, ?B/s]"
      ]
     },
     "metadata": {},
     "output_type": "display_data"
    },
    {
     "data": {
      "application/vnd.jupyter.widget-view+json": {
       "model_id": "",
       "version_major": 2,
       "version_minor": 0
      },
      "text/plain": [
       "[orphanet.ordo] parsing obo: 0.00it [00:00, ?it/s]"
      ]
     },
     "metadata": {},
     "output_type": "display_data"
    },
    {
     "name": "stderr",
     "output_type": "stream",
     "text": [
      "[orphanet.ordo] ontology=https://www.orphadata.com/data/ontologies/ordo/last_version/ORDO_en_4.4.owl has a strange format. replacing with prefix\n"
     ]
    },
    {
     "name": "stdout",
     "output_type": "stream",
     "text": [
      "orphanet.ordo 0\n",
      "omim 0\n",
      "omim.ps 0\n",
      "gard 0\n",
      "icd10 2345\n",
      "icd10cm 0\n",
      "icd10pcs 0\n",
      "There are 2 top level entities\n"
     ]
    },
    {
     "name": "stderr",
     "output_type": "stream",
     "text": [
      "[icd11 v2024-01] could not load: ('Connection aborted.', RemoteDisconnected('Remote end closed connection without response'))\n",
      "Traceback (most recent call last):\n",
      "  File \"/Users/cthoyt/.virtualenvs/indra/lib/python3.11/site-packages/urllib3/connectionpool.py\", line 793, in urlopen\n",
      "    response = self._make_request(\n",
      "               ^^^^^^^^^^^^^^^^^^^\n",
      "  File \"/Users/cthoyt/.virtualenvs/indra/lib/python3.11/site-packages/urllib3/connectionpool.py\", line 537, in _make_request\n",
      "    response = conn.getresponse()\n",
      "               ^^^^^^^^^^^^^^^^^^\n",
      "  File \"/Users/cthoyt/.virtualenvs/indra/lib/python3.11/site-packages/urllib3/connection.py\", line 466, in getresponse\n",
      "    httplib_response = super().getresponse()\n",
      "                       ^^^^^^^^^^^^^^^^^^^^^\n",
      "  File \"/opt/homebrew/Cellar/python@3.11/3.11.7_2/Frameworks/Python.framework/Versions/3.11/lib/python3.11/http/client.py\", line 1386, in getresponse\n",
      "    response.begin()\n",
      "  File \"/opt/homebrew/Cellar/python@3.11/3.11.7_2/Frameworks/Python.framework/Versions/3.11/lib/python3.11/http/client.py\", line 325, in begin\n",
      "    version, status, reason = self._read_status()\n",
      "                              ^^^^^^^^^^^^^^^^^^^\n",
      "  File \"/opt/homebrew/Cellar/python@3.11/3.11.7_2/Frameworks/Python.framework/Versions/3.11/lib/python3.11/http/client.py\", line 294, in _read_status\n",
      "    raise RemoteDisconnected(\"Remote end closed connection without\"\n",
      "http.client.RemoteDisconnected: Remote end closed connection without response\n",
      "\n",
      "During handling of the above exception, another exception occurred:\n",
      "\n",
      "Traceback (most recent call last):\n",
      "  File \"/Users/cthoyt/.virtualenvs/indra/lib/python3.11/site-packages/requests/adapters.py\", line 486, in send\n",
      "    resp = conn.urlopen(\n",
      "           ^^^^^^^^^^^^^\n",
      "  File \"/Users/cthoyt/.virtualenvs/indra/lib/python3.11/site-packages/urllib3/connectionpool.py\", line 847, in urlopen\n",
      "    retries = retries.increment(\n",
      "              ^^^^^^^^^^^^^^^^^^\n",
      "  File \"/Users/cthoyt/.virtualenvs/indra/lib/python3.11/site-packages/urllib3/util/retry.py\", line 470, in increment\n",
      "    raise reraise(type(error), error, _stacktrace)\n",
      "          ^^^^^^^^^^^^^^^^^^^^^^^^^^^^^^^^^^^^^^^^\n",
      "  File \"/Users/cthoyt/.virtualenvs/indra/lib/python3.11/site-packages/urllib3/util/util.py\", line 38, in reraise\n",
      "    raise value.with_traceback(tb)\n",
      "  File \"/Users/cthoyt/.virtualenvs/indra/lib/python3.11/site-packages/urllib3/connectionpool.py\", line 793, in urlopen\n",
      "    response = self._make_request(\n",
      "               ^^^^^^^^^^^^^^^^^^^\n",
      "  File \"/Users/cthoyt/.virtualenvs/indra/lib/python3.11/site-packages/urllib3/connectionpool.py\", line 537, in _make_request\n",
      "    response = conn.getresponse()\n",
      "               ^^^^^^^^^^^^^^^^^^\n",
      "  File \"/Users/cthoyt/.virtualenvs/indra/lib/python3.11/site-packages/urllib3/connection.py\", line 466, in getresponse\n",
      "    httplib_response = super().getresponse()\n",
      "                       ^^^^^^^^^^^^^^^^^^^^^\n",
      "  File \"/opt/homebrew/Cellar/python@3.11/3.11.7_2/Frameworks/Python.framework/Versions/3.11/lib/python3.11/http/client.py\", line 1386, in getresponse\n",
      "    response.begin()\n",
      "  File \"/opt/homebrew/Cellar/python@3.11/3.11.7_2/Frameworks/Python.framework/Versions/3.11/lib/python3.11/http/client.py\", line 325, in begin\n",
      "    version, status, reason = self._read_status()\n",
      "                              ^^^^^^^^^^^^^^^^^^^\n",
      "  File \"/opt/homebrew/Cellar/python@3.11/3.11.7_2/Frameworks/Python.framework/Versions/3.11/lib/python3.11/http/client.py\", line 294, in _read_status\n",
      "    raise RemoteDisconnected(\"Remote end closed connection without\"\n",
      "urllib3.exceptions.ProtocolError: ('Connection aborted.', RemoteDisconnected('Remote end closed connection without response'))\n",
      "\n",
      "During handling of the above exception, another exception occurred:\n",
      "\n",
      "Traceback (most recent call last):\n",
      "  File \"/Users/cthoyt/dev/pyobo/src/pyobo/api/names.py\", line 142, in get_id_name_mapping\n",
      "    return _get_id_name_mapping()\n",
      "           ^^^^^^^^^^^^^^^^^^^^^^\n",
      "  File \"/Users/cthoyt/dev/pystow/src/pystow/cache.py\", line 83, in _wrapped\n",
      "    rv = func()\n",
      "         ^^^^^^\n",
      "  File \"/Users/cthoyt/dev/pyobo/src/pyobo/api/names.py\", line 138, in _get_id_name_mapping\n",
      "    ontology = get_ontology(prefix, force=force, strict=strict, version=version)\n",
      "               ^^^^^^^^^^^^^^^^^^^^^^^^^^^^^^^^^^^^^^^^^^^^^^^^^^^^^^^^^^^^^^^^^\n",
      "  File \"/Users/cthoyt/dev/pyobo/src/pyobo/identifier_utils.py\", line 115, in _wrapped\n",
      "    return f(norm_prefix, *args, **kwargs)\n",
      "           ^^^^^^^^^^^^^^^^^^^^^^^^^^^^^^^\n",
      "  File \"/Users/cthoyt/dev/pyobo/src/pyobo/getters.py\", line 113, in get_ontology\n",
      "    obo.write_default(force=rewrite)\n",
      "  File \"/Users/cthoyt/dev/pyobo/src/pyobo/struct/struct.py\", line 853, in write_default\n",
      "    write_iterable_tsv(\n",
      "  File \"/Users/cthoyt/dev/pyobo/src/pyobo/utils/io.py\", line 152, in write_iterable_tsv\n",
      "    it = sorted(it)\n",
      "         ^^^^^^^^^^\n",
      "  File \"/Users/cthoyt/dev/pyobo/src/pyobo/utils/io.py\", line 151, in <genexpr>\n",
      "    it = (row for row in it if all(cell is not None for cell in row))\n",
      "         ^^^^^^^^^^^^^^^^^^^^^^^^^^^^^^^^^^^^^^^^^^^^^^^^^^^^^^^^^^^^\n",
      "  File \"/Users/cthoyt/dev/pyobo/src/pyobo/struct/struct.py\", line 1030, in iterate_id_name\n",
      "    for term in self._iter_terms(use_tqdm=use_tqdm, desc=f\"[{self.ontology}] getting names\"):\n",
      "  File \"/Users/cthoyt/dev/pyobo/src/pyobo/struct/struct.py\", line 663, in _iter_terms\n",
      "    yield from self\n",
      "  File \"/Users/cthoyt/dev/pyobo/src/pyobo/struct/struct.py\", line 905, in __iter__\n",
      "    return iter(self._items_accessor)\n",
      "                ^^^^^^^^^^^^^^^^^^^^\n",
      "  File \"/Users/cthoyt/dev/pyobo/src/pyobo/struct/struct.py\", line 899, in _items_accessor\n",
      "    self._items = sorted(self.iter_terms(force=self.force), key=key)\n",
      "                  ^^^^^^^^^^^^^^^^^^^^^^^^^^^^^^^^^^^^^^^^^^^^^^^^^^\n",
      "  File \"/Users/cthoyt/dev/pyobo/src/pyobo/sources/icd11.py\", line 72, in iterate_icd11\n",
      "    yield from visiter(\n",
      "  File \"/Users/cthoyt/dev/pyobo/src/pyobo/sources/icd_utils.py\", line 98, in visiter\n",
      "    yield from visiter(\n",
      "  File \"/Users/cthoyt/dev/pyobo/src/pyobo/sources/icd_utils.py\", line 98, in visiter\n",
      "    yield from visiter(\n",
      "  File \"/Users/cthoyt/dev/pyobo/src/pyobo/sources/icd_utils.py\", line 98, in visiter\n",
      "    yield from visiter(\n",
      "  [Previous line repeated 2 more times]\n",
      "  File \"/Users/cthoyt/dev/pyobo/src/pyobo/sources/icd_utils.py\", line 92, in visiter\n",
      "    res_json = _get_entity(endpoint, identifier)\n",
      "               ^^^^^^^^^^^^^^^^^^^^^^^^^^^^^^^^^\n",
      "  File \"/Users/cthoyt/dev/pyobo/src/pyobo/sources/icd_utils.py\", line 42, in _get_entity\n",
      "    res = get_icd(url)\n",
      "          ^^^^^^^^^^^^\n",
      "  File \"/Users/cthoyt/dev/pyobo/src/pyobo/sources/icd_utils.py\", line 36, in get_icd\n",
      "    return requests.get(url, headers=get_icd_api_headers())\n",
      "           ^^^^^^^^^^^^^^^^^^^^^^^^^^^^^^^^^^^^^^^^^^^^^^^^\n",
      "  File \"/Users/cthoyt/.virtualenvs/indra/lib/python3.11/site-packages/requests/api.py\", line 73, in get\n",
      "    return request(\"get\", url, params=params, **kwargs)\n",
      "           ^^^^^^^^^^^^^^^^^^^^^^^^^^^^^^^^^^^^^^^^^^^^\n",
      "  File \"/Users/cthoyt/.virtualenvs/indra/lib/python3.11/site-packages/requests/api.py\", line 59, in request\n",
      "    return session.request(method=method, url=url, **kwargs)\n",
      "           ^^^^^^^^^^^^^^^^^^^^^^^^^^^^^^^^^^^^^^^^^^^^^^^^^\n",
      "  File \"/Users/cthoyt/.virtualenvs/indra/lib/python3.11/site-packages/requests/sessions.py\", line 589, in request\n",
      "    resp = self.send(prep, **send_kwargs)\n",
      "           ^^^^^^^^^^^^^^^^^^^^^^^^^^^^^^\n",
      "  File \"/Users/cthoyt/.virtualenvs/indra/lib/python3.11/site-packages/requests/sessions.py\", line 703, in send\n",
      "    r = adapter.send(request, **kwargs)\n",
      "        ^^^^^^^^^^^^^^^^^^^^^^^^^^^^^^^\n",
      "  File \"/Users/cthoyt/.virtualenvs/indra/lib/python3.11/site-packages/requests/adapters.py\", line 501, in send\n",
      "    raise ConnectionError(err, request=request)\n",
      "requests.exceptions.ConnectionError: ('Connection aborted.', RemoteDisconnected('Remote end closed connection without response'))\n"
     ]
    },
    {
     "name": "stdout",
     "output_type": "stream",
     "text": [
      "icd11 0\n",
      "icd9 0\n",
      "icd9cm 0\n"
     ]
    },
    {
     "name": "stderr",
     "output_type": "stream",
     "text": [
      "[icdo vNone] could not load: Command '['java', '-jar', '/Users/cthoyt/.data/robot/robot.jar', 'merge', '-i', '/Users/cthoyt/.data/pyobo/raw/icdo/icdo.owl', 'convert', '-o', '/Users/cthoyt/.data/pyobo/raw/icdo/icdo.obo']' returned non-zero exit status 1.\n",
      "Traceback (most recent call last):\n",
      "  File \"/Users/cthoyt/dev/pyobo/src/pyobo/api/names.py\", line 142, in get_id_name_mapping\n",
      "    return _get_id_name_mapping()\n",
      "           ^^^^^^^^^^^^^^^^^^^^^^\n",
      "  File \"/Users/cthoyt/dev/pystow/src/pystow/cache.py\", line 83, in _wrapped\n",
      "    rv = func()\n",
      "         ^^^^^^\n",
      "  File \"/Users/cthoyt/dev/pyobo/src/pyobo/api/names.py\", line 138, in _get_id_name_mapping\n",
      "    ontology = get_ontology(prefix, force=force, strict=strict, version=version)\n",
      "               ^^^^^^^^^^^^^^^^^^^^^^^^^^^^^^^^^^^^^^^^^^^^^^^^^^^^^^^^^^^^^^^^^\n",
      "  File \"/Users/cthoyt/dev/pyobo/src/pyobo/identifier_utils.py\", line 115, in _wrapped\n",
      "    return f(norm_prefix, *args, **kwargs)\n",
      "           ^^^^^^^^^^^^^^^^^^^^^^^^^^^^^^^\n",
      "  File \"/Users/cthoyt/dev/pyobo/src/pyobo/getters.py\", line 127, in get_ontology\n",
      "    robot.convert(path, _converted_obo_path, check=robot_check)\n",
      "  File \"/Users/cthoyt/dev/bioontologies/src/bioontologies/robot.py\", line 499, in convert\n",
      "    ret = check_output(  # noqa:S603\n",
      "          ^^^^^^^^^^^^^^^^^^^^^^^^^^\n",
      "  File \"/opt/homebrew/Cellar/python@3.11/3.11.7_2/Frameworks/Python.framework/Versions/3.11/lib/python3.11/subprocess.py\", line 466, in check_output\n",
      "    return run(*popenargs, stdout=PIPE, timeout=timeout, check=True,\n",
      "           ^^^^^^^^^^^^^^^^^^^^^^^^^^^^^^^^^^^^^^^^^^^^^^^^^^^^^^^^^\n",
      "  File \"/opt/homebrew/Cellar/python@3.11/3.11.7_2/Frameworks/Python.framework/Versions/3.11/lib/python3.11/subprocess.py\", line 571, in run\n",
      "    raise CalledProcessError(retcode, process.args,\n",
      "subprocess.CalledProcessError: Command '['java', '-jar', '/Users/cthoyt/.data/robot/robot.jar', 'merge', '-i', '/Users/cthoyt/.data/pyobo/raw/icdo/icdo.owl', 'convert', '-o', '/Users/cthoyt/.data/pyobo/raw/icdo/icdo.obo']' returned non-zero exit status 1.\n"
     ]
    },
    {
     "name": "stdout",
     "output_type": "stream",
     "text": [
      "icdo 0\n"
     ]
    }
   ],
   "source": [
    "# some resources are generic, so we want to cut to a relevant subset\n",
    "subsets = {\n",
    "    \"mesh\": [*get_mesh_category_curies(\"C\"), *get_mesh_category_curies(\"F\")],\n",
    "    \"efo\": [\"efo:0000408\"],\n",
    "    \"ncit\": [\"ncit:C2991\"],\n",
    "}\n",
    "\n",
    "terms = {}\n",
    "for prefix in CONFIGURATION.priority:\n",
    "    id_name_mapping = pyobo.get_id_name_mapping(prefix)\n",
    "    print(prefix, len(id_name_mapping))\n",
    "    subset = {\n",
    "        descendant\n",
    "        for parent_curie in subsets.get(prefix, [])\n",
    "        for descendant in pyobo.get_descendants(parent_curie) or []\n",
    "    }\n",
    "    if subset:\n",
    "        terms[prefix] = {k: v for k, v in id_name_mapping.items() if f\"{prefix}:{k}\" in subset}\n",
    "    else:\n",
    "        terms[prefix] = id_name_mapping"
   ]
  },
  {
   "cell_type": "code",
   "execution_count": 3,
   "id": "83473bd5-cff6-436d-976e-2f99152a8e0b",
   "metadata": {},
   "outputs": [
    {
     "ename": "KeyError",
     "evalue": "'orphanet'",
     "output_type": "error",
     "traceback": [
      "\u001b[0;31m---------------------------------------------------------------------------\u001b[0m",
      "\u001b[0;31mKeyError\u001b[0m                                  Traceback (most recent call last)",
      "Cell \u001b[0;32mIn[3], line 2\u001b[0m\n\u001b[1;32m      1\u001b[0m no_versions \u001b[38;5;241m=\u001b[39m {\u001b[38;5;124m\"\u001b[39m\u001b[38;5;124momim.ps\u001b[39m\u001b[38;5;124m\"\u001b[39m, \u001b[38;5;124m\"\u001b[39m\u001b[38;5;124micd10\u001b[39m\u001b[38;5;124m\"\u001b[39m, \u001b[38;5;124m\"\u001b[39m\u001b[38;5;124micd9\u001b[39m\u001b[38;5;124m\"\u001b[39m, \u001b[38;5;124m\"\u001b[39m\u001b[38;5;124micd11\u001b[39m\u001b[38;5;124m\"\u001b[39m, \u001b[38;5;124m\"\u001b[39m\u001b[38;5;124micd10cm\u001b[39m\u001b[38;5;124m\"\u001b[39m, \u001b[38;5;124m\"\u001b[39m\u001b[38;5;124micd10pcs\u001b[39m\u001b[38;5;124m\"\u001b[39m, \u001b[38;5;124m\"\u001b[39m\u001b[38;5;124micd9cm\u001b[39m\u001b[38;5;124m\"\u001b[39m, \u001b[38;5;124m\"\u001b[39m\u001b[38;5;124micdo\u001b[39m\u001b[38;5;124m\"\u001b[39m, \u001b[38;5;124m\"\u001b[39m\u001b[38;5;124mgard\u001b[39m\u001b[38;5;124m\"\u001b[39m, \u001b[38;5;124m'\u001b[39m\u001b[38;5;124momim\u001b[39m\u001b[38;5;124m'\u001b[39m}\n\u001b[0;32m----> 2\u001b[0m summary_rows \u001b[38;5;241m=\u001b[39m \u001b[43m[\u001b[49m\n\u001b[1;32m      3\u001b[0m \u001b[43m    \u001b[49m\u001b[43m(\u001b[49m\n\u001b[1;32m      4\u001b[0m \u001b[43m        \u001b[49m\u001b[43mprefix\u001b[49m\u001b[43m,\u001b[49m\n\u001b[1;32m      5\u001b[0m \u001b[43m        \u001b[49m\u001b[43mbioregistry\u001b[49m\u001b[38;5;241;43m.\u001b[39;49m\u001b[43mget_license\u001b[49m\u001b[43m(\u001b[49m\u001b[43mprefix\u001b[49m\u001b[43m)\u001b[49m\u001b[43m,\u001b[49m\n\u001b[1;32m      6\u001b[0m \u001b[43m        \u001b[49m\u001b[43mbioversions\u001b[49m\u001b[38;5;241;43m.\u001b[39;49m\u001b[43mget_version\u001b[49m\u001b[43m(\u001b[49m\u001b[43mprefix\u001b[49m\u001b[43m)\u001b[49m\u001b[43m \u001b[49m\u001b[38;5;28;43;01mif\u001b[39;49;00m\u001b[43m \u001b[49m\u001b[43mprefix\u001b[49m\u001b[43m \u001b[49m\u001b[38;5;129;43;01mnot\u001b[39;49;00m\u001b[43m \u001b[49m\u001b[38;5;129;43;01min\u001b[39;49;00m\u001b[43m \u001b[49m\u001b[43mno_versions\u001b[49m\u001b[43m \u001b[49m\u001b[38;5;28;43;01melse\u001b[39;49;00m\u001b[43m \u001b[49m\u001b[38;5;28;43;01mNone\u001b[39;49;00m\u001b[43m,\u001b[49m\n\u001b[1;32m      7\u001b[0m \u001b[43m        \u001b[49m\u001b[38;5;28;43mlen\u001b[39;49m\u001b[43m(\u001b[49m\u001b[43mterms\u001b[49m\u001b[38;5;241;43m.\u001b[39;49m\u001b[43mget\u001b[49m\u001b[43m(\u001b[49m\u001b[43mprefix\u001b[49m\u001b[43m,\u001b[49m\u001b[43m \u001b[49m\u001b[43m[\u001b[49m\u001b[43m]\u001b[49m\u001b[43m)\u001b[49m\u001b[43m)\u001b[49m\u001b[43m,\u001b[49m\n\u001b[1;32m      8\u001b[0m \u001b[43m    \u001b[49m\u001b[43m)\u001b[49m\n\u001b[1;32m      9\u001b[0m \u001b[43m    \u001b[49m\u001b[38;5;28;43;01mfor\u001b[39;49;00m\u001b[43m \u001b[49m\u001b[43mprefix\u001b[49m\u001b[43m \u001b[49m\u001b[38;5;129;43;01min\u001b[39;49;00m\u001b[43m \u001b[49m\u001b[43mCONFIGURATION\u001b[49m\u001b[38;5;241;43m.\u001b[39;49m\u001b[43mpriority\u001b[49m\n\u001b[1;32m     10\u001b[0m \u001b[43m]\u001b[49m\n\u001b[1;32m     11\u001b[0m summary_df \u001b[38;5;241m=\u001b[39m pd\u001b[38;5;241m.\u001b[39mDataFrame(summary_rows, columns\u001b[38;5;241m=\u001b[39m[\u001b[38;5;124m\"\u001b[39m\u001b[38;5;124mprefix\u001b[39m\u001b[38;5;124m\"\u001b[39m, \u001b[38;5;124m\"\u001b[39m\u001b[38;5;124mlicense\u001b[39m\u001b[38;5;124m\"\u001b[39m, \u001b[38;5;124m\"\u001b[39m\u001b[38;5;124mversion\u001b[39m\u001b[38;5;124m\"\u001b[39m, \u001b[38;5;124m\"\u001b[39m\u001b[38;5;124mterms\u001b[39m\u001b[38;5;124m\"\u001b[39m])\n\u001b[1;32m     12\u001b[0m summary_df\n",
      "Cell \u001b[0;32mIn[3], line 6\u001b[0m, in \u001b[0;36m<listcomp>\u001b[0;34m(.0)\u001b[0m\n\u001b[1;32m      1\u001b[0m no_versions \u001b[38;5;241m=\u001b[39m {\u001b[38;5;124m\"\u001b[39m\u001b[38;5;124momim.ps\u001b[39m\u001b[38;5;124m\"\u001b[39m, \u001b[38;5;124m\"\u001b[39m\u001b[38;5;124micd10\u001b[39m\u001b[38;5;124m\"\u001b[39m, \u001b[38;5;124m\"\u001b[39m\u001b[38;5;124micd9\u001b[39m\u001b[38;5;124m\"\u001b[39m, \u001b[38;5;124m\"\u001b[39m\u001b[38;5;124micd11\u001b[39m\u001b[38;5;124m\"\u001b[39m, \u001b[38;5;124m\"\u001b[39m\u001b[38;5;124micd10cm\u001b[39m\u001b[38;5;124m\"\u001b[39m, \u001b[38;5;124m\"\u001b[39m\u001b[38;5;124micd10pcs\u001b[39m\u001b[38;5;124m\"\u001b[39m, \u001b[38;5;124m\"\u001b[39m\u001b[38;5;124micd9cm\u001b[39m\u001b[38;5;124m\"\u001b[39m, \u001b[38;5;124m\"\u001b[39m\u001b[38;5;124micdo\u001b[39m\u001b[38;5;124m\"\u001b[39m, \u001b[38;5;124m\"\u001b[39m\u001b[38;5;124mgard\u001b[39m\u001b[38;5;124m\"\u001b[39m, \u001b[38;5;124m'\u001b[39m\u001b[38;5;124momim\u001b[39m\u001b[38;5;124m'\u001b[39m}\n\u001b[1;32m      2\u001b[0m summary_rows \u001b[38;5;241m=\u001b[39m [\n\u001b[1;32m      3\u001b[0m     (\n\u001b[1;32m      4\u001b[0m         prefix,\n\u001b[1;32m      5\u001b[0m         bioregistry\u001b[38;5;241m.\u001b[39mget_license(prefix),\n\u001b[0;32m----> 6\u001b[0m         \u001b[43mbioversions\u001b[49m\u001b[38;5;241;43m.\u001b[39;49m\u001b[43mget_version\u001b[49m\u001b[43m(\u001b[49m\u001b[43mprefix\u001b[49m\u001b[43m)\u001b[49m \u001b[38;5;28;01mif\u001b[39;00m prefix \u001b[38;5;129;01mnot\u001b[39;00m \u001b[38;5;129;01min\u001b[39;00m no_versions \u001b[38;5;28;01melse\u001b[39;00m \u001b[38;5;28;01mNone\u001b[39;00m,\n\u001b[1;32m      7\u001b[0m         \u001b[38;5;28mlen\u001b[39m(terms\u001b[38;5;241m.\u001b[39mget(prefix, [])),\n\u001b[1;32m      8\u001b[0m     )\n\u001b[1;32m      9\u001b[0m     \u001b[38;5;28;01mfor\u001b[39;00m prefix \u001b[38;5;129;01min\u001b[39;00m CONFIGURATION\u001b[38;5;241m.\u001b[39mpriority\n\u001b[1;32m     10\u001b[0m ]\n\u001b[1;32m     11\u001b[0m summary_df \u001b[38;5;241m=\u001b[39m pd\u001b[38;5;241m.\u001b[39mDataFrame(summary_rows, columns\u001b[38;5;241m=\u001b[39m[\u001b[38;5;124m\"\u001b[39m\u001b[38;5;124mprefix\u001b[39m\u001b[38;5;124m\"\u001b[39m, \u001b[38;5;124m\"\u001b[39m\u001b[38;5;124mlicense\u001b[39m\u001b[38;5;124m\"\u001b[39m, \u001b[38;5;124m\"\u001b[39m\u001b[38;5;124mversion\u001b[39m\u001b[38;5;124m\"\u001b[39m, \u001b[38;5;124m\"\u001b[39m\u001b[38;5;124mterms\u001b[39m\u001b[38;5;124m\"\u001b[39m])\n\u001b[1;32m     12\u001b[0m summary_df\n",
      "File \u001b[0;32m~/dev/bioversions/src/bioversions/sources/__init__.py:180\u001b[0m, in \u001b[0;36mget_version\u001b[0;34m(name)\u001b[0m\n\u001b[1;32m    178\u001b[0m \u001b[38;5;28;01mdef\u001b[39;00m \u001b[38;5;21mget_version\u001b[39m(name: \u001b[38;5;28mstr\u001b[39m) \u001b[38;5;241m-\u001b[39m\u001b[38;5;241m>\u001b[39m \u001b[38;5;28mstr\u001b[39m:\n\u001b[1;32m    179\u001b[0m \u001b[38;5;250m    \u001b[39m\u001b[38;5;124;03m\"\"\"Resolve a database name to its version string.\"\"\"\u001b[39;00m\n\u001b[0;32m--> 180\u001b[0m     \u001b[38;5;28;01mreturn\u001b[39;00m \u001b[43mresolve\u001b[49m\u001b[43m(\u001b[49m\u001b[43mname\u001b[49m\u001b[43m)\u001b[49m\u001b[38;5;241m.\u001b[39mversion\n",
      "File \u001b[0;32m~/dev/bioversions/src/bioversions/sources/__init__.py:162\u001b[0m, in \u001b[0;36mresolve\u001b[0;34m(name, use_cache)\u001b[0m\n\u001b[1;32m    160\u001b[0m \u001b[38;5;250m\u001b[39m\u001b[38;5;124;03m\"\"\"Resolve the database name to a :class:`Bioversion` instance.\"\"\"\u001b[39;00m\n\u001b[1;32m    161\u001b[0m \u001b[38;5;28;01mif\u001b[39;00m use_cache:\n\u001b[0;32m--> 162\u001b[0m     \u001b[38;5;28;01mreturn\u001b[39;00m \u001b[43m_resolve_helper_cached\u001b[49m\u001b[43m(\u001b[49m\u001b[43mname\u001b[49m\u001b[43m)\u001b[49m\n\u001b[1;32m    163\u001b[0m \u001b[38;5;28;01melse\u001b[39;00m:\n\u001b[1;32m    164\u001b[0m     \u001b[38;5;28;01mreturn\u001b[39;00m _resolve_helper(name)\n",
      "File \u001b[0;32m~/.virtualenvs/indra/lib/python3.11/site-packages/cachier/core.py:312\u001b[0m, in \u001b[0;36mcachier.<locals>._cachier_decorator.<locals>.func_wrapper\u001b[0;34m(*args, **kwds)\u001b[0m\n\u001b[1;32m    310\u001b[0m             \u001b[38;5;28;01mreturn\u001b[39;00m _calc_entry(core, key, func, args, kwds)\n\u001b[1;32m    311\u001b[0m _print(\u001b[38;5;124m'\u001b[39m\u001b[38;5;124mNo entry found. No current calc. Calling like a boss.\u001b[39m\u001b[38;5;124m'\u001b[39m)\n\u001b[0;32m--> 312\u001b[0m \u001b[38;5;28;01mreturn\u001b[39;00m \u001b[43m_calc_entry\u001b[49m\u001b[43m(\u001b[49m\u001b[43mcore\u001b[49m\u001b[43m,\u001b[49m\u001b[43m \u001b[49m\u001b[43mkey\u001b[49m\u001b[43m,\u001b[49m\u001b[43m \u001b[49m\u001b[43mfunc\u001b[49m\u001b[43m,\u001b[49m\u001b[43m \u001b[49m\u001b[43margs\u001b[49m\u001b[43m,\u001b[49m\u001b[43m \u001b[49m\u001b[43mkwds\u001b[49m\u001b[43m)\u001b[49m\n",
      "File \u001b[0;32m~/.virtualenvs/indra/lib/python3.11/site-packages/cachier/core.py:75\u001b[0m, in \u001b[0;36m_calc_entry\u001b[0;34m(core, key, func, args, kwds)\u001b[0m\n\u001b[1;32m     73\u001b[0m core\u001b[38;5;241m.\u001b[39mmark_entry_being_calculated(key)\n\u001b[1;32m     74\u001b[0m \u001b[38;5;66;03m# _get_executor().submit(core.mark_entry_being_calculated, key)\u001b[39;00m\n\u001b[0;32m---> 75\u001b[0m func_res \u001b[38;5;241m=\u001b[39m \u001b[43mfunc\u001b[49m\u001b[43m(\u001b[49m\u001b[38;5;241;43m*\u001b[39;49m\u001b[43margs\u001b[49m\u001b[43m,\u001b[49m\u001b[43m \u001b[49m\u001b[38;5;241;43m*\u001b[39;49m\u001b[38;5;241;43m*\u001b[39;49m\u001b[43mkwds\u001b[49m\u001b[43m)\u001b[49m\n\u001b[1;32m     76\u001b[0m core\u001b[38;5;241m.\u001b[39mset_entry(key, func_res)\n\u001b[1;32m     77\u001b[0m \u001b[38;5;66;03m# _get_executor().submit(core.set_entry, key, func_res)\u001b[39;00m\n",
      "File \u001b[0;32m~/dev/bioversions/src/bioversions/sources/__init__.py:169\u001b[0m, in \u001b[0;36m_resolve_helper_cached\u001b[0;34m(name)\u001b[0m\n\u001b[1;32m    167\u001b[0m \u001b[38;5;129m@refresh_daily\u001b[39m\n\u001b[1;32m    168\u001b[0m \u001b[38;5;28;01mdef\u001b[39;00m \u001b[38;5;21m_resolve_helper_cached\u001b[39m(name: \u001b[38;5;28mstr\u001b[39m) \u001b[38;5;241m-\u001b[39m\u001b[38;5;241m>\u001b[39m Bioversion:\n\u001b[0;32m--> 169\u001b[0m     \u001b[38;5;28;01mreturn\u001b[39;00m \u001b[43m_resolve_helper\u001b[49m\u001b[43m(\u001b[49m\u001b[43mname\u001b[49m\u001b[43m)\u001b[49m\n",
      "File \u001b[0;32m~/dev/bioversions/src/bioversions/sources/__init__.py:174\u001b[0m, in \u001b[0;36m_resolve_helper\u001b[0;34m(name)\u001b[0m\n\u001b[1;32m    172\u001b[0m \u001b[38;5;28;01mdef\u001b[39;00m \u001b[38;5;21m_resolve_helper\u001b[39m(name: \u001b[38;5;28mstr\u001b[39m) \u001b[38;5;241m-\u001b[39m\u001b[38;5;241m>\u001b[39m Bioversion:\n\u001b[1;32m    173\u001b[0m     norm_name \u001b[38;5;241m=\u001b[39m norm(name)\n\u001b[0;32m--> 174\u001b[0m     getter: Type[Getter] \u001b[38;5;241m=\u001b[39m \u001b[43mget_getter_dict\u001b[49m\u001b[43m(\u001b[49m\u001b[43m)\u001b[49m\u001b[43m[\u001b[49m\u001b[43mnorm_name\u001b[49m\u001b[43m]\u001b[49m\n\u001b[1;32m    175\u001b[0m     \u001b[38;5;28;01mreturn\u001b[39;00m getter\u001b[38;5;241m.\u001b[39mresolve()\n",
      "\u001b[0;31mKeyError\u001b[0m: 'orphanet'"
     ]
    }
   ],
   "source": [
    "no_versions = {\"omim.ps\", \"icd10\", \"icd9\", \"icd11\", \"icd10cm\", \"icd10pcs\", \"icd9cm\", \"icdo\", \"gard\", \"omim\"}\n",
    "summary_rows = [\n",
    "    (\n",
    "        prefix,\n",
    "        bioregistry.get_license(prefix),\n",
    "        bioversions.get_version(prefix) if prefix not in no_versions else None,\n",
    "        len(terms.get(prefix, [])),\n",
    "    )\n",
    "    for prefix in CONFIGURATION.priority\n",
    "]\n",
    "summary_df = pd.DataFrame(summary_rows, columns=[\"prefix\", \"license\", \"version\", \"terms\"])\n",
    "summary_df"
   ]
  },
  {
   "cell_type": "markdown",
   "id": "502c0b22-ae2d-431d-b60e-0bf29f5bec40",
   "metadata": {},
   "source": [
    "## Summarize the Mappings"
   ]
  },
  {
   "cell_type": "code",
   "execution_count": null,
   "id": "5ad9b3e0-d1fc-4c7e-8542-5eafe880862a",
   "metadata": {},
   "outputs": [],
   "source": [
    "mappings = from_pickle(MODULE.join(name=\"processed.pkl\"))\n",
    "processed_n = len(mappings)\n",
    "processed_n"
   ]
  },
  {
   "cell_type": "code",
   "execution_count": null,
   "id": "cb65193c-6432-4c04-9726-7989545dca80",
   "metadata": {},
   "outputs": [],
   "source": [
    "# Remove many-to-many mappings since it overinflates\n",
    "# mappings = semra.api.filter_many_to_many(mappings, progress=False)\n",
    "# filtered_n = len(mappings)\n",
    "# filtered_n\n",
    "\n",
    "# TODO filter out many-to-many mappings before starting -\n",
    "# using the typical function doesn't work since there is"
   ]
  },
  {
   "cell_type": "code",
   "execution_count": null,
   "id": "37727007-70e8-4152-89b7-b971729246a4",
   "metadata": {},
   "outputs": [],
   "source": [
    "index = get_index(mappings, progress=False)"
   ]
  },
  {
   "cell_type": "code",
   "execution_count": null,
   "id": "4f4410a1-15a2-49d5-9b71-0df151206f66",
   "metadata": {},
   "outputs": [],
   "source": [
    "directed = defaultdict(set)\n",
    "for s, p, o in index:\n",
    "    if p != semra.EXACT_MATCH:\n",
    "        continue\n",
    "    directed[s.prefix, o.prefix].add(s.identifier)\n",
    "    directed[o.prefix, s.prefix].add(o.identifier)"
   ]
  },
  {
   "cell_type": "markdown",
   "id": "11608622-55b2-45ea-8622-66ecd3326ae7",
   "metadata": {},
   "source": [
    "### Asymmetric Summarization\n",
    "\n",
    "The following summary looks for each ordered pair of resources, what percentage of each resources' terms are mapped to the other resource. Because each resource is a different size, this is an asymmetric measurement.\n",
    "\n",
    "The way to read this table is the horizontal index corresponds to the source prefix and the columns correspond to the target prefix. This means in the row with label \"efo\" and column with label \"mesh\" that has 14% means that 14% of EFO can be mapped to MeSH."
   ]
  },
  {
   "cell_type": "code",
   "execution_count": null,
   "id": "6ec482e9-a7dd-4484-a5c6-7f237913e970",
   "metadata": {},
   "outputs": [],
   "source": [
    "def _df(xx, default=1.0):\n",
    "    rows = [\n",
    "        [default if p1 == p2 else xx.get((p1, p2), None) for p2 in CONFIGURATION.priority]\n",
    "        for p1 in CONFIGURATION.priority\n",
    "    ]\n",
    "    df = pd.DataFrame(rows, columns=CONFIGURATION.priority, index=CONFIGURATION.priority)\n",
    "    df.index.name = \"source_prefix\"\n",
    "    df.columns.name = \"target_prefix\"\n",
    "    return df"
   ]
  },
  {
   "cell_type": "code",
   "execution_count": null,
   "id": "b30cdd5d-1c2c-49ed-9f01-ea2714530866",
   "metadata": {},
   "outputs": [],
   "source": [
    "asymmetric_counts = {}\n",
    "for (l, r), l_entities in directed.items():\n",
    "    l_terms = terms.get(l)\n",
    "    if l_terms:\n",
    "        count = len(l_entities.intersection(l_terms))\n",
    "    else:\n",
    "        count = len(l_entities)\n",
    "    asymmetric_counts[l, r] = count\n",
    "\n",
    "asymmetric_counts_summary_df = _df(asymmetric_counts, default=0).fillna(0).astype(int)\n",
    "asymmetric_counts_summary_df"
   ]
  },
  {
   "cell_type": "code",
   "execution_count": null,
   "id": "834a7d07-748c-48a0-b3a1-d8784402e8a4",
   "metadata": {},
   "outputs": [],
   "source": [
    "def _graph_svg(counter, scaling_factor: float = 3.0, fmt=\",\", cls=nx.DiGraph, cutoff=0.0):\n",
    "    graph = cls()\n",
    "    for (s, t), count in counter.items():\n",
    "        if not count:\n",
    "            continue\n",
    "        if count <= cutoff:\n",
    "            continue\n",
    "        graph.add_edge(s, t, label=f\"{count:{fmt}}\")\n",
    "\n",
    "    agraph = nx.nx_agraph.to_agraph(graph)\n",
    "    agraph.graph_attr[\"rankdir\"] = \"LR\"\n",
    "\n",
    "    values = [v for v in counter.values() if v is not None and v > 0]\n",
    "    bottom, top = min(values), max(values)\n",
    "    rr = top - bottom\n",
    "\n",
    "    for edge, weight in counter.items():\n",
    "        if not weight:\n",
    "            continue\n",
    "        x = 1 + scaling_factor * (weight - bottom) / rr\n",
    "        if agraph.has_edge(*edge):\n",
    "            agraph.get_edge(*edge).attr[\"penwidth\"] = x\n",
    "    return agraph.draw(prog=\"dot\", format=\"svg\")\n",
    "\n",
    "\n",
    "SVG(_graph_svg(asymmetric_counts, cutoff=5))"
   ]
  },
  {
   "cell_type": "code",
   "execution_count": null,
   "id": "20c48e15-b106-4326-8eb3-299c05ba1c51",
   "metadata": {},
   "outputs": [],
   "source": [
    "asymmetric = {}\n",
    "for (l, r), count in asymmetric_counts.items():\n",
    "    denominator = len(terms.get(l, []))\n",
    "    asymmetric[l, r] = count / denominator if denominator > 0 else None\n",
    "\n",
    "asymmetric_summary_df = _df(asymmetric)\n",
    "(asymmetric_summary_df * 100).round(2)"
   ]
  },
  {
   "cell_type": "code",
   "execution_count": null,
   "id": "ad6b83d8-c8d0-4e46-b4f2-0d4868361ed7",
   "metadata": {},
   "outputs": [],
   "source": [
    "SVG(_graph_svg(asymmetric, fmt=\".1%\"))"
   ]
  },
  {
   "cell_type": "markdown",
   "id": "9a058918-4039-4fbb-adb9-e4e639ad5b89",
   "metadata": {},
   "source": [
    "### Symmetric Summarization"
   ]
  },
  {
   "cell_type": "code",
   "execution_count": null,
   "id": "6b3a831b-a956-4878-960f-34b763bfce03",
   "metadata": {},
   "outputs": [],
   "source": [
    "symmetric_counts = {}\n",
    "for l, r in directed:\n",
    "    left = directed[l, r]\n",
    "    if left_terms := terms.get(l, []):\n",
    "        left.intersection_update(left_terms)\n",
    "    right = directed[r, l]\n",
    "    if right_terms := terms.get(r, []):\n",
    "        right.intersection_update(right_terms)\n",
    "    symmetric_counts[l, r] = max(len(left), len(right))\n",
    "_df(symmetric_counts, default=0).fillna(0).astype(int)"
   ]
  },
  {
   "cell_type": "code",
   "execution_count": null,
   "id": "842ea416-9a63-40b1-93e7-58b4c7594214",
   "metadata": {},
   "outputs": [],
   "source": [
    "x = _graph_svg(symmetric_counts, cls=nx.Graph, cutoff=20)\n",
    "with open(\"disease_graph.svg\", \"wb\") as file:\n",
    "    file.write(x)\n",
    "SVG(x)"
   ]
  },
  {
   "cell_type": "code",
   "execution_count": null,
   "id": "8fca2912-8e0b-40bd-aea9-b774952a4049",
   "metadata": {},
   "outputs": [],
   "source": [
    "# intersect with the terms for each to make sure we're not keeping any mappings that are irrelevant\n",
    "\n",
    "symmetric = {}\n",
    "for (l, r), count in symmetric_counts.items():\n",
    "    if terms[r] and terms[l]:\n",
    "        denom = min(len(terms[r]), len(terms[l]))\n",
    "    elif terms[r]:\n",
    "        denom = len(terms[r])\n",
    "    elif terms[l]:\n",
    "        denom = len(terms[l])\n",
    "    else:\n",
    "        denom = 1\n",
    "    symmetric[l, r] = count / denom\n",
    "\n",
    "symmetric_df = _df(symmetric).fillna(0.0)\n",
    "\n",
    "# clip since there might be some artifacts of mappings to terms that don't exist anymore\n",
    "(symmetric_df * 100).round(4)"
   ]
  },
  {
   "cell_type": "code",
   "execution_count": null,
   "id": "d6b9cd03-7086-4e07-b34c-d476c308976e",
   "metadata": {},
   "outputs": [],
   "source": [
    "SVG(_graph_svg(symmetric, cls=nx.Graph, fmt=\".2%\", cutoff=0.01))"
   ]
  },
  {
   "cell_type": "markdown",
   "id": "1d2ef3f4-8f58-4920-953b-f0f94ae20415",
   "metadata": {},
   "source": [
    "# Landscape Coverage\n",
    "\n",
    "Before, we looked at the overlaps between each resource. Now, we use that information jointly to estimate the number of terms in the landscape itself, and estimate how much of the landscape each resource covers."
   ]
  },
  {
   "cell_type": "code",
   "execution_count": null,
   "id": "812c4348-1dba-42cf-8197-0139249274a9",
   "metadata": {},
   "outputs": [],
   "source": [
    "entities = defaultdict(set)\n",
    "for mapping in mappings:\n",
    "    for r in (mapping.s, mapping.o):\n",
    "        entities[r.prefix].add(r.identifier)\n",
    "\n",
    "counter = Counter()\n",
    "graph = to_multidigraph(mappings)\n",
    "for component in nx.weakly_connected_components(graph):\n",
    "    prefixes = frozenset(r.prefix for r in component)\n",
    "    counter[prefixes] += 1\n",
    "\n",
    "at_least_1_mapping = sum(counter.values())\n",
    "\n",
    "unique_to_single = defaultdict(set)\n",
    "for prefix in CONFIGURATION.priority:\n",
    "    prefix_terms = terms.get(prefix)\n",
    "    if not prefix_terms:\n",
    "        continue\n",
    "\n",
    "    prefix_terms = set(prefix_terms)\n",
    "    mapped_terms = entities[prefix]\n",
    "    counter[frozenset([prefix])] = unique_to_single[prefix] = len(prefix_terms - mapped_terms)\n",
    "\n",
    "only_1_mapping = sum(unique_to_single.values())\n",
    "conserved = counter[frozenset(CONFIGURATION.priority)]\n",
    "total_entity_estimate = sum(counter.values())\n",
    "\n",
    "print(\n",
    "    f\"This estimates a total of {total_entity_estimate:,} unique entities.\\n\"\n",
    "    f\"Of these, {at_least_1_mapping:,} ({at_least_1_mapping/total_entity_estimate:.1%}) have at least one mapping.\\n\"\n",
    "    f\"{only_1_mapping:,} ({only_1_mapping/total_entity_estimate:.1%}) are unique to a single resource.\\n\"\n",
    "    f\"{conserved:,} ({conserved/total_entity_estimate:.1%}) appear in all {len(CONFIGURATION.priority)} resources.\\n\\n\"\n",
    "    \"This estimate is susceptible to several caveats:\\n\\n\"\n",
    "    \"- Missing mappings inflates this measurement\\n\"\n",
    "    \"- Generic resources like MeSH contain irrelevant entities that can't be mapped\\n\"\n",
    ")"
   ]
  },
  {
   "cell_type": "code",
   "execution_count": null,
   "id": "1e5e6a85-371e-49e0-987f-1cc7cf8f4500",
   "metadata": {},
   "outputs": [],
   "source": [
    "import upsetplot\n",
    "\n",
    "example = upsetplot.from_memberships(*zip(*counter.most_common()))\n",
    "\n",
    "\"\"\"Here's what the output from upsetplot.plot looks like:\n",
    "\n",
    "{'matrix': <Axes: >,\n",
    " 'shading': <Axes: >,\n",
    " 'totals': <Axes: >,\n",
    " 'intersections': <Axes: ylabel='Intersection size'>}\n",
    "\"\"\"\n",
    "plot_result = upsetplot.plot(\n",
    "    example,\n",
    "    # show_counts=True,\n",
    ")\n",
    "plot_result[\"intersections\"].set_yscale(\"log\")\n",
    "plot_result[\"intersections\"].set_ylim([1, plot_result[\"intersections\"].get_ylim()[1]])\n",
    "# plot_result[\"totals\"].set_xlabel(\"Size\")\n",
    "mm, _ = plot_result[\"totals\"].get_xlim()\n",
    "plot_result[\"totals\"].set_xlim([mm, 1])\n",
    "plot_result[\"totals\"].set_xscale(\"log\")  # gets domain error\n",
    "\n",
    "plt.tight_layout()\n",
    "plt.savefig(\"disease_upset.svg\")\n",
    "plt.show()"
   ]
  },
  {
   "cell_type": "code",
   "execution_count": null,
   "id": "2e7e27d8-13a9-4da7-95b4-da3a415f8fa1",
   "metadata": {},
   "outputs": [],
   "source": [
    "vv = Counter()\n",
    "for k, v in counter.items():\n",
    "    vv[len(k)] += v\n",
    "\n",
    "max_value = max(vv.values())\n",
    "\n",
    "fig, ax = plt.subplots(figsize=(4, 2.7))\n",
    "sns.barplot(vv, ax=ax)\n",
    "\n",
    "for index, value in vv.items():\n",
    "    plt.text(index - 1, value + 0.2, f\"{value:,}\\n({value/total_entity_estimate:.1%})\", ha=\"center\", va=\"bottom\")\n",
    "\n",
    "ax.set_xlabel(\"# Resources a Concept Appears in\")\n",
    "ax.set_ylabel(\"Count\")\n",
    "ax.set_title(f\"Landscape of {total_entity_estimate:,}\\nUnique Concepts\")\n",
    "ax.set_yscale(\"log\")\n",
    "a, b = ax.get_ylim()\n",
    "# since we're in a log scale, pad half of the max value to the top to make sure\n",
    "# the counts fit in the box\n",
    "ax.set_ylim([a, b + 1.7 * max_value])\n",
    "plt.tight_layout()\n",
    "plt.savefig(\"disease_histogram.svg\")\n",
    "plt.show()"
   ]
  }
 ],
 "metadata": {
  "kernelspec": {
   "display_name": "Python 3 (ipykernel)",
   "language": "python",
   "name": "python3"
  },
  "language_info": {
   "codemirror_mode": {
    "name": "ipython",
    "version": 3
   },
   "file_extension": ".py",
   "mimetype": "text/x-python",
   "name": "python",
   "nbconvert_exporter": "python",
   "pygments_lexer": "ipython3",
   "version": "3.11.7"
  }
 },
 "nbformat": 4,
 "nbformat_minor": 5
}
