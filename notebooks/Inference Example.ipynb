{
 "cells": [
  {
   "cell_type": "markdown",
   "id": "2430cb18-6f43-497b-9f5e-0a6ed572e880",
   "metadata": {},
   "source": [
    "# Simple Inference Example\n",
    "\n",
    "This gives an example on inferring inverses and chains starting with a very simple setup."
   ]
  },
  {
   "cell_type": "code",
   "execution_count": 1,
   "id": "b2b9a105-0423-4d8f-b3d1-e455442dc96d",
   "metadata": {},
   "outputs": [
    {
     "data": {
      "text/html": [
       "<div>\n",
       "<style scoped>\n",
       "    .dataframe tbody tr th:only-of-type {\n",
       "        vertical-align: middle;\n",
       "    }\n",
       "\n",
       "    .dataframe tbody tr th {\n",
       "        vertical-align: top;\n",
       "    }\n",
       "\n",
       "    .dataframe thead th {\n",
       "        text-align: right;\n",
       "    }\n",
       "</style>\n",
       "<table border=\"1\" class=\"dataframe\">\n",
       "  <thead>\n",
       "    <tr style=\"text-align: right;\">\n",
       "      <th></th>\n",
       "      <th>subject_id</th>\n",
       "      <th>predicate_id</th>\n",
       "      <th>object_id</th>\n",
       "    </tr>\n",
       "  </thead>\n",
       "  <tbody>\n",
       "    <tr>\n",
       "      <th>0</th>\n",
       "      <td>A:1</td>\n",
       "      <td>skos:exactMatch</td>\n",
       "      <td>B:9</td>\n",
       "    </tr>\n",
       "    <tr>\n",
       "      <th>1</th>\n",
       "      <td>A:1</td>\n",
       "      <td>skos:exactMatch</td>\n",
       "      <td>C:6</td>\n",
       "    </tr>\n",
       "  </tbody>\n",
       "</table>\n",
       "</div>"
      ],
      "text/plain": [
       "  subject_id     predicate_id object_id\n",
       "0        A:1  skos:exactMatch       B:9\n",
       "1        A:1  skos:exactMatch       C:6"
      ]
     },
     "execution_count": 1,
     "metadata": {},
     "output_type": "execute_result"
    }
   ],
   "source": [
    "import pandas as pd\n",
    "import io\n",
    "\n",
    "text = \"\"\"\n",
    "subject_id,predicate_id,object_id\n",
    "A:1,skos:exactMatch,B:9\n",
    "A:1,skos:exactMatch,C:6\n",
    "\"\"\"\n",
    "\n",
    "df = pd.read_csv(io.StringIO(text))\n",
    "df"
   ]
  },
  {
   "cell_type": "code",
   "execution_count": 2,
   "id": "e6436d9f-5513-4ece-ad79-f216f18694d1",
   "metadata": {},
   "outputs": [
    {
     "data": {
      "application/vnd.jupyter.widget-view+json": {
       "model_id": "",
       "version_major": 2,
       "version_minor": 0
      },
      "text/plain": [
       "Loading SSSOM dataframe:   0%|          | 0.00/2.00 [00:00<?, ?row/s]"
      ]
     },
     "metadata": {},
     "output_type": "display_data"
    },
    {
     "data": {
      "application/vnd.jupyter.widget-view+json": {
       "model_id": "",
       "version_major": 2,
       "version_minor": 0
      },
      "text/plain": [
       "Preparing SSSOM:   0%|          | 0.00/2.00 [00:00<?, ?mapping/s]"
      ]
     },
     "metadata": {},
     "output_type": "display_data"
    },
    {
     "data": {
      "text/html": [
       "<div>\n",
       "<style scoped>\n",
       "    .dataframe tbody tr th:only-of-type {\n",
       "        vertical-align: middle;\n",
       "    }\n",
       "\n",
       "    .dataframe tbody tr th {\n",
       "        vertical-align: top;\n",
       "    }\n",
       "\n",
       "    .dataframe thead th {\n",
       "        text-align: right;\n",
       "    }\n",
       "</style>\n",
       "<table border=\"1\" class=\"dataframe\">\n",
       "  <thead>\n",
       "    <tr style=\"text-align: right;\">\n",
       "      <th></th>\n",
       "      <th>subject_id</th>\n",
       "      <th>predicate_id</th>\n",
       "      <th>object_id</th>\n",
       "      <th>mapping_justification</th>\n",
       "      <th>mapping_set</th>\n",
       "    </tr>\n",
       "  </thead>\n",
       "  <tbody>\n",
       "    <tr>\n",
       "      <th>0</th>\n",
       "      <td>A:1</td>\n",
       "      <td>skos:exactMatch</td>\n",
       "      <td>B:9</td>\n",
       "      <td>semapv:UnspecifiedMatching</td>\n",
       "      <td>test</td>\n",
       "    </tr>\n",
       "    <tr>\n",
       "      <th>1</th>\n",
       "      <td>A:1</td>\n",
       "      <td>skos:exactMatch</td>\n",
       "      <td>C:6</td>\n",
       "      <td>semapv:UnspecifiedMatching</td>\n",
       "      <td>test</td>\n",
       "    </tr>\n",
       "  </tbody>\n",
       "</table>\n",
       "</div>"
      ],
      "text/plain": [
       "  subject_id     predicate_id object_id       mapping_justification  \\\n",
       "0        A:1  skos:exactMatch       B:9  semapv:UnspecifiedMatching   \n",
       "1        A:1  skos:exactMatch       C:6  semapv:UnspecifiedMatching   \n",
       "\n",
       "  mapping_set  \n",
       "0        test  \n",
       "1        test  "
      ]
     },
     "execution_count": 2,
     "metadata": {},
     "output_type": "execute_result"
    }
   ],
   "source": [
    "from semra.io import from_sssom_df, get_sssom_df\n",
    "\n",
    "mappings = from_sssom_df(df, mapping_set_name=\"test\")\n",
    "\n",
    "get_sssom_df(mappings)"
   ]
  },
  {
   "cell_type": "code",
   "execution_count": 3,
   "id": "ffe28a43-d3ac-4aef-8486-6f80556ecdf9",
   "metadata": {},
   "outputs": [
    {
     "data": {
      "application/vnd.jupyter.widget-view+json": {
       "model_id": "",
       "version_major": 2,
       "version_minor": 0
      },
      "text/plain": [
       "Preparing SSSOM:   0%|          | 0.00/6.00 [00:00<?, ?mapping/s]"
      ]
     },
     "metadata": {},
     "output_type": "display_data"
    },
    {
     "data": {
      "text/html": [
       "<div>\n",
       "<style scoped>\n",
       "    .dataframe tbody tr th:only-of-type {\n",
       "        vertical-align: middle;\n",
       "    }\n",
       "\n",
       "    .dataframe tbody tr th {\n",
       "        vertical-align: top;\n",
       "    }\n",
       "\n",
       "    .dataframe thead th {\n",
       "        text-align: right;\n",
       "    }\n",
       "</style>\n",
       "<table border=\"1\" class=\"dataframe\">\n",
       "  <thead>\n",
       "    <tr style=\"text-align: right;\">\n",
       "      <th></th>\n",
       "      <th>subject_id</th>\n",
       "      <th>predicate_id</th>\n",
       "      <th>object_id</th>\n",
       "      <th>mapping_justification</th>\n",
       "      <th>mapping_set</th>\n",
       "      <th>comments</th>\n",
       "    </tr>\n",
       "  </thead>\n",
       "  <tbody>\n",
       "    <tr>\n",
       "      <th>0</th>\n",
       "      <td>A:1</td>\n",
       "      <td>skos:exactMatch</td>\n",
       "      <td>B:9</td>\n",
       "      <td>semapv:UnspecifiedMatching</td>\n",
       "      <td>test</td>\n",
       "      <td></td>\n",
       "    </tr>\n",
       "    <tr>\n",
       "      <th>1</th>\n",
       "      <td>B:9</td>\n",
       "      <td>skos:exactMatch</td>\n",
       "      <td>A:1</td>\n",
       "      <td>semapv:MappingInversion</td>\n",
       "      <td>test</td>\n",
       "      <td>A:1 B:9</td>\n",
       "    </tr>\n",
       "    <tr>\n",
       "      <th>2</th>\n",
       "      <td>A:1</td>\n",
       "      <td>skos:exactMatch</td>\n",
       "      <td>C:6</td>\n",
       "      <td>semapv:UnspecifiedMatching</td>\n",
       "      <td>test</td>\n",
       "      <td></td>\n",
       "    </tr>\n",
       "    <tr>\n",
       "      <th>3</th>\n",
       "      <td>C:6</td>\n",
       "      <td>skos:exactMatch</td>\n",
       "      <td>A:1</td>\n",
       "      <td>semapv:MappingInversion</td>\n",
       "      <td>test</td>\n",
       "      <td>A:1 C:6</td>\n",
       "    </tr>\n",
       "    <tr>\n",
       "      <th>4</th>\n",
       "      <td>B:9</td>\n",
       "      <td>skos:exactMatch</td>\n",
       "      <td>C:6</td>\n",
       "      <td>semapv:MappingChaining</td>\n",
       "      <td>test</td>\n",
       "      <td>B:9 A:1 C:6</td>\n",
       "    </tr>\n",
       "    <tr>\n",
       "      <th>5</th>\n",
       "      <td>C:6</td>\n",
       "      <td>skos:exactMatch</td>\n",
       "      <td>B:9</td>\n",
       "      <td>semapv:MappingChaining</td>\n",
       "      <td>test</td>\n",
       "      <td>B:9 A:1 C:6</td>\n",
       "    </tr>\n",
       "  </tbody>\n",
       "</table>\n",
       "</div>"
      ],
      "text/plain": [
       "  subject_id     predicate_id object_id       mapping_justification  \\\n",
       "0        A:1  skos:exactMatch       B:9  semapv:UnspecifiedMatching   \n",
       "1        B:9  skos:exactMatch       A:1     semapv:MappingInversion   \n",
       "2        A:1  skos:exactMatch       C:6  semapv:UnspecifiedMatching   \n",
       "3        C:6  skos:exactMatch       A:1     semapv:MappingInversion   \n",
       "4        B:9  skos:exactMatch       C:6      semapv:MappingChaining   \n",
       "5        C:6  skos:exactMatch       B:9      semapv:MappingChaining   \n",
       "\n",
       "  mapping_set     comments  \n",
       "0        test               \n",
       "1        test      A:1 B:9  \n",
       "2        test               \n",
       "3        test      A:1 C:6  \n",
       "4        test  B:9 A:1 C:6  \n",
       "5        test  B:9 A:1 C:6  "
      ]
     },
     "execution_count": 3,
     "metadata": {},
     "output_type": "execute_result"
    }
   ],
   "source": [
    "from semra.api import infer_chains, infer_reversible\n",
    "\n",
    "mappings = infer_reversible(mappings, progress=False)\n",
    "mappings = infer_chains(mappings, progress=False)\n",
    "\n",
    "get_sssom_df(mappings)"
   ]
  }
 ],
 "metadata": {
  "kernelspec": {
   "display_name": "Python 3 (ipykernel)",
   "language": "python",
   "name": "python3"
  },
  "language_info": {
   "codemirror_mode": {
    "name": "ipython",
    "version": 3
   },
   "file_extension": ".py",
   "mimetype": "text/x-python",
   "name": "python",
   "nbconvert_exporter": "python",
   "pygments_lexer": "ipython3",
   "version": "3.11.4"
  }
 },
 "nbformat": 4,
 "nbformat_minor": 5
}
