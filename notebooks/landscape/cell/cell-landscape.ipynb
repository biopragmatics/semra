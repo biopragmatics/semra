{
 "cells": [
  {
   "cell_type": "code",
   "execution_count": 1,
   "id": "71688a16-3fcf-4222-a8ec-e5d212feef59",
   "metadata": {
    "execution": {
     "iopub.execute_input": "2025-03-20T15:42:42.244435Z",
     "iopub.status.busy": "2025-03-20T15:42:42.244171Z",
     "iopub.status.idle": "2025-03-20T15:42:44.007483Z",
     "shell.execute_reply": "2025-03-20T15:42:44.007083Z"
    }
   },
   "outputs": [],
   "source": [
    "from semra.landscape.cells import CONFIGURATION\n",
    "from semra.landscape.utils import notebook"
   ]
  },
  {
   "cell_type": "code",
   "execution_count": 2,
   "id": "0438eacb-3ffd-40aa-9cba-d7df7eb4e42e",
   "metadata": {
    "execution": {
     "iopub.execute_input": "2025-03-20T15:42:44.009236Z",
     "iopub.status.busy": "2025-03-20T15:42:44.009039Z",
     "iopub.status.idle": "2025-03-20T15:51:20.612494Z",
     "shell.execute_reply": "2025-03-20T15:51:20.612095Z"
    }
   },
   "outputs": [
    {
     "name": "stderr",
     "output_type": "stream",
     "text": [
      "\r",
      "[mesh] parsing edges:   0%|                         | 0.00/42.3k [00:00<?, ?edge/s]"
     ]
    },
    {
     "name": "stderr",
     "output_type": "stream",
     "text": [
      "\r",
      "[mesh] parsing edges:   5%|▊               | 2.20k/42.3k [00:00<00:14, 2.76kedge/s]"
     ]
    },
    {
     "name": "stderr",
     "output_type": "stream",
     "text": [
      "\r",
      "[mesh] parsing edges:  48%|███████▋        | 20.5k/42.3k [00:00<00:00, 30.1kedge/s]"
     ]
    },
    {
     "name": "stderr",
     "output_type": "stream",
     "text": [
      "\r",
      "[mesh] parsing edges:  87%|█████████████▊  | 36.6k/42.3k [00:02<00:00, 18.4kedge/s]"
     ]
    },
    {
     "name": "stderr",
     "output_type": "stream",
     "text": [
      "\r",
      "[mesh] parsing edges: 100%|████████████████| 42.3k/42.3k [00:02<00:00, 20.1kedge/s]"
     ]
    },
    {
     "name": "stderr",
     "output_type": "stream",
     "text": [
      "\n"
     ]
    },
    {
     "name": "stderr",
     "output_type": "stream",
     "text": [
      "\r",
      "[mesh] parsing properties: 0.00triple [00:00, ?triple/s]"
     ]
    },
    {
     "name": "stderr",
     "output_type": "stream",
     "text": [
      "\r",
      "[mesh] parsing properties: 0.00triple [00:00, ?triple/s]"
     ]
    },
    {
     "name": "stderr",
     "output_type": "stream",
     "text": [
      "\n"
     ]
    },
    {
     "name": "stderr",
     "output_type": "stream",
     "text": [
      "\r",
      "[efo] parsing edges:   0%|                          | 0.00/55.5k [00:00<?, ?edge/s]"
     ]
    },
    {
     "name": "stderr",
     "output_type": "stream",
     "text": [
      "\r",
      "[efo] parsing edges:  33%|█████▊            | 18.1k/55.5k [00:00<00:00, 181kedge/s]"
     ]
    },
    {
     "name": "stderr",
     "output_type": "stream",
     "text": [
      "\r",
      "[efo] parsing edges:  65%|███████████      | 36.2k/55.5k [00:01<00:00, 22.2kedge/s]"
     ]
    },
    {
     "name": "stderr",
     "output_type": "stream",
     "text": [
      "\r",
      "[efo] parsing edges:  98%|████████████████▌| 54.2k/55.5k [00:01<00:00, 37.0kedge/s]"
     ]
    },
    {
     "name": "stderr",
     "output_type": "stream",
     "text": [
      "\r",
      "[efo] parsing edges: 100%|█████████████████| 55.5k/55.5k [00:01<00:00, 36.5kedge/s]"
     ]
    },
    {
     "name": "stderr",
     "output_type": "stream",
     "text": [
      "\n"
     ]
    },
    {
     "name": "stderr",
     "output_type": "stream",
     "text": [
      "\r",
      "[efo] parsing properties:   0%|                   | 0.00/16.3k [00:00<?, ?triple/s]"
     ]
    },
    {
     "name": "stderr",
     "output_type": "stream",
     "text": [
      "\r",
      "[efo] parsing properties: 100%|███████████| 16.3k/16.3k [00:00<00:00, 176ktriple/s]"
     ]
    },
    {
     "name": "stderr",
     "output_type": "stream",
     "text": [
      "\n"
     ]
    },
    {
     "name": "stderr",
     "output_type": "stream",
     "text": [
      "\r",
      "[ncit] parsing edges:   0%|                          | 0.00/771k [00:00<?, ?edge/s]"
     ]
    },
    {
     "name": "stderr",
     "output_type": "stream",
     "text": [
      "\r",
      "[ncit] parsing edges:   2%|▍                 | 17.7k/771k [00:00<00:04, 177kedge/s]"
     ]
    },
    {
     "name": "stderr",
     "output_type": "stream",
     "text": [
      "\r",
      "[ncit] parsing edges:   5%|▊                 | 35.4k/771k [00:00<00:04, 177kedge/s]"
     ]
    },
    {
     "name": "stderr",
     "output_type": "stream",
     "text": [
      "\r",
      "[ncit] parsing edges:   7%|█▎                | 53.8k/771k [00:00<00:03, 180kedge/s]"
     ]
    },
    {
     "name": "stderr",
     "output_type": "stream",
     "text": [
      "\r",
      "[ncit] parsing edges:   9%|█▌               | 71.8k/771k [00:02<00:30, 23.2kedge/s]"
     ]
    },
    {
     "name": "stderr",
     "output_type": "stream",
     "text": [
      "\r",
      "[ncit] parsing edges:  12%|█▉               | 89.8k/771k [00:02<00:20, 33.9kedge/s]"
     ]
    },
    {
     "name": "stderr",
     "output_type": "stream",
     "text": [
      "\r",
      "[ncit] parsing edges:  14%|██▌               | 108k/771k [00:02<00:14, 46.9kedge/s]"
     ]
    },
    {
     "name": "stderr",
     "output_type": "stream",
     "text": [
      "\r",
      "[ncit] parsing edges:  16%|██▉               | 126k/771k [00:02<00:10, 62.2kedge/s]"
     ]
    },
    {
     "name": "stderr",
     "output_type": "stream",
     "text": [
      "\r",
      "[ncit] parsing edges:  18%|███▎              | 143k/771k [00:04<00:29, 21.2kedge/s]"
     ]
    },
    {
     "name": "stderr",
     "output_type": "stream",
     "text": [
      "\r",
      "[ncit] parsing edges:  21%|███▋              | 161k/771k [00:04<00:20, 29.5kedge/s]"
     ]
    },
    {
     "name": "stderr",
     "output_type": "stream",
     "text": [
      "\r",
      "[ncit] parsing edges:  23%|████▏             | 179k/771k [00:04<00:14, 40.0kedge/s]"
     ]
    },
    {
     "name": "stderr",
     "output_type": "stream",
     "text": [
      "\r",
      "[ncit] parsing edges:  25%|████▌             | 196k/771k [00:04<00:10, 52.5kedge/s]"
     ]
    },
    {
     "name": "stderr",
     "output_type": "stream",
     "text": [
      "\r",
      "[ncit] parsing edges:  28%|█████             | 214k/771k [00:04<00:08, 66.9kedge/s]"
     ]
    },
    {
     "name": "stderr",
     "output_type": "stream",
     "text": [
      "\r",
      "[ncit] parsing edges:  30%|█████▍            | 232k/771k [00:04<00:06, 82.8kedge/s]"
     ]
    },
    {
     "name": "stderr",
     "output_type": "stream",
     "text": [
      "\r",
      "[ncit] parsing edges:  32%|█████▊            | 249k/771k [00:07<00:25, 20.3kedge/s]"
     ]
    },
    {
     "name": "stderr",
     "output_type": "stream",
     "text": [
      "\r",
      "[ncit] parsing edges:  35%|██████▏           | 267k/771k [00:07<00:18, 27.9kedge/s]"
     ]
    },
    {
     "name": "stderr",
     "output_type": "stream",
     "text": [
      "\r",
      "[ncit] parsing edges:  37%|██████▋           | 285k/771k [00:07<00:12, 37.6kedge/s]"
     ]
    },
    {
     "name": "stderr",
     "output_type": "stream",
     "text": [
      "\r",
      "[ncit] parsing edges:  39%|███████           | 303k/771k [00:07<00:09, 49.4kedge/s]"
     ]
    },
    {
     "name": "stderr",
     "output_type": "stream",
     "text": [
      "\r",
      "[ncit] parsing edges:  42%|███████▌          | 322k/771k [00:07<00:07, 63.7kedge/s]"
     ]
    },
    {
     "name": "stderr",
     "output_type": "stream",
     "text": [
      "\r",
      "[ncit] parsing edges:  44%|███████▉          | 340k/771k [00:07<00:05, 79.6kedge/s]"
     ]
    },
    {
     "name": "stderr",
     "output_type": "stream",
     "text": [
      "\r",
      "[ncit] parsing edges:  46%|████████▎         | 358k/771k [00:07<00:04, 95.6kedge/s]"
     ]
    },
    {
     "name": "stderr",
     "output_type": "stream",
     "text": [
      "\r",
      "[ncit] parsing edges:  49%|████████▊         | 376k/771k [00:10<00:17, 22.5kedge/s]"
     ]
    },
    {
     "name": "stderr",
     "output_type": "stream",
     "text": [
      "\r",
      "[ncit] parsing edges:  51%|█████████▏        | 394k/771k [00:10<00:12, 30.6kedge/s]"
     ]
    },
    {
     "name": "stderr",
     "output_type": "stream",
     "text": [
      "\r",
      "[ncit] parsing edges:  53%|█████████▌        | 412k/771k [00:10<00:08, 40.8kedge/s]"
     ]
    },
    {
     "name": "stderr",
     "output_type": "stream",
     "text": [
      "\r",
      "[ncit] parsing edges:  56%|██████████        | 430k/771k [00:10<00:06, 53.3kedge/s]"
     ]
    },
    {
     "name": "stderr",
     "output_type": "stream",
     "text": [
      "\r",
      "[ncit] parsing edges:  58%|██████████▍       | 448k/771k [00:10<00:04, 68.0kedge/s]"
     ]
    },
    {
     "name": "stderr",
     "output_type": "stream",
     "text": [
      "\r",
      "[ncit] parsing edges:  60%|██████████▉       | 467k/771k [00:10<00:03, 83.8kedge/s]"
     ]
    },
    {
     "name": "stderr",
     "output_type": "stream",
     "text": [
      "\r",
      "[ncit] parsing edges:  63%|███████████▉       | 485k/771k [00:10<00:02, 100kedge/s]"
     ]
    },
    {
     "name": "stderr",
     "output_type": "stream",
     "text": [
      "\r",
      "[ncit] parsing edges:  65%|████████████▍      | 503k/771k [00:10<00:02, 116kedge/s]"
     ]
    },
    {
     "name": "stderr",
     "output_type": "stream",
     "text": [
      "\r",
      "[ncit] parsing edges:  68%|████████████▊      | 521k/771k [00:10<00:01, 130kedge/s]"
     ]
    },
    {
     "name": "stderr",
     "output_type": "stream",
     "text": [
      "\r",
      "[ncit] parsing edges:  70%|████████████▌     | 539k/771k [00:13<00:10, 21.8kedge/s]"
     ]
    },
    {
     "name": "stderr",
     "output_type": "stream",
     "text": [
      "\r",
      "[ncit] parsing edges:  72%|█████████████     | 557k/771k [00:13<00:07, 29.6kedge/s]"
     ]
    },
    {
     "name": "stderr",
     "output_type": "stream",
     "text": [
      "\r",
      "[ncit] parsing edges:  75%|█████████████▍    | 575k/771k [00:13<00:05, 39.3kedge/s]"
     ]
    },
    {
     "name": "stderr",
     "output_type": "stream",
     "text": [
      "\r",
      "[ncit] parsing edges:  77%|█████████████▊    | 593k/771k [00:13<00:03, 51.6kedge/s]"
     ]
    },
    {
     "name": "stderr",
     "output_type": "stream",
     "text": [
      "\r",
      "[ncit] parsing edges:  79%|██████████████▎   | 612k/771k [00:13<00:02, 66.2kedge/s]"
     ]
    },
    {
     "name": "stderr",
     "output_type": "stream",
     "text": [
      "\r",
      "[ncit] parsing edges:  82%|██████████████▋   | 630k/771k [00:13<00:01, 82.1kedge/s]"
     ]
    },
    {
     "name": "stderr",
     "output_type": "stream",
     "text": [
      "\r",
      "[ncit] parsing edges:  84%|███████████████▏  | 648k/771k [00:13<00:01, 98.5kedge/s]"
     ]
    },
    {
     "name": "stderr",
     "output_type": "stream",
     "text": [
      "\r",
      "[ncit] parsing edges:  86%|████████████████▍  | 666k/771k [00:13<00:00, 113kedge/s]"
     ]
    },
    {
     "name": "stderr",
     "output_type": "stream",
     "text": [
      "\r",
      "[ncit] parsing edges:  89%|████████████████▊  | 685k/771k [00:14<00:00, 128kedge/s]"
     ]
    },
    {
     "name": "stderr",
     "output_type": "stream",
     "text": [
      "\r",
      "[ncit] parsing edges:  91%|█████████████████▎ | 702k/771k [00:14<00:00, 140kedge/s]"
     ]
    },
    {
     "name": "stderr",
     "output_type": "stream",
     "text": [
      "\r",
      "[ncit] parsing edges:  93%|████████████████▊ | 720k/771k [00:16<00:02, 20.7kedge/s]"
     ]
    },
    {
     "name": "stderr",
     "output_type": "stream",
     "text": [
      "\r",
      "[ncit] parsing edges:  96%|█████████████████▏| 739k/771k [00:16<00:01, 28.2kedge/s]"
     ]
    },
    {
     "name": "stderr",
     "output_type": "stream",
     "text": [
      "\r",
      "[ncit] parsing edges:  98%|█████████████████▋| 757k/771k [00:17<00:00, 37.7kedge/s]"
     ]
    },
    {
     "name": "stderr",
     "output_type": "stream",
     "text": [
      "\r",
      "[ncit] parsing edges: 100%|██████████████████| 771k/771k [00:17<00:00, 45.1kedge/s]"
     ]
    },
    {
     "name": "stderr",
     "output_type": "stream",
     "text": [
      "\n"
     ]
    },
    {
     "name": "stderr",
     "output_type": "stream",
     "text": [
      "\r",
      "[ncit] parsing properties:   0%|                  | 0.00/1.28M [00:00<?, ?triple/s]"
     ]
    },
    {
     "name": "stderr",
     "output_type": "stream",
     "text": [
      "\r",
      "[ncit] parsing properties:   1%|          | 14.1k/1.28M [00:00<00:09, 140ktriple/s]"
     ]
    },
    {
     "name": "stderr",
     "output_type": "stream",
     "text": [
      "\r",
      "[ncit] parsing properties:   2%|▏         | 30.4k/1.28M [00:00<00:08, 154ktriple/s]"
     ]
    },
    {
     "name": "stderr",
     "output_type": "stream",
     "text": [
      "\r",
      "[ncit] parsing properties:   4%|▍         | 48.3k/1.28M [00:00<00:07, 165ktriple/s]"
     ]
    },
    {
     "name": "stderr",
     "output_type": "stream",
     "text": [
      "\r",
      "[ncit] parsing properties:   5%|▌         | 66.0k/1.28M [00:00<00:07, 170ktriple/s]"
     ]
    },
    {
     "name": "stderr",
     "output_type": "stream",
     "text": [
      "\r",
      "[ncit] parsing properties:   7%|▋         | 83.7k/1.28M [00:00<00:06, 172ktriple/s]"
     ]
    },
    {
     "name": "stderr",
     "output_type": "stream",
     "text": [
      "\r",
      "[ncit] parsing properties:   8%|▊          | 101k/1.28M [00:00<00:06, 174ktriple/s]"
     ]
    },
    {
     "name": "stderr",
     "output_type": "stream",
     "text": [
      "\r",
      "[ncit] parsing properties:   9%|█          | 119k/1.28M [00:00<00:06, 175ktriple/s]"
     ]
    },
    {
     "name": "stderr",
     "output_type": "stream",
     "text": [
      "\r",
      "[ncit] parsing properties:  11%|█▏         | 137k/1.28M [00:00<00:06, 176ktriple/s]"
     ]
    },
    {
     "name": "stderr",
     "output_type": "stream",
     "text": [
      "\r",
      "[ncit] parsing properties:  12%|█▏        | 155k/1.28M [00:04<01:09, 16.3ktriple/s]"
     ]
    },
    {
     "name": "stderr",
     "output_type": "stream",
     "text": [
      "\r",
      "[ncit] parsing properties:  13%|█▎        | 171k/1.28M [00:04<00:50, 22.0ktriple/s]"
     ]
    },
    {
     "name": "stderr",
     "output_type": "stream",
     "text": [
      "\r",
      "[ncit] parsing properties:  15%|█▍        | 189k/1.28M [00:04<00:35, 30.6ktriple/s]"
     ]
    },
    {
     "name": "stderr",
     "output_type": "stream",
     "text": [
      "\r",
      "[ncit] parsing properties:  16%|█▌        | 206k/1.28M [00:04<00:26, 40.5ktriple/s]"
     ]
    },
    {
     "name": "stderr",
     "output_type": "stream",
     "text": [
      "\r",
      "[ncit] parsing properties:  17%|█▋        | 223k/1.28M [00:04<00:20, 52.9ktriple/s]"
     ]
    },
    {
     "name": "stderr",
     "output_type": "stream",
     "text": [
      "\r",
      "[ncit] parsing properties:  19%|█▉        | 240k/1.28M [00:04<00:15, 66.8ktriple/s]"
     ]
    },
    {
     "name": "stderr",
     "output_type": "stream",
     "text": [
      "\r",
      "[ncit] parsing properties:  20%|██        | 258k/1.28M [00:04<00:12, 82.2ktriple/s]"
     ]
    },
    {
     "name": "stderr",
     "output_type": "stream",
     "text": [
      "\r",
      "[ncit] parsing properties:  21%|██▏       | 275k/1.28M [00:04<00:10, 97.7ktriple/s]"
     ]
    },
    {
     "name": "stderr",
     "output_type": "stream",
     "text": [
      "\r",
      "[ncit] parsing properties:  23%|██▌        | 293k/1.28M [00:04<00:08, 113ktriple/s]"
     ]
    },
    {
     "name": "stderr",
     "output_type": "stream",
     "text": [
      "\r",
      "[ncit] parsing properties:  24%|██▍       | 310k/1.28M [00:08<01:05, 14.9ktriple/s]"
     ]
    },
    {
     "name": "stderr",
     "output_type": "stream",
     "text": [
      "\r",
      "[ncit] parsing properties:  26%|██▌       | 327k/1.28M [00:08<00:46, 20.6ktriple/s]"
     ]
    },
    {
     "name": "stderr",
     "output_type": "stream",
     "text": [
      "\r",
      "[ncit] parsing properties:  27%|██▋       | 345k/1.28M [00:08<00:33, 28.1ktriple/s]"
     ]
    },
    {
     "name": "stderr",
     "output_type": "stream",
     "text": [
      "\r",
      "[ncit] parsing properties:  28%|██▊       | 363k/1.28M [00:08<00:24, 37.8ktriple/s]"
     ]
    },
    {
     "name": "stderr",
     "output_type": "stream",
     "text": [
      "\r",
      "[ncit] parsing properties:  30%|██▉       | 380k/1.28M [00:08<00:18, 49.6ktriple/s]"
     ]
    },
    {
     "name": "stderr",
     "output_type": "stream",
     "text": [
      "\r",
      "[ncit] parsing properties:  31%|███       | 398k/1.28M [00:08<00:13, 63.5ktriple/s]"
     ]
    },
    {
     "name": "stderr",
     "output_type": "stream",
     "text": [
      "\r",
      "[ncit] parsing properties:  32%|███▏      | 416k/1.28M [00:08<00:11, 78.4ktriple/s]"
     ]
    },
    {
     "name": "stderr",
     "output_type": "stream",
     "text": [
      "\r",
      "[ncit] parsing properties:  34%|███▍      | 434k/1.28M [00:09<00:08, 94.3ktriple/s]"
     ]
    },
    {
     "name": "stderr",
     "output_type": "stream",
     "text": [
      "\r",
      "[ncit] parsing properties:  35%|███▊       | 451k/1.28M [00:09<00:07, 109ktriple/s]"
     ]
    },
    {
     "name": "stderr",
     "output_type": "stream",
     "text": [
      "\r",
      "[ncit] parsing properties:  37%|████       | 469k/1.28M [00:09<00:06, 123ktriple/s]"
     ]
    },
    {
     "name": "stderr",
     "output_type": "stream",
     "text": [
      "\r",
      "[ncit] parsing properties:  38%|███▊      | 486k/1.28M [00:13<00:55, 14.3ktriple/s]"
     ]
    },
    {
     "name": "stderr",
     "output_type": "stream",
     "text": [
      "\r",
      "[ncit] parsing properties:  39%|███▉      | 503k/1.28M [00:13<00:39, 19.7ktriple/s]"
     ]
    },
    {
     "name": "stderr",
     "output_type": "stream",
     "text": [
      "\r",
      "[ncit] parsing properties:  41%|████      | 521k/1.28M [00:13<00:28, 26.9ktriple/s]"
     ]
    },
    {
     "name": "stderr",
     "output_type": "stream",
     "text": [
      "\r",
      "[ncit] parsing properties:  42%|████▏     | 539k/1.28M [00:13<00:20, 36.3ktriple/s]"
     ]
    },
    {
     "name": "stderr",
     "output_type": "stream",
     "text": [
      "\r",
      "[ncit] parsing properties:  43%|████▎     | 557k/1.28M [00:13<00:15, 47.5ktriple/s]"
     ]
    },
    {
     "name": "stderr",
     "output_type": "stream",
     "text": [
      "\r",
      "[ncit] parsing properties:  45%|████▍     | 574k/1.28M [00:13<00:11, 60.5ktriple/s]"
     ]
    },
    {
     "name": "stderr",
     "output_type": "stream",
     "text": [
      "\r",
      "[ncit] parsing properties:  46%|████▌     | 591k/1.28M [00:13<00:09, 75.1ktriple/s]"
     ]
    },
    {
     "name": "stderr",
     "output_type": "stream",
     "text": [
      "\r",
      "[ncit] parsing properties:  47%|████▋     | 608k/1.28M [00:13<00:07, 89.6ktriple/s]"
     ]
    },
    {
     "name": "stderr",
     "output_type": "stream",
     "text": [
      "\r",
      "[ncit] parsing properties:  49%|█████▎     | 626k/1.28M [00:13<00:06, 105ktriple/s]"
     ]
    },
    {
     "name": "stderr",
     "output_type": "stream",
     "text": [
      "\r",
      "[ncit] parsing properties:  50%|█████▌     | 643k/1.28M [00:13<00:05, 118ktriple/s]"
     ]
    },
    {
     "name": "stderr",
     "output_type": "stream",
     "text": [
      "\r",
      "[ncit] parsing properties:  51%|█████▋     | 660k/1.28M [00:14<00:04, 130ktriple/s]"
     ]
    },
    {
     "name": "stderr",
     "output_type": "stream",
     "text": [
      "\r",
      "[ncit] parsing properties:  53%|█████▊     | 677k/1.28M [00:14<00:04, 141ktriple/s]"
     ]
    },
    {
     "name": "stderr",
     "output_type": "stream",
     "text": [
      "\r",
      "[ncit] parsing properties:  54%|█████▉     | 695k/1.28M [00:14<00:03, 150ktriple/s]"
     ]
    },
    {
     "name": "stderr",
     "output_type": "stream",
     "text": [
      "\r",
      "[ncit] parsing properties:  56%|██████     | 712k/1.28M [00:14<00:03, 156ktriple/s]"
     ]
    },
    {
     "name": "stderr",
     "output_type": "stream",
     "text": [
      "\r",
      "[ncit] parsing properties:  57%|█████▋    | 729k/1.28M [00:18<00:41, 13.3ktriple/s]"
     ]
    },
    {
     "name": "stderr",
     "output_type": "stream",
     "text": [
      "\r",
      "[ncit] parsing properties:  58%|█████▊    | 746k/1.28M [00:18<00:29, 18.3ktriple/s]"
     ]
    },
    {
     "name": "stderr",
     "output_type": "stream",
     "text": [
      "\r",
      "[ncit] parsing properties:  60%|█████▉    | 764k/1.28M [00:18<00:20, 25.1ktriple/s]"
     ]
    },
    {
     "name": "stderr",
     "output_type": "stream",
     "text": [
      "\r",
      "[ncit] parsing properties:  61%|██████    | 781k/1.28M [00:18<00:14, 33.8ktriple/s]"
     ]
    },
    {
     "name": "stderr",
     "output_type": "stream",
     "text": [
      "\r",
      "[ncit] parsing properties:  62%|██████▏   | 799k/1.28M [00:18<00:10, 44.5ktriple/s]"
     ]
    },
    {
     "name": "stderr",
     "output_type": "stream",
     "text": [
      "\r",
      "[ncit] parsing properties:  64%|██████▎   | 816k/1.28M [00:18<00:08, 57.4ktriple/s]"
     ]
    },
    {
     "name": "stderr",
     "output_type": "stream",
     "text": [
      "\r",
      "[ncit] parsing properties:  65%|██████▌   | 833k/1.28M [00:18<00:06, 71.8ktriple/s]"
     ]
    },
    {
     "name": "stderr",
     "output_type": "stream",
     "text": [
      "\r",
      "[ncit] parsing properties:  66%|██████▋   | 851k/1.28M [00:19<00:04, 87.3ktriple/s]"
     ]
    },
    {
     "name": "stderr",
     "output_type": "stream",
     "text": [
      "\r",
      "[ncit] parsing properties:  68%|███████▍   | 868k/1.28M [00:19<00:04, 103ktriple/s]"
     ]
    },
    {
     "name": "stderr",
     "output_type": "stream",
     "text": [
      "\r",
      "[ncit] parsing properties:  69%|███████▌   | 886k/1.28M [00:19<00:03, 117ktriple/s]"
     ]
    },
    {
     "name": "stderr",
     "output_type": "stream",
     "text": [
      "\r",
      "[ncit] parsing properties:  70%|███████▊   | 903k/1.28M [00:19<00:02, 130ktriple/s]"
     ]
    },
    {
     "name": "stderr",
     "output_type": "stream",
     "text": [
      "\r",
      "[ncit] parsing properties:  72%|███████▉   | 920k/1.28M [00:19<00:02, 140ktriple/s]"
     ]
    },
    {
     "name": "stderr",
     "output_type": "stream",
     "text": [
      "\r",
      "[ncit] parsing properties:  73%|████████   | 938k/1.28M [00:19<00:02, 124ktriple/s]"
     ]
    },
    {
     "name": "stderr",
     "output_type": "stream",
     "text": [
      "\r",
      "[ncit] parsing properties:  74%|████████▏  | 953k/1.28M [00:19<00:02, 124ktriple/s]"
     ]
    },
    {
     "name": "stderr",
     "output_type": "stream",
     "text": [
      "\r",
      "[ncit] parsing properties:  76%|████████▎  | 969k/1.28M [00:19<00:02, 133ktriple/s]"
     ]
    },
    {
     "name": "stderr",
     "output_type": "stream",
     "text": [
      "\r",
      "[ncit] parsing properties:  77%|████████▍  | 986k/1.28M [00:19<00:02, 142ktriple/s]"
     ]
    },
    {
     "name": "stderr",
     "output_type": "stream",
     "text": [
      "\r",
      "[ncit] parsing properties:  78%|███████▊  | 1.00M/1.28M [00:20<00:01, 149ktriple/s]"
     ]
    },
    {
     "name": "stderr",
     "output_type": "stream",
     "text": [
      "\r",
      "[ncit] parsing properties:  79%|███████▏ | 1.02M/1.28M [00:24<00:22, 11.7ktriple/s]"
     ]
    },
    {
     "name": "stderr",
     "output_type": "stream",
     "text": [
      "\r",
      "[ncit] parsing properties:  81%|███████▎ | 1.04M/1.28M [00:24<00:14, 16.5ktriple/s]"
     ]
    },
    {
     "name": "stderr",
     "output_type": "stream",
     "text": [
      "\r",
      "[ncit] parsing properties:  82%|███████▍ | 1.05M/1.28M [00:24<00:09, 22.9ktriple/s]"
     ]
    },
    {
     "name": "stderr",
     "output_type": "stream",
     "text": [
      "\r",
      "[ncit] parsing properties:  84%|███████▌ | 1.07M/1.28M [00:24<00:06, 31.3ktriple/s]"
     ]
    },
    {
     "name": "stderr",
     "output_type": "stream",
     "text": [
      "\r",
      "[ncit] parsing properties:  85%|███████▋ | 1.09M/1.28M [00:24<00:04, 41.6ktriple/s]"
     ]
    },
    {
     "name": "stderr",
     "output_type": "stream",
     "text": [
      "\r",
      "[ncit] parsing properties:  86%|███████▊ | 1.11M/1.28M [00:25<00:03, 53.9ktriple/s]"
     ]
    },
    {
     "name": "stderr",
     "output_type": "stream",
     "text": [
      "\r",
      "[ncit] parsing properties:  88%|███████▉ | 1.12M/1.28M [00:25<00:02, 67.9ktriple/s]"
     ]
    },
    {
     "name": "stderr",
     "output_type": "stream",
     "text": [
      "\r",
      "[ncit] parsing properties:  89%|████████ | 1.14M/1.28M [00:25<00:01, 83.1ktriple/s]"
     ]
    },
    {
     "name": "stderr",
     "output_type": "stream",
     "text": [
      "\r",
      "[ncit] parsing properties:  90%|████████▏| 1.16M/1.28M [00:25<00:01, 99.0ktriple/s]"
     ]
    },
    {
     "name": "stderr",
     "output_type": "stream",
     "text": [
      "\r",
      "[ncit] parsing properties:  92%|█████████▏| 1.17M/1.28M [00:25<00:00, 114ktriple/s]"
     ]
    },
    {
     "name": "stderr",
     "output_type": "stream",
     "text": [
      "\r",
      "[ncit] parsing properties:  93%|█████████▎| 1.19M/1.28M [00:25<00:00, 126ktriple/s]"
     ]
    },
    {
     "name": "stderr",
     "output_type": "stream",
     "text": [
      "\r",
      "[ncit] parsing properties:  94%|█████████▍| 1.21M/1.28M [00:25<00:00, 137ktriple/s]"
     ]
    },
    {
     "name": "stderr",
     "output_type": "stream",
     "text": [
      "\r",
      "[ncit] parsing properties:  96%|█████████▌| 1.23M/1.28M [00:25<00:00, 146ktriple/s]"
     ]
    },
    {
     "name": "stderr",
     "output_type": "stream",
     "text": [
      "\r",
      "[ncit] parsing properties:  97%|█████████▋| 1.24M/1.28M [00:25<00:00, 154ktriple/s]"
     ]
    },
    {
     "name": "stderr",
     "output_type": "stream",
     "text": [
      "\r",
      "[ncit] parsing properties:  98%|█████████▊| 1.26M/1.28M [00:25<00:00, 159ktriple/s]"
     ]
    },
    {
     "name": "stderr",
     "output_type": "stream",
     "text": [
      "\r",
      "[ncit] parsing properties: 100%|█████████▉| 1.28M/1.28M [00:26<00:00, 163ktriple/s]"
     ]
    },
    {
     "name": "stderr",
     "output_type": "stream",
     "text": [
      "\r",
      "[ncit] parsing properties: 100%|█████████| 1.28M/1.28M [00:26<00:00, 49.2ktriple/s]"
     ]
    },
    {
     "name": "stderr",
     "output_type": "stream",
     "text": [
      "\n"
     ]
    },
    {
     "name": "stderr",
     "output_type": "stream",
     "text": [
      "\r",
      "[umls] parsing edges:   0%|                         | 0.00/6.50M [00:00<?, ?edge/s]"
     ]
    },
    {
     "name": "stderr",
     "output_type": "stream",
     "text": [
      "\r",
      "[umls] parsing edges:   0%|                 | 18.3k/6.50M [00:00<00:35, 183kedge/s]"
     ]
    },
    {
     "name": "stderr",
     "output_type": "stream",
     "text": [
      "\r",
      "[umls] parsing edges:   1%|                 | 36.5k/6.50M [00:00<00:35, 182kedge/s]"
     ]
    },
    {
     "name": "stderr",
     "output_type": "stream",
     "text": [
      "\r",
      "[umls] parsing edges:   1%|▏                | 54.7k/6.50M [00:00<00:35, 181kedge/s]"
     ]
    },
    {
     "name": "stderr",
     "output_type": "stream",
     "text": [
      "\r",
      "[umls] parsing edges:   1%|▏                | 72.9k/6.50M [00:00<00:35, 182kedge/s]"
     ]
    },
    {
     "name": "stderr",
     "output_type": "stream",
     "text": [
      "\r",
      "[umls] parsing edges:   1%|▏                | 91.0k/6.50M [00:00<00:35, 181kedge/s]"
     ]
    },
    {
     "name": "stderr",
     "output_type": "stream",
     "text": [
      "\r",
      "[umls] parsing edges:   2%|▎                 | 109k/6.50M [00:00<00:35, 180kedge/s]"
     ]
    },
    {
     "name": "stderr",
     "output_type": "stream",
     "text": [
      "\r",
      "[umls] parsing edges:   2%|▎                 | 127k/6.50M [00:00<00:35, 179kedge/s]"
     ]
    },
    {
     "name": "stderr",
     "output_type": "stream",
     "text": [
      "\r",
      "[umls] parsing edges:   2%|▍                 | 145k/6.50M [00:00<00:35, 179kedge/s]"
     ]
    },
    {
     "name": "stderr",
     "output_type": "stream",
     "text": [
      "\r",
      "[umls] parsing edges:   3%|▍                 | 163k/6.50M [00:00<00:35, 180kedge/s]"
     ]
    },
    {
     "name": "stderr",
     "output_type": "stream",
     "text": [
      "\r",
      "[umls] parsing edges:   3%|▌                 | 181k/6.50M [00:01<00:35, 179kedge/s]"
     ]
    },
    {
     "name": "stderr",
     "output_type": "stream",
     "text": [
      "\r",
      "[umls] parsing edges:   3%|▌                 | 199k/6.50M [00:01<00:35, 179kedge/s]"
     ]
    },
    {
     "name": "stderr",
     "output_type": "stream",
     "text": [
      "\r",
      "[umls] parsing edges:   3%|▌                 | 217k/6.50M [00:01<00:35, 178kedge/s]"
     ]
    },
    {
     "name": "stderr",
     "output_type": "stream",
     "text": [
      "\r",
      "[umls] parsing edges:   4%|▋                 | 235k/6.50M [00:01<00:35, 178kedge/s]"
     ]
    },
    {
     "name": "stderr",
     "output_type": "stream",
     "text": [
      "\r",
      "[umls] parsing edges:   4%|▋                 | 252k/6.50M [00:01<00:35, 178kedge/s]"
     ]
    },
    {
     "name": "stderr",
     "output_type": "stream",
     "text": [
      "\r",
      "[umls] parsing edges:   4%|▋                 | 270k/6.50M [00:01<00:35, 178kedge/s]"
     ]
    },
    {
     "name": "stderr",
     "output_type": "stream",
     "text": [
      "\r",
      "[umls] parsing edges:   4%|▊                 | 288k/6.50M [00:01<00:34, 178kedge/s]"
     ]
    },
    {
     "name": "stderr",
     "output_type": "stream",
     "text": [
      "\r",
      "[umls] parsing edges:   5%|▊                 | 306k/6.50M [00:01<00:34, 178kedge/s]"
     ]
    },
    {
     "name": "stderr",
     "output_type": "stream",
     "text": [
      "\r",
      "[umls] parsing edges:   5%|▊                 | 306k/6.50M [00:14<00:34, 178kedge/s]"
     ]
    },
    {
     "name": "stderr",
     "output_type": "stream",
     "text": [
      "\r",
      "[umls] parsing edges:   5%|▊                | 309k/6.50M [00:14<29:17, 3.52kedge/s]"
     ]
    },
    {
     "name": "stderr",
     "output_type": "stream",
     "text": [
      "\r",
      "[umls] parsing edges:   5%|▊                | 328k/6.50M [00:14<18:44, 5.48kedge/s]"
     ]
    },
    {
     "name": "stderr",
     "output_type": "stream",
     "text": [
      "\r",
      "[umls] parsing edges:   5%|▉                | 346k/6.50M [00:14<12:22, 8.28kedge/s]"
     ]
    },
    {
     "name": "stderr",
     "output_type": "stream",
     "text": [
      "\r",
      "[umls] parsing edges:   6%|▉                | 364k/6.50M [00:14<08:28, 12.1kedge/s]"
     ]
    },
    {
     "name": "stderr",
     "output_type": "stream",
     "text": [
      "\r",
      "[umls] parsing edges:   6%|█                | 383k/6.50M [00:14<05:56, 17.2kedge/s]"
     ]
    },
    {
     "name": "stderr",
     "output_type": "stream",
     "text": [
      "\r",
      "[umls] parsing edges:   6%|█                | 401k/6.50M [00:14<04:12, 24.1kedge/s]"
     ]
    },
    {
     "name": "stderr",
     "output_type": "stream",
     "text": [
      "\r",
      "[umls] parsing edges:   6%|█                | 420k/6.50M [00:14<03:03, 33.1kedge/s]"
     ]
    },
    {
     "name": "stderr",
     "output_type": "stream",
     "text": [
      "\r",
      "[umls] parsing edges:   7%|█▏               | 438k/6.50M [00:14<02:17, 44.2kedge/s]"
     ]
    },
    {
     "name": "stderr",
     "output_type": "stream",
     "text": [
      "\r",
      "[umls] parsing edges:   7%|█▏               | 457k/6.50M [00:15<01:44, 57.8kedge/s]"
     ]
    },
    {
     "name": "stderr",
     "output_type": "stream",
     "text": [
      "\r",
      "[umls] parsing edges:   7%|█▏               | 476k/6.50M [00:15<01:22, 73.2kedge/s]"
     ]
    },
    {
     "name": "stderr",
     "output_type": "stream",
     "text": [
      "\r",
      "[umls] parsing edges:   8%|█▎               | 494k/6.50M [00:15<01:07, 89.2kedge/s]"
     ]
    },
    {
     "name": "stderr",
     "output_type": "stream",
     "text": [
      "\r",
      "[umls] parsing edges:   8%|█▍                | 513k/6.50M [00:15<00:56, 106kedge/s]"
     ]
    },
    {
     "name": "stderr",
     "output_type": "stream",
     "text": [
      "\r",
      "[umls] parsing edges:   8%|█▍                | 531k/6.50M [00:15<00:48, 122kedge/s]"
     ]
    },
    {
     "name": "stderr",
     "output_type": "stream",
     "text": [
      "\r",
      "[umls] parsing edges:   8%|█▌                | 550k/6.50M [00:15<00:44, 135kedge/s]"
     ]
    },
    {
     "name": "stderr",
     "output_type": "stream",
     "text": [
      "\r",
      "[umls] parsing edges:   9%|█▌                | 568k/6.50M [00:15<00:40, 146kedge/s]"
     ]
    },
    {
     "name": "stderr",
     "output_type": "stream",
     "text": [
      "\r",
      "[umls] parsing edges:   9%|█▋                | 587k/6.50M [00:15<00:38, 155kedge/s]"
     ]
    },
    {
     "name": "stderr",
     "output_type": "stream",
     "text": [
      "\r",
      "[umls] parsing edges:   9%|█▋                | 605k/6.50M [00:15<00:36, 162kedge/s]"
     ]
    },
    {
     "name": "stderr",
     "output_type": "stream",
     "text": [
      "\r",
      "[umls] parsing edges:  10%|█▋                | 624k/6.50M [00:15<00:34, 168kedge/s]"
     ]
    },
    {
     "name": "stderr",
     "output_type": "stream",
     "text": [
      "\r",
      "[umls] parsing edges:  10%|█▊                | 642k/6.50M [00:16<00:33, 173kedge/s]"
     ]
    },
    {
     "name": "stderr",
     "output_type": "stream",
     "text": [
      "\r",
      "[umls] parsing edges:  10%|█▊                | 660k/6.50M [00:16<00:33, 176kedge/s]"
     ]
    },
    {
     "name": "stderr",
     "output_type": "stream",
     "text": [
      "\r",
      "[umls] parsing edges:  10%|█▉                | 679k/6.50M [00:16<00:32, 178kedge/s]"
     ]
    },
    {
     "name": "stderr",
     "output_type": "stream",
     "text": [
      "\r",
      "[umls] parsing edges:  11%|█▉                | 697k/6.50M [00:16<00:32, 179kedge/s]"
     ]
    },
    {
     "name": "stderr",
     "output_type": "stream",
     "text": [
      "\r",
      "[umls] parsing edges:  11%|█▉                | 715k/6.50M [00:16<00:34, 168kedge/s]"
     ]
    },
    {
     "name": "stderr",
     "output_type": "stream",
     "text": [
      "\r",
      "[umls] parsing edges:  11%|██                | 733k/6.50M [00:16<00:35, 161kedge/s]"
     ]
    },
    {
     "name": "stderr",
     "output_type": "stream",
     "text": [
      "\r",
      "[umls] parsing edges:  12%|██                | 751k/6.50M [00:16<00:34, 167kedge/s]"
     ]
    },
    {
     "name": "stderr",
     "output_type": "stream",
     "text": [
      "\r",
      "[umls] parsing edges:  12%|██▏               | 769k/6.50M [00:16<00:33, 172kedge/s]"
     ]
    },
    {
     "name": "stderr",
     "output_type": "stream",
     "text": [
      "\r",
      "[umls] parsing edges:  12%|██▏               | 769k/6.50M [00:32<00:33, 172kedge/s]"
     ]
    },
    {
     "name": "stderr",
     "output_type": "stream",
     "text": [
      "\r",
      "[umls] parsing edges:  12%|██               | 776k/6.50M [00:32<31:17, 3.05kedge/s]"
     ]
    },
    {
     "name": "stderr",
     "output_type": "stream",
     "text": [
      "\r",
      "[umls] parsing edges:  12%|██               | 794k/6.50M [00:32<20:50, 4.56kedge/s]"
     ]
    },
    {
     "name": "stderr",
     "output_type": "stream",
     "text": [
      "\r",
      "[umls] parsing edges:  12%|██               | 811k/6.50M [00:32<14:09, 6.69kedge/s]"
     ]
    },
    {
     "name": "stderr",
     "output_type": "stream",
     "text": [
      "\r",
      "[umls] parsing edges:  13%|██▏              | 829k/6.50M [00:33<09:44, 9.69kedge/s]"
     ]
    },
    {
     "name": "stderr",
     "output_type": "stream",
     "text": [
      "\r",
      "[umls] parsing edges:  13%|██▏              | 847k/6.50M [00:33<06:49, 13.8kedge/s]"
     ]
    },
    {
     "name": "stderr",
     "output_type": "stream",
     "text": [
      "\r",
      "[umls] parsing edges:  13%|██▎              | 865k/6.50M [00:33<04:50, 19.4kedge/s]"
     ]
    },
    {
     "name": "stderr",
     "output_type": "stream",
     "text": [
      "\r",
      "[umls] parsing edges:  14%|██▎              | 883k/6.50M [00:33<03:30, 26.7kedge/s]"
     ]
    },
    {
     "name": "stderr",
     "output_type": "stream",
     "text": [
      "\r",
      "[umls] parsing edges:  14%|██▎              | 901k/6.50M [00:33<02:34, 36.1kedge/s]"
     ]
    },
    {
     "name": "stderr",
     "output_type": "stream",
     "text": [
      "\r",
      "[umls] parsing edges:  14%|██▍              | 920k/6.50M [00:33<01:56, 47.9kedge/s]"
     ]
    },
    {
     "name": "stderr",
     "output_type": "stream",
     "text": [
      "\r",
      "[umls] parsing edges:  14%|██▍              | 938k/6.50M [00:33<01:30, 61.4kedge/s]"
     ]
    },
    {
     "name": "stderr",
     "output_type": "stream",
     "text": [
      "\r",
      "[umls] parsing edges:  15%|██▌              | 956k/6.50M [00:33<01:11, 77.1kedge/s]"
     ]
    },
    {
     "name": "stderr",
     "output_type": "stream",
     "text": [
      "\r",
      "[umls] parsing edges:  15%|██▌              | 974k/6.50M [00:33<00:59, 93.3kedge/s]"
     ]
    },
    {
     "name": "stderr",
     "output_type": "stream",
     "text": [
      "\r",
      "[umls] parsing edges:  15%|██▋               | 992k/6.50M [00:33<00:50, 108kedge/s]"
     ]
    },
    {
     "name": "stderr",
     "output_type": "stream",
     "text": [
      "\r",
      "[umls] parsing edges:  16%|██▋              | 1.01M/6.50M [00:34<00:44, 123kedge/s]"
     ]
    },
    {
     "name": "stderr",
     "output_type": "stream",
     "text": [
      "\r",
      "[umls] parsing edges:  16%|██▋              | 1.03M/6.50M [00:34<00:40, 135kedge/s]"
     ]
    },
    {
     "name": "stderr",
     "output_type": "stream",
     "text": [
      "\r",
      "[umls] parsing edges:  16%|██▋              | 1.05M/6.50M [00:34<00:37, 147kedge/s]"
     ]
    },
    {
     "name": "stderr",
     "output_type": "stream",
     "text": [
      "\r",
      "[umls] parsing edges:  16%|██▊              | 1.06M/6.50M [00:34<00:35, 155kedge/s]"
     ]
    },
    {
     "name": "stderr",
     "output_type": "stream",
     "text": [
      "\r",
      "[umls] parsing edges:  17%|██▊              | 1.08M/6.50M [00:34<00:33, 161kedge/s]"
     ]
    },
    {
     "name": "stderr",
     "output_type": "stream",
     "text": [
      "\r",
      "[umls] parsing edges:  17%|██▉              | 1.10M/6.50M [00:34<00:32, 166kedge/s]"
     ]
    },
    {
     "name": "stderr",
     "output_type": "stream",
     "text": [
      "\r",
      "[umls] parsing edges:  17%|██▉              | 1.12M/6.50M [00:34<00:31, 171kedge/s]"
     ]
    },
    {
     "name": "stderr",
     "output_type": "stream",
     "text": [
      "\r",
      "[umls] parsing edges:  17%|██▉              | 1.14M/6.50M [00:34<00:30, 174kedge/s]"
     ]
    },
    {
     "name": "stderr",
     "output_type": "stream",
     "text": [
      "\r",
      "[umls] parsing edges:  18%|███              | 1.15M/6.50M [00:34<00:30, 176kedge/s]"
     ]
    },
    {
     "name": "stderr",
     "output_type": "stream",
     "text": [
      "\r",
      "[umls] parsing edges:  18%|███              | 1.17M/6.50M [00:34<00:29, 178kedge/s]"
     ]
    },
    {
     "name": "stderr",
     "output_type": "stream",
     "text": [
      "\r",
      "[umls] parsing edges:  18%|███              | 1.19M/6.50M [00:35<00:29, 179kedge/s]"
     ]
    },
    {
     "name": "stderr",
     "output_type": "stream",
     "text": [
      "\r",
      "[umls] parsing edges:  19%|███▏             | 1.21M/6.50M [00:35<00:29, 180kedge/s]"
     ]
    },
    {
     "name": "stderr",
     "output_type": "stream",
     "text": [
      "\r",
      "[umls] parsing edges:  19%|███▏             | 1.23M/6.50M [00:35<00:29, 180kedge/s]"
     ]
    },
    {
     "name": "stderr",
     "output_type": "stream",
     "text": [
      "\r",
      "[umls] parsing edges:  19%|███▎             | 1.25M/6.50M [00:35<00:29, 180kedge/s]"
     ]
    },
    {
     "name": "stderr",
     "output_type": "stream",
     "text": [
      "\r",
      "[umls] parsing edges:  19%|███▎             | 1.26M/6.50M [00:35<00:28, 180kedge/s]"
     ]
    },
    {
     "name": "stderr",
     "output_type": "stream",
     "text": [
      "\r",
      "[umls] parsing edges:  20%|███▎             | 1.28M/6.50M [00:35<00:28, 180kedge/s]"
     ]
    },
    {
     "name": "stderr",
     "output_type": "stream",
     "text": [
      "\r",
      "[umls] parsing edges:  20%|███▍             | 1.30M/6.50M [00:35<00:28, 181kedge/s]"
     ]
    },
    {
     "name": "stderr",
     "output_type": "stream",
     "text": [
      "\r",
      "[umls] parsing edges:  20%|███▍             | 1.32M/6.50M [00:35<00:28, 182kedge/s]"
     ]
    },
    {
     "name": "stderr",
     "output_type": "stream",
     "text": [
      "\r",
      "[umls] parsing edges:  21%|███▍             | 1.34M/6.50M [00:35<00:28, 182kedge/s]"
     ]
    },
    {
     "name": "stderr",
     "output_type": "stream",
     "text": [
      "\r",
      "[umls] parsing edges:  21%|███▍             | 1.34M/6.50M [00:52<00:28, 182kedge/s]"
     ]
    },
    {
     "name": "stderr",
     "output_type": "stream",
     "text": [
      "\r",
      "[umls] parsing edges:  21%|███▎            | 1.35M/6.50M [00:52<23:50, 3.60kedge/s]"
     ]
    },
    {
     "name": "stderr",
     "output_type": "stream",
     "text": [
      "\r",
      "[umls] parsing edges:  21%|███▍            | 1.37M/6.50M [00:52<16:43, 5.10kedge/s]"
     ]
    },
    {
     "name": "stderr",
     "output_type": "stream",
     "text": [
      "\r",
      "[umls] parsing edges:  21%|███▍            | 1.39M/6.50M [00:52<11:48, 7.21kedge/s]"
     ]
    },
    {
     "name": "stderr",
     "output_type": "stream",
     "text": [
      "\r",
      "[umls] parsing edges:  22%|███▍            | 1.41M/6.50M [00:52<08:21, 10.1kedge/s]"
     ]
    },
    {
     "name": "stderr",
     "output_type": "stream",
     "text": [
      "\r",
      "[umls] parsing edges:  22%|███▌            | 1.43M/6.50M [00:52<05:57, 14.2kedge/s]"
     ]
    },
    {
     "name": "stderr",
     "output_type": "stream",
     "text": [
      "\r",
      "[umls] parsing edges:  22%|███▌            | 1.45M/6.50M [00:52<04:17, 19.6kedge/s]"
     ]
    },
    {
     "name": "stderr",
     "output_type": "stream",
     "text": [
      "\r",
      "[umls] parsing edges:  23%|███▌            | 1.46M/6.50M [00:53<03:07, 26.8kedge/s]"
     ]
    },
    {
     "name": "stderr",
     "output_type": "stream",
     "text": [
      "\r",
      "[umls] parsing edges:  23%|███▋            | 1.48M/6.50M [00:53<02:19, 36.0kedge/s]"
     ]
    },
    {
     "name": "stderr",
     "output_type": "stream",
     "text": [
      "\r",
      "[umls] parsing edges:  23%|███▋            | 1.50M/6.50M [00:53<01:45, 47.4kedge/s]"
     ]
    },
    {
     "name": "stderr",
     "output_type": "stream",
     "text": [
      "\r",
      "[umls] parsing edges:  23%|███▋            | 1.52M/6.50M [00:53<01:21, 61.3kedge/s]"
     ]
    },
    {
     "name": "stderr",
     "output_type": "stream",
     "text": [
      "\r",
      "[umls] parsing edges:  24%|███▊            | 1.54M/6.50M [00:53<01:04, 76.4kedge/s]"
     ]
    },
    {
     "name": "stderr",
     "output_type": "stream",
     "text": [
      "\r",
      "[umls] parsing edges:  24%|███▊            | 1.56M/6.50M [00:53<00:53, 92.7kedge/s]"
     ]
    },
    {
     "name": "stderr",
     "output_type": "stream",
     "text": [
      "\r",
      "[umls] parsing edges:  24%|████             | 1.57M/6.50M [00:53<00:45, 109kedge/s]"
     ]
    },
    {
     "name": "stderr",
     "output_type": "stream",
     "text": [
      "\r",
      "[umls] parsing edges:  25%|████▏            | 1.59M/6.50M [00:53<00:39, 123kedge/s]"
     ]
    },
    {
     "name": "stderr",
     "output_type": "stream",
     "text": [
      "\r",
      "[umls] parsing edges:  25%|████▏            | 1.61M/6.50M [00:53<00:35, 137kedge/s]"
     ]
    },
    {
     "name": "stderr",
     "output_type": "stream",
     "text": [
      "\r",
      "[umls] parsing edges:  25%|████▎            | 1.63M/6.50M [00:53<00:32, 148kedge/s]"
     ]
    },
    {
     "name": "stderr",
     "output_type": "stream",
     "text": [
      "\r",
      "[umls] parsing edges:  25%|████▎            | 1.65M/6.50M [00:54<00:30, 157kedge/s]"
     ]
    },
    {
     "name": "stderr",
     "output_type": "stream",
     "text": [
      "\r",
      "[umls] parsing edges:  26%|████▎            | 1.67M/6.50M [00:54<00:29, 164kedge/s]"
     ]
    },
    {
     "name": "stderr",
     "output_type": "stream",
     "text": [
      "\r",
      "[umls] parsing edges:  26%|████▍            | 1.68M/6.50M [00:54<00:28, 169kedge/s]"
     ]
    },
    {
     "name": "stderr",
     "output_type": "stream",
     "text": [
      "\r",
      "[umls] parsing edges:  26%|████▍            | 1.70M/6.50M [00:54<00:27, 174kedge/s]"
     ]
    },
    {
     "name": "stderr",
     "output_type": "stream",
     "text": [
      "\r",
      "[umls] parsing edges:  27%|████▌            | 1.72M/6.50M [00:54<00:26, 177kedge/s]"
     ]
    },
    {
     "name": "stderr",
     "output_type": "stream",
     "text": [
      "\r",
      "[umls] parsing edges:  27%|████▌            | 1.74M/6.50M [00:54<00:26, 179kedge/s]"
     ]
    },
    {
     "name": "stderr",
     "output_type": "stream",
     "text": [
      "\r",
      "[umls] parsing edges:  27%|████▌            | 1.76M/6.50M [00:54<00:26, 181kedge/s]"
     ]
    },
    {
     "name": "stderr",
     "output_type": "stream",
     "text": [
      "\r",
      "[umls] parsing edges:  27%|████▋            | 1.78M/6.50M [00:54<00:26, 181kedge/s]"
     ]
    },
    {
     "name": "stderr",
     "output_type": "stream",
     "text": [
      "\r",
      "[umls] parsing edges:  28%|████▋            | 1.80M/6.50M [00:54<00:25, 181kedge/s]"
     ]
    },
    {
     "name": "stderr",
     "output_type": "stream",
     "text": [
      "\r",
      "[umls] parsing edges:  28%|████▋            | 1.81M/6.50M [00:54<00:25, 182kedge/s]"
     ]
    },
    {
     "name": "stderr",
     "output_type": "stream",
     "text": [
      "\r",
      "[umls] parsing edges:  28%|████▊            | 1.83M/6.50M [00:55<00:25, 183kedge/s]"
     ]
    },
    {
     "name": "stderr",
     "output_type": "stream",
     "text": [
      "\r",
      "[umls] parsing edges:  28%|████▊            | 1.85M/6.50M [00:55<00:25, 182kedge/s]"
     ]
    },
    {
     "name": "stderr",
     "output_type": "stream",
     "text": [
      "\r",
      "[umls] parsing edges:  29%|████▉            | 1.87M/6.50M [00:55<00:25, 181kedge/s]"
     ]
    },
    {
     "name": "stderr",
     "output_type": "stream",
     "text": [
      "\r",
      "[umls] parsing edges:  29%|████▉            | 1.89M/6.50M [00:55<00:25, 182kedge/s]"
     ]
    },
    {
     "name": "stderr",
     "output_type": "stream",
     "text": [
      "\r",
      "[umls] parsing edges:  29%|████▉            | 1.91M/6.50M [00:55<00:25, 182kedge/s]"
     ]
    },
    {
     "name": "stderr",
     "output_type": "stream",
     "text": [
      "\r",
      "[umls] parsing edges:  30%|█████            | 1.92M/6.50M [00:55<00:25, 183kedge/s]"
     ]
    },
    {
     "name": "stderr",
     "output_type": "stream",
     "text": [
      "\r",
      "[umls] parsing edges:  30%|█████            | 1.94M/6.50M [00:55<00:24, 184kedge/s]"
     ]
    },
    {
     "name": "stderr",
     "output_type": "stream",
     "text": [
      "\r",
      "[umls] parsing edges:  30%|█████▏           | 1.96M/6.50M [00:55<00:24, 184kedge/s]"
     ]
    },
    {
     "name": "stderr",
     "output_type": "stream",
     "text": [
      "\r",
      "[umls] parsing edges:  30%|█████▏           | 1.98M/6.50M [00:55<00:24, 184kedge/s]"
     ]
    },
    {
     "name": "stderr",
     "output_type": "stream",
     "text": [
      "\r",
      "[umls] parsing edges:  31%|█████▏           | 2.00M/6.50M [00:55<00:24, 184kedge/s]"
     ]
    },
    {
     "name": "stderr",
     "output_type": "stream",
     "text": [
      "\r",
      "[umls] parsing edges:  31%|█████▎           | 2.02M/6.50M [00:56<00:24, 182kedge/s]"
     ]
    },
    {
     "name": "stderr",
     "output_type": "stream",
     "text": [
      "\r",
      "[umls] parsing edges:  31%|█████▎           | 2.03M/6.50M [00:56<00:24, 182kedge/s]"
     ]
    },
    {
     "name": "stderr",
     "output_type": "stream",
     "text": [
      "\r",
      "[umls] parsing edges:  32%|█████▎           | 2.05M/6.50M [00:56<00:24, 182kedge/s]"
     ]
    },
    {
     "name": "stderr",
     "output_type": "stream",
     "text": [
      "\r",
      "[umls] parsing edges:  32%|█████▍           | 2.07M/6.50M [00:56<00:24, 181kedge/s]"
     ]
    },
    {
     "name": "stderr",
     "output_type": "stream",
     "text": [
      "\r",
      "[umls] parsing edges:  32%|█████▍           | 2.07M/6.50M [01:14<00:24, 181kedge/s]"
     ]
    },
    {
     "name": "stderr",
     "output_type": "stream",
     "text": [
      "\r",
      "[umls] parsing edges:  32%|█████           | 2.08M/6.50M [01:14<25:32, 2.88kedge/s]"
     ]
    },
    {
     "name": "stderr",
     "output_type": "stream",
     "text": [
      "\r",
      "[umls] parsing edges:  32%|█████▏          | 2.10M/6.50M [01:14<16:58, 4.32kedge/s]"
     ]
    },
    {
     "name": "stderr",
     "output_type": "stream",
     "text": [
      "\r",
      "[umls] parsing edges:  33%|█████▏          | 2.12M/6.50M [01:14<11:25, 6.38kedge/s]"
     ]
    },
    {
     "name": "stderr",
     "output_type": "stream",
     "text": [
      "\r",
      "[umls] parsing edges:  33%|█████▎          | 2.14M/6.50M [01:14<07:50, 9.27kedge/s]"
     ]
    },
    {
     "name": "stderr",
     "output_type": "stream",
     "text": [
      "\r",
      "[umls] parsing edges:  33%|█████▎          | 2.16M/6.50M [01:14<05:27, 13.2kedge/s]"
     ]
    },
    {
     "name": "stderr",
     "output_type": "stream",
     "text": [
      "\r",
      "[umls] parsing edges:  33%|█████▎          | 2.18M/6.50M [01:14<03:52, 18.6kedge/s]"
     ]
    },
    {
     "name": "stderr",
     "output_type": "stream",
     "text": [
      "\r",
      "[umls] parsing edges:  34%|█████▍          | 2.19M/6.50M [01:14<02:47, 25.7kedge/s]"
     ]
    },
    {
     "name": "stderr",
     "output_type": "stream",
     "text": [
      "\r",
      "[umls] parsing edges:  34%|█████▍          | 2.21M/6.50M [01:14<02:02, 34.8kedge/s]"
     ]
    },
    {
     "name": "stderr",
     "output_type": "stream",
     "text": [
      "\r",
      "[umls] parsing edges:  34%|█████▍          | 2.23M/6.50M [01:14<01:32, 46.3kedge/s]"
     ]
    },
    {
     "name": "stderr",
     "output_type": "stream",
     "text": [
      "\r",
      "[umls] parsing edges:  35%|█████▌          | 2.25M/6.50M [01:15<01:10, 60.3kedge/s]"
     ]
    },
    {
     "name": "stderr",
     "output_type": "stream",
     "text": [
      "\r",
      "[umls] parsing edges:  35%|█████▌          | 2.27M/6.50M [01:15<00:55, 75.8kedge/s]"
     ]
    },
    {
     "name": "stderr",
     "output_type": "stream",
     "text": [
      "\r",
      "[umls] parsing edges:  35%|█████▋          | 2.29M/6.50M [01:15<00:45, 92.5kedge/s]"
     ]
    },
    {
     "name": "stderr",
     "output_type": "stream",
     "text": [
      "\r",
      "[umls] parsing edges:  36%|██████           | 2.31M/6.50M [01:15<00:38, 109kedge/s]"
     ]
    },
    {
     "name": "stderr",
     "output_type": "stream",
     "text": [
      "\r",
      "[umls] parsing edges:  36%|██████           | 2.33M/6.50M [01:15<00:33, 125kedge/s]"
     ]
    },
    {
     "name": "stderr",
     "output_type": "stream",
     "text": [
      "\r",
      "[umls] parsing edges:  36%|██████▏          | 2.35M/6.50M [01:15<00:29, 140kedge/s]"
     ]
    },
    {
     "name": "stderr",
     "output_type": "stream",
     "text": [
      "\r",
      "[umls] parsing edges:  36%|██████▏          | 2.37M/6.50M [01:15<00:27, 152kedge/s]"
     ]
    },
    {
     "name": "stderr",
     "output_type": "stream",
     "text": [
      "\r",
      "[umls] parsing edges:  37%|██████▏          | 2.38M/6.50M [01:15<00:25, 161kedge/s]"
     ]
    },
    {
     "name": "stderr",
     "output_type": "stream",
     "text": [
      "\r",
      "[umls] parsing edges:  37%|██████▎          | 2.40M/6.50M [01:15<00:24, 168kedge/s]"
     ]
    },
    {
     "name": "stderr",
     "output_type": "stream",
     "text": [
      "\r",
      "[umls] parsing edges:  37%|██████▎          | 2.42M/6.50M [01:15<00:23, 174kedge/s]"
     ]
    },
    {
     "name": "stderr",
     "output_type": "stream",
     "text": [
      "\r",
      "[umls] parsing edges:  38%|██████▍          | 2.44M/6.50M [01:16<00:22, 178kedge/s]"
     ]
    },
    {
     "name": "stderr",
     "output_type": "stream",
     "text": [
      "\r",
      "[umls] parsing edges:  38%|██████▍          | 2.46M/6.50M [01:16<00:22, 181kedge/s]"
     ]
    },
    {
     "name": "stderr",
     "output_type": "stream",
     "text": [
      "\r",
      "[umls] parsing edges:  38%|██████▍          | 2.48M/6.50M [01:16<00:21, 183kedge/s]"
     ]
    },
    {
     "name": "stderr",
     "output_type": "stream",
     "text": [
      "\r",
      "[umls] parsing edges:  38%|██████▌          | 2.50M/6.50M [01:16<00:21, 185kedge/s]"
     ]
    },
    {
     "name": "stderr",
     "output_type": "stream",
     "text": [
      "\r",
      "[umls] parsing edges:  39%|██████▌          | 2.52M/6.50M [01:16<00:21, 186kedge/s]"
     ]
    },
    {
     "name": "stderr",
     "output_type": "stream",
     "text": [
      "\r",
      "[umls] parsing edges:  39%|██████▋          | 2.54M/6.50M [01:16<00:21, 187kedge/s]"
     ]
    },
    {
     "name": "stderr",
     "output_type": "stream",
     "text": [
      "\r",
      "[umls] parsing edges:  39%|██████▋          | 2.55M/6.50M [01:16<00:20, 188kedge/s]"
     ]
    },
    {
     "name": "stderr",
     "output_type": "stream",
     "text": [
      "\r",
      "[umls] parsing edges:  40%|██████▋          | 2.57M/6.50M [01:16<00:20, 188kedge/s]"
     ]
    },
    {
     "name": "stderr",
     "output_type": "stream",
     "text": [
      "\r",
      "[umls] parsing edges:  40%|██████▊          | 2.59M/6.50M [01:16<00:20, 188kedge/s]"
     ]
    },
    {
     "name": "stderr",
     "output_type": "stream",
     "text": [
      "\r",
      "[umls] parsing edges:  40%|██████▊          | 2.61M/6.50M [01:16<00:20, 189kedge/s]"
     ]
    },
    {
     "name": "stderr",
     "output_type": "stream",
     "text": [
      "\r",
      "[umls] parsing edges:  40%|██████▉          | 2.63M/6.50M [01:17<00:20, 188kedge/s]"
     ]
    },
    {
     "name": "stderr",
     "output_type": "stream",
     "text": [
      "\r",
      "[umls] parsing edges:  41%|██████▉          | 2.65M/6.50M [01:17<00:20, 188kedge/s]"
     ]
    },
    {
     "name": "stderr",
     "output_type": "stream",
     "text": [
      "\r",
      "[umls] parsing edges:  41%|██████▉          | 2.67M/6.50M [01:17<00:20, 187kedge/s]"
     ]
    },
    {
     "name": "stderr",
     "output_type": "stream",
     "text": [
      "\r",
      "[umls] parsing edges:  41%|███████          | 2.69M/6.50M [01:17<00:20, 187kedge/s]"
     ]
    },
    {
     "name": "stderr",
     "output_type": "stream",
     "text": [
      "\r",
      "[umls] parsing edges:  42%|███████          | 2.71M/6.50M [01:17<00:20, 188kedge/s]"
     ]
    },
    {
     "name": "stderr",
     "output_type": "stream",
     "text": [
      "\r",
      "[umls] parsing edges:  42%|███████▏         | 2.72M/6.50M [01:17<00:20, 188kedge/s]"
     ]
    },
    {
     "name": "stderr",
     "output_type": "stream",
     "text": [
      "\r",
      "[umls] parsing edges:  42%|███████▏         | 2.74M/6.50M [01:17<00:19, 189kedge/s]"
     ]
    },
    {
     "name": "stderr",
     "output_type": "stream",
     "text": [
      "\r",
      "[umls] parsing edges:  43%|███████▏         | 2.76M/6.50M [01:17<00:19, 189kedge/s]"
     ]
    },
    {
     "name": "stderr",
     "output_type": "stream",
     "text": [
      "\r",
      "[umls] parsing edges:  43%|███████▎         | 2.78M/6.50M [01:17<00:19, 188kedge/s]"
     ]
    },
    {
     "name": "stderr",
     "output_type": "stream",
     "text": [
      "\r",
      "[umls] parsing edges:  43%|███████▎         | 2.80M/6.50M [01:17<00:19, 189kedge/s]"
     ]
    },
    {
     "name": "stderr",
     "output_type": "stream",
     "text": [
      "\r",
      "[umls] parsing edges:  43%|███████▍         | 2.82M/6.50M [01:18<00:19, 188kedge/s]"
     ]
    },
    {
     "name": "stderr",
     "output_type": "stream",
     "text": [
      "\r",
      "[umls] parsing edges:  44%|███████▍         | 2.84M/6.50M [01:18<00:19, 188kedge/s]"
     ]
    },
    {
     "name": "stderr",
     "output_type": "stream",
     "text": [
      "\r",
      "[umls] parsing edges:  44%|███████▍         | 2.86M/6.50M [01:18<00:19, 188kedge/s]"
     ]
    },
    {
     "name": "stderr",
     "output_type": "stream",
     "text": [
      "\r",
      "[umls] parsing edges:  44%|███████▌         | 2.88M/6.50M [01:18<00:19, 188kedge/s]"
     ]
    },
    {
     "name": "stderr",
     "output_type": "stream",
     "text": [
      "\r",
      "[umls] parsing edges:  45%|███████▌         | 2.90M/6.50M [01:18<00:19, 189kedge/s]"
     ]
    },
    {
     "name": "stderr",
     "output_type": "stream",
     "text": [
      "\r",
      "[umls] parsing edges:  45%|███████▋         | 2.91M/6.50M [01:18<00:18, 190kedge/s]"
     ]
    },
    {
     "name": "stderr",
     "output_type": "stream",
     "text": [
      "\r",
      "[umls] parsing edges:  45%|███████▋         | 2.93M/6.50M [01:18<00:18, 190kedge/s]"
     ]
    },
    {
     "name": "stderr",
     "output_type": "stream",
     "text": [
      "\r",
      "[umls] parsing edges:  45%|███████▋         | 2.95M/6.50M [01:18<00:18, 189kedge/s]"
     ]
    },
    {
     "name": "stderr",
     "output_type": "stream",
     "text": [
      "\r",
      "[umls] parsing edges:  46%|███████▊         | 2.97M/6.50M [01:18<00:18, 189kedge/s]"
     ]
    },
    {
     "name": "stderr",
     "output_type": "stream",
     "text": [
      "\r",
      "[umls] parsing edges:  46%|███████▊         | 2.97M/6.50M [01:36<00:18, 189kedge/s]"
     ]
    },
    {
     "name": "stderr",
     "output_type": "stream",
     "text": [
      "\r",
      "[umls] parsing edges:  46%|███████▎        | 2.99M/6.50M [01:36<17:24, 3.36kedge/s]"
     ]
    },
    {
     "name": "stderr",
     "output_type": "stream",
     "text": [
      "\r",
      "[umls] parsing edges:  46%|███████▍        | 3.01M/6.50M [01:36<12:08, 4.79kedge/s]"
     ]
    },
    {
     "name": "stderr",
     "output_type": "stream",
     "text": [
      "\r",
      "[umls] parsing edges:  47%|███████▍        | 3.03M/6.50M [01:36<08:28, 6.83kedge/s]"
     ]
    },
    {
     "name": "stderr",
     "output_type": "stream",
     "text": [
      "\r",
      "[umls] parsing edges:  47%|███████▍        | 3.04M/6.50M [01:36<05:55, 9.70kedge/s]"
     ]
    },
    {
     "name": "stderr",
     "output_type": "stream",
     "text": [
      "\r",
      "[umls] parsing edges:  47%|███████▌        | 3.06M/6.50M [01:37<04:12, 13.6kedge/s]"
     ]
    },
    {
     "name": "stderr",
     "output_type": "stream",
     "text": [
      "\r",
      "[umls] parsing edges:  47%|███████▌        | 3.08M/6.50M [01:37<03:00, 18.9kedge/s]"
     ]
    },
    {
     "name": "stderr",
     "output_type": "stream",
     "text": [
      "\r",
      "[umls] parsing edges:  48%|███████▋        | 3.10M/6.50M [01:37<02:11, 25.9kedge/s]"
     ]
    },
    {
     "name": "stderr",
     "output_type": "stream",
     "text": [
      "\r",
      "[umls] parsing edges:  48%|███████▋        | 3.12M/6.50M [01:37<01:36, 35.1kedge/s]"
     ]
    },
    {
     "name": "stderr",
     "output_type": "stream",
     "text": [
      "\r",
      "[umls] parsing edges:  48%|███████▋        | 3.14M/6.50M [01:37<01:12, 46.3kedge/s]"
     ]
    },
    {
     "name": "stderr",
     "output_type": "stream",
     "text": [
      "\r",
      "[umls] parsing edges:  49%|███████▊        | 3.16M/6.50M [01:37<00:56, 59.1kedge/s]"
     ]
    },
    {
     "name": "stderr",
     "output_type": "stream",
     "text": [
      "\r",
      "[umls] parsing edges:  49%|███████▊        | 3.18M/6.50M [01:37<00:44, 74.0kedge/s]"
     ]
    },
    {
     "name": "stderr",
     "output_type": "stream",
     "text": [
      "\r",
      "[umls] parsing edges:  49%|███████▊        | 3.20M/6.50M [01:37<00:36, 90.8kedge/s]"
     ]
    },
    {
     "name": "stderr",
     "output_type": "stream",
     "text": [
      "\r",
      "[umls] parsing edges:  49%|████████▍        | 3.21M/6.50M [01:37<00:30, 108kedge/s]"
     ]
    },
    {
     "name": "stderr",
     "output_type": "stream",
     "text": [
      "\r",
      "[umls] parsing edges:  50%|████████▍        | 3.23M/6.50M [01:37<00:26, 123kedge/s]"
     ]
    },
    {
     "name": "stderr",
     "output_type": "stream",
     "text": [
      "\r",
      "[umls] parsing edges:  50%|████████▌        | 3.25M/6.50M [01:38<00:23, 138kedge/s]"
     ]
    },
    {
     "name": "stderr",
     "output_type": "stream",
     "text": [
      "\r",
      "[umls] parsing edges:  50%|████████▌        | 3.27M/6.50M [01:38<00:21, 150kedge/s]"
     ]
    },
    {
     "name": "stderr",
     "output_type": "stream",
     "text": [
      "\r",
      "[umls] parsing edges:  51%|████████▌        | 3.29M/6.50M [01:38<00:20, 159kedge/s]"
     ]
    },
    {
     "name": "stderr",
     "output_type": "stream",
     "text": [
      "\r",
      "[umls] parsing edges:  51%|████████▋        | 3.31M/6.50M [01:38<00:19, 168kedge/s]"
     ]
    },
    {
     "name": "stderr",
     "output_type": "stream",
     "text": [
      "\r",
      "[umls] parsing edges:  51%|████████▋        | 3.33M/6.50M [01:38<00:18, 174kedge/s]"
     ]
    },
    {
     "name": "stderr",
     "output_type": "stream",
     "text": [
      "\r",
      "[umls] parsing edges:  52%|████████▊        | 3.35M/6.50M [01:38<00:17, 178kedge/s]"
     ]
    },
    {
     "name": "stderr",
     "output_type": "stream",
     "text": [
      "\r",
      "[umls] parsing edges:  52%|████████▊        | 3.37M/6.50M [01:38<00:17, 182kedge/s]"
     ]
    },
    {
     "name": "stderr",
     "output_type": "stream",
     "text": [
      "\r",
      "[umls] parsing edges:  52%|████████▊        | 3.38M/6.50M [01:38<00:16, 184kedge/s]"
     ]
    },
    {
     "name": "stderr",
     "output_type": "stream",
     "text": [
      "\r",
      "[umls] parsing edges:  52%|████████▉        | 3.40M/6.50M [01:38<00:16, 185kedge/s]"
     ]
    },
    {
     "name": "stderr",
     "output_type": "stream",
     "text": [
      "\r",
      "[umls] parsing edges:  53%|████████▉        | 3.42M/6.50M [01:38<00:16, 187kedge/s]"
     ]
    },
    {
     "name": "stderr",
     "output_type": "stream",
     "text": [
      "\r",
      "[umls] parsing edges:  53%|█████████        | 3.44M/6.50M [01:39<00:16, 188kedge/s]"
     ]
    },
    {
     "name": "stderr",
     "output_type": "stream",
     "text": [
      "\r",
      "[umls] parsing edges:  53%|█████████        | 3.46M/6.50M [01:39<00:16, 188kedge/s]"
     ]
    },
    {
     "name": "stderr",
     "output_type": "stream",
     "text": [
      "\r",
      "[umls] parsing edges:  54%|█████████        | 3.48M/6.50M [01:39<00:16, 188kedge/s]"
     ]
    },
    {
     "name": "stderr",
     "output_type": "stream",
     "text": [
      "\r",
      "[umls] parsing edges:  54%|█████████▏       | 3.50M/6.50M [01:39<00:15, 189kedge/s]"
     ]
    },
    {
     "name": "stderr",
     "output_type": "stream",
     "text": [
      "\r",
      "[umls] parsing edges:  54%|█████████▏       | 3.52M/6.50M [01:39<00:15, 190kedge/s]"
     ]
    },
    {
     "name": "stderr",
     "output_type": "stream",
     "text": [
      "\r",
      "[umls] parsing edges:  54%|█████████▎       | 3.54M/6.50M [01:39<00:15, 189kedge/s]"
     ]
    },
    {
     "name": "stderr",
     "output_type": "stream",
     "text": [
      "\r",
      "[umls] parsing edges:  55%|█████████▎       | 3.56M/6.50M [01:39<00:15, 189kedge/s]"
     ]
    },
    {
     "name": "stderr",
     "output_type": "stream",
     "text": [
      "\r",
      "[umls] parsing edges:  55%|█████████▎       | 3.57M/6.50M [01:39<00:15, 190kedge/s]"
     ]
    },
    {
     "name": "stderr",
     "output_type": "stream",
     "text": [
      "\r",
      "[umls] parsing edges:  55%|█████████▍       | 3.59M/6.50M [01:39<00:15, 190kedge/s]"
     ]
    },
    {
     "name": "stderr",
     "output_type": "stream",
     "text": [
      "\r",
      "[umls] parsing edges:  56%|█████████▍       | 3.61M/6.50M [01:39<00:15, 190kedge/s]"
     ]
    },
    {
     "name": "stderr",
     "output_type": "stream",
     "text": [
      "\r",
      "[umls] parsing edges:  56%|█████████▌       | 3.63M/6.50M [01:40<00:15, 189kedge/s]"
     ]
    },
    {
     "name": "stderr",
     "output_type": "stream",
     "text": [
      "\r",
      "[umls] parsing edges:  56%|█████████▌       | 3.65M/6.50M [01:40<00:15, 189kedge/s]"
     ]
    },
    {
     "name": "stderr",
     "output_type": "stream",
     "text": [
      "\r",
      "[umls] parsing edges:  56%|█████████▌       | 3.67M/6.50M [01:40<00:14, 189kedge/s]"
     ]
    },
    {
     "name": "stderr",
     "output_type": "stream",
     "text": [
      "\r",
      "[umls] parsing edges:  57%|█████████▋       | 3.69M/6.50M [01:40<00:14, 189kedge/s]"
     ]
    },
    {
     "name": "stderr",
     "output_type": "stream",
     "text": [
      "\r",
      "[umls] parsing edges:  57%|█████████▋       | 3.71M/6.50M [01:40<00:14, 189kedge/s]"
     ]
    },
    {
     "name": "stderr",
     "output_type": "stream",
     "text": [
      "\r",
      "[umls] parsing edges:  57%|█████████▊       | 3.73M/6.50M [01:40<00:14, 189kedge/s]"
     ]
    },
    {
     "name": "stderr",
     "output_type": "stream",
     "text": [
      "\r",
      "[umls] parsing edges:  58%|█████████▊       | 3.75M/6.50M [01:40<00:14, 189kedge/s]"
     ]
    },
    {
     "name": "stderr",
     "output_type": "stream",
     "text": [
      "\r",
      "[umls] parsing edges:  58%|█████████▊       | 3.76M/6.50M [01:40<00:14, 189kedge/s]"
     ]
    },
    {
     "name": "stderr",
     "output_type": "stream",
     "text": [
      "\r",
      "[umls] parsing edges:  58%|█████████▉       | 3.78M/6.50M [01:40<00:14, 190kedge/s]"
     ]
    },
    {
     "name": "stderr",
     "output_type": "stream",
     "text": [
      "\r",
      "[umls] parsing edges:  59%|█████████▉       | 3.80M/6.50M [01:40<00:14, 188kedge/s]"
     ]
    },
    {
     "name": "stderr",
     "output_type": "stream",
     "text": [
      "\r",
      "[umls] parsing edges:  59%|██████████       | 3.82M/6.50M [01:41<00:14, 189kedge/s]"
     ]
    },
    {
     "name": "stderr",
     "output_type": "stream",
     "text": [
      "\r",
      "[umls] parsing edges:  59%|██████████       | 3.84M/6.50M [01:41<00:14, 189kedge/s]"
     ]
    },
    {
     "name": "stderr",
     "output_type": "stream",
     "text": [
      "\r",
      "[umls] parsing edges:  59%|██████████       | 3.86M/6.50M [01:41<00:13, 189kedge/s]"
     ]
    },
    {
     "name": "stderr",
     "output_type": "stream",
     "text": [
      "\r",
      "[umls] parsing edges:  60%|██████████▏      | 3.88M/6.50M [01:41<00:13, 189kedge/s]"
     ]
    },
    {
     "name": "stderr",
     "output_type": "stream",
     "text": [
      "\r",
      "[umls] parsing edges:  60%|██████████▏      | 3.90M/6.50M [01:41<00:13, 189kedge/s]"
     ]
    },
    {
     "name": "stderr",
     "output_type": "stream",
     "text": [
      "\r",
      "[umls] parsing edges:  60%|██████████▏      | 3.92M/6.50M [01:41<00:13, 187kedge/s]"
     ]
    },
    {
     "name": "stderr",
     "output_type": "stream",
     "text": [
      "\r",
      "[umls] parsing edges:  61%|██████████▎      | 3.93M/6.50M [01:41<00:13, 187kedge/s]"
     ]
    },
    {
     "name": "stderr",
     "output_type": "stream",
     "text": [
      "\r",
      "[umls] parsing edges:  61%|██████████▎      | 3.95M/6.50M [01:41<00:13, 188kedge/s]"
     ]
    },
    {
     "name": "stderr",
     "output_type": "stream",
     "text": [
      "\r",
      "[umls] parsing edges:  61%|██████████▍      | 3.97M/6.50M [01:41<00:13, 189kedge/s]"
     ]
    },
    {
     "name": "stderr",
     "output_type": "stream",
     "text": [
      "\r",
      "[umls] parsing edges:  61%|██████████▍      | 3.99M/6.50M [01:41<00:13, 188kedge/s]"
     ]
    },
    {
     "name": "stderr",
     "output_type": "stream",
     "text": [
      "\r",
      "[umls] parsing edges:  62%|██████████▍      | 4.01M/6.50M [01:42<00:13, 186kedge/s]"
     ]
    },
    {
     "name": "stderr",
     "output_type": "stream",
     "text": [
      "\r",
      "[umls] parsing edges:  62%|██████████▌      | 4.03M/6.50M [01:42<00:13, 184kedge/s]"
     ]
    },
    {
     "name": "stderr",
     "output_type": "stream",
     "text": [
      "\r",
      "[umls] parsing edges:  62%|██████████▌      | 4.05M/6.50M [01:42<00:13, 186kedge/s]"
     ]
    },
    {
     "name": "stderr",
     "output_type": "stream",
     "text": [
      "\r",
      "[umls] parsing edges:  63%|██████████▋      | 4.07M/6.50M [01:42<00:12, 187kedge/s]"
     ]
    },
    {
     "name": "stderr",
     "output_type": "stream",
     "text": [
      "\r",
      "[umls] parsing edges:  63%|██████████▋      | 4.09M/6.50M [01:42<00:12, 186kedge/s]"
     ]
    },
    {
     "name": "stderr",
     "output_type": "stream",
     "text": [
      "\r",
      "[umls] parsing edges:  63%|██████████▋      | 4.10M/6.50M [01:42<00:12, 187kedge/s]"
     ]
    },
    {
     "name": "stderr",
     "output_type": "stream",
     "text": [
      "\r",
      "[umls] parsing edges:  63%|██████████▋      | 4.10M/6.50M [02:01<00:12, 187kedge/s]"
     ]
    },
    {
     "name": "stderr",
     "output_type": "stream",
     "text": [
      "\r",
      "[umls] parsing edges:  63%|██████████▏     | 4.12M/6.50M [02:01<12:33, 3.15kedge/s]"
     ]
    },
    {
     "name": "stderr",
     "output_type": "stream",
     "text": [
      "\r",
      "[umls] parsing edges:  64%|██████████▏     | 4.14M/6.50M [02:01<08:43, 4.50kedge/s]"
     ]
    },
    {
     "name": "stderr",
     "output_type": "stream",
     "text": [
      "\r",
      "[umls] parsing edges:  64%|██████████▏     | 4.16M/6.50M [02:01<06:04, 6.41kedge/s]"
     ]
    },
    {
     "name": "stderr",
     "output_type": "stream",
     "text": [
      "\r",
      "[umls] parsing edges:  64%|██████████▎     | 4.18M/6.50M [02:02<04:15, 9.09kedge/s]"
     ]
    },
    {
     "name": "stderr",
     "output_type": "stream",
     "text": [
      "\r",
      "[umls] parsing edges:  65%|██████████▎     | 4.20M/6.50M [02:02<03:00, 12.7kedge/s]"
     ]
    },
    {
     "name": "stderr",
     "output_type": "stream",
     "text": [
      "\r",
      "[umls] parsing edges:  65%|██████████▍     | 4.22M/6.50M [02:02<02:08, 17.7kedge/s]"
     ]
    },
    {
     "name": "stderr",
     "output_type": "stream",
     "text": [
      "\r",
      "[umls] parsing edges:  65%|██████████▍     | 4.23M/6.50M [02:02<01:33, 24.3kedge/s]"
     ]
    },
    {
     "name": "stderr",
     "output_type": "stream",
     "text": [
      "\r",
      "[umls] parsing edges:  65%|██████████▍     | 4.25M/6.50M [02:02<01:08, 33.0kedge/s]"
     ]
    },
    {
     "name": "stderr",
     "output_type": "stream",
     "text": [
      "\r",
      "[umls] parsing edges:  66%|██████████▌     | 4.27M/6.50M [02:02<00:50, 43.8kedge/s]"
     ]
    },
    {
     "name": "stderr",
     "output_type": "stream",
     "text": [
      "\r",
      "[umls] parsing edges:  66%|██████████▌     | 4.29M/6.50M [02:02<00:38, 57.0kedge/s]"
     ]
    },
    {
     "name": "stderr",
     "output_type": "stream",
     "text": [
      "\r",
      "[umls] parsing edges:  66%|██████████▌     | 4.31M/6.50M [02:02<00:30, 72.1kedge/s]"
     ]
    },
    {
     "name": "stderr",
     "output_type": "stream",
     "text": [
      "\r",
      "[umls] parsing edges:  67%|██████████▋     | 4.33M/6.50M [02:02<00:24, 88.4kedge/s]"
     ]
    },
    {
     "name": "stderr",
     "output_type": "stream",
     "text": [
      "\r",
      "[umls] parsing edges:  67%|███████████▍     | 4.35M/6.50M [02:02<00:20, 105kedge/s]"
     ]
    },
    {
     "name": "stderr",
     "output_type": "stream",
     "text": [
      "\r",
      "[umls] parsing edges:  67%|███████████▍     | 4.37M/6.50M [02:03<00:17, 122kedge/s]"
     ]
    },
    {
     "name": "stderr",
     "output_type": "stream",
     "text": [
      "\r",
      "[umls] parsing edges:  68%|███████████▍     | 4.39M/6.50M [02:03<00:15, 136kedge/s]"
     ]
    },
    {
     "name": "stderr",
     "output_type": "stream",
     "text": [
      "\r",
      "[umls] parsing edges:  68%|███████████▌     | 4.41M/6.50M [02:03<00:14, 148kedge/s]"
     ]
    },
    {
     "name": "stderr",
     "output_type": "stream",
     "text": [
      "\r",
      "[umls] parsing edges:  68%|███████████▌     | 4.42M/6.50M [02:03<00:13, 158kedge/s]"
     ]
    },
    {
     "name": "stderr",
     "output_type": "stream",
     "text": [
      "\r",
      "[umls] parsing edges:  68%|███████████▋     | 4.44M/6.50M [02:03<00:12, 166kedge/s]"
     ]
    },
    {
     "name": "stderr",
     "output_type": "stream",
     "text": [
      "\r",
      "[umls] parsing edges:  69%|███████████▋     | 4.46M/6.50M [02:03<00:11, 172kedge/s]"
     ]
    },
    {
     "name": "stderr",
     "output_type": "stream",
     "text": [
      "\r",
      "[umls] parsing edges:  69%|███████████▋     | 4.48M/6.50M [02:03<00:11, 177kedge/s]"
     ]
    },
    {
     "name": "stderr",
     "output_type": "stream",
     "text": [
      "\r",
      "[umls] parsing edges:  69%|███████████▊     | 4.50M/6.50M [02:03<00:11, 180kedge/s]"
     ]
    },
    {
     "name": "stderr",
     "output_type": "stream",
     "text": [
      "\r",
      "[umls] parsing edges:  70%|███████████▊     | 4.52M/6.50M [02:03<00:10, 183kedge/s]"
     ]
    },
    {
     "name": "stderr",
     "output_type": "stream",
     "text": [
      "\r",
      "[umls] parsing edges:  70%|███████████▊     | 4.54M/6.50M [02:03<00:10, 185kedge/s]"
     ]
    },
    {
     "name": "stderr",
     "output_type": "stream",
     "text": [
      "\r",
      "[umls] parsing edges:  70%|███████████▉     | 4.56M/6.50M [02:04<00:10, 186kedge/s]"
     ]
    },
    {
     "name": "stderr",
     "output_type": "stream",
     "text": [
      "\r",
      "[umls] parsing edges:  70%|███████████▉     | 4.58M/6.50M [02:04<00:10, 186kedge/s]"
     ]
    },
    {
     "name": "stderr",
     "output_type": "stream",
     "text": [
      "\r",
      "[umls] parsing edges:  71%|████████████     | 4.59M/6.50M [02:04<00:10, 186kedge/s]"
     ]
    },
    {
     "name": "stderr",
     "output_type": "stream",
     "text": [
      "\r",
      "[umls] parsing edges:  71%|████████████     | 4.61M/6.50M [02:04<00:10, 187kedge/s]"
     ]
    },
    {
     "name": "stderr",
     "output_type": "stream",
     "text": [
      "\r",
      "[umls] parsing edges:  71%|████████████     | 4.63M/6.50M [02:04<00:09, 188kedge/s]"
     ]
    },
    {
     "name": "stderr",
     "output_type": "stream",
     "text": [
      "\r",
      "[umls] parsing edges:  72%|████████████▏    | 4.65M/6.50M [02:04<00:09, 188kedge/s]"
     ]
    },
    {
     "name": "stderr",
     "output_type": "stream",
     "text": [
      "\r",
      "[umls] parsing edges:  72%|████████████▏    | 4.67M/6.50M [02:04<00:09, 188kedge/s]"
     ]
    },
    {
     "name": "stderr",
     "output_type": "stream",
     "text": [
      "\r",
      "[umls] parsing edges:  72%|████████████▎    | 4.69M/6.50M [02:04<00:09, 188kedge/s]"
     ]
    },
    {
     "name": "stderr",
     "output_type": "stream",
     "text": [
      "\r",
      "[umls] parsing edges:  72%|████████████▎    | 4.71M/6.50M [02:04<00:09, 188kedge/s]"
     ]
    },
    {
     "name": "stderr",
     "output_type": "stream",
     "text": [
      "\r",
      "[umls] parsing edges:  73%|████████████▎    | 4.73M/6.50M [02:04<00:09, 188kedge/s]"
     ]
    },
    {
     "name": "stderr",
     "output_type": "stream",
     "text": [
      "\r",
      "[umls] parsing edges:  73%|████████████▍    | 4.75M/6.50M [02:05<00:09, 189kedge/s]"
     ]
    },
    {
     "name": "stderr",
     "output_type": "stream",
     "text": [
      "\r",
      "[umls] parsing edges:  73%|████████████▍    | 4.76M/6.50M [02:05<00:09, 188kedge/s]"
     ]
    },
    {
     "name": "stderr",
     "output_type": "stream",
     "text": [
      "\r",
      "[umls] parsing edges:  74%|████████████▌    | 4.78M/6.50M [02:05<00:09, 188kedge/s]"
     ]
    },
    {
     "name": "stderr",
     "output_type": "stream",
     "text": [
      "\r",
      "[umls] parsing edges:  74%|████████████▌    | 4.80M/6.50M [02:05<00:08, 189kedge/s]"
     ]
    },
    {
     "name": "stderr",
     "output_type": "stream",
     "text": [
      "\r",
      "[umls] parsing edges:  74%|████████████▌    | 4.82M/6.50M [02:05<00:08, 190kedge/s]"
     ]
    },
    {
     "name": "stderr",
     "output_type": "stream",
     "text": [
      "\r",
      "[umls] parsing edges:  75%|████████████▋    | 4.84M/6.50M [02:05<00:08, 190kedge/s]"
     ]
    },
    {
     "name": "stderr",
     "output_type": "stream",
     "text": [
      "\r",
      "[umls] parsing edges:  75%|████████████▋    | 4.86M/6.50M [02:05<00:08, 189kedge/s]"
     ]
    },
    {
     "name": "stderr",
     "output_type": "stream",
     "text": [
      "\r",
      "[umls] parsing edges:  75%|████████████▊    | 4.88M/6.50M [02:05<00:08, 189kedge/s]"
     ]
    },
    {
     "name": "stderr",
     "output_type": "stream",
     "text": [
      "\r",
      "[umls] parsing edges:  75%|████████████▊    | 4.90M/6.50M [02:05<00:08, 188kedge/s]"
     ]
    },
    {
     "name": "stderr",
     "output_type": "stream",
     "text": [
      "\r",
      "[umls] parsing edges:  76%|████████████▊    | 4.92M/6.50M [02:05<00:08, 189kedge/s]"
     ]
    },
    {
     "name": "stderr",
     "output_type": "stream",
     "text": [
      "\r",
      "[umls] parsing edges:  76%|████████████▉    | 4.93M/6.50M [02:06<00:08, 189kedge/s]"
     ]
    },
    {
     "name": "stderr",
     "output_type": "stream",
     "text": [
      "\r",
      "[umls] parsing edges:  76%|████████████▉    | 4.95M/6.50M [02:06<00:08, 189kedge/s]"
     ]
    },
    {
     "name": "stderr",
     "output_type": "stream",
     "text": [
      "\r",
      "[umls] parsing edges:  77%|█████████████    | 4.97M/6.50M [02:06<00:08, 189kedge/s]"
     ]
    },
    {
     "name": "stderr",
     "output_type": "stream",
     "text": [
      "\r",
      "[umls] parsing edges:  77%|█████████████    | 4.99M/6.50M [02:06<00:07, 188kedge/s]"
     ]
    },
    {
     "name": "stderr",
     "output_type": "stream",
     "text": [
      "\r",
      "[umls] parsing edges:  77%|█████████████    | 5.01M/6.50M [02:06<00:07, 186kedge/s]"
     ]
    },
    {
     "name": "stderr",
     "output_type": "stream",
     "text": [
      "\r",
      "[umls] parsing edges:  77%|█████████████▏   | 5.03M/6.50M [02:06<00:07, 186kedge/s]"
     ]
    },
    {
     "name": "stderr",
     "output_type": "stream",
     "text": [
      "\r",
      "[umls] parsing edges:  78%|█████████████▏   | 5.05M/6.50M [02:06<00:07, 186kedge/s]"
     ]
    },
    {
     "name": "stderr",
     "output_type": "stream",
     "text": [
      "\r",
      "[umls] parsing edges:  78%|█████████████▎   | 5.07M/6.50M [02:06<00:07, 187kedge/s]"
     ]
    },
    {
     "name": "stderr",
     "output_type": "stream",
     "text": [
      "\r",
      "[umls] parsing edges:  78%|█████████████▎   | 5.09M/6.50M [02:06<00:07, 188kedge/s]"
     ]
    },
    {
     "name": "stderr",
     "output_type": "stream",
     "text": [
      "\r",
      "[umls] parsing edges:  79%|█████████████▎   | 5.11M/6.50M [02:06<00:07, 189kedge/s]"
     ]
    },
    {
     "name": "stderr",
     "output_type": "stream",
     "text": [
      "\r",
      "[umls] parsing edges:  79%|█████████████▍   | 5.12M/6.50M [02:07<00:07, 189kedge/s]"
     ]
    },
    {
     "name": "stderr",
     "output_type": "stream",
     "text": [
      "\r",
      "[umls] parsing edges:  79%|█████████████▍   | 5.14M/6.50M [02:07<00:07, 188kedge/s]"
     ]
    },
    {
     "name": "stderr",
     "output_type": "stream",
     "text": [
      "\r",
      "[umls] parsing edges:  79%|█████████████▌   | 5.16M/6.50M [02:07<00:07, 188kedge/s]"
     ]
    },
    {
     "name": "stderr",
     "output_type": "stream",
     "text": [
      "\r",
      "[umls] parsing edges:  80%|█████████████▌   | 5.18M/6.50M [02:07<00:06, 189kedge/s]"
     ]
    },
    {
     "name": "stderr",
     "output_type": "stream",
     "text": [
      "\r",
      "[umls] parsing edges:  80%|█████████████▌   | 5.20M/6.50M [02:07<00:06, 190kedge/s]"
     ]
    },
    {
     "name": "stderr",
     "output_type": "stream",
     "text": [
      "\r",
      "[umls] parsing edges:  80%|█████████████▋   | 5.22M/6.50M [02:07<00:06, 189kedge/s]"
     ]
    },
    {
     "name": "stderr",
     "output_type": "stream",
     "text": [
      "\r",
      "[umls] parsing edges:  81%|█████████████▋   | 5.24M/6.50M [02:07<00:06, 189kedge/s]"
     ]
    },
    {
     "name": "stderr",
     "output_type": "stream",
     "text": [
      "\r",
      "[umls] parsing edges:  81%|█████████████▊   | 5.26M/6.50M [02:07<00:06, 189kedge/s]"
     ]
    },
    {
     "name": "stderr",
     "output_type": "stream",
     "text": [
      "\r",
      "[umls] parsing edges:  81%|█████████████▊   | 5.28M/6.50M [02:07<00:06, 189kedge/s]"
     ]
    },
    {
     "name": "stderr",
     "output_type": "stream",
     "text": [
      "\r",
      "[umls] parsing edges:  82%|█████████████▊   | 5.29M/6.50M [02:07<00:06, 190kedge/s]"
     ]
    },
    {
     "name": "stderr",
     "output_type": "stream",
     "text": [
      "\r",
      "[umls] parsing edges:  82%|█████████████▉   | 5.31M/6.50M [02:08<00:06, 190kedge/s]"
     ]
    },
    {
     "name": "stderr",
     "output_type": "stream",
     "text": [
      "\r",
      "[umls] parsing edges:  82%|█████████████▉   | 5.33M/6.50M [02:08<00:06, 190kedge/s]"
     ]
    },
    {
     "name": "stderr",
     "output_type": "stream",
     "text": [
      "\r",
      "[umls] parsing edges:  82%|██████████████   | 5.35M/6.50M [02:08<00:06, 187kedge/s]"
     ]
    },
    {
     "name": "stderr",
     "output_type": "stream",
     "text": [
      "\r",
      "[umls] parsing edges:  83%|██████████████   | 5.37M/6.50M [02:08<00:06, 186kedge/s]"
     ]
    },
    {
     "name": "stderr",
     "output_type": "stream",
     "text": [
      "\r",
      "[umls] parsing edges:  83%|██████████████   | 5.39M/6.50M [02:08<00:05, 187kedge/s]"
     ]
    },
    {
     "name": "stderr",
     "output_type": "stream",
     "text": [
      "\r",
      "[umls] parsing edges:  83%|██████████████▏  | 5.41M/6.50M [02:08<00:05, 186kedge/s]"
     ]
    },
    {
     "name": "stderr",
     "output_type": "stream",
     "text": [
      "\r",
      "[umls] parsing edges:  84%|██████████████▏  | 5.43M/6.50M [02:08<00:05, 186kedge/s]"
     ]
    },
    {
     "name": "stderr",
     "output_type": "stream",
     "text": [
      "\r",
      "[umls] parsing edges:  84%|██████████████▎  | 5.45M/6.50M [02:08<00:05, 185kedge/s]"
     ]
    },
    {
     "name": "stderr",
     "output_type": "stream",
     "text": [
      "\r",
      "[umls] parsing edges:  84%|██████████████▎  | 5.46M/6.50M [02:08<00:05, 184kedge/s]"
     ]
    },
    {
     "name": "stderr",
     "output_type": "stream",
     "text": [
      "\r",
      "[umls] parsing edges:  84%|██████████████▎  | 5.48M/6.50M [02:09<00:05, 186kedge/s]"
     ]
    },
    {
     "name": "stderr",
     "output_type": "stream",
     "text": [
      "\r",
      "[umls] parsing edges:  85%|██████████████▍  | 5.50M/6.50M [02:09<00:05, 183kedge/s]"
     ]
    },
    {
     "name": "stderr",
     "output_type": "stream",
     "text": [
      "\r",
      "[umls] parsing edges:  85%|██████████████▍  | 5.52M/6.50M [02:09<00:05, 183kedge/s]"
     ]
    },
    {
     "name": "stderr",
     "output_type": "stream",
     "text": [
      "\r",
      "[umls] parsing edges:  85%|██████████████▍  | 5.54M/6.50M [02:09<00:05, 178kedge/s]"
     ]
    },
    {
     "name": "stderr",
     "output_type": "stream",
     "text": [
      "\r",
      "[umls] parsing edges:  85%|██████████████▍  | 5.54M/6.50M [02:30<00:05, 178kedge/s]"
     ]
    },
    {
     "name": "stderr",
     "output_type": "stream",
     "text": [
      "\r",
      "[umls] parsing edges:  85%|█████████████▋  | 5.54M/6.50M [02:30<07:29, 2.13kedge/s]"
     ]
    },
    {
     "name": "stderr",
     "output_type": "stream",
     "text": [
      "\r",
      "[umls] parsing edges:  86%|█████████████▋  | 5.56M/6.50M [02:30<04:37, 3.39kedge/s]"
     ]
    },
    {
     "name": "stderr",
     "output_type": "stream",
     "text": [
      "\r",
      "[umls] parsing edges:  86%|█████████████▋  | 5.58M/6.50M [02:30<02:57, 5.17kedge/s]"
     ]
    },
    {
     "name": "stderr",
     "output_type": "stream",
     "text": [
      "\r",
      "[umls] parsing edges:  86%|█████████████▊  | 5.60M/6.50M [02:30<01:57, 7.65kedge/s]"
     ]
    },
    {
     "name": "stderr",
     "output_type": "stream",
     "text": [
      "\r",
      "[umls] parsing edges:  86%|█████████████▊  | 5.62M/6.50M [02:30<01:19, 11.1kedge/s]"
     ]
    },
    {
     "name": "stderr",
     "output_type": "stream",
     "text": [
      "\r",
      "[umls] parsing edges:  87%|█████████████▉  | 5.63M/6.50M [02:30<00:54, 15.8kedge/s]"
     ]
    },
    {
     "name": "stderr",
     "output_type": "stream",
     "text": [
      "\r",
      "[umls] parsing edges:  87%|█████████████▉  | 5.65M/6.50M [02:30<00:38, 22.0kedge/s]"
     ]
    },
    {
     "name": "stderr",
     "output_type": "stream",
     "text": [
      "\r",
      "[umls] parsing edges:  87%|█████████████▉  | 5.67M/6.50M [02:30<00:27, 30.0kedge/s]"
     ]
    },
    {
     "name": "stderr",
     "output_type": "stream",
     "text": [
      "\r",
      "[umls] parsing edges:  88%|██████████████  | 5.69M/6.50M [02:30<00:19, 40.3kedge/s]"
     ]
    },
    {
     "name": "stderr",
     "output_type": "stream",
     "text": [
      "\r",
      "[umls] parsing edges:  88%|██████████████  | 5.71M/6.50M [02:30<00:14, 53.2kedge/s]"
     ]
    },
    {
     "name": "stderr",
     "output_type": "stream",
     "text": [
      "\r",
      "[umls] parsing edges:  88%|██████████████  | 5.73M/6.50M [02:31<00:11, 67.8kedge/s]"
     ]
    },
    {
     "name": "stderr",
     "output_type": "stream",
     "text": [
      "\r",
      "[umls] parsing edges:  88%|██████████████▏ | 5.75M/6.50M [02:31<00:08, 83.8kedge/s]"
     ]
    },
    {
     "name": "stderr",
     "output_type": "stream",
     "text": [
      "\r",
      "[umls] parsing edges:  89%|███████████████  | 5.77M/6.50M [02:31<00:07, 100kedge/s]"
     ]
    },
    {
     "name": "stderr",
     "output_type": "stream",
     "text": [
      "\r",
      "[umls] parsing edges:  89%|███████████████▏ | 5.78M/6.50M [02:31<00:06, 117kedge/s]"
     ]
    },
    {
     "name": "stderr",
     "output_type": "stream",
     "text": [
      "\r",
      "[umls] parsing edges:  89%|███████████████▏ | 5.80M/6.50M [02:31<00:05, 133kedge/s]"
     ]
    },
    {
     "name": "stderr",
     "output_type": "stream",
     "text": [
      "\r",
      "[umls] parsing edges:  90%|███████████████▏ | 5.82M/6.50M [02:31<00:04, 146kedge/s]"
     ]
    },
    {
     "name": "stderr",
     "output_type": "stream",
     "text": [
      "\r",
      "[umls] parsing edges:  90%|███████████████▎ | 5.84M/6.50M [02:31<00:04, 157kedge/s]"
     ]
    },
    {
     "name": "stderr",
     "output_type": "stream",
     "text": [
      "\r",
      "[umls] parsing edges:  90%|███████████████▎ | 5.86M/6.50M [02:31<00:03, 165kedge/s]"
     ]
    },
    {
     "name": "stderr",
     "output_type": "stream",
     "text": [
      "\r",
      "[umls] parsing edges:  91%|███████████████▍ | 5.88M/6.50M [02:31<00:03, 172kedge/s]"
     ]
    },
    {
     "name": "stderr",
     "output_type": "stream",
     "text": [
      "\r",
      "[umls] parsing edges:  91%|███████████████▍ | 5.90M/6.50M [02:31<00:03, 173kedge/s]"
     ]
    },
    {
     "name": "stderr",
     "output_type": "stream",
     "text": [
      "\r",
      "[umls] parsing edges:  91%|███████████████▍ | 5.92M/6.50M [02:32<00:03, 177kedge/s]"
     ]
    },
    {
     "name": "stderr",
     "output_type": "stream",
     "text": [
      "\r",
      "[umls] parsing edges:  91%|███████████████▌ | 5.94M/6.50M [02:32<00:03, 177kedge/s]"
     ]
    },
    {
     "name": "stderr",
     "output_type": "stream",
     "text": [
      "\r",
      "[umls] parsing edges:  92%|███████████████▌ | 5.95M/6.50M [02:32<00:03, 181kedge/s]"
     ]
    },
    {
     "name": "stderr",
     "output_type": "stream",
     "text": [
      "\r",
      "[umls] parsing edges:  92%|███████████████▋ | 5.97M/6.50M [02:32<00:02, 182kedge/s]"
     ]
    },
    {
     "name": "stderr",
     "output_type": "stream",
     "text": [
      "\r",
      "[umls] parsing edges:  92%|███████████████▋ | 5.99M/6.50M [02:32<00:02, 182kedge/s]"
     ]
    },
    {
     "name": "stderr",
     "output_type": "stream",
     "text": [
      "\r",
      "[umls] parsing edges:  93%|███████████████▋ | 6.01M/6.50M [02:32<00:02, 184kedge/s]"
     ]
    },
    {
     "name": "stderr",
     "output_type": "stream",
     "text": [
      "\r",
      "[umls] parsing edges:  93%|███████████████▊ | 6.03M/6.50M [02:32<00:02, 186kedge/s]"
     ]
    },
    {
     "name": "stderr",
     "output_type": "stream",
     "text": [
      "\r",
      "[umls] parsing edges:  93%|███████████████▊ | 6.05M/6.50M [02:32<00:02, 186kedge/s]"
     ]
    },
    {
     "name": "stderr",
     "output_type": "stream",
     "text": [
      "\r",
      "[umls] parsing edges:  93%|███████████████▉ | 6.07M/6.50M [02:32<00:02, 186kedge/s]"
     ]
    },
    {
     "name": "stderr",
     "output_type": "stream",
     "text": [
      "\r",
      "[umls] parsing edges:  94%|███████████████▉ | 6.09M/6.50M [02:32<00:02, 187kedge/s]"
     ]
    },
    {
     "name": "stderr",
     "output_type": "stream",
     "text": [
      "\r",
      "[umls] parsing edges:  94%|███████████████▉ | 6.10M/6.50M [02:33<00:02, 187kedge/s]"
     ]
    },
    {
     "name": "stderr",
     "output_type": "stream",
     "text": [
      "\r",
      "[umls] parsing edges:  94%|████████████████ | 6.12M/6.50M [02:33<00:01, 187kedge/s]"
     ]
    },
    {
     "name": "stderr",
     "output_type": "stream",
     "text": [
      "\r",
      "[umls] parsing edges:  95%|████████████████ | 6.14M/6.50M [02:33<00:01, 187kedge/s]"
     ]
    },
    {
     "name": "stderr",
     "output_type": "stream",
     "text": [
      "\r",
      "[umls] parsing edges:  95%|████████████████ | 6.16M/6.50M [02:33<00:01, 187kedge/s]"
     ]
    },
    {
     "name": "stderr",
     "output_type": "stream",
     "text": [
      "\r",
      "[umls] parsing edges:  95%|████████████████▏| 6.18M/6.50M [02:33<00:01, 188kedge/s]"
     ]
    },
    {
     "name": "stderr",
     "output_type": "stream",
     "text": [
      "\r",
      "[umls] parsing edges:  95%|████████████████▏| 6.20M/6.50M [02:33<00:01, 189kedge/s]"
     ]
    },
    {
     "name": "stderr",
     "output_type": "stream",
     "text": [
      "\r",
      "[umls] parsing edges:  96%|████████████████▎| 6.22M/6.50M [02:33<00:01, 189kedge/s]"
     ]
    },
    {
     "name": "stderr",
     "output_type": "stream",
     "text": [
      "\r",
      "[umls] parsing edges:  96%|████████████████▎| 6.24M/6.50M [02:33<00:01, 187kedge/s]"
     ]
    },
    {
     "name": "stderr",
     "output_type": "stream",
     "text": [
      "\r",
      "[umls] parsing edges:  96%|████████████████▎| 6.26M/6.50M [02:33<00:01, 185kedge/s]"
     ]
    },
    {
     "name": "stderr",
     "output_type": "stream",
     "text": [
      "\r",
      "[umls] parsing edges:  97%|████████████████▍| 6.27M/6.50M [02:33<00:01, 187kedge/s]"
     ]
    },
    {
     "name": "stderr",
     "output_type": "stream",
     "text": [
      "\r",
      "[umls] parsing edges:  97%|████████████████▍| 6.29M/6.50M [02:34<00:01, 183kedge/s]"
     ]
    },
    {
     "name": "stderr",
     "output_type": "stream",
     "text": [
      "\r",
      "[umls] parsing edges:  97%|████████████████▌| 6.31M/6.50M [02:34<00:00, 185kedge/s]"
     ]
    },
    {
     "name": "stderr",
     "output_type": "stream",
     "text": [
      "\r",
      "[umls] parsing edges:  97%|████████████████▌| 6.33M/6.50M [02:34<00:00, 185kedge/s]"
     ]
    },
    {
     "name": "stderr",
     "output_type": "stream",
     "text": [
      "\r",
      "[umls] parsing edges:  98%|████████████████▌| 6.35M/6.50M [02:34<00:00, 186kedge/s]"
     ]
    },
    {
     "name": "stderr",
     "output_type": "stream",
     "text": [
      "\r",
      "[umls] parsing edges:  98%|████████████████▋| 6.37M/6.50M [02:34<00:00, 186kedge/s]"
     ]
    },
    {
     "name": "stderr",
     "output_type": "stream",
     "text": [
      "\r",
      "[umls] parsing edges:  98%|████████████████▋| 6.39M/6.50M [02:34<00:00, 183kedge/s]"
     ]
    },
    {
     "name": "stderr",
     "output_type": "stream",
     "text": [
      "\r",
      "[umls] parsing edges:  99%|████████████████▊| 6.41M/6.50M [02:34<00:00, 185kedge/s]"
     ]
    },
    {
     "name": "stderr",
     "output_type": "stream",
     "text": [
      "\r",
      "[umls] parsing edges:  99%|████████████████▊| 6.42M/6.50M [02:34<00:00, 184kedge/s]"
     ]
    },
    {
     "name": "stderr",
     "output_type": "stream",
     "text": [
      "\r",
      "[umls] parsing edges:  99%|████████████████▊| 6.44M/6.50M [02:34<00:00, 186kedge/s]"
     ]
    },
    {
     "name": "stderr",
     "output_type": "stream",
     "text": [
      "\r",
      "[umls] parsing edges:  99%|████████████████▉| 6.46M/6.50M [02:34<00:00, 183kedge/s]"
     ]
    },
    {
     "name": "stderr",
     "output_type": "stream",
     "text": [
      "\r",
      "[umls] parsing edges: 100%|████████████████▉| 6.48M/6.50M [02:35<00:00, 182kedge/s]"
     ]
    },
    {
     "name": "stderr",
     "output_type": "stream",
     "text": [
      "\r",
      "[umls] parsing edges: 100%|████████████████| 6.50M/6.50M [02:35<00:00, 41.9kedge/s]"
     ]
    },
    {
     "name": "stderr",
     "output_type": "stream",
     "text": [
      "\n"
     ]
    },
    {
     "name": "stderr",
     "output_type": "stream",
     "text": [
      "\r",
      "[umls] parsing properties: 0.00triple [00:00, ?triple/s]"
     ]
    },
    {
     "name": "stderr",
     "output_type": "stream",
     "text": [
      "\r",
      "[umls] parsing properties: 0.00triple [00:00, ?triple/s]"
     ]
    },
    {
     "name": "stderr",
     "output_type": "stream",
     "text": [
      "\n"
     ]
    },
    {
     "data": {
      "text/markdown": [
       "## Summarize the Resources\n",
       "\n",
       "We summarize the resources used in the landscape analysis, including their\n",
       "[Bioregistry](https://bioregistry.io) prefix, license, current version, and\n",
       "number of terms (i.e., named concepts) they contain.\n"
      ],
      "text/plain": [
       "<IPython.core.display.Markdown object>"
      ]
     },
     "metadata": {},
     "output_type": "display_data"
    },
    {
     "data": {
      "text/html": [
       "<div>\n",
       "<style scoped>\n",
       "    .dataframe tbody tr th:only-of-type {\n",
       "        vertical-align: middle;\n",
       "    }\n",
       "\n",
       "    .dataframe tbody tr th {\n",
       "        vertical-align: top;\n",
       "    }\n",
       "\n",
       "    .dataframe thead th {\n",
       "        text-align: right;\n",
       "    }\n",
       "</style>\n",
       "<table border=\"1\" class=\"dataframe\">\n",
       "  <thead>\n",
       "    <tr style=\"text-align: right;\">\n",
       "      <th></th>\n",
       "      <th>name</th>\n",
       "      <th>license</th>\n",
       "      <th>version</th>\n",
       "      <th>terms</th>\n",
       "      <th>status</th>\n",
       "    </tr>\n",
       "    <tr>\n",
       "      <th>prefix</th>\n",
       "      <th></th>\n",
       "      <th></th>\n",
       "      <th></th>\n",
       "      <th></th>\n",
       "      <th></th>\n",
       "    </tr>\n",
       "  </thead>\n",
       "  <tbody>\n",
       "    <tr>\n",
       "      <th>mesh</th>\n",
       "      <td>Medical Subject Headings</td>\n",
       "      <td>CC0-1.0</td>\n",
       "      <td>2025</td>\n",
       "      <td>636</td>\n",
       "      <td>subset</td>\n",
       "    </tr>\n",
       "    <tr>\n",
       "      <th>efo</th>\n",
       "      <td>Experimental Factor Ontology</td>\n",
       "      <td>Apache-2.0</td>\n",
       "      <td>3.75.0</td>\n",
       "      <td>26</td>\n",
       "      <td>subset</td>\n",
       "    </tr>\n",
       "    <tr>\n",
       "      <th>cellosaurus</th>\n",
       "      <td>Cellosaurus</td>\n",
       "      <td>CC-BY-4.0</td>\n",
       "      <td>51.0</td>\n",
       "      <td>161202</td>\n",
       "      <td>full</td>\n",
       "    </tr>\n",
       "    <tr>\n",
       "      <th>ccle</th>\n",
       "      <td>Cancer Cell Line Encyclopedia Cells</td>\n",
       "      <td>ODbL-1.0</td>\n",
       "      <td>None</td>\n",
       "      <td>1061</td>\n",
       "      <td>full</td>\n",
       "    </tr>\n",
       "    <tr>\n",
       "      <th>depmap</th>\n",
       "      <td>DepMap Cell Lines</td>\n",
       "      <td>CC-BY-4.0</td>\n",
       "      <td>24Q4</td>\n",
       "      <td>1814</td>\n",
       "      <td>full</td>\n",
       "    </tr>\n",
       "    <tr>\n",
       "      <th>bto</th>\n",
       "      <td>BRENDA Tissue Ontology</td>\n",
       "      <td>CC-BY-4.0</td>\n",
       "      <td>2021-10-26</td>\n",
       "      <td>6511</td>\n",
       "      <td>full</td>\n",
       "    </tr>\n",
       "    <tr>\n",
       "      <th>cl</th>\n",
       "      <td>Cell Ontology</td>\n",
       "      <td>CC-BY-4.0</td>\n",
       "      <td>2025-02-13</td>\n",
       "      <td>3060</td>\n",
       "      <td>full</td>\n",
       "    </tr>\n",
       "    <tr>\n",
       "      <th>clo</th>\n",
       "      <td>Cell Line Ontology</td>\n",
       "      <td>CC-BY-3.0</td>\n",
       "      <td>2.1.188</td>\n",
       "      <td>39099</td>\n",
       "      <td>full</td>\n",
       "    </tr>\n",
       "    <tr>\n",
       "      <th>ncit</th>\n",
       "      <td>NCI Thesaurus</td>\n",
       "      <td>CC-BY-4.0</td>\n",
       "      <td>24.11d</td>\n",
       "      <td>503</td>\n",
       "      <td>subset</td>\n",
       "    </tr>\n",
       "    <tr>\n",
       "      <th>umls</th>\n",
       "      <td>Unified Medical Language System Concept Unique...</td>\n",
       "      <td>https://www.nlm.nih.gov/research/umls/knowledg...</td>\n",
       "      <td>2024AB</td>\n",
       "      <td>6312</td>\n",
       "      <td>subset</td>\n",
       "    </tr>\n",
       "  </tbody>\n",
       "</table>\n",
       "</div>"
      ],
      "text/plain": [
       "                                                          name  \\\n",
       "prefix                                                           \n",
       "mesh                                  Medical Subject Headings   \n",
       "efo                               Experimental Factor Ontology   \n",
       "cellosaurus                                        Cellosaurus   \n",
       "ccle                       Cancer Cell Line Encyclopedia Cells   \n",
       "depmap                                       DepMap Cell Lines   \n",
       "bto                                     BRENDA Tissue Ontology   \n",
       "cl                                               Cell Ontology   \n",
       "clo                                         Cell Line Ontology   \n",
       "ncit                                             NCI Thesaurus   \n",
       "umls         Unified Medical Language System Concept Unique...   \n",
       "\n",
       "                                                       license     version  \\\n",
       "prefix                                                                       \n",
       "mesh                                                   CC0-1.0        2025   \n",
       "efo                                                 Apache-2.0      3.75.0   \n",
       "cellosaurus                                          CC-BY-4.0        51.0   \n",
       "ccle                                                  ODbL-1.0        None   \n",
       "depmap                                               CC-BY-4.0        24Q4   \n",
       "bto                                                  CC-BY-4.0  2021-10-26   \n",
       "cl                                                   CC-BY-4.0  2025-02-13   \n",
       "clo                                                  CC-BY-3.0     2.1.188   \n",
       "ncit                                                 CC-BY-4.0      24.11d   \n",
       "umls         https://www.nlm.nih.gov/research/umls/knowledg...      2024AB   \n",
       "\n",
       "              terms  status  \n",
       "prefix                       \n",
       "mesh            636  subset  \n",
       "efo              26  subset  \n",
       "cellosaurus  161202    full  \n",
       "ccle           1061    full  \n",
       "depmap         1814    full  \n",
       "bto            6511    full  \n",
       "cl             3060    full  \n",
       "clo           39099    full  \n",
       "ncit            503  subset  \n",
       "umls           6312  subset  "
      ]
     },
     "metadata": {},
     "output_type": "display_data"
    },
    {
     "data": {
      "text/markdown": [
       "There are a total of 220,224 terms across the 10 resources."
      ],
      "text/plain": [
       "<IPython.core.display.Markdown object>"
      ]
     },
     "metadata": {},
     "output_type": "display_data"
    },
    {
     "data": {
      "text/markdown": [
       "## Summarize the Mappings\n",
       "\n",
       "In order to summarize the mappings, we're going to load them, index them, and count\n",
       "the number of mappings between each pair of resources. The self-mapping column is\n",
       "the count of terms in the resource. We'll do this to the raw mappings first, then\n",
       "to the processed mappings, then compare them.\n"
      ],
      "text/plain": [
       "<IPython.core.display.Markdown object>"
      ]
     },
     "metadata": {},
     "output_type": "display_data"
    },
    {
     "data": {
      "application/vnd.jupyter.widget-view+json": {
       "model_id": "d78f702aa59647e2a983f263c346e5c0",
       "version_major": 2,
       "version_minor": 0
      },
      "text/plain": [
       "Indexing mappings:   0%|          | 0.00/683k [00:00<?, ?mapping/s]"
      ]
     },
     "metadata": {},
     "output_type": "display_data"
    },
    {
     "data": {
      "application/vnd.jupyter.widget-view+json": {
       "model_id": "ff891b3b390b414b9fc91ae0db77eed1",
       "version_major": 2,
       "version_minor": 0
      },
      "text/plain": [
       "Indexing mappings:   0%|          | 0.00/48.8k [00:00<?, ?mapping/s]"
      ]
     },
     "metadata": {},
     "output_type": "display_data"
    },
    {
     "data": {
      "text/markdown": [
       "First, we summarize the raw mappings, i.e., the mappings that are directly available from the sources"
      ],
      "text/plain": [
       "<IPython.core.display.Markdown object>"
      ]
     },
     "metadata": {},
     "output_type": "display_data"
    },
    {
     "data": {
      "text/html": [
       "<div>\n",
       "<style scoped>\n",
       "    .dataframe tbody tr th:only-of-type {\n",
       "        vertical-align: middle;\n",
       "    }\n",
       "\n",
       "    .dataframe tbody tr th {\n",
       "        vertical-align: top;\n",
       "    }\n",
       "\n",
       "    .dataframe thead th {\n",
       "        text-align: right;\n",
       "    }\n",
       "</style>\n",
       "<table border=\"1\" class=\"dataframe\">\n",
       "  <thead>\n",
       "    <tr style=\"text-align: right;\">\n",
       "      <th>target_prefix</th>\n",
       "      <th>mesh</th>\n",
       "      <th>efo</th>\n",
       "      <th>cellosaurus</th>\n",
       "      <th>ccle</th>\n",
       "      <th>depmap</th>\n",
       "      <th>bto</th>\n",
       "      <th>cl</th>\n",
       "      <th>clo</th>\n",
       "      <th>ncit</th>\n",
       "      <th>umls</th>\n",
       "    </tr>\n",
       "    <tr>\n",
       "      <th>source_prefix</th>\n",
       "      <th></th>\n",
       "      <th></th>\n",
       "      <th></th>\n",
       "      <th></th>\n",
       "      <th></th>\n",
       "      <th></th>\n",
       "      <th></th>\n",
       "      <th></th>\n",
       "      <th></th>\n",
       "      <th></th>\n",
       "    </tr>\n",
       "  </thead>\n",
       "  <tbody>\n",
       "    <tr>\n",
       "      <th>mesh</th>\n",
       "      <td>636</td>\n",
       "      <td>3</td>\n",
       "      <td>0</td>\n",
       "      <td>0</td>\n",
       "      <td>0</td>\n",
       "      <td>0</td>\n",
       "      <td>81</td>\n",
       "      <td>34</td>\n",
       "      <td>6</td>\n",
       "      <td>0</td>\n",
       "    </tr>\n",
       "    <tr>\n",
       "      <th>efo</th>\n",
       "      <td>3</td>\n",
       "      <td>26</td>\n",
       "      <td>0</td>\n",
       "      <td>0</td>\n",
       "      <td>0</td>\n",
       "      <td>0</td>\n",
       "      <td>0</td>\n",
       "      <td>0</td>\n",
       "      <td>0</td>\n",
       "      <td>0</td>\n",
       "    </tr>\n",
       "    <tr>\n",
       "      <th>cellosaurus</th>\n",
       "      <td>0</td>\n",
       "      <td>0</td>\n",
       "      <td>161202</td>\n",
       "      <td>113</td>\n",
       "      <td>1678</td>\n",
       "      <td>0</td>\n",
       "      <td>0</td>\n",
       "      <td>540</td>\n",
       "      <td>0</td>\n",
       "      <td>0</td>\n",
       "    </tr>\n",
       "    <tr>\n",
       "      <th>ccle</th>\n",
       "      <td>0</td>\n",
       "      <td>0</td>\n",
       "      <td>113</td>\n",
       "      <td>1061</td>\n",
       "      <td>4</td>\n",
       "      <td>2</td>\n",
       "      <td>0</td>\n",
       "      <td>0</td>\n",
       "      <td>0</td>\n",
       "      <td>0</td>\n",
       "    </tr>\n",
       "    <tr>\n",
       "      <th>depmap</th>\n",
       "      <td>0</td>\n",
       "      <td>0</td>\n",
       "      <td>1678</td>\n",
       "      <td>4</td>\n",
       "      <td>1814</td>\n",
       "      <td>0</td>\n",
       "      <td>0</td>\n",
       "      <td>0</td>\n",
       "      <td>0</td>\n",
       "      <td>0</td>\n",
       "    </tr>\n",
       "    <tr>\n",
       "      <th>bto</th>\n",
       "      <td>0</td>\n",
       "      <td>0</td>\n",
       "      <td>0</td>\n",
       "      <td>2</td>\n",
       "      <td>0</td>\n",
       "      <td>6511</td>\n",
       "      <td>74</td>\n",
       "      <td>6</td>\n",
       "      <td>0</td>\n",
       "      <td>0</td>\n",
       "    </tr>\n",
       "    <tr>\n",
       "      <th>cl</th>\n",
       "      <td>81</td>\n",
       "      <td>0</td>\n",
       "      <td>0</td>\n",
       "      <td>0</td>\n",
       "      <td>0</td>\n",
       "      <td>74</td>\n",
       "      <td>3060</td>\n",
       "      <td>0</td>\n",
       "      <td>0</td>\n",
       "      <td>0</td>\n",
       "    </tr>\n",
       "    <tr>\n",
       "      <th>clo</th>\n",
       "      <td>34</td>\n",
       "      <td>0</td>\n",
       "      <td>540</td>\n",
       "      <td>0</td>\n",
       "      <td>0</td>\n",
       "      <td>6</td>\n",
       "      <td>0</td>\n",
       "      <td>39099</td>\n",
       "      <td>0</td>\n",
       "      <td>0</td>\n",
       "    </tr>\n",
       "    <tr>\n",
       "      <th>ncit</th>\n",
       "      <td>6</td>\n",
       "      <td>0</td>\n",
       "      <td>0</td>\n",
       "      <td>0</td>\n",
       "      <td>0</td>\n",
       "      <td>0</td>\n",
       "      <td>0</td>\n",
       "      <td>0</td>\n",
       "      <td>503</td>\n",
       "      <td>0</td>\n",
       "    </tr>\n",
       "    <tr>\n",
       "      <th>umls</th>\n",
       "      <td>0</td>\n",
       "      <td>0</td>\n",
       "      <td>0</td>\n",
       "      <td>0</td>\n",
       "      <td>0</td>\n",
       "      <td>0</td>\n",
       "      <td>0</td>\n",
       "      <td>0</td>\n",
       "      <td>0</td>\n",
       "      <td>6312</td>\n",
       "    </tr>\n",
       "  </tbody>\n",
       "</table>\n",
       "</div>"
      ],
      "text/plain": [
       "target_prefix  mesh  efo  cellosaurus  ccle  depmap   bto    cl    clo  ncit  \\\n",
       "source_prefix                                                                  \n",
       "mesh            636    3            0     0       0     0    81     34     6   \n",
       "efo               3   26            0     0       0     0     0      0     0   \n",
       "cellosaurus       0    0       161202   113    1678     0     0    540     0   \n",
       "ccle              0    0          113  1061       4     2     0      0     0   \n",
       "depmap            0    0         1678     4    1814     0     0      0     0   \n",
       "bto               0    0            0     2       0  6511    74      6     0   \n",
       "cl               81    0            0     0       0    74  3060      0     0   \n",
       "clo              34    0          540     0       0     6     0  39099     0   \n",
       "ncit              6    0            0     0       0     0     0      0   503   \n",
       "umls              0    0            0     0       0     0     0      0     0   \n",
       "\n",
       "target_prefix  umls  \n",
       "source_prefix        \n",
       "mesh              0  \n",
       "efo               0  \n",
       "cellosaurus       0  \n",
       "ccle              0  \n",
       "depmap            0  \n",
       "bto               0  \n",
       "cl                0  \n",
       "clo               0  \n",
       "ncit              0  \n",
       "umls           6312  "
      ]
     },
     "metadata": {},
     "output_type": "display_data"
    },
    {
     "data": {
      "text/markdown": [
       "Next, we summarize the processed mappings, which include inference, reasoning, and confidence filtering."
      ],
      "text/plain": [
       "<IPython.core.display.Markdown object>"
      ]
     },
     "metadata": {},
     "output_type": "display_data"
    },
    {
     "data": {
      "text/html": [
       "<div>\n",
       "<style scoped>\n",
       "    .dataframe tbody tr th:only-of-type {\n",
       "        vertical-align: middle;\n",
       "    }\n",
       "\n",
       "    .dataframe tbody tr th {\n",
       "        vertical-align: top;\n",
       "    }\n",
       "\n",
       "    .dataframe thead th {\n",
       "        text-align: right;\n",
       "    }\n",
       "</style>\n",
       "<table border=\"1\" class=\"dataframe\">\n",
       "  <thead>\n",
       "    <tr style=\"text-align: right;\">\n",
       "      <th>target_prefix</th>\n",
       "      <th>mesh</th>\n",
       "      <th>efo</th>\n",
       "      <th>cellosaurus</th>\n",
       "      <th>ccle</th>\n",
       "      <th>depmap</th>\n",
       "      <th>bto</th>\n",
       "      <th>cl</th>\n",
       "      <th>clo</th>\n",
       "      <th>ncit</th>\n",
       "      <th>umls</th>\n",
       "    </tr>\n",
       "    <tr>\n",
       "      <th>source_prefix</th>\n",
       "      <th></th>\n",
       "      <th></th>\n",
       "      <th></th>\n",
       "      <th></th>\n",
       "      <th></th>\n",
       "      <th></th>\n",
       "      <th></th>\n",
       "      <th></th>\n",
       "      <th></th>\n",
       "      <th></th>\n",
       "    </tr>\n",
       "  </thead>\n",
       "  <tbody>\n",
       "    <tr>\n",
       "      <th>mesh</th>\n",
       "      <td>636</td>\n",
       "      <td>3</td>\n",
       "      <td>4</td>\n",
       "      <td>1</td>\n",
       "      <td>6</td>\n",
       "      <td>4</td>\n",
       "      <td>81</td>\n",
       "      <td>34</td>\n",
       "      <td>6</td>\n",
       "      <td>0</td>\n",
       "    </tr>\n",
       "    <tr>\n",
       "      <th>efo</th>\n",
       "      <td>3</td>\n",
       "      <td>26</td>\n",
       "      <td>0</td>\n",
       "      <td>0</td>\n",
       "      <td>0</td>\n",
       "      <td>0</td>\n",
       "      <td>0</td>\n",
       "      <td>0</td>\n",
       "      <td>0</td>\n",
       "      <td>0</td>\n",
       "    </tr>\n",
       "    <tr>\n",
       "      <th>cellosaurus</th>\n",
       "      <td>4</td>\n",
       "      <td>0</td>\n",
       "      <td>161202</td>\n",
       "      <td>113</td>\n",
       "      <td>1678</td>\n",
       "      <td>2</td>\n",
       "      <td>0</td>\n",
       "      <td>540</td>\n",
       "      <td>0</td>\n",
       "      <td>0</td>\n",
       "    </tr>\n",
       "    <tr>\n",
       "      <th>ccle</th>\n",
       "      <td>1</td>\n",
       "      <td>0</td>\n",
       "      <td>113</td>\n",
       "      <td>1061</td>\n",
       "      <td>49</td>\n",
       "      <td>2</td>\n",
       "      <td>0</td>\n",
       "      <td>43</td>\n",
       "      <td>0</td>\n",
       "      <td>0</td>\n",
       "    </tr>\n",
       "    <tr>\n",
       "      <th>depmap</th>\n",
       "      <td>6</td>\n",
       "      <td>0</td>\n",
       "      <td>1678</td>\n",
       "      <td>49</td>\n",
       "      <td>1814</td>\n",
       "      <td>1</td>\n",
       "      <td>0</td>\n",
       "      <td>474</td>\n",
       "      <td>0</td>\n",
       "      <td>0</td>\n",
       "    </tr>\n",
       "    <tr>\n",
       "      <th>bto</th>\n",
       "      <td>4</td>\n",
       "      <td>0</td>\n",
       "      <td>2</td>\n",
       "      <td>2</td>\n",
       "      <td>1</td>\n",
       "      <td>6511</td>\n",
       "      <td>74</td>\n",
       "      <td>6</td>\n",
       "      <td>0</td>\n",
       "      <td>0</td>\n",
       "    </tr>\n",
       "    <tr>\n",
       "      <th>cl</th>\n",
       "      <td>81</td>\n",
       "      <td>0</td>\n",
       "      <td>0</td>\n",
       "      <td>0</td>\n",
       "      <td>0</td>\n",
       "      <td>74</td>\n",
       "      <td>3060</td>\n",
       "      <td>0</td>\n",
       "      <td>2</td>\n",
       "      <td>0</td>\n",
       "    </tr>\n",
       "    <tr>\n",
       "      <th>clo</th>\n",
       "      <td>34</td>\n",
       "      <td>0</td>\n",
       "      <td>540</td>\n",
       "      <td>43</td>\n",
       "      <td>474</td>\n",
       "      <td>6</td>\n",
       "      <td>0</td>\n",
       "      <td>39099</td>\n",
       "      <td>0</td>\n",
       "      <td>0</td>\n",
       "    </tr>\n",
       "    <tr>\n",
       "      <th>ncit</th>\n",
       "      <td>6</td>\n",
       "      <td>0</td>\n",
       "      <td>0</td>\n",
       "      <td>0</td>\n",
       "      <td>0</td>\n",
       "      <td>0</td>\n",
       "      <td>2</td>\n",
       "      <td>0</td>\n",
       "      <td>503</td>\n",
       "      <td>0</td>\n",
       "    </tr>\n",
       "    <tr>\n",
       "      <th>umls</th>\n",
       "      <td>0</td>\n",
       "      <td>0</td>\n",
       "      <td>0</td>\n",
       "      <td>0</td>\n",
       "      <td>0</td>\n",
       "      <td>0</td>\n",
       "      <td>0</td>\n",
       "      <td>0</td>\n",
       "      <td>0</td>\n",
       "      <td>6312</td>\n",
       "    </tr>\n",
       "  </tbody>\n",
       "</table>\n",
       "</div>"
      ],
      "text/plain": [
       "target_prefix  mesh  efo  cellosaurus  ccle  depmap   bto    cl    clo  ncit  \\\n",
       "source_prefix                                                                  \n",
       "mesh            636    3            4     1       6     4    81     34     6   \n",
       "efo               3   26            0     0       0     0     0      0     0   \n",
       "cellosaurus       4    0       161202   113    1678     2     0    540     0   \n",
       "ccle              1    0          113  1061      49     2     0     43     0   \n",
       "depmap            6    0         1678    49    1814     1     0    474     0   \n",
       "bto               4    0            2     2       1  6511    74      6     0   \n",
       "cl               81    0            0     0       0    74  3060      0     2   \n",
       "clo              34    0          540    43     474     6     0  39099     0   \n",
       "ncit              6    0            0     0       0     0     2      0   503   \n",
       "umls              0    0            0     0       0     0     0      0     0   \n",
       "\n",
       "target_prefix  umls  \n",
       "source_prefix        \n",
       "mesh              0  \n",
       "efo               0  \n",
       "cellosaurus       0  \n",
       "ccle              0  \n",
       "depmap            0  \n",
       "bto               0  \n",
       "cl                0  \n",
       "clo               0  \n",
       "ncit              0  \n",
       "umls           6312  "
      ]
     },
     "metadata": {},
     "output_type": "display_data"
    },
    {
     "data": {
      "text/markdown": [
       "Below is an graph-based view on the processed mappings."
      ],
      "text/plain": [
       "<IPython.core.display.Markdown object>"
      ]
     },
     "metadata": {},
     "output_type": "display_data"
    },
    {
     "data": {
      "image/svg+xml": [
       "<svg xmlns=\"http://www.w3.org/2000/svg\" xmlns:xlink=\"http://www.w3.org/1999/xlink\" width=\"522pt\" height=\"233pt\" viewBox=\"0.00 0.00 521.71 232.98\">\n",
       "<g id=\"graph0\" class=\"graph\" transform=\"scale(1 1) rotate(0) translate(4 228.98)\">\n",
       "<polygon fill=\"white\" stroke=\"none\" points=\"-4,4 -4,-228.98 517.71,-228.98 517.71,4 -4,4\"/>\n",
       "<!-- bto\n",
       "6,511 -->\n",
       "<g id=\"node1\" class=\"node\">\n",
       "<title>bto\n",
       "6,511</title>\n",
       "<ellipse fill=\"none\" stroke=\"black\" cx=\"33.06\" cy=\"-195.99\" rx=\"33.06\" ry=\"28.99\"/>\n",
       "<text text-anchor=\"middle\" x=\"33.06\" y=\"-199.19\" font-family=\"Times,serif\" font-size=\"14.00\">bto</text>\n",
       "<text text-anchor=\"middle\" x=\"33.06\" y=\"-182.69\" font-family=\"Times,serif\" font-size=\"14.00\">6,511</text>\n",
       "</g>\n",
       "<!-- cl\n",
       "3,060 -->\n",
       "<g id=\"node2\" class=\"node\">\n",
       "<title>cl\n",
       "3,060</title>\n",
       "<ellipse fill=\"none\" stroke=\"black\" cx=\"176.63\" cy=\"-195.99\" rx=\"33.06\" ry=\"28.99\"/>\n",
       "<text text-anchor=\"middle\" x=\"176.63\" y=\"-199.19\" font-family=\"Times,serif\" font-size=\"14.00\">cl</text>\n",
       "<text text-anchor=\"middle\" x=\"176.63\" y=\"-182.69\" font-family=\"Times,serif\" font-size=\"14.00\">3,060</text>\n",
       "</g>\n",
       "<!-- bto\n",
       "6,511&#45;&#45;cl\n",
       "3,060 -->\n",
       "<g id=\"edge1\" class=\"edge\">\n",
       "<title>bto\n",
       "6,511--cl\n",
       "3,060</title>\n",
       "<path fill=\"none\" stroke=\"black\" d=\"M66.54,-195.99C89.56,-195.99 120.32,-195.99 143.31,-195.99\"/>\n",
       "<text text-anchor=\"middle\" x=\"94.24\" y=\"-199.19\" font-family=\"Times,serif\" font-size=\"14.00\">74</text>\n",
       "</g>\n",
       "<!-- mesh\n",
       "636 -->\n",
       "<g id=\"node3\" class=\"node\">\n",
       "<title>mesh\n",
       "636</title>\n",
       "<ellipse fill=\"none\" stroke=\"black\" cx=\"339.73\" cy=\"-195.99\" rx=\"32\" ry=\"28.99\"/>\n",
       "<text text-anchor=\"middle\" x=\"339.73\" y=\"-199.19\" font-family=\"Times,serif\" font-size=\"14.00\">mesh</text>\n",
       "<text text-anchor=\"middle\" x=\"339.73\" y=\"-182.69\" font-family=\"Times,serif\" font-size=\"14.00\">636</text>\n",
       "</g>\n",
       "<!-- cl\n",
       "3,060&#45;&#45;mesh\n",
       "636 -->\n",
       "<g id=\"edge2\" class=\"edge\">\n",
       "<title>cl\n",
       "3,060--mesh\n",
       "636</title>\n",
       "<path fill=\"none\" stroke=\"black\" d=\"M209.85,-195.99C238.22,-195.99 279.29,-195.99 307.39,-195.99\"/>\n",
       "<text text-anchor=\"middle\" x=\"264.28\" y=\"-199.19\" font-family=\"Times,serif\" font-size=\"14.00\">81</text>\n",
       "</g>\n",
       "<!-- clo\n",
       "39,099 -->\n",
       "<g id=\"node7\" class=\"node\">\n",
       "<title>clo\n",
       "39,099</title>\n",
       "<ellipse fill=\"none\" stroke=\"black\" cx=\"475.88\" cy=\"-115.99\" rx=\"37.83\" ry=\"28.99\"/>\n",
       "<text text-anchor=\"middle\" x=\"475.88\" y=\"-119.19\" font-family=\"Times,serif\" font-size=\"14.00\">clo</text>\n",
       "<text text-anchor=\"middle\" x=\"475.88\" y=\"-102.69\" font-family=\"Times,serif\" font-size=\"14.00\">39,099</text>\n",
       "</g>\n",
       "<!-- mesh\n",
       "636&#45;&#45;clo\n",
       "39,099 -->\n",
       "<g id=\"edge9\" class=\"edge\">\n",
       "<title>mesh\n",
       "636--clo\n",
       "39,099</title>\n",
       "<path fill=\"none\" stroke=\"black\" d=\"M368.26,-181.91C383.7,-173.8 403.17,-163.23 420.05,-152.99 429.08,-147.51 438.71,-141.19 447.33,-135.34\"/>\n",
       "<text text-anchor=\"middle\" x=\"409.93\" y=\"-167.19\" font-family=\"Times,serif\" font-size=\"14.00\">34</text>\n",
       "</g>\n",
       "<!-- ccle\n",
       "1,061 -->\n",
       "<g id=\"node4\" class=\"node\">\n",
       "<title>ccle\n",
       "1,061</title>\n",
       "<ellipse fill=\"none\" stroke=\"black\" cx=\"33.06\" cy=\"-81.99\" rx=\"33.06\" ry=\"28.99\"/>\n",
       "<text text-anchor=\"middle\" x=\"33.06\" y=\"-85.19\" font-family=\"Times,serif\" font-size=\"14.00\">ccle</text>\n",
       "<text text-anchor=\"middle\" x=\"33.06\" y=\"-68.69\" font-family=\"Times,serif\" font-size=\"14.00\">1,061</text>\n",
       "</g>\n",
       "<!-- cellosaurus\n",
       "161,202 -->\n",
       "<g id=\"node5\" class=\"node\">\n",
       "<title>cellosaurus\n",
       "161,202</title>\n",
       "<ellipse fill=\"none\" stroke=\"black\" cx=\"176.63\" cy=\"-81.99\" rx=\"54.27\" ry=\"28.99\"/>\n",
       "<text text-anchor=\"middle\" x=\"176.63\" y=\"-85.19\" font-family=\"Times,serif\" font-size=\"14.00\">cellosaurus</text>\n",
       "<text text-anchor=\"middle\" x=\"176.63\" y=\"-68.69\" font-family=\"Times,serif\" font-size=\"14.00\">161,202</text>\n",
       "</g>\n",
       "<!-- ccle\n",
       "1,061&#45;&#45;cellosaurus\n",
       "161,202 -->\n",
       "<g id=\"edge3\" class=\"edge\">\n",
       "<title>ccle\n",
       "1,061--cellosaurus\n",
       "161,202</title>\n",
       "<path fill=\"none\" stroke=\"black\" d=\"M66.54,-81.99C82.95,-81.99 103.29,-81.99 121.94,-81.99\"/>\n",
       "<text text-anchor=\"middle\" x=\"94.24\" y=\"-85.19\" font-family=\"Times,serif\" font-size=\"14.00\">113</text>\n",
       "</g>\n",
       "<!-- depmap\n",
       "1,814 -->\n",
       "<g id=\"node6\" class=\"node\">\n",
       "<title>depmap\n",
       "1,814</title>\n",
       "<ellipse fill=\"none\" stroke=\"black\" cx=\"339.73\" cy=\"-28.99\" rx=\"42.07\" ry=\"28.99\"/>\n",
       "<text text-anchor=\"middle\" x=\"339.73\" y=\"-32.19\" font-family=\"Times,serif\" font-size=\"14.00\">depmap</text>\n",
       "<text text-anchor=\"middle\" x=\"339.73\" y=\"-15.69\" font-family=\"Times,serif\" font-size=\"14.00\">1,814</text>\n",
       "</g>\n",
       "<!-- ccle\n",
       "1,061&#45;&#45;depmap\n",
       "1,814 -->\n",
       "<g id=\"edge4\" class=\"edge\">\n",
       "<title>ccle\n",
       "1,061--depmap\n",
       "1,814</title>\n",
       "<path fill=\"none\" stroke=\"black\" d=\"M57.8,-62.25C74.65,-49.58 98.45,-34.28 122.36,-27.49 181.81,-10.62 254.2,-16.05 298.35,-22.09\"/>\n",
       "<text text-anchor=\"middle\" x=\"176.63\" y=\"-31.19\" font-family=\"Times,serif\" font-size=\"14.00\">49</text>\n",
       "</g>\n",
       "<!-- ccle\n",
       "1,061&#45;&#45;clo\n",
       "39,099 -->\n",
       "<g id=\"edge5\" class=\"edge\">\n",
       "<title>ccle\n",
       "1,061--clo\n",
       "39,099</title>\n",
       "<path fill=\"none\" stroke=\"black\" d=\"M61.78,-97.14C78.74,-105.58 101.18,-115.31 122.36,-119.99 235.47,-144.98 374,-130.84 438.55,-121.76\"/>\n",
       "<text text-anchor=\"middle\" x=\"264.28\" y=\"-137.19\" font-family=\"Times,serif\" font-size=\"14.00\">43</text>\n",
       "</g>\n",
       "<!-- cellosaurus\n",
       "161,202&#45;&#45;depmap\n",
       "1,814 -->\n",
       "<g id=\"edge6\" class=\"edge\">\n",
       "<title>cellosaurus\n",
       "161,202--depmap\n",
       "1,814</title>\n",
       "<path fill=\"none\" stroke=\"black\" d=\"M223.37,-66.95C248.02,-58.84 278.05,-48.95 301.3,-41.31\"/>\n",
       "<text text-anchor=\"middle\" x=\"264.28\" y=\"-61.19\" font-family=\"Times,serif\" font-size=\"14.00\">1,678</text>\n",
       "</g>\n",
       "<!-- cellosaurus\n",
       "161,202&#45;&#45;clo\n",
       "39,099 -->\n",
       "<g id=\"edge7\" class=\"edge\">\n",
       "<title>cellosaurus\n",
       "161,202--clo\n",
       "39,099</title>\n",
       "<path fill=\"none\" stroke=\"black\" d=\"M230.09,-87.99C289.76,-94.82 385.66,-105.79 437.96,-111.77\"/>\n",
       "<text text-anchor=\"middle\" x=\"339.73\" y=\"-108.19\" font-family=\"Times,serif\" font-size=\"14.00\">540</text>\n",
       "</g>\n",
       "<!-- depmap\n",
       "1,814&#45;&#45;clo\n",
       "39,099 -->\n",
       "<g id=\"edge8\" class=\"edge\">\n",
       "<title>depmap\n",
       "1,814--clo\n",
       "39,099</title>\n",
       "<path fill=\"none\" stroke=\"black\" d=\"M377.66,-41.89C391.52,-47.53 407.05,-54.84 420.05,-63.49 432.12,-71.52 443.94,-82.34 453.5,-92.08\"/>\n",
       "<text text-anchor=\"middle\" x=\"409.93\" y=\"-67.19\" font-family=\"Times,serif\" font-size=\"14.00\">474</text>\n",
       "</g>\n",
       "</g>\n",
       "</svg>"
      ],
      "text/plain": [
       "<IPython.core.display.SVG object>"
      ]
     },
     "metadata": {},
     "output_type": "display_data"
    },
    {
     "data": {
      "text/markdown": [
       "## Comparison\n",
       "\n",
       "The following comparison shows the absolute number of mappings added by processing/inference.\n",
       "Across the board, this process adds large numbers of mappings to most resources, especially\n",
       "ones that were previously only connected to a small number of other resources.\n"
      ],
      "text/plain": [
       "<IPython.core.display.Markdown object>"
      ]
     },
     "metadata": {},
     "output_type": "display_data"
    },
    {
     "data": {
      "text/html": [
       "<div>\n",
       "<style scoped>\n",
       "    .dataframe tbody tr th:only-of-type {\n",
       "        vertical-align: middle;\n",
       "    }\n",
       "\n",
       "    .dataframe tbody tr th {\n",
       "        vertical-align: top;\n",
       "    }\n",
       "\n",
       "    .dataframe thead th {\n",
       "        text-align: right;\n",
       "    }\n",
       "</style>\n",
       "<table border=\"1\" class=\"dataframe\">\n",
       "  <thead>\n",
       "    <tr style=\"text-align: right;\">\n",
       "      <th>target_prefix</th>\n",
       "      <th>mesh</th>\n",
       "      <th>efo</th>\n",
       "      <th>cellosaurus</th>\n",
       "      <th>ccle</th>\n",
       "      <th>depmap</th>\n",
       "      <th>bto</th>\n",
       "      <th>cl</th>\n",
       "      <th>clo</th>\n",
       "      <th>ncit</th>\n",
       "      <th>umls</th>\n",
       "    </tr>\n",
       "    <tr>\n",
       "      <th>source_prefix</th>\n",
       "      <th></th>\n",
       "      <th></th>\n",
       "      <th></th>\n",
       "      <th></th>\n",
       "      <th></th>\n",
       "      <th></th>\n",
       "      <th></th>\n",
       "      <th></th>\n",
       "      <th></th>\n",
       "      <th></th>\n",
       "    </tr>\n",
       "  </thead>\n",
       "  <tbody>\n",
       "    <tr>\n",
       "      <th>mesh</th>\n",
       "      <td>0</td>\n",
       "      <td>0</td>\n",
       "      <td>4</td>\n",
       "      <td>1</td>\n",
       "      <td>6</td>\n",
       "      <td>4</td>\n",
       "      <td>0</td>\n",
       "      <td>0</td>\n",
       "      <td>0</td>\n",
       "      <td>0</td>\n",
       "    </tr>\n",
       "    <tr>\n",
       "      <th>efo</th>\n",
       "      <td>0</td>\n",
       "      <td>0</td>\n",
       "      <td>0</td>\n",
       "      <td>0</td>\n",
       "      <td>0</td>\n",
       "      <td>0</td>\n",
       "      <td>0</td>\n",
       "      <td>0</td>\n",
       "      <td>0</td>\n",
       "      <td>0</td>\n",
       "    </tr>\n",
       "    <tr>\n",
       "      <th>cellosaurus</th>\n",
       "      <td>4</td>\n",
       "      <td>0</td>\n",
       "      <td>0</td>\n",
       "      <td>0</td>\n",
       "      <td>0</td>\n",
       "      <td>2</td>\n",
       "      <td>0</td>\n",
       "      <td>0</td>\n",
       "      <td>0</td>\n",
       "      <td>0</td>\n",
       "    </tr>\n",
       "    <tr>\n",
       "      <th>ccle</th>\n",
       "      <td>1</td>\n",
       "      <td>0</td>\n",
       "      <td>0</td>\n",
       "      <td>0</td>\n",
       "      <td>45</td>\n",
       "      <td>0</td>\n",
       "      <td>0</td>\n",
       "      <td>43</td>\n",
       "      <td>0</td>\n",
       "      <td>0</td>\n",
       "    </tr>\n",
       "    <tr>\n",
       "      <th>depmap</th>\n",
       "      <td>6</td>\n",
       "      <td>0</td>\n",
       "      <td>0</td>\n",
       "      <td>45</td>\n",
       "      <td>0</td>\n",
       "      <td>1</td>\n",
       "      <td>0</td>\n",
       "      <td>474</td>\n",
       "      <td>0</td>\n",
       "      <td>0</td>\n",
       "    </tr>\n",
       "    <tr>\n",
       "      <th>bto</th>\n",
       "      <td>4</td>\n",
       "      <td>0</td>\n",
       "      <td>2</td>\n",
       "      <td>0</td>\n",
       "      <td>1</td>\n",
       "      <td>0</td>\n",
       "      <td>0</td>\n",
       "      <td>0</td>\n",
       "      <td>0</td>\n",
       "      <td>0</td>\n",
       "    </tr>\n",
       "    <tr>\n",
       "      <th>cl</th>\n",
       "      <td>0</td>\n",
       "      <td>0</td>\n",
       "      <td>0</td>\n",
       "      <td>0</td>\n",
       "      <td>0</td>\n",
       "      <td>0</td>\n",
       "      <td>0</td>\n",
       "      <td>0</td>\n",
       "      <td>2</td>\n",
       "      <td>0</td>\n",
       "    </tr>\n",
       "    <tr>\n",
       "      <th>clo</th>\n",
       "      <td>0</td>\n",
       "      <td>0</td>\n",
       "      <td>0</td>\n",
       "      <td>43</td>\n",
       "      <td>474</td>\n",
       "      <td>0</td>\n",
       "      <td>0</td>\n",
       "      <td>0</td>\n",
       "      <td>0</td>\n",
       "      <td>0</td>\n",
       "    </tr>\n",
       "    <tr>\n",
       "      <th>ncit</th>\n",
       "      <td>0</td>\n",
       "      <td>0</td>\n",
       "      <td>0</td>\n",
       "      <td>0</td>\n",
       "      <td>0</td>\n",
       "      <td>0</td>\n",
       "      <td>2</td>\n",
       "      <td>0</td>\n",
       "      <td>0</td>\n",
       "      <td>0</td>\n",
       "    </tr>\n",
       "    <tr>\n",
       "      <th>umls</th>\n",
       "      <td>0</td>\n",
       "      <td>0</td>\n",
       "      <td>0</td>\n",
       "      <td>0</td>\n",
       "      <td>0</td>\n",
       "      <td>0</td>\n",
       "      <td>0</td>\n",
       "      <td>0</td>\n",
       "      <td>0</td>\n",
       "      <td>0</td>\n",
       "    </tr>\n",
       "  </tbody>\n",
       "</table>\n",
       "</div>"
      ],
      "text/plain": [
       "target_prefix  mesh  efo  cellosaurus  ccle  depmap  bto  cl  clo  ncit  umls\n",
       "source_prefix                                                                \n",
       "mesh              0    0            4     1       6    4   0    0     0     0\n",
       "efo               0    0            0     0       0    0   0    0     0     0\n",
       "cellosaurus       4    0            0     0       0    2   0    0     0     0\n",
       "ccle              1    0            0     0      45    0   0   43     0     0\n",
       "depmap            6    0            0    45       0    1   0  474     0     0\n",
       "bto               4    0            2     0       1    0   0    0     0     0\n",
       "cl                0    0            0     0       0    0   0    0     2     0\n",
       "clo               0    0            0    43     474    0   0    0     0     0\n",
       "ncit              0    0            0     0       0    0   2    0     0     0\n",
       "umls              0    0            0     0       0    0   0    0     0     0"
      ]
     },
     "metadata": {},
     "output_type": "display_data"
    },
    {
     "data": {
      "text/markdown": [
       "Here's an alternative view on the number of mappings normalized to show percentage gain.\n",
       "\n",
       "Note:\n",
       "\n",
       "- `inf` means that there were no mappings before and now there are a non-zero number of\n",
       "   mappings\n",
       "- `NaN` means there were no mappings before inference and continue to be no mappings after\n",
       "   inference\n"
      ],
      "text/plain": [
       "<IPython.core.display.Markdown object>"
      ]
     },
     "metadata": {},
     "output_type": "display_data"
    },
    {
     "data": {
      "text/html": [
       "<div>\n",
       "<style scoped>\n",
       "    .dataframe tbody tr th:only-of-type {\n",
       "        vertical-align: middle;\n",
       "    }\n",
       "\n",
       "    .dataframe tbody tr th {\n",
       "        vertical-align: top;\n",
       "    }\n",
       "\n",
       "    .dataframe thead th {\n",
       "        text-align: right;\n",
       "    }\n",
       "</style>\n",
       "<table border=\"1\" class=\"dataframe\">\n",
       "  <thead>\n",
       "    <tr style=\"text-align: right;\">\n",
       "      <th>target_prefix</th>\n",
       "      <th>mesh</th>\n",
       "      <th>efo</th>\n",
       "      <th>cellosaurus</th>\n",
       "      <th>ccle</th>\n",
       "      <th>depmap</th>\n",
       "      <th>bto</th>\n",
       "      <th>cl</th>\n",
       "      <th>clo</th>\n",
       "      <th>ncit</th>\n",
       "      <th>umls</th>\n",
       "    </tr>\n",
       "    <tr>\n",
       "      <th>source_prefix</th>\n",
       "      <th></th>\n",
       "      <th></th>\n",
       "      <th></th>\n",
       "      <th></th>\n",
       "      <th></th>\n",
       "      <th></th>\n",
       "      <th></th>\n",
       "      <th></th>\n",
       "      <th></th>\n",
       "      <th></th>\n",
       "    </tr>\n",
       "  </thead>\n",
       "  <tbody>\n",
       "    <tr>\n",
       "      <th>mesh</th>\n",
       "      <td>0.0</td>\n",
       "      <td>0.0</td>\n",
       "      <td>inf</td>\n",
       "      <td>inf</td>\n",
       "      <td>inf</td>\n",
       "      <td>inf</td>\n",
       "      <td>0.0</td>\n",
       "      <td>0.0</td>\n",
       "      <td>0.0</td>\n",
       "      <td>NaN</td>\n",
       "    </tr>\n",
       "    <tr>\n",
       "      <th>efo</th>\n",
       "      <td>0.0</td>\n",
       "      <td>0.0</td>\n",
       "      <td>NaN</td>\n",
       "      <td>NaN</td>\n",
       "      <td>NaN</td>\n",
       "      <td>NaN</td>\n",
       "      <td>NaN</td>\n",
       "      <td>NaN</td>\n",
       "      <td>NaN</td>\n",
       "      <td>NaN</td>\n",
       "    </tr>\n",
       "    <tr>\n",
       "      <th>cellosaurus</th>\n",
       "      <td>inf</td>\n",
       "      <td>NaN</td>\n",
       "      <td>0.0</td>\n",
       "      <td>0.0</td>\n",
       "      <td>0.0</td>\n",
       "      <td>inf</td>\n",
       "      <td>NaN</td>\n",
       "      <td>0.0</td>\n",
       "      <td>NaN</td>\n",
       "      <td>NaN</td>\n",
       "    </tr>\n",
       "    <tr>\n",
       "      <th>ccle</th>\n",
       "      <td>inf</td>\n",
       "      <td>NaN</td>\n",
       "      <td>0.0</td>\n",
       "      <td>0.0</td>\n",
       "      <td>1125.0</td>\n",
       "      <td>0.0</td>\n",
       "      <td>NaN</td>\n",
       "      <td>inf</td>\n",
       "      <td>NaN</td>\n",
       "      <td>NaN</td>\n",
       "    </tr>\n",
       "    <tr>\n",
       "      <th>depmap</th>\n",
       "      <td>inf</td>\n",
       "      <td>NaN</td>\n",
       "      <td>0.0</td>\n",
       "      <td>1125.0</td>\n",
       "      <td>0.0</td>\n",
       "      <td>inf</td>\n",
       "      <td>NaN</td>\n",
       "      <td>inf</td>\n",
       "      <td>NaN</td>\n",
       "      <td>NaN</td>\n",
       "    </tr>\n",
       "    <tr>\n",
       "      <th>bto</th>\n",
       "      <td>inf</td>\n",
       "      <td>NaN</td>\n",
       "      <td>inf</td>\n",
       "      <td>0.0</td>\n",
       "      <td>inf</td>\n",
       "      <td>0.0</td>\n",
       "      <td>0.0</td>\n",
       "      <td>0.0</td>\n",
       "      <td>NaN</td>\n",
       "      <td>NaN</td>\n",
       "    </tr>\n",
       "    <tr>\n",
       "      <th>cl</th>\n",
       "      <td>0.0</td>\n",
       "      <td>NaN</td>\n",
       "      <td>NaN</td>\n",
       "      <td>NaN</td>\n",
       "      <td>NaN</td>\n",
       "      <td>0.0</td>\n",
       "      <td>0.0</td>\n",
       "      <td>NaN</td>\n",
       "      <td>inf</td>\n",
       "      <td>NaN</td>\n",
       "    </tr>\n",
       "    <tr>\n",
       "      <th>clo</th>\n",
       "      <td>0.0</td>\n",
       "      <td>NaN</td>\n",
       "      <td>0.0</td>\n",
       "      <td>inf</td>\n",
       "      <td>inf</td>\n",
       "      <td>0.0</td>\n",
       "      <td>NaN</td>\n",
       "      <td>0.0</td>\n",
       "      <td>NaN</td>\n",
       "      <td>NaN</td>\n",
       "    </tr>\n",
       "    <tr>\n",
       "      <th>ncit</th>\n",
       "      <td>0.0</td>\n",
       "      <td>NaN</td>\n",
       "      <td>NaN</td>\n",
       "      <td>NaN</td>\n",
       "      <td>NaN</td>\n",
       "      <td>NaN</td>\n",
       "      <td>inf</td>\n",
       "      <td>NaN</td>\n",
       "      <td>0.0</td>\n",
       "      <td>NaN</td>\n",
       "    </tr>\n",
       "    <tr>\n",
       "      <th>umls</th>\n",
       "      <td>NaN</td>\n",
       "      <td>NaN</td>\n",
       "      <td>NaN</td>\n",
       "      <td>NaN</td>\n",
       "      <td>NaN</td>\n",
       "      <td>NaN</td>\n",
       "      <td>NaN</td>\n",
       "      <td>NaN</td>\n",
       "      <td>NaN</td>\n",
       "      <td>0.0</td>\n",
       "    </tr>\n",
       "  </tbody>\n",
       "</table>\n",
       "</div>"
      ],
      "text/plain": [
       "target_prefix  mesh  efo  cellosaurus    ccle  depmap  bto   cl  clo  ncit  \\\n",
       "source_prefix                                                                \n",
       "mesh            0.0  0.0          inf     inf     inf  inf  0.0  0.0   0.0   \n",
       "efo             0.0  0.0          NaN     NaN     NaN  NaN  NaN  NaN   NaN   \n",
       "cellosaurus     inf  NaN          0.0     0.0     0.0  inf  NaN  0.0   NaN   \n",
       "ccle            inf  NaN          0.0     0.0  1125.0  0.0  NaN  inf   NaN   \n",
       "depmap          inf  NaN          0.0  1125.0     0.0  inf  NaN  inf   NaN   \n",
       "bto             inf  NaN          inf     0.0     inf  0.0  0.0  0.0   NaN   \n",
       "cl              0.0  NaN          NaN     NaN     NaN  0.0  0.0  NaN   inf   \n",
       "clo             0.0  NaN          0.0     inf     inf  0.0  NaN  0.0   NaN   \n",
       "ncit            0.0  NaN          NaN     NaN     NaN  NaN  inf  NaN   0.0   \n",
       "umls            NaN  NaN          NaN     NaN     NaN  NaN  NaN  NaN   NaN   \n",
       "\n",
       "target_prefix  umls  \n",
       "source_prefix        \n",
       "mesh            NaN  \n",
       "efo             NaN  \n",
       "cellosaurus     NaN  \n",
       "ccle            NaN  \n",
       "depmap          NaN  \n",
       "bto             NaN  \n",
       "cl              NaN  \n",
       "clo             NaN  \n",
       "ncit            NaN  \n",
       "umls            0.0  "
      ]
     },
     "metadata": {},
     "output_type": "display_data"
    },
    {
     "data": {
      "text/markdown": [
       "## Landscape Analysis\n",
       "\n",
       "Before, we looked at the overlaps between each resource. Now, we use that information\n",
       "jointly to estimate the number of terms in the landscape itself, and estimate how much\n",
       "of the landscape each resource covers.\n"
      ],
      "text/plain": [
       "<IPython.core.display.Markdown object>"
      ]
     },
     "metadata": {},
     "output_type": "display_data"
    },
    {
     "data": {
      "text/markdown": [
       "This estimates a total of 179,357 unique entities.\n",
       "\n",
       "- 35,712\n",
       "  (19.9%) have\n",
       "  at least one mapping.\n",
       "- 143,645 (80.1%)\n",
       "  are unique to a single resource.\n",
       "- 0 (0.0%)\n",
       "  appear in all 10 resources.\n",
       "\n",
       "This estimate is susceptible to several caveats:\n",
       "\n",
       "- Missing mappings inflates this measurement\n",
       "- Generic resources like MeSH contain irrelevant entities that can't be mapped\n"
      ],
      "text/plain": [
       "<IPython.core.display.Markdown object>"
      ]
     },
     "metadata": {},
     "output_type": "display_data"
    },
    {
     "data": {
      "text/markdown": [
       "Because there are 10, there are 1023 possible overlaps to consider.\n",
       "Therefore, a Venn diagram is not possible, so we\n",
       "we use an [UpSet plot](https://www.ncbi.nlm.nih.gov/pmc/articles/PMC4720993)\n",
       "(Lex *et al.*, 2014) as a high-dimensional Venn diagram.\n"
      ],
      "text/plain": [
       "<IPython.core.display.Markdown object>"
      ]
     },
     "metadata": {},
     "output_type": "display_data"
    },
    {
     "name": "stderr",
     "output_type": "stream",
     "text": [
      "/Users/ben/.virtualenvs/py312/lib/python3.12/site-packages/upsetplot/data.py:303: FutureWarning: Downcasting object dtype arrays on .fillna, .ffill, .bfill is deprecated and will change in a future version. Call result.infer_objects(copy=False) instead. To opt-in to the future behavior, set `pd.set_option('future.no_silent_downcasting', True)`\n",
      "  df.fillna(False, inplace=True)\n",
      "/Users/ben/.virtualenvs/py312/lib/python3.12/site-packages/upsetplot/plotting.py:795: FutureWarning: A value is trying to be set on a copy of a DataFrame or Series through chained assignment using an inplace method.\n",
      "The behavior will change in pandas 3.0. This inplace method will never work because the intermediate object on which we are setting values always behaves as a copy.\n",
      "\n",
      "For example, when doing 'df[col].method(value, inplace=True)', try using 'df.method({col: value}, inplace=True)' or df[col] = df[col].method(value) instead, to perform the operation inplace on the original object.\n",
      "\n",
      "\n",
      "  styles[\"linewidth\"].fillna(1, inplace=True)\n",
      "/Users/ben/.virtualenvs/py312/lib/python3.12/site-packages/upsetplot/plotting.py:796: FutureWarning: A value is trying to be set on a copy of a DataFrame or Series through chained assignment using an inplace method.\n",
      "The behavior will change in pandas 3.0. This inplace method will never work because the intermediate object on which we are setting values always behaves as a copy.\n",
      "\n",
      "For example, when doing 'df[col].method(value, inplace=True)', try using 'df.method({col: value}, inplace=True)' or df[col] = df[col].method(value) instead, to perform the operation inplace on the original object.\n",
      "\n",
      "\n",
      "  styles[\"facecolor\"].fillna(self._facecolor, inplace=True)\n",
      "/Users/ben/.virtualenvs/py312/lib/python3.12/site-packages/upsetplot/plotting.py:797: FutureWarning: A value is trying to be set on a copy of a DataFrame or Series through chained assignment using an inplace method.\n",
      "The behavior will change in pandas 3.0. This inplace method will never work because the intermediate object on which we are setting values always behaves as a copy.\n",
      "\n",
      "For example, when doing 'df[col].method(value, inplace=True)', try using 'df.method({col: value}, inplace=True)' or df[col] = df[col].method(value) instead, to perform the operation inplace on the original object.\n",
      "\n",
      "\n",
      "  styles[\"edgecolor\"].fillna(styles[\"facecolor\"], inplace=True)\n",
      "/Users/ben/.virtualenvs/py312/lib/python3.12/site-packages/upsetplot/plotting.py:798: FutureWarning: A value is trying to be set on a copy of a DataFrame or Series through chained assignment using an inplace method.\n",
      "The behavior will change in pandas 3.0. This inplace method will never work because the intermediate object on which we are setting values always behaves as a copy.\n",
      "\n",
      "For example, when doing 'df[col].method(value, inplace=True)', try using 'df.method({col: value}, inplace=True)' or df[col] = df[col].method(value) instead, to perform the operation inplace on the original object.\n",
      "\n",
      "\n",
      "  styles[\"linestyle\"].fillna(\"solid\", inplace=True)\n"
     ]
    },
    {
     "data": {
      "image/svg+xml": [
       "<?xml version=\"1.0\" encoding=\"utf-8\" standalone=\"no\"?>\n",
       "<!DOCTYPE svg PUBLIC \"-//W3C//DTD SVG 1.1//EN\"\n",
       "  \"http://www.w3.org/Graphics/SVG/1.1/DTD/svg11.dtd\">\n",
       "<svg xmlns:xlink=\"http://www.w3.org/1999/xlink\" width=\"1304pt\" height=\"425.318125pt\" viewBox=\"0 0 1304 425.318125\" xmlns=\"http://www.w3.org/2000/svg\" version=\"1.1\">\n",
       " <metadata>\n",
       "  <rdf:RDF xmlns:dc=\"http://purl.org/dc/elements/1.1/\" xmlns:cc=\"http://creativecommons.org/ns#\" xmlns:rdf=\"http://www.w3.org/1999/02/22-rdf-syntax-ns#\">\n",
       "   <cc:Work>\n",
       "    <dc:type rdf:resource=\"http://purl.org/dc/dcmitype/StillImage\"/>\n",
       "    <dc:date>2025-03-20T11:51:20.298794</dc:date>\n",
       "    <dc:format>image/svg+xml</dc:format>\n",
       "    <dc:creator>\n",
       "     <cc:Agent>\n",
       "      <dc:title>Matplotlib v3.8.4, https://matplotlib.org/</dc:title>\n",
       "     </cc:Agent>\n",
       "    </dc:creator>\n",
       "   </cc:Work>\n",
       "  </rdf:RDF>\n",
       " </metadata>\n",
       " <defs>\n",
       "  <style type=\"text/css\">*{stroke-linejoin: round; stroke-linecap: butt}</style>\n",
       " </defs>\n",
       " <g id=\"figure_1\">\n",
       "  <g id=\"patch_1\">\n",
       "   <path d=\"M 0 425.318125 \n",
       "L 1304 425.318125 \n",
       "L 1304 0 \n",
       "L 0 0 \n",
       "z\n",
       "\" style=\"fill: #ffffff\"/>\n",
       "  </g>\n",
       "  <g id=\"axes_1\">\n",
       "   <g id=\"patch_2\">\n",
       "    <path d=\"M 7.2 390.456774 \n",
       "L 1296.8 390.456774 \n",
       "L 1296.8 372.524977 \n",
       "L 7.2 372.524977 \n",
       "z\n",
       "\" clip-path=\"url(#pe27a6fa36f)\" style=\"fill-opacity: 0.05098\"/>\n",
       "   </g>\n",
       "   <g id=\"patch_3\">\n",
       "    <path d=\"M 7.2 368.042028 \n",
       "L 1296.8 368.042028 \n",
       "L 1296.8 350.11023 \n",
       "L 7.2 350.11023 \n",
       "L 7.2 368.042028 \n",
       "z\n",
       "\" clip-path=\"url(#pe27a6fa36f)\" style=\"fill: none\"/>\n",
       "   </g>\n",
       "   <g id=\"patch_4\">\n",
       "    <path d=\"M 7.2 345.627281 \n",
       "L 1296.8 345.627281 \n",
       "L 1296.8 327.695484 \n",
       "L 7.2 327.695484 \n",
       "z\n",
       "\" clip-path=\"url(#pe27a6fa36f)\" style=\"fill-opacity: 0.05098\"/>\n",
       "   </g>\n",
       "   <g id=\"patch_5\">\n",
       "    <path d=\"M 7.2 323.212535 \n",
       "L 1296.8 323.212535 \n",
       "L 1296.8 305.280737 \n",
       "L 7.2 305.280737 \n",
       "L 7.2 323.212535 \n",
       "z\n",
       "\" clip-path=\"url(#pe27a6fa36f)\" style=\"fill: none\"/>\n",
       "   </g>\n",
       "   <g id=\"patch_6\">\n",
       "    <path d=\"M 7.2 300.797788 \n",
       "L 1296.8 300.797788 \n",
       "L 1296.8 282.865991 \n",
       "L 7.2 282.865991 \n",
       "z\n",
       "\" clip-path=\"url(#pe27a6fa36f)\" style=\"fill-opacity: 0.05098\"/>\n",
       "   </g>\n",
       "   <g id=\"patch_7\">\n",
       "    <path d=\"M 7.2 278.383041 \n",
       "L 1296.8 278.383041 \n",
       "L 1296.8 260.451244 \n",
       "L 7.2 260.451244 \n",
       "L 7.2 278.383041 \n",
       "z\n",
       "\" clip-path=\"url(#pe27a6fa36f)\" style=\"fill: none\"/>\n",
       "   </g>\n",
       "   <g id=\"patch_8\">\n",
       "    <path d=\"M 7.2 255.968295 \n",
       "L 1296.8 255.968295 \n",
       "L 1296.8 238.036498 \n",
       "L 7.2 238.036498 \n",
       "z\n",
       "\" clip-path=\"url(#pe27a6fa36f)\" style=\"fill-opacity: 0.05098\"/>\n",
       "   </g>\n",
       "   <g id=\"patch_9\">\n",
       "    <path d=\"M 7.2 233.553548 \n",
       "L 1296.8 233.553548 \n",
       "L 1296.8 215.621751 \n",
       "L 7.2 215.621751 \n",
       "L 7.2 233.553548 \n",
       "z\n",
       "\" clip-path=\"url(#pe27a6fa36f)\" style=\"fill: none\"/>\n",
       "   </g>\n",
       "   <g id=\"patch_10\">\n",
       "    <path d=\"M 7.2 211.138802 \n",
       "L 1296.8 211.138802 \n",
       "L 1296.8 193.207005 \n",
       "L 7.2 193.207005 \n",
       "z\n",
       "\" clip-path=\"url(#pe27a6fa36f)\" style=\"fill-opacity: 0.05098\"/>\n",
       "   </g>\n",
       "   <g id=\"patch_11\">\n",
       "    <path d=\"M 7.2 188.724055 \n",
       "L 1296.8 188.724055 \n",
       "L 1296.8 170.792258 \n",
       "L 7.2 170.792258 \n",
       "L 7.2 188.724055 \n",
       "z\n",
       "\" clip-path=\"url(#pe27a6fa36f)\" style=\"fill: none\"/>\n",
       "   </g>\n",
       "   <g id=\"matplotlib.axis_1\"/>\n",
       "   <g id=\"matplotlib.axis_2\">\n",
       "    <g id=\"ytick_1\"/>\n",
       "    <g id=\"ytick_2\"/>\n",
       "    <g id=\"ytick_3\"/>\n",
       "    <g id=\"ytick_4\"/>\n",
       "    <g id=\"ytick_5\"/>\n",
       "    <g id=\"ytick_6\"/>\n",
       "    <g id=\"ytick_7\"/>\n",
       "    <g id=\"ytick_8\"/>\n",
       "    <g id=\"ytick_9\"/>\n",
       "    <g id=\"ytick_10\"/>\n",
       "   </g>\n",
       "  </g>\n",
       "  <g id=\"axes_2\">\n",
       "   <g id=\"matplotlib.axis_3\">\n",
       "    <g id=\"ytick_11\">\n",
       "     <g id=\"line2d_1\"/>\n",
       "     <g id=\"text_1\">\n",
       "      <!-- cellosaurus -->\n",
       "      <g transform=\"translate(71.439339 385.290094) scale(0.1 -0.1)\">\n",
       "       <defs>\n",
       "        <path id=\"DejaVuSans-63\" d=\"M 3122 3366 \n",
       "L 3122 2828 \n",
       "Q 2878 2963 2633 3030 \n",
       "Q 2388 3097 2138 3097 \n",
       "Q 1578 3097 1268 2742 \n",
       "Q 959 2388 959 1747 \n",
       "Q 959 1106 1268 751 \n",
       "Q 1578 397 2138 397 \n",
       "Q 2388 397 2633 464 \n",
       "Q 2878 531 3122 666 \n",
       "L 3122 134 \n",
       "Q 2881 22 2623 -34 \n",
       "Q 2366 -91 2075 -91 \n",
       "Q 1284 -91 818 406 \n",
       "Q 353 903 353 1747 \n",
       "Q 353 2603 823 3093 \n",
       "Q 1294 3584 2113 3584 \n",
       "Q 2378 3584 2631 3529 \n",
       "Q 2884 3475 3122 3366 \n",
       "z\n",
       "\" transform=\"scale(0.015625)\"/>\n",
       "        <path id=\"DejaVuSans-65\" d=\"M 3597 1894 \n",
       "L 3597 1613 \n",
       "L 953 1613 \n",
       "Q 991 1019 1311 708 \n",
       "Q 1631 397 2203 397 \n",
       "Q 2534 397 2845 478 \n",
       "Q 3156 559 3463 722 \n",
       "L 3463 178 \n",
       "Q 3153 47 2828 -22 \n",
       "Q 2503 -91 2169 -91 \n",
       "Q 1331 -91 842 396 \n",
       "Q 353 884 353 1716 \n",
       "Q 353 2575 817 3079 \n",
       "Q 1281 3584 2069 3584 \n",
       "Q 2775 3584 3186 3129 \n",
       "Q 3597 2675 3597 1894 \n",
       "z\n",
       "M 3022 2063 \n",
       "Q 3016 2534 2758 2815 \n",
       "Q 2500 3097 2075 3097 \n",
       "Q 1594 3097 1305 2825 \n",
       "Q 1016 2553 972 2059 \n",
       "L 3022 2063 \n",
       "z\n",
       "\" transform=\"scale(0.015625)\"/>\n",
       "        <path id=\"DejaVuSans-6c\" d=\"M 603 4863 \n",
       "L 1178 4863 \n",
       "L 1178 0 \n",
       "L 603 0 \n",
       "L 603 4863 \n",
       "z\n",
       "\" transform=\"scale(0.015625)\"/>\n",
       "        <path id=\"DejaVuSans-6f\" d=\"M 1959 3097 \n",
       "Q 1497 3097 1228 2736 \n",
       "Q 959 2375 959 1747 \n",
       "Q 959 1119 1226 758 \n",
       "Q 1494 397 1959 397 \n",
       "Q 2419 397 2687 759 \n",
       "Q 2956 1122 2956 1747 \n",
       "Q 2956 2369 2687 2733 \n",
       "Q 2419 3097 1959 3097 \n",
       "z\n",
       "M 1959 3584 \n",
       "Q 2709 3584 3137 3096 \n",
       "Q 3566 2609 3566 1747 \n",
       "Q 3566 888 3137 398 \n",
       "Q 2709 -91 1959 -91 \n",
       "Q 1206 -91 779 398 \n",
       "Q 353 888 353 1747 \n",
       "Q 353 2609 779 3096 \n",
       "Q 1206 3584 1959 3584 \n",
       "z\n",
       "\" transform=\"scale(0.015625)\"/>\n",
       "        <path id=\"DejaVuSans-73\" d=\"M 2834 3397 \n",
       "L 2834 2853 \n",
       "Q 2591 2978 2328 3040 \n",
       "Q 2066 3103 1784 3103 \n",
       "Q 1356 3103 1142 2972 \n",
       "Q 928 2841 928 2578 \n",
       "Q 928 2378 1081 2264 \n",
       "Q 1234 2150 1697 2047 \n",
       "L 1894 2003 \n",
       "Q 2506 1872 2764 1633 \n",
       "Q 3022 1394 3022 966 \n",
       "Q 3022 478 2636 193 \n",
       "Q 2250 -91 1575 -91 \n",
       "Q 1294 -91 989 -36 \n",
       "Q 684 19 347 128 \n",
       "L 347 722 \n",
       "Q 666 556 975 473 \n",
       "Q 1284 391 1588 391 \n",
       "Q 1994 391 2212 530 \n",
       "Q 2431 669 2431 922 \n",
       "Q 2431 1156 2273 1281 \n",
       "Q 2116 1406 1581 1522 \n",
       "L 1381 1569 \n",
       "Q 847 1681 609 1914 \n",
       "Q 372 2147 372 2553 \n",
       "Q 372 3047 722 3315 \n",
       "Q 1072 3584 1716 3584 \n",
       "Q 2034 3584 2315 3537 \n",
       "Q 2597 3491 2834 3397 \n",
       "z\n",
       "\" transform=\"scale(0.015625)\"/>\n",
       "        <path id=\"DejaVuSans-61\" d=\"M 2194 1759 \n",
       "Q 1497 1759 1228 1600 \n",
       "Q 959 1441 959 1056 \n",
       "Q 959 750 1161 570 \n",
       "Q 1363 391 1709 391 \n",
       "Q 2188 391 2477 730 \n",
       "Q 2766 1069 2766 1631 \n",
       "L 2766 1759 \n",
       "L 2194 1759 \n",
       "z\n",
       "M 3341 1997 \n",
       "L 3341 0 \n",
       "L 2766 0 \n",
       "L 2766 531 \n",
       "Q 2569 213 2275 61 \n",
       "Q 1981 -91 1556 -91 \n",
       "Q 1019 -91 701 211 \n",
       "Q 384 513 384 1019 \n",
       "Q 384 1609 779 1909 \n",
       "Q 1175 2209 1959 2209 \n",
       "L 2766 2209 \n",
       "L 2766 2266 \n",
       "Q 2766 2663 2505 2880 \n",
       "Q 2244 3097 1772 3097 \n",
       "Q 1472 3097 1187 3025 \n",
       "Q 903 2953 641 2809 \n",
       "L 641 3341 \n",
       "Q 956 3463 1253 3523 \n",
       "Q 1550 3584 1831 3584 \n",
       "Q 2591 3584 2966 3190 \n",
       "Q 3341 2797 3341 1997 \n",
       "z\n",
       "\" transform=\"scale(0.015625)\"/>\n",
       "        <path id=\"DejaVuSans-75\" d=\"M 544 1381 \n",
       "L 544 3500 \n",
       "L 1119 3500 \n",
       "L 1119 1403 \n",
       "Q 1119 906 1312 657 \n",
       "Q 1506 409 1894 409 \n",
       "Q 2359 409 2629 706 \n",
       "Q 2900 1003 2900 1516 \n",
       "L 2900 3500 \n",
       "L 3475 3500 \n",
       "L 3475 0 \n",
       "L 2900 0 \n",
       "L 2900 538 \n",
       "Q 2691 219 2414 64 \n",
       "Q 2138 -91 1772 -91 \n",
       "Q 1169 -91 856 284 \n",
       "Q 544 659 544 1381 \n",
       "z\n",
       "M 1991 3584 \n",
       "L 1991 3584 \n",
       "z\n",
       "\" transform=\"scale(0.015625)\"/>\n",
       "        <path id=\"DejaVuSans-72\" d=\"M 2631 2963 \n",
       "Q 2534 3019 2420 3045 \n",
       "Q 2306 3072 2169 3072 \n",
       "Q 1681 3072 1420 2755 \n",
       "Q 1159 2438 1159 1844 \n",
       "L 1159 0 \n",
       "L 581 0 \n",
       "L 581 3500 \n",
       "L 1159 3500 \n",
       "L 1159 2956 \n",
       "Q 1341 3275 1631 3429 \n",
       "Q 1922 3584 2338 3584 \n",
       "Q 2397 3584 2469 3576 \n",
       "Q 2541 3569 2628 3553 \n",
       "L 2631 2963 \n",
       "z\n",
       "\" transform=\"scale(0.015625)\"/>\n",
       "       </defs>\n",
       "       <use xlink:href=\"#DejaVuSans-63\"/>\n",
       "       <use xlink:href=\"#DejaVuSans-65\" x=\"54.980469\"/>\n",
       "       <use xlink:href=\"#DejaVuSans-6c\" x=\"116.503906\"/>\n",
       "       <use xlink:href=\"#DejaVuSans-6c\" x=\"144.287109\"/>\n",
       "       <use xlink:href=\"#DejaVuSans-6f\" x=\"172.070312\"/>\n",
       "       <use xlink:href=\"#DejaVuSans-73\" x=\"233.251953\"/>\n",
       "       <use xlink:href=\"#DejaVuSans-61\" x=\"285.351562\"/>\n",
       "       <use xlink:href=\"#DejaVuSans-75\" x=\"346.630859\"/>\n",
       "       <use xlink:href=\"#DejaVuSans-72\" x=\"410.009766\"/>\n",
       "       <use xlink:href=\"#DejaVuSans-75\" x=\"451.123047\"/>\n",
       "       <use xlink:href=\"#DejaVuSans-73\" x=\"514.501953\"/>\n",
       "      </g>\n",
       "     </g>\n",
       "    </g>\n",
       "    <g id=\"ytick_12\">\n",
       "     <g id=\"line2d_2\"/>\n",
       "     <g id=\"text_2\">\n",
       "      <!-- clo -->\n",
       "      <g transform=\"translate(113.703401 362.875348) scale(0.1 -0.1)\">\n",
       "       <use xlink:href=\"#DejaVuSans-63\"/>\n",
       "       <use xlink:href=\"#DejaVuSans-6c\" x=\"54.980469\"/>\n",
       "       <use xlink:href=\"#DejaVuSans-6f\" x=\"82.763672\"/>\n",
       "      </g>\n",
       "     </g>\n",
       "    </g>\n",
       "    <g id=\"ytick_13\">\n",
       "     <g id=\"line2d_3\"/>\n",
       "     <g id=\"text_3\">\n",
       "      <!-- bto -->\n",
       "      <g transform=\"translate(111.711214 340.460601) scale(0.1 -0.1)\">\n",
       "       <defs>\n",
       "        <path id=\"DejaVuSans-62\" d=\"M 3116 1747 \n",
       "Q 3116 2381 2855 2742 \n",
       "Q 2594 3103 2138 3103 \n",
       "Q 1681 3103 1420 2742 \n",
       "Q 1159 2381 1159 1747 \n",
       "Q 1159 1113 1420 752 \n",
       "Q 1681 391 2138 391 \n",
       "Q 2594 391 2855 752 \n",
       "Q 3116 1113 3116 1747 \n",
       "z\n",
       "M 1159 2969 \n",
       "Q 1341 3281 1617 3432 \n",
       "Q 1894 3584 2278 3584 \n",
       "Q 2916 3584 3314 3078 \n",
       "Q 3713 2572 3713 1747 \n",
       "Q 3713 922 3314 415 \n",
       "Q 2916 -91 2278 -91 \n",
       "Q 1894 -91 1617 61 \n",
       "Q 1341 213 1159 525 \n",
       "L 1159 0 \n",
       "L 581 0 \n",
       "L 581 4863 \n",
       "L 1159 4863 \n",
       "L 1159 2969 \n",
       "z\n",
       "\" transform=\"scale(0.015625)\"/>\n",
       "        <path id=\"DejaVuSans-74\" d=\"M 1172 4494 \n",
       "L 1172 3500 \n",
       "L 2356 3500 \n",
       "L 2356 3053 \n",
       "L 1172 3053 \n",
       "L 1172 1153 \n",
       "Q 1172 725 1289 603 \n",
       "Q 1406 481 1766 481 \n",
       "L 2356 481 \n",
       "L 2356 0 \n",
       "L 1766 0 \n",
       "Q 1100 0 847 248 \n",
       "Q 594 497 594 1153 \n",
       "L 594 3053 \n",
       "L 172 3053 \n",
       "L 172 3500 \n",
       "L 594 3500 \n",
       "L 594 4494 \n",
       "L 1172 4494 \n",
       "z\n",
       "\" transform=\"scale(0.015625)\"/>\n",
       "       </defs>\n",
       "       <use xlink:href=\"#DejaVuSans-62\"/>\n",
       "       <use xlink:href=\"#DejaVuSans-74\" x=\"63.476562\"/>\n",
       "       <use xlink:href=\"#DejaVuSans-6f\" x=\"102.685547\"/>\n",
       "      </g>\n",
       "     </g>\n",
       "    </g>\n",
       "    <g id=\"ytick_14\">\n",
       "     <g id=\"line2d_4\"/>\n",
       "     <g id=\"text_4\">\n",
       "      <!-- umls -->\n",
       "      <g transform=\"translate(104.033089 318.045855) scale(0.1 -0.1)\">\n",
       "       <defs>\n",
       "        <path id=\"DejaVuSans-6d\" d=\"M 3328 2828 \n",
       "Q 3544 3216 3844 3400 \n",
       "Q 4144 3584 4550 3584 \n",
       "Q 5097 3584 5394 3201 \n",
       "Q 5691 2819 5691 2113 \n",
       "L 5691 0 \n",
       "L 5113 0 \n",
       "L 5113 2094 \n",
       "Q 5113 2597 4934 2840 \n",
       "Q 4756 3084 4391 3084 \n",
       "Q 3944 3084 3684 2787 \n",
       "Q 3425 2491 3425 1978 \n",
       "L 3425 0 \n",
       "L 2847 0 \n",
       "L 2847 2094 \n",
       "Q 2847 2600 2669 2842 \n",
       "Q 2491 3084 2119 3084 \n",
       "Q 1678 3084 1418 2786 \n",
       "Q 1159 2488 1159 1978 \n",
       "L 1159 0 \n",
       "L 581 0 \n",
       "L 581 3500 \n",
       "L 1159 3500 \n",
       "L 1159 2956 \n",
       "Q 1356 3278 1631 3431 \n",
       "Q 1906 3584 2284 3584 \n",
       "Q 2666 3584 2933 3390 \n",
       "Q 3200 3197 3328 2828 \n",
       "z\n",
       "\" transform=\"scale(0.015625)\"/>\n",
       "       </defs>\n",
       "       <use xlink:href=\"#DejaVuSans-75\"/>\n",
       "       <use xlink:href=\"#DejaVuSans-6d\" x=\"63.378906\"/>\n",
       "       <use xlink:href=\"#DejaVuSans-6c\" x=\"160.791016\"/>\n",
       "       <use xlink:href=\"#DejaVuSans-73\" x=\"188.574219\"/>\n",
       "      </g>\n",
       "     </g>\n",
       "    </g>\n",
       "    <g id=\"ytick_15\">\n",
       "     <g id=\"line2d_5\"/>\n",
       "     <g id=\"text_5\">\n",
       "      <!-- cl -->\n",
       "      <g transform=\"translate(119.822151 295.631108) scale(0.1 -0.1)\">\n",
       "       <use xlink:href=\"#DejaVuSans-63\"/>\n",
       "       <use xlink:href=\"#DejaVuSans-6c\" x=\"54.980469\"/>\n",
       "      </g>\n",
       "     </g>\n",
       "    </g>\n",
       "    <g id=\"ytick_16\">\n",
       "     <g id=\"line2d_6\"/>\n",
       "     <g id=\"text_6\">\n",
       "      <!-- depmap -->\n",
       "      <g transform=\"translate(87.031526 273.216362) scale(0.1 -0.1)\">\n",
       "       <defs>\n",
       "        <path id=\"DejaVuSans-64\" d=\"M 2906 2969 \n",
       "L 2906 4863 \n",
       "L 3481 4863 \n",
       "L 3481 0 \n",
       "L 2906 0 \n",
       "L 2906 525 \n",
       "Q 2725 213 2448 61 \n",
       "Q 2172 -91 1784 -91 \n",
       "Q 1150 -91 751 415 \n",
       "Q 353 922 353 1747 \n",
       "Q 353 2572 751 3078 \n",
       "Q 1150 3584 1784 3584 \n",
       "Q 2172 3584 2448 3432 \n",
       "Q 2725 3281 2906 2969 \n",
       "z\n",
       "M 947 1747 \n",
       "Q 947 1113 1208 752 \n",
       "Q 1469 391 1925 391 \n",
       "Q 2381 391 2643 752 \n",
       "Q 2906 1113 2906 1747 \n",
       "Q 2906 2381 2643 2742 \n",
       "Q 2381 3103 1925 3103 \n",
       "Q 1469 3103 1208 2742 \n",
       "Q 947 2381 947 1747 \n",
       "z\n",
       "\" transform=\"scale(0.015625)\"/>\n",
       "        <path id=\"DejaVuSans-70\" d=\"M 1159 525 \n",
       "L 1159 -1331 \n",
       "L 581 -1331 \n",
       "L 581 3500 \n",
       "L 1159 3500 \n",
       "L 1159 2969 \n",
       "Q 1341 3281 1617 3432 \n",
       "Q 1894 3584 2278 3584 \n",
       "Q 2916 3584 3314 3078 \n",
       "Q 3713 2572 3713 1747 \n",
       "Q 3713 922 3314 415 \n",
       "Q 2916 -91 2278 -91 \n",
       "Q 1894 -91 1617 61 \n",
       "Q 1341 213 1159 525 \n",
       "z\n",
       "M 3116 1747 \n",
       "Q 3116 2381 2855 2742 \n",
       "Q 2594 3103 2138 3103 \n",
       "Q 1681 3103 1420 2742 \n",
       "Q 1159 2381 1159 1747 \n",
       "Q 1159 1113 1420 752 \n",
       "Q 1681 391 2138 391 \n",
       "Q 2594 391 2855 752 \n",
       "Q 3116 1113 3116 1747 \n",
       "z\n",
       "\" transform=\"scale(0.015625)\"/>\n",
       "       </defs>\n",
       "       <use xlink:href=\"#DejaVuSans-64\"/>\n",
       "       <use xlink:href=\"#DejaVuSans-65\" x=\"63.476562\"/>\n",
       "       <use xlink:href=\"#DejaVuSans-70\" x=\"125\"/>\n",
       "       <use xlink:href=\"#DejaVuSans-6d\" x=\"188.476562\"/>\n",
       "       <use xlink:href=\"#DejaVuSans-61\" x=\"285.888672\"/>\n",
       "       <use xlink:href=\"#DejaVuSans-70\" x=\"347.167969\"/>\n",
       "      </g>\n",
       "     </g>\n",
       "    </g>\n",
       "    <g id=\"ytick_17\">\n",
       "     <g id=\"line2d_7\"/>\n",
       "     <g id=\"text_7\">\n",
       "      <!-- ccle -->\n",
       "      <g transform=\"translate(108.170589 250.801615) scale(0.1 -0.1)\">\n",
       "       <use xlink:href=\"#DejaVuSans-63\"/>\n",
       "       <use xlink:href=\"#DejaVuSans-63\" x=\"54.980469\"/>\n",
       "       <use xlink:href=\"#DejaVuSans-6c\" x=\"109.960938\"/>\n",
       "       <use xlink:href=\"#DejaVuSans-65\" x=\"137.744141\"/>\n",
       "      </g>\n",
       "     </g>\n",
       "    </g>\n",
       "    <g id=\"ytick_18\">\n",
       "     <g id=\"line2d_8\"/>\n",
       "     <g id=\"text_8\">\n",
       "      <!-- mesh -->\n",
       "      <g transform=\"translate(100.658089 228.386869) scale(0.1 -0.1)\">\n",
       "       <defs>\n",
       "        <path id=\"DejaVuSans-68\" d=\"M 3513 2113 \n",
       "L 3513 0 \n",
       "L 2938 0 \n",
       "L 2938 2094 \n",
       "Q 2938 2591 2744 2837 \n",
       "Q 2550 3084 2163 3084 \n",
       "Q 1697 3084 1428 2787 \n",
       "Q 1159 2491 1159 1978 \n",
       "L 1159 0 \n",
       "L 581 0 \n",
       "L 581 4863 \n",
       "L 1159 4863 \n",
       "L 1159 2956 \n",
       "Q 1366 3272 1645 3428 \n",
       "Q 1925 3584 2291 3584 \n",
       "Q 2894 3584 3203 3211 \n",
       "Q 3513 2838 3513 2113 \n",
       "z\n",
       "\" transform=\"scale(0.015625)\"/>\n",
       "       </defs>\n",
       "       <use xlink:href=\"#DejaVuSans-6d\"/>\n",
       "       <use xlink:href=\"#DejaVuSans-65\" x=\"97.412109\"/>\n",
       "       <use xlink:href=\"#DejaVuSans-73\" x=\"158.935547\"/>\n",
       "       <use xlink:href=\"#DejaVuSans-68\" x=\"211.035156\"/>\n",
       "      </g>\n",
       "     </g>\n",
       "    </g>\n",
       "    <g id=\"ytick_19\">\n",
       "     <g id=\"line2d_9\"/>\n",
       "     <g id=\"text_9\">\n",
       "      <!-- ncit -->\n",
       "      <g transform=\"translate(109.564339 205.972122) scale(0.1 -0.1)\">\n",
       "       <defs>\n",
       "        <path id=\"DejaVuSans-6e\" d=\"M 3513 2113 \n",
       "L 3513 0 \n",
       "L 2938 0 \n",
       "L 2938 2094 \n",
       "Q 2938 2591 2744 2837 \n",
       "Q 2550 3084 2163 3084 \n",
       "Q 1697 3084 1428 2787 \n",
       "Q 1159 2491 1159 1978 \n",
       "L 1159 0 \n",
       "L 581 0 \n",
       "L 581 3500 \n",
       "L 1159 3500 \n",
       "L 1159 2956 \n",
       "Q 1366 3272 1645 3428 \n",
       "Q 1925 3584 2291 3584 \n",
       "Q 2894 3584 3203 3211 \n",
       "Q 3513 2838 3513 2113 \n",
       "z\n",
       "\" transform=\"scale(0.015625)\"/>\n",
       "        <path id=\"DejaVuSans-69\" d=\"M 603 3500 \n",
       "L 1178 3500 \n",
       "L 1178 0 \n",
       "L 603 0 \n",
       "L 603 3500 \n",
       "z\n",
       "M 603 4863 \n",
       "L 1178 4863 \n",
       "L 1178 4134 \n",
       "L 603 4134 \n",
       "L 603 4863 \n",
       "z\n",
       "\" transform=\"scale(0.015625)\"/>\n",
       "       </defs>\n",
       "       <use xlink:href=\"#DejaVuSans-6e\"/>\n",
       "       <use xlink:href=\"#DejaVuSans-63\" x=\"63.378906\"/>\n",
       "       <use xlink:href=\"#DejaVuSans-69\" x=\"118.359375\"/>\n",
       "       <use xlink:href=\"#DejaVuSans-74\" x=\"146.142578\"/>\n",
       "      </g>\n",
       "     </g>\n",
       "    </g>\n",
       "    <g id=\"ytick_20\">\n",
       "     <g id=\"line2d_10\"/>\n",
       "     <g id=\"text_10\">\n",
       "      <!-- efo -->\n",
       "      <g transform=\"translate(112.306526 183.557375) scale(0.1 -0.1)\">\n",
       "       <defs>\n",
       "        <path id=\"DejaVuSans-66\" d=\"M 2375 4863 \n",
       "L 2375 4384 \n",
       "L 1825 4384 \n",
       "Q 1516 4384 1395 4259 \n",
       "Q 1275 4134 1275 3809 \n",
       "L 1275 3500 \n",
       "L 2222 3500 \n",
       "L 2222 3053 \n",
       "L 1275 3053 \n",
       "L 1275 0 \n",
       "L 697 0 \n",
       "L 697 3053 \n",
       "L 147 3053 \n",
       "L 147 3500 \n",
       "L 697 3500 \n",
       "L 697 3744 \n",
       "Q 697 4328 969 4595 \n",
       "Q 1241 4863 1831 4863 \n",
       "L 2375 4863 \n",
       "z\n",
       "\" transform=\"scale(0.015625)\"/>\n",
       "       </defs>\n",
       "       <use xlink:href=\"#DejaVuSans-65\"/>\n",
       "       <use xlink:href=\"#DejaVuSans-66\" x=\"61.523438\"/>\n",
       "       <use xlink:href=\"#DejaVuSans-6f\" x=\"96.728516\"/>\n",
       "      </g>\n",
       "     </g>\n",
       "    </g>\n",
       "   </g>\n",
       "   <g id=\"LineCollection_1\">\n",
       "    <path d=\"M 143.994472 381.490876 \n",
       "L 143.994472 381.490876 \n",
       "\" clip-path=\"url(#p855cd311b9)\" style=\"fill: none; stroke: #000000; stroke-width: 2\"/>\n",
       "    <path d=\"M 168.785989 359.076129 \n",
       "L 168.785989 359.076129 \n",
       "\" clip-path=\"url(#p855cd311b9)\" style=\"fill: none; stroke: #000000; stroke-width: 2\"/>\n",
       "    <path d=\"M 193.577506 336.661382 \n",
       "L 193.577506 336.661382 \n",
       "\" clip-path=\"url(#p855cd311b9)\" style=\"fill: none; stroke: #000000; stroke-width: 2\"/>\n",
       "    <path d=\"M 218.369022 314.246636 \n",
       "L 218.369022 314.246636 \n",
       "\" clip-path=\"url(#p855cd311b9)\" style=\"fill: none; stroke: #000000; stroke-width: 2\"/>\n",
       "    <path d=\"M 243.160539 291.831889 \n",
       "L 243.160539 291.831889 \n",
       "\" clip-path=\"url(#p855cd311b9)\" style=\"fill: none; stroke: #000000; stroke-width: 2\"/>\n",
       "    <path d=\"M 267.952056 269.417143 \n",
       "L 267.952056 269.417143 \n",
       "\" clip-path=\"url(#p855cd311b9)\" style=\"fill: none; stroke: #000000; stroke-width: 2\"/>\n",
       "    <path d=\"M 292.743573 224.58765 \n",
       "L 292.743573 224.58765 \n",
       "\" clip-path=\"url(#p855cd311b9)\" style=\"fill: none; stroke: #000000; stroke-width: 2\"/>\n",
       "    <path d=\"M 317.535089 202.172903 \n",
       "L 317.535089 202.172903 \n",
       "\" clip-path=\"url(#p855cd311b9)\" style=\"fill: none; stroke: #000000; stroke-width: 2\"/>\n",
       "    <path d=\"M 342.326606 179.758157 \n",
       "L 342.326606 179.758157 \n",
       "\" clip-path=\"url(#p855cd311b9)\" style=\"fill: none; stroke: #000000; stroke-width: 2\"/>\n",
       "    <path d=\"M 367.118123 381.490876 \n",
       "L 367.118123 359.076129 \n",
       "\" clip-path=\"url(#p855cd311b9)\" style=\"fill: none; stroke: #000000; stroke-width: 2\"/>\n",
       "    <path d=\"M 391.909639 381.490876 \n",
       "L 391.909639 336.661382 \n",
       "\" clip-path=\"url(#p855cd311b9)\" style=\"fill: none; stroke: #000000; stroke-width: 2\"/>\n",
       "    <path d=\"M 416.701156 336.661382 \n",
       "L 416.701156 291.831889 \n",
       "\" clip-path=\"url(#p855cd311b9)\" style=\"fill: none; stroke: #000000; stroke-width: 2\"/>\n",
       "    <path d=\"M 441.492673 381.490876 \n",
       "L 441.492673 269.417143 \n",
       "\" clip-path=\"url(#p855cd311b9)\" style=\"fill: none; stroke: #000000; stroke-width: 2\"/>\n",
       "    <path d=\"M 466.28419 381.490876 \n",
       "L 466.28419 247.002396 \n",
       "\" clip-path=\"url(#p855cd311b9)\" style=\"fill: none; stroke: #000000; stroke-width: 2\"/>\n",
       "    <path d=\"M 491.075706 269.417143 \n",
       "L 491.075706 247.002396 \n",
       "\" clip-path=\"url(#p855cd311b9)\" style=\"fill: none; stroke: #000000; stroke-width: 2\"/>\n",
       "    <path d=\"M 515.867223 314.246636 \n",
       "L 515.867223 224.58765 \n",
       "\" clip-path=\"url(#p855cd311b9)\" style=\"fill: none; stroke: #000000; stroke-width: 2\"/>\n",
       "    <path d=\"M 540.65874 291.831889 \n",
       "L 540.65874 224.58765 \n",
       "\" clip-path=\"url(#p855cd311b9)\" style=\"fill: none; stroke: #000000; stroke-width: 2\"/>\n",
       "    <path d=\"M 565.450257 314.246636 \n",
       "L 565.450257 202.172903 \n",
       "\" clip-path=\"url(#p855cd311b9)\" style=\"fill: none; stroke: #000000; stroke-width: 2\"/>\n",
       "    <path d=\"M 590.241773 381.490876 \n",
       "L 590.241773 179.758157 \n",
       "\" clip-path=\"url(#p855cd311b9)\" style=\"fill: none; stroke: #000000; stroke-width: 2\"/>\n",
       "    <path d=\"M 615.03329 336.661382 \n",
       "L 615.03329 179.758157 \n",
       "\" clip-path=\"url(#p855cd311b9)\" style=\"fill: none; stroke: #000000; stroke-width: 2\"/>\n",
       "    <path d=\"M 639.824807 381.490876 \n",
       "L 639.824807 336.661382 \n",
       "\" clip-path=\"url(#p855cd311b9)\" style=\"fill: none; stroke: #000000; stroke-width: 2\"/>\n",
       "    <path d=\"M 664.616323 381.490876 \n",
       "L 664.616323 291.831889 \n",
       "\" clip-path=\"url(#p855cd311b9)\" style=\"fill: none; stroke: #000000; stroke-width: 2\"/>\n",
       "    <path d=\"M 689.40784 381.490876 \n",
       "L 689.40784 269.417143 \n",
       "\" clip-path=\"url(#p855cd311b9)\" style=\"fill: none; stroke: #000000; stroke-width: 2\"/>\n",
       "    <path d=\"M 714.199357 381.490876 \n",
       "L 714.199357 269.417143 \n",
       "\" clip-path=\"url(#p855cd311b9)\" style=\"fill: none; stroke: #000000; stroke-width: 2\"/>\n",
       "    <path d=\"M 738.990874 381.490876 \n",
       "L 738.990874 247.002396 \n",
       "\" clip-path=\"url(#p855cd311b9)\" style=\"fill: none; stroke: #000000; stroke-width: 2\"/>\n",
       "    <path d=\"M 763.78239 381.490876 \n",
       "L 763.78239 247.002396 \n",
       "\" clip-path=\"url(#p855cd311b9)\" style=\"fill: none; stroke: #000000; stroke-width: 2\"/>\n",
       "    <path d=\"M 788.573907 381.490876 \n",
       "L 788.573907 247.002396 \n",
       "\" clip-path=\"url(#p855cd311b9)\" style=\"fill: none; stroke: #000000; stroke-width: 2\"/>\n",
       "    <path d=\"M 813.365424 359.076129 \n",
       "L 813.365424 224.58765 \n",
       "\" clip-path=\"url(#p855cd311b9)\" style=\"fill: none; stroke: #000000; stroke-width: 2\"/>\n",
       "    <path d=\"M 838.156941 336.661382 \n",
       "L 838.156941 224.58765 \n",
       "\" clip-path=\"url(#p855cd311b9)\" style=\"fill: none; stroke: #000000; stroke-width: 2\"/>\n",
       "    <path d=\"M 862.948457 314.246636 \n",
       "L 862.948457 224.58765 \n",
       "\" clip-path=\"url(#p855cd311b9)\" style=\"fill: none; stroke: #000000; stroke-width: 2\"/>\n",
       "    <path d=\"M 887.739974 314.246636 \n",
       "L 887.739974 202.172903 \n",
       "\" clip-path=\"url(#p855cd311b9)\" style=\"fill: none; stroke: #000000; stroke-width: 2\"/>\n",
       "    <path d=\"M 912.531491 314.246636 \n",
       "L 912.531491 202.172903 \n",
       "\" clip-path=\"url(#p855cd311b9)\" style=\"fill: none; stroke: #000000; stroke-width: 2\"/>\n",
       "    <path d=\"M 937.323007 314.246636 \n",
       "L 937.323007 179.758157 \n",
       "\" clip-path=\"url(#p855cd311b9)\" style=\"fill: none; stroke: #000000; stroke-width: 2\"/>\n",
       "    <path d=\"M 962.114524 314.246636 \n",
       "L 962.114524 179.758157 \n",
       "\" clip-path=\"url(#p855cd311b9)\" style=\"fill: none; stroke: #000000; stroke-width: 2\"/>\n",
       "    <path d=\"M 986.906041 381.490876 \n",
       "L 986.906041 269.417143 \n",
       "\" clip-path=\"url(#p855cd311b9)\" style=\"fill: none; stroke: #000000; stroke-width: 2\"/>\n",
       "    <path d=\"M 1011.697558 381.490876 \n",
       "L 1011.697558 247.002396 \n",
       "\" clip-path=\"url(#p855cd311b9)\" style=\"fill: none; stroke: #000000; stroke-width: 2\"/>\n",
       "    <path d=\"M 1036.489074 381.490876 \n",
       "L 1036.489074 247.002396 \n",
       "\" clip-path=\"url(#p855cd311b9)\" style=\"fill: none; stroke: #000000; stroke-width: 2\"/>\n",
       "    <path d=\"M 1061.280591 381.490876 \n",
       "L 1061.280591 247.002396 \n",
       "\" clip-path=\"url(#p855cd311b9)\" style=\"fill: none; stroke: #000000; stroke-width: 2\"/>\n",
       "    <path d=\"M 1086.072108 381.490876 \n",
       "L 1086.072108 224.58765 \n",
       "\" clip-path=\"url(#p855cd311b9)\" style=\"fill: none; stroke: #000000; stroke-width: 2\"/>\n",
       "    <path d=\"M 1110.863625 336.661382 \n",
       "L 1110.863625 224.58765 \n",
       "\" clip-path=\"url(#p855cd311b9)\" style=\"fill: none; stroke: #000000; stroke-width: 2\"/>\n",
       "    <path d=\"M 1135.655141 336.661382 \n",
       "L 1135.655141 202.172903 \n",
       "\" clip-path=\"url(#p855cd311b9)\" style=\"fill: none; stroke: #000000; stroke-width: 2\"/>\n",
       "    <path d=\"M 1160.446658 314.246636 \n",
       "L 1160.446658 202.172903 \n",
       "\" clip-path=\"url(#p855cd311b9)\" style=\"fill: none; stroke: #000000; stroke-width: 2\"/>\n",
       "    <path d=\"M 1185.238175 314.246636 \n",
       "L 1185.238175 179.758157 \n",
       "\" clip-path=\"url(#p855cd311b9)\" style=\"fill: none; stroke: #000000; stroke-width: 2\"/>\n",
       "    <path d=\"M 1210.029691 381.490876 \n",
       "L 1210.029691 247.002396 \n",
       "\" clip-path=\"url(#p855cd311b9)\" style=\"fill: none; stroke: #000000; stroke-width: 2\"/>\n",
       "    <path d=\"M 1234.821208 381.490876 \n",
       "L 1234.821208 224.58765 \n",
       "\" clip-path=\"url(#p855cd311b9)\" style=\"fill: none; stroke: #000000; stroke-width: 2\"/>\n",
       "    <path d=\"M 1259.612725 336.661382 \n",
       "L 1259.612725 202.172903 \n",
       "\" clip-path=\"url(#p855cd311b9)\" style=\"fill: none; stroke: #000000; stroke-width: 2\"/>\n",
       "    <path d=\"M 1284.404242 381.490876 \n",
       "L 1284.404242 224.58765 \n",
       "\" clip-path=\"url(#p855cd311b9)\" style=\"fill: none; stroke: #000000; stroke-width: 2\"/>\n",
       "   </g>\n",
       "   <g id=\"PathCollection_1\">\n",
       "    <defs>\n",
       "     <path id=\"C0_0_74250d15fe\" d=\"M 0 5.6 \n",
       "C 1.485137 5.6 2.909647 5.009949 3.959798 3.959798 \n",
       "C 5.009949 2.909647 5.6 1.485137 5.6 -0 \n",
       "C 5.6 -1.485137 5.009949 -2.909647 3.959798 -3.959798 \n",
       "C 2.909647 -5.009949 1.485137 -5.6 0 -5.6 \n",
       "C -1.485137 -5.6 -2.909647 -5.009949 -3.959798 -3.959798 \n",
       "C -5.009949 -2.909647 -5.6 -1.485137 -5.6 0 \n",
       "C -5.6 1.485137 -5.009949 2.909647 -3.959798 3.959798 \n",
       "C -2.909647 5.009949 -1.485137 5.6 0 5.6 \n",
       "z\n",
       "\"/>\n",
       "    </defs>\n",
       "    <g clip-path=\"url(#p855cd311b9)\">\n",
       "     <use xlink:href=\"#C0_0_74250d15fe\" x=\"143.994472\" y=\"381.490876\" style=\"stroke: #000000\"/>\n",
       "    </g>\n",
       "    <g clip-path=\"url(#p855cd311b9)\">\n",
       "     <use xlink:href=\"#C0_0_74250d15fe\" x=\"143.994472\" y=\"359.076129\" style=\"fill-opacity: 0.180392\"/>\n",
       "    </g>\n",
       "    <g clip-path=\"url(#p855cd311b9)\">\n",
       "     <use xlink:href=\"#C0_0_74250d15fe\" x=\"143.994472\" y=\"336.661382\" style=\"fill-opacity: 0.180392\"/>\n",
       "    </g>\n",
       "    <g clip-path=\"url(#p855cd311b9)\">\n",
       "     <use xlink:href=\"#C0_0_74250d15fe\" x=\"143.994472\" y=\"314.246636\" style=\"fill-opacity: 0.180392\"/>\n",
       "    </g>\n",
       "    <g clip-path=\"url(#p855cd311b9)\">\n",
       "     <use xlink:href=\"#C0_0_74250d15fe\" x=\"143.994472\" y=\"291.831889\" style=\"fill-opacity: 0.180392\"/>\n",
       "    </g>\n",
       "    <g clip-path=\"url(#p855cd311b9)\">\n",
       "     <use xlink:href=\"#C0_0_74250d15fe\" x=\"143.994472\" y=\"269.417143\" style=\"fill-opacity: 0.180392\"/>\n",
       "    </g>\n",
       "    <g clip-path=\"url(#p855cd311b9)\">\n",
       "     <use xlink:href=\"#C0_0_74250d15fe\" x=\"143.994472\" y=\"247.002396\" style=\"fill-opacity: 0.180392\"/>\n",
       "    </g>\n",
       "    <g clip-path=\"url(#p855cd311b9)\">\n",
       "     <use xlink:href=\"#C0_0_74250d15fe\" x=\"143.994472\" y=\"224.58765\" style=\"fill-opacity: 0.180392\"/>\n",
       "    </g>\n",
       "    <g clip-path=\"url(#p855cd311b9)\">\n",
       "     <use xlink:href=\"#C0_0_74250d15fe\" x=\"143.994472\" y=\"202.172903\" style=\"fill-opacity: 0.180392\"/>\n",
       "    </g>\n",
       "    <g clip-path=\"url(#p855cd311b9)\">\n",
       "     <use xlink:href=\"#C0_0_74250d15fe\" x=\"143.994472\" y=\"179.758157\" style=\"fill-opacity: 0.180392\"/>\n",
       "    </g>\n",
       "    <g clip-path=\"url(#p855cd311b9)\">\n",
       "     <use xlink:href=\"#C0_0_74250d15fe\" x=\"168.785989\" y=\"381.490876\" style=\"fill-opacity: 0.180392\"/>\n",
       "    </g>\n",
       "    <g clip-path=\"url(#p855cd311b9)\">\n",
       "     <use xlink:href=\"#C0_0_74250d15fe\" x=\"168.785989\" y=\"359.076129\" style=\"stroke: #000000\"/>\n",
       "    </g>\n",
       "    <g clip-path=\"url(#p855cd311b9)\">\n",
       "     <use xlink:href=\"#C0_0_74250d15fe\" x=\"168.785989\" y=\"336.661382\" style=\"fill-opacity: 0.180392\"/>\n",
       "    </g>\n",
       "    <g clip-path=\"url(#p855cd311b9)\">\n",
       "     <use xlink:href=\"#C0_0_74250d15fe\" x=\"168.785989\" y=\"314.246636\" style=\"fill-opacity: 0.180392\"/>\n",
       "    </g>\n",
       "    <g clip-path=\"url(#p855cd311b9)\">\n",
       "     <use xlink:href=\"#C0_0_74250d15fe\" x=\"168.785989\" y=\"291.831889\" style=\"fill-opacity: 0.180392\"/>\n",
       "    </g>\n",
       "    <g clip-path=\"url(#p855cd311b9)\">\n",
       "     <use xlink:href=\"#C0_0_74250d15fe\" x=\"168.785989\" y=\"269.417143\" style=\"fill-opacity: 0.180392\"/>\n",
       "    </g>\n",
       "    <g clip-path=\"url(#p855cd311b9)\">\n",
       "     <use xlink:href=\"#C0_0_74250d15fe\" x=\"168.785989\" y=\"247.002396\" style=\"fill-opacity: 0.180392\"/>\n",
       "    </g>\n",
       "    <g clip-path=\"url(#p855cd311b9)\">\n",
       "     <use xlink:href=\"#C0_0_74250d15fe\" x=\"168.785989\" y=\"224.58765\" style=\"fill-opacity: 0.180392\"/>\n",
       "    </g>\n",
       "    <g clip-path=\"url(#p855cd311b9)\">\n",
       "     <use xlink:href=\"#C0_0_74250d15fe\" x=\"168.785989\" y=\"202.172903\" style=\"fill-opacity: 0.180392\"/>\n",
       "    </g>\n",
       "    <g clip-path=\"url(#p855cd311b9)\">\n",
       "     <use xlink:href=\"#C0_0_74250d15fe\" x=\"168.785989\" y=\"179.758157\" style=\"fill-opacity: 0.180392\"/>\n",
       "    </g>\n",
       "    <g clip-path=\"url(#p855cd311b9)\">\n",
       "     <use xlink:href=\"#C0_0_74250d15fe\" x=\"193.577506\" y=\"381.490876\" style=\"fill-opacity: 0.180392\"/>\n",
       "    </g>\n",
       "    <g clip-path=\"url(#p855cd311b9)\">\n",
       "     <use xlink:href=\"#C0_0_74250d15fe\" x=\"193.577506\" y=\"359.076129\" style=\"fill-opacity: 0.180392\"/>\n",
       "    </g>\n",
       "    <g clip-path=\"url(#p855cd311b9)\">\n",
       "     <use xlink:href=\"#C0_0_74250d15fe\" x=\"193.577506\" y=\"336.661382\" style=\"stroke: #000000\"/>\n",
       "    </g>\n",
       "    <g clip-path=\"url(#p855cd311b9)\">\n",
       "     <use xlink:href=\"#C0_0_74250d15fe\" x=\"193.577506\" y=\"314.246636\" style=\"fill-opacity: 0.180392\"/>\n",
       "    </g>\n",
       "    <g clip-path=\"url(#p855cd311b9)\">\n",
       "     <use xlink:href=\"#C0_0_74250d15fe\" x=\"193.577506\" y=\"291.831889\" style=\"fill-opacity: 0.180392\"/>\n",
       "    </g>\n",
       "    <g clip-path=\"url(#p855cd311b9)\">\n",
       "     <use xlink:href=\"#C0_0_74250d15fe\" x=\"193.577506\" y=\"269.417143\" style=\"fill-opacity: 0.180392\"/>\n",
       "    </g>\n",
       "    <g clip-path=\"url(#p855cd311b9)\">\n",
       "     <use xlink:href=\"#C0_0_74250d15fe\" x=\"193.577506\" y=\"247.002396\" style=\"fill-opacity: 0.180392\"/>\n",
       "    </g>\n",
       "    <g clip-path=\"url(#p855cd311b9)\">\n",
       "     <use xlink:href=\"#C0_0_74250d15fe\" x=\"193.577506\" y=\"224.58765\" style=\"fill-opacity: 0.180392\"/>\n",
       "    </g>\n",
       "    <g clip-path=\"url(#p855cd311b9)\">\n",
       "     <use xlink:href=\"#C0_0_74250d15fe\" x=\"193.577506\" y=\"202.172903\" style=\"fill-opacity: 0.180392\"/>\n",
       "    </g>\n",
       "    <g clip-path=\"url(#p855cd311b9)\">\n",
       "     <use xlink:href=\"#C0_0_74250d15fe\" x=\"193.577506\" y=\"179.758157\" style=\"fill-opacity: 0.180392\"/>\n",
       "    </g>\n",
       "    <g clip-path=\"url(#p855cd311b9)\">\n",
       "     <use xlink:href=\"#C0_0_74250d15fe\" x=\"218.369022\" y=\"381.490876\" style=\"fill-opacity: 0.180392\"/>\n",
       "    </g>\n",
       "    <g clip-path=\"url(#p855cd311b9)\">\n",
       "     <use xlink:href=\"#C0_0_74250d15fe\" x=\"218.369022\" y=\"359.076129\" style=\"fill-opacity: 0.180392\"/>\n",
       "    </g>\n",
       "    <g clip-path=\"url(#p855cd311b9)\">\n",
       "     <use xlink:href=\"#C0_0_74250d15fe\" x=\"218.369022\" y=\"336.661382\" style=\"fill-opacity: 0.180392\"/>\n",
       "    </g>\n",
       "    <g clip-path=\"url(#p855cd311b9)\">\n",
       "     <use xlink:href=\"#C0_0_74250d15fe\" x=\"218.369022\" y=\"314.246636\" style=\"stroke: #000000\"/>\n",
       "    </g>\n",
       "    <g clip-path=\"url(#p855cd311b9)\">\n",
       "     <use xlink:href=\"#C0_0_74250d15fe\" x=\"218.369022\" y=\"291.831889\" style=\"fill-opacity: 0.180392\"/>\n",
       "    </g>\n",
       "    <g clip-path=\"url(#p855cd311b9)\">\n",
       "     <use xlink:href=\"#C0_0_74250d15fe\" x=\"218.369022\" y=\"269.417143\" style=\"fill-opacity: 0.180392\"/>\n",
       "    </g>\n",
       "    <g clip-path=\"url(#p855cd311b9)\">\n",
       "     <use xlink:href=\"#C0_0_74250d15fe\" x=\"218.369022\" y=\"247.002396\" style=\"fill-opacity: 0.180392\"/>\n",
       "    </g>\n",
       "    <g clip-path=\"url(#p855cd311b9)\">\n",
       "     <use xlink:href=\"#C0_0_74250d15fe\" x=\"218.369022\" y=\"224.58765\" style=\"fill-opacity: 0.180392\"/>\n",
       "    </g>\n",
       "    <g clip-path=\"url(#p855cd311b9)\">\n",
       "     <use xlink:href=\"#C0_0_74250d15fe\" x=\"218.369022\" y=\"202.172903\" style=\"fill-opacity: 0.180392\"/>\n",
       "    </g>\n",
       "    <g clip-path=\"url(#p855cd311b9)\">\n",
       "     <use xlink:href=\"#C0_0_74250d15fe\" x=\"218.369022\" y=\"179.758157\" style=\"fill-opacity: 0.180392\"/>\n",
       "    </g>\n",
       "    <g clip-path=\"url(#p855cd311b9)\">\n",
       "     <use xlink:href=\"#C0_0_74250d15fe\" x=\"243.160539\" y=\"381.490876\" style=\"fill-opacity: 0.180392\"/>\n",
       "    </g>\n",
       "    <g clip-path=\"url(#p855cd311b9)\">\n",
       "     <use xlink:href=\"#C0_0_74250d15fe\" x=\"243.160539\" y=\"359.076129\" style=\"fill-opacity: 0.180392\"/>\n",
       "    </g>\n",
       "    <g clip-path=\"url(#p855cd311b9)\">\n",
       "     <use xlink:href=\"#C0_0_74250d15fe\" x=\"243.160539\" y=\"336.661382\" style=\"fill-opacity: 0.180392\"/>\n",
       "    </g>\n",
       "    <g clip-path=\"url(#p855cd311b9)\">\n",
       "     <use xlink:href=\"#C0_0_74250d15fe\" x=\"243.160539\" y=\"314.246636\" style=\"fill-opacity: 0.180392\"/>\n",
       "    </g>\n",
       "    <g clip-path=\"url(#p855cd311b9)\">\n",
       "     <use xlink:href=\"#C0_0_74250d15fe\" x=\"243.160539\" y=\"291.831889\" style=\"stroke: #000000\"/>\n",
       "    </g>\n",
       "    <g clip-path=\"url(#p855cd311b9)\">\n",
       "     <use xlink:href=\"#C0_0_74250d15fe\" x=\"243.160539\" y=\"269.417143\" style=\"fill-opacity: 0.180392\"/>\n",
       "    </g>\n",
       "    <g clip-path=\"url(#p855cd311b9)\">\n",
       "     <use xlink:href=\"#C0_0_74250d15fe\" x=\"243.160539\" y=\"247.002396\" style=\"fill-opacity: 0.180392\"/>\n",
       "    </g>\n",
       "    <g clip-path=\"url(#p855cd311b9)\">\n",
       "     <use xlink:href=\"#C0_0_74250d15fe\" x=\"243.160539\" y=\"224.58765\" style=\"fill-opacity: 0.180392\"/>\n",
       "    </g>\n",
       "    <g clip-path=\"url(#p855cd311b9)\">\n",
       "     <use xlink:href=\"#C0_0_74250d15fe\" x=\"243.160539\" y=\"202.172903\" style=\"fill-opacity: 0.180392\"/>\n",
       "    </g>\n",
       "    <g clip-path=\"url(#p855cd311b9)\">\n",
       "     <use xlink:href=\"#C0_0_74250d15fe\" x=\"243.160539\" y=\"179.758157\" style=\"fill-opacity: 0.180392\"/>\n",
       "    </g>\n",
       "    <g clip-path=\"url(#p855cd311b9)\">\n",
       "     <use xlink:href=\"#C0_0_74250d15fe\" x=\"267.952056\" y=\"381.490876\" style=\"fill-opacity: 0.180392\"/>\n",
       "    </g>\n",
       "    <g clip-path=\"url(#p855cd311b9)\">\n",
       "     <use xlink:href=\"#C0_0_74250d15fe\" x=\"267.952056\" y=\"359.076129\" style=\"fill-opacity: 0.180392\"/>\n",
       "    </g>\n",
       "    <g clip-path=\"url(#p855cd311b9)\">\n",
       "     <use xlink:href=\"#C0_0_74250d15fe\" x=\"267.952056\" y=\"336.661382\" style=\"fill-opacity: 0.180392\"/>\n",
       "    </g>\n",
       "    <g clip-path=\"url(#p855cd311b9)\">\n",
       "     <use xlink:href=\"#C0_0_74250d15fe\" x=\"267.952056\" y=\"314.246636\" style=\"fill-opacity: 0.180392\"/>\n",
       "    </g>\n",
       "    <g clip-path=\"url(#p855cd311b9)\">\n",
       "     <use xlink:href=\"#C0_0_74250d15fe\" x=\"267.952056\" y=\"291.831889\" style=\"fill-opacity: 0.180392\"/>\n",
       "    </g>\n",
       "    <g clip-path=\"url(#p855cd311b9)\">\n",
       "     <use xlink:href=\"#C0_0_74250d15fe\" x=\"267.952056\" y=\"269.417143\" style=\"stroke: #000000\"/>\n",
       "    </g>\n",
       "    <g clip-path=\"url(#p855cd311b9)\">\n",
       "     <use xlink:href=\"#C0_0_74250d15fe\" x=\"267.952056\" y=\"247.002396\" style=\"fill-opacity: 0.180392\"/>\n",
       "    </g>\n",
       "    <g clip-path=\"url(#p855cd311b9)\">\n",
       "     <use xlink:href=\"#C0_0_74250d15fe\" x=\"267.952056\" y=\"224.58765\" style=\"fill-opacity: 0.180392\"/>\n",
       "    </g>\n",
       "    <g clip-path=\"url(#p855cd311b9)\">\n",
       "     <use xlink:href=\"#C0_0_74250d15fe\" x=\"267.952056\" y=\"202.172903\" style=\"fill-opacity: 0.180392\"/>\n",
       "    </g>\n",
       "    <g clip-path=\"url(#p855cd311b9)\">\n",
       "     <use xlink:href=\"#C0_0_74250d15fe\" x=\"267.952056\" y=\"179.758157\" style=\"fill-opacity: 0.180392\"/>\n",
       "    </g>\n",
       "    <g clip-path=\"url(#p855cd311b9)\">\n",
       "     <use xlink:href=\"#C0_0_74250d15fe\" x=\"292.743573\" y=\"381.490876\" style=\"fill-opacity: 0.180392\"/>\n",
       "    </g>\n",
       "    <g clip-path=\"url(#p855cd311b9)\">\n",
       "     <use xlink:href=\"#C0_0_74250d15fe\" x=\"292.743573\" y=\"359.076129\" style=\"fill-opacity: 0.180392\"/>\n",
       "    </g>\n",
       "    <g clip-path=\"url(#p855cd311b9)\">\n",
       "     <use xlink:href=\"#C0_0_74250d15fe\" x=\"292.743573\" y=\"336.661382\" style=\"fill-opacity: 0.180392\"/>\n",
       "    </g>\n",
       "    <g clip-path=\"url(#p855cd311b9)\">\n",
       "     <use xlink:href=\"#C0_0_74250d15fe\" x=\"292.743573\" y=\"314.246636\" style=\"fill-opacity: 0.180392\"/>\n",
       "    </g>\n",
       "    <g clip-path=\"url(#p855cd311b9)\">\n",
       "     <use xlink:href=\"#C0_0_74250d15fe\" x=\"292.743573\" y=\"291.831889\" style=\"fill-opacity: 0.180392\"/>\n",
       "    </g>\n",
       "    <g clip-path=\"url(#p855cd311b9)\">\n",
       "     <use xlink:href=\"#C0_0_74250d15fe\" x=\"292.743573\" y=\"269.417143\" style=\"fill-opacity: 0.180392\"/>\n",
       "    </g>\n",
       "    <g clip-path=\"url(#p855cd311b9)\">\n",
       "     <use xlink:href=\"#C0_0_74250d15fe\" x=\"292.743573\" y=\"247.002396\" style=\"fill-opacity: 0.180392\"/>\n",
       "    </g>\n",
       "    <g clip-path=\"url(#p855cd311b9)\">\n",
       "     <use xlink:href=\"#C0_0_74250d15fe\" x=\"292.743573\" y=\"224.58765\" style=\"stroke: #000000\"/>\n",
       "    </g>\n",
       "    <g clip-path=\"url(#p855cd311b9)\">\n",
       "     <use xlink:href=\"#C0_0_74250d15fe\" x=\"292.743573\" y=\"202.172903\" style=\"fill-opacity: 0.180392\"/>\n",
       "    </g>\n",
       "    <g clip-path=\"url(#p855cd311b9)\">\n",
       "     <use xlink:href=\"#C0_0_74250d15fe\" x=\"292.743573\" y=\"179.758157\" style=\"fill-opacity: 0.180392\"/>\n",
       "    </g>\n",
       "    <g clip-path=\"url(#p855cd311b9)\">\n",
       "     <use xlink:href=\"#C0_0_74250d15fe\" x=\"317.535089\" y=\"381.490876\" style=\"fill-opacity: 0.180392\"/>\n",
       "    </g>\n",
       "    <g clip-path=\"url(#p855cd311b9)\">\n",
       "     <use xlink:href=\"#C0_0_74250d15fe\" x=\"317.535089\" y=\"359.076129\" style=\"fill-opacity: 0.180392\"/>\n",
       "    </g>\n",
       "    <g clip-path=\"url(#p855cd311b9)\">\n",
       "     <use xlink:href=\"#C0_0_74250d15fe\" x=\"317.535089\" y=\"336.661382\" style=\"fill-opacity: 0.180392\"/>\n",
       "    </g>\n",
       "    <g clip-path=\"url(#p855cd311b9)\">\n",
       "     <use xlink:href=\"#C0_0_74250d15fe\" x=\"317.535089\" y=\"314.246636\" style=\"fill-opacity: 0.180392\"/>\n",
       "    </g>\n",
       "    <g clip-path=\"url(#p855cd311b9)\">\n",
       "     <use xlink:href=\"#C0_0_74250d15fe\" x=\"317.535089\" y=\"291.831889\" style=\"fill-opacity: 0.180392\"/>\n",
       "    </g>\n",
       "    <g clip-path=\"url(#p855cd311b9)\">\n",
       "     <use xlink:href=\"#C0_0_74250d15fe\" x=\"317.535089\" y=\"269.417143\" style=\"fill-opacity: 0.180392\"/>\n",
       "    </g>\n",
       "    <g clip-path=\"url(#p855cd311b9)\">\n",
       "     <use xlink:href=\"#C0_0_74250d15fe\" x=\"317.535089\" y=\"247.002396\" style=\"fill-opacity: 0.180392\"/>\n",
       "    </g>\n",
       "    <g clip-path=\"url(#p855cd311b9)\">\n",
       "     <use xlink:href=\"#C0_0_74250d15fe\" x=\"317.535089\" y=\"224.58765\" style=\"fill-opacity: 0.180392\"/>\n",
       "    </g>\n",
       "    <g clip-path=\"url(#p855cd311b9)\">\n",
       "     <use xlink:href=\"#C0_0_74250d15fe\" x=\"317.535089\" y=\"202.172903\" style=\"stroke: #000000\"/>\n",
       "    </g>\n",
       "    <g clip-path=\"url(#p855cd311b9)\">\n",
       "     <use xlink:href=\"#C0_0_74250d15fe\" x=\"317.535089\" y=\"179.758157\" style=\"fill-opacity: 0.180392\"/>\n",
       "    </g>\n",
       "    <g clip-path=\"url(#p855cd311b9)\">\n",
       "     <use xlink:href=\"#C0_0_74250d15fe\" x=\"342.326606\" y=\"381.490876\" style=\"fill-opacity: 0.180392\"/>\n",
       "    </g>\n",
       "    <g clip-path=\"url(#p855cd311b9)\">\n",
       "     <use xlink:href=\"#C0_0_74250d15fe\" x=\"342.326606\" y=\"359.076129\" style=\"fill-opacity: 0.180392\"/>\n",
       "    </g>\n",
       "    <g clip-path=\"url(#p855cd311b9)\">\n",
       "     <use xlink:href=\"#C0_0_74250d15fe\" x=\"342.326606\" y=\"336.661382\" style=\"fill-opacity: 0.180392\"/>\n",
       "    </g>\n",
       "    <g clip-path=\"url(#p855cd311b9)\">\n",
       "     <use xlink:href=\"#C0_0_74250d15fe\" x=\"342.326606\" y=\"314.246636\" style=\"fill-opacity: 0.180392\"/>\n",
       "    </g>\n",
       "    <g clip-path=\"url(#p855cd311b9)\">\n",
       "     <use xlink:href=\"#C0_0_74250d15fe\" x=\"342.326606\" y=\"291.831889\" style=\"fill-opacity: 0.180392\"/>\n",
       "    </g>\n",
       "    <g clip-path=\"url(#p855cd311b9)\">\n",
       "     <use xlink:href=\"#C0_0_74250d15fe\" x=\"342.326606\" y=\"269.417143\" style=\"fill-opacity: 0.180392\"/>\n",
       "    </g>\n",
       "    <g clip-path=\"url(#p855cd311b9)\">\n",
       "     <use xlink:href=\"#C0_0_74250d15fe\" x=\"342.326606\" y=\"247.002396\" style=\"fill-opacity: 0.180392\"/>\n",
       "    </g>\n",
       "    <g clip-path=\"url(#p855cd311b9)\">\n",
       "     <use xlink:href=\"#C0_0_74250d15fe\" x=\"342.326606\" y=\"224.58765\" style=\"fill-opacity: 0.180392\"/>\n",
       "    </g>\n",
       "    <g clip-path=\"url(#p855cd311b9)\">\n",
       "     <use xlink:href=\"#C0_0_74250d15fe\" x=\"342.326606\" y=\"202.172903\" style=\"fill-opacity: 0.180392\"/>\n",
       "    </g>\n",
       "    <g clip-path=\"url(#p855cd311b9)\">\n",
       "     <use xlink:href=\"#C0_0_74250d15fe\" x=\"342.326606\" y=\"179.758157\" style=\"stroke: #000000\"/>\n",
       "    </g>\n",
       "    <g clip-path=\"url(#p855cd311b9)\">\n",
       "     <use xlink:href=\"#C0_0_74250d15fe\" x=\"367.118123\" y=\"381.490876\" style=\"stroke: #000000\"/>\n",
       "    </g>\n",
       "    <g clip-path=\"url(#p855cd311b9)\">\n",
       "     <use xlink:href=\"#C0_0_74250d15fe\" x=\"367.118123\" y=\"359.076129\" style=\"stroke: #000000\"/>\n",
       "    </g>\n",
       "    <g clip-path=\"url(#p855cd311b9)\">\n",
       "     <use xlink:href=\"#C0_0_74250d15fe\" x=\"367.118123\" y=\"336.661382\" style=\"fill-opacity: 0.180392\"/>\n",
       "    </g>\n",
       "    <g clip-path=\"url(#p855cd311b9)\">\n",
       "     <use xlink:href=\"#C0_0_74250d15fe\" x=\"367.118123\" y=\"314.246636\" style=\"fill-opacity: 0.180392\"/>\n",
       "    </g>\n",
       "    <g clip-path=\"url(#p855cd311b9)\">\n",
       "     <use xlink:href=\"#C0_0_74250d15fe\" x=\"367.118123\" y=\"291.831889\" style=\"fill-opacity: 0.180392\"/>\n",
       "    </g>\n",
       "    <g clip-path=\"url(#p855cd311b9)\">\n",
       "     <use xlink:href=\"#C0_0_74250d15fe\" x=\"367.118123\" y=\"269.417143\" style=\"fill-opacity: 0.180392\"/>\n",
       "    </g>\n",
       "    <g clip-path=\"url(#p855cd311b9)\">\n",
       "     <use xlink:href=\"#C0_0_74250d15fe\" x=\"367.118123\" y=\"247.002396\" style=\"fill-opacity: 0.180392\"/>\n",
       "    </g>\n",
       "    <g clip-path=\"url(#p855cd311b9)\">\n",
       "     <use xlink:href=\"#C0_0_74250d15fe\" x=\"367.118123\" y=\"224.58765\" style=\"fill-opacity: 0.180392\"/>\n",
       "    </g>\n",
       "    <g clip-path=\"url(#p855cd311b9)\">\n",
       "     <use xlink:href=\"#C0_0_74250d15fe\" x=\"367.118123\" y=\"202.172903\" style=\"fill-opacity: 0.180392\"/>\n",
       "    </g>\n",
       "    <g clip-path=\"url(#p855cd311b9)\">\n",
       "     <use xlink:href=\"#C0_0_74250d15fe\" x=\"367.118123\" y=\"179.758157\" style=\"fill-opacity: 0.180392\"/>\n",
       "    </g>\n",
       "    <g clip-path=\"url(#p855cd311b9)\">\n",
       "     <use xlink:href=\"#C0_0_74250d15fe\" x=\"391.909639\" y=\"381.490876\" style=\"stroke: #000000\"/>\n",
       "    </g>\n",
       "    <g clip-path=\"url(#p855cd311b9)\">\n",
       "     <use xlink:href=\"#C0_0_74250d15fe\" x=\"391.909639\" y=\"359.076129\" style=\"fill-opacity: 0.180392\"/>\n",
       "    </g>\n",
       "    <g clip-path=\"url(#p855cd311b9)\">\n",
       "     <use xlink:href=\"#C0_0_74250d15fe\" x=\"391.909639\" y=\"336.661382\" style=\"stroke: #000000\"/>\n",
       "    </g>\n",
       "    <g clip-path=\"url(#p855cd311b9)\">\n",
       "     <use xlink:href=\"#C0_0_74250d15fe\" x=\"391.909639\" y=\"314.246636\" style=\"fill-opacity: 0.180392\"/>\n",
       "    </g>\n",
       "    <g clip-path=\"url(#p855cd311b9)\">\n",
       "     <use xlink:href=\"#C0_0_74250d15fe\" x=\"391.909639\" y=\"291.831889\" style=\"fill-opacity: 0.180392\"/>\n",
       "    </g>\n",
       "    <g clip-path=\"url(#p855cd311b9)\">\n",
       "     <use xlink:href=\"#C0_0_74250d15fe\" x=\"391.909639\" y=\"269.417143\" style=\"fill-opacity: 0.180392\"/>\n",
       "    </g>\n",
       "    <g clip-path=\"url(#p855cd311b9)\">\n",
       "     <use xlink:href=\"#C0_0_74250d15fe\" x=\"391.909639\" y=\"247.002396\" style=\"fill-opacity: 0.180392\"/>\n",
       "    </g>\n",
       "    <g clip-path=\"url(#p855cd311b9)\">\n",
       "     <use xlink:href=\"#C0_0_74250d15fe\" x=\"391.909639\" y=\"224.58765\" style=\"fill-opacity: 0.180392\"/>\n",
       "    </g>\n",
       "    <g clip-path=\"url(#p855cd311b9)\">\n",
       "     <use xlink:href=\"#C0_0_74250d15fe\" x=\"391.909639\" y=\"202.172903\" style=\"fill-opacity: 0.180392\"/>\n",
       "    </g>\n",
       "    <g clip-path=\"url(#p855cd311b9)\">\n",
       "     <use xlink:href=\"#C0_0_74250d15fe\" x=\"391.909639\" y=\"179.758157\" style=\"fill-opacity: 0.180392\"/>\n",
       "    </g>\n",
       "    <g clip-path=\"url(#p855cd311b9)\">\n",
       "     <use xlink:href=\"#C0_0_74250d15fe\" x=\"416.701156\" y=\"381.490876\" style=\"fill-opacity: 0.180392\"/>\n",
       "    </g>\n",
       "    <g clip-path=\"url(#p855cd311b9)\">\n",
       "     <use xlink:href=\"#C0_0_74250d15fe\" x=\"416.701156\" y=\"359.076129\" style=\"fill-opacity: 0.180392\"/>\n",
       "    </g>\n",
       "    <g clip-path=\"url(#p855cd311b9)\">\n",
       "     <use xlink:href=\"#C0_0_74250d15fe\" x=\"416.701156\" y=\"336.661382\" style=\"stroke: #000000\"/>\n",
       "    </g>\n",
       "    <g clip-path=\"url(#p855cd311b9)\">\n",
       "     <use xlink:href=\"#C0_0_74250d15fe\" x=\"416.701156\" y=\"314.246636\" style=\"fill-opacity: 0.180392\"/>\n",
       "    </g>\n",
       "    <g clip-path=\"url(#p855cd311b9)\">\n",
       "     <use xlink:href=\"#C0_0_74250d15fe\" x=\"416.701156\" y=\"291.831889\" style=\"stroke: #000000\"/>\n",
       "    </g>\n",
       "    <g clip-path=\"url(#p855cd311b9)\">\n",
       "     <use xlink:href=\"#C0_0_74250d15fe\" x=\"416.701156\" y=\"269.417143\" style=\"fill-opacity: 0.180392\"/>\n",
       "    </g>\n",
       "    <g clip-path=\"url(#p855cd311b9)\">\n",
       "     <use xlink:href=\"#C0_0_74250d15fe\" x=\"416.701156\" y=\"247.002396\" style=\"fill-opacity: 0.180392\"/>\n",
       "    </g>\n",
       "    <g clip-path=\"url(#p855cd311b9)\">\n",
       "     <use xlink:href=\"#C0_0_74250d15fe\" x=\"416.701156\" y=\"224.58765\" style=\"fill-opacity: 0.180392\"/>\n",
       "    </g>\n",
       "    <g clip-path=\"url(#p855cd311b9)\">\n",
       "     <use xlink:href=\"#C0_0_74250d15fe\" x=\"416.701156\" y=\"202.172903\" style=\"fill-opacity: 0.180392\"/>\n",
       "    </g>\n",
       "    <g clip-path=\"url(#p855cd311b9)\">\n",
       "     <use xlink:href=\"#C0_0_74250d15fe\" x=\"416.701156\" y=\"179.758157\" style=\"fill-opacity: 0.180392\"/>\n",
       "    </g>\n",
       "    <g clip-path=\"url(#p855cd311b9)\">\n",
       "     <use xlink:href=\"#C0_0_74250d15fe\" x=\"441.492673\" y=\"381.490876\" style=\"stroke: #000000\"/>\n",
       "    </g>\n",
       "    <g clip-path=\"url(#p855cd311b9)\">\n",
       "     <use xlink:href=\"#C0_0_74250d15fe\" x=\"441.492673\" y=\"359.076129\" style=\"fill-opacity: 0.180392\"/>\n",
       "    </g>\n",
       "    <g clip-path=\"url(#p855cd311b9)\">\n",
       "     <use xlink:href=\"#C0_0_74250d15fe\" x=\"441.492673\" y=\"336.661382\" style=\"fill-opacity: 0.180392\"/>\n",
       "    </g>\n",
       "    <g clip-path=\"url(#p855cd311b9)\">\n",
       "     <use xlink:href=\"#C0_0_74250d15fe\" x=\"441.492673\" y=\"314.246636\" style=\"fill-opacity: 0.180392\"/>\n",
       "    </g>\n",
       "    <g clip-path=\"url(#p855cd311b9)\">\n",
       "     <use xlink:href=\"#C0_0_74250d15fe\" x=\"441.492673\" y=\"291.831889\" style=\"fill-opacity: 0.180392\"/>\n",
       "    </g>\n",
       "    <g clip-path=\"url(#p855cd311b9)\">\n",
       "     <use xlink:href=\"#C0_0_74250d15fe\" x=\"441.492673\" y=\"269.417143\" style=\"stroke: #000000\"/>\n",
       "    </g>\n",
       "    <g clip-path=\"url(#p855cd311b9)\">\n",
       "     <use xlink:href=\"#C0_0_74250d15fe\" x=\"441.492673\" y=\"247.002396\" style=\"fill-opacity: 0.180392\"/>\n",
       "    </g>\n",
       "    <g clip-path=\"url(#p855cd311b9)\">\n",
       "     <use xlink:href=\"#C0_0_74250d15fe\" x=\"441.492673\" y=\"224.58765\" style=\"fill-opacity: 0.180392\"/>\n",
       "    </g>\n",
       "    <g clip-path=\"url(#p855cd311b9)\">\n",
       "     <use xlink:href=\"#C0_0_74250d15fe\" x=\"441.492673\" y=\"202.172903\" style=\"fill-opacity: 0.180392\"/>\n",
       "    </g>\n",
       "    <g clip-path=\"url(#p855cd311b9)\">\n",
       "     <use xlink:href=\"#C0_0_74250d15fe\" x=\"441.492673\" y=\"179.758157\" style=\"fill-opacity: 0.180392\"/>\n",
       "    </g>\n",
       "    <g clip-path=\"url(#p855cd311b9)\">\n",
       "     <use xlink:href=\"#C0_0_74250d15fe\" x=\"466.28419\" y=\"381.490876\" style=\"stroke: #000000\"/>\n",
       "    </g>\n",
       "    <g clip-path=\"url(#p855cd311b9)\">\n",
       "     <use xlink:href=\"#C0_0_74250d15fe\" x=\"466.28419\" y=\"359.076129\" style=\"fill-opacity: 0.180392\"/>\n",
       "    </g>\n",
       "    <g clip-path=\"url(#p855cd311b9)\">\n",
       "     <use xlink:href=\"#C0_0_74250d15fe\" x=\"466.28419\" y=\"336.661382\" style=\"fill-opacity: 0.180392\"/>\n",
       "    </g>\n",
       "    <g clip-path=\"url(#p855cd311b9)\">\n",
       "     <use xlink:href=\"#C0_0_74250d15fe\" x=\"466.28419\" y=\"314.246636\" style=\"fill-opacity: 0.180392\"/>\n",
       "    </g>\n",
       "    <g clip-path=\"url(#p855cd311b9)\">\n",
       "     <use xlink:href=\"#C0_0_74250d15fe\" x=\"466.28419\" y=\"291.831889\" style=\"fill-opacity: 0.180392\"/>\n",
       "    </g>\n",
       "    <g clip-path=\"url(#p855cd311b9)\">\n",
       "     <use xlink:href=\"#C0_0_74250d15fe\" x=\"466.28419\" y=\"269.417143\" style=\"fill-opacity: 0.180392\"/>\n",
       "    </g>\n",
       "    <g clip-path=\"url(#p855cd311b9)\">\n",
       "     <use xlink:href=\"#C0_0_74250d15fe\" x=\"466.28419\" y=\"247.002396\" style=\"stroke: #000000\"/>\n",
       "    </g>\n",
       "    <g clip-path=\"url(#p855cd311b9)\">\n",
       "     <use xlink:href=\"#C0_0_74250d15fe\" x=\"466.28419\" y=\"224.58765\" style=\"fill-opacity: 0.180392\"/>\n",
       "    </g>\n",
       "    <g clip-path=\"url(#p855cd311b9)\">\n",
       "     <use xlink:href=\"#C0_0_74250d15fe\" x=\"466.28419\" y=\"202.172903\" style=\"fill-opacity: 0.180392\"/>\n",
       "    </g>\n",
       "    <g clip-path=\"url(#p855cd311b9)\">\n",
       "     <use xlink:href=\"#C0_0_74250d15fe\" x=\"466.28419\" y=\"179.758157\" style=\"fill-opacity: 0.180392\"/>\n",
       "    </g>\n",
       "    <g clip-path=\"url(#p855cd311b9)\">\n",
       "     <use xlink:href=\"#C0_0_74250d15fe\" x=\"491.075706\" y=\"381.490876\" style=\"fill-opacity: 0.180392\"/>\n",
       "    </g>\n",
       "    <g clip-path=\"url(#p855cd311b9)\">\n",
       "     <use xlink:href=\"#C0_0_74250d15fe\" x=\"491.075706\" y=\"359.076129\" style=\"fill-opacity: 0.180392\"/>\n",
       "    </g>\n",
       "    <g clip-path=\"url(#p855cd311b9)\">\n",
       "     <use xlink:href=\"#C0_0_74250d15fe\" x=\"491.075706\" y=\"336.661382\" style=\"fill-opacity: 0.180392\"/>\n",
       "    </g>\n",
       "    <g clip-path=\"url(#p855cd311b9)\">\n",
       "     <use xlink:href=\"#C0_0_74250d15fe\" x=\"491.075706\" y=\"314.246636\" style=\"fill-opacity: 0.180392\"/>\n",
       "    </g>\n",
       "    <g clip-path=\"url(#p855cd311b9)\">\n",
       "     <use xlink:href=\"#C0_0_74250d15fe\" x=\"491.075706\" y=\"291.831889\" style=\"fill-opacity: 0.180392\"/>\n",
       "    </g>\n",
       "    <g clip-path=\"url(#p855cd311b9)\">\n",
       "     <use xlink:href=\"#C0_0_74250d15fe\" x=\"491.075706\" y=\"269.417143\" style=\"stroke: #000000\"/>\n",
       "    </g>\n",
       "    <g clip-path=\"url(#p855cd311b9)\">\n",
       "     <use xlink:href=\"#C0_0_74250d15fe\" x=\"491.075706\" y=\"247.002396\" style=\"stroke: #000000\"/>\n",
       "    </g>\n",
       "    <g clip-path=\"url(#p855cd311b9)\">\n",
       "     <use xlink:href=\"#C0_0_74250d15fe\" x=\"491.075706\" y=\"224.58765\" style=\"fill-opacity: 0.180392\"/>\n",
       "    </g>\n",
       "    <g clip-path=\"url(#p855cd311b9)\">\n",
       "     <use xlink:href=\"#C0_0_74250d15fe\" x=\"491.075706\" y=\"202.172903\" style=\"fill-opacity: 0.180392\"/>\n",
       "    </g>\n",
       "    <g clip-path=\"url(#p855cd311b9)\">\n",
       "     <use xlink:href=\"#C0_0_74250d15fe\" x=\"491.075706\" y=\"179.758157\" style=\"fill-opacity: 0.180392\"/>\n",
       "    </g>\n",
       "    <g clip-path=\"url(#p855cd311b9)\">\n",
       "     <use xlink:href=\"#C0_0_74250d15fe\" x=\"515.867223\" y=\"381.490876\" style=\"fill-opacity: 0.180392\"/>\n",
       "    </g>\n",
       "    <g clip-path=\"url(#p855cd311b9)\">\n",
       "     <use xlink:href=\"#C0_0_74250d15fe\" x=\"515.867223\" y=\"359.076129\" style=\"fill-opacity: 0.180392\"/>\n",
       "    </g>\n",
       "    <g clip-path=\"url(#p855cd311b9)\">\n",
       "     <use xlink:href=\"#C0_0_74250d15fe\" x=\"515.867223\" y=\"336.661382\" style=\"fill-opacity: 0.180392\"/>\n",
       "    </g>\n",
       "    <g clip-path=\"url(#p855cd311b9)\">\n",
       "     <use xlink:href=\"#C0_0_74250d15fe\" x=\"515.867223\" y=\"314.246636\" style=\"stroke: #000000\"/>\n",
       "    </g>\n",
       "    <g clip-path=\"url(#p855cd311b9)\">\n",
       "     <use xlink:href=\"#C0_0_74250d15fe\" x=\"515.867223\" y=\"291.831889\" style=\"fill-opacity: 0.180392\"/>\n",
       "    </g>\n",
       "    <g clip-path=\"url(#p855cd311b9)\">\n",
       "     <use xlink:href=\"#C0_0_74250d15fe\" x=\"515.867223\" y=\"269.417143\" style=\"fill-opacity: 0.180392\"/>\n",
       "    </g>\n",
       "    <g clip-path=\"url(#p855cd311b9)\">\n",
       "     <use xlink:href=\"#C0_0_74250d15fe\" x=\"515.867223\" y=\"247.002396\" style=\"fill-opacity: 0.180392\"/>\n",
       "    </g>\n",
       "    <g clip-path=\"url(#p855cd311b9)\">\n",
       "     <use xlink:href=\"#C0_0_74250d15fe\" x=\"515.867223\" y=\"224.58765\" style=\"stroke: #000000\"/>\n",
       "    </g>\n",
       "    <g clip-path=\"url(#p855cd311b9)\">\n",
       "     <use xlink:href=\"#C0_0_74250d15fe\" x=\"515.867223\" y=\"202.172903\" style=\"fill-opacity: 0.180392\"/>\n",
       "    </g>\n",
       "    <g clip-path=\"url(#p855cd311b9)\">\n",
       "     <use xlink:href=\"#C0_0_74250d15fe\" x=\"515.867223\" y=\"179.758157\" style=\"fill-opacity: 0.180392\"/>\n",
       "    </g>\n",
       "    <g clip-path=\"url(#p855cd311b9)\">\n",
       "     <use xlink:href=\"#C0_0_74250d15fe\" x=\"540.65874\" y=\"381.490876\" style=\"fill-opacity: 0.180392\"/>\n",
       "    </g>\n",
       "    <g clip-path=\"url(#p855cd311b9)\">\n",
       "     <use xlink:href=\"#C0_0_74250d15fe\" x=\"540.65874\" y=\"359.076129\" style=\"fill-opacity: 0.180392\"/>\n",
       "    </g>\n",
       "    <g clip-path=\"url(#p855cd311b9)\">\n",
       "     <use xlink:href=\"#C0_0_74250d15fe\" x=\"540.65874\" y=\"336.661382\" style=\"fill-opacity: 0.180392\"/>\n",
       "    </g>\n",
       "    <g clip-path=\"url(#p855cd311b9)\">\n",
       "     <use xlink:href=\"#C0_0_74250d15fe\" x=\"540.65874\" y=\"314.246636\" style=\"fill-opacity: 0.180392\"/>\n",
       "    </g>\n",
       "    <g clip-path=\"url(#p855cd311b9)\">\n",
       "     <use xlink:href=\"#C0_0_74250d15fe\" x=\"540.65874\" y=\"291.831889\" style=\"stroke: #000000\"/>\n",
       "    </g>\n",
       "    <g clip-path=\"url(#p855cd311b9)\">\n",
       "     <use xlink:href=\"#C0_0_74250d15fe\" x=\"540.65874\" y=\"269.417143\" style=\"fill-opacity: 0.180392\"/>\n",
       "    </g>\n",
       "    <g clip-path=\"url(#p855cd311b9)\">\n",
       "     <use xlink:href=\"#C0_0_74250d15fe\" x=\"540.65874\" y=\"247.002396\" style=\"fill-opacity: 0.180392\"/>\n",
       "    </g>\n",
       "    <g clip-path=\"url(#p855cd311b9)\">\n",
       "     <use xlink:href=\"#C0_0_74250d15fe\" x=\"540.65874\" y=\"224.58765\" style=\"stroke: #000000\"/>\n",
       "    </g>\n",
       "    <g clip-path=\"url(#p855cd311b9)\">\n",
       "     <use xlink:href=\"#C0_0_74250d15fe\" x=\"540.65874\" y=\"202.172903\" style=\"fill-opacity: 0.180392\"/>\n",
       "    </g>\n",
       "    <g clip-path=\"url(#p855cd311b9)\">\n",
       "     <use xlink:href=\"#C0_0_74250d15fe\" x=\"540.65874\" y=\"179.758157\" style=\"fill-opacity: 0.180392\"/>\n",
       "    </g>\n",
       "    <g clip-path=\"url(#p855cd311b9)\">\n",
       "     <use xlink:href=\"#C0_0_74250d15fe\" x=\"565.450257\" y=\"381.490876\" style=\"fill-opacity: 0.180392\"/>\n",
       "    </g>\n",
       "    <g clip-path=\"url(#p855cd311b9)\">\n",
       "     <use xlink:href=\"#C0_0_74250d15fe\" x=\"565.450257\" y=\"359.076129\" style=\"fill-opacity: 0.180392\"/>\n",
       "    </g>\n",
       "    <g clip-path=\"url(#p855cd311b9)\">\n",
       "     <use xlink:href=\"#C0_0_74250d15fe\" x=\"565.450257\" y=\"336.661382\" style=\"fill-opacity: 0.180392\"/>\n",
       "    </g>\n",
       "    <g clip-path=\"url(#p855cd311b9)\">\n",
       "     <use xlink:href=\"#C0_0_74250d15fe\" x=\"565.450257\" y=\"314.246636\" style=\"stroke: #000000\"/>\n",
       "    </g>\n",
       "    <g clip-path=\"url(#p855cd311b9)\">\n",
       "     <use xlink:href=\"#C0_0_74250d15fe\" x=\"565.450257\" y=\"291.831889\" style=\"fill-opacity: 0.180392\"/>\n",
       "    </g>\n",
       "    <g clip-path=\"url(#p855cd311b9)\">\n",
       "     <use xlink:href=\"#C0_0_74250d15fe\" x=\"565.450257\" y=\"269.417143\" style=\"fill-opacity: 0.180392\"/>\n",
       "    </g>\n",
       "    <g clip-path=\"url(#p855cd311b9)\">\n",
       "     <use xlink:href=\"#C0_0_74250d15fe\" x=\"565.450257\" y=\"247.002396\" style=\"fill-opacity: 0.180392\"/>\n",
       "    </g>\n",
       "    <g clip-path=\"url(#p855cd311b9)\">\n",
       "     <use xlink:href=\"#C0_0_74250d15fe\" x=\"565.450257\" y=\"224.58765\" style=\"fill-opacity: 0.180392\"/>\n",
       "    </g>\n",
       "    <g clip-path=\"url(#p855cd311b9)\">\n",
       "     <use xlink:href=\"#C0_0_74250d15fe\" x=\"565.450257\" y=\"202.172903\" style=\"stroke: #000000\"/>\n",
       "    </g>\n",
       "    <g clip-path=\"url(#p855cd311b9)\">\n",
       "     <use xlink:href=\"#C0_0_74250d15fe\" x=\"565.450257\" y=\"179.758157\" style=\"fill-opacity: 0.180392\"/>\n",
       "    </g>\n",
       "    <g clip-path=\"url(#p855cd311b9)\">\n",
       "     <use xlink:href=\"#C0_0_74250d15fe\" x=\"590.241773\" y=\"381.490876\" style=\"stroke: #000000\"/>\n",
       "    </g>\n",
       "    <g clip-path=\"url(#p855cd311b9)\">\n",
       "     <use xlink:href=\"#C0_0_74250d15fe\" x=\"590.241773\" y=\"359.076129\" style=\"fill-opacity: 0.180392\"/>\n",
       "    </g>\n",
       "    <g clip-path=\"url(#p855cd311b9)\">\n",
       "     <use xlink:href=\"#C0_0_74250d15fe\" x=\"590.241773\" y=\"336.661382\" style=\"fill-opacity: 0.180392\"/>\n",
       "    </g>\n",
       "    <g clip-path=\"url(#p855cd311b9)\">\n",
       "     <use xlink:href=\"#C0_0_74250d15fe\" x=\"590.241773\" y=\"314.246636\" style=\"fill-opacity: 0.180392\"/>\n",
       "    </g>\n",
       "    <g clip-path=\"url(#p855cd311b9)\">\n",
       "     <use xlink:href=\"#C0_0_74250d15fe\" x=\"590.241773\" y=\"291.831889\" style=\"fill-opacity: 0.180392\"/>\n",
       "    </g>\n",
       "    <g clip-path=\"url(#p855cd311b9)\">\n",
       "     <use xlink:href=\"#C0_0_74250d15fe\" x=\"590.241773\" y=\"269.417143\" style=\"fill-opacity: 0.180392\"/>\n",
       "    </g>\n",
       "    <g clip-path=\"url(#p855cd311b9)\">\n",
       "     <use xlink:href=\"#C0_0_74250d15fe\" x=\"590.241773\" y=\"247.002396\" style=\"fill-opacity: 0.180392\"/>\n",
       "    </g>\n",
       "    <g clip-path=\"url(#p855cd311b9)\">\n",
       "     <use xlink:href=\"#C0_0_74250d15fe\" x=\"590.241773\" y=\"224.58765\" style=\"fill-opacity: 0.180392\"/>\n",
       "    </g>\n",
       "    <g clip-path=\"url(#p855cd311b9)\">\n",
       "     <use xlink:href=\"#C0_0_74250d15fe\" x=\"590.241773\" y=\"202.172903\" style=\"fill-opacity: 0.180392\"/>\n",
       "    </g>\n",
       "    <g clip-path=\"url(#p855cd311b9)\">\n",
       "     <use xlink:href=\"#C0_0_74250d15fe\" x=\"590.241773\" y=\"179.758157\" style=\"stroke: #000000\"/>\n",
       "    </g>\n",
       "    <g clip-path=\"url(#p855cd311b9)\">\n",
       "     <use xlink:href=\"#C0_0_74250d15fe\" x=\"615.03329\" y=\"381.490876\" style=\"fill-opacity: 0.180392\"/>\n",
       "    </g>\n",
       "    <g clip-path=\"url(#p855cd311b9)\">\n",
       "     <use xlink:href=\"#C0_0_74250d15fe\" x=\"615.03329\" y=\"359.076129\" style=\"fill-opacity: 0.180392\"/>\n",
       "    </g>\n",
       "    <g clip-path=\"url(#p855cd311b9)\">\n",
       "     <use xlink:href=\"#C0_0_74250d15fe\" x=\"615.03329\" y=\"336.661382\" style=\"stroke: #000000\"/>\n",
       "    </g>\n",
       "    <g clip-path=\"url(#p855cd311b9)\">\n",
       "     <use xlink:href=\"#C0_0_74250d15fe\" x=\"615.03329\" y=\"314.246636\" style=\"fill-opacity: 0.180392\"/>\n",
       "    </g>\n",
       "    <g clip-path=\"url(#p855cd311b9)\">\n",
       "     <use xlink:href=\"#C0_0_74250d15fe\" x=\"615.03329\" y=\"291.831889\" style=\"fill-opacity: 0.180392\"/>\n",
       "    </g>\n",
       "    <g clip-path=\"url(#p855cd311b9)\">\n",
       "     <use xlink:href=\"#C0_0_74250d15fe\" x=\"615.03329\" y=\"269.417143\" style=\"fill-opacity: 0.180392\"/>\n",
       "    </g>\n",
       "    <g clip-path=\"url(#p855cd311b9)\">\n",
       "     <use xlink:href=\"#C0_0_74250d15fe\" x=\"615.03329\" y=\"247.002396\" style=\"fill-opacity: 0.180392\"/>\n",
       "    </g>\n",
       "    <g clip-path=\"url(#p855cd311b9)\">\n",
       "     <use xlink:href=\"#C0_0_74250d15fe\" x=\"615.03329\" y=\"224.58765\" style=\"fill-opacity: 0.180392\"/>\n",
       "    </g>\n",
       "    <g clip-path=\"url(#p855cd311b9)\">\n",
       "     <use xlink:href=\"#C0_0_74250d15fe\" x=\"615.03329\" y=\"202.172903\" style=\"fill-opacity: 0.180392\"/>\n",
       "    </g>\n",
       "    <g clip-path=\"url(#p855cd311b9)\">\n",
       "     <use xlink:href=\"#C0_0_74250d15fe\" x=\"615.03329\" y=\"179.758157\" style=\"stroke: #000000\"/>\n",
       "    </g>\n",
       "    <g clip-path=\"url(#p855cd311b9)\">\n",
       "     <use xlink:href=\"#C0_0_74250d15fe\" x=\"639.824807\" y=\"381.490876\" style=\"stroke: #000000\"/>\n",
       "    </g>\n",
       "    <g clip-path=\"url(#p855cd311b9)\">\n",
       "     <use xlink:href=\"#C0_0_74250d15fe\" x=\"639.824807\" y=\"359.076129\" style=\"stroke: #000000\"/>\n",
       "    </g>\n",
       "    <g clip-path=\"url(#p855cd311b9)\">\n",
       "     <use xlink:href=\"#C0_0_74250d15fe\" x=\"639.824807\" y=\"336.661382\" style=\"stroke: #000000\"/>\n",
       "    </g>\n",
       "    <g clip-path=\"url(#p855cd311b9)\">\n",
       "     <use xlink:href=\"#C0_0_74250d15fe\" x=\"639.824807\" y=\"314.246636\" style=\"fill-opacity: 0.180392\"/>\n",
       "    </g>\n",
       "    <g clip-path=\"url(#p855cd311b9)\">\n",
       "     <use xlink:href=\"#C0_0_74250d15fe\" x=\"639.824807\" y=\"291.831889\" style=\"fill-opacity: 0.180392\"/>\n",
       "    </g>\n",
       "    <g clip-path=\"url(#p855cd311b9)\">\n",
       "     <use xlink:href=\"#C0_0_74250d15fe\" x=\"639.824807\" y=\"269.417143\" style=\"fill-opacity: 0.180392\"/>\n",
       "    </g>\n",
       "    <g clip-path=\"url(#p855cd311b9)\">\n",
       "     <use xlink:href=\"#C0_0_74250d15fe\" x=\"639.824807\" y=\"247.002396\" style=\"fill-opacity: 0.180392\"/>\n",
       "    </g>\n",
       "    <g clip-path=\"url(#p855cd311b9)\">\n",
       "     <use xlink:href=\"#C0_0_74250d15fe\" x=\"639.824807\" y=\"224.58765\" style=\"fill-opacity: 0.180392\"/>\n",
       "    </g>\n",
       "    <g clip-path=\"url(#p855cd311b9)\">\n",
       "     <use xlink:href=\"#C0_0_74250d15fe\" x=\"639.824807\" y=\"202.172903\" style=\"fill-opacity: 0.180392\"/>\n",
       "    </g>\n",
       "    <g clip-path=\"url(#p855cd311b9)\">\n",
       "     <use xlink:href=\"#C0_0_74250d15fe\" x=\"639.824807\" y=\"179.758157\" style=\"fill-opacity: 0.180392\"/>\n",
       "    </g>\n",
       "    <g clip-path=\"url(#p855cd311b9)\">\n",
       "     <use xlink:href=\"#C0_0_74250d15fe\" x=\"664.616323\" y=\"381.490876\" style=\"stroke: #000000\"/>\n",
       "    </g>\n",
       "    <g clip-path=\"url(#p855cd311b9)\">\n",
       "     <use xlink:href=\"#C0_0_74250d15fe\" x=\"664.616323\" y=\"359.076129\" style=\"fill-opacity: 0.180392\"/>\n",
       "    </g>\n",
       "    <g clip-path=\"url(#p855cd311b9)\">\n",
       "     <use xlink:href=\"#C0_0_74250d15fe\" x=\"664.616323\" y=\"336.661382\" style=\"stroke: #000000\"/>\n",
       "    </g>\n",
       "    <g clip-path=\"url(#p855cd311b9)\">\n",
       "     <use xlink:href=\"#C0_0_74250d15fe\" x=\"664.616323\" y=\"314.246636\" style=\"fill-opacity: 0.180392\"/>\n",
       "    </g>\n",
       "    <g clip-path=\"url(#p855cd311b9)\">\n",
       "     <use xlink:href=\"#C0_0_74250d15fe\" x=\"664.616323\" y=\"291.831889\" style=\"stroke: #000000\"/>\n",
       "    </g>\n",
       "    <g clip-path=\"url(#p855cd311b9)\">\n",
       "     <use xlink:href=\"#C0_0_74250d15fe\" x=\"664.616323\" y=\"269.417143\" style=\"fill-opacity: 0.180392\"/>\n",
       "    </g>\n",
       "    <g clip-path=\"url(#p855cd311b9)\">\n",
       "     <use xlink:href=\"#C0_0_74250d15fe\" x=\"664.616323\" y=\"247.002396\" style=\"fill-opacity: 0.180392\"/>\n",
       "    </g>\n",
       "    <g clip-path=\"url(#p855cd311b9)\">\n",
       "     <use xlink:href=\"#C0_0_74250d15fe\" x=\"664.616323\" y=\"224.58765\" style=\"fill-opacity: 0.180392\"/>\n",
       "    </g>\n",
       "    <g clip-path=\"url(#p855cd311b9)\">\n",
       "     <use xlink:href=\"#C0_0_74250d15fe\" x=\"664.616323\" y=\"202.172903\" style=\"fill-opacity: 0.180392\"/>\n",
       "    </g>\n",
       "    <g clip-path=\"url(#p855cd311b9)\">\n",
       "     <use xlink:href=\"#C0_0_74250d15fe\" x=\"664.616323\" y=\"179.758157\" style=\"fill-opacity: 0.180392\"/>\n",
       "    </g>\n",
       "    <g clip-path=\"url(#p855cd311b9)\">\n",
       "     <use xlink:href=\"#C0_0_74250d15fe\" x=\"689.40784\" y=\"381.490876\" style=\"stroke: #000000\"/>\n",
       "    </g>\n",
       "    <g clip-path=\"url(#p855cd311b9)\">\n",
       "     <use xlink:href=\"#C0_0_74250d15fe\" x=\"689.40784\" y=\"359.076129\" style=\"stroke: #000000\"/>\n",
       "    </g>\n",
       "    <g clip-path=\"url(#p855cd311b9)\">\n",
       "     <use xlink:href=\"#C0_0_74250d15fe\" x=\"689.40784\" y=\"336.661382\" style=\"fill-opacity: 0.180392\"/>\n",
       "    </g>\n",
       "    <g clip-path=\"url(#p855cd311b9)\">\n",
       "     <use xlink:href=\"#C0_0_74250d15fe\" x=\"689.40784\" y=\"314.246636\" style=\"fill-opacity: 0.180392\"/>\n",
       "    </g>\n",
       "    <g clip-path=\"url(#p855cd311b9)\">\n",
       "     <use xlink:href=\"#C0_0_74250d15fe\" x=\"689.40784\" y=\"291.831889\" style=\"fill-opacity: 0.180392\"/>\n",
       "    </g>\n",
       "    <g clip-path=\"url(#p855cd311b9)\">\n",
       "     <use xlink:href=\"#C0_0_74250d15fe\" x=\"689.40784\" y=\"269.417143\" style=\"stroke: #000000\"/>\n",
       "    </g>\n",
       "    <g clip-path=\"url(#p855cd311b9)\">\n",
       "     <use xlink:href=\"#C0_0_74250d15fe\" x=\"689.40784\" y=\"247.002396\" style=\"fill-opacity: 0.180392\"/>\n",
       "    </g>\n",
       "    <g clip-path=\"url(#p855cd311b9)\">\n",
       "     <use xlink:href=\"#C0_0_74250d15fe\" x=\"689.40784\" y=\"224.58765\" style=\"fill-opacity: 0.180392\"/>\n",
       "    </g>\n",
       "    <g clip-path=\"url(#p855cd311b9)\">\n",
       "     <use xlink:href=\"#C0_0_74250d15fe\" x=\"689.40784\" y=\"202.172903\" style=\"fill-opacity: 0.180392\"/>\n",
       "    </g>\n",
       "    <g clip-path=\"url(#p855cd311b9)\">\n",
       "     <use xlink:href=\"#C0_0_74250d15fe\" x=\"689.40784\" y=\"179.758157\" style=\"fill-opacity: 0.180392\"/>\n",
       "    </g>\n",
       "    <g clip-path=\"url(#p855cd311b9)\">\n",
       "     <use xlink:href=\"#C0_0_74250d15fe\" x=\"714.199357\" y=\"381.490876\" style=\"stroke: #000000\"/>\n",
       "    </g>\n",
       "    <g clip-path=\"url(#p855cd311b9)\">\n",
       "     <use xlink:href=\"#C0_0_74250d15fe\" x=\"714.199357\" y=\"359.076129\" style=\"fill-opacity: 0.180392\"/>\n",
       "    </g>\n",
       "    <g clip-path=\"url(#p855cd311b9)\">\n",
       "     <use xlink:href=\"#C0_0_74250d15fe\" x=\"714.199357\" y=\"336.661382\" style=\"stroke: #000000\"/>\n",
       "    </g>\n",
       "    <g clip-path=\"url(#p855cd311b9)\">\n",
       "     <use xlink:href=\"#C0_0_74250d15fe\" x=\"714.199357\" y=\"314.246636\" style=\"fill-opacity: 0.180392\"/>\n",
       "    </g>\n",
       "    <g clip-path=\"url(#p855cd311b9)\">\n",
       "     <use xlink:href=\"#C0_0_74250d15fe\" x=\"714.199357\" y=\"291.831889\" style=\"fill-opacity: 0.180392\"/>\n",
       "    </g>\n",
       "    <g clip-path=\"url(#p855cd311b9)\">\n",
       "     <use xlink:href=\"#C0_0_74250d15fe\" x=\"714.199357\" y=\"269.417143\" style=\"stroke: #000000\"/>\n",
       "    </g>\n",
       "    <g clip-path=\"url(#p855cd311b9)\">\n",
       "     <use xlink:href=\"#C0_0_74250d15fe\" x=\"714.199357\" y=\"247.002396\" style=\"fill-opacity: 0.180392\"/>\n",
       "    </g>\n",
       "    <g clip-path=\"url(#p855cd311b9)\">\n",
       "     <use xlink:href=\"#C0_0_74250d15fe\" x=\"714.199357\" y=\"224.58765\" style=\"fill-opacity: 0.180392\"/>\n",
       "    </g>\n",
       "    <g clip-path=\"url(#p855cd311b9)\">\n",
       "     <use xlink:href=\"#C0_0_74250d15fe\" x=\"714.199357\" y=\"202.172903\" style=\"fill-opacity: 0.180392\"/>\n",
       "    </g>\n",
       "    <g clip-path=\"url(#p855cd311b9)\">\n",
       "     <use xlink:href=\"#C0_0_74250d15fe\" x=\"714.199357\" y=\"179.758157\" style=\"fill-opacity: 0.180392\"/>\n",
       "    </g>\n",
       "    <g clip-path=\"url(#p855cd311b9)\">\n",
       "     <use xlink:href=\"#C0_0_74250d15fe\" x=\"738.990874\" y=\"381.490876\" style=\"stroke: #000000\"/>\n",
       "    </g>\n",
       "    <g clip-path=\"url(#p855cd311b9)\">\n",
       "     <use xlink:href=\"#C0_0_74250d15fe\" x=\"738.990874\" y=\"359.076129\" style=\"stroke: #000000\"/>\n",
       "    </g>\n",
       "    <g clip-path=\"url(#p855cd311b9)\">\n",
       "     <use xlink:href=\"#C0_0_74250d15fe\" x=\"738.990874\" y=\"336.661382\" style=\"fill-opacity: 0.180392\"/>\n",
       "    </g>\n",
       "    <g clip-path=\"url(#p855cd311b9)\">\n",
       "     <use xlink:href=\"#C0_0_74250d15fe\" x=\"738.990874\" y=\"314.246636\" style=\"fill-opacity: 0.180392\"/>\n",
       "    </g>\n",
       "    <g clip-path=\"url(#p855cd311b9)\">\n",
       "     <use xlink:href=\"#C0_0_74250d15fe\" x=\"738.990874\" y=\"291.831889\" style=\"fill-opacity: 0.180392\"/>\n",
       "    </g>\n",
       "    <g clip-path=\"url(#p855cd311b9)\">\n",
       "     <use xlink:href=\"#C0_0_74250d15fe\" x=\"738.990874\" y=\"269.417143\" style=\"fill-opacity: 0.180392\"/>\n",
       "    </g>\n",
       "    <g clip-path=\"url(#p855cd311b9)\">\n",
       "     <use xlink:href=\"#C0_0_74250d15fe\" x=\"738.990874\" y=\"247.002396\" style=\"stroke: #000000\"/>\n",
       "    </g>\n",
       "    <g clip-path=\"url(#p855cd311b9)\">\n",
       "     <use xlink:href=\"#C0_0_74250d15fe\" x=\"738.990874\" y=\"224.58765\" style=\"fill-opacity: 0.180392\"/>\n",
       "    </g>\n",
       "    <g clip-path=\"url(#p855cd311b9)\">\n",
       "     <use xlink:href=\"#C0_0_74250d15fe\" x=\"738.990874\" y=\"202.172903\" style=\"fill-opacity: 0.180392\"/>\n",
       "    </g>\n",
       "    <g clip-path=\"url(#p855cd311b9)\">\n",
       "     <use xlink:href=\"#C0_0_74250d15fe\" x=\"738.990874\" y=\"179.758157\" style=\"fill-opacity: 0.180392\"/>\n",
       "    </g>\n",
       "    <g clip-path=\"url(#p855cd311b9)\">\n",
       "     <use xlink:href=\"#C0_0_74250d15fe\" x=\"763.78239\" y=\"381.490876\" style=\"stroke: #000000\"/>\n",
       "    </g>\n",
       "    <g clip-path=\"url(#p855cd311b9)\">\n",
       "     <use xlink:href=\"#C0_0_74250d15fe\" x=\"763.78239\" y=\"359.076129\" style=\"fill-opacity: 0.180392\"/>\n",
       "    </g>\n",
       "    <g clip-path=\"url(#p855cd311b9)\">\n",
       "     <use xlink:href=\"#C0_0_74250d15fe\" x=\"763.78239\" y=\"336.661382\" style=\"stroke: #000000\"/>\n",
       "    </g>\n",
       "    <g clip-path=\"url(#p855cd311b9)\">\n",
       "     <use xlink:href=\"#C0_0_74250d15fe\" x=\"763.78239\" y=\"314.246636\" style=\"fill-opacity: 0.180392\"/>\n",
       "    </g>\n",
       "    <g clip-path=\"url(#p855cd311b9)\">\n",
       "     <use xlink:href=\"#C0_0_74250d15fe\" x=\"763.78239\" y=\"291.831889\" style=\"fill-opacity: 0.180392\"/>\n",
       "    </g>\n",
       "    <g clip-path=\"url(#p855cd311b9)\">\n",
       "     <use xlink:href=\"#C0_0_74250d15fe\" x=\"763.78239\" y=\"269.417143\" style=\"fill-opacity: 0.180392\"/>\n",
       "    </g>\n",
       "    <g clip-path=\"url(#p855cd311b9)\">\n",
       "     <use xlink:href=\"#C0_0_74250d15fe\" x=\"763.78239\" y=\"247.002396\" style=\"stroke: #000000\"/>\n",
       "    </g>\n",
       "    <g clip-path=\"url(#p855cd311b9)\">\n",
       "     <use xlink:href=\"#C0_0_74250d15fe\" x=\"763.78239\" y=\"224.58765\" style=\"fill-opacity: 0.180392\"/>\n",
       "    </g>\n",
       "    <g clip-path=\"url(#p855cd311b9)\">\n",
       "     <use xlink:href=\"#C0_0_74250d15fe\" x=\"763.78239\" y=\"202.172903\" style=\"fill-opacity: 0.180392\"/>\n",
       "    </g>\n",
       "    <g clip-path=\"url(#p855cd311b9)\">\n",
       "     <use xlink:href=\"#C0_0_74250d15fe\" x=\"763.78239\" y=\"179.758157\" style=\"fill-opacity: 0.180392\"/>\n",
       "    </g>\n",
       "    <g clip-path=\"url(#p855cd311b9)\">\n",
       "     <use xlink:href=\"#C0_0_74250d15fe\" x=\"788.573907\" y=\"381.490876\" style=\"stroke: #000000\"/>\n",
       "    </g>\n",
       "    <g clip-path=\"url(#p855cd311b9)\">\n",
       "     <use xlink:href=\"#C0_0_74250d15fe\" x=\"788.573907\" y=\"359.076129\" style=\"fill-opacity: 0.180392\"/>\n",
       "    </g>\n",
       "    <g clip-path=\"url(#p855cd311b9)\">\n",
       "     <use xlink:href=\"#C0_0_74250d15fe\" x=\"788.573907\" y=\"336.661382\" style=\"fill-opacity: 0.180392\"/>\n",
       "    </g>\n",
       "    <g clip-path=\"url(#p855cd311b9)\">\n",
       "     <use xlink:href=\"#C0_0_74250d15fe\" x=\"788.573907\" y=\"314.246636\" style=\"fill-opacity: 0.180392\"/>\n",
       "    </g>\n",
       "    <g clip-path=\"url(#p855cd311b9)\">\n",
       "     <use xlink:href=\"#C0_0_74250d15fe\" x=\"788.573907\" y=\"291.831889\" style=\"fill-opacity: 0.180392\"/>\n",
       "    </g>\n",
       "    <g clip-path=\"url(#p855cd311b9)\">\n",
       "     <use xlink:href=\"#C0_0_74250d15fe\" x=\"788.573907\" y=\"269.417143\" style=\"stroke: #000000\"/>\n",
       "    </g>\n",
       "    <g clip-path=\"url(#p855cd311b9)\">\n",
       "     <use xlink:href=\"#C0_0_74250d15fe\" x=\"788.573907\" y=\"247.002396\" style=\"stroke: #000000\"/>\n",
       "    </g>\n",
       "    <g clip-path=\"url(#p855cd311b9)\">\n",
       "     <use xlink:href=\"#C0_0_74250d15fe\" x=\"788.573907\" y=\"224.58765\" style=\"fill-opacity: 0.180392\"/>\n",
       "    </g>\n",
       "    <g clip-path=\"url(#p855cd311b9)\">\n",
       "     <use xlink:href=\"#C0_0_74250d15fe\" x=\"788.573907\" y=\"202.172903\" style=\"fill-opacity: 0.180392\"/>\n",
       "    </g>\n",
       "    <g clip-path=\"url(#p855cd311b9)\">\n",
       "     <use xlink:href=\"#C0_0_74250d15fe\" x=\"788.573907\" y=\"179.758157\" style=\"fill-opacity: 0.180392\"/>\n",
       "    </g>\n",
       "    <g clip-path=\"url(#p855cd311b9)\">\n",
       "     <use xlink:href=\"#C0_0_74250d15fe\" x=\"813.365424\" y=\"381.490876\" style=\"fill-opacity: 0.180392\"/>\n",
       "    </g>\n",
       "    <g clip-path=\"url(#p855cd311b9)\">\n",
       "     <use xlink:href=\"#C0_0_74250d15fe\" x=\"813.365424\" y=\"359.076129\" style=\"stroke: #000000\"/>\n",
       "    </g>\n",
       "    <g clip-path=\"url(#p855cd311b9)\">\n",
       "     <use xlink:href=\"#C0_0_74250d15fe\" x=\"813.365424\" y=\"336.661382\" style=\"fill-opacity: 0.180392\"/>\n",
       "    </g>\n",
       "    <g clip-path=\"url(#p855cd311b9)\">\n",
       "     <use xlink:href=\"#C0_0_74250d15fe\" x=\"813.365424\" y=\"314.246636\" style=\"stroke: #000000\"/>\n",
       "    </g>\n",
       "    <g clip-path=\"url(#p855cd311b9)\">\n",
       "     <use xlink:href=\"#C0_0_74250d15fe\" x=\"813.365424\" y=\"291.831889\" style=\"fill-opacity: 0.180392\"/>\n",
       "    </g>\n",
       "    <g clip-path=\"url(#p855cd311b9)\">\n",
       "     <use xlink:href=\"#C0_0_74250d15fe\" x=\"813.365424\" y=\"269.417143\" style=\"fill-opacity: 0.180392\"/>\n",
       "    </g>\n",
       "    <g clip-path=\"url(#p855cd311b9)\">\n",
       "     <use xlink:href=\"#C0_0_74250d15fe\" x=\"813.365424\" y=\"247.002396\" style=\"fill-opacity: 0.180392\"/>\n",
       "    </g>\n",
       "    <g clip-path=\"url(#p855cd311b9)\">\n",
       "     <use xlink:href=\"#C0_0_74250d15fe\" x=\"813.365424\" y=\"224.58765\" style=\"stroke: #000000\"/>\n",
       "    </g>\n",
       "    <g clip-path=\"url(#p855cd311b9)\">\n",
       "     <use xlink:href=\"#C0_0_74250d15fe\" x=\"813.365424\" y=\"202.172903\" style=\"fill-opacity: 0.180392\"/>\n",
       "    </g>\n",
       "    <g clip-path=\"url(#p855cd311b9)\">\n",
       "     <use xlink:href=\"#C0_0_74250d15fe\" x=\"813.365424\" y=\"179.758157\" style=\"fill-opacity: 0.180392\"/>\n",
       "    </g>\n",
       "    <g clip-path=\"url(#p855cd311b9)\">\n",
       "     <use xlink:href=\"#C0_0_74250d15fe\" x=\"838.156941\" y=\"381.490876\" style=\"fill-opacity: 0.180392\"/>\n",
       "    </g>\n",
       "    <g clip-path=\"url(#p855cd311b9)\">\n",
       "     <use xlink:href=\"#C0_0_74250d15fe\" x=\"838.156941\" y=\"359.076129\" style=\"fill-opacity: 0.180392\"/>\n",
       "    </g>\n",
       "    <g clip-path=\"url(#p855cd311b9)\">\n",
       "     <use xlink:href=\"#C0_0_74250d15fe\" x=\"838.156941\" y=\"336.661382\" style=\"stroke: #000000\"/>\n",
       "    </g>\n",
       "    <g clip-path=\"url(#p855cd311b9)\">\n",
       "     <use xlink:href=\"#C0_0_74250d15fe\" x=\"838.156941\" y=\"314.246636\" style=\"fill-opacity: 0.180392\"/>\n",
       "    </g>\n",
       "    <g clip-path=\"url(#p855cd311b9)\">\n",
       "     <use xlink:href=\"#C0_0_74250d15fe\" x=\"838.156941\" y=\"291.831889\" style=\"stroke: #000000\"/>\n",
       "    </g>\n",
       "    <g clip-path=\"url(#p855cd311b9)\">\n",
       "     <use xlink:href=\"#C0_0_74250d15fe\" x=\"838.156941\" y=\"269.417143\" style=\"fill-opacity: 0.180392\"/>\n",
       "    </g>\n",
       "    <g clip-path=\"url(#p855cd311b9)\">\n",
       "     <use xlink:href=\"#C0_0_74250d15fe\" x=\"838.156941\" y=\"247.002396\" style=\"fill-opacity: 0.180392\"/>\n",
       "    </g>\n",
       "    <g clip-path=\"url(#p855cd311b9)\">\n",
       "     <use xlink:href=\"#C0_0_74250d15fe\" x=\"838.156941\" y=\"224.58765\" style=\"stroke: #000000\"/>\n",
       "    </g>\n",
       "    <g clip-path=\"url(#p855cd311b9)\">\n",
       "     <use xlink:href=\"#C0_0_74250d15fe\" x=\"838.156941\" y=\"202.172903\" style=\"fill-opacity: 0.180392\"/>\n",
       "    </g>\n",
       "    <g clip-path=\"url(#p855cd311b9)\">\n",
       "     <use xlink:href=\"#C0_0_74250d15fe\" x=\"838.156941\" y=\"179.758157\" style=\"fill-opacity: 0.180392\"/>\n",
       "    </g>\n",
       "    <g clip-path=\"url(#p855cd311b9)\">\n",
       "     <use xlink:href=\"#C0_0_74250d15fe\" x=\"862.948457\" y=\"381.490876\" style=\"fill-opacity: 0.180392\"/>\n",
       "    </g>\n",
       "    <g clip-path=\"url(#p855cd311b9)\">\n",
       "     <use xlink:href=\"#C0_0_74250d15fe\" x=\"862.948457\" y=\"359.076129\" style=\"fill-opacity: 0.180392\"/>\n",
       "    </g>\n",
       "    <g clip-path=\"url(#p855cd311b9)\">\n",
       "     <use xlink:href=\"#C0_0_74250d15fe\" x=\"862.948457\" y=\"336.661382\" style=\"fill-opacity: 0.180392\"/>\n",
       "    </g>\n",
       "    <g clip-path=\"url(#p855cd311b9)\">\n",
       "     <use xlink:href=\"#C0_0_74250d15fe\" x=\"862.948457\" y=\"314.246636\" style=\"stroke: #000000\"/>\n",
       "    </g>\n",
       "    <g clip-path=\"url(#p855cd311b9)\">\n",
       "     <use xlink:href=\"#C0_0_74250d15fe\" x=\"862.948457\" y=\"291.831889\" style=\"stroke: #000000\"/>\n",
       "    </g>\n",
       "    <g clip-path=\"url(#p855cd311b9)\">\n",
       "     <use xlink:href=\"#C0_0_74250d15fe\" x=\"862.948457\" y=\"269.417143\" style=\"fill-opacity: 0.180392\"/>\n",
       "    </g>\n",
       "    <g clip-path=\"url(#p855cd311b9)\">\n",
       "     <use xlink:href=\"#C0_0_74250d15fe\" x=\"862.948457\" y=\"247.002396\" style=\"fill-opacity: 0.180392\"/>\n",
       "    </g>\n",
       "    <g clip-path=\"url(#p855cd311b9)\">\n",
       "     <use xlink:href=\"#C0_0_74250d15fe\" x=\"862.948457\" y=\"224.58765\" style=\"stroke: #000000\"/>\n",
       "    </g>\n",
       "    <g clip-path=\"url(#p855cd311b9)\">\n",
       "     <use xlink:href=\"#C0_0_74250d15fe\" x=\"862.948457\" y=\"202.172903\" style=\"fill-opacity: 0.180392\"/>\n",
       "    </g>\n",
       "    <g clip-path=\"url(#p855cd311b9)\">\n",
       "     <use xlink:href=\"#C0_0_74250d15fe\" x=\"862.948457\" y=\"179.758157\" style=\"fill-opacity: 0.180392\"/>\n",
       "    </g>\n",
       "    <g clip-path=\"url(#p855cd311b9)\">\n",
       "     <use xlink:href=\"#C0_0_74250d15fe\" x=\"887.739974\" y=\"381.490876\" style=\"fill-opacity: 0.180392\"/>\n",
       "    </g>\n",
       "    <g clip-path=\"url(#p855cd311b9)\">\n",
       "     <use xlink:href=\"#C0_0_74250d15fe\" x=\"887.739974\" y=\"359.076129\" style=\"fill-opacity: 0.180392\"/>\n",
       "    </g>\n",
       "    <g clip-path=\"url(#p855cd311b9)\">\n",
       "     <use xlink:href=\"#C0_0_74250d15fe\" x=\"887.739974\" y=\"336.661382\" style=\"fill-opacity: 0.180392\"/>\n",
       "    </g>\n",
       "    <g clip-path=\"url(#p855cd311b9)\">\n",
       "     <use xlink:href=\"#C0_0_74250d15fe\" x=\"887.739974\" y=\"314.246636\" style=\"stroke: #000000\"/>\n",
       "    </g>\n",
       "    <g clip-path=\"url(#p855cd311b9)\">\n",
       "     <use xlink:href=\"#C0_0_74250d15fe\" x=\"887.739974\" y=\"291.831889\" style=\"stroke: #000000\"/>\n",
       "    </g>\n",
       "    <g clip-path=\"url(#p855cd311b9)\">\n",
       "     <use xlink:href=\"#C0_0_74250d15fe\" x=\"887.739974\" y=\"269.417143\" style=\"fill-opacity: 0.180392\"/>\n",
       "    </g>\n",
       "    <g clip-path=\"url(#p855cd311b9)\">\n",
       "     <use xlink:href=\"#C0_0_74250d15fe\" x=\"887.739974\" y=\"247.002396\" style=\"fill-opacity: 0.180392\"/>\n",
       "    </g>\n",
       "    <g clip-path=\"url(#p855cd311b9)\">\n",
       "     <use xlink:href=\"#C0_0_74250d15fe\" x=\"887.739974\" y=\"224.58765\" style=\"fill-opacity: 0.180392\"/>\n",
       "    </g>\n",
       "    <g clip-path=\"url(#p855cd311b9)\">\n",
       "     <use xlink:href=\"#C0_0_74250d15fe\" x=\"887.739974\" y=\"202.172903\" style=\"stroke: #000000\"/>\n",
       "    </g>\n",
       "    <g clip-path=\"url(#p855cd311b9)\">\n",
       "     <use xlink:href=\"#C0_0_74250d15fe\" x=\"887.739974\" y=\"179.758157\" style=\"fill-opacity: 0.180392\"/>\n",
       "    </g>\n",
       "    <g clip-path=\"url(#p855cd311b9)\">\n",
       "     <use xlink:href=\"#C0_0_74250d15fe\" x=\"912.531491\" y=\"381.490876\" style=\"fill-opacity: 0.180392\"/>\n",
       "    </g>\n",
       "    <g clip-path=\"url(#p855cd311b9)\">\n",
       "     <use xlink:href=\"#C0_0_74250d15fe\" x=\"912.531491\" y=\"359.076129\" style=\"fill-opacity: 0.180392\"/>\n",
       "    </g>\n",
       "    <g clip-path=\"url(#p855cd311b9)\">\n",
       "     <use xlink:href=\"#C0_0_74250d15fe\" x=\"912.531491\" y=\"336.661382\" style=\"fill-opacity: 0.180392\"/>\n",
       "    </g>\n",
       "    <g clip-path=\"url(#p855cd311b9)\">\n",
       "     <use xlink:href=\"#C0_0_74250d15fe\" x=\"912.531491\" y=\"314.246636\" style=\"stroke: #000000\"/>\n",
       "    </g>\n",
       "    <g clip-path=\"url(#p855cd311b9)\">\n",
       "     <use xlink:href=\"#C0_0_74250d15fe\" x=\"912.531491\" y=\"291.831889\" style=\"fill-opacity: 0.180392\"/>\n",
       "    </g>\n",
       "    <g clip-path=\"url(#p855cd311b9)\">\n",
       "     <use xlink:href=\"#C0_0_74250d15fe\" x=\"912.531491\" y=\"269.417143\" style=\"fill-opacity: 0.180392\"/>\n",
       "    </g>\n",
       "    <g clip-path=\"url(#p855cd311b9)\">\n",
       "     <use xlink:href=\"#C0_0_74250d15fe\" x=\"912.531491\" y=\"247.002396\" style=\"fill-opacity: 0.180392\"/>\n",
       "    </g>\n",
       "    <g clip-path=\"url(#p855cd311b9)\">\n",
       "     <use xlink:href=\"#C0_0_74250d15fe\" x=\"912.531491\" y=\"224.58765\" style=\"stroke: #000000\"/>\n",
       "    </g>\n",
       "    <g clip-path=\"url(#p855cd311b9)\">\n",
       "     <use xlink:href=\"#C0_0_74250d15fe\" x=\"912.531491\" y=\"202.172903\" style=\"stroke: #000000\"/>\n",
       "    </g>\n",
       "    <g clip-path=\"url(#p855cd311b9)\">\n",
       "     <use xlink:href=\"#C0_0_74250d15fe\" x=\"912.531491\" y=\"179.758157\" style=\"fill-opacity: 0.180392\"/>\n",
       "    </g>\n",
       "    <g clip-path=\"url(#p855cd311b9)\">\n",
       "     <use xlink:href=\"#C0_0_74250d15fe\" x=\"937.323007\" y=\"381.490876\" style=\"fill-opacity: 0.180392\"/>\n",
       "    </g>\n",
       "    <g clip-path=\"url(#p855cd311b9)\">\n",
       "     <use xlink:href=\"#C0_0_74250d15fe\" x=\"937.323007\" y=\"359.076129\" style=\"fill-opacity: 0.180392\"/>\n",
       "    </g>\n",
       "    <g clip-path=\"url(#p855cd311b9)\">\n",
       "     <use xlink:href=\"#C0_0_74250d15fe\" x=\"937.323007\" y=\"336.661382\" style=\"fill-opacity: 0.180392\"/>\n",
       "    </g>\n",
       "    <g clip-path=\"url(#p855cd311b9)\">\n",
       "     <use xlink:href=\"#C0_0_74250d15fe\" x=\"937.323007\" y=\"314.246636\" style=\"stroke: #000000\"/>\n",
       "    </g>\n",
       "    <g clip-path=\"url(#p855cd311b9)\">\n",
       "     <use xlink:href=\"#C0_0_74250d15fe\" x=\"937.323007\" y=\"291.831889\" style=\"fill-opacity: 0.180392\"/>\n",
       "    </g>\n",
       "    <g clip-path=\"url(#p855cd311b9)\">\n",
       "     <use xlink:href=\"#C0_0_74250d15fe\" x=\"937.323007\" y=\"269.417143\" style=\"fill-opacity: 0.180392\"/>\n",
       "    </g>\n",
       "    <g clip-path=\"url(#p855cd311b9)\">\n",
       "     <use xlink:href=\"#C0_0_74250d15fe\" x=\"937.323007\" y=\"247.002396\" style=\"fill-opacity: 0.180392\"/>\n",
       "    </g>\n",
       "    <g clip-path=\"url(#p855cd311b9)\">\n",
       "     <use xlink:href=\"#C0_0_74250d15fe\" x=\"937.323007\" y=\"224.58765\" style=\"stroke: #000000\"/>\n",
       "    </g>\n",
       "    <g clip-path=\"url(#p855cd311b9)\">\n",
       "     <use xlink:href=\"#C0_0_74250d15fe\" x=\"937.323007\" y=\"202.172903\" style=\"fill-opacity: 0.180392\"/>\n",
       "    </g>\n",
       "    <g clip-path=\"url(#p855cd311b9)\">\n",
       "     <use xlink:href=\"#C0_0_74250d15fe\" x=\"937.323007\" y=\"179.758157\" style=\"stroke: #000000\"/>\n",
       "    </g>\n",
       "    <g clip-path=\"url(#p855cd311b9)\">\n",
       "     <use xlink:href=\"#C0_0_74250d15fe\" x=\"962.114524\" y=\"381.490876\" style=\"fill-opacity: 0.180392\"/>\n",
       "    </g>\n",
       "    <g clip-path=\"url(#p855cd311b9)\">\n",
       "     <use xlink:href=\"#C0_0_74250d15fe\" x=\"962.114524\" y=\"359.076129\" style=\"fill-opacity: 0.180392\"/>\n",
       "    </g>\n",
       "    <g clip-path=\"url(#p855cd311b9)\">\n",
       "     <use xlink:href=\"#C0_0_74250d15fe\" x=\"962.114524\" y=\"336.661382\" style=\"fill-opacity: 0.180392\"/>\n",
       "    </g>\n",
       "    <g clip-path=\"url(#p855cd311b9)\">\n",
       "     <use xlink:href=\"#C0_0_74250d15fe\" x=\"962.114524\" y=\"314.246636\" style=\"stroke: #000000\"/>\n",
       "    </g>\n",
       "    <g clip-path=\"url(#p855cd311b9)\">\n",
       "     <use xlink:href=\"#C0_0_74250d15fe\" x=\"962.114524\" y=\"291.831889\" style=\"fill-opacity: 0.180392\"/>\n",
       "    </g>\n",
       "    <g clip-path=\"url(#p855cd311b9)\">\n",
       "     <use xlink:href=\"#C0_0_74250d15fe\" x=\"962.114524\" y=\"269.417143\" style=\"fill-opacity: 0.180392\"/>\n",
       "    </g>\n",
       "    <g clip-path=\"url(#p855cd311b9)\">\n",
       "     <use xlink:href=\"#C0_0_74250d15fe\" x=\"962.114524\" y=\"247.002396\" style=\"fill-opacity: 0.180392\"/>\n",
       "    </g>\n",
       "    <g clip-path=\"url(#p855cd311b9)\">\n",
       "     <use xlink:href=\"#C0_0_74250d15fe\" x=\"962.114524\" y=\"224.58765\" style=\"fill-opacity: 0.180392\"/>\n",
       "    </g>\n",
       "    <g clip-path=\"url(#p855cd311b9)\">\n",
       "     <use xlink:href=\"#C0_0_74250d15fe\" x=\"962.114524\" y=\"202.172903\" style=\"stroke: #000000\"/>\n",
       "    </g>\n",
       "    <g clip-path=\"url(#p855cd311b9)\">\n",
       "     <use xlink:href=\"#C0_0_74250d15fe\" x=\"962.114524\" y=\"179.758157\" style=\"stroke: #000000\"/>\n",
       "    </g>\n",
       "    <g clip-path=\"url(#p855cd311b9)\">\n",
       "     <use xlink:href=\"#C0_0_74250d15fe\" x=\"986.906041\" y=\"381.490876\" style=\"stroke: #000000\"/>\n",
       "    </g>\n",
       "    <g clip-path=\"url(#p855cd311b9)\">\n",
       "     <use xlink:href=\"#C0_0_74250d15fe\" x=\"986.906041\" y=\"359.076129\" style=\"stroke: #000000\"/>\n",
       "    </g>\n",
       "    <g clip-path=\"url(#p855cd311b9)\">\n",
       "     <use xlink:href=\"#C0_0_74250d15fe\" x=\"986.906041\" y=\"336.661382\" style=\"stroke: #000000\"/>\n",
       "    </g>\n",
       "    <g clip-path=\"url(#p855cd311b9)\">\n",
       "     <use xlink:href=\"#C0_0_74250d15fe\" x=\"986.906041\" y=\"314.246636\" style=\"fill-opacity: 0.180392\"/>\n",
       "    </g>\n",
       "    <g clip-path=\"url(#p855cd311b9)\">\n",
       "     <use xlink:href=\"#C0_0_74250d15fe\" x=\"986.906041\" y=\"291.831889\" style=\"fill-opacity: 0.180392\"/>\n",
       "    </g>\n",
       "    <g clip-path=\"url(#p855cd311b9)\">\n",
       "     <use xlink:href=\"#C0_0_74250d15fe\" x=\"986.906041\" y=\"269.417143\" style=\"stroke: #000000\"/>\n",
       "    </g>\n",
       "    <g clip-path=\"url(#p855cd311b9)\">\n",
       "     <use xlink:href=\"#C0_0_74250d15fe\" x=\"986.906041\" y=\"247.002396\" style=\"fill-opacity: 0.180392\"/>\n",
       "    </g>\n",
       "    <g clip-path=\"url(#p855cd311b9)\">\n",
       "     <use xlink:href=\"#C0_0_74250d15fe\" x=\"986.906041\" y=\"224.58765\" style=\"fill-opacity: 0.180392\"/>\n",
       "    </g>\n",
       "    <g clip-path=\"url(#p855cd311b9)\">\n",
       "     <use xlink:href=\"#C0_0_74250d15fe\" x=\"986.906041\" y=\"202.172903\" style=\"fill-opacity: 0.180392\"/>\n",
       "    </g>\n",
       "    <g clip-path=\"url(#p855cd311b9)\">\n",
       "     <use xlink:href=\"#C0_0_74250d15fe\" x=\"986.906041\" y=\"179.758157\" style=\"fill-opacity: 0.180392\"/>\n",
       "    </g>\n",
       "    <g clip-path=\"url(#p855cd311b9)\">\n",
       "     <use xlink:href=\"#C0_0_74250d15fe\" x=\"1011.697558\" y=\"381.490876\" style=\"stroke: #000000\"/>\n",
       "    </g>\n",
       "    <g clip-path=\"url(#p855cd311b9)\">\n",
       "     <use xlink:href=\"#C0_0_74250d15fe\" x=\"1011.697558\" y=\"359.076129\" style=\"stroke: #000000\"/>\n",
       "    </g>\n",
       "    <g clip-path=\"url(#p855cd311b9)\">\n",
       "     <use xlink:href=\"#C0_0_74250d15fe\" x=\"1011.697558\" y=\"336.661382\" style=\"stroke: #000000\"/>\n",
       "    </g>\n",
       "    <g clip-path=\"url(#p855cd311b9)\">\n",
       "     <use xlink:href=\"#C0_0_74250d15fe\" x=\"1011.697558\" y=\"314.246636\" style=\"fill-opacity: 0.180392\"/>\n",
       "    </g>\n",
       "    <g clip-path=\"url(#p855cd311b9)\">\n",
       "     <use xlink:href=\"#C0_0_74250d15fe\" x=\"1011.697558\" y=\"291.831889\" style=\"fill-opacity: 0.180392\"/>\n",
       "    </g>\n",
       "    <g clip-path=\"url(#p855cd311b9)\">\n",
       "     <use xlink:href=\"#C0_0_74250d15fe\" x=\"1011.697558\" y=\"269.417143\" style=\"fill-opacity: 0.180392\"/>\n",
       "    </g>\n",
       "    <g clip-path=\"url(#p855cd311b9)\">\n",
       "     <use xlink:href=\"#C0_0_74250d15fe\" x=\"1011.697558\" y=\"247.002396\" style=\"stroke: #000000\"/>\n",
       "    </g>\n",
       "    <g clip-path=\"url(#p855cd311b9)\">\n",
       "     <use xlink:href=\"#C0_0_74250d15fe\" x=\"1011.697558\" y=\"224.58765\" style=\"fill-opacity: 0.180392\"/>\n",
       "    </g>\n",
       "    <g clip-path=\"url(#p855cd311b9)\">\n",
       "     <use xlink:href=\"#C0_0_74250d15fe\" x=\"1011.697558\" y=\"202.172903\" style=\"fill-opacity: 0.180392\"/>\n",
       "    </g>\n",
       "    <g clip-path=\"url(#p855cd311b9)\">\n",
       "     <use xlink:href=\"#C0_0_74250d15fe\" x=\"1011.697558\" y=\"179.758157\" style=\"fill-opacity: 0.180392\"/>\n",
       "    </g>\n",
       "    <g clip-path=\"url(#p855cd311b9)\">\n",
       "     <use xlink:href=\"#C0_0_74250d15fe\" x=\"1036.489074\" y=\"381.490876\" style=\"stroke: #000000\"/>\n",
       "    </g>\n",
       "    <g clip-path=\"url(#p855cd311b9)\">\n",
       "     <use xlink:href=\"#C0_0_74250d15fe\" x=\"1036.489074\" y=\"359.076129\" style=\"stroke: #000000\"/>\n",
       "    </g>\n",
       "    <g clip-path=\"url(#p855cd311b9)\">\n",
       "     <use xlink:href=\"#C0_0_74250d15fe\" x=\"1036.489074\" y=\"336.661382\" style=\"fill-opacity: 0.180392\"/>\n",
       "    </g>\n",
       "    <g clip-path=\"url(#p855cd311b9)\">\n",
       "     <use xlink:href=\"#C0_0_74250d15fe\" x=\"1036.489074\" y=\"314.246636\" style=\"fill-opacity: 0.180392\"/>\n",
       "    </g>\n",
       "    <g clip-path=\"url(#p855cd311b9)\">\n",
       "     <use xlink:href=\"#C0_0_74250d15fe\" x=\"1036.489074\" y=\"291.831889\" style=\"fill-opacity: 0.180392\"/>\n",
       "    </g>\n",
       "    <g clip-path=\"url(#p855cd311b9)\">\n",
       "     <use xlink:href=\"#C0_0_74250d15fe\" x=\"1036.489074\" y=\"269.417143\" style=\"stroke: #000000\"/>\n",
       "    </g>\n",
       "    <g clip-path=\"url(#p855cd311b9)\">\n",
       "     <use xlink:href=\"#C0_0_74250d15fe\" x=\"1036.489074\" y=\"247.002396\" style=\"stroke: #000000\"/>\n",
       "    </g>\n",
       "    <g clip-path=\"url(#p855cd311b9)\">\n",
       "     <use xlink:href=\"#C0_0_74250d15fe\" x=\"1036.489074\" y=\"224.58765\" style=\"fill-opacity: 0.180392\"/>\n",
       "    </g>\n",
       "    <g clip-path=\"url(#p855cd311b9)\">\n",
       "     <use xlink:href=\"#C0_0_74250d15fe\" x=\"1036.489074\" y=\"202.172903\" style=\"fill-opacity: 0.180392\"/>\n",
       "    </g>\n",
       "    <g clip-path=\"url(#p855cd311b9)\">\n",
       "     <use xlink:href=\"#C0_0_74250d15fe\" x=\"1036.489074\" y=\"179.758157\" style=\"fill-opacity: 0.180392\"/>\n",
       "    </g>\n",
       "    <g clip-path=\"url(#p855cd311b9)\">\n",
       "     <use xlink:href=\"#C0_0_74250d15fe\" x=\"1061.280591\" y=\"381.490876\" style=\"stroke: #000000\"/>\n",
       "    </g>\n",
       "    <g clip-path=\"url(#p855cd311b9)\">\n",
       "     <use xlink:href=\"#C0_0_74250d15fe\" x=\"1061.280591\" y=\"359.076129\" style=\"fill-opacity: 0.180392\"/>\n",
       "    </g>\n",
       "    <g clip-path=\"url(#p855cd311b9)\">\n",
       "     <use xlink:href=\"#C0_0_74250d15fe\" x=\"1061.280591\" y=\"336.661382\" style=\"stroke: #000000\"/>\n",
       "    </g>\n",
       "    <g clip-path=\"url(#p855cd311b9)\">\n",
       "     <use xlink:href=\"#C0_0_74250d15fe\" x=\"1061.280591\" y=\"314.246636\" style=\"fill-opacity: 0.180392\"/>\n",
       "    </g>\n",
       "    <g clip-path=\"url(#p855cd311b9)\">\n",
       "     <use xlink:href=\"#C0_0_74250d15fe\" x=\"1061.280591\" y=\"291.831889\" style=\"fill-opacity: 0.180392\"/>\n",
       "    </g>\n",
       "    <g clip-path=\"url(#p855cd311b9)\">\n",
       "     <use xlink:href=\"#C0_0_74250d15fe\" x=\"1061.280591\" y=\"269.417143\" style=\"stroke: #000000\"/>\n",
       "    </g>\n",
       "    <g clip-path=\"url(#p855cd311b9)\">\n",
       "     <use xlink:href=\"#C0_0_74250d15fe\" x=\"1061.280591\" y=\"247.002396\" style=\"stroke: #000000\"/>\n",
       "    </g>\n",
       "    <g clip-path=\"url(#p855cd311b9)\">\n",
       "     <use xlink:href=\"#C0_0_74250d15fe\" x=\"1061.280591\" y=\"224.58765\" style=\"fill-opacity: 0.180392\"/>\n",
       "    </g>\n",
       "    <g clip-path=\"url(#p855cd311b9)\">\n",
       "     <use xlink:href=\"#C0_0_74250d15fe\" x=\"1061.280591\" y=\"202.172903\" style=\"fill-opacity: 0.180392\"/>\n",
       "    </g>\n",
       "    <g clip-path=\"url(#p855cd311b9)\">\n",
       "     <use xlink:href=\"#C0_0_74250d15fe\" x=\"1061.280591\" y=\"179.758157\" style=\"fill-opacity: 0.180392\"/>\n",
       "    </g>\n",
       "    <g clip-path=\"url(#p855cd311b9)\">\n",
       "     <use xlink:href=\"#C0_0_74250d15fe\" x=\"1086.072108\" y=\"381.490876\" style=\"stroke: #000000\"/>\n",
       "    </g>\n",
       "    <g clip-path=\"url(#p855cd311b9)\">\n",
       "     <use xlink:href=\"#C0_0_74250d15fe\" x=\"1086.072108\" y=\"359.076129\" style=\"fill-opacity: 0.180392\"/>\n",
       "    </g>\n",
       "    <g clip-path=\"url(#p855cd311b9)\">\n",
       "     <use xlink:href=\"#C0_0_74250d15fe\" x=\"1086.072108\" y=\"336.661382\" style=\"stroke: #000000\"/>\n",
       "    </g>\n",
       "    <g clip-path=\"url(#p855cd311b9)\">\n",
       "     <use xlink:href=\"#C0_0_74250d15fe\" x=\"1086.072108\" y=\"314.246636\" style=\"stroke: #000000\"/>\n",
       "    </g>\n",
       "    <g clip-path=\"url(#p855cd311b9)\">\n",
       "     <use xlink:href=\"#C0_0_74250d15fe\" x=\"1086.072108\" y=\"291.831889\" style=\"fill-opacity: 0.180392\"/>\n",
       "    </g>\n",
       "    <g clip-path=\"url(#p855cd311b9)\">\n",
       "     <use xlink:href=\"#C0_0_74250d15fe\" x=\"1086.072108\" y=\"269.417143\" style=\"fill-opacity: 0.180392\"/>\n",
       "    </g>\n",
       "    <g clip-path=\"url(#p855cd311b9)\">\n",
       "     <use xlink:href=\"#C0_0_74250d15fe\" x=\"1086.072108\" y=\"247.002396\" style=\"fill-opacity: 0.180392\"/>\n",
       "    </g>\n",
       "    <g clip-path=\"url(#p855cd311b9)\">\n",
       "     <use xlink:href=\"#C0_0_74250d15fe\" x=\"1086.072108\" y=\"224.58765\" style=\"stroke: #000000\"/>\n",
       "    </g>\n",
       "    <g clip-path=\"url(#p855cd311b9)\">\n",
       "     <use xlink:href=\"#C0_0_74250d15fe\" x=\"1086.072108\" y=\"202.172903\" style=\"fill-opacity: 0.180392\"/>\n",
       "    </g>\n",
       "    <g clip-path=\"url(#p855cd311b9)\">\n",
       "     <use xlink:href=\"#C0_0_74250d15fe\" x=\"1086.072108\" y=\"179.758157\" style=\"fill-opacity: 0.180392\"/>\n",
       "    </g>\n",
       "    <g clip-path=\"url(#p855cd311b9)\">\n",
       "     <use xlink:href=\"#C0_0_74250d15fe\" x=\"1110.863625\" y=\"381.490876\" style=\"fill-opacity: 0.180392\"/>\n",
       "    </g>\n",
       "    <g clip-path=\"url(#p855cd311b9)\">\n",
       "     <use xlink:href=\"#C0_0_74250d15fe\" x=\"1110.863625\" y=\"359.076129\" style=\"fill-opacity: 0.180392\"/>\n",
       "    </g>\n",
       "    <g clip-path=\"url(#p855cd311b9)\">\n",
       "     <use xlink:href=\"#C0_0_74250d15fe\" x=\"1110.863625\" y=\"336.661382\" style=\"stroke: #000000\"/>\n",
       "    </g>\n",
       "    <g clip-path=\"url(#p855cd311b9)\">\n",
       "     <use xlink:href=\"#C0_0_74250d15fe\" x=\"1110.863625\" y=\"314.246636\" style=\"stroke: #000000\"/>\n",
       "    </g>\n",
       "    <g clip-path=\"url(#p855cd311b9)\">\n",
       "     <use xlink:href=\"#C0_0_74250d15fe\" x=\"1110.863625\" y=\"291.831889\" style=\"stroke: #000000\"/>\n",
       "    </g>\n",
       "    <g clip-path=\"url(#p855cd311b9)\">\n",
       "     <use xlink:href=\"#C0_0_74250d15fe\" x=\"1110.863625\" y=\"269.417143\" style=\"fill-opacity: 0.180392\"/>\n",
       "    </g>\n",
       "    <g clip-path=\"url(#p855cd311b9)\">\n",
       "     <use xlink:href=\"#C0_0_74250d15fe\" x=\"1110.863625\" y=\"247.002396\" style=\"fill-opacity: 0.180392\"/>\n",
       "    </g>\n",
       "    <g clip-path=\"url(#p855cd311b9)\">\n",
       "     <use xlink:href=\"#C0_0_74250d15fe\" x=\"1110.863625\" y=\"224.58765\" style=\"stroke: #000000\"/>\n",
       "    </g>\n",
       "    <g clip-path=\"url(#p855cd311b9)\">\n",
       "     <use xlink:href=\"#C0_0_74250d15fe\" x=\"1110.863625\" y=\"202.172903\" style=\"fill-opacity: 0.180392\"/>\n",
       "    </g>\n",
       "    <g clip-path=\"url(#p855cd311b9)\">\n",
       "     <use xlink:href=\"#C0_0_74250d15fe\" x=\"1110.863625\" y=\"179.758157\" style=\"fill-opacity: 0.180392\"/>\n",
       "    </g>\n",
       "    <g clip-path=\"url(#p855cd311b9)\">\n",
       "     <use xlink:href=\"#C0_0_74250d15fe\" x=\"1135.655141\" y=\"381.490876\" style=\"fill-opacity: 0.180392\"/>\n",
       "    </g>\n",
       "    <g clip-path=\"url(#p855cd311b9)\">\n",
       "     <use xlink:href=\"#C0_0_74250d15fe\" x=\"1135.655141\" y=\"359.076129\" style=\"fill-opacity: 0.180392\"/>\n",
       "    </g>\n",
       "    <g clip-path=\"url(#p855cd311b9)\">\n",
       "     <use xlink:href=\"#C0_0_74250d15fe\" x=\"1135.655141\" y=\"336.661382\" style=\"stroke: #000000\"/>\n",
       "    </g>\n",
       "    <g clip-path=\"url(#p855cd311b9)\">\n",
       "     <use xlink:href=\"#C0_0_74250d15fe\" x=\"1135.655141\" y=\"314.246636\" style=\"stroke: #000000\"/>\n",
       "    </g>\n",
       "    <g clip-path=\"url(#p855cd311b9)\">\n",
       "     <use xlink:href=\"#C0_0_74250d15fe\" x=\"1135.655141\" y=\"291.831889\" style=\"stroke: #000000\"/>\n",
       "    </g>\n",
       "    <g clip-path=\"url(#p855cd311b9)\">\n",
       "     <use xlink:href=\"#C0_0_74250d15fe\" x=\"1135.655141\" y=\"269.417143\" style=\"fill-opacity: 0.180392\"/>\n",
       "    </g>\n",
       "    <g clip-path=\"url(#p855cd311b9)\">\n",
       "     <use xlink:href=\"#C0_0_74250d15fe\" x=\"1135.655141\" y=\"247.002396\" style=\"fill-opacity: 0.180392\"/>\n",
       "    </g>\n",
       "    <g clip-path=\"url(#p855cd311b9)\">\n",
       "     <use xlink:href=\"#C0_0_74250d15fe\" x=\"1135.655141\" y=\"224.58765\" style=\"fill-opacity: 0.180392\"/>\n",
       "    </g>\n",
       "    <g clip-path=\"url(#p855cd311b9)\">\n",
       "     <use xlink:href=\"#C0_0_74250d15fe\" x=\"1135.655141\" y=\"202.172903\" style=\"stroke: #000000\"/>\n",
       "    </g>\n",
       "    <g clip-path=\"url(#p855cd311b9)\">\n",
       "     <use xlink:href=\"#C0_0_74250d15fe\" x=\"1135.655141\" y=\"179.758157\" style=\"fill-opacity: 0.180392\"/>\n",
       "    </g>\n",
       "    <g clip-path=\"url(#p855cd311b9)\">\n",
       "     <use xlink:href=\"#C0_0_74250d15fe\" x=\"1160.446658\" y=\"381.490876\" style=\"fill-opacity: 0.180392\"/>\n",
       "    </g>\n",
       "    <g clip-path=\"url(#p855cd311b9)\">\n",
       "     <use xlink:href=\"#C0_0_74250d15fe\" x=\"1160.446658\" y=\"359.076129\" style=\"fill-opacity: 0.180392\"/>\n",
       "    </g>\n",
       "    <g clip-path=\"url(#p855cd311b9)\">\n",
       "     <use xlink:href=\"#C0_0_74250d15fe\" x=\"1160.446658\" y=\"336.661382\" style=\"fill-opacity: 0.180392\"/>\n",
       "    </g>\n",
       "    <g clip-path=\"url(#p855cd311b9)\">\n",
       "     <use xlink:href=\"#C0_0_74250d15fe\" x=\"1160.446658\" y=\"314.246636\" style=\"stroke: #000000\"/>\n",
       "    </g>\n",
       "    <g clip-path=\"url(#p855cd311b9)\">\n",
       "     <use xlink:href=\"#C0_0_74250d15fe\" x=\"1160.446658\" y=\"291.831889\" style=\"stroke: #000000\"/>\n",
       "    </g>\n",
       "    <g clip-path=\"url(#p855cd311b9)\">\n",
       "     <use xlink:href=\"#C0_0_74250d15fe\" x=\"1160.446658\" y=\"269.417143\" style=\"fill-opacity: 0.180392\"/>\n",
       "    </g>\n",
       "    <g clip-path=\"url(#p855cd311b9)\">\n",
       "     <use xlink:href=\"#C0_0_74250d15fe\" x=\"1160.446658\" y=\"247.002396\" style=\"fill-opacity: 0.180392\"/>\n",
       "    </g>\n",
       "    <g clip-path=\"url(#p855cd311b9)\">\n",
       "     <use xlink:href=\"#C0_0_74250d15fe\" x=\"1160.446658\" y=\"224.58765\" style=\"stroke: #000000\"/>\n",
       "    </g>\n",
       "    <g clip-path=\"url(#p855cd311b9)\">\n",
       "     <use xlink:href=\"#C0_0_74250d15fe\" x=\"1160.446658\" y=\"202.172903\" style=\"stroke: #000000\"/>\n",
       "    </g>\n",
       "    <g clip-path=\"url(#p855cd311b9)\">\n",
       "     <use xlink:href=\"#C0_0_74250d15fe\" x=\"1160.446658\" y=\"179.758157\" style=\"fill-opacity: 0.180392\"/>\n",
       "    </g>\n",
       "    <g clip-path=\"url(#p855cd311b9)\">\n",
       "     <use xlink:href=\"#C0_0_74250d15fe\" x=\"1185.238175\" y=\"381.490876\" style=\"fill-opacity: 0.180392\"/>\n",
       "    </g>\n",
       "    <g clip-path=\"url(#p855cd311b9)\">\n",
       "     <use xlink:href=\"#C0_0_74250d15fe\" x=\"1185.238175\" y=\"359.076129\" style=\"fill-opacity: 0.180392\"/>\n",
       "    </g>\n",
       "    <g clip-path=\"url(#p855cd311b9)\">\n",
       "     <use xlink:href=\"#C0_0_74250d15fe\" x=\"1185.238175\" y=\"336.661382\" style=\"fill-opacity: 0.180392\"/>\n",
       "    </g>\n",
       "    <g clip-path=\"url(#p855cd311b9)\">\n",
       "     <use xlink:href=\"#C0_0_74250d15fe\" x=\"1185.238175\" y=\"314.246636\" style=\"stroke: #000000\"/>\n",
       "    </g>\n",
       "    <g clip-path=\"url(#p855cd311b9)\">\n",
       "     <use xlink:href=\"#C0_0_74250d15fe\" x=\"1185.238175\" y=\"291.831889\" style=\"fill-opacity: 0.180392\"/>\n",
       "    </g>\n",
       "    <g clip-path=\"url(#p855cd311b9)\">\n",
       "     <use xlink:href=\"#C0_0_74250d15fe\" x=\"1185.238175\" y=\"269.417143\" style=\"fill-opacity: 0.180392\"/>\n",
       "    </g>\n",
       "    <g clip-path=\"url(#p855cd311b9)\">\n",
       "     <use xlink:href=\"#C0_0_74250d15fe\" x=\"1185.238175\" y=\"247.002396\" style=\"fill-opacity: 0.180392\"/>\n",
       "    </g>\n",
       "    <g clip-path=\"url(#p855cd311b9)\">\n",
       "     <use xlink:href=\"#C0_0_74250d15fe\" x=\"1185.238175\" y=\"224.58765\" style=\"stroke: #000000\"/>\n",
       "    </g>\n",
       "    <g clip-path=\"url(#p855cd311b9)\">\n",
       "     <use xlink:href=\"#C0_0_74250d15fe\" x=\"1185.238175\" y=\"202.172903\" style=\"stroke: #000000\"/>\n",
       "    </g>\n",
       "    <g clip-path=\"url(#p855cd311b9)\">\n",
       "     <use xlink:href=\"#C0_0_74250d15fe\" x=\"1185.238175\" y=\"179.758157\" style=\"stroke: #000000\"/>\n",
       "    </g>\n",
       "    <g clip-path=\"url(#p855cd311b9)\">\n",
       "     <use xlink:href=\"#C0_0_74250d15fe\" x=\"1210.029691\" y=\"381.490876\" style=\"stroke: #000000\"/>\n",
       "    </g>\n",
       "    <g clip-path=\"url(#p855cd311b9)\">\n",
       "     <use xlink:href=\"#C0_0_74250d15fe\" x=\"1210.029691\" y=\"359.076129\" style=\"stroke: #000000\"/>\n",
       "    </g>\n",
       "    <g clip-path=\"url(#p855cd311b9)\">\n",
       "     <use xlink:href=\"#C0_0_74250d15fe\" x=\"1210.029691\" y=\"336.661382\" style=\"stroke: #000000\"/>\n",
       "    </g>\n",
       "    <g clip-path=\"url(#p855cd311b9)\">\n",
       "     <use xlink:href=\"#C0_0_74250d15fe\" x=\"1210.029691\" y=\"314.246636\" style=\"fill-opacity: 0.180392\"/>\n",
       "    </g>\n",
       "    <g clip-path=\"url(#p855cd311b9)\">\n",
       "     <use xlink:href=\"#C0_0_74250d15fe\" x=\"1210.029691\" y=\"291.831889\" style=\"fill-opacity: 0.180392\"/>\n",
       "    </g>\n",
       "    <g clip-path=\"url(#p855cd311b9)\">\n",
       "     <use xlink:href=\"#C0_0_74250d15fe\" x=\"1210.029691\" y=\"269.417143\" style=\"stroke: #000000\"/>\n",
       "    </g>\n",
       "    <g clip-path=\"url(#p855cd311b9)\">\n",
       "     <use xlink:href=\"#C0_0_74250d15fe\" x=\"1210.029691\" y=\"247.002396\" style=\"stroke: #000000\"/>\n",
       "    </g>\n",
       "    <g clip-path=\"url(#p855cd311b9)\">\n",
       "     <use xlink:href=\"#C0_0_74250d15fe\" x=\"1210.029691\" y=\"224.58765\" style=\"fill-opacity: 0.180392\"/>\n",
       "    </g>\n",
       "    <g clip-path=\"url(#p855cd311b9)\">\n",
       "     <use xlink:href=\"#C0_0_74250d15fe\" x=\"1210.029691\" y=\"202.172903\" style=\"fill-opacity: 0.180392\"/>\n",
       "    </g>\n",
       "    <g clip-path=\"url(#p855cd311b9)\">\n",
       "     <use xlink:href=\"#C0_0_74250d15fe\" x=\"1210.029691\" y=\"179.758157\" style=\"fill-opacity: 0.180392\"/>\n",
       "    </g>\n",
       "    <g clip-path=\"url(#p855cd311b9)\">\n",
       "     <use xlink:href=\"#C0_0_74250d15fe\" x=\"1234.821208\" y=\"381.490876\" style=\"stroke: #000000\"/>\n",
       "    </g>\n",
       "    <g clip-path=\"url(#p855cd311b9)\">\n",
       "     <use xlink:href=\"#C0_0_74250d15fe\" x=\"1234.821208\" y=\"359.076129\" style=\"stroke: #000000\"/>\n",
       "    </g>\n",
       "    <g clip-path=\"url(#p855cd311b9)\">\n",
       "     <use xlink:href=\"#C0_0_74250d15fe\" x=\"1234.821208\" y=\"336.661382\" style=\"stroke: #000000\"/>\n",
       "    </g>\n",
       "    <g clip-path=\"url(#p855cd311b9)\">\n",
       "     <use xlink:href=\"#C0_0_74250d15fe\" x=\"1234.821208\" y=\"314.246636\" style=\"stroke: #000000\"/>\n",
       "    </g>\n",
       "    <g clip-path=\"url(#p855cd311b9)\">\n",
       "     <use xlink:href=\"#C0_0_74250d15fe\" x=\"1234.821208\" y=\"291.831889\" style=\"fill-opacity: 0.180392\"/>\n",
       "    </g>\n",
       "    <g clip-path=\"url(#p855cd311b9)\">\n",
       "     <use xlink:href=\"#C0_0_74250d15fe\" x=\"1234.821208\" y=\"269.417143\" style=\"fill-opacity: 0.180392\"/>\n",
       "    </g>\n",
       "    <g clip-path=\"url(#p855cd311b9)\">\n",
       "     <use xlink:href=\"#C0_0_74250d15fe\" x=\"1234.821208\" y=\"247.002396\" style=\"fill-opacity: 0.180392\"/>\n",
       "    </g>\n",
       "    <g clip-path=\"url(#p855cd311b9)\">\n",
       "     <use xlink:href=\"#C0_0_74250d15fe\" x=\"1234.821208\" y=\"224.58765\" style=\"stroke: #000000\"/>\n",
       "    </g>\n",
       "    <g clip-path=\"url(#p855cd311b9)\">\n",
       "     <use xlink:href=\"#C0_0_74250d15fe\" x=\"1234.821208\" y=\"202.172903\" style=\"fill-opacity: 0.180392\"/>\n",
       "    </g>\n",
       "    <g clip-path=\"url(#p855cd311b9)\">\n",
       "     <use xlink:href=\"#C0_0_74250d15fe\" x=\"1234.821208\" y=\"179.758157\" style=\"fill-opacity: 0.180392\"/>\n",
       "    </g>\n",
       "    <g clip-path=\"url(#p855cd311b9)\">\n",
       "     <use xlink:href=\"#C0_0_74250d15fe\" x=\"1259.612725\" y=\"381.490876\" style=\"fill-opacity: 0.180392\"/>\n",
       "    </g>\n",
       "    <g clip-path=\"url(#p855cd311b9)\">\n",
       "     <use xlink:href=\"#C0_0_74250d15fe\" x=\"1259.612725\" y=\"359.076129\" style=\"fill-opacity: 0.180392\"/>\n",
       "    </g>\n",
       "    <g clip-path=\"url(#p855cd311b9)\">\n",
       "     <use xlink:href=\"#C0_0_74250d15fe\" x=\"1259.612725\" y=\"336.661382\" style=\"stroke: #000000\"/>\n",
       "    </g>\n",
       "    <g clip-path=\"url(#p855cd311b9)\">\n",
       "     <use xlink:href=\"#C0_0_74250d15fe\" x=\"1259.612725\" y=\"314.246636\" style=\"stroke: #000000\"/>\n",
       "    </g>\n",
       "    <g clip-path=\"url(#p855cd311b9)\">\n",
       "     <use xlink:href=\"#C0_0_74250d15fe\" x=\"1259.612725\" y=\"291.831889\" style=\"stroke: #000000\"/>\n",
       "    </g>\n",
       "    <g clip-path=\"url(#p855cd311b9)\">\n",
       "     <use xlink:href=\"#C0_0_74250d15fe\" x=\"1259.612725\" y=\"269.417143\" style=\"fill-opacity: 0.180392\"/>\n",
       "    </g>\n",
       "    <g clip-path=\"url(#p855cd311b9)\">\n",
       "     <use xlink:href=\"#C0_0_74250d15fe\" x=\"1259.612725\" y=\"247.002396\" style=\"fill-opacity: 0.180392\"/>\n",
       "    </g>\n",
       "    <g clip-path=\"url(#p855cd311b9)\">\n",
       "     <use xlink:href=\"#C0_0_74250d15fe\" x=\"1259.612725\" y=\"224.58765\" style=\"stroke: #000000\"/>\n",
       "    </g>\n",
       "    <g clip-path=\"url(#p855cd311b9)\">\n",
       "     <use xlink:href=\"#C0_0_74250d15fe\" x=\"1259.612725\" y=\"202.172903\" style=\"stroke: #000000\"/>\n",
       "    </g>\n",
       "    <g clip-path=\"url(#p855cd311b9)\">\n",
       "     <use xlink:href=\"#C0_0_74250d15fe\" x=\"1259.612725\" y=\"179.758157\" style=\"fill-opacity: 0.180392\"/>\n",
       "    </g>\n",
       "    <g clip-path=\"url(#p855cd311b9)\">\n",
       "     <use xlink:href=\"#C0_0_74250d15fe\" x=\"1284.404242\" y=\"381.490876\" style=\"stroke: #000000\"/>\n",
       "    </g>\n",
       "    <g clip-path=\"url(#p855cd311b9)\">\n",
       "     <use xlink:href=\"#C0_0_74250d15fe\" x=\"1284.404242\" y=\"359.076129\" style=\"stroke: #000000\"/>\n",
       "    </g>\n",
       "    <g clip-path=\"url(#p855cd311b9)\">\n",
       "     <use xlink:href=\"#C0_0_74250d15fe\" x=\"1284.404242\" y=\"336.661382\" style=\"stroke: #000000\"/>\n",
       "    </g>\n",
       "    <g clip-path=\"url(#p855cd311b9)\">\n",
       "     <use xlink:href=\"#C0_0_74250d15fe\" x=\"1284.404242\" y=\"314.246636\" style=\"stroke: #000000\"/>\n",
       "    </g>\n",
       "    <g clip-path=\"url(#p855cd311b9)\">\n",
       "     <use xlink:href=\"#C0_0_74250d15fe\" x=\"1284.404242\" y=\"291.831889\" style=\"fill-opacity: 0.180392\"/>\n",
       "    </g>\n",
       "    <g clip-path=\"url(#p855cd311b9)\">\n",
       "     <use xlink:href=\"#C0_0_74250d15fe\" x=\"1284.404242\" y=\"269.417143\" style=\"stroke: #000000\"/>\n",
       "    </g>\n",
       "    <g clip-path=\"url(#p855cd311b9)\">\n",
       "     <use xlink:href=\"#C0_0_74250d15fe\" x=\"1284.404242\" y=\"247.002396\" style=\"stroke: #000000\"/>\n",
       "    </g>\n",
       "    <g clip-path=\"url(#p855cd311b9)\">\n",
       "     <use xlink:href=\"#C0_0_74250d15fe\" x=\"1284.404242\" y=\"224.58765\" style=\"stroke: #000000\"/>\n",
       "    </g>\n",
       "    <g clip-path=\"url(#p855cd311b9)\">\n",
       "     <use xlink:href=\"#C0_0_74250d15fe\" x=\"1284.404242\" y=\"202.172903\" style=\"fill-opacity: 0.180392\"/>\n",
       "    </g>\n",
       "    <g clip-path=\"url(#p855cd311b9)\">\n",
       "     <use xlink:href=\"#C0_0_74250d15fe\" x=\"1284.404242\" y=\"179.758157\" style=\"fill-opacity: 0.180392\"/>\n",
       "    </g>\n",
       "   </g>\n",
       "  </g>\n",
       "  <g id=\"axes_3\">\n",
       "   <g id=\"patch_12\">\n",
       "    <path d=\"M 8812.178761 387.094562 \n",
       "L 7.2 387.094562 \n",
       "L 7.2 375.887189 \n",
       "L 8812.178761 375.887189 \n",
       "z\n",
       "\" clip-path=\"url(#p229843cde5)\" style=\"stroke: #000000; stroke-linejoin: miter\"/>\n",
       "   </g>\n",
       "   <g id=\"patch_13\">\n",
       "    <path d=\"M 8812.178761 364.679816 \n",
       "L 12.709597 364.679816 \n",
       "L 12.709597 353.472442 \n",
       "L 8812.178761 353.472442 \n",
       "z\n",
       "\" clip-path=\"url(#p229843cde5)\" style=\"stroke: #000000; stroke-linejoin: miter\"/>\n",
       "   </g>\n",
       "   <g id=\"patch_14\">\n",
       "    <path d=\"M 8812.178761 342.265069 \n",
       "L 19.418257 342.265069 \n",
       "L 19.418257 331.057696 \n",
       "L 8812.178761 331.057696 \n",
       "z\n",
       "\" clip-path=\"url(#p229843cde5)\" style=\"stroke: #000000; stroke-linejoin: miter\"/>\n",
       "   </g>\n",
       "   <g id=\"patch_15\">\n",
       "    <path d=\"M 8812.178761 319.850323 \n",
       "L 19.610518 319.850323 \n",
       "L 19.610518 308.642949 \n",
       "L 8812.178761 308.642949 \n",
       "z\n",
       "\" clip-path=\"url(#p229843cde5)\" style=\"stroke: #000000; stroke-linejoin: miter\"/>\n",
       "   </g>\n",
       "   <g id=\"patch_16\">\n",
       "    <path d=\"M 8812.178761 297.435576 \n",
       "L 22.308854 297.435576 \n",
       "L 22.308854 286.228203 \n",
       "L 8812.178761 286.228203 \n",
       "z\n",
       "\" clip-path=\"url(#p229843cde5)\" style=\"stroke: #000000; stroke-linejoin: miter\"/>\n",
       "   </g>\n",
       "   <g id=\"patch_17\">\n",
       "    <path d=\"M 8812.178761 275.020829 \n",
       "L 24.055207 275.020829 \n",
       "L 24.055207 263.813456 \n",
       "L 8812.178761 263.813456 \n",
       "z\n",
       "\" clip-path=\"url(#p229843cde5)\" style=\"stroke: #000000; stroke-linejoin: miter\"/>\n",
       "   </g>\n",
       "   <g id=\"patch_18\">\n",
       "    <path d=\"M 8812.178761 252.606083 \n",
       "L 24.622832 252.606083 \n",
       "L 24.622832 241.39871 \n",
       "L 8812.178761 241.39871 \n",
       "z\n",
       "\" clip-path=\"url(#p229843cde5)\" style=\"stroke: #000000; stroke-linejoin: miter\"/>\n",
       "   </g>\n",
       "   <g id=\"patch_19\">\n",
       "    <path d=\"M 8812.178761 230.191336 \n",
       "L 28.280356 230.191336 \n",
       "L 28.280356 218.983963 \n",
       "L 8812.178761 218.983963 \n",
       "z\n",
       "\" clip-path=\"url(#p229843cde5)\" style=\"stroke: #000000; stroke-linejoin: miter\"/>\n",
       "   </g>\n",
       "   <g id=\"patch_20\">\n",
       "    <path d=\"M 8812.178761 207.77659 \n",
       "L 29.415081 207.77659 \n",
       "L 29.415081 196.569217 \n",
       "L 8812.178761 196.569217 \n",
       "z\n",
       "\" clip-path=\"url(#p229843cde5)\" style=\"stroke: #000000; stroke-linejoin: miter\"/>\n",
       "   </g>\n",
       "   <g id=\"patch_21\">\n",
       "    <path d=\"M 8812.178761 185.361843 \n",
       "L 40.418592 185.361843 \n",
       "L 40.418592 174.15447 \n",
       "L 8812.178761 174.15447 \n",
       "z\n",
       "\" clip-path=\"url(#p229843cde5)\" style=\"stroke: #000000; stroke-linejoin: miter\"/>\n",
       "   </g>\n",
       "   <g id=\"matplotlib.axis_4\">\n",
       "    <g id=\"xtick_1\">\n",
       "     <g id=\"line2d_11\">\n",
       "      <path d=\"M 52.812862 401.44 \n",
       "L 52.812862 159.809032 \n",
       "\" clip-path=\"url(#p229843cde5)\" style=\"fill: none; stroke: #b0b0b0; stroke-width: 0.8; stroke-linecap: square\"/>\n",
       "     </g>\n",
       "     <g id=\"line2d_12\">\n",
       "      <defs>\n",
       "       <path id=\"m9b4eec8a88\" d=\"M 0 0 \n",
       "L 0 3.5 \n",
       "\" style=\"stroke: #000000; stroke-width: 0.8\"/>\n",
       "      </defs>\n",
       "      <g>\n",
       "       <use xlink:href=\"#m9b4eec8a88\" x=\"52.812862\" y=\"401.44\" style=\"stroke: #000000; stroke-width: 0.8\"/>\n",
       "      </g>\n",
       "     </g>\n",
       "     <g id=\"text_11\">\n",
       "      <!-- $\\mathdefault{10^{0}}$ -->\n",
       "      <g transform=\"translate(44.012862 416.038437) scale(0.1 -0.1)\">\n",
       "       <defs>\n",
       "        <path id=\"DejaVuSans-31\" d=\"M 794 531 \n",
       "L 1825 531 \n",
       "L 1825 4091 \n",
       "L 703 3866 \n",
       "L 703 4441 \n",
       "L 1819 4666 \n",
       "L 2450 4666 \n",
       "L 2450 531 \n",
       "L 3481 531 \n",
       "L 3481 0 \n",
       "L 794 0 \n",
       "L 794 531 \n",
       "z\n",
       "\" transform=\"scale(0.015625)\"/>\n",
       "        <path id=\"DejaVuSans-30\" d=\"M 2034 4250 \n",
       "Q 1547 4250 1301 3770 \n",
       "Q 1056 3291 1056 2328 \n",
       "Q 1056 1369 1301 889 \n",
       "Q 1547 409 2034 409 \n",
       "Q 2525 409 2770 889 \n",
       "Q 3016 1369 3016 2328 \n",
       "Q 3016 3291 2770 3770 \n",
       "Q 2525 4250 2034 4250 \n",
       "z\n",
       "M 2034 4750 \n",
       "Q 2819 4750 3233 4129 \n",
       "Q 3647 3509 3647 2328 \n",
       "Q 3647 1150 3233 529 \n",
       "Q 2819 -91 2034 -91 \n",
       "Q 1250 -91 836 529 \n",
       "Q 422 1150 422 2328 \n",
       "Q 422 3509 836 4129 \n",
       "Q 1250 4750 2034 4750 \n",
       "z\n",
       "\" transform=\"scale(0.015625)\"/>\n",
       "       </defs>\n",
       "       <use xlink:href=\"#DejaVuSans-31\" transform=\"translate(0 0.765625)\"/>\n",
       "       <use xlink:href=\"#DejaVuSans-30\" transform=\"translate(63.623047 0.765625)\"/>\n",
       "       <use xlink:href=\"#DejaVuSans-30\" transform=\"translate(128.203125 39.046875) scale(0.7)\"/>\n",
       "      </g>\n",
       "     </g>\n",
       "    </g>\n",
       "    <g id=\"xtick_2\">\n",
       "     <g id=\"line2d_13\">\n",
       "      <path d=\"M 26.534764 401.44 \n",
       "L 26.534764 159.809032 \n",
       "\" clip-path=\"url(#p229843cde5)\" style=\"fill: none; stroke: #b0b0b0; stroke-width: 0.8; stroke-linecap: square\"/>\n",
       "     </g>\n",
       "     <g id=\"line2d_14\">\n",
       "      <g>\n",
       "       <use xlink:href=\"#m9b4eec8a88\" x=\"26.534764\" y=\"401.44\" style=\"stroke: #000000; stroke-width: 0.8\"/>\n",
       "      </g>\n",
       "     </g>\n",
       "     <g id=\"text_12\">\n",
       "      <!-- $\\mathdefault{10^{3}}$ -->\n",
       "      <g transform=\"translate(17.734764 416.038437) scale(0.1 -0.1)\">\n",
       "       <defs>\n",
       "        <path id=\"DejaVuSans-33\" d=\"M 2597 2516 \n",
       "Q 3050 2419 3304 2112 \n",
       "Q 3559 1806 3559 1356 \n",
       "Q 3559 666 3084 287 \n",
       "Q 2609 -91 1734 -91 \n",
       "Q 1441 -91 1130 -33 \n",
       "Q 819 25 488 141 \n",
       "L 488 750 \n",
       "Q 750 597 1062 519 \n",
       "Q 1375 441 1716 441 \n",
       "Q 2309 441 2620 675 \n",
       "Q 2931 909 2931 1356 \n",
       "Q 2931 1769 2642 2001 \n",
       "Q 2353 2234 1838 2234 \n",
       "L 1294 2234 \n",
       "L 1294 2753 \n",
       "L 1863 2753 \n",
       "Q 2328 2753 2575 2939 \n",
       "Q 2822 3125 2822 3475 \n",
       "Q 2822 3834 2567 4026 \n",
       "Q 2313 4219 1838 4219 \n",
       "Q 1578 4219 1281 4162 \n",
       "Q 984 4106 628 3988 \n",
       "L 628 4550 \n",
       "Q 988 4650 1302 4700 \n",
       "Q 1616 4750 1894 4750 \n",
       "Q 2613 4750 3031 4423 \n",
       "Q 3450 4097 3450 3541 \n",
       "Q 3450 3153 3228 2886 \n",
       "Q 3006 2619 2597 2516 \n",
       "z\n",
       "\" transform=\"scale(0.015625)\"/>\n",
       "       </defs>\n",
       "       <use xlink:href=\"#DejaVuSans-31\" transform=\"translate(0 0.765625)\"/>\n",
       "       <use xlink:href=\"#DejaVuSans-30\" transform=\"translate(63.623047 0.765625)\"/>\n",
       "       <use xlink:href=\"#DejaVuSans-33\" transform=\"translate(128.203125 39.046875) scale(0.7)\"/>\n",
       "      </g>\n",
       "     </g>\n",
       "    </g>\n",
       "   </g>\n",
       "   <g id=\"patch_22\">\n",
       "    <path d=\"M 7.2 401.44 \n",
       "L 52.812862 401.44 \n",
       "\" style=\"fill: none; stroke: #000000; stroke-width: 0.8; stroke-linejoin: miter; stroke-linecap: square\"/>\n",
       "   </g>\n",
       "  </g>\n",
       "  <g id=\"axes_4\">\n",
       "   <g id=\"patch_23\">\n",
       "    <path d=\"M 131.598714 147.091613 \n",
       "L 1296.8 147.091613 \n",
       "L 1296.8 7.2 \n",
       "L 131.598714 7.2 \n",
       "z\n",
       "\" style=\"fill: #ffffff\"/>\n",
       "   </g>\n",
       "   <g id=\"matplotlib.axis_5\">\n",
       "    <g id=\"ytick_21\">\n",
       "     <g id=\"line2d_15\">\n",
       "      <path d=\"M 131.598714 147.091613 \n",
       "L 1296.8 147.091613 \n",
       "\" clip-path=\"url(#p6043cd656b)\" style=\"fill: none; stroke: #b0b0b0; stroke-width: 0.8; stroke-linecap: square\"/>\n",
       "     </g>\n",
       "     <g id=\"line2d_16\">\n",
       "      <defs>\n",
       "       <path id=\"m7a1c0adafe\" d=\"M 0 0 \n",
       "L -3.5 0 \n",
       "\" style=\"stroke: #000000; stroke-width: 0.8\"/>\n",
       "      </defs>\n",
       "      <g>\n",
       "       <use xlink:href=\"#m7a1c0adafe\" x=\"131.598714\" y=\"147.091613\" style=\"stroke: #000000; stroke-width: 0.8\"/>\n",
       "      </g>\n",
       "     </g>\n",
       "     <g id=\"text_13\">\n",
       "      <!-- $\\mathdefault{10^{0}}$ -->\n",
       "      <g transform=\"translate(106.998714 150.890832) scale(0.1 -0.1)\">\n",
       "       <use xlink:href=\"#DejaVuSans-31\" transform=\"translate(0 0.765625)\"/>\n",
       "       <use xlink:href=\"#DejaVuSans-30\" transform=\"translate(63.623047 0.765625)\"/>\n",
       "       <use xlink:href=\"#DejaVuSans-30\" transform=\"translate(128.203125 39.046875) scale(0.7)\"/>\n",
       "      </g>\n",
       "     </g>\n",
       "    </g>\n",
       "    <g id=\"ytick_22\">\n",
       "     <g id=\"line2d_17\">\n",
       "      <path d=\"M 131.598714 120.975214 \n",
       "L 1296.8 120.975214 \n",
       "\" clip-path=\"url(#p6043cd656b)\" style=\"fill: none; stroke: #b0b0b0; stroke-width: 0.8; stroke-linecap: square\"/>\n",
       "     </g>\n",
       "     <g id=\"line2d_18\">\n",
       "      <g>\n",
       "       <use xlink:href=\"#m7a1c0adafe\" x=\"131.598714\" y=\"120.975214\" style=\"stroke: #000000; stroke-width: 0.8\"/>\n",
       "      </g>\n",
       "     </g>\n",
       "     <g id=\"text_14\">\n",
       "      <!-- $\\mathdefault{10^{1}}$ -->\n",
       "      <g transform=\"translate(106.998714 124.774432) scale(0.1 -0.1)\">\n",
       "       <use xlink:href=\"#DejaVuSans-31\" transform=\"translate(0 0.684375)\"/>\n",
       "       <use xlink:href=\"#DejaVuSans-30\" transform=\"translate(63.623047 0.684375)\"/>\n",
       "       <use xlink:href=\"#DejaVuSans-31\" transform=\"translate(128.203125 38.965625) scale(0.7)\"/>\n",
       "      </g>\n",
       "     </g>\n",
       "    </g>\n",
       "    <g id=\"ytick_23\">\n",
       "     <g id=\"line2d_19\">\n",
       "      <path d=\"M 131.598714 94.858814 \n",
       "L 1296.8 94.858814 \n",
       "\" clip-path=\"url(#p6043cd656b)\" style=\"fill: none; stroke: #b0b0b0; stroke-width: 0.8; stroke-linecap: square\"/>\n",
       "     </g>\n",
       "     <g id=\"line2d_20\">\n",
       "      <g>\n",
       "       <use xlink:href=\"#m7a1c0adafe\" x=\"131.598714\" y=\"94.858814\" style=\"stroke: #000000; stroke-width: 0.8\"/>\n",
       "      </g>\n",
       "     </g>\n",
       "     <g id=\"text_15\">\n",
       "      <!-- $\\mathdefault{10^{2}}$ -->\n",
       "      <g transform=\"translate(106.998714 98.658033) scale(0.1 -0.1)\">\n",
       "       <defs>\n",
       "        <path id=\"DejaVuSans-32\" d=\"M 1228 531 \n",
       "L 3431 531 \n",
       "L 3431 0 \n",
       "L 469 0 \n",
       "L 469 531 \n",
       "Q 828 903 1448 1529 \n",
       "Q 2069 2156 2228 2338 \n",
       "Q 2531 2678 2651 2914 \n",
       "Q 2772 3150 2772 3378 \n",
       "Q 2772 3750 2511 3984 \n",
       "Q 2250 4219 1831 4219 \n",
       "Q 1534 4219 1204 4116 \n",
       "Q 875 4013 500 3803 \n",
       "L 500 4441 \n",
       "Q 881 4594 1212 4672 \n",
       "Q 1544 4750 1819 4750 \n",
       "Q 2544 4750 2975 4387 \n",
       "Q 3406 4025 3406 3419 \n",
       "Q 3406 3131 3298 2873 \n",
       "Q 3191 2616 2906 2266 \n",
       "Q 2828 2175 2409 1742 \n",
       "Q 1991 1309 1228 531 \n",
       "z\n",
       "\" transform=\"scale(0.015625)\"/>\n",
       "       </defs>\n",
       "       <use xlink:href=\"#DejaVuSans-31\" transform=\"translate(0 0.765625)\"/>\n",
       "       <use xlink:href=\"#DejaVuSans-30\" transform=\"translate(63.623047 0.765625)\"/>\n",
       "       <use xlink:href=\"#DejaVuSans-32\" transform=\"translate(128.203125 39.046875) scale(0.7)\"/>\n",
       "      </g>\n",
       "     </g>\n",
       "    </g>\n",
       "    <g id=\"ytick_24\">\n",
       "     <g id=\"line2d_21\">\n",
       "      <path d=\"M 131.598714 68.742415 \n",
       "L 1296.8 68.742415 \n",
       "\" clip-path=\"url(#p6043cd656b)\" style=\"fill: none; stroke: #b0b0b0; stroke-width: 0.8; stroke-linecap: square\"/>\n",
       "     </g>\n",
       "     <g id=\"line2d_22\">\n",
       "      <g>\n",
       "       <use xlink:href=\"#m7a1c0adafe\" x=\"131.598714\" y=\"68.742415\" style=\"stroke: #000000; stroke-width: 0.8\"/>\n",
       "      </g>\n",
       "     </g>\n",
       "     <g id=\"text_16\">\n",
       "      <!-- $\\mathdefault{10^{3}}$ -->\n",
       "      <g transform=\"translate(106.998714 72.541634) scale(0.1 -0.1)\">\n",
       "       <use xlink:href=\"#DejaVuSans-31\" transform=\"translate(0 0.765625)\"/>\n",
       "       <use xlink:href=\"#DejaVuSans-30\" transform=\"translate(63.623047 0.765625)\"/>\n",
       "       <use xlink:href=\"#DejaVuSans-33\" transform=\"translate(128.203125 39.046875) scale(0.7)\"/>\n",
       "      </g>\n",
       "     </g>\n",
       "    </g>\n",
       "    <g id=\"ytick_25\">\n",
       "     <g id=\"line2d_23\">\n",
       "      <path d=\"M 131.598714 42.626016 \n",
       "L 1296.8 42.626016 \n",
       "\" clip-path=\"url(#p6043cd656b)\" style=\"fill: none; stroke: #b0b0b0; stroke-width: 0.8; stroke-linecap: square\"/>\n",
       "     </g>\n",
       "     <g id=\"line2d_24\">\n",
       "      <g>\n",
       "       <use xlink:href=\"#m7a1c0adafe\" x=\"131.598714\" y=\"42.626016\" style=\"stroke: #000000; stroke-width: 0.8\"/>\n",
       "      </g>\n",
       "     </g>\n",
       "     <g id=\"text_17\">\n",
       "      <!-- $\\mathdefault{10^{4}}$ -->\n",
       "      <g transform=\"translate(106.998714 46.425234) scale(0.1 -0.1)\">\n",
       "       <defs>\n",
       "        <path id=\"DejaVuSans-34\" d=\"M 2419 4116 \n",
       "L 825 1625 \n",
       "L 2419 1625 \n",
       "L 2419 4116 \n",
       "z\n",
       "M 2253 4666 \n",
       "L 3047 4666 \n",
       "L 3047 1625 \n",
       "L 3713 1625 \n",
       "L 3713 1100 \n",
       "L 3047 1100 \n",
       "L 3047 0 \n",
       "L 2419 0 \n",
       "L 2419 1100 \n",
       "L 313 1100 \n",
       "L 313 1709 \n",
       "L 2253 4666 \n",
       "z\n",
       "\" transform=\"scale(0.015625)\"/>\n",
       "       </defs>\n",
       "       <use xlink:href=\"#DejaVuSans-31\" transform=\"translate(0 0.684375)\"/>\n",
       "       <use xlink:href=\"#DejaVuSans-30\" transform=\"translate(63.623047 0.684375)\"/>\n",
       "       <use xlink:href=\"#DejaVuSans-34\" transform=\"translate(128.203125 38.965625) scale(0.7)\"/>\n",
       "      </g>\n",
       "     </g>\n",
       "    </g>\n",
       "    <g id=\"ytick_26\">\n",
       "     <g id=\"line2d_25\">\n",
       "      <path d=\"M 131.598714 16.509616 \n",
       "L 1296.8 16.509616 \n",
       "\" clip-path=\"url(#p6043cd656b)\" style=\"fill: none; stroke: #b0b0b0; stroke-width: 0.8; stroke-linecap: square\"/>\n",
       "     </g>\n",
       "     <g id=\"line2d_26\">\n",
       "      <g>\n",
       "       <use xlink:href=\"#m7a1c0adafe\" x=\"131.598714\" y=\"16.509616\" style=\"stroke: #000000; stroke-width: 0.8\"/>\n",
       "      </g>\n",
       "     </g>\n",
       "     <g id=\"text_18\">\n",
       "      <!-- $\\mathdefault{10^{5}}$ -->\n",
       "      <g transform=\"translate(106.998714 20.308835) scale(0.1 -0.1)\">\n",
       "       <defs>\n",
       "        <path id=\"DejaVuSans-35\" d=\"M 691 4666 \n",
       "L 3169 4666 \n",
       "L 3169 4134 \n",
       "L 1269 4134 \n",
       "L 1269 2991 \n",
       "Q 1406 3038 1543 3061 \n",
       "Q 1681 3084 1819 3084 \n",
       "Q 2600 3084 3056 2656 \n",
       "Q 3513 2228 3513 1497 \n",
       "Q 3513 744 3044 326 \n",
       "Q 2575 -91 1722 -91 \n",
       "Q 1428 -91 1123 -41 \n",
       "Q 819 9 494 109 \n",
       "L 494 744 \n",
       "Q 775 591 1075 516 \n",
       "Q 1375 441 1709 441 \n",
       "Q 2250 441 2565 725 \n",
       "Q 2881 1009 2881 1497 \n",
       "Q 2881 1984 2565 2268 \n",
       "Q 2250 2553 1709 2553 \n",
       "Q 1456 2553 1204 2497 \n",
       "Q 953 2441 691 2322 \n",
       "L 691 4666 \n",
       "z\n",
       "\" transform=\"scale(0.015625)\"/>\n",
       "       </defs>\n",
       "       <use xlink:href=\"#DejaVuSans-31\" transform=\"translate(0 0.684375)\"/>\n",
       "       <use xlink:href=\"#DejaVuSans-30\" transform=\"translate(63.623047 0.684375)\"/>\n",
       "       <use xlink:href=\"#DejaVuSans-35\" transform=\"translate(128.203125 38.965625) scale(0.7)\"/>\n",
       "      </g>\n",
       "     </g>\n",
       "    </g>\n",
       "    <g id=\"ytick_27\">\n",
       "     <g id=\"line2d_27\">\n",
       "      <defs>\n",
       "       <path id=\"m661698ce57\" d=\"M 0 0 \n",
       "L -2 0 \n",
       "\" style=\"stroke: #000000; stroke-width: 0.6\"/>\n",
       "      </defs>\n",
       "      <g>\n",
       "       <use xlink:href=\"#m661698ce57\" x=\"131.598714\" y=\"139.229793\" style=\"stroke: #000000; stroke-width: 0.6\"/>\n",
       "      </g>\n",
       "     </g>\n",
       "    </g>\n",
       "    <g id=\"ytick_28\">\n",
       "     <g id=\"line2d_28\">\n",
       "      <g>\n",
       "       <use xlink:href=\"#m661698ce57\" x=\"131.598714\" y=\"134.630924\" style=\"stroke: #000000; stroke-width: 0.6\"/>\n",
       "      </g>\n",
       "     </g>\n",
       "    </g>\n",
       "    <g id=\"ytick_29\">\n",
       "     <g id=\"line2d_29\">\n",
       "      <g>\n",
       "       <use xlink:href=\"#m661698ce57\" x=\"131.598714\" y=\"131.367974\" style=\"stroke: #000000; stroke-width: 0.6\"/>\n",
       "      </g>\n",
       "     </g>\n",
       "    </g>\n",
       "    <g id=\"ytick_30\">\n",
       "     <g id=\"line2d_30\">\n",
       "      <g>\n",
       "       <use xlink:href=\"#m661698ce57\" x=\"131.598714\" y=\"128.837033\" style=\"stroke: #000000; stroke-width: 0.6\"/>\n",
       "      </g>\n",
       "     </g>\n",
       "    </g>\n",
       "    <g id=\"ytick_31\">\n",
       "     <g id=\"line2d_31\">\n",
       "      <g>\n",
       "       <use xlink:href=\"#m661698ce57\" x=\"131.598714\" y=\"126.769104\" style=\"stroke: #000000; stroke-width: 0.6\"/>\n",
       "      </g>\n",
       "     </g>\n",
       "    </g>\n",
       "    <g id=\"ytick_32\">\n",
       "     <g id=\"line2d_32\">\n",
       "      <g>\n",
       "       <use xlink:href=\"#m661698ce57\" x=\"131.598714\" y=\"125.020695\" style=\"stroke: #000000; stroke-width: 0.6\"/>\n",
       "      </g>\n",
       "     </g>\n",
       "    </g>\n",
       "    <g id=\"ytick_33\">\n",
       "     <g id=\"line2d_33\">\n",
       "      <g>\n",
       "       <use xlink:href=\"#m661698ce57\" x=\"131.598714\" y=\"123.506154\" style=\"stroke: #000000; stroke-width: 0.6\"/>\n",
       "      </g>\n",
       "     </g>\n",
       "    </g>\n",
       "    <g id=\"ytick_34\">\n",
       "     <g id=\"line2d_34\">\n",
       "      <g>\n",
       "       <use xlink:href=\"#m661698ce57\" x=\"131.598714\" y=\"122.170234\" style=\"stroke: #000000; stroke-width: 0.6\"/>\n",
       "      </g>\n",
       "     </g>\n",
       "    </g>\n",
       "    <g id=\"ytick_35\">\n",
       "     <g id=\"line2d_35\">\n",
       "      <g>\n",
       "       <use xlink:href=\"#m661698ce57\" x=\"131.598714\" y=\"113.113394\" style=\"stroke: #000000; stroke-width: 0.6\"/>\n",
       "      </g>\n",
       "     </g>\n",
       "    </g>\n",
       "    <g id=\"ytick_36\">\n",
       "     <g id=\"line2d_36\">\n",
       "      <g>\n",
       "       <use xlink:href=\"#m661698ce57\" x=\"131.598714\" y=\"108.514524\" style=\"stroke: #000000; stroke-width: 0.6\"/>\n",
       "      </g>\n",
       "     </g>\n",
       "    </g>\n",
       "    <g id=\"ytick_37\">\n",
       "     <g id=\"line2d_37\">\n",
       "      <g>\n",
       "       <use xlink:href=\"#m661698ce57\" x=\"131.598714\" y=\"105.251574\" style=\"stroke: #000000; stroke-width: 0.6\"/>\n",
       "      </g>\n",
       "     </g>\n",
       "    </g>\n",
       "    <g id=\"ytick_38\">\n",
       "     <g id=\"line2d_38\">\n",
       "      <g>\n",
       "       <use xlink:href=\"#m661698ce57\" x=\"131.598714\" y=\"102.720634\" style=\"stroke: #000000; stroke-width: 0.6\"/>\n",
       "      </g>\n",
       "     </g>\n",
       "    </g>\n",
       "    <g id=\"ytick_39\">\n",
       "     <g id=\"line2d_39\">\n",
       "      <g>\n",
       "       <use xlink:href=\"#m661698ce57\" x=\"131.598714\" y=\"100.652705\" style=\"stroke: #000000; stroke-width: 0.6\"/>\n",
       "      </g>\n",
       "     </g>\n",
       "    </g>\n",
       "    <g id=\"ytick_40\">\n",
       "     <g id=\"line2d_40\">\n",
       "      <g>\n",
       "       <use xlink:href=\"#m661698ce57\" x=\"131.598714\" y=\"98.904296\" style=\"stroke: #000000; stroke-width: 0.6\"/>\n",
       "      </g>\n",
       "     </g>\n",
       "    </g>\n",
       "    <g id=\"ytick_41\">\n",
       "     <g id=\"line2d_41\">\n",
       "      <g>\n",
       "       <use xlink:href=\"#m661698ce57\" x=\"131.598714\" y=\"97.389755\" style=\"stroke: #000000; stroke-width: 0.6\"/>\n",
       "      </g>\n",
       "     </g>\n",
       "    </g>\n",
       "    <g id=\"ytick_42\">\n",
       "     <g id=\"line2d_42\">\n",
       "      <g>\n",
       "       <use xlink:href=\"#m661698ce57\" x=\"131.598714\" y=\"96.053835\" style=\"stroke: #000000; stroke-width: 0.6\"/>\n",
       "      </g>\n",
       "     </g>\n",
       "    </g>\n",
       "    <g id=\"ytick_43\">\n",
       "     <g id=\"line2d_43\">\n",
       "      <g>\n",
       "       <use xlink:href=\"#m661698ce57\" x=\"131.598714\" y=\"86.996995\" style=\"stroke: #000000; stroke-width: 0.6\"/>\n",
       "      </g>\n",
       "     </g>\n",
       "    </g>\n",
       "    <g id=\"ytick_44\">\n",
       "     <g id=\"line2d_44\">\n",
       "      <g>\n",
       "       <use xlink:href=\"#m661698ce57\" x=\"131.598714\" y=\"82.398125\" style=\"stroke: #000000; stroke-width: 0.6\"/>\n",
       "      </g>\n",
       "     </g>\n",
       "    </g>\n",
       "    <g id=\"ytick_45\">\n",
       "     <g id=\"line2d_45\">\n",
       "      <g>\n",
       "       <use xlink:href=\"#m661698ce57\" x=\"131.598714\" y=\"79.135175\" style=\"stroke: #000000; stroke-width: 0.6\"/>\n",
       "      </g>\n",
       "     </g>\n",
       "    </g>\n",
       "    <g id=\"ytick_46\">\n",
       "     <g id=\"line2d_46\">\n",
       "      <g>\n",
       "       <use xlink:href=\"#m661698ce57\" x=\"131.598714\" y=\"76.604234\" style=\"stroke: #000000; stroke-width: 0.6\"/>\n",
       "      </g>\n",
       "     </g>\n",
       "    </g>\n",
       "    <g id=\"ytick_47\">\n",
       "     <g id=\"line2d_47\">\n",
       "      <g>\n",
       "       <use xlink:href=\"#m661698ce57\" x=\"131.598714\" y=\"74.536305\" style=\"stroke: #000000; stroke-width: 0.6\"/>\n",
       "      </g>\n",
       "     </g>\n",
       "    </g>\n",
       "    <g id=\"ytick_48\">\n",
       "     <g id=\"line2d_48\">\n",
       "      <g>\n",
       "       <use xlink:href=\"#m661698ce57\" x=\"131.598714\" y=\"72.787896\" style=\"stroke: #000000; stroke-width: 0.6\"/>\n",
       "      </g>\n",
       "     </g>\n",
       "    </g>\n",
       "    <g id=\"ytick_49\">\n",
       "     <g id=\"line2d_49\">\n",
       "      <g>\n",
       "       <use xlink:href=\"#m661698ce57\" x=\"131.598714\" y=\"71.273355\" style=\"stroke: #000000; stroke-width: 0.6\"/>\n",
       "      </g>\n",
       "     </g>\n",
       "    </g>\n",
       "    <g id=\"ytick_50\">\n",
       "     <g id=\"line2d_50\">\n",
       "      <g>\n",
       "       <use xlink:href=\"#m661698ce57\" x=\"131.598714\" y=\"69.937436\" style=\"stroke: #000000; stroke-width: 0.6\"/>\n",
       "      </g>\n",
       "     </g>\n",
       "    </g>\n",
       "    <g id=\"ytick_51\">\n",
       "     <g id=\"line2d_51\">\n",
       "      <g>\n",
       "       <use xlink:href=\"#m661698ce57\" x=\"131.598714\" y=\"60.880595\" style=\"stroke: #000000; stroke-width: 0.6\"/>\n",
       "      </g>\n",
       "     </g>\n",
       "    </g>\n",
       "    <g id=\"ytick_52\">\n",
       "     <g id=\"line2d_52\">\n",
       "      <g>\n",
       "       <use xlink:href=\"#m661698ce57\" x=\"131.598714\" y=\"56.281726\" style=\"stroke: #000000; stroke-width: 0.6\"/>\n",
       "      </g>\n",
       "     </g>\n",
       "    </g>\n",
       "    <g id=\"ytick_53\">\n",
       "     <g id=\"line2d_53\">\n",
       "      <g>\n",
       "       <use xlink:href=\"#m661698ce57\" x=\"131.598714\" y=\"53.018776\" style=\"stroke: #000000; stroke-width: 0.6\"/>\n",
       "      </g>\n",
       "     </g>\n",
       "    </g>\n",
       "    <g id=\"ytick_54\">\n",
       "     <g id=\"line2d_54\">\n",
       "      <g>\n",
       "       <use xlink:href=\"#m661698ce57\" x=\"131.598714\" y=\"50.487835\" style=\"stroke: #000000; stroke-width: 0.6\"/>\n",
       "      </g>\n",
       "     </g>\n",
       "    </g>\n",
       "    <g id=\"ytick_55\">\n",
       "     <g id=\"line2d_55\">\n",
       "      <g>\n",
       "       <use xlink:href=\"#m661698ce57\" x=\"131.598714\" y=\"48.419906\" style=\"stroke: #000000; stroke-width: 0.6\"/>\n",
       "      </g>\n",
       "     </g>\n",
       "    </g>\n",
       "    <g id=\"ytick_56\">\n",
       "     <g id=\"line2d_56\">\n",
       "      <g>\n",
       "       <use xlink:href=\"#m661698ce57\" x=\"131.598714\" y=\"46.671497\" style=\"stroke: #000000; stroke-width: 0.6\"/>\n",
       "      </g>\n",
       "     </g>\n",
       "    </g>\n",
       "    <g id=\"ytick_57\">\n",
       "     <g id=\"line2d_57\">\n",
       "      <g>\n",
       "       <use xlink:href=\"#m661698ce57\" x=\"131.598714\" y=\"45.156956\" style=\"stroke: #000000; stroke-width: 0.6\"/>\n",
       "      </g>\n",
       "     </g>\n",
       "    </g>\n",
       "    <g id=\"ytick_58\">\n",
       "     <g id=\"line2d_58\">\n",
       "      <g>\n",
       "       <use xlink:href=\"#m661698ce57\" x=\"131.598714\" y=\"43.821036\" style=\"stroke: #000000; stroke-width: 0.6\"/>\n",
       "      </g>\n",
       "     </g>\n",
       "    </g>\n",
       "    <g id=\"ytick_59\">\n",
       "     <g id=\"line2d_59\">\n",
       "      <g>\n",
       "       <use xlink:href=\"#m661698ce57\" x=\"131.598714\" y=\"34.764196\" style=\"stroke: #000000; stroke-width: 0.6\"/>\n",
       "      </g>\n",
       "     </g>\n",
       "    </g>\n",
       "    <g id=\"ytick_60\">\n",
       "     <g id=\"line2d_60\">\n",
       "      <g>\n",
       "       <use xlink:href=\"#m661698ce57\" x=\"131.598714\" y=\"30.165326\" style=\"stroke: #000000; stroke-width: 0.6\"/>\n",
       "      </g>\n",
       "     </g>\n",
       "    </g>\n",
       "    <g id=\"ytick_61\">\n",
       "     <g id=\"line2d_61\">\n",
       "      <g>\n",
       "       <use xlink:href=\"#m661698ce57\" x=\"131.598714\" y=\"26.902376\" style=\"stroke: #000000; stroke-width: 0.6\"/>\n",
       "      </g>\n",
       "     </g>\n",
       "    </g>\n",
       "    <g id=\"ytick_62\">\n",
       "     <g id=\"line2d_62\">\n",
       "      <g>\n",
       "       <use xlink:href=\"#m661698ce57\" x=\"131.598714\" y=\"24.371436\" style=\"stroke: #000000; stroke-width: 0.6\"/>\n",
       "      </g>\n",
       "     </g>\n",
       "    </g>\n",
       "    <g id=\"ytick_63\">\n",
       "     <g id=\"line2d_63\">\n",
       "      <g>\n",
       "       <use xlink:href=\"#m661698ce57\" x=\"131.598714\" y=\"22.303507\" style=\"stroke: #000000; stroke-width: 0.6\"/>\n",
       "      </g>\n",
       "     </g>\n",
       "    </g>\n",
       "    <g id=\"ytick_64\">\n",
       "     <g id=\"line2d_64\">\n",
       "      <g>\n",
       "       <use xlink:href=\"#m661698ce57\" x=\"131.598714\" y=\"20.555098\" style=\"stroke: #000000; stroke-width: 0.6\"/>\n",
       "      </g>\n",
       "     </g>\n",
       "    </g>\n",
       "    <g id=\"ytick_65\">\n",
       "     <g id=\"line2d_65\">\n",
       "      <g>\n",
       "       <use xlink:href=\"#m661698ce57\" x=\"131.598714\" y=\"19.040557\" style=\"stroke: #000000; stroke-width: 0.6\"/>\n",
       "      </g>\n",
       "     </g>\n",
       "    </g>\n",
       "    <g id=\"ytick_66\">\n",
       "     <g id=\"line2d_66\">\n",
       "      <g>\n",
       "       <use xlink:href=\"#m661698ce57\" x=\"131.598714\" y=\"17.704637\" style=\"stroke: #000000; stroke-width: 0.6\"/>\n",
       "      </g>\n",
       "     </g>\n",
       "    </g>\n",
       "    <g id=\"ytick_67\">\n",
       "     <g id=\"line2d_67\">\n",
       "      <g>\n",
       "       <use xlink:href=\"#m661698ce57\" x=\"131.598714\" y=\"8.647797\" style=\"stroke: #000000; stroke-width: 0.6\"/>\n",
       "      </g>\n",
       "     </g>\n",
       "    </g>\n",
       "    <g id=\"text_19\">\n",
       "     <!-- Intersection size -->\n",
       "     <g transform=\"translate(100.919026 118.17315) rotate(-90) scale(0.1 -0.1)\">\n",
       "      <defs>\n",
       "       <path id=\"DejaVuSans-49\" d=\"M 628 4666 \n",
       "L 1259 4666 \n",
       "L 1259 0 \n",
       "L 628 0 \n",
       "L 628 4666 \n",
       "z\n",
       "\" transform=\"scale(0.015625)\"/>\n",
       "       <path id=\"DejaVuSans-20\" transform=\"scale(0.015625)\"/>\n",
       "       <path id=\"DejaVuSans-7a\" d=\"M 353 3500 \n",
       "L 3084 3500 \n",
       "L 3084 2975 \n",
       "L 922 459 \n",
       "L 3084 459 \n",
       "L 3084 0 \n",
       "L 275 0 \n",
       "L 275 525 \n",
       "L 2438 3041 \n",
       "L 353 3041 \n",
       "L 353 3500 \n",
       "z\n",
       "\" transform=\"scale(0.015625)\"/>\n",
       "      </defs>\n",
       "      <use xlink:href=\"#DejaVuSans-49\"/>\n",
       "      <use xlink:href=\"#DejaVuSans-6e\" x=\"29.492188\"/>\n",
       "      <use xlink:href=\"#DejaVuSans-74\" x=\"92.871094\"/>\n",
       "      <use xlink:href=\"#DejaVuSans-65\" x=\"132.080078\"/>\n",
       "      <use xlink:href=\"#DejaVuSans-72\" x=\"193.603516\"/>\n",
       "      <use xlink:href=\"#DejaVuSans-73\" x=\"234.716797\"/>\n",
       "      <use xlink:href=\"#DejaVuSans-65\" x=\"286.816406\"/>\n",
       "      <use xlink:href=\"#DejaVuSans-63\" x=\"348.339844\"/>\n",
       "      <use xlink:href=\"#DejaVuSans-74\" x=\"403.320312\"/>\n",
       "      <use xlink:href=\"#DejaVuSans-69\" x=\"442.529297\"/>\n",
       "      <use xlink:href=\"#DejaVuSans-6f\" x=\"470.3125\"/>\n",
       "      <use xlink:href=\"#DejaVuSans-6e\" x=\"531.494141\"/>\n",
       "      <use xlink:href=\"#DejaVuSans-20\" x=\"594.873047\"/>\n",
       "      <use xlink:href=\"#DejaVuSans-73\" x=\"626.660156\"/>\n",
       "      <use xlink:href=\"#DejaVuSans-69\" x=\"678.759766\"/>\n",
       "      <use xlink:href=\"#DejaVuSans-7a\" x=\"706.542969\"/>\n",
       "      <use xlink:href=\"#DejaVuSans-65\" x=\"759.033203\"/>\n",
       "     </g>\n",
       "    </g>\n",
       "   </g>\n",
       "   <g id=\"patch_24\">\n",
       "    <path d=\"M 131.598714 147.091613 \n",
       "L 131.598714 7.2 \n",
       "\" style=\"fill: none; stroke: #000000; stroke-width: 0.8; stroke-linejoin: miter; stroke-linecap: square\"/>\n",
       "   </g>\n",
       "   <g id=\"patch_25\">\n",
       "    <path d=\"M 137.796593 26263.49096 \n",
       "L 150.192351 26263.49096 \n",
       "L 150.192351 13.861505 \n",
       "L 137.796593 13.861505 \n",
       "z\n",
       "\" clip-path=\"url(#p6043cd656b)\" style=\"stroke: #000000; stroke-linejoin: miter\"/>\n",
       "   </g>\n",
       "   <g id=\"patch_26\">\n",
       "    <path d=\"M 162.58811 26263.49096 \n",
       "L 174.983868 26263.49096 \n",
       "L 174.983868 50.620174 \n",
       "L 162.58811 50.620174 \n",
       "z\n",
       "\" clip-path=\"url(#p6043cd656b)\" style=\"stroke: #000000; stroke-linejoin: miter\"/>\n",
       "   </g>\n",
       "   <g id=\"patch_27\">\n",
       "    <path d=\"M 187.379626 26263.49096 \n",
       "L 199.775385 26263.49096 \n",
       "L 199.775385 53.726614 \n",
       "L 187.379626 53.726614 \n",
       "z\n",
       "\" clip-path=\"url(#p6043cd656b)\" style=\"stroke: #000000; stroke-linejoin: miter\"/>\n",
       "   </g>\n",
       "   <g id=\"patch_28\">\n",
       "    <path d=\"M 212.171143 26263.49096 \n",
       "L 224.566902 26263.49096 \n",
       "L 224.566902 49.23489 \n",
       "L 212.171143 49.23489 \n",
       "z\n",
       "\" clip-path=\"url(#p6043cd656b)\" style=\"stroke: #000000; stroke-linejoin: miter\"/>\n",
       "   </g>\n",
       "   <g id=\"patch_29\">\n",
       "    <path d=\"M 236.96266 26263.49096 \n",
       "L 249.358418 26263.49096 \n",
       "L 249.358418 57.489356 \n",
       "L 236.96266 57.489356 \n",
       "z\n",
       "\" clip-path=\"url(#p6043cd656b)\" style=\"stroke: #000000; stroke-linejoin: miter\"/>\n",
       "   </g>\n",
       "   <g id=\"patch_30\">\n",
       "    <path d=\"M 261.754177 26263.49096 \n",
       "L 274.149935 26263.49096 \n",
       "L 274.149935 123.506154 \n",
       "L 261.754177 123.506154 \n",
       "z\n",
       "\" clip-path=\"url(#p6043cd656b)\" style=\"stroke: #000000; stroke-linejoin: miter\"/>\n",
       "   </g>\n",
       "   <g id=\"patch_31\">\n",
       "    <path d=\"M 286.545693 26263.49096 \n",
       "L 298.941452 26263.49096 \n",
       "L 298.941452 81.180442 \n",
       "L 286.545693 81.180442 \n",
       "z\n",
       "\" clip-path=\"url(#p6043cd656b)\" style=\"stroke: #000000; stroke-linejoin: miter\"/>\n",
       "   </g>\n",
       "   <g id=\"patch_32\">\n",
       "    <path d=\"M 311.33721 26263.49096 \n",
       "L 323.732968 26263.49096 \n",
       "L 323.732968 128.837033 \n",
       "L 311.33721 128.837033 \n",
       "z\n",
       "\" clip-path=\"url(#p6043cd656b)\" style=\"stroke: #000000; stroke-linejoin: miter\"/>\n",
       "   </g>\n",
       "   <g id=\"patch_33\">\n",
       "    <path d=\"M 336.128727 26263.49096 \n",
       "L 348.524485 26263.49096 \n",
       "L 348.524485 113.695173 \n",
       "L 336.128727 113.695173 \n",
       "z\n",
       "\" clip-path=\"url(#p6043cd656b)\" style=\"stroke: #000000; stroke-linejoin: miter\"/>\n",
       "   </g>\n",
       "   <g id=\"patch_34\">\n",
       "    <path d=\"M 360.920244 26263.49096 \n",
       "L 373.316002 26263.49096 \n",
       "L 373.316002 29.713572 \n",
       "L 360.920244 29.713572 \n",
       "z\n",
       "\" clip-path=\"url(#p6043cd656b)\" style=\"stroke: #000000; stroke-linejoin: miter\"/>\n",
       "   </g>\n",
       "   <g id=\"patch_35\">\n",
       "    <path d=\"M 385.71176 26263.49096 \n",
       "L 398.107519 26263.49096 \n",
       "L 398.107519 65.845421 \n",
       "L 385.71176 65.845421 \n",
       "z\n",
       "\" clip-path=\"url(#p6043cd656b)\" style=\"stroke: #000000; stroke-linejoin: miter\"/>\n",
       "   </g>\n",
       "   <g id=\"patch_36\">\n",
       "    <path d=\"M 410.503277 26263.49096 \n",
       "L 422.899035 26263.49096 \n",
       "L 422.899035 84.375677 \n",
       "L 410.503277 84.375677 \n",
       "z\n",
       "\" clip-path=\"url(#p6043cd656b)\" style=\"stroke: #000000; stroke-linejoin: miter\"/>\n",
       "   </g>\n",
       "   <g id=\"patch_37\">\n",
       "    <path d=\"M 435.294794 26263.49096 \n",
       "L 447.690552 26263.49096 \n",
       "L 447.690552 87.401085 \n",
       "L 435.294794 87.401085 \n",
       "z\n",
       "\" clip-path=\"url(#p6043cd656b)\" style=\"stroke: #000000; stroke-linejoin: miter\"/>\n",
       "   </g>\n",
       "   <g id=\"patch_38\">\n",
       "    <path d=\"M 460.08631 26263.49096 \n",
       "L 472.482069 26263.49096 \n",
       "L 472.482069 147.091613 \n",
       "L 460.08631 147.091613 \n",
       "z\n",
       "\" clip-path=\"url(#p6043cd656b)\" style=\"stroke: #000000; stroke-linejoin: miter\"/>\n",
       "   </g>\n",
       "   <g id=\"patch_39\">\n",
       "    <path d=\"M 484.877827 26263.49096 \n",
       "L 497.273586 26263.49096 \n",
       "L 497.273586 123.506154 \n",
       "L 484.877827 123.506154 \n",
       "z\n",
       "\" clip-path=\"url(#p6043cd656b)\" style=\"stroke: #000000; stroke-linejoin: miter\"/>\n",
       "   </g>\n",
       "   <g id=\"patch_40\">\n",
       "    <path d=\"M 509.669344 26263.49096 \n",
       "L 522.065102 26263.49096 \n",
       "L 522.065102 98.428329 \n",
       "L 509.669344 98.428329 \n",
       "z\n",
       "\" clip-path=\"url(#p6043cd656b)\" style=\"stroke: #000000; stroke-linejoin: miter\"/>\n",
       "   </g>\n",
       "   <g id=\"patch_41\">\n",
       "    <path d=\"M 534.460861 26263.49096 \n",
       "L 546.856619 26263.49096 \n",
       "L 546.856619 134.630924 \n",
       "L 534.460861 134.630924 \n",
       "z\n",
       "\" clip-path=\"url(#p6043cd656b)\" style=\"stroke: #000000; stroke-linejoin: miter\"/>\n",
       "   </g>\n",
       "   <g id=\"patch_42\">\n",
       "    <path d=\"M 559.252377 26263.49096 \n",
       "L 571.648136 26263.49096 \n",
       "L 571.648136 82.70469 \n",
       "L 559.252377 82.70469 \n",
       "z\n",
       "\" clip-path=\"url(#p6043cd656b)\" style=\"stroke: #000000; stroke-linejoin: miter\"/>\n",
       "   </g>\n",
       "   <g id=\"patch_43\">\n",
       "    <path d=\"M 584.043894 26263.49096 \n",
       "L 596.439652 26263.49096 \n",
       "L 596.439652 139.229793 \n",
       "L 584.043894 139.229793 \n",
       "z\n",
       "\" clip-path=\"url(#p6043cd656b)\" style=\"stroke: #000000; stroke-linejoin: miter\"/>\n",
       "   </g>\n",
       "   <g id=\"patch_44\">\n",
       "    <path d=\"M 608.835411 26263.49096 \n",
       "L 621.231169 26263.49096 \n",
       "L 621.231169 147.091613 \n",
       "L 608.835411 147.091613 \n",
       "z\n",
       "\" clip-path=\"url(#p6043cd656b)\" style=\"stroke: #000000; stroke-linejoin: miter\"/>\n",
       "   </g>\n",
       "   <g id=\"patch_45\">\n",
       "    <path d=\"M 633.626928 26263.49096 \n",
       "L 646.022686 26263.49096 \n",
       "L 646.022686 77.824488 \n",
       "L 633.626928 77.824488 \n",
       "z\n",
       "\" clip-path=\"url(#p6043cd656b)\" style=\"stroke: #000000; stroke-linejoin: miter\"/>\n",
       "   </g>\n",
       "   <g id=\"patch_46\">\n",
       "    <path d=\"M 658.418444 26263.49096 \n",
       "L 670.814203 26263.49096 \n",
       "L 670.814203 147.091613 \n",
       "L 658.418444 147.091613 \n",
       "z\n",
       "\" clip-path=\"url(#p6043cd656b)\" style=\"stroke: #000000; stroke-linejoin: miter\"/>\n",
       "   </g>\n",
       "   <g id=\"patch_47\">\n",
       "    <path d=\"M 683.209961 26263.49096 \n",
       "L 695.605719 26263.49096 \n",
       "L 695.605719 104.698186 \n",
       "L 683.209961 104.698186 \n",
       "z\n",
       "\" clip-path=\"url(#p6043cd656b)\" style=\"stroke: #000000; stroke-linejoin: miter\"/>\n",
       "   </g>\n",
       "   <g id=\"patch_48\">\n",
       "    <path d=\"M 708.001478 26263.49096 \n",
       "L 720.397236 26263.49096 \n",
       "L 720.397236 114.956717 \n",
       "L 708.001478 114.956717 \n",
       "z\n",
       "\" clip-path=\"url(#p6043cd656b)\" style=\"stroke: #000000; stroke-linejoin: miter\"/>\n",
       "   </g>\n",
       "   <g id=\"patch_49\">\n",
       "    <path d=\"M 732.792994 26263.49096 \n",
       "L 745.188753 26263.49096 \n",
       "L 745.188753 134.630924 \n",
       "L 732.792994 134.630924 \n",
       "z\n",
       "\" clip-path=\"url(#p6043cd656b)\" style=\"stroke: #000000; stroke-linejoin: miter\"/>\n",
       "   </g>\n",
       "   <g id=\"patch_50\">\n",
       "    <path d=\"M 757.584511 26263.49096 \n",
       "L 769.98027 26263.49096 \n",
       "L 769.98027 139.229793 \n",
       "L 757.584511 139.229793 \n",
       "z\n",
       "\" clip-path=\"url(#p6043cd656b)\" style=\"stroke: #000000; stroke-linejoin: miter\"/>\n",
       "   </g>\n",
       "   <g id=\"patch_51\">\n",
       "    <path d=\"M 782.376028 26263.49096 \n",
       "L 794.771786 26263.49096 \n",
       "L 794.771786 80.204866 \n",
       "L 782.376028 80.204866 \n",
       "z\n",
       "\" clip-path=\"url(#p6043cd656b)\" style=\"stroke: #000000; stroke-linejoin: miter\"/>\n",
       "   </g>\n",
       "   <g id=\"patch_52\">\n",
       "    <path d=\"M 807.167545 26263.49096 \n",
       "L 819.563303 26263.49096 \n",
       "L 819.563303 134.630924 \n",
       "L 807.167545 134.630924 \n",
       "z\n",
       "\" clip-path=\"url(#p6043cd656b)\" style=\"stroke: #000000; stroke-linejoin: miter\"/>\n",
       "   </g>\n",
       "   <g id=\"patch_53\">\n",
       "    <path d=\"M 831.959061 26263.49096 \n",
       "L 844.35482 26263.49096 \n",
       "L 844.35482 147.091613 \n",
       "L 831.959061 147.091613 \n",
       "z\n",
       "\" clip-path=\"url(#p6043cd656b)\" style=\"stroke: #000000; stroke-linejoin: miter\"/>\n",
       "   </g>\n",
       "   <g id=\"patch_54\">\n",
       "    <path d=\"M 856.750578 26263.49096 \n",
       "L 869.146336 26263.49096 \n",
       "L 869.146336 119.894186 \n",
       "L 856.750578 119.894186 \n",
       "z\n",
       "\" clip-path=\"url(#p6043cd656b)\" style=\"stroke: #000000; stroke-linejoin: miter\"/>\n",
       "   </g>\n",
       "   <g id=\"patch_55\">\n",
       "    <path d=\"M 881.542095 26263.49096 \n",
       "L 893.937853 26263.49096 \n",
       "L 893.937853 147.091613 \n",
       "L 881.542095 147.091613 \n",
       "z\n",
       "\" clip-path=\"url(#p6043cd656b)\" style=\"stroke: #000000; stroke-linejoin: miter\"/>\n",
       "   </g>\n",
       "   <g id=\"patch_56\">\n",
       "    <path d=\"M 906.333612 26263.49096 \n",
       "L 918.72937 26263.49096 \n",
       "L 918.72937 94.305426 \n",
       "L 906.333612 94.305426 \n",
       "z\n",
       "\" clip-path=\"url(#p6043cd656b)\" style=\"stroke: #000000; stroke-linejoin: miter\"/>\n",
       "   </g>\n",
       "   <g id=\"patch_57\">\n",
       "    <path d=\"M 931.125128 26263.49096 \n",
       "L 943.520887 26263.49096 \n",
       "L 943.520887 147.091613 \n",
       "L 931.125128 147.091613 \n",
       "z\n",
       "\" clip-path=\"url(#p6043cd656b)\" style=\"stroke: #000000; stroke-linejoin: miter\"/>\n",
       "   </g>\n",
       "   <g id=\"patch_58\">\n",
       "    <path d=\"M 955.916645 26263.49096 \n",
       "L 968.312403 26263.49096 \n",
       "L 968.312403 147.091613 \n",
       "L 955.916645 147.091613 \n",
       "z\n",
       "\" clip-path=\"url(#p6043cd656b)\" style=\"stroke: #000000; stroke-linejoin: miter\"/>\n",
       "   </g>\n",
       "   <g id=\"patch_59\">\n",
       "    <path d=\"M 980.708162 26263.49096 \n",
       "L 993.10392 26263.49096 \n",
       "L 993.10392 117.999423 \n",
       "L 980.708162 117.999423 \n",
       "z\n",
       "\" clip-path=\"url(#p6043cd656b)\" style=\"stroke: #000000; stroke-linejoin: miter\"/>\n",
       "   </g>\n",
       "   <g id=\"patch_60\">\n",
       "    <path d=\"M 1005.499678 26263.49096 \n",
       "L 1017.895437 26263.49096 \n",
       "L 1017.895437 147.091613 \n",
       "L 1005.499678 147.091613 \n",
       "z\n",
       "\" clip-path=\"url(#p6043cd656b)\" style=\"stroke: #000000; stroke-linejoin: miter\"/>\n",
       "   </g>\n",
       "   <g id=\"patch_61\">\n",
       "    <path d=\"M 1030.291195 26263.49096 \n",
       "L 1042.686954 26263.49096 \n",
       "L 1042.686954 73.839796 \n",
       "L 1030.291195 73.839796 \n",
       "z\n",
       "\" clip-path=\"url(#p6043cd656b)\" style=\"stroke: #000000; stroke-linejoin: miter\"/>\n",
       "   </g>\n",
       "   <g id=\"patch_62\">\n",
       "    <path d=\"M 1055.082712 26263.49096 \n",
       "L 1067.47847 26263.49096 \n",
       "L 1067.47847 96.438354 \n",
       "L 1055.082712 96.438354 \n",
       "z\n",
       "\" clip-path=\"url(#p6043cd656b)\" style=\"stroke: #000000; stroke-linejoin: miter\"/>\n",
       "   </g>\n",
       "   <g id=\"patch_63\">\n",
       "    <path d=\"M 1079.874229 26263.49096 \n",
       "L 1092.269987 26263.49096 \n",
       "L 1092.269987 147.091613 \n",
       "L 1079.874229 147.091613 \n",
       "z\n",
       "\" clip-path=\"url(#p6043cd656b)\" style=\"stroke: #000000; stroke-linejoin: miter\"/>\n",
       "   </g>\n",
       "   <g id=\"patch_64\">\n",
       "    <path d=\"M 1104.665745 26263.49096 \n",
       "L 1117.061504 26263.49096 \n",
       "L 1117.061504 123.506154 \n",
       "L 1104.665745 123.506154 \n",
       "z\n",
       "\" clip-path=\"url(#p6043cd656b)\" style=\"stroke: #000000; stroke-linejoin: miter\"/>\n",
       "   </g>\n",
       "   <g id=\"patch_65\">\n",
       "    <path d=\"M 1129.457262 26263.49096 \n",
       "L 1141.85302 26263.49096 \n",
       "L 1141.85302 147.091613 \n",
       "L 1129.457262 147.091613 \n",
       "z\n",
       "\" clip-path=\"url(#p6043cd656b)\" style=\"stroke: #000000; stroke-linejoin: miter\"/>\n",
       "   </g>\n",
       "   <g id=\"patch_66\">\n",
       "    <path d=\"M 1154.248779 26263.49096 \n",
       "L 1166.644537 26263.49096 \n",
       "L 1166.644537 116.376344 \n",
       "L 1154.248779 116.376344 \n",
       "z\n",
       "\" clip-path=\"url(#p6043cd656b)\" style=\"stroke: #000000; stroke-linejoin: miter\"/>\n",
       "   </g>\n",
       "   <g id=\"patch_67\">\n",
       "    <path d=\"M 1179.040296 26263.49096 \n",
       "L 1191.436054 26263.49096 \n",
       "L 1191.436054 139.229793 \n",
       "L 1179.040296 139.229793 \n",
       "z\n",
       "\" clip-path=\"url(#p6043cd656b)\" style=\"stroke: #000000; stroke-linejoin: miter\"/>\n",
       "   </g>\n",
       "   <g id=\"patch_68\">\n",
       "    <path d=\"M 1203.831812 26263.49096 \n",
       "L 1216.227571 26263.49096 \n",
       "L 1216.227571 75.836836 \n",
       "L 1203.831812 75.836836 \n",
       "z\n",
       "\" clip-path=\"url(#p6043cd656b)\" style=\"stroke: #000000; stroke-linejoin: miter\"/>\n",
       "   </g>\n",
       "   <g id=\"patch_69\">\n",
       "    <path d=\"M 1228.623329 26263.49096 \n",
       "L 1241.019087 26263.49096 \n",
       "L 1241.019087 117.158875 \n",
       "L 1228.623329 117.158875 \n",
       "z\n",
       "\" clip-path=\"url(#p6043cd656b)\" style=\"stroke: #000000; stroke-linejoin: miter\"/>\n",
       "   </g>\n",
       "   <g id=\"patch_70\">\n",
       "    <path d=\"M 1253.414846 26263.49096 \n",
       "L 1265.810604 26263.49096 \n",
       "L 1265.810604 103.422437 \n",
       "L 1253.414846 103.422437 \n",
       "z\n",
       "\" clip-path=\"url(#p6043cd656b)\" style=\"stroke: #000000; stroke-linejoin: miter\"/>\n",
       "   </g>\n",
       "   <g id=\"patch_71\">\n",
       "    <path d=\"M 1278.206362 26263.49096 \n",
       "L 1290.602121 26263.49096 \n",
       "L 1290.602121 117.158875 \n",
       "L 1278.206362 117.158875 \n",
       "z\n",
       "\" clip-path=\"url(#p6043cd656b)\" style=\"stroke: #000000; stroke-linejoin: miter\"/>\n",
       "   </g>\n",
       "  </g>\n",
       " </g>\n",
       " <defs>\n",
       "  <clipPath id=\"pe27a6fa36f\">\n",
       "   <rect x=\"7.2\" y=\"159.809032\" width=\"1289.6\" height=\"241.630968\"/>\n",
       "  </clipPath>\n",
       "  <clipPath id=\"p855cd311b9\">\n",
       "   <rect x=\"131.598714\" y=\"159.809032\" width=\"1165.201286\" height=\"241.630968\"/>\n",
       "  </clipPath>\n",
       "  <clipPath id=\"p229843cde5\">\n",
       "   <rect x=\"7.2\" y=\"159.809032\" width=\"45.612862\" height=\"241.630968\"/>\n",
       "  </clipPath>\n",
       "  <clipPath id=\"p6043cd656b\">\n",
       "   <rect x=\"131.598714\" y=\"7.2\" width=\"1165.201286\" height=\"139.891613\"/>\n",
       "  </clipPath>\n",
       " </defs>\n",
       "</svg>\n"
      ],
      "text/plain": [
       "<Figure size 2311.11x711.111 with 4 Axes>"
      ]
     },
     "metadata": {},
     "output_type": "display_data"
    },
    {
     "data": {
      "text/markdown": [
       "We now aggregate the mappings together to estimate the number of unique entities and number\n",
       "that appear in each group of resources.\n"
      ],
      "text/plain": [
       "<IPython.core.display.Markdown object>"
      ]
     },
     "metadata": {},
     "output_type": "display_data"
    },
    {
     "data": {
      "image/svg+xml": [
       "<?xml version=\"1.0\" encoding=\"utf-8\" standalone=\"no\"?>\n",
       "<!DOCTYPE svg PUBLIC \"-//W3C//DTD SVG 1.1//EN\"\n",
       "  \"http://www.w3.org/Graphics/SVG/1.1/DTD/svg11.dtd\">\n",
       "<svg xmlns:xlink=\"http://www.w3.org/1999/xlink\" width=\"416.54044pt\" height=\"185.434375pt\" viewBox=\"0 0 416.54044 185.434375\" xmlns=\"http://www.w3.org/2000/svg\" version=\"1.1\">\n",
       " <metadata>\n",
       "  <rdf:RDF xmlns:dc=\"http://purl.org/dc/elements/1.1/\" xmlns:cc=\"http://creativecommons.org/ns#\" xmlns:rdf=\"http://www.w3.org/1999/02/22-rdf-syntax-ns#\">\n",
       "   <cc:Work>\n",
       "    <dc:type rdf:resource=\"http://purl.org/dc/dcmitype/StillImage\"/>\n",
       "    <dc:date>2025-03-20T11:51:20.574402</dc:date>\n",
       "    <dc:format>image/svg+xml</dc:format>\n",
       "    <dc:creator>\n",
       "     <cc:Agent>\n",
       "      <dc:title>Matplotlib v3.8.4, https://matplotlib.org/</dc:title>\n",
       "     </cc:Agent>\n",
       "    </dc:creator>\n",
       "   </cc:Work>\n",
       "  </rdf:RDF>\n",
       " </metadata>\n",
       " <defs>\n",
       "  <style type=\"text/css\">*{stroke-linejoin: round; stroke-linecap: butt}</style>\n",
       " </defs>\n",
       " <g id=\"figure_1\">\n",
       "  <g id=\"patch_1\">\n",
       "   <path d=\"M 0 185.434375 \n",
       "L 416.54044 185.434375 \n",
       "L 416.54044 0 \n",
       "L 0 0 \n",
       "z\n",
       "\" style=\"fill: #ffffff\"/>\n",
       "  </g>\n",
       "  <g id=\"axes_1\">\n",
       "   <g id=\"patch_2\">\n",
       "    <path d=\"M 45.478125 147.878125 \n",
       "L 409.34044 147.878125 \n",
       "L 409.34044 22.318125 \n",
       "L 45.478125 22.318125 \n",
       "z\n",
       "\" style=\"fill: #ffffff\"/>\n",
       "   </g>\n",
       "   <g id=\"patch_3\">\n",
       "    <path d=\"M 50.676158 22809.38751 \n",
       "L 92.260423 22809.38751 \n",
       "L 92.260423 52.524343 \n",
       "L 50.676158 52.524343 \n",
       "z\n",
       "\" clip-path=\"url(#p59c863b3d4)\" style=\"fill: #3274a1\"/>\n",
       "   </g>\n",
       "   <g id=\"patch_4\">\n",
       "    <path d=\"M 102.656489 22809.38751 \n",
       "L 144.240753 22809.38751 \n",
       "L 144.240753 66.886998 \n",
       "L 102.656489 66.886998 \n",
       "z\n",
       "\" clip-path=\"url(#p59c863b3d4)\" style=\"fill: #3274a1\"/>\n",
       "   </g>\n",
       "   <g id=\"patch_5\">\n",
       "    <path d=\"M 154.63682 22809.38751 \n",
       "L 196.221084 22809.38751 \n",
       "L 196.221084 101.355792 \n",
       "L 154.63682 101.355792 \n",
       "z\n",
       "\" clip-path=\"url(#p59c863b3d4)\" style=\"fill: #3274a1\"/>\n",
       "   </g>\n",
       "   <g id=\"patch_6\">\n",
       "    <path d=\"M 206.61715 22809.38751 \n",
       "L 248.201415 22809.38751 \n",
       "L 248.201415 103.986692 \n",
       "L 206.61715 103.986692 \n",
       "z\n",
       "\" clip-path=\"url(#p59c863b3d4)\" style=\"fill: #3274a1\"/>\n",
       "   </g>\n",
       "   <g id=\"patch_7\">\n",
       "    <path d=\"M 258.597481 22809.38751 \n",
       "L 300.181746 22809.38751 \n",
       "L 300.181746 106.454067 \n",
       "L 258.597481 106.454067 \n",
       "z\n",
       "\" clip-path=\"url(#p59c863b3d4)\" style=\"fill: #3274a1\"/>\n",
       "   </g>\n",
       "   <g id=\"patch_8\">\n",
       "    <path d=\"M 310.577812 22809.38751 \n",
       "L 352.162076 22809.38751 \n",
       "L 352.162076 22809.38751 \n",
       "L 310.577812 22809.38751 \n",
       "z\n",
       "\" clip-path=\"url(#p59c863b3d4)\" style=\"fill: #3274a1\"/>\n",
       "   </g>\n",
       "   <g id=\"patch_9\">\n",
       "    <path d=\"M 362.558143 22809.38751 \n",
       "L 404.142407 22809.38751 \n",
       "L 404.142407 143.337469 \n",
       "L 362.558143 143.337469 \n",
       "z\n",
       "\" clip-path=\"url(#p59c863b3d4)\" style=\"fill: #3274a1\"/>\n",
       "   </g>\n",
       "   <g id=\"matplotlib.axis_1\">\n",
       "    <g id=\"xtick_1\">\n",
       "     <g id=\"line2d_1\">\n",
       "      <defs>\n",
       "       <path id=\"mf86bc4040f\" d=\"M 0 0 \n",
       "L 0 3.5 \n",
       "\" style=\"stroke: #000000; stroke-width: 0.8\"/>\n",
       "      </defs>\n",
       "      <g>\n",
       "       <use xlink:href=\"#mf86bc4040f\" x=\"71.46829\" y=\"147.878125\" style=\"stroke: #000000; stroke-width: 0.8\"/>\n",
       "      </g>\n",
       "     </g>\n",
       "     <g id=\"text_1\">\n",
       "      <!-- 1 -->\n",
       "      <g transform=\"translate(68.28704 162.476562) scale(0.1 -0.1)\">\n",
       "       <defs>\n",
       "        <path id=\"DejaVuSans-31\" d=\"M 794 531 \n",
       "L 1825 531 \n",
       "L 1825 4091 \n",
       "L 703 3866 \n",
       "L 703 4441 \n",
       "L 1819 4666 \n",
       "L 2450 4666 \n",
       "L 2450 531 \n",
       "L 3481 531 \n",
       "L 3481 0 \n",
       "L 794 0 \n",
       "L 794 531 \n",
       "z\n",
       "\" transform=\"scale(0.015625)\"/>\n",
       "       </defs>\n",
       "       <use xlink:href=\"#DejaVuSans-31\"/>\n",
       "      </g>\n",
       "     </g>\n",
       "    </g>\n",
       "    <g id=\"xtick_2\">\n",
       "     <g id=\"line2d_2\">\n",
       "      <g>\n",
       "       <use xlink:href=\"#mf86bc4040f\" x=\"123.448621\" y=\"147.878125\" style=\"stroke: #000000; stroke-width: 0.8\"/>\n",
       "      </g>\n",
       "     </g>\n",
       "     <g id=\"text_2\">\n",
       "      <!-- 2 -->\n",
       "      <g transform=\"translate(120.267371 162.476562) scale(0.1 -0.1)\">\n",
       "       <defs>\n",
       "        <path id=\"DejaVuSans-32\" d=\"M 1228 531 \n",
       "L 3431 531 \n",
       "L 3431 0 \n",
       "L 469 0 \n",
       "L 469 531 \n",
       "Q 828 903 1448 1529 \n",
       "Q 2069 2156 2228 2338 \n",
       "Q 2531 2678 2651 2914 \n",
       "Q 2772 3150 2772 3378 \n",
       "Q 2772 3750 2511 3984 \n",
       "Q 2250 4219 1831 4219 \n",
       "Q 1534 4219 1204 4116 \n",
       "Q 875 4013 500 3803 \n",
       "L 500 4441 \n",
       "Q 881 4594 1212 4672 \n",
       "Q 1544 4750 1819 4750 \n",
       "Q 2544 4750 2975 4387 \n",
       "Q 3406 4025 3406 3419 \n",
       "Q 3406 3131 3298 2873 \n",
       "Q 3191 2616 2906 2266 \n",
       "Q 2828 2175 2409 1742 \n",
       "Q 1991 1309 1228 531 \n",
       "z\n",
       "\" transform=\"scale(0.015625)\"/>\n",
       "       </defs>\n",
       "       <use xlink:href=\"#DejaVuSans-32\"/>\n",
       "      </g>\n",
       "     </g>\n",
       "    </g>\n",
       "    <g id=\"xtick_3\">\n",
       "     <g id=\"line2d_3\">\n",
       "      <g>\n",
       "       <use xlink:href=\"#mf86bc4040f\" x=\"175.428952\" y=\"147.878125\" style=\"stroke: #000000; stroke-width: 0.8\"/>\n",
       "      </g>\n",
       "     </g>\n",
       "     <g id=\"text_3\">\n",
       "      <!-- 3 -->\n",
       "      <g transform=\"translate(172.247702 162.476562) scale(0.1 -0.1)\">\n",
       "       <defs>\n",
       "        <path id=\"DejaVuSans-33\" d=\"M 2597 2516 \n",
       "Q 3050 2419 3304 2112 \n",
       "Q 3559 1806 3559 1356 \n",
       "Q 3559 666 3084 287 \n",
       "Q 2609 -91 1734 -91 \n",
       "Q 1441 -91 1130 -33 \n",
       "Q 819 25 488 141 \n",
       "L 488 750 \n",
       "Q 750 597 1062 519 \n",
       "Q 1375 441 1716 441 \n",
       "Q 2309 441 2620 675 \n",
       "Q 2931 909 2931 1356 \n",
       "Q 2931 1769 2642 2001 \n",
       "Q 2353 2234 1838 2234 \n",
       "L 1294 2234 \n",
       "L 1294 2753 \n",
       "L 1863 2753 \n",
       "Q 2328 2753 2575 2939 \n",
       "Q 2822 3125 2822 3475 \n",
       "Q 2822 3834 2567 4026 \n",
       "Q 2313 4219 1838 4219 \n",
       "Q 1578 4219 1281 4162 \n",
       "Q 984 4106 628 3988 \n",
       "L 628 4550 \n",
       "Q 988 4650 1302 4700 \n",
       "Q 1616 4750 1894 4750 \n",
       "Q 2613 4750 3031 4423 \n",
       "Q 3450 4097 3450 3541 \n",
       "Q 3450 3153 3228 2886 \n",
       "Q 3006 2619 2597 2516 \n",
       "z\n",
       "\" transform=\"scale(0.015625)\"/>\n",
       "       </defs>\n",
       "       <use xlink:href=\"#DejaVuSans-33\"/>\n",
       "      </g>\n",
       "     </g>\n",
       "    </g>\n",
       "    <g id=\"xtick_4\">\n",
       "     <g id=\"line2d_4\">\n",
       "      <g>\n",
       "       <use xlink:href=\"#mf86bc4040f\" x=\"227.409283\" y=\"147.878125\" style=\"stroke: #000000; stroke-width: 0.8\"/>\n",
       "      </g>\n",
       "     </g>\n",
       "     <g id=\"text_4\">\n",
       "      <!-- 4 -->\n",
       "      <g transform=\"translate(224.228033 162.476562) scale(0.1 -0.1)\">\n",
       "       <defs>\n",
       "        <path id=\"DejaVuSans-34\" d=\"M 2419 4116 \n",
       "L 825 1625 \n",
       "L 2419 1625 \n",
       "L 2419 4116 \n",
       "z\n",
       "M 2253 4666 \n",
       "L 3047 4666 \n",
       "L 3047 1625 \n",
       "L 3713 1625 \n",
       "L 3713 1100 \n",
       "L 3047 1100 \n",
       "L 3047 0 \n",
       "L 2419 0 \n",
       "L 2419 1100 \n",
       "L 313 1100 \n",
       "L 313 1709 \n",
       "L 2253 4666 \n",
       "z\n",
       "\" transform=\"scale(0.015625)\"/>\n",
       "       </defs>\n",
       "       <use xlink:href=\"#DejaVuSans-34\"/>\n",
       "      </g>\n",
       "     </g>\n",
       "    </g>\n",
       "    <g id=\"xtick_5\">\n",
       "     <g id=\"line2d_5\">\n",
       "      <g>\n",
       "       <use xlink:href=\"#mf86bc4040f\" x=\"279.389613\" y=\"147.878125\" style=\"stroke: #000000; stroke-width: 0.8\"/>\n",
       "      </g>\n",
       "     </g>\n",
       "     <g id=\"text_5\">\n",
       "      <!-- 5 -->\n",
       "      <g transform=\"translate(276.208363 162.476562) scale(0.1 -0.1)\">\n",
       "       <defs>\n",
       "        <path id=\"DejaVuSans-35\" d=\"M 691 4666 \n",
       "L 3169 4666 \n",
       "L 3169 4134 \n",
       "L 1269 4134 \n",
       "L 1269 2991 \n",
       "Q 1406 3038 1543 3061 \n",
       "Q 1681 3084 1819 3084 \n",
       "Q 2600 3084 3056 2656 \n",
       "Q 3513 2228 3513 1497 \n",
       "Q 3513 744 3044 326 \n",
       "Q 2575 -91 1722 -91 \n",
       "Q 1428 -91 1123 -41 \n",
       "Q 819 9 494 109 \n",
       "L 494 744 \n",
       "Q 775 591 1075 516 \n",
       "Q 1375 441 1709 441 \n",
       "Q 2250 441 2565 725 \n",
       "Q 2881 1009 2881 1497 \n",
       "Q 2881 1984 2565 2268 \n",
       "Q 2250 2553 1709 2553 \n",
       "Q 1456 2553 1204 2497 \n",
       "Q 953 2441 691 2322 \n",
       "L 691 4666 \n",
       "z\n",
       "\" transform=\"scale(0.015625)\"/>\n",
       "       </defs>\n",
       "       <use xlink:href=\"#DejaVuSans-35\"/>\n",
       "      </g>\n",
       "     </g>\n",
       "    </g>\n",
       "    <g id=\"xtick_6\">\n",
       "     <g id=\"line2d_6\">\n",
       "      <g>\n",
       "       <use xlink:href=\"#mf86bc4040f\" x=\"331.369944\" y=\"147.878125\" style=\"stroke: #000000; stroke-width: 0.8\"/>\n",
       "      </g>\n",
       "     </g>\n",
       "     <g id=\"text_6\">\n",
       "      <!-- 6 -->\n",
       "      <g transform=\"translate(328.188694 162.476562) scale(0.1 -0.1)\">\n",
       "       <defs>\n",
       "        <path id=\"DejaVuSans-36\" d=\"M 2113 2584 \n",
       "Q 1688 2584 1439 2293 \n",
       "Q 1191 2003 1191 1497 \n",
       "Q 1191 994 1439 701 \n",
       "Q 1688 409 2113 409 \n",
       "Q 2538 409 2786 701 \n",
       "Q 3034 994 3034 1497 \n",
       "Q 3034 2003 2786 2293 \n",
       "Q 2538 2584 2113 2584 \n",
       "z\n",
       "M 3366 4563 \n",
       "L 3366 3988 \n",
       "Q 3128 4100 2886 4159 \n",
       "Q 2644 4219 2406 4219 \n",
       "Q 1781 4219 1451 3797 \n",
       "Q 1122 3375 1075 2522 \n",
       "Q 1259 2794 1537 2939 \n",
       "Q 1816 3084 2150 3084 \n",
       "Q 2853 3084 3261 2657 \n",
       "Q 3669 2231 3669 1497 \n",
       "Q 3669 778 3244 343 \n",
       "Q 2819 -91 2113 -91 \n",
       "Q 1303 -91 875 529 \n",
       "Q 447 1150 447 2328 \n",
       "Q 447 3434 972 4092 \n",
       "Q 1497 4750 2381 4750 \n",
       "Q 2619 4750 2861 4703 \n",
       "Q 3103 4656 3366 4563 \n",
       "z\n",
       "\" transform=\"scale(0.015625)\"/>\n",
       "       </defs>\n",
       "       <use xlink:href=\"#DejaVuSans-36\"/>\n",
       "      </g>\n",
       "     </g>\n",
       "    </g>\n",
       "    <g id=\"xtick_7\">\n",
       "     <g id=\"line2d_7\">\n",
       "      <g>\n",
       "       <use xlink:href=\"#mf86bc4040f\" x=\"383.350275\" y=\"147.878125\" style=\"stroke: #000000; stroke-width: 0.8\"/>\n",
       "      </g>\n",
       "     </g>\n",
       "     <g id=\"text_7\">\n",
       "      <!-- 7 -->\n",
       "      <g transform=\"translate(380.169025 162.476562) scale(0.1 -0.1)\">\n",
       "       <defs>\n",
       "        <path id=\"DejaVuSans-37\" d=\"M 525 4666 \n",
       "L 3525 4666 \n",
       "L 3525 4397 \n",
       "L 1831 0 \n",
       "L 1172 0 \n",
       "L 2766 4134 \n",
       "L 525 4134 \n",
       "L 525 4666 \n",
       "z\n",
       "\" transform=\"scale(0.015625)\"/>\n",
       "       </defs>\n",
       "       <use xlink:href=\"#DejaVuSans-37\"/>\n",
       "      </g>\n",
       "     </g>\n",
       "    </g>\n",
       "    <g id=\"text_8\">\n",
       "     <!-- # Resources a Concept Appears in -->\n",
       "     <g transform=\"translate(140.871001 176.154687) scale(0.1 -0.1)\">\n",
       "      <defs>\n",
       "       <path id=\"DejaVuSans-23\" d=\"M 3272 2816 \n",
       "L 2363 2816 \n",
       "L 2100 1772 \n",
       "L 3016 1772 \n",
       "L 3272 2816 \n",
       "z\n",
       "M 2803 4594 \n",
       "L 2478 3297 \n",
       "L 3391 3297 \n",
       "L 3719 4594 \n",
       "L 4219 4594 \n",
       "L 3897 3297 \n",
       "L 4872 3297 \n",
       "L 4872 2816 \n",
       "L 3775 2816 \n",
       "L 3519 1772 \n",
       "L 4513 1772 \n",
       "L 4513 1294 \n",
       "L 3397 1294 \n",
       "L 3072 0 \n",
       "L 2572 0 \n",
       "L 2894 1294 \n",
       "L 1978 1294 \n",
       "L 1656 0 \n",
       "L 1153 0 \n",
       "L 1478 1294 \n",
       "L 494 1294 \n",
       "L 494 1772 \n",
       "L 1594 1772 \n",
       "L 1856 2816 \n",
       "L 850 2816 \n",
       "L 850 3297 \n",
       "L 1978 3297 \n",
       "L 2297 4594 \n",
       "L 2803 4594 \n",
       "z\n",
       "\" transform=\"scale(0.015625)\"/>\n",
       "       <path id=\"DejaVuSans-20\" transform=\"scale(0.015625)\"/>\n",
       "       <path id=\"DejaVuSans-52\" d=\"M 2841 2188 \n",
       "Q 3044 2119 3236 1894 \n",
       "Q 3428 1669 3622 1275 \n",
       "L 4263 0 \n",
       "L 3584 0 \n",
       "L 2988 1197 \n",
       "Q 2756 1666 2539 1819 \n",
       "Q 2322 1972 1947 1972 \n",
       "L 1259 1972 \n",
       "L 1259 0 \n",
       "L 628 0 \n",
       "L 628 4666 \n",
       "L 2053 4666 \n",
       "Q 2853 4666 3247 4331 \n",
       "Q 3641 3997 3641 3322 \n",
       "Q 3641 2881 3436 2590 \n",
       "Q 3231 2300 2841 2188 \n",
       "z\n",
       "M 1259 4147 \n",
       "L 1259 2491 \n",
       "L 2053 2491 \n",
       "Q 2509 2491 2742 2702 \n",
       "Q 2975 2913 2975 3322 \n",
       "Q 2975 3731 2742 3939 \n",
       "Q 2509 4147 2053 4147 \n",
       "L 1259 4147 \n",
       "z\n",
       "\" transform=\"scale(0.015625)\"/>\n",
       "       <path id=\"DejaVuSans-65\" d=\"M 3597 1894 \n",
       "L 3597 1613 \n",
       "L 953 1613 \n",
       "Q 991 1019 1311 708 \n",
       "Q 1631 397 2203 397 \n",
       "Q 2534 397 2845 478 \n",
       "Q 3156 559 3463 722 \n",
       "L 3463 178 \n",
       "Q 3153 47 2828 -22 \n",
       "Q 2503 -91 2169 -91 \n",
       "Q 1331 -91 842 396 \n",
       "Q 353 884 353 1716 \n",
       "Q 353 2575 817 3079 \n",
       "Q 1281 3584 2069 3584 \n",
       "Q 2775 3584 3186 3129 \n",
       "Q 3597 2675 3597 1894 \n",
       "z\n",
       "M 3022 2063 \n",
       "Q 3016 2534 2758 2815 \n",
       "Q 2500 3097 2075 3097 \n",
       "Q 1594 3097 1305 2825 \n",
       "Q 1016 2553 972 2059 \n",
       "L 3022 2063 \n",
       "z\n",
       "\" transform=\"scale(0.015625)\"/>\n",
       "       <path id=\"DejaVuSans-73\" d=\"M 2834 3397 \n",
       "L 2834 2853 \n",
       "Q 2591 2978 2328 3040 \n",
       "Q 2066 3103 1784 3103 \n",
       "Q 1356 3103 1142 2972 \n",
       "Q 928 2841 928 2578 \n",
       "Q 928 2378 1081 2264 \n",
       "Q 1234 2150 1697 2047 \n",
       "L 1894 2003 \n",
       "Q 2506 1872 2764 1633 \n",
       "Q 3022 1394 3022 966 \n",
       "Q 3022 478 2636 193 \n",
       "Q 2250 -91 1575 -91 \n",
       "Q 1294 -91 989 -36 \n",
       "Q 684 19 347 128 \n",
       "L 347 722 \n",
       "Q 666 556 975 473 \n",
       "Q 1284 391 1588 391 \n",
       "Q 1994 391 2212 530 \n",
       "Q 2431 669 2431 922 \n",
       "Q 2431 1156 2273 1281 \n",
       "Q 2116 1406 1581 1522 \n",
       "L 1381 1569 \n",
       "Q 847 1681 609 1914 \n",
       "Q 372 2147 372 2553 \n",
       "Q 372 3047 722 3315 \n",
       "Q 1072 3584 1716 3584 \n",
       "Q 2034 3584 2315 3537 \n",
       "Q 2597 3491 2834 3397 \n",
       "z\n",
       "\" transform=\"scale(0.015625)\"/>\n",
       "       <path id=\"DejaVuSans-6f\" d=\"M 1959 3097 \n",
       "Q 1497 3097 1228 2736 \n",
       "Q 959 2375 959 1747 \n",
       "Q 959 1119 1226 758 \n",
       "Q 1494 397 1959 397 \n",
       "Q 2419 397 2687 759 \n",
       "Q 2956 1122 2956 1747 \n",
       "Q 2956 2369 2687 2733 \n",
       "Q 2419 3097 1959 3097 \n",
       "z\n",
       "M 1959 3584 \n",
       "Q 2709 3584 3137 3096 \n",
       "Q 3566 2609 3566 1747 \n",
       "Q 3566 888 3137 398 \n",
       "Q 2709 -91 1959 -91 \n",
       "Q 1206 -91 779 398 \n",
       "Q 353 888 353 1747 \n",
       "Q 353 2609 779 3096 \n",
       "Q 1206 3584 1959 3584 \n",
       "z\n",
       "\" transform=\"scale(0.015625)\"/>\n",
       "       <path id=\"DejaVuSans-75\" d=\"M 544 1381 \n",
       "L 544 3500 \n",
       "L 1119 3500 \n",
       "L 1119 1403 \n",
       "Q 1119 906 1312 657 \n",
       "Q 1506 409 1894 409 \n",
       "Q 2359 409 2629 706 \n",
       "Q 2900 1003 2900 1516 \n",
       "L 2900 3500 \n",
       "L 3475 3500 \n",
       "L 3475 0 \n",
       "L 2900 0 \n",
       "L 2900 538 \n",
       "Q 2691 219 2414 64 \n",
       "Q 2138 -91 1772 -91 \n",
       "Q 1169 -91 856 284 \n",
       "Q 544 659 544 1381 \n",
       "z\n",
       "M 1991 3584 \n",
       "L 1991 3584 \n",
       "z\n",
       "\" transform=\"scale(0.015625)\"/>\n",
       "       <path id=\"DejaVuSans-72\" d=\"M 2631 2963 \n",
       "Q 2534 3019 2420 3045 \n",
       "Q 2306 3072 2169 3072 \n",
       "Q 1681 3072 1420 2755 \n",
       "Q 1159 2438 1159 1844 \n",
       "L 1159 0 \n",
       "L 581 0 \n",
       "L 581 3500 \n",
       "L 1159 3500 \n",
       "L 1159 2956 \n",
       "Q 1341 3275 1631 3429 \n",
       "Q 1922 3584 2338 3584 \n",
       "Q 2397 3584 2469 3576 \n",
       "Q 2541 3569 2628 3553 \n",
       "L 2631 2963 \n",
       "z\n",
       "\" transform=\"scale(0.015625)\"/>\n",
       "       <path id=\"DejaVuSans-63\" d=\"M 3122 3366 \n",
       "L 3122 2828 \n",
       "Q 2878 2963 2633 3030 \n",
       "Q 2388 3097 2138 3097 \n",
       "Q 1578 3097 1268 2742 \n",
       "Q 959 2388 959 1747 \n",
       "Q 959 1106 1268 751 \n",
       "Q 1578 397 2138 397 \n",
       "Q 2388 397 2633 464 \n",
       "Q 2878 531 3122 666 \n",
       "L 3122 134 \n",
       "Q 2881 22 2623 -34 \n",
       "Q 2366 -91 2075 -91 \n",
       "Q 1284 -91 818 406 \n",
       "Q 353 903 353 1747 \n",
       "Q 353 2603 823 3093 \n",
       "Q 1294 3584 2113 3584 \n",
       "Q 2378 3584 2631 3529 \n",
       "Q 2884 3475 3122 3366 \n",
       "z\n",
       "\" transform=\"scale(0.015625)\"/>\n",
       "       <path id=\"DejaVuSans-61\" d=\"M 2194 1759 \n",
       "Q 1497 1759 1228 1600 \n",
       "Q 959 1441 959 1056 \n",
       "Q 959 750 1161 570 \n",
       "Q 1363 391 1709 391 \n",
       "Q 2188 391 2477 730 \n",
       "Q 2766 1069 2766 1631 \n",
       "L 2766 1759 \n",
       "L 2194 1759 \n",
       "z\n",
       "M 3341 1997 \n",
       "L 3341 0 \n",
       "L 2766 0 \n",
       "L 2766 531 \n",
       "Q 2569 213 2275 61 \n",
       "Q 1981 -91 1556 -91 \n",
       "Q 1019 -91 701 211 \n",
       "Q 384 513 384 1019 \n",
       "Q 384 1609 779 1909 \n",
       "Q 1175 2209 1959 2209 \n",
       "L 2766 2209 \n",
       "L 2766 2266 \n",
       "Q 2766 2663 2505 2880 \n",
       "Q 2244 3097 1772 3097 \n",
       "Q 1472 3097 1187 3025 \n",
       "Q 903 2953 641 2809 \n",
       "L 641 3341 \n",
       "Q 956 3463 1253 3523 \n",
       "Q 1550 3584 1831 3584 \n",
       "Q 2591 3584 2966 3190 \n",
       "Q 3341 2797 3341 1997 \n",
       "z\n",
       "\" transform=\"scale(0.015625)\"/>\n",
       "       <path id=\"DejaVuSans-43\" d=\"M 4122 4306 \n",
       "L 4122 3641 \n",
       "Q 3803 3938 3442 4084 \n",
       "Q 3081 4231 2675 4231 \n",
       "Q 1875 4231 1450 3742 \n",
       "Q 1025 3253 1025 2328 \n",
       "Q 1025 1406 1450 917 \n",
       "Q 1875 428 2675 428 \n",
       "Q 3081 428 3442 575 \n",
       "Q 3803 722 4122 1019 \n",
       "L 4122 359 \n",
       "Q 3791 134 3420 21 \n",
       "Q 3050 -91 2638 -91 \n",
       "Q 1578 -91 968 557 \n",
       "Q 359 1206 359 2328 \n",
       "Q 359 3453 968 4101 \n",
       "Q 1578 4750 2638 4750 \n",
       "Q 3056 4750 3426 4639 \n",
       "Q 3797 4528 4122 4306 \n",
       "z\n",
       "\" transform=\"scale(0.015625)\"/>\n",
       "       <path id=\"DejaVuSans-6e\" d=\"M 3513 2113 \n",
       "L 3513 0 \n",
       "L 2938 0 \n",
       "L 2938 2094 \n",
       "Q 2938 2591 2744 2837 \n",
       "Q 2550 3084 2163 3084 \n",
       "Q 1697 3084 1428 2787 \n",
       "Q 1159 2491 1159 1978 \n",
       "L 1159 0 \n",
       "L 581 0 \n",
       "L 581 3500 \n",
       "L 1159 3500 \n",
       "L 1159 2956 \n",
       "Q 1366 3272 1645 3428 \n",
       "Q 1925 3584 2291 3584 \n",
       "Q 2894 3584 3203 3211 \n",
       "Q 3513 2838 3513 2113 \n",
       "z\n",
       "\" transform=\"scale(0.015625)\"/>\n",
       "       <path id=\"DejaVuSans-70\" d=\"M 1159 525 \n",
       "L 1159 -1331 \n",
       "L 581 -1331 \n",
       "L 581 3500 \n",
       "L 1159 3500 \n",
       "L 1159 2969 \n",
       "Q 1341 3281 1617 3432 \n",
       "Q 1894 3584 2278 3584 \n",
       "Q 2916 3584 3314 3078 \n",
       "Q 3713 2572 3713 1747 \n",
       "Q 3713 922 3314 415 \n",
       "Q 2916 -91 2278 -91 \n",
       "Q 1894 -91 1617 61 \n",
       "Q 1341 213 1159 525 \n",
       "z\n",
       "M 3116 1747 \n",
       "Q 3116 2381 2855 2742 \n",
       "Q 2594 3103 2138 3103 \n",
       "Q 1681 3103 1420 2742 \n",
       "Q 1159 2381 1159 1747 \n",
       "Q 1159 1113 1420 752 \n",
       "Q 1681 391 2138 391 \n",
       "Q 2594 391 2855 752 \n",
       "Q 3116 1113 3116 1747 \n",
       "z\n",
       "\" transform=\"scale(0.015625)\"/>\n",
       "       <path id=\"DejaVuSans-74\" d=\"M 1172 4494 \n",
       "L 1172 3500 \n",
       "L 2356 3500 \n",
       "L 2356 3053 \n",
       "L 1172 3053 \n",
       "L 1172 1153 \n",
       "Q 1172 725 1289 603 \n",
       "Q 1406 481 1766 481 \n",
       "L 2356 481 \n",
       "L 2356 0 \n",
       "L 1766 0 \n",
       "Q 1100 0 847 248 \n",
       "Q 594 497 594 1153 \n",
       "L 594 3053 \n",
       "L 172 3053 \n",
       "L 172 3500 \n",
       "L 594 3500 \n",
       "L 594 4494 \n",
       "L 1172 4494 \n",
       "z\n",
       "\" transform=\"scale(0.015625)\"/>\n",
       "       <path id=\"DejaVuSans-41\" d=\"M 2188 4044 \n",
       "L 1331 1722 \n",
       "L 3047 1722 \n",
       "L 2188 4044 \n",
       "z\n",
       "M 1831 4666 \n",
       "L 2547 4666 \n",
       "L 4325 0 \n",
       "L 3669 0 \n",
       "L 3244 1197 \n",
       "L 1141 1197 \n",
       "L 716 0 \n",
       "L 50 0 \n",
       "L 1831 4666 \n",
       "z\n",
       "\" transform=\"scale(0.015625)\"/>\n",
       "       <path id=\"DejaVuSans-69\" d=\"M 603 3500 \n",
       "L 1178 3500 \n",
       "L 1178 0 \n",
       "L 603 0 \n",
       "L 603 3500 \n",
       "z\n",
       "M 603 4863 \n",
       "L 1178 4863 \n",
       "L 1178 4134 \n",
       "L 603 4134 \n",
       "L 603 4863 \n",
       "z\n",
       "\" transform=\"scale(0.015625)\"/>\n",
       "      </defs>\n",
       "      <use xlink:href=\"#DejaVuSans-23\"/>\n",
       "      <use xlink:href=\"#DejaVuSans-20\" x=\"83.789062\"/>\n",
       "      <use xlink:href=\"#DejaVuSans-52\" x=\"115.576172\"/>\n",
       "      <use xlink:href=\"#DejaVuSans-65\" x=\"180.558594\"/>\n",
       "      <use xlink:href=\"#DejaVuSans-73\" x=\"242.082031\"/>\n",
       "      <use xlink:href=\"#DejaVuSans-6f\" x=\"294.181641\"/>\n",
       "      <use xlink:href=\"#DejaVuSans-75\" x=\"355.363281\"/>\n",
       "      <use xlink:href=\"#DejaVuSans-72\" x=\"418.742188\"/>\n",
       "      <use xlink:href=\"#DejaVuSans-63\" x=\"457.605469\"/>\n",
       "      <use xlink:href=\"#DejaVuSans-65\" x=\"512.585938\"/>\n",
       "      <use xlink:href=\"#DejaVuSans-73\" x=\"574.109375\"/>\n",
       "      <use xlink:href=\"#DejaVuSans-20\" x=\"626.208984\"/>\n",
       "      <use xlink:href=\"#DejaVuSans-61\" x=\"657.996094\"/>\n",
       "      <use xlink:href=\"#DejaVuSans-20\" x=\"719.275391\"/>\n",
       "      <use xlink:href=\"#DejaVuSans-43\" x=\"751.0625\"/>\n",
       "      <use xlink:href=\"#DejaVuSans-6f\" x=\"820.886719\"/>\n",
       "      <use xlink:href=\"#DejaVuSans-6e\" x=\"882.068359\"/>\n",
       "      <use xlink:href=\"#DejaVuSans-63\" x=\"945.447266\"/>\n",
       "      <use xlink:href=\"#DejaVuSans-65\" x=\"1000.427734\"/>\n",
       "      <use xlink:href=\"#DejaVuSans-70\" x=\"1061.951172\"/>\n",
       "      <use xlink:href=\"#DejaVuSans-74\" x=\"1125.427734\"/>\n",
       "      <use xlink:href=\"#DejaVuSans-20\" x=\"1164.636719\"/>\n",
       "      <use xlink:href=\"#DejaVuSans-41\" x=\"1196.423828\"/>\n",
       "      <use xlink:href=\"#DejaVuSans-70\" x=\"1264.832031\"/>\n",
       "      <use xlink:href=\"#DejaVuSans-70\" x=\"1328.308594\"/>\n",
       "      <use xlink:href=\"#DejaVuSans-65\" x=\"1391.785156\"/>\n",
       "      <use xlink:href=\"#DejaVuSans-61\" x=\"1453.308594\"/>\n",
       "      <use xlink:href=\"#DejaVuSans-72\" x=\"1514.587891\"/>\n",
       "      <use xlink:href=\"#DejaVuSans-73\" x=\"1555.701172\"/>\n",
       "      <use xlink:href=\"#DejaVuSans-20\" x=\"1607.800781\"/>\n",
       "      <use xlink:href=\"#DejaVuSans-69\" x=\"1639.587891\"/>\n",
       "      <use xlink:href=\"#DejaVuSans-6e\" x=\"1667.371094\"/>\n",
       "     </g>\n",
       "    </g>\n",
       "   </g>\n",
       "   <g id=\"matplotlib.axis_2\">\n",
       "    <g id=\"ytick_1\">\n",
       "     <g id=\"line2d_8\">\n",
       "      <defs>\n",
       "       <path id=\"mfda946d32d\" d=\"M 0 0 \n",
       "L -3.5 0 \n",
       "\" style=\"stroke: #000000; stroke-width: 0.8\"/>\n",
       "      </defs>\n",
       "      <g>\n",
       "       <use xlink:href=\"#mfda946d32d\" x=\"45.478125\" y=\"146.645822\" style=\"stroke: #000000; stroke-width: 0.8\"/>\n",
       "      </g>\n",
       "     </g>\n",
       "     <g id=\"text_9\">\n",
       "      <!-- $\\mathdefault{10^{1}}$ -->\n",
       "      <g transform=\"translate(20.878125 150.445041) scale(0.1 -0.1)\">\n",
       "       <defs>\n",
       "        <path id=\"DejaVuSans-30\" d=\"M 2034 4250 \n",
       "Q 1547 4250 1301 3770 \n",
       "Q 1056 3291 1056 2328 \n",
       "Q 1056 1369 1301 889 \n",
       "Q 1547 409 2034 409 \n",
       "Q 2525 409 2770 889 \n",
       "Q 3016 1369 3016 2328 \n",
       "Q 3016 3291 2770 3770 \n",
       "Q 2525 4250 2034 4250 \n",
       "z\n",
       "M 2034 4750 \n",
       "Q 2819 4750 3233 4129 \n",
       "Q 3647 3509 3647 2328 \n",
       "Q 3647 1150 3233 529 \n",
       "Q 2819 -91 2034 -91 \n",
       "Q 1250 -91 836 529 \n",
       "Q 422 1150 422 2328 \n",
       "Q 422 3509 836 4129 \n",
       "Q 1250 4750 2034 4750 \n",
       "z\n",
       "\" transform=\"scale(0.015625)\"/>\n",
       "       </defs>\n",
       "       <use xlink:href=\"#DejaVuSans-31\" transform=\"translate(0 0.684375)\"/>\n",
       "       <use xlink:href=\"#DejaVuSans-30\" transform=\"translate(63.623047 0.684375)\"/>\n",
       "       <use xlink:href=\"#DejaVuSans-31\" transform=\"translate(128.203125 38.965625) scale(0.7)\"/>\n",
       "      </g>\n",
       "     </g>\n",
       "    </g>\n",
       "    <g id=\"ytick_2\">\n",
       "     <g id=\"line2d_9\">\n",
       "      <g>\n",
       "       <use xlink:href=\"#mfda946d32d\" x=\"45.478125\" y=\"124.005721\" style=\"stroke: #000000; stroke-width: 0.8\"/>\n",
       "      </g>\n",
       "     </g>\n",
       "     <g id=\"text_10\">\n",
       "      <!-- $\\mathdefault{10^{2}}$ -->\n",
       "      <g transform=\"translate(20.878125 127.804939) scale(0.1 -0.1)\">\n",
       "       <use xlink:href=\"#DejaVuSans-31\" transform=\"translate(0 0.765625)\"/>\n",
       "       <use xlink:href=\"#DejaVuSans-30\" transform=\"translate(63.623047 0.765625)\"/>\n",
       "       <use xlink:href=\"#DejaVuSans-32\" transform=\"translate(128.203125 39.046875) scale(0.7)\"/>\n",
       "      </g>\n",
       "     </g>\n",
       "    </g>\n",
       "    <g id=\"ytick_3\">\n",
       "     <g id=\"line2d_10\">\n",
       "      <g>\n",
       "       <use xlink:href=\"#mfda946d32d\" x=\"45.478125\" y=\"101.365619\" style=\"stroke: #000000; stroke-width: 0.8\"/>\n",
       "      </g>\n",
       "     </g>\n",
       "     <g id=\"text_11\">\n",
       "      <!-- $\\mathdefault{10^{3}}$ -->\n",
       "      <g transform=\"translate(20.878125 105.164838) scale(0.1 -0.1)\">\n",
       "       <use xlink:href=\"#DejaVuSans-31\" transform=\"translate(0 0.765625)\"/>\n",
       "       <use xlink:href=\"#DejaVuSans-30\" transform=\"translate(63.623047 0.765625)\"/>\n",
       "       <use xlink:href=\"#DejaVuSans-33\" transform=\"translate(128.203125 39.046875) scale(0.7)\"/>\n",
       "      </g>\n",
       "     </g>\n",
       "    </g>\n",
       "    <g id=\"ytick_4\">\n",
       "     <g id=\"line2d_11\">\n",
       "      <g>\n",
       "       <use xlink:href=\"#mfda946d32d\" x=\"45.478125\" y=\"78.725518\" style=\"stroke: #000000; stroke-width: 0.8\"/>\n",
       "      </g>\n",
       "     </g>\n",
       "     <g id=\"text_12\">\n",
       "      <!-- $\\mathdefault{10^{4}}$ -->\n",
       "      <g transform=\"translate(20.878125 82.524736) scale(0.1 -0.1)\">\n",
       "       <use xlink:href=\"#DejaVuSans-31\" transform=\"translate(0 0.684375)\"/>\n",
       "       <use xlink:href=\"#DejaVuSans-30\" transform=\"translate(63.623047 0.684375)\"/>\n",
       "       <use xlink:href=\"#DejaVuSans-34\" transform=\"translate(128.203125 38.965625) scale(0.7)\"/>\n",
       "      </g>\n",
       "     </g>\n",
       "    </g>\n",
       "    <g id=\"ytick_5\">\n",
       "     <g id=\"line2d_12\">\n",
       "      <g>\n",
       "       <use xlink:href=\"#mfda946d32d\" x=\"45.478125\" y=\"56.085416\" style=\"stroke: #000000; stroke-width: 0.8\"/>\n",
       "      </g>\n",
       "     </g>\n",
       "     <g id=\"text_13\">\n",
       "      <!-- $\\mathdefault{10^{5}}$ -->\n",
       "      <g transform=\"translate(20.878125 59.884635) scale(0.1 -0.1)\">\n",
       "       <use xlink:href=\"#DejaVuSans-31\" transform=\"translate(0 0.684375)\"/>\n",
       "       <use xlink:href=\"#DejaVuSans-30\" transform=\"translate(63.623047 0.684375)\"/>\n",
       "       <use xlink:href=\"#DejaVuSans-35\" transform=\"translate(128.203125 38.965625) scale(0.7)\"/>\n",
       "      </g>\n",
       "     </g>\n",
       "    </g>\n",
       "    <g id=\"ytick_6\">\n",
       "     <g id=\"line2d_13\">\n",
       "      <g>\n",
       "       <use xlink:href=\"#mfda946d32d\" x=\"45.478125\" y=\"33.445314\" style=\"stroke: #000000; stroke-width: 0.8\"/>\n",
       "      </g>\n",
       "     </g>\n",
       "     <g id=\"text_14\">\n",
       "      <!-- $\\mathdefault{10^{6}}$ -->\n",
       "      <g transform=\"translate(20.878125 37.244533) scale(0.1 -0.1)\">\n",
       "       <use xlink:href=\"#DejaVuSans-31\" transform=\"translate(0 0.765625)\"/>\n",
       "       <use xlink:href=\"#DejaVuSans-30\" transform=\"translate(63.623047 0.765625)\"/>\n",
       "       <use xlink:href=\"#DejaVuSans-36\" transform=\"translate(128.203125 39.046875) scale(0.7)\"/>\n",
       "      </g>\n",
       "     </g>\n",
       "    </g>\n",
       "    <g id=\"ytick_7\">\n",
       "     <g id=\"line2d_14\">\n",
       "      <defs>\n",
       "       <path id=\"mfac8bcf635\" d=\"M 0 0 \n",
       "L -2 0 \n",
       "\" style=\"stroke: #000000; stroke-width: 0.6\"/>\n",
       "      </defs>\n",
       "      <g>\n",
       "       <use xlink:href=\"#mfac8bcf635\" x=\"45.478125\" y=\"147.681777\" style=\"stroke: #000000; stroke-width: 0.6\"/>\n",
       "      </g>\n",
       "     </g>\n",
       "    </g>\n",
       "    <g id=\"ytick_8\">\n",
       "     <g id=\"line2d_15\">\n",
       "      <g>\n",
       "       <use xlink:href=\"#mfac8bcf635\" x=\"45.478125\" y=\"139.830473\" style=\"stroke: #000000; stroke-width: 0.6\"/>\n",
       "      </g>\n",
       "     </g>\n",
       "    </g>\n",
       "    <g id=\"ytick_9\">\n",
       "     <g id=\"line2d_16\">\n",
       "      <g>\n",
       "       <use xlink:href=\"#mfac8bcf635\" x=\"45.478125\" y=\"135.843749\" style=\"stroke: #000000; stroke-width: 0.6\"/>\n",
       "      </g>\n",
       "     </g>\n",
       "    </g>\n",
       "    <g id=\"ytick_10\">\n",
       "     <g id=\"line2d_17\">\n",
       "      <g>\n",
       "       <use xlink:href=\"#mfac8bcf635\" x=\"45.478125\" y=\"133.015123\" style=\"stroke: #000000; stroke-width: 0.6\"/>\n",
       "      </g>\n",
       "     </g>\n",
       "    </g>\n",
       "    <g id=\"ytick_11\">\n",
       "     <g id=\"line2d_18\">\n",
       "      <g>\n",
       "       <use xlink:href=\"#mfac8bcf635\" x=\"45.478125\" y=\"130.82107\" style=\"stroke: #000000; stroke-width: 0.6\"/>\n",
       "      </g>\n",
       "     </g>\n",
       "    </g>\n",
       "    <g id=\"ytick_12\">\n",
       "     <g id=\"line2d_19\">\n",
       "      <g>\n",
       "       <use xlink:href=\"#mfac8bcf635\" x=\"45.478125\" y=\"129.028399\" style=\"stroke: #000000; stroke-width: 0.6\"/>\n",
       "      </g>\n",
       "     </g>\n",
       "    </g>\n",
       "    <g id=\"ytick_13\">\n",
       "     <g id=\"line2d_20\">\n",
       "      <g>\n",
       "       <use xlink:href=\"#mfac8bcf635\" x=\"45.478125\" y=\"127.512717\" style=\"stroke: #000000; stroke-width: 0.6\"/>\n",
       "      </g>\n",
       "     </g>\n",
       "    </g>\n",
       "    <g id=\"ytick_14\">\n",
       "     <g id=\"line2d_21\">\n",
       "      <g>\n",
       "       <use xlink:href=\"#mfac8bcf635\" x=\"45.478125\" y=\"126.199773\" style=\"stroke: #000000; stroke-width: 0.6\"/>\n",
       "      </g>\n",
       "     </g>\n",
       "    </g>\n",
       "    <g id=\"ytick_15\">\n",
       "     <g id=\"line2d_22\">\n",
       "      <g>\n",
       "       <use xlink:href=\"#mfac8bcf635\" x=\"45.478125\" y=\"125.041675\" style=\"stroke: #000000; stroke-width: 0.6\"/>\n",
       "      </g>\n",
       "     </g>\n",
       "    </g>\n",
       "    <g id=\"ytick_16\">\n",
       "     <g id=\"line2d_23\">\n",
       "      <g>\n",
       "       <use xlink:href=\"#mfac8bcf635\" x=\"45.478125\" y=\"117.190371\" style=\"stroke: #000000; stroke-width: 0.6\"/>\n",
       "      </g>\n",
       "     </g>\n",
       "    </g>\n",
       "    <g id=\"ytick_17\">\n",
       "     <g id=\"line2d_24\">\n",
       "      <g>\n",
       "       <use xlink:href=\"#mfac8bcf635\" x=\"45.478125\" y=\"113.203647\" style=\"stroke: #000000; stroke-width: 0.6\"/>\n",
       "      </g>\n",
       "     </g>\n",
       "    </g>\n",
       "    <g id=\"ytick_18\">\n",
       "     <g id=\"line2d_25\">\n",
       "      <g>\n",
       "       <use xlink:href=\"#mfac8bcf635\" x=\"45.478125\" y=\"110.375021\" style=\"stroke: #000000; stroke-width: 0.6\"/>\n",
       "      </g>\n",
       "     </g>\n",
       "    </g>\n",
       "    <g id=\"ytick_19\">\n",
       "     <g id=\"line2d_26\">\n",
       "      <g>\n",
       "       <use xlink:href=\"#mfac8bcf635\" x=\"45.478125\" y=\"108.180969\" style=\"stroke: #000000; stroke-width: 0.6\"/>\n",
       "      </g>\n",
       "     </g>\n",
       "    </g>\n",
       "    <g id=\"ytick_20\">\n",
       "     <g id=\"line2d_27\">\n",
       "      <g>\n",
       "       <use xlink:href=\"#mfac8bcf635\" x=\"45.478125\" y=\"106.388297\" style=\"stroke: #000000; stroke-width: 0.6\"/>\n",
       "      </g>\n",
       "     </g>\n",
       "    </g>\n",
       "    <g id=\"ytick_21\">\n",
       "     <g id=\"line2d_28\">\n",
       "      <g>\n",
       "       <use xlink:href=\"#mfac8bcf635\" x=\"45.478125\" y=\"104.872615\" style=\"stroke: #000000; stroke-width: 0.6\"/>\n",
       "      </g>\n",
       "     </g>\n",
       "    </g>\n",
       "    <g id=\"ytick_22\">\n",
       "     <g id=\"line2d_29\">\n",
       "      <g>\n",
       "       <use xlink:href=\"#mfac8bcf635\" x=\"45.478125\" y=\"103.559672\" style=\"stroke: #000000; stroke-width: 0.6\"/>\n",
       "      </g>\n",
       "     </g>\n",
       "    </g>\n",
       "    <g id=\"ytick_23\">\n",
       "     <g id=\"line2d_30\">\n",
       "      <g>\n",
       "       <use xlink:href=\"#mfac8bcf635\" x=\"45.478125\" y=\"102.401573\" style=\"stroke: #000000; stroke-width: 0.6\"/>\n",
       "      </g>\n",
       "     </g>\n",
       "    </g>\n",
       "    <g id=\"ytick_24\">\n",
       "     <g id=\"line2d_31\">\n",
       "      <g>\n",
       "       <use xlink:href=\"#mfac8bcf635\" x=\"45.478125\" y=\"94.550269\" style=\"stroke: #000000; stroke-width: 0.6\"/>\n",
       "      </g>\n",
       "     </g>\n",
       "    </g>\n",
       "    <g id=\"ytick_25\">\n",
       "     <g id=\"line2d_32\">\n",
       "      <g>\n",
       "       <use xlink:href=\"#mfac8bcf635\" x=\"45.478125\" y=\"90.563545\" style=\"stroke: #000000; stroke-width: 0.6\"/>\n",
       "      </g>\n",
       "     </g>\n",
       "    </g>\n",
       "    <g id=\"ytick_26\">\n",
       "     <g id=\"line2d_33\">\n",
       "      <g>\n",
       "       <use xlink:href=\"#mfac8bcf635\" x=\"45.478125\" y=\"87.73492\" style=\"stroke: #000000; stroke-width: 0.6\"/>\n",
       "      </g>\n",
       "     </g>\n",
       "    </g>\n",
       "    <g id=\"ytick_27\">\n",
       "     <g id=\"line2d_34\">\n",
       "      <g>\n",
       "       <use xlink:href=\"#mfac8bcf635\" x=\"45.478125\" y=\"85.540867\" style=\"stroke: #000000; stroke-width: 0.6\"/>\n",
       "      </g>\n",
       "     </g>\n",
       "    </g>\n",
       "    <g id=\"ytick_28\">\n",
       "     <g id=\"line2d_35\">\n",
       "      <g>\n",
       "       <use xlink:href=\"#mfac8bcf635\" x=\"45.478125\" y=\"83.748196\" style=\"stroke: #000000; stroke-width: 0.6\"/>\n",
       "      </g>\n",
       "     </g>\n",
       "    </g>\n",
       "    <g id=\"ytick_29\">\n",
       "     <g id=\"line2d_36\">\n",
       "      <g>\n",
       "       <use xlink:href=\"#mfac8bcf635\" x=\"45.478125\" y=\"82.232514\" style=\"stroke: #000000; stroke-width: 0.6\"/>\n",
       "      </g>\n",
       "     </g>\n",
       "    </g>\n",
       "    <g id=\"ytick_30\">\n",
       "     <g id=\"line2d_37\">\n",
       "      <g>\n",
       "       <use xlink:href=\"#mfac8bcf635\" x=\"45.478125\" y=\"80.91957\" style=\"stroke: #000000; stroke-width: 0.6\"/>\n",
       "      </g>\n",
       "     </g>\n",
       "    </g>\n",
       "    <g id=\"ytick_31\">\n",
       "     <g id=\"line2d_38\">\n",
       "      <g>\n",
       "       <use xlink:href=\"#mfac8bcf635\" x=\"45.478125\" y=\"79.761472\" style=\"stroke: #000000; stroke-width: 0.6\"/>\n",
       "      </g>\n",
       "     </g>\n",
       "    </g>\n",
       "    <g id=\"ytick_32\">\n",
       "     <g id=\"line2d_39\">\n",
       "      <g>\n",
       "       <use xlink:href=\"#mfac8bcf635\" x=\"45.478125\" y=\"71.910168\" style=\"stroke: #000000; stroke-width: 0.6\"/>\n",
       "      </g>\n",
       "     </g>\n",
       "    </g>\n",
       "    <g id=\"ytick_33\">\n",
       "     <g id=\"line2d_40\">\n",
       "      <g>\n",
       "       <use xlink:href=\"#mfac8bcf635\" x=\"45.478125\" y=\"67.923444\" style=\"stroke: #000000; stroke-width: 0.6\"/>\n",
       "      </g>\n",
       "     </g>\n",
       "    </g>\n",
       "    <g id=\"ytick_34\">\n",
       "     <g id=\"line2d_41\">\n",
       "      <g>\n",
       "       <use xlink:href=\"#mfac8bcf635\" x=\"45.478125\" y=\"65.094818\" style=\"stroke: #000000; stroke-width: 0.6\"/>\n",
       "      </g>\n",
       "     </g>\n",
       "    </g>\n",
       "    <g id=\"ytick_35\">\n",
       "     <g id=\"line2d_42\">\n",
       "      <g>\n",
       "       <use xlink:href=\"#mfac8bcf635\" x=\"45.478125\" y=\"62.900766\" style=\"stroke: #000000; stroke-width: 0.6\"/>\n",
       "      </g>\n",
       "     </g>\n",
       "    </g>\n",
       "    <g id=\"ytick_36\">\n",
       "     <g id=\"line2d_43\">\n",
       "      <g>\n",
       "       <use xlink:href=\"#mfac8bcf635\" x=\"45.478125\" y=\"61.108094\" style=\"stroke: #000000; stroke-width: 0.6\"/>\n",
       "      </g>\n",
       "     </g>\n",
       "    </g>\n",
       "    <g id=\"ytick_37\">\n",
       "     <g id=\"line2d_44\">\n",
       "      <g>\n",
       "       <use xlink:href=\"#mfac8bcf635\" x=\"45.478125\" y=\"59.592412\" style=\"stroke: #000000; stroke-width: 0.6\"/>\n",
       "      </g>\n",
       "     </g>\n",
       "    </g>\n",
       "    <g id=\"ytick_38\">\n",
       "     <g id=\"line2d_45\">\n",
       "      <g>\n",
       "       <use xlink:href=\"#mfac8bcf635\" x=\"45.478125\" y=\"58.279468\" style=\"stroke: #000000; stroke-width: 0.6\"/>\n",
       "      </g>\n",
       "     </g>\n",
       "    </g>\n",
       "    <g id=\"ytick_39\">\n",
       "     <g id=\"line2d_46\">\n",
       "      <g>\n",
       "       <use xlink:href=\"#mfac8bcf635\" x=\"45.478125\" y=\"57.12137\" style=\"stroke: #000000; stroke-width: 0.6\"/>\n",
       "      </g>\n",
       "     </g>\n",
       "    </g>\n",
       "    <g id=\"ytick_40\">\n",
       "     <g id=\"line2d_47\">\n",
       "      <g>\n",
       "       <use xlink:href=\"#mfac8bcf635\" x=\"45.478125\" y=\"49.270066\" style=\"stroke: #000000; stroke-width: 0.6\"/>\n",
       "      </g>\n",
       "     </g>\n",
       "    </g>\n",
       "    <g id=\"ytick_41\">\n",
       "     <g id=\"line2d_48\">\n",
       "      <g>\n",
       "       <use xlink:href=\"#mfac8bcf635\" x=\"45.478125\" y=\"45.283342\" style=\"stroke: #000000; stroke-width: 0.6\"/>\n",
       "      </g>\n",
       "     </g>\n",
       "    </g>\n",
       "    <g id=\"ytick_42\">\n",
       "     <g id=\"line2d_49\">\n",
       "      <g>\n",
       "       <use xlink:href=\"#mfac8bcf635\" x=\"45.478125\" y=\"42.454717\" style=\"stroke: #000000; stroke-width: 0.6\"/>\n",
       "      </g>\n",
       "     </g>\n",
       "    </g>\n",
       "    <g id=\"ytick_43\">\n",
       "     <g id=\"line2d_50\">\n",
       "      <g>\n",
       "       <use xlink:href=\"#mfac8bcf635\" x=\"45.478125\" y=\"40.260664\" style=\"stroke: #000000; stroke-width: 0.6\"/>\n",
       "      </g>\n",
       "     </g>\n",
       "    </g>\n",
       "    <g id=\"ytick_44\">\n",
       "     <g id=\"line2d_51\">\n",
       "      <g>\n",
       "       <use xlink:href=\"#mfac8bcf635\" x=\"45.478125\" y=\"38.467993\" style=\"stroke: #000000; stroke-width: 0.6\"/>\n",
       "      </g>\n",
       "     </g>\n",
       "    </g>\n",
       "    <g id=\"ytick_45\">\n",
       "     <g id=\"line2d_52\">\n",
       "      <g>\n",
       "       <use xlink:href=\"#mfac8bcf635\" x=\"45.478125\" y=\"36.95231\" style=\"stroke: #000000; stroke-width: 0.6\"/>\n",
       "      </g>\n",
       "     </g>\n",
       "    </g>\n",
       "    <g id=\"ytick_46\">\n",
       "     <g id=\"line2d_53\">\n",
       "      <g>\n",
       "       <use xlink:href=\"#mfac8bcf635\" x=\"45.478125\" y=\"35.639367\" style=\"stroke: #000000; stroke-width: 0.6\"/>\n",
       "      </g>\n",
       "     </g>\n",
       "    </g>\n",
       "    <g id=\"ytick_47\">\n",
       "     <g id=\"line2d_54\">\n",
       "      <g>\n",
       "       <use xlink:href=\"#mfac8bcf635\" x=\"45.478125\" y=\"34.481269\" style=\"stroke: #000000; stroke-width: 0.6\"/>\n",
       "      </g>\n",
       "     </g>\n",
       "    </g>\n",
       "    <g id=\"ytick_48\">\n",
       "     <g id=\"line2d_55\">\n",
       "      <g>\n",
       "       <use xlink:href=\"#mfac8bcf635\" x=\"45.478125\" y=\"26.629965\" style=\"stroke: #000000; stroke-width: 0.6\"/>\n",
       "      </g>\n",
       "     </g>\n",
       "    </g>\n",
       "    <g id=\"ytick_49\">\n",
       "     <g id=\"line2d_56\">\n",
       "      <g>\n",
       "       <use xlink:href=\"#mfac8bcf635\" x=\"45.478125\" y=\"22.643241\" style=\"stroke: #000000; stroke-width: 0.6\"/>\n",
       "      </g>\n",
       "     </g>\n",
       "    </g>\n",
       "    <g id=\"text_15\">\n",
       "     <!-- Count -->\n",
       "     <g transform=\"translate(14.798438 99.946562) rotate(-90) scale(0.1 -0.1)\">\n",
       "      <use xlink:href=\"#DejaVuSans-43\"/>\n",
       "      <use xlink:href=\"#DejaVuSans-6f\" x=\"69.824219\"/>\n",
       "      <use xlink:href=\"#DejaVuSans-75\" x=\"131.005859\"/>\n",
       "      <use xlink:href=\"#DejaVuSans-6e\" x=\"194.384766\"/>\n",
       "      <use xlink:href=\"#DejaVuSans-74\" x=\"257.763672\"/>\n",
       "     </g>\n",
       "    </g>\n",
       "   </g>\n",
       "   <g id=\"line2d_57\">\n",
       "    <path clip-path=\"url(#p59c863b3d4)\" style=\"fill: none; stroke: #424242; stroke-width: 2.25; stroke-linecap: square\"/>\n",
       "   </g>\n",
       "   <g id=\"line2d_58\">\n",
       "    <path clip-path=\"url(#p59c863b3d4)\" style=\"fill: none; stroke: #424242; stroke-width: 2.25; stroke-linecap: square\"/>\n",
       "   </g>\n",
       "   <g id=\"line2d_59\">\n",
       "    <path clip-path=\"url(#p59c863b3d4)\" style=\"fill: none; stroke: #424242; stroke-width: 2.25; stroke-linecap: square\"/>\n",
       "   </g>\n",
       "   <g id=\"line2d_60\">\n",
       "    <path clip-path=\"url(#p59c863b3d4)\" style=\"fill: none; stroke: #424242; stroke-width: 2.25; stroke-linecap: square\"/>\n",
       "   </g>\n",
       "   <g id=\"line2d_61\">\n",
       "    <path clip-path=\"url(#p59c863b3d4)\" style=\"fill: none; stroke: #424242; stroke-width: 2.25; stroke-linecap: square\"/>\n",
       "   </g>\n",
       "   <g id=\"line2d_62\">\n",
       "    <path clip-path=\"url(#p59c863b3d4)\" style=\"fill: none; stroke: #424242; stroke-width: 2.25; stroke-linecap: square\"/>\n",
       "   </g>\n",
       "   <g id=\"line2d_63\">\n",
       "    <path clip-path=\"url(#p59c863b3d4)\" style=\"fill: none; stroke: #424242; stroke-width: 2.25; stroke-linecap: square\"/>\n",
       "   </g>\n",
       "   <g id=\"patch_10\">\n",
       "    <path d=\"M 45.478125 147.878125 \n",
       "L 45.478125 22.318125 \n",
       "\" style=\"fill: none; stroke: #000000; stroke-width: 0.8; stroke-linejoin: miter; stroke-linecap: square\"/>\n",
       "   </g>\n",
       "   <g id=\"patch_11\">\n",
       "    <path d=\"M 409.34044 147.878125 \n",
       "L 409.34044 22.318125 \n",
       "\" style=\"fill: none; stroke: #000000; stroke-width: 0.8; stroke-linejoin: miter; stroke-linecap: square\"/>\n",
       "   </g>\n",
       "   <g id=\"patch_12\">\n",
       "    <path d=\"M 45.478125 147.878125 \n",
       "L 409.34044 147.878125 \n",
       "\" style=\"fill: none; stroke: #000000; stroke-width: 0.8; stroke-linejoin: miter; stroke-linecap: square\"/>\n",
       "   </g>\n",
       "   <g id=\"patch_13\">\n",
       "    <path d=\"M 45.478125 22.318125 \n",
       "L 409.34044 22.318125 \n",
       "\" style=\"fill: none; stroke: #000000; stroke-width: 0.8; stroke-linejoin: miter; stroke-linecap: square\"/>\n",
       "   </g>\n",
       "   <g id=\"text_16\">\n",
       "    <!-- 33,335 -->\n",
       "    <g transform=\"translate(105.953309 53.609439) scale(0.1 -0.1)\">\n",
       "     <defs>\n",
       "      <path id=\"DejaVuSans-2c\" d=\"M 750 794 \n",
       "L 1409 794 \n",
       "L 1409 256 \n",
       "L 897 -744 \n",
       "L 494 -744 \n",
       "L 750 256 \n",
       "L 750 794 \n",
       "z\n",
       "\" transform=\"scale(0.015625)\"/>\n",
       "     </defs>\n",
       "     <use xlink:href=\"#DejaVuSans-33\"/>\n",
       "     <use xlink:href=\"#DejaVuSans-33\" x=\"63.623047\"/>\n",
       "     <use xlink:href=\"#DejaVuSans-2c\" x=\"127.246094\"/>\n",
       "     <use xlink:href=\"#DejaVuSans-33\" x=\"159.033203\"/>\n",
       "     <use xlink:href=\"#DejaVuSans-33\" x=\"222.65625\"/>\n",
       "     <use xlink:href=\"#DejaVuSans-35\" x=\"286.279297\"/>\n",
       "    </g>\n",
       "    <!-- (18.6%) -->\n",
       "    <g transform=\"translate(103.663465 64.807252) scale(0.1 -0.1)\">\n",
       "     <defs>\n",
       "      <path id=\"DejaVuSans-28\" d=\"M 1984 4856 \n",
       "Q 1566 4138 1362 3434 \n",
       "Q 1159 2731 1159 2009 \n",
       "Q 1159 1288 1364 580 \n",
       "Q 1569 -128 1984 -844 \n",
       "L 1484 -844 \n",
       "Q 1016 -109 783 600 \n",
       "Q 550 1309 550 2009 \n",
       "Q 550 2706 781 3412 \n",
       "Q 1013 4119 1484 4856 \n",
       "L 1984 4856 \n",
       "z\n",
       "\" transform=\"scale(0.015625)\"/>\n",
       "      <path id=\"DejaVuSans-38\" d=\"M 2034 2216 \n",
       "Q 1584 2216 1326 1975 \n",
       "Q 1069 1734 1069 1313 \n",
       "Q 1069 891 1326 650 \n",
       "Q 1584 409 2034 409 \n",
       "Q 2484 409 2743 651 \n",
       "Q 3003 894 3003 1313 \n",
       "Q 3003 1734 2745 1975 \n",
       "Q 2488 2216 2034 2216 \n",
       "z\n",
       "M 1403 2484 \n",
       "Q 997 2584 770 2862 \n",
       "Q 544 3141 544 3541 \n",
       "Q 544 4100 942 4425 \n",
       "Q 1341 4750 2034 4750 \n",
       "Q 2731 4750 3128 4425 \n",
       "Q 3525 4100 3525 3541 \n",
       "Q 3525 3141 3298 2862 \n",
       "Q 3072 2584 2669 2484 \n",
       "Q 3125 2378 3379 2068 \n",
       "Q 3634 1759 3634 1313 \n",
       "Q 3634 634 3220 271 \n",
       "Q 2806 -91 2034 -91 \n",
       "Q 1263 -91 848 271 \n",
       "Q 434 634 434 1313 \n",
       "Q 434 1759 690 2068 \n",
       "Q 947 2378 1403 2484 \n",
       "z\n",
       "M 1172 3481 \n",
       "Q 1172 3119 1398 2916 \n",
       "Q 1625 2713 2034 2713 \n",
       "Q 2441 2713 2670 2916 \n",
       "Q 2900 3119 2900 3481 \n",
       "Q 2900 3844 2670 4047 \n",
       "Q 2441 4250 2034 4250 \n",
       "Q 1625 4250 1398 4047 \n",
       "Q 1172 3844 1172 3481 \n",
       "z\n",
       "\" transform=\"scale(0.015625)\"/>\n",
       "      <path id=\"DejaVuSans-2e\" d=\"M 684 794 \n",
       "L 1344 794 \n",
       "L 1344 0 \n",
       "L 684 0 \n",
       "L 684 794 \n",
       "z\n",
       "\" transform=\"scale(0.015625)\"/>\n",
       "      <path id=\"DejaVuSans-25\" d=\"M 4653 2053 \n",
       "Q 4381 2053 4226 1822 \n",
       "Q 4072 1591 4072 1178 \n",
       "Q 4072 772 4226 539 \n",
       "Q 4381 306 4653 306 \n",
       "Q 4919 306 5073 539 \n",
       "Q 5228 772 5228 1178 \n",
       "Q 5228 1588 5073 1820 \n",
       "Q 4919 2053 4653 2053 \n",
       "z\n",
       "M 4653 2450 \n",
       "Q 5147 2450 5437 2106 \n",
       "Q 5728 1763 5728 1178 \n",
       "Q 5728 594 5436 251 \n",
       "Q 5144 -91 4653 -91 \n",
       "Q 4153 -91 3862 251 \n",
       "Q 3572 594 3572 1178 \n",
       "Q 3572 1766 3864 2108 \n",
       "Q 4156 2450 4653 2450 \n",
       "z\n",
       "M 1428 4353 \n",
       "Q 1159 4353 1004 4120 \n",
       "Q 850 3888 850 3481 \n",
       "Q 850 3069 1003 2837 \n",
       "Q 1156 2606 1428 2606 \n",
       "Q 1700 2606 1854 2837 \n",
       "Q 2009 3069 2009 3481 \n",
       "Q 2009 3884 1853 4118 \n",
       "Q 1697 4353 1428 4353 \n",
       "z\n",
       "M 4250 4750 \n",
       "L 4750 4750 \n",
       "L 1831 -91 \n",
       "L 1331 -91 \n",
       "L 4250 4750 \n",
       "z\n",
       "M 1428 4750 \n",
       "Q 1922 4750 2215 4408 \n",
       "Q 2509 4066 2509 3481 \n",
       "Q 2509 2891 2217 2550 \n",
       "Q 1925 2209 1428 2209 \n",
       "Q 931 2209 642 2551 \n",
       "Q 353 2894 353 3481 \n",
       "Q 353 4063 643 4406 \n",
       "Q 934 4750 1428 4750 \n",
       "z\n",
       "\" transform=\"scale(0.015625)\"/>\n",
       "      <path id=\"DejaVuSans-29\" d=\"M 513 4856 \n",
       "L 1013 4856 \n",
       "Q 1481 4119 1714 3412 \n",
       "Q 1947 2706 1947 2009 \n",
       "Q 1947 1309 1714 600 \n",
       "Q 1481 -109 1013 -844 \n",
       "L 513 -844 \n",
       "Q 928 -128 1133 580 \n",
       "Q 1338 1288 1338 2009 \n",
       "Q 1338 2731 1133 3434 \n",
       "Q 928 4138 513 4856 \n",
       "z\n",
       "\" transform=\"scale(0.015625)\"/>\n",
       "     </defs>\n",
       "     <use xlink:href=\"#DejaVuSans-28\"/>\n",
       "     <use xlink:href=\"#DejaVuSans-31\" x=\"39.013672\"/>\n",
       "     <use xlink:href=\"#DejaVuSans-38\" x=\"102.636719\"/>\n",
       "     <use xlink:href=\"#DejaVuSans-2e\" x=\"166.259766\"/>\n",
       "     <use xlink:href=\"#DejaVuSans-36\" x=\"198.046875\"/>\n",
       "     <use xlink:href=\"#DejaVuSans-25\" x=\"261.669922\"/>\n",
       "     <use xlink:href=\"#DejaVuSans-29\" x=\"356.689453\"/>\n",
       "    </g>\n",
       "   </g>\n",
       "   <g id=\"text_17\">\n",
       "    <!-- 596 -->\n",
       "    <g transform=\"translate(269.845863 93.173268) scale(0.1 -0.1)\">\n",
       "     <defs>\n",
       "      <path id=\"DejaVuSans-39\" d=\"M 703 97 \n",
       "L 703 672 \n",
       "Q 941 559 1184 500 \n",
       "Q 1428 441 1663 441 \n",
       "Q 2288 441 2617 861 \n",
       "Q 2947 1281 2994 2138 \n",
       "Q 2813 1869 2534 1725 \n",
       "Q 2256 1581 1919 1581 \n",
       "Q 1219 1581 811 2004 \n",
       "Q 403 2428 403 3163 \n",
       "Q 403 3881 828 4315 \n",
       "Q 1253 4750 1959 4750 \n",
       "Q 2769 4750 3195 4129 \n",
       "Q 3622 3509 3622 2328 \n",
       "Q 3622 1225 3098 567 \n",
       "Q 2575 -91 1691 -91 \n",
       "Q 1453 -91 1209 -44 \n",
       "Q 966 3 703 97 \n",
       "z\n",
       "M 1959 2075 \n",
       "Q 2384 2075 2632 2365 \n",
       "Q 2881 2656 2881 3163 \n",
       "Q 2881 3666 2632 3958 \n",
       "Q 2384 4250 1959 4250 \n",
       "Q 1534 4250 1286 3958 \n",
       "Q 1038 3666 1038 3163 \n",
       "Q 1038 2656 1286 2365 \n",
       "Q 1534 2075 1959 2075 \n",
       "z\n",
       "\" transform=\"scale(0.015625)\"/>\n",
       "     </defs>\n",
       "     <use xlink:href=\"#DejaVuSans-35\"/>\n",
       "     <use xlink:href=\"#DejaVuSans-39\" x=\"63.623047\"/>\n",
       "     <use xlink:href=\"#DejaVuSans-36\" x=\"127.246094\"/>\n",
       "    </g>\n",
       "    <!-- (0.3%) -->\n",
       "    <g transform=\"translate(262.785707 104.37108) scale(0.1 -0.1)\">\n",
       "     <use xlink:href=\"#DejaVuSans-28\"/>\n",
       "     <use xlink:href=\"#DejaVuSans-30\" x=\"39.013672\"/>\n",
       "     <use xlink:href=\"#DejaVuSans-2e\" x=\"102.636719\"/>\n",
       "     <use xlink:href=\"#DejaVuSans-33\" x=\"134.423828\"/>\n",
       "     <use xlink:href=\"#DejaVuSans-25\" x=\"198.046875\"/>\n",
       "     <use xlink:href=\"#DejaVuSans-29\" x=\"293.066406\"/>\n",
       "    </g>\n",
       "   </g>\n",
       "   <g id=\"text_18\">\n",
       "    <!-- 766 -->\n",
       "    <g transform=\"translate(217.865533 90.706625) scale(0.1 -0.1)\">\n",
       "     <use xlink:href=\"#DejaVuSans-37\"/>\n",
       "     <use xlink:href=\"#DejaVuSans-36\" x=\"63.623047\"/>\n",
       "     <use xlink:href=\"#DejaVuSans-36\" x=\"127.246094\"/>\n",
       "    </g>\n",
       "    <!-- (0.4%) -->\n",
       "    <g transform=\"translate(210.805376 101.904437) scale(0.1 -0.1)\">\n",
       "     <use xlink:href=\"#DejaVuSans-28\"/>\n",
       "     <use xlink:href=\"#DejaVuSans-30\" x=\"39.013672\"/>\n",
       "     <use xlink:href=\"#DejaVuSans-2e\" x=\"102.636719\"/>\n",
       "     <use xlink:href=\"#DejaVuSans-34\" x=\"134.423828\"/>\n",
       "     <use xlink:href=\"#DejaVuSans-25\" x=\"198.046875\"/>\n",
       "     <use xlink:href=\"#DejaVuSans-29\" x=\"293.066406\"/>\n",
       "    </g>\n",
       "   </g>\n",
       "   <g id=\"text_19\">\n",
       "    <!-- 14 -->\n",
       "    <g transform=\"translate(376.987775 129.920499) scale(0.1 -0.1)\">\n",
       "     <use xlink:href=\"#DejaVuSans-31\"/>\n",
       "     <use xlink:href=\"#DejaVuSans-34\" x=\"63.623047\"/>\n",
       "    </g>\n",
       "    <!-- (0.0%) -->\n",
       "    <g transform=\"translate(366.746369 141.118311) scale(0.1 -0.1)\">\n",
       "     <use xlink:href=\"#DejaVuSans-28\"/>\n",
       "     <use xlink:href=\"#DejaVuSans-30\" x=\"39.013672\"/>\n",
       "     <use xlink:href=\"#DejaVuSans-2e\" x=\"102.636719\"/>\n",
       "     <use xlink:href=\"#DejaVuSans-30\" x=\"134.423828\"/>\n",
       "     <use xlink:href=\"#DejaVuSans-25\" x=\"198.046875\"/>\n",
       "     <use xlink:href=\"#DejaVuSans-29\" x=\"293.066406\"/>\n",
       "    </g>\n",
       "   </g>\n",
       "   <g id=\"text_20\">\n",
       "    <!-- 1,001 -->\n",
       "    <g transform=\"translate(161.114889 88.076327) scale(0.1 -0.1)\">\n",
       "     <use xlink:href=\"#DejaVuSans-31\"/>\n",
       "     <use xlink:href=\"#DejaVuSans-2c\" x=\"63.623047\"/>\n",
       "     <use xlink:href=\"#DejaVuSans-30\" x=\"95.410156\"/>\n",
       "     <use xlink:href=\"#DejaVuSans-30\" x=\"159.033203\"/>\n",
       "     <use xlink:href=\"#DejaVuSans-31\" x=\"222.65625\"/>\n",
       "    </g>\n",
       "    <!-- (0.6%) -->\n",
       "    <g transform=\"translate(158.825046 99.27414) scale(0.1 -0.1)\">\n",
       "     <use xlink:href=\"#DejaVuSans-28\"/>\n",
       "     <use xlink:href=\"#DejaVuSans-30\" x=\"39.013672\"/>\n",
       "     <use xlink:href=\"#DejaVuSans-2e\" x=\"102.636719\"/>\n",
       "     <use xlink:href=\"#DejaVuSans-36\" x=\"134.423828\"/>\n",
       "     <use xlink:href=\"#DejaVuSans-25\" x=\"198.046875\"/>\n",
       "     <use xlink:href=\"#DejaVuSans-29\" x=\"293.066406\"/>\n",
       "    </g>\n",
       "   </g>\n",
       "   <g id=\"text_21\">\n",
       "    <!-- 143,645 -->\n",
       "    <g transform=\"translate(50.791728 39.246829) scale(0.1 -0.1)\">\n",
       "     <use xlink:href=\"#DejaVuSans-31\"/>\n",
       "     <use xlink:href=\"#DejaVuSans-34\" x=\"63.623047\"/>\n",
       "     <use xlink:href=\"#DejaVuSans-33\" x=\"127.246094\"/>\n",
       "     <use xlink:href=\"#DejaVuSans-2c\" x=\"190.869141\"/>\n",
       "     <use xlink:href=\"#DejaVuSans-36\" x=\"222.65625\"/>\n",
       "     <use xlink:href=\"#DejaVuSans-34\" x=\"286.279297\"/>\n",
       "     <use xlink:href=\"#DejaVuSans-35\" x=\"349.902344\"/>\n",
       "    </g>\n",
       "    <!-- (80.1%) -->\n",
       "    <g transform=\"translate(51.683134 50.444642) scale(0.1 -0.1)\">\n",
       "     <use xlink:href=\"#DejaVuSans-28\"/>\n",
       "     <use xlink:href=\"#DejaVuSans-38\" x=\"39.013672\"/>\n",
       "     <use xlink:href=\"#DejaVuSans-30\" x=\"102.636719\"/>\n",
       "     <use xlink:href=\"#DejaVuSans-2e\" x=\"166.259766\"/>\n",
       "     <use xlink:href=\"#DejaVuSans-31\" x=\"198.046875\"/>\n",
       "     <use xlink:href=\"#DejaVuSans-25\" x=\"261.669922\"/>\n",
       "     <use xlink:href=\"#DejaVuSans-29\" x=\"356.689453\"/>\n",
       "    </g>\n",
       "   </g>\n",
       "   <g id=\"text_22\">\n",
       "    <!-- Landscape of 179,357 Unique Concepts -->\n",
       "    <g transform=\"translate(107.847095 16.318125) scale(0.12 -0.12)\">\n",
       "     <defs>\n",
       "      <path id=\"DejaVuSans-4c\" d=\"M 628 4666 \n",
       "L 1259 4666 \n",
       "L 1259 531 \n",
       "L 3531 531 \n",
       "L 3531 0 \n",
       "L 628 0 \n",
       "L 628 4666 \n",
       "z\n",
       "\" transform=\"scale(0.015625)\"/>\n",
       "      <path id=\"DejaVuSans-64\" d=\"M 2906 2969 \n",
       "L 2906 4863 \n",
       "L 3481 4863 \n",
       "L 3481 0 \n",
       "L 2906 0 \n",
       "L 2906 525 \n",
       "Q 2725 213 2448 61 \n",
       "Q 2172 -91 1784 -91 \n",
       "Q 1150 -91 751 415 \n",
       "Q 353 922 353 1747 \n",
       "Q 353 2572 751 3078 \n",
       "Q 1150 3584 1784 3584 \n",
       "Q 2172 3584 2448 3432 \n",
       "Q 2725 3281 2906 2969 \n",
       "z\n",
       "M 947 1747 \n",
       "Q 947 1113 1208 752 \n",
       "Q 1469 391 1925 391 \n",
       "Q 2381 391 2643 752 \n",
       "Q 2906 1113 2906 1747 \n",
       "Q 2906 2381 2643 2742 \n",
       "Q 2381 3103 1925 3103 \n",
       "Q 1469 3103 1208 2742 \n",
       "Q 947 2381 947 1747 \n",
       "z\n",
       "\" transform=\"scale(0.015625)\"/>\n",
       "      <path id=\"DejaVuSans-66\" d=\"M 2375 4863 \n",
       "L 2375 4384 \n",
       "L 1825 4384 \n",
       "Q 1516 4384 1395 4259 \n",
       "Q 1275 4134 1275 3809 \n",
       "L 1275 3500 \n",
       "L 2222 3500 \n",
       "L 2222 3053 \n",
       "L 1275 3053 \n",
       "L 1275 0 \n",
       "L 697 0 \n",
       "L 697 3053 \n",
       "L 147 3053 \n",
       "L 147 3500 \n",
       "L 697 3500 \n",
       "L 697 3744 \n",
       "Q 697 4328 969 4595 \n",
       "Q 1241 4863 1831 4863 \n",
       "L 2375 4863 \n",
       "z\n",
       "\" transform=\"scale(0.015625)\"/>\n",
       "      <path id=\"DejaVuSans-55\" d=\"M 556 4666 \n",
       "L 1191 4666 \n",
       "L 1191 1831 \n",
       "Q 1191 1081 1462 751 \n",
       "Q 1734 422 2344 422 \n",
       "Q 2950 422 3222 751 \n",
       "Q 3494 1081 3494 1831 \n",
       "L 3494 4666 \n",
       "L 4128 4666 \n",
       "L 4128 1753 \n",
       "Q 4128 841 3676 375 \n",
       "Q 3225 -91 2344 -91 \n",
       "Q 1459 -91 1007 375 \n",
       "Q 556 841 556 1753 \n",
       "L 556 4666 \n",
       "z\n",
       "\" transform=\"scale(0.015625)\"/>\n",
       "      <path id=\"DejaVuSans-71\" d=\"M 947 1747 \n",
       "Q 947 1113 1208 752 \n",
       "Q 1469 391 1925 391 \n",
       "Q 2381 391 2643 752 \n",
       "Q 2906 1113 2906 1747 \n",
       "Q 2906 2381 2643 2742 \n",
       "Q 2381 3103 1925 3103 \n",
       "Q 1469 3103 1208 2742 \n",
       "Q 947 2381 947 1747 \n",
       "z\n",
       "M 2906 525 \n",
       "Q 2725 213 2448 61 \n",
       "Q 2172 -91 1784 -91 \n",
       "Q 1150 -91 751 415 \n",
       "Q 353 922 353 1747 \n",
       "Q 353 2572 751 3078 \n",
       "Q 1150 3584 1784 3584 \n",
       "Q 2172 3584 2448 3432 \n",
       "Q 2725 3281 2906 2969 \n",
       "L 2906 3500 \n",
       "L 3481 3500 \n",
       "L 3481 -1331 \n",
       "L 2906 -1331 \n",
       "L 2906 525 \n",
       "z\n",
       "\" transform=\"scale(0.015625)\"/>\n",
       "     </defs>\n",
       "     <use xlink:href=\"#DejaVuSans-4c\"/>\n",
       "     <use xlink:href=\"#DejaVuSans-61\" x=\"55.712891\"/>\n",
       "     <use xlink:href=\"#DejaVuSans-6e\" x=\"116.992188\"/>\n",
       "     <use xlink:href=\"#DejaVuSans-64\" x=\"180.371094\"/>\n",
       "     <use xlink:href=\"#DejaVuSans-73\" x=\"243.847656\"/>\n",
       "     <use xlink:href=\"#DejaVuSans-63\" x=\"295.947266\"/>\n",
       "     <use xlink:href=\"#DejaVuSans-61\" x=\"350.927734\"/>\n",
       "     <use xlink:href=\"#DejaVuSans-70\" x=\"412.207031\"/>\n",
       "     <use xlink:href=\"#DejaVuSans-65\" x=\"475.683594\"/>\n",
       "     <use xlink:href=\"#DejaVuSans-20\" x=\"537.207031\"/>\n",
       "     <use xlink:href=\"#DejaVuSans-6f\" x=\"568.994141\"/>\n",
       "     <use xlink:href=\"#DejaVuSans-66\" x=\"630.175781\"/>\n",
       "     <use xlink:href=\"#DejaVuSans-20\" x=\"665.380859\"/>\n",
       "     <use xlink:href=\"#DejaVuSans-31\" x=\"697.167969\"/>\n",
       "     <use xlink:href=\"#DejaVuSans-37\" x=\"760.791016\"/>\n",
       "     <use xlink:href=\"#DejaVuSans-39\" x=\"824.414062\"/>\n",
       "     <use xlink:href=\"#DejaVuSans-2c\" x=\"888.037109\"/>\n",
       "     <use xlink:href=\"#DejaVuSans-33\" x=\"919.824219\"/>\n",
       "     <use xlink:href=\"#DejaVuSans-35\" x=\"983.447266\"/>\n",
       "     <use xlink:href=\"#DejaVuSans-37\" x=\"1047.070312\"/>\n",
       "     <use xlink:href=\"#DejaVuSans-20\" x=\"1110.693359\"/>\n",
       "     <use xlink:href=\"#DejaVuSans-55\" x=\"1142.480469\"/>\n",
       "     <use xlink:href=\"#DejaVuSans-6e\" x=\"1215.673828\"/>\n",
       "     <use xlink:href=\"#DejaVuSans-69\" x=\"1279.052734\"/>\n",
       "     <use xlink:href=\"#DejaVuSans-71\" x=\"1306.835938\"/>\n",
       "     <use xlink:href=\"#DejaVuSans-75\" x=\"1370.3125\"/>\n",
       "     <use xlink:href=\"#DejaVuSans-65\" x=\"1433.691406\"/>\n",
       "     <use xlink:href=\"#DejaVuSans-20\" x=\"1495.214844\"/>\n",
       "     <use xlink:href=\"#DejaVuSans-43\" x=\"1527.001953\"/>\n",
       "     <use xlink:href=\"#DejaVuSans-6f\" x=\"1596.826172\"/>\n",
       "     <use xlink:href=\"#DejaVuSans-6e\" x=\"1658.007812\"/>\n",
       "     <use xlink:href=\"#DejaVuSans-63\" x=\"1721.386719\"/>\n",
       "     <use xlink:href=\"#DejaVuSans-65\" x=\"1776.367188\"/>\n",
       "     <use xlink:href=\"#DejaVuSans-70\" x=\"1837.890625\"/>\n",
       "     <use xlink:href=\"#DejaVuSans-74\" x=\"1901.367188\"/>\n",
       "     <use xlink:href=\"#DejaVuSans-73\" x=\"1940.576172\"/>\n",
       "    </g>\n",
       "   </g>\n",
       "  </g>\n",
       " </g>\n",
       " <defs>\n",
       "  <clipPath id=\"p59c863b3d4\">\n",
       "   <rect x=\"45.478125\" y=\"22.318125\" width=\"363.862315\" height=\"125.56\"/>\n",
       "  </clipPath>\n",
       " </defs>\n",
       "</svg>\n"
      ],
      "text/plain": [
       "<Figure size 590x270 with 1 Axes>"
      ]
     },
     "metadata": {},
     "output_type": "display_data"
    },
    {
     "data": {
      "text/markdown": [
       "\\\n",
       "        The landscape of 10 resources has 220,224 total terms.\n",
       "        After merging redundant nodes based on mappings, inference, and reasoning, there\n",
       "        are 179,357 unique concepts. Using the reduction formula\n",
       "        $\\frac{\\text{total terms} - \\text{reduced terms}}{\\text{total terms}}$,\n",
       "        this is a 18.6% reduction.\n"
      ],
      "text/plain": [
       "<IPython.core.display.Markdown object>"
      ]
     },
     "metadata": {},
     "output_type": "display_data"
    },
    {
     "data": {
      "text/markdown": [
       "This is only an estimate and is susceptible to a few things:\n",
       "\n",
       "1. It can be artificially high because there are entities that _should_ be mapped, but are not\n",
       "2. It can be artificially low because there are entities that are incorrectly mapped, e.g., as\n",
       "   a result of inference. The frontend curation interface can help identify and remove these\n",
       "3. It can be artificially low because for some vocabularies like SNOMED-CT, it's not possible\n",
       "   to load a terms list, and therefore it's not possible to account for terms that aren't\n",
       "   mapped. Therefore, we make a lower bound estimate based on the terms that appear in\n",
       "   mappings.\n",
       "4. It can be artificially high if a vocabulary is used that covers many domains and is not\n",
       "   properly subset'd. For example, EFO covers many different domains, so when doing disease\n",
       "   landscape analysis, it should be subset to only terms in the disease hierarchy\n",
       "   (i.e., appearing under ``efo:0000408``).\n",
       "5. It can be affected by terminology issues, such as the confusion between Orphanet and ORDO\n",
       "6. It can be affected by the existence of many-to-many mappings, which are filtered out during\n",
       "   processing, which makes the estimate artificially high since some subset of those entities\n",
       "   could be mapped, but it's not clear which should.\n"
      ],
      "text/plain": [
       "<IPython.core.display.Markdown object>"
      ]
     },
     "metadata": {},
     "output_type": "display_data"
    }
   ],
   "source": [
    "results = notebook(CONFIGURATION, output_directory=\".\")"
   ]
  }
 ],
 "metadata": {
  "kernelspec": {
   "display_name": "Python 3 (ipykernel)",
   "language": "python",
   "name": "python3"
  },
  "language_info": {
   "codemirror_mode": {
    "name": "ipython",
    "version": 3
   },
   "file_extension": ".py",
   "mimetype": "text/x-python",
   "name": "python",
   "nbconvert_exporter": "python",
   "pygments_lexer": "ipython3",
   "version": "3.12.4"
  },
  "widgets": {
   "application/vnd.jupyter.widget-state+json": {
    "state": {
     "03e619179abe41eb84c9cc7bf9fd6773": {
      "model_module": "@jupyter-widgets/base",
      "model_module_version": "2.0.0",
      "model_name": "LayoutModel",
      "state": {
       "_model_module": "@jupyter-widgets/base",
       "_model_module_version": "2.0.0",
       "_model_name": "LayoutModel",
       "_view_count": null,
       "_view_module": "@jupyter-widgets/base",
       "_view_module_version": "2.0.0",
       "_view_name": "LayoutView",
       "align_content": null,
       "align_items": null,
       "align_self": null,
       "border_bottom": null,
       "border_left": null,
       "border_right": null,
       "border_top": null,
       "bottom": null,
       "display": null,
       "flex": null,
       "flex_flow": null,
       "grid_area": null,
       "grid_auto_columns": null,
       "grid_auto_flow": null,
       "grid_auto_rows": null,
       "grid_column": null,
       "grid_gap": null,
       "grid_row": null,
       "grid_template_areas": null,
       "grid_template_columns": null,
       "grid_template_rows": null,
       "height": null,
       "justify_content": null,
       "justify_items": null,
       "left": null,
       "margin": null,
       "max_height": null,
       "max_width": null,
       "min_height": null,
       "min_width": null,
       "object_fit": null,
       "object_position": null,
       "order": null,
       "overflow": null,
       "padding": null,
       "right": null,
       "top": null,
       "visibility": "hidden",
       "width": null
      }
     },
     "06a9f430c3684741aa1a96eb79d97bb9": {
      "model_module": "@jupyter-widgets/controls",
      "model_module_version": "2.0.0",
      "model_name": "ProgressStyleModel",
      "state": {
       "_model_module": "@jupyter-widgets/controls",
       "_model_module_version": "2.0.0",
       "_model_name": "ProgressStyleModel",
       "_view_count": null,
       "_view_module": "@jupyter-widgets/base",
       "_view_module_version": "2.0.0",
       "_view_name": "StyleView",
       "bar_color": null,
       "description_width": ""
      }
     },
     "156c012e25334c3c852f2a4049e5cf84": {
      "model_module": "@jupyter-widgets/controls",
      "model_module_version": "2.0.0",
      "model_name": "ProgressStyleModel",
      "state": {
       "_model_module": "@jupyter-widgets/controls",
       "_model_module_version": "2.0.0",
       "_model_name": "ProgressStyleModel",
       "_view_count": null,
       "_view_module": "@jupyter-widgets/base",
       "_view_module_version": "2.0.0",
       "_view_name": "StyleView",
       "bar_color": null,
       "description_width": ""
      }
     },
     "31a8e331eac148479559e8d51857669d": {
      "model_module": "@jupyter-widgets/controls",
      "model_module_version": "2.0.0",
      "model_name": "HTMLStyleModel",
      "state": {
       "_model_module": "@jupyter-widgets/controls",
       "_model_module_version": "2.0.0",
       "_model_name": "HTMLStyleModel",
       "_view_count": null,
       "_view_module": "@jupyter-widgets/base",
       "_view_module_version": "2.0.0",
       "_view_name": "StyleView",
       "background": null,
       "description_width": "",
       "font_size": null,
       "text_color": null
      }
     },
     "339f540b0a3b496a897dd81daf168e93": {
      "model_module": "@jupyter-widgets/controls",
      "model_module_version": "2.0.0",
      "model_name": "HTMLStyleModel",
      "state": {
       "_model_module": "@jupyter-widgets/controls",
       "_model_module_version": "2.0.0",
       "_model_name": "HTMLStyleModel",
       "_view_count": null,
       "_view_module": "@jupyter-widgets/base",
       "_view_module_version": "2.0.0",
       "_view_name": "StyleView",
       "background": null,
       "description_width": "",
       "font_size": null,
       "text_color": null
      }
     },
     "613ed9583b554e2b910d718bdfaa7e24": {
      "model_module": "@jupyter-widgets/controls",
      "model_module_version": "2.0.0",
      "model_name": "FloatProgressModel",
      "state": {
       "_dom_classes": [],
       "_model_module": "@jupyter-widgets/controls",
       "_model_module_version": "2.0.0",
       "_model_name": "FloatProgressModel",
       "_view_count": null,
       "_view_module": "@jupyter-widgets/controls",
       "_view_module_version": "2.0.0",
       "_view_name": "ProgressView",
       "bar_style": "",
       "description": "",
       "description_allow_html": false,
       "layout": "IPY_MODEL_a03c9ca66b434110a8551a1e93b7fb35",
       "max": 682769.0,
       "min": 0.0,
       "orientation": "horizontal",
       "style": "IPY_MODEL_06a9f430c3684741aa1a96eb79d97bb9",
       "tabbable": null,
       "tooltip": null,
       "value": 682769.0
      }
     },
     "63fa5fb105fc4ed896a8e7177331db5d": {
      "model_module": "@jupyter-widgets/controls",
      "model_module_version": "2.0.0",
      "model_name": "HTMLStyleModel",
      "state": {
       "_model_module": "@jupyter-widgets/controls",
       "_model_module_version": "2.0.0",
       "_model_name": "HTMLStyleModel",
       "_view_count": null,
       "_view_module": "@jupyter-widgets/base",
       "_view_module_version": "2.0.0",
       "_view_name": "StyleView",
       "background": null,
       "description_width": "",
       "font_size": null,
       "text_color": null
      }
     },
     "6b3a63bee8f84c5d8c5d9c18079a53cd": {
      "model_module": "@jupyter-widgets/base",
      "model_module_version": "2.0.0",
      "model_name": "LayoutModel",
      "state": {
       "_model_module": "@jupyter-widgets/base",
       "_model_module_version": "2.0.0",
       "_model_name": "LayoutModel",
       "_view_count": null,
       "_view_module": "@jupyter-widgets/base",
       "_view_module_version": "2.0.0",
       "_view_name": "LayoutView",
       "align_content": null,
       "align_items": null,
       "align_self": null,
       "border_bottom": null,
       "border_left": null,
       "border_right": null,
       "border_top": null,
       "bottom": null,
       "display": null,
       "flex": null,
       "flex_flow": null,
       "grid_area": null,
       "grid_auto_columns": null,
       "grid_auto_flow": null,
       "grid_auto_rows": null,
       "grid_column": null,
       "grid_gap": null,
       "grid_row": null,
       "grid_template_areas": null,
       "grid_template_columns": null,
       "grid_template_rows": null,
       "height": null,
       "justify_content": null,
       "justify_items": null,
       "left": null,
       "margin": null,
       "max_height": null,
       "max_width": null,
       "min_height": null,
       "min_width": null,
       "object_fit": null,
       "object_position": null,
       "order": null,
       "overflow": null,
       "padding": null,
       "right": null,
       "top": null,
       "visibility": "hidden",
       "width": null
      }
     },
     "8c2a295b41804d1a9e8cd0945c789075": {
      "model_module": "@jupyter-widgets/controls",
      "model_module_version": "2.0.0",
      "model_name": "HTMLModel",
      "state": {
       "_dom_classes": [],
       "_model_module": "@jupyter-widgets/controls",
       "_model_module_version": "2.0.0",
       "_model_name": "HTMLModel",
       "_view_count": null,
       "_view_module": "@jupyter-widgets/controls",
       "_view_module_version": "2.0.0",
       "_view_name": "HTMLView",
       "description": "",
       "description_allow_html": false,
       "layout": "IPY_MODEL_b5ff826fdfc84d5994bc2ac84f24ffc1",
       "placeholder": "​",
       "style": "IPY_MODEL_31a8e331eac148479559e8d51857669d",
       "tabbable": null,
       "tooltip": null,
       "value": " 646k/683k [00:01&lt;00:00, 519kmapping/s]"
      }
     },
     "96a368b86f15437a8a8343e99b500656": {
      "model_module": "@jupyter-widgets/controls",
      "model_module_version": "2.0.0",
      "model_name": "HTMLStyleModel",
      "state": {
       "_model_module": "@jupyter-widgets/controls",
       "_model_module_version": "2.0.0",
       "_model_name": "HTMLStyleModel",
       "_view_count": null,
       "_view_module": "@jupyter-widgets/base",
       "_view_module_version": "2.0.0",
       "_view_name": "StyleView",
       "background": null,
       "description_width": "",
       "font_size": null,
       "text_color": null
      }
     },
     "9957d8495d0642f0a77c625e398e51db": {
      "model_module": "@jupyter-widgets/base",
      "model_module_version": "2.0.0",
      "model_name": "LayoutModel",
      "state": {
       "_model_module": "@jupyter-widgets/base",
       "_model_module_version": "2.0.0",
       "_model_name": "LayoutModel",
       "_view_count": null,
       "_view_module": "@jupyter-widgets/base",
       "_view_module_version": "2.0.0",
       "_view_name": "LayoutView",
       "align_content": null,
       "align_items": null,
       "align_self": null,
       "border_bottom": null,
       "border_left": null,
       "border_right": null,
       "border_top": null,
       "bottom": null,
       "display": null,
       "flex": null,
       "flex_flow": null,
       "grid_area": null,
       "grid_auto_columns": null,
       "grid_auto_flow": null,
       "grid_auto_rows": null,
       "grid_column": null,
       "grid_gap": null,
       "grid_row": null,
       "grid_template_areas": null,
       "grid_template_columns": null,
       "grid_template_rows": null,
       "height": null,
       "justify_content": null,
       "justify_items": null,
       "left": null,
       "margin": null,
       "max_height": null,
       "max_width": null,
       "min_height": null,
       "min_width": null,
       "object_fit": null,
       "object_position": null,
       "order": null,
       "overflow": null,
       "padding": null,
       "right": null,
       "top": null,
       "visibility": null,
       "width": null
      }
     },
     "a03c9ca66b434110a8551a1e93b7fb35": {
      "model_module": "@jupyter-widgets/base",
      "model_module_version": "2.0.0",
      "model_name": "LayoutModel",
      "state": {
       "_model_module": "@jupyter-widgets/base",
       "_model_module_version": "2.0.0",
       "_model_name": "LayoutModel",
       "_view_count": null,
       "_view_module": "@jupyter-widgets/base",
       "_view_module_version": "2.0.0",
       "_view_name": "LayoutView",
       "align_content": null,
       "align_items": null,
       "align_self": null,
       "border_bottom": null,
       "border_left": null,
       "border_right": null,
       "border_top": null,
       "bottom": null,
       "display": null,
       "flex": null,
       "flex_flow": null,
       "grid_area": null,
       "grid_auto_columns": null,
       "grid_auto_flow": null,
       "grid_auto_rows": null,
       "grid_column": null,
       "grid_gap": null,
       "grid_row": null,
       "grid_template_areas": null,
       "grid_template_columns": null,
       "grid_template_rows": null,
       "height": null,
       "justify_content": null,
       "justify_items": null,
       "left": null,
       "margin": null,
       "max_height": null,
       "max_width": null,
       "min_height": null,
       "min_width": null,
       "object_fit": null,
       "object_position": null,
       "order": null,
       "overflow": null,
       "padding": null,
       "right": null,
       "top": null,
       "visibility": null,
       "width": null
      }
     },
     "a6de3ac342b74a87b239117e59d72057": {
      "model_module": "@jupyter-widgets/controls",
      "model_module_version": "2.0.0",
      "model_name": "HTMLModel",
      "state": {
       "_dom_classes": [],
       "_model_module": "@jupyter-widgets/controls",
       "_model_module_version": "2.0.0",
       "_model_name": "HTMLModel",
       "_view_count": null,
       "_view_module": "@jupyter-widgets/controls",
       "_view_module_version": "2.0.0",
       "_view_name": "HTMLView",
       "description": "",
       "description_allow_html": false,
       "layout": "IPY_MODEL_ac3882c539224ef485e2bbe203c1bd9e",
       "placeholder": "​",
       "style": "IPY_MODEL_96a368b86f15437a8a8343e99b500656",
       "tabbable": null,
       "tooltip": null,
       "value": " 0.00/48.8k [00:00&lt;?, ?mapping/s]"
      }
     },
     "ac3882c539224ef485e2bbe203c1bd9e": {
      "model_module": "@jupyter-widgets/base",
      "model_module_version": "2.0.0",
      "model_name": "LayoutModel",
      "state": {
       "_model_module": "@jupyter-widgets/base",
       "_model_module_version": "2.0.0",
       "_model_name": "LayoutModel",
       "_view_count": null,
       "_view_module": "@jupyter-widgets/base",
       "_view_module_version": "2.0.0",
       "_view_name": "LayoutView",
       "align_content": null,
       "align_items": null,
       "align_self": null,
       "border_bottom": null,
       "border_left": null,
       "border_right": null,
       "border_top": null,
       "bottom": null,
       "display": null,
       "flex": null,
       "flex_flow": null,
       "grid_area": null,
       "grid_auto_columns": null,
       "grid_auto_flow": null,
       "grid_auto_rows": null,
       "grid_column": null,
       "grid_gap": null,
       "grid_row": null,
       "grid_template_areas": null,
       "grid_template_columns": null,
       "grid_template_rows": null,
       "height": null,
       "justify_content": null,
       "justify_items": null,
       "left": null,
       "margin": null,
       "max_height": null,
       "max_width": null,
       "min_height": null,
       "min_width": null,
       "object_fit": null,
       "object_position": null,
       "order": null,
       "overflow": null,
       "padding": null,
       "right": null,
       "top": null,
       "visibility": null,
       "width": null
      }
     },
     "b5ff826fdfc84d5994bc2ac84f24ffc1": {
      "model_module": "@jupyter-widgets/base",
      "model_module_version": "2.0.0",
      "model_name": "LayoutModel",
      "state": {
       "_model_module": "@jupyter-widgets/base",
       "_model_module_version": "2.0.0",
       "_model_name": "LayoutModel",
       "_view_count": null,
       "_view_module": "@jupyter-widgets/base",
       "_view_module_version": "2.0.0",
       "_view_name": "LayoutView",
       "align_content": null,
       "align_items": null,
       "align_self": null,
       "border_bottom": null,
       "border_left": null,
       "border_right": null,
       "border_top": null,
       "bottom": null,
       "display": null,
       "flex": null,
       "flex_flow": null,
       "grid_area": null,
       "grid_auto_columns": null,
       "grid_auto_flow": null,
       "grid_auto_rows": null,
       "grid_column": null,
       "grid_gap": null,
       "grid_row": null,
       "grid_template_areas": null,
       "grid_template_columns": null,
       "grid_template_rows": null,
       "height": null,
       "justify_content": null,
       "justify_items": null,
       "left": null,
       "margin": null,
       "max_height": null,
       "max_width": null,
       "min_height": null,
       "min_width": null,
       "object_fit": null,
       "object_position": null,
       "order": null,
       "overflow": null,
       "padding": null,
       "right": null,
       "top": null,
       "visibility": null,
       "width": null
      }
     },
     "c2361e616d7643a98011154819ea5a50": {
      "model_module": "@jupyter-widgets/base",
      "model_module_version": "2.0.0",
      "model_name": "LayoutModel",
      "state": {
       "_model_module": "@jupyter-widgets/base",
       "_model_module_version": "2.0.0",
       "_model_name": "LayoutModel",
       "_view_count": null,
       "_view_module": "@jupyter-widgets/base",
       "_view_module_version": "2.0.0",
       "_view_name": "LayoutView",
       "align_content": null,
       "align_items": null,
       "align_self": null,
       "border_bottom": null,
       "border_left": null,
       "border_right": null,
       "border_top": null,
       "bottom": null,
       "display": null,
       "flex": null,
       "flex_flow": null,
       "grid_area": null,
       "grid_auto_columns": null,
       "grid_auto_flow": null,
       "grid_auto_rows": null,
       "grid_column": null,
       "grid_gap": null,
       "grid_row": null,
       "grid_template_areas": null,
       "grid_template_columns": null,
       "grid_template_rows": null,
       "height": null,
       "justify_content": null,
       "justify_items": null,
       "left": null,
       "margin": null,
       "max_height": null,
       "max_width": null,
       "min_height": null,
       "min_width": null,
       "object_fit": null,
       "object_position": null,
       "order": null,
       "overflow": null,
       "padding": null,
       "right": null,
       "top": null,
       "visibility": null,
       "width": null
      }
     },
     "cb07002dac7a42faaf2fa04c04ac822f": {
      "model_module": "@jupyter-widgets/controls",
      "model_module_version": "2.0.0",
      "model_name": "HTMLModel",
      "state": {
       "_dom_classes": [],
       "_model_module": "@jupyter-widgets/controls",
       "_model_module_version": "2.0.0",
       "_model_name": "HTMLModel",
       "_view_count": null,
       "_view_module": "@jupyter-widgets/controls",
       "_view_module_version": "2.0.0",
       "_view_name": "HTMLView",
       "description": "",
       "description_allow_html": false,
       "layout": "IPY_MODEL_dc00ffe95b5e402bb290222de37c5668",
       "placeholder": "​",
       "style": "IPY_MODEL_339f540b0a3b496a897dd81daf168e93",
       "tabbable": null,
       "tooltip": null,
       "value": "Indexing mappings:  95%"
      }
     },
     "d78f702aa59647e2a983f263c346e5c0": {
      "model_module": "@jupyter-widgets/controls",
      "model_module_version": "2.0.0",
      "model_name": "HBoxModel",
      "state": {
       "_dom_classes": [],
       "_model_module": "@jupyter-widgets/controls",
       "_model_module_version": "2.0.0",
       "_model_name": "HBoxModel",
       "_view_count": null,
       "_view_module": "@jupyter-widgets/controls",
       "_view_module_version": "2.0.0",
       "_view_name": "HBoxView",
       "box_style": "",
       "children": [
        "IPY_MODEL_cb07002dac7a42faaf2fa04c04ac822f",
        "IPY_MODEL_613ed9583b554e2b910d718bdfaa7e24",
        "IPY_MODEL_8c2a295b41804d1a9e8cd0945c789075"
       ],
       "layout": "IPY_MODEL_6b3a63bee8f84c5d8c5d9c18079a53cd",
       "tabbable": null,
       "tooltip": null
      }
     },
     "dc00ffe95b5e402bb290222de37c5668": {
      "model_module": "@jupyter-widgets/base",
      "model_module_version": "2.0.0",
      "model_name": "LayoutModel",
      "state": {
       "_model_module": "@jupyter-widgets/base",
       "_model_module_version": "2.0.0",
       "_model_name": "LayoutModel",
       "_view_count": null,
       "_view_module": "@jupyter-widgets/base",
       "_view_module_version": "2.0.0",
       "_view_name": "LayoutView",
       "align_content": null,
       "align_items": null,
       "align_self": null,
       "border_bottom": null,
       "border_left": null,
       "border_right": null,
       "border_top": null,
       "bottom": null,
       "display": null,
       "flex": null,
       "flex_flow": null,
       "grid_area": null,
       "grid_auto_columns": null,
       "grid_auto_flow": null,
       "grid_auto_rows": null,
       "grid_column": null,
       "grid_gap": null,
       "grid_row": null,
       "grid_template_areas": null,
       "grid_template_columns": null,
       "grid_template_rows": null,
       "height": null,
       "justify_content": null,
       "justify_items": null,
       "left": null,
       "margin": null,
       "max_height": null,
       "max_width": null,
       "min_height": null,
       "min_width": null,
       "object_fit": null,
       "object_position": null,
       "order": null,
       "overflow": null,
       "padding": null,
       "right": null,
       "top": null,
       "visibility": null,
       "width": null
      }
     },
     "e7683d3fdddf4b32bc14d27929126f43": {
      "model_module": "@jupyter-widgets/controls",
      "model_module_version": "2.0.0",
      "model_name": "FloatProgressModel",
      "state": {
       "_dom_classes": [],
       "_model_module": "@jupyter-widgets/controls",
       "_model_module_version": "2.0.0",
       "_model_name": "FloatProgressModel",
       "_view_count": null,
       "_view_module": "@jupyter-widgets/controls",
       "_view_module_version": "2.0.0",
       "_view_name": "ProgressView",
       "bar_style": "",
       "description": "",
       "description_allow_html": false,
       "layout": "IPY_MODEL_9957d8495d0642f0a77c625e398e51db",
       "max": 48837.0,
       "min": 0.0,
       "orientation": "horizontal",
       "style": "IPY_MODEL_156c012e25334c3c852f2a4049e5cf84",
       "tabbable": null,
       "tooltip": null,
       "value": 48837.0
      }
     },
     "eabfd223a9f247a2a451a09e9515ba9a": {
      "model_module": "@jupyter-widgets/controls",
      "model_module_version": "2.0.0",
      "model_name": "HTMLModel",
      "state": {
       "_dom_classes": [],
       "_model_module": "@jupyter-widgets/controls",
       "_model_module_version": "2.0.0",
       "_model_name": "HTMLModel",
       "_view_count": null,
       "_view_module": "@jupyter-widgets/controls",
       "_view_module_version": "2.0.0",
       "_view_name": "HTMLView",
       "description": "",
       "description_allow_html": false,
       "layout": "IPY_MODEL_c2361e616d7643a98011154819ea5a50",
       "placeholder": "​",
       "style": "IPY_MODEL_63fa5fb105fc4ed896a8e7177331db5d",
       "tabbable": null,
       "tooltip": null,
       "value": "Indexing mappings:   0%"
      }
     },
     "ff891b3b390b414b9fc91ae0db77eed1": {
      "model_module": "@jupyter-widgets/controls",
      "model_module_version": "2.0.0",
      "model_name": "HBoxModel",
      "state": {
       "_dom_classes": [],
       "_model_module": "@jupyter-widgets/controls",
       "_model_module_version": "2.0.0",
       "_model_name": "HBoxModel",
       "_view_count": null,
       "_view_module": "@jupyter-widgets/controls",
       "_view_module_version": "2.0.0",
       "_view_name": "HBoxView",
       "box_style": "",
       "children": [
        "IPY_MODEL_eabfd223a9f247a2a451a09e9515ba9a",
        "IPY_MODEL_e7683d3fdddf4b32bc14d27929126f43",
        "IPY_MODEL_a6de3ac342b74a87b239117e59d72057"
       ],
       "layout": "IPY_MODEL_03e619179abe41eb84c9cc7bf9fd6773",
       "tabbable": null,
       "tooltip": null
      }
     }
    },
    "version_major": 2,
    "version_minor": 0
   }
  }
 },
 "nbformat": 4,
 "nbformat_minor": 5
}
