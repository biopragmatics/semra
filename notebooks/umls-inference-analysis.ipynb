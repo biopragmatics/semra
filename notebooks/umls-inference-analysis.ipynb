{
 "cells": [
  {
   "cell_type": "code",
   "execution_count": 11,
   "id": "812358fc",
   "metadata": {},
   "outputs": [],
   "source": [
    "from semra.sources import from_biomappings_positive, from_pyobo\n",
    "from semra.api import (\n",
    "    str_source_target_counts,\n",
    "    project,\n",
    "    infer_reversible,\n",
    "    filter_prefixes,\n",
    "    upgrade_dbxrefs,\n",
    "    upgrade_mutual_dbxrefs,\n",
    "    infer_chains,\n",
    "    project,\n",
    ")\n",
    "import pandas as pd\n",
    "import click\n",
    "import matplotlib.pyplot as plt\n",
    "from matplotlib_venn import venn3\n",
    "from tqdm.auto import tqdm"
   ]
  },
  {
   "cell_type": "code",
   "execution_count": null,
   "id": "b1dabea3",
   "metadata": {},
   "outputs": [],
   "source": [
    "def project_unsafe(mappings, sp, op):\n",
    "    return {(m.s.identifier, m.o.identifier) for m in mappings if m.s.prefix == sp and m.o.prefix == op}"
   ]
  },
  {
   "cell_type": "code",
   "execution_count": 9,
   "id": "ebc21323",
   "metadata": {},
   "outputs": [
    {
     "data": {
      "application/vnd.jupyter.widget-view+json": {
       "model_id": "99ebe14c428f41a28a27bd31a8194f57",
       "version_major": 2,
       "version_minor": 0
      },
      "text/plain": [
       "Loading biomappings:   0%|          | 0.00/9.67k [00:00<?, ?mapping/s]"
      ]
     },
     "metadata": {},
     "output_type": "display_data"
    },
    {
     "data": {
      "application/vnd.jupyter.widget-view+json": {
       "model_id": "85871c9cab4146f1b6b22b0d7828e223",
       "version_major": 2,
       "version_minor": 0
      },
      "text/plain": [
       "Infer reverse:   0%|          | 0.00/9.05k [00:00<?, ?mapping/s]"
      ]
     },
     "metadata": {},
     "output_type": "display_data"
    }
   ],
   "source": [
    "biomappings_positive = from_biomappings_positive()\n",
    "biomappings_positive = infer_reversible(biomappings_positive)"
   ]
  },
  {
   "cell_type": "code",
   "execution_count": 4,
   "id": "6cccb497",
   "metadata": {},
   "outputs": [
    {
     "name": "stderr",
     "output_type": "stream",
     "text": [
      "INFO: [2023-05-08 12:05:06] semra.sources - loading mappings with PyOBO from umls\n"
     ]
    },
    {
     "data": {
      "application/vnd.jupyter.widget-view+json": {
       "model_id": "f255182ac39647afb3d0debd49c74446",
       "version_major": 2,
       "version_minor": 0
      },
      "text/plain": [
       "Loading umls:   0%|          | 0.00/2.33M [00:00<?, ?it/s]"
      ]
     },
     "metadata": {},
     "output_type": "display_data"
    }
   ],
   "source": [
    "umls = from_pyobo(\"umls\", standardize=True)"
   ]
  },
  {
   "cell_type": "code",
   "execution_count": 8,
   "id": "2dac0084",
   "metadata": {},
   "outputs": [
    {
     "data": {
      "application/vnd.jupyter.widget-view+json": {
       "model_id": "8b142df25b2b493e80b9b433a16c3fe0",
       "version_major": 2,
       "version_minor": 0
      },
      "text/plain": [
       "Indexing mappings:   0%|          | 0.00/2.33M [00:00<?, ?mapping/s]"
      ]
     },
     "metadata": {},
     "output_type": "display_data"
    },
    {
     "name": "stdout",
     "output_type": "stream",
     "text": [
      "| source prefix   | target prefix   |   count |\n",
      "|-----------------|-----------------|---------|\n",
      "| umls            | mesh            |  460475 |\n",
      "| umls            | snomedct        |  369832 |\n",
      "| umls            | loinc           |  285406 |\n",
      "| umls            | icd10pcs        |  191277 |\n",
      "| umls            | ncit            |  183327 |\n",
      "| umls            | omim            |  116761 |\n",
      "| umls            | icd10cm         |  108397 |\n",
      "| umls            | rxnorm          |  107564 |\n",
      "| umls            | fma             |  104403 |\n",
      "| umls            | go              |   68087 |\n",
      "| umls            | mmsl            |   63330 |\n",
      "| umls            | cpt             |   49470 |\n",
      "| umls            | hgnc            |   43143 |\n",
      "| umls            | nddf            |   34431 |\n",
      "| umls            | vandf           |   30898 |\n",
      "| umls            | icd9cm          |   22406 |\n",
      "| umls            | hp              |   18409 |\n",
      "| umls            | csp             |   18313 |\n",
      "| umls            | icd10           |   12318 |\n",
      "| umls            | drugbank        |   11382 |\n",
      "| umls            | orphanet        |    9375 |\n",
      "| umls            | hcpcs           |    7327 |\n",
      "| umls            | atc             |    6564 |\n",
      "| umls            | cst             |    4039 |\n",
      "| umls            | medlineplus     |    2274 |\n",
      "| umls            | icf             |    1495 |\n",
      "| umls            | dsm5            |    1337 |\n",
      "| umls            | cdt             |     895 |\n",
      "| umls            | cvx             |     610 |\n"
     ]
    }
   ],
   "source": [
    "print(str_source_target_counts(umls))\n",
    "# fma, go, hgnc, hp, drugbank"
   ]
  },
  {
   "cell_type": "markdown",
   "id": "59fc82cd",
   "metadata": {},
   "source": [
    "# HP Analysis"
   ]
  },
  {
   "cell_type": "code",
   "execution_count": 2,
   "id": "cba1bf7f",
   "metadata": {},
   "outputs": [],
   "source": [
    "prefixes = [\"umls\", \"mesh\", \"hp\"]"
   ]
  },
  {
   "cell_type": "code",
   "execution_count": 5,
   "id": "2f194841",
   "metadata": {},
   "outputs": [
    {
     "name": "stderr",
     "output_type": "stream",
     "text": [
      "INFO: [2023-05-08 12:50:46] semra.sources - loading mappings with PyOBO from hp\n"
     ]
    },
    {
     "data": {
      "application/vnd.jupyter.widget-view+json": {
       "model_id": "d9425e1db0a341be89289837fb9fcecc",
       "version_major": 2,
       "version_minor": 0
      },
      "text/plain": [
       "Loading hp:   0%|          | 0.00/20.4k [00:00<?, ?it/s]"
      ]
     },
     "metadata": {},
     "output_type": "display_data"
    },
    {
     "data": {
      "application/vnd.jupyter.widget-view+json": {
       "model_id": "3e823a03a46b4475bba7f6a8bc8c2b6b",
       "version_major": 2,
       "version_minor": 0
      },
      "text/plain": [
       "Infer reverse:   0%|          | 0.00/20.4k [00:00<?, ?mapping/s]"
      ]
     },
     "metadata": {},
     "output_type": "display_data"
    },
    {
     "data": {
      "application/vnd.jupyter.widget-view+json": {
       "model_id": "f6441cfc1281411b8c83846567772b6e",
       "version_major": 2,
       "version_minor": 0
      },
      "text/plain": [
       "Keeping from 3 prefixes:   0%|          | 0.00/40.9k [00:00<?, ?mapping/s]"
      ]
     },
     "metadata": {},
     "output_type": "display_data"
    },
    {
     "data": {
      "application/vnd.jupyter.widget-view+json": {
       "model_id": "49cf349eb1e9459ba99eda07f7c4cfa8",
       "version_major": 2,
       "version_minor": 0
      },
      "text/plain": [
       "Mutating predicates:   0%|          | 0.00/30.3k [00:00<?, ?mapping/s]"
      ]
     },
     "metadata": {},
     "output_type": "display_data"
    },
    {
     "data": {
      "application/vnd.jupyter.widget-view+json": {
       "model_id": "4aac212c030d47538a2d62749cab15ce",
       "version_major": 2,
       "version_minor": 0
      },
      "text/plain": [
       "Indexing mappings:   0%|          | 0.00/30.3k [00:00<?, ?mapping/s]"
      ]
     },
     "metadata": {},
     "output_type": "display_data"
    },
    {
     "name": "stdout",
     "output_type": "stream",
     "text": [
      "| source prefix   | target prefix   |   count |\n",
      "|-----------------|-----------------|---------|\n",
      "| hp              | umls            |   13001 |\n",
      "| umls            | hp              |   13001 |\n",
      "| hp              | mesh            |    2168 |\n",
      "| mesh            | hp              |    2168 |\n"
     ]
    }
   ],
   "source": [
    "hp_mappings = from_pyobo(\"hp\")\n",
    "hp_mappings = infer_reversible(hp_mappings)\n",
    "hp_mappings = filter_prefixes(hp_mappings, prefixes)\n",
    "hp_mappings = upgrade_mutual_dbxrefs(hp_mappings, prefixes)\n",
    "\n",
    "print(str_source_target_counts(hp_mappings))"
   ]
  },
  {
   "cell_type": "code",
   "execution_count": 6,
   "id": "3dd9c73e",
   "metadata": {},
   "outputs": [
    {
     "data": {
      "application/vnd.jupyter.widget-view+json": {
       "model_id": "78cb40dd465e4cd48ef4e02d3d4049fa",
       "version_major": 2,
       "version_minor": 0
      },
      "text/plain": [
       "Keeping from 3 prefixes:   0%|          | 0.00/2.33M [00:00<?, ?mapping/s]"
      ]
     },
     "metadata": {},
     "output_type": "display_data"
    },
    {
     "data": {
      "application/vnd.jupyter.widget-view+json": {
       "model_id": "1bc68111a8504c94a16996fa9d6bc423",
       "version_major": 2,
       "version_minor": 0
      },
      "text/plain": [
       "Mutating predicates:   0%|          | 0.00/479k [00:00<?, ?mapping/s]"
      ]
     },
     "metadata": {},
     "output_type": "display_data"
    },
    {
     "data": {
      "application/vnd.jupyter.widget-view+json": {
       "model_id": "3b14909f01654552bcc3a8b6f8cd0a1f",
       "version_major": 2,
       "version_minor": 0
      },
      "text/plain": [
       "Infer reverse:   0%|          | 0.00/479k [00:00<?, ?mapping/s]"
      ]
     },
     "metadata": {},
     "output_type": "display_data"
    },
    {
     "data": {
      "application/vnd.jupyter.widget-view+json": {
       "model_id": "6a686eecaf0142c38c85a49098c88ec4",
       "version_major": 2,
       "version_minor": 0
      },
      "text/plain": [
       "Indexing mappings:   0%|          | 0.00/958k [00:00<?, ?mapping/s]"
      ]
     },
     "metadata": {},
     "output_type": "display_data"
    },
    {
     "data": {
      "application/vnd.jupyter.widget-view+json": {
       "model_id": "e7426dda59684c76a1f1ef35a23d5fe3",
       "version_major": 2,
       "version_minor": 0
      },
      "text/plain": [
       "Unindexing mappings:   0%|          | 0.00/958k [00:00<?, ?mapping/s]"
      ]
     },
     "metadata": {},
     "output_type": "display_data"
    },
    {
     "data": {
      "application/vnd.jupyter.widget-view+json": {
       "model_id": "20daa71337fd48e1bb0020e1da89c7f0",
       "version_major": 2,
       "version_minor": 0
      },
      "text/plain": [
       "Inferring chains:   0%|          | 0.00/59.3k [00:00<?, ?component/s]"
      ]
     },
     "metadata": {},
     "output_type": "display_data"
    },
    {
     "data": {
      "application/vnd.jupyter.widget-view+json": {
       "model_id": "bf5958bb0d4f43aab2c2e1d385afbad7",
       "version_major": 2,
       "version_minor": 0
      },
      "text/plain": [
       "Indexing mappings:   0%|          | 0.00/1.53M [00:00<?, ?mapping/s]"
      ]
     },
     "metadata": {},
     "output_type": "display_data"
    },
    {
     "name": "stdout",
     "output_type": "stream",
     "text": [
      "| source prefix   | target prefix   |   count |\n",
      "|-----------------|-----------------|---------|\n",
      "| umls            | mesh            |  461187 |\n",
      "| mesh            | umls            |  461132 |\n",
      "| umls            | umls            |  272161 |\n",
      "| umls            | hp              |   21331 |\n",
      "| hp              | umls            |   21282 |\n",
      "| mesh            | hp              |    1376 |\n",
      "| hp              | mesh            |    1332 |\n",
      "| hp              | hp              |     918 |\n",
      "| mesh            | mesh            |     183 |\n"
     ]
    }
   ],
   "source": [
    "umls_mappings = filter_prefixes(umls, prefixes)\n",
    "umls_mappings = upgrade_mutual_dbxrefs(umls_mappings, prefixes)\n",
    "umls_mappings = infer_reversible(umls_mappings)\n",
    "umls_mappings = infer_chains(umls_mappings)\n",
    "\n",
    "print(str_source_target_counts(umls_mappings))"
   ]
  },
  {
   "cell_type": "code",
   "execution_count": 7,
   "id": "1585fa16",
   "metadata": {},
   "outputs": [
    {
     "data": {
      "text/plain": [
       "<matplotlib_venn._common.VennDiagram at 0x2ba853d00>"
      ]
     },
     "execution_count": 7,
     "metadata": {},
     "output_type": "execute_result"
    },
    {
     "data": {
      "image/png": "[encoded data removed]",
      "text/plain": [
       "<Figure size 640x480 with 1 Axes>"
      ]
     },
     "metadata": {},
     "output_type": "display_data"
    }
   ],
   "source": [
    "venn3(\n",
    "    (\n",
    "        project_unsafe(umls_mappings, \"hp\", \"mesh\"),\n",
    "        project_unsafe(hp_mappings, \"hp\", \"mesh\"),\n",
    "        project_unsafe(biomappings_positive, \"hp\", \"mesh\"),\n",
    "    ),\n",
    "    set_labels=(\"umls\", \"hp\", \"biomappings\"),\n",
    ")"
   ]
  },
  {
   "cell_type": "markdown",
   "id": "a9085eb4",
   "metadata": {},
   "source": [
    "# GO Analysis"
   ]
  },
  {
   "cell_type": "code",
   "execution_count": null,
   "id": "9120d735",
   "metadata": {},
   "outputs": [],
   "source": [
    "prefixes = [\"umls\", \"mesh\", \"go\"]\n",
    "\n",
    "go_mappings = from_pyobo(\"go\")\n",
    "go_mappings = infer_reversible(go_mappings)\n",
    "go_mappings = filter_prefixes(go_mappings, prefixes)\n",
    "go_mappings = upgrade_mutual_dbxrefs(go_mappings, go_mappings)\n",
    "\n",
    "go_umls_mappings = filter_prefixes(umls, prefixes)\n",
    "go_umls_mappings = upgrade_mutual_dbxrefs(go_umls_mappings, prefixes)\n",
    "go_umls_mappings = infer_reversible(go_umls_mappings)\n",
    "go_umls_mappings = infer_chains(go_umls_mappings)"
   ]
  },
  {
   "cell_type": "code",
   "execution_count": 10,
   "id": "3fd72c0f",
   "metadata": {},
   "outputs": [
    {
     "name": "stderr",
     "output_type": "stream",
     "text": [
      "INFO: [2023-05-08 13:10:53] semra.sources - loading mappings with PyOBO from go\n",
      "INFO: [2023-05-08 13:10:53] pyobo.api.xrefs - [go] no cached xrefs found. getting from OBO loader\n",
      "INFO: [2023-05-08 13:10:53] pystow.utils - downloading with urllib from http://purl.obolibrary.org/obo/go.obo to /Users/cthoyt/.data/pyobo/raw/go/2023-04-01/go.obo\n"
     ]
    },
    {
     "data": {
      "application/vnd.jupyter.widget-view+json": {
       "model_id": "",
       "version_major": 2,
       "version_minor": 0
      },
      "text/plain": [
       "Downloading go.obo: 0.00B [00:00, ?B/s]"
      ]
     },
     "metadata": {},
     "output_type": "display_data"
    },
    {
     "name": "stderr",
     "output_type": "stream",
     "text": [
      "INFO: [2023-05-08 13:10:58] pyobo.reader - [go] parsing with obonet from /Users/cthoyt/.data/pyobo/raw/go/2023-04-01/go.obo\n"
     ]
    },
    {
     "data": {
      "application/vnd.jupyter.widget-view+json": {
       "model_id": "",
       "version_major": 2,
       "version_minor": 0
      },
      "text/plain": [
       "[go] parsing obo: 0.00it [00:00, ?it/s]"
      ]
     },
     "metadata": {},
     "output_type": "display_data"
    },
    {
     "name": "stderr",
     "output_type": "stream",
     "text": [
      "INFO: [2023-05-08 13:11:04] pyobo.reader - [go] extracting OBO using obonet\n",
      "INFO: [2023-05-08 13:11:04] pyobo.reader - [go] does not report a date\n",
      "INFO: [2023-05-08 13:11:04] pyobo.reader - [go] using version 2023-04-01\n",
      "INFO: [2023-05-08 13:11:16] pyobo.reader - [go] got 43,093 references, 10 typedefs, 43,093 terms, 3,482 alt ids, 68,894 parents, 117,214 synonyms, 25,604 xrefs, 18,112 relations, and 3,435 properties\n"
     ]
    },
    {
     "data": {
      "application/vnd.jupyter.widget-view+json": {
       "model_id": "ae948a6402ca4024824f0a803ed5a0b2",
       "version_major": 2,
       "version_minor": 0
      },
      "text/plain": [
       "Loading go:   0%|          | 0.00/25.6k [00:00<?, ?it/s]"
      ]
     },
     "metadata": {},
     "output_type": "display_data"
    },
    {
     "data": {
      "application/vnd.jupyter.widget-view+json": {
       "model_id": "a3638def278a4534981a14174426a17e",
       "version_major": 2,
       "version_minor": 0
      },
      "text/plain": [
       "Infer reverse:   0%|          | 0.00/25.6k [00:00<?, ?mapping/s]"
      ]
     },
     "metadata": {},
     "output_type": "display_data"
    },
    {
     "data": {
      "application/vnd.jupyter.widget-view+json": {
       "model_id": "b7181a49c9444588aea3b60ba0922a92",
       "version_major": 2,
       "version_minor": 0
      },
      "text/plain": [
       "Keeping from 3 prefixes:   0%|          | 0.00/51.2k [00:00<?, ?mapping/s]"
      ]
     },
     "metadata": {},
     "output_type": "display_data"
    },
    {
     "data": {
      "application/vnd.jupyter.widget-view+json": {
       "model_id": "1f18a458775a43ffbe49709f9fd9e722",
       "version_major": 2,
       "version_minor": 0
      },
      "text/plain": [
       "Mutating predicates: 0.00mapping [00:00, ?mapping/s]"
      ]
     },
     "metadata": {},
     "output_type": "display_data"
    },
    {
     "data": {
      "application/vnd.jupyter.widget-view+json": {
       "model_id": "f010ac978784475baa17f55b736ae40e",
       "version_major": 2,
       "version_minor": 0
      },
      "text/plain": [
       "Keeping from 3 prefixes:   0%|          | 0.00/2.33M [00:00<?, ?mapping/s]"
      ]
     },
     "metadata": {},
     "output_type": "display_data"
    },
    {
     "data": {
      "application/vnd.jupyter.widget-view+json": {
       "model_id": "01fa54c1532e4664bba56f5e8227f2d4",
       "version_major": 2,
       "version_minor": 0
      },
      "text/plain": [
       "Mutating predicates:   0%|          | 0.00/529k [00:00<?, ?mapping/s]"
      ]
     },
     "metadata": {},
     "output_type": "display_data"
    },
    {
     "data": {
      "application/vnd.jupyter.widget-view+json": {
       "model_id": "1cdc2c489f4e4f75afc05586ce84e5bf",
       "version_major": 2,
       "version_minor": 0
      },
      "text/plain": [
       "Infer reverse:   0%|          | 0.00/529k [00:00<?, ?mapping/s]"
      ]
     },
     "metadata": {},
     "output_type": "display_data"
    },
    {
     "data": {
      "application/vnd.jupyter.widget-view+json": {
       "model_id": "af5a3af0ea5648adb2051008712b5f2e",
       "version_major": 2,
       "version_minor": 0
      },
      "text/plain": [
       "Indexing mappings:   0%|          | 0.00/1.06M [00:00<?, ?mapping/s]"
      ]
     },
     "metadata": {},
     "output_type": "display_data"
    },
    {
     "data": {
      "application/vnd.jupyter.widget-view+json": {
       "model_id": "1203638be5fb4efb86746e18ed368da1",
       "version_major": 2,
       "version_minor": 0
      },
      "text/plain": [
       "Unindexing mappings:   0%|          | 0.00/1.06M [00:00<?, ?mapping/s]"
      ]
     },
     "metadata": {},
     "output_type": "display_data"
    },
    {
     "data": {
      "application/vnd.jupyter.widget-view+json": {
       "model_id": "e96430bb37bd40a3807a4716becfefcc",
       "version_major": 2,
       "version_minor": 0
      },
      "text/plain": [
       "Inferring chains:   0%|          | 0.00/67.8k [00:00<?, ?component/s]"
      ]
     },
     "metadata": {},
     "output_type": "display_data"
    },
    {
     "name": "stderr",
     "output_type": "stream",
     "text": [
      "/Users/cthoyt/.virtualenvs/indra/lib/python3.10/site-packages/matplotlib_venn/_venn3.py:57: UserWarning: Circle B has zero area\n",
      "  warnings.warn(\"Circle B has zero area\")\n"
     ]
    },
    {
     "data": {
      "text/plain": [
       "<matplotlib_venn._common.VennDiagram at 0x2b2a0e260>"
      ]
     },
     "execution_count": 10,
     "metadata": {},
     "output_type": "execute_result"
    },
    {
     "data": {
      "image/png": "[encoded data removed]",
      "text/plain": [
       "<Figure size 640x480 with 1 Axes>"
      ]
     },
     "metadata": {},
     "output_type": "display_data"
    }
   ],
   "source": [
    "venn3(\n",
    "    (\n",
    "        project_unsafe(go_umls_mappings, \"go\", \"mesh\"),\n",
    "        project_unsafe(go_mappings, \"go\", \"mesh\"),\n",
    "        project_unsafe(biomappings_positive, \"go\", \"mesh\"),\n",
    "    ),\n",
    "    set_labels=(\"umls\", \"go\", \"biomappings\"),\n",
    ")"
   ]
  },
  {
   "cell_type": "code",
   "execution_count": 13,
   "id": "fa8ad843",
   "metadata": {},
   "outputs": [
    {
     "name": "stderr",
     "output_type": "stream",
     "text": [
      "INFO: [2023-05-08 15:16:18] semra.sources - loading mappings with PyOBO from efo\n"
     ]
    },
    {
     "data": {
      "application/vnd.jupyter.widget-view+json": {
       "model_id": "07deba4eccde412ab2777d98c699775b",
       "version_major": 2,
       "version_minor": 0
      },
      "text/plain": [
       "Loading efo:   0%|          | 0.00/29.3k [00:00<?, ?it/s]"
      ]
     },
     "metadata": {},
     "output_type": "display_data"
    }
   ],
   "source": [
    "efo_mappings = from_pyobo(\"efo\")"
   ]
  },
  {
   "cell_type": "code",
   "execution_count": 19,
   "id": "154bd619",
   "metadata": {},
   "outputs": [
    {
     "name": "stdout",
     "output_type": "stream",
     "text": [
      "doid:3927\n",
      "gard:0007350\n",
      "mesh:C535549\n",
      "mondo:0006593\n",
      "ncit:C27486\n",
      "umls:C0406608\n"
     ]
    }
   ],
   "source": [
    "for m in efo_mappings:\n",
    "    if m.s.identifier == \"1000748\":\n",
    "        print(m.o.curie)"
   ]
  }
 ],
 "metadata": {
  "kernelspec": {
   "display_name": "Python 3 (ipykernel)",
   "language": "python",
   "name": "python3"
  },
  "language_info": {
   "codemirror_mode": {
    "name": "ipython",
    "version": 3
   },
   "file_extension": ".py",
   "mimetype": "text/x-python",
   "name": "python",
   "nbconvert_exporter": "python",
   "pygments_lexer": "ipython3",
   "version": "3.10.11"
  }
 },
 "nbformat": 4,
 "nbformat_minor": 5
}
