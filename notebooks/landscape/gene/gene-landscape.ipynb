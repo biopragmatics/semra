{
 "cells": [
  {
   "cell_type": "code",
   "execution_count": 1,
   "id": "df43c150-06ba-4ba5-bb3e-d07159cc596e",
   "metadata": {
    "execution": {
     "iopub.execute_input": "2025-03-22T11:35:16.368538Z",
     "iopub.status.busy": "2025-03-22T11:35:16.368435Z",
     "iopub.status.idle": "2025-03-22T11:35:21.966434Z",
     "shell.execute_reply": "2025-03-22T11:35:21.966014Z"
    }
   },
   "outputs": [],
   "source": [
    "from semra.landscape.genes import CONFIGURATION\n",
    "from semra.landscape.utils import notebook"
   ]
  },
  {
   "cell_type": "code",
   "execution_count": 2,
   "id": "b83901f2-4649-4c89-9cf7-1ec61a434e5e",
   "metadata": {
    "execution": {
     "iopub.execute_input": "2025-03-22T11:35:21.968395Z",
     "iopub.status.busy": "2025-03-22T11:35:21.968150Z",
     "iopub.status.idle": "2025-03-22T11:57:38.131855Z",
     "shell.execute_reply": "2025-03-22T11:57:38.131346Z"
    }
   },
   "outputs": [
    {
     "name": "stderr",
     "output_type": "stream",
     "text": [
      "\r",
      "[umls] parsing edges:   0%|                      | 0.00/6.50M [00:00<?, ?edge/s]"
     ]
    },
    {
     "name": "stderr",
     "output_type": "stream",
     "text": [
      "\r",
      "[umls] parsing edges:   0%|              | 17.2k/6.50M [00:00<00:37, 172kedge/s]"
     ]
    },
    {
     "name": "stderr",
     "output_type": "stream",
     "text": [
      "\r",
      "[umls] parsing edges:   1%|              | 34.8k/6.50M [00:00<00:37, 174kedge/s]"
     ]
    },
    {
     "name": "stderr",
     "output_type": "stream",
     "text": [
      "\r",
      "[umls] parsing edges:   1%|              | 52.7k/6.50M [00:00<00:36, 176kedge/s]"
     ]
    },
    {
     "name": "stderr",
     "output_type": "stream",
     "text": [
      "\r",
      "[umls] parsing edges:   1%|▏             | 70.4k/6.50M [00:00<00:36, 177kedge/s]"
     ]
    },
    {
     "name": "stderr",
     "output_type": "stream",
     "text": [
      "\r",
      "[umls] parsing edges:   1%|▏             | 88.1k/6.50M [00:00<00:36, 177kedge/s]"
     ]
    },
    {
     "name": "stderr",
     "output_type": "stream",
     "text": [
      "\r",
      "[umls] parsing edges:   2%|▏              | 106k/6.50M [00:00<00:36, 177kedge/s]"
     ]
    },
    {
     "name": "stderr",
     "output_type": "stream",
     "text": [
      "\r",
      "[umls] parsing edges:   2%|▎              | 123k/6.50M [00:00<00:36, 176kedge/s]"
     ]
    },
    {
     "name": "stderr",
     "output_type": "stream",
     "text": [
      "\r",
      "[umls] parsing edges:   2%|▎              | 141k/6.50M [00:00<00:36, 176kedge/s]"
     ]
    },
    {
     "name": "stderr",
     "output_type": "stream",
     "text": [
      "\r",
      "[umls] parsing edges:   2%|▎              | 159k/6.50M [00:00<00:35, 176kedge/s]"
     ]
    },
    {
     "name": "stderr",
     "output_type": "stream",
     "text": [
      "\r",
      "[umls] parsing edges:   3%|▍              | 176k/6.50M [00:01<00:37, 166kedge/s]"
     ]
    },
    {
     "name": "stderr",
     "output_type": "stream",
     "text": [
      "\r",
      "[umls] parsing edges:   3%|▍              | 193k/6.50M [00:01<00:39, 158kedge/s]"
     ]
    },
    {
     "name": "stderr",
     "output_type": "stream",
     "text": [
      "\r",
      "[umls] parsing edges:   3%|▍             | 209k/6.50M [00:10<18:23, 5.70kedge/s]"
     ]
    },
    {
     "name": "stderr",
     "output_type": "stream",
     "text": [
      "\r",
      "[umls] parsing edges:   3%|▍             | 227k/6.50M [00:10<12:47, 8.17kedge/s]"
     ]
    },
    {
     "name": "stderr",
     "output_type": "stream",
     "text": [
      "\r",
      "[umls] parsing edges:   4%|▌             | 244k/6.50M [00:10<09:00, 11.6kedge/s]"
     ]
    },
    {
     "name": "stderr",
     "output_type": "stream",
     "text": [
      "\r",
      "[umls] parsing edges:   4%|▌             | 262k/6.50M [00:10<06:23, 16.3kedge/s]"
     ]
    },
    {
     "name": "stderr",
     "output_type": "stream",
     "text": [
      "\r",
      "[umls] parsing edges:   4%|▌             | 280k/6.50M [00:11<04:36, 22.5kedge/s]"
     ]
    },
    {
     "name": "stderr",
     "output_type": "stream",
     "text": [
      "\r",
      "[umls] parsing edges:   5%|▋             | 297k/6.50M [00:11<03:24, 30.3kedge/s]"
     ]
    },
    {
     "name": "stderr",
     "output_type": "stream",
     "text": [
      "\r",
      "[umls] parsing edges:   5%|▋             | 315k/6.50M [00:11<02:33, 40.4kedge/s]"
     ]
    },
    {
     "name": "stderr",
     "output_type": "stream",
     "text": [
      "\r",
      "[umls] parsing edges:   5%|▋             | 333k/6.50M [00:11<01:56, 52.8kedge/s]"
     ]
    },
    {
     "name": "stderr",
     "output_type": "stream",
     "text": [
      "\r",
      "[umls] parsing edges:   5%|▊             | 351k/6.50M [00:11<01:31, 67.1kedge/s]"
     ]
    },
    {
     "name": "stderr",
     "output_type": "stream",
     "text": [
      "\r",
      "[umls] parsing edges:   6%|▊             | 368k/6.50M [00:11<01:14, 82.6kedge/s]"
     ]
    },
    {
     "name": "stderr",
     "output_type": "stream",
     "text": [
      "\r",
      "[umls] parsing edges:   6%|▊             | 386k/6.50M [00:11<01:01, 98.6kedge/s]"
     ]
    },
    {
     "name": "stderr",
     "output_type": "stream",
     "text": [
      "\r",
      "[umls] parsing edges:   6%|▉              | 404k/6.50M [00:11<00:53, 114kedge/s]"
     ]
    },
    {
     "name": "stderr",
     "output_type": "stream",
     "text": [
      "\r",
      "[umls] parsing edges:   6%|▉              | 422k/6.50M [00:11<00:47, 128kedge/s]"
     ]
    },
    {
     "name": "stderr",
     "output_type": "stream",
     "text": [
      "\r",
      "[umls] parsing edges:   7%|█              | 440k/6.50M [00:11<00:43, 140kedge/s]"
     ]
    },
    {
     "name": "stderr",
     "output_type": "stream",
     "text": [
      "\r",
      "[umls] parsing edges:   7%|█              | 458k/6.50M [00:12<00:40, 149kedge/s]"
     ]
    },
    {
     "name": "stderr",
     "output_type": "stream",
     "text": [
      "\r",
      "[umls] parsing edges:   7%|█              | 475k/6.50M [00:12<00:38, 156kedge/s]"
     ]
    },
    {
     "name": "stderr",
     "output_type": "stream",
     "text": [
      "\r",
      "[umls] parsing edges:   8%|█▏             | 493k/6.50M [00:12<00:36, 162kedge/s]"
     ]
    },
    {
     "name": "stderr",
     "output_type": "stream",
     "text": [
      "\r",
      "[umls] parsing edges:   8%|█▏             | 511k/6.50M [00:12<00:35, 167kedge/s]"
     ]
    },
    {
     "name": "stderr",
     "output_type": "stream",
     "text": [
      "\r",
      "[umls] parsing edges:   8%|█▏             | 511k/6.50M [00:25<00:35, 167kedge/s]"
     ]
    },
    {
     "name": "stderr",
     "output_type": "stream",
     "text": [
      "\r",
      "[umls] parsing edges:   8%|█▏            | 524k/6.50M [00:25<24:19, 4.09kedge/s]"
     ]
    },
    {
     "name": "stderr",
     "output_type": "stream",
     "text": [
      "\r",
      "[umls] parsing edges:   8%|█▏            | 542k/6.50M [00:25<16:49, 5.90kedge/s]"
     ]
    },
    {
     "name": "stderr",
     "output_type": "stream",
     "text": [
      "\r",
      "[umls] parsing edges:   9%|█▏            | 560k/6.50M [00:25<11:39, 8.48kedge/s]"
     ]
    },
    {
     "name": "stderr",
     "output_type": "stream",
     "text": [
      "\r",
      "[umls] parsing edges:   9%|█▏            | 578k/6.50M [00:25<08:10, 12.1kedge/s]"
     ]
    },
    {
     "name": "stderr",
     "output_type": "stream",
     "text": [
      "\r",
      "[umls] parsing edges:   9%|█▎            | 596k/6.50M [00:25<05:49, 16.9kedge/s]"
     ]
    },
    {
     "name": "stderr",
     "output_type": "stream",
     "text": [
      "\r",
      "[umls] parsing edges:   9%|█▎            | 614k/6.50M [00:25<04:12, 23.3kedge/s]"
     ]
    },
    {
     "name": "stderr",
     "output_type": "stream",
     "text": [
      "\r",
      "[umls] parsing edges:  10%|█▎            | 632k/6.50M [00:26<03:05, 31.7kedge/s]"
     ]
    },
    {
     "name": "stderr",
     "output_type": "stream",
     "text": [
      "\r",
      "[umls] parsing edges:  10%|█▍            | 650k/6.50M [00:26<02:18, 42.2kedge/s]"
     ]
    },
    {
     "name": "stderr",
     "output_type": "stream",
     "text": [
      "\r",
      "[umls] parsing edges:  10%|█▍            | 667k/6.50M [00:26<01:46, 54.8kedge/s]"
     ]
    },
    {
     "name": "stderr",
     "output_type": "stream",
     "text": [
      "\r",
      "[umls] parsing edges:  11%|█▍            | 685k/6.50M [00:26<01:23, 69.2kedge/s]"
     ]
    },
    {
     "name": "stderr",
     "output_type": "stream",
     "text": [
      "\r",
      "[umls] parsing edges:  11%|█▌            | 703k/6.50M [00:26<01:08, 85.1kedge/s]"
     ]
    },
    {
     "name": "stderr",
     "output_type": "stream",
     "text": [
      "\r",
      "[umls] parsing edges:  11%|█▋             | 721k/6.50M [00:26<00:57, 101kedge/s]"
     ]
    },
    {
     "name": "stderr",
     "output_type": "stream",
     "text": [
      "\r",
      "[umls] parsing edges:  11%|█▋             | 739k/6.50M [00:26<00:49, 116kedge/s]"
     ]
    },
    {
     "name": "stderr",
     "output_type": "stream",
     "text": [
      "\r",
      "[umls] parsing edges:  12%|█▋             | 757k/6.50M [00:26<00:44, 130kedge/s]"
     ]
    },
    {
     "name": "stderr",
     "output_type": "stream",
     "text": [
      "\r",
      "[umls] parsing edges:  12%|█▊             | 775k/6.50M [00:26<00:40, 141kedge/s]"
     ]
    },
    {
     "name": "stderr",
     "output_type": "stream",
     "text": [
      "\r",
      "[umls] parsing edges:  12%|█▊             | 793k/6.50M [00:26<00:37, 150kedge/s]"
     ]
    },
    {
     "name": "stderr",
     "output_type": "stream",
     "text": [
      "\r",
      "[umls] parsing edges:  12%|█▊             | 811k/6.50M [00:27<00:35, 158kedge/s]"
     ]
    },
    {
     "name": "stderr",
     "output_type": "stream",
     "text": [
      "\r",
      "[umls] parsing edges:  13%|█▉             | 829k/6.50M [00:27<00:34, 164kedge/s]"
     ]
    },
    {
     "name": "stderr",
     "output_type": "stream",
     "text": [
      "\r",
      "[umls] parsing edges:  13%|█▉             | 847k/6.50M [00:27<00:33, 169kedge/s]"
     ]
    },
    {
     "name": "stderr",
     "output_type": "stream",
     "text": [
      "\r",
      "[umls] parsing edges:  13%|█▉             | 865k/6.50M [00:27<00:32, 171kedge/s]"
     ]
    },
    {
     "name": "stderr",
     "output_type": "stream",
     "text": [
      "\r",
      "[umls] parsing edges:  14%|██             | 883k/6.50M [00:27<00:32, 174kedge/s]"
     ]
    },
    {
     "name": "stderr",
     "output_type": "stream",
     "text": [
      "\r",
      "[umls] parsing edges:  14%|██             | 901k/6.50M [00:27<00:31, 176kedge/s]"
     ]
    },
    {
     "name": "stderr",
     "output_type": "stream",
     "text": [
      "\r",
      "[umls] parsing edges:  14%|██             | 919k/6.50M [00:27<00:31, 177kedge/s]"
     ]
    },
    {
     "name": "stderr",
     "output_type": "stream",
     "text": [
      "\r",
      "[umls] parsing edges:  14%|██             | 919k/6.50M [00:41<00:31, 177kedge/s]"
     ]
    },
    {
     "name": "stderr",
     "output_type": "stream",
     "text": [
      "\r",
      "[umls] parsing edges:  14%|█▉            | 928k/6.50M [00:41<25:23, 3.66kedge/s]"
     ]
    },
    {
     "name": "stderr",
     "output_type": "stream",
     "text": [
      "\r",
      "[umls] parsing edges:  15%|██            | 945k/6.50M [00:41<17:04, 5.42kedge/s]"
     ]
    },
    {
     "name": "stderr",
     "output_type": "stream",
     "text": [
      "\r",
      "[umls] parsing edges:  15%|██            | 963k/6.50M [00:41<11:37, 7.93kedge/s]"
     ]
    },
    {
     "name": "stderr",
     "output_type": "stream",
     "text": [
      "\r",
      "[umls] parsing edges:  15%|██            | 981k/6.50M [00:41<08:04, 11.4kedge/s]"
     ]
    },
    {
     "name": "stderr",
     "output_type": "stream",
     "text": [
      "\r",
      "[umls] parsing edges:  15%|██▏           | 999k/6.50M [00:41<05:42, 16.1kedge/s]"
     ]
    },
    {
     "name": "stderr",
     "output_type": "stream",
     "text": [
      "\r",
      "[umls] parsing edges:  16%|██           | 1.02M/6.50M [00:41<04:05, 22.4kedge/s]"
     ]
    },
    {
     "name": "stderr",
     "output_type": "stream",
     "text": [
      "\r",
      "[umls] parsing edges:  16%|██           | 1.03M/6.50M [00:41<02:59, 30.5kedge/s]"
     ]
    },
    {
     "name": "stderr",
     "output_type": "stream",
     "text": [
      "\r",
      "[umls] parsing edges:  16%|██           | 1.05M/6.50M [00:41<02:13, 40.8kedge/s]"
     ]
    },
    {
     "name": "stderr",
     "output_type": "stream",
     "text": [
      "\r",
      "[umls] parsing edges:  16%|██▏          | 1.07M/6.50M [00:42<01:41, 53.2kedge/s]"
     ]
    },
    {
     "name": "stderr",
     "output_type": "stream",
     "text": [
      "\r",
      "[umls] parsing edges:  17%|██▏          | 1.09M/6.50M [00:42<01:20, 67.5kedge/s]"
     ]
    },
    {
     "name": "stderr",
     "output_type": "stream",
     "text": [
      "\r",
      "[umls] parsing edges:  17%|██▏          | 1.11M/6.50M [00:42<01:04, 83.2kedge/s]"
     ]
    },
    {
     "name": "stderr",
     "output_type": "stream",
     "text": [
      "\r",
      "[umls] parsing edges:  17%|██▏          | 1.12M/6.50M [00:42<00:54, 99.2kedge/s]"
     ]
    },
    {
     "name": "stderr",
     "output_type": "stream",
     "text": [
      "\r",
      "[umls] parsing edges:  18%|██▍           | 1.14M/6.50M [00:42<00:46, 115kedge/s]"
     ]
    },
    {
     "name": "stderr",
     "output_type": "stream",
     "text": [
      "\r",
      "[umls] parsing edges:  18%|██▍           | 1.16M/6.50M [00:42<00:41, 129kedge/s]"
     ]
    },
    {
     "name": "stderr",
     "output_type": "stream",
     "text": [
      "\r",
      "[umls] parsing edges:  18%|██▌           | 1.18M/6.50M [00:42<00:37, 141kedge/s]"
     ]
    },
    {
     "name": "stderr",
     "output_type": "stream",
     "text": [
      "\r",
      "[umls] parsing edges:  18%|██▌           | 1.20M/6.50M [00:42<00:35, 150kedge/s]"
     ]
    },
    {
     "name": "stderr",
     "output_type": "stream",
     "text": [
      "\r",
      "[umls] parsing edges:  19%|██▌           | 1.21M/6.50M [00:42<00:33, 158kedge/s]"
     ]
    },
    {
     "name": "stderr",
     "output_type": "stream",
     "text": [
      "\r",
      "[umls] parsing edges:  19%|██▋           | 1.23M/6.50M [00:42<00:32, 164kedge/s]"
     ]
    },
    {
     "name": "stderr",
     "output_type": "stream",
     "text": [
      "\r",
      "[umls] parsing edges:  19%|██▋           | 1.25M/6.50M [00:43<00:31, 168kedge/s]"
     ]
    },
    {
     "name": "stderr",
     "output_type": "stream",
     "text": [
      "\r",
      "[umls] parsing edges:  20%|██▋           | 1.27M/6.50M [00:43<00:30, 171kedge/s]"
     ]
    },
    {
     "name": "stderr",
     "output_type": "stream",
     "text": [
      "\r",
      "[umls] parsing edges:  20%|██▊           | 1.29M/6.50M [00:43<00:30, 173kedge/s]"
     ]
    },
    {
     "name": "stderr",
     "output_type": "stream",
     "text": [
      "\r",
      "[umls] parsing edges:  20%|██▊           | 1.30M/6.50M [00:43<00:29, 175kedge/s]"
     ]
    },
    {
     "name": "stderr",
     "output_type": "stream",
     "text": [
      "\r",
      "[umls] parsing edges:  20%|██▊           | 1.32M/6.50M [00:43<00:29, 176kedge/s]"
     ]
    },
    {
     "name": "stderr",
     "output_type": "stream",
     "text": [
      "\r",
      "[umls] parsing edges:  21%|██▉           | 1.34M/6.50M [00:43<00:29, 176kedge/s]"
     ]
    },
    {
     "name": "stderr",
     "output_type": "stream",
     "text": [
      "\r",
      "[umls] parsing edges:  21%|██▉           | 1.36M/6.50M [00:43<00:28, 177kedge/s]"
     ]
    },
    {
     "name": "stderr",
     "output_type": "stream",
     "text": [
      "\r",
      "[umls] parsing edges:  21%|██▉           | 1.38M/6.50M [00:43<00:28, 178kedge/s]"
     ]
    },
    {
     "name": "stderr",
     "output_type": "stream",
     "text": [
      "\r",
      "[umls] parsing edges:  21%|███           | 1.39M/6.50M [00:43<00:28, 179kedge/s]"
     ]
    },
    {
     "name": "stderr",
     "output_type": "stream",
     "text": [
      "\r",
      "[umls] parsing edges:  22%|███           | 1.41M/6.50M [00:43<00:28, 178kedge/s]"
     ]
    },
    {
     "name": "stderr",
     "output_type": "stream",
     "text": [
      "\r",
      "[umls] parsing edges:  22%|███           | 1.41M/6.50M [00:58<00:28, 178kedge/s]"
     ]
    },
    {
     "name": "stderr",
     "output_type": "stream",
     "text": [
      "\r",
      "[umls] parsing edges:  22%|██▊          | 1.43M/6.50M [00:58<21:25, 3.94kedge/s]"
     ]
    },
    {
     "name": "stderr",
     "output_type": "stream",
     "text": [
      "\r",
      "[umls] parsing edges:  22%|██▉          | 1.44M/6.50M [00:58<15:00, 5.61kedge/s]"
     ]
    },
    {
     "name": "stderr",
     "output_type": "stream",
     "text": [
      "\r",
      "[umls] parsing edges:  22%|██▉          | 1.46M/6.50M [00:58<10:31, 7.98kedge/s]"
     ]
    },
    {
     "name": "stderr",
     "output_type": "stream",
     "text": [
      "\r",
      "[umls] parsing edges:  23%|██▉          | 1.48M/6.50M [00:58<07:26, 11.2kedge/s]"
     ]
    },
    {
     "name": "stderr",
     "output_type": "stream",
     "text": [
      "\r",
      "[umls] parsing edges:  23%|██▉          | 1.50M/6.50M [00:58<05:17, 15.7kedge/s]"
     ]
    },
    {
     "name": "stderr",
     "output_type": "stream",
     "text": [
      "\r",
      "[umls] parsing edges:  23%|███          | 1.51M/6.50M [00:58<03:49, 21.7kedge/s]"
     ]
    },
    {
     "name": "stderr",
     "output_type": "stream",
     "text": [
      "\r",
      "[umls] parsing edges:  24%|███          | 1.53M/6.50M [00:58<02:48, 29.5kedge/s]"
     ]
    },
    {
     "name": "stderr",
     "output_type": "stream",
     "text": [
      "\r",
      "[umls] parsing edges:  24%|███          | 1.55M/6.50M [00:58<02:05, 39.4kedge/s]"
     ]
    },
    {
     "name": "stderr",
     "output_type": "stream",
     "text": [
      "\r",
      "[umls] parsing edges:  24%|███▏         | 1.57M/6.50M [00:58<01:35, 51.4kedge/s]"
     ]
    },
    {
     "name": "stderr",
     "output_type": "stream",
     "text": [
      "\r",
      "[umls] parsing edges:  24%|███▏         | 1.59M/6.50M [00:59<01:15, 65.4kedge/s]"
     ]
    },
    {
     "name": "stderr",
     "output_type": "stream",
     "text": [
      "\r",
      "[umls] parsing edges:  25%|███▏         | 1.60M/6.50M [00:59<01:03, 77.6kedge/s]"
     ]
    },
    {
     "name": "stderr",
     "output_type": "stream",
     "text": [
      "\r",
      "[umls] parsing edges:  25%|███▏         | 1.62M/6.50M [00:59<00:52, 93.2kedge/s]"
     ]
    },
    {
     "name": "stderr",
     "output_type": "stream",
     "text": [
      "\r",
      "[umls] parsing edges:  25%|███▌          | 1.64M/6.50M [00:59<00:44, 109kedge/s]"
     ]
    },
    {
     "name": "stderr",
     "output_type": "stream",
     "text": [
      "\r",
      "[umls] parsing edges:  26%|███▌          | 1.66M/6.50M [00:59<00:39, 123kedge/s]"
     ]
    },
    {
     "name": "stderr",
     "output_type": "stream",
     "text": [
      "\r",
      "[umls] parsing edges:  26%|███▌          | 1.67M/6.50M [00:59<00:35, 135kedge/s]"
     ]
    },
    {
     "name": "stderr",
     "output_type": "stream",
     "text": [
      "\r",
      "[umls] parsing edges:  26%|███▋          | 1.69M/6.50M [00:59<00:33, 145kedge/s]"
     ]
    },
    {
     "name": "stderr",
     "output_type": "stream",
     "text": [
      "\r",
      "[umls] parsing edges:  26%|███▋          | 1.71M/6.50M [00:59<00:31, 153kedge/s]"
     ]
    },
    {
     "name": "stderr",
     "output_type": "stream",
     "text": [
      "\r",
      "[umls] parsing edges:  27%|███▋          | 1.73M/6.50M [00:59<00:29, 160kedge/s]"
     ]
    },
    {
     "name": "stderr",
     "output_type": "stream",
     "text": [
      "\r",
      "[umls] parsing edges:  27%|███▊          | 1.75M/6.50M [01:00<00:28, 165kedge/s]"
     ]
    },
    {
     "name": "stderr",
     "output_type": "stream",
     "text": [
      "\r",
      "[umls] parsing edges:  27%|███▊          | 1.76M/6.50M [01:00<00:28, 168kedge/s]"
     ]
    },
    {
     "name": "stderr",
     "output_type": "stream",
     "text": [
      "\r",
      "[umls] parsing edges:  27%|███▊          | 1.78M/6.50M [01:00<00:27, 171kedge/s]"
     ]
    },
    {
     "name": "stderr",
     "output_type": "stream",
     "text": [
      "\r",
      "[umls] parsing edges:  28%|███▉          | 1.80M/6.50M [01:00<00:27, 173kedge/s]"
     ]
    },
    {
     "name": "stderr",
     "output_type": "stream",
     "text": [
      "\r",
      "[umls] parsing edges:  28%|███▉          | 1.82M/6.50M [01:00<00:26, 174kedge/s]"
     ]
    },
    {
     "name": "stderr",
     "output_type": "stream",
     "text": [
      "\r",
      "[umls] parsing edges:  28%|███▉          | 1.83M/6.50M [01:00<00:26, 175kedge/s]"
     ]
    },
    {
     "name": "stderr",
     "output_type": "stream",
     "text": [
      "\r",
      "[umls] parsing edges:  29%|███▉          | 1.85M/6.50M [01:00<00:26, 175kedge/s]"
     ]
    },
    {
     "name": "stderr",
     "output_type": "stream",
     "text": [
      "\r",
      "[umls] parsing edges:  29%|████          | 1.87M/6.50M [01:00<00:26, 176kedge/s]"
     ]
    },
    {
     "name": "stderr",
     "output_type": "stream",
     "text": [
      "\r",
      "[umls] parsing edges:  29%|████          | 1.89M/6.50M [01:00<00:26, 176kedge/s]"
     ]
    },
    {
     "name": "stderr",
     "output_type": "stream",
     "text": [
      "\r",
      "[umls] parsing edges:  29%|████          | 1.91M/6.50M [01:00<00:26, 176kedge/s]"
     ]
    },
    {
     "name": "stderr",
     "output_type": "stream",
     "text": [
      "\r",
      "[umls] parsing edges:  30%|████▏         | 1.92M/6.50M [01:01<00:25, 176kedge/s]"
     ]
    },
    {
     "name": "stderr",
     "output_type": "stream",
     "text": [
      "\r",
      "[umls] parsing edges:  30%|████▏         | 1.94M/6.50M [01:01<00:25, 177kedge/s]"
     ]
    },
    {
     "name": "stderr",
     "output_type": "stream",
     "text": [
      "\r",
      "[umls] parsing edges:  30%|████▏         | 1.96M/6.50M [01:01<00:25, 176kedge/s]"
     ]
    },
    {
     "name": "stderr",
     "output_type": "stream",
     "text": [
      "\r",
      "[umls] parsing edges:  30%|████▎         | 1.98M/6.50M [01:01<00:25, 177kedge/s]"
     ]
    },
    {
     "name": "stderr",
     "output_type": "stream",
     "text": [
      "\r",
      "[umls] parsing edges:  31%|████▎         | 1.99M/6.50M [01:01<00:25, 177kedge/s]"
     ]
    },
    {
     "name": "stderr",
     "output_type": "stream",
     "text": [
      "\r",
      "[umls] parsing edges:  31%|████▎         | 2.01M/6.50M [01:01<00:25, 178kedge/s]"
     ]
    },
    {
     "name": "stderr",
     "output_type": "stream",
     "text": [
      "\r",
      "[umls] parsing edges:  31%|████▎         | 2.03M/6.50M [01:01<00:25, 178kedge/s]"
     ]
    },
    {
     "name": "stderr",
     "output_type": "stream",
     "text": [
      "\r",
      "[umls] parsing edges:  32%|████▍         | 2.05M/6.50M [01:01<00:25, 177kedge/s]"
     ]
    },
    {
     "name": "stderr",
     "output_type": "stream",
     "text": [
      "\r",
      "[umls] parsing edges:  32%|████▍         | 2.05M/6.50M [01:17<00:25, 177kedge/s]"
     ]
    },
    {
     "name": "stderr",
     "output_type": "stream",
     "text": [
      "\r",
      "[umls] parsing edges:  32%|████         | 2.05M/6.50M [01:17<24:35, 3.01kedge/s]"
     ]
    },
    {
     "name": "stderr",
     "output_type": "stream",
     "text": [
      "\r",
      "[umls] parsing edges:  32%|████▏        | 2.07M/6.50M [01:17<16:15, 4.54kedge/s]"
     ]
    },
    {
     "name": "stderr",
     "output_type": "stream",
     "text": [
      "\r",
      "[umls] parsing edges:  32%|████▏        | 2.09M/6.50M [01:17<10:55, 6.72kedge/s]"
     ]
    },
    {
     "name": "stderr",
     "output_type": "stream",
     "text": [
      "\r",
      "[umls] parsing edges:  32%|████▏        | 2.11M/6.50M [01:17<07:30, 9.74kedge/s]"
     ]
    },
    {
     "name": "stderr",
     "output_type": "stream",
     "text": [
      "\r",
      "[umls] parsing edges:  33%|████▏        | 2.12M/6.50M [01:17<05:14, 13.9kedge/s]"
     ]
    },
    {
     "name": "stderr",
     "output_type": "stream",
     "text": [
      "\r",
      "[umls] parsing edges:  33%|████▎        | 2.14M/6.50M [01:17<03:43, 19.5kedge/s]"
     ]
    },
    {
     "name": "stderr",
     "output_type": "stream",
     "text": [
      "\r",
      "[umls] parsing edges:  33%|████▎        | 2.16M/6.50M [01:17<02:41, 26.9kedge/s]"
     ]
    },
    {
     "name": "stderr",
     "output_type": "stream",
     "text": [
      "\r",
      "[umls] parsing edges:  33%|████▎        | 2.18M/6.50M [01:17<01:59, 36.2kedge/s]"
     ]
    },
    {
     "name": "stderr",
     "output_type": "stream",
     "text": [
      "\r",
      "[umls] parsing edges:  34%|████▍        | 2.19M/6.50M [01:17<01:29, 47.9kedge/s]"
     ]
    },
    {
     "name": "stderr",
     "output_type": "stream",
     "text": [
      "\r",
      "[umls] parsing edges:  34%|████▍        | 2.21M/6.50M [01:18<01:09, 61.6kedge/s]"
     ]
    },
    {
     "name": "stderr",
     "output_type": "stream",
     "text": [
      "\r",
      "[umls] parsing edges:  34%|████▍        | 2.23M/6.50M [01:18<00:55, 76.5kedge/s]"
     ]
    },
    {
     "name": "stderr",
     "output_type": "stream",
     "text": [
      "\r",
      "[umls] parsing edges:  35%|████▍        | 2.25M/6.50M [01:18<00:46, 92.0kedge/s]"
     ]
    },
    {
     "name": "stderr",
     "output_type": "stream",
     "text": [
      "\r",
      "[umls] parsing edges:  35%|████▉         | 2.26M/6.50M [01:18<00:39, 108kedge/s]"
     ]
    },
    {
     "name": "stderr",
     "output_type": "stream",
     "text": [
      "\r",
      "[umls] parsing edges:  35%|████▉         | 2.28M/6.50M [01:18<00:34, 122kedge/s]"
     ]
    },
    {
     "name": "stderr",
     "output_type": "stream",
     "text": [
      "\r",
      "[umls] parsing edges:  35%|████▉         | 2.30M/6.50M [01:18<00:31, 135kedge/s]"
     ]
    },
    {
     "name": "stderr",
     "output_type": "stream",
     "text": [
      "\r",
      "[umls] parsing edges:  36%|████▉         | 2.32M/6.50M [01:18<00:28, 145kedge/s]"
     ]
    },
    {
     "name": "stderr",
     "output_type": "stream",
     "text": [
      "\r",
      "[umls] parsing edges:  36%|█████         | 2.34M/6.50M [01:18<00:27, 153kedge/s]"
     ]
    },
    {
     "name": "stderr",
     "output_type": "stream",
     "text": [
      "\r",
      "[umls] parsing edges:  36%|█████         | 2.35M/6.50M [01:18<00:26, 159kedge/s]"
     ]
    },
    {
     "name": "stderr",
     "output_type": "stream",
     "text": [
      "\r",
      "[umls] parsing edges:  37%|█████         | 2.37M/6.50M [01:18<00:25, 164kedge/s]"
     ]
    },
    {
     "name": "stderr",
     "output_type": "stream",
     "text": [
      "\r",
      "[umls] parsing edges:  37%|█████▏        | 2.39M/6.50M [01:19<00:24, 168kedge/s]"
     ]
    },
    {
     "name": "stderr",
     "output_type": "stream",
     "text": [
      "\r",
      "[umls] parsing edges:  37%|█████▏        | 2.41M/6.50M [01:19<00:23, 171kedge/s]"
     ]
    },
    {
     "name": "stderr",
     "output_type": "stream",
     "text": [
      "\r",
      "[umls] parsing edges:  37%|█████▏        | 2.42M/6.50M [01:19<00:23, 172kedge/s]"
     ]
    },
    {
     "name": "stderr",
     "output_type": "stream",
     "text": [
      "\r",
      "[umls] parsing edges:  38%|█████▎        | 2.44M/6.50M [01:19<00:23, 174kedge/s]"
     ]
    },
    {
     "name": "stderr",
     "output_type": "stream",
     "text": [
      "\r",
      "[umls] parsing edges:  38%|█████▎        | 2.46M/6.50M [01:19<00:23, 175kedge/s]"
     ]
    },
    {
     "name": "stderr",
     "output_type": "stream",
     "text": [
      "\r",
      "[umls] parsing edges:  38%|█████▎        | 2.48M/6.50M [01:19<00:22, 176kedge/s]"
     ]
    },
    {
     "name": "stderr",
     "output_type": "stream",
     "text": [
      "\r",
      "[umls] parsing edges:  38%|█████▍        | 2.50M/6.50M [01:19<00:22, 176kedge/s]"
     ]
    },
    {
     "name": "stderr",
     "output_type": "stream",
     "text": [
      "\r",
      "[umls] parsing edges:  39%|█████▍        | 2.51M/6.50M [01:19<00:22, 176kedge/s]"
     ]
    },
    {
     "name": "stderr",
     "output_type": "stream",
     "text": [
      "\r",
      "[umls] parsing edges:  39%|█████▍        | 2.53M/6.50M [01:19<00:22, 176kedge/s]"
     ]
    },
    {
     "name": "stderr",
     "output_type": "stream",
     "text": [
      "\r",
      "[umls] parsing edges:  39%|█████▍        | 2.55M/6.50M [01:19<00:22, 176kedge/s]"
     ]
    },
    {
     "name": "stderr",
     "output_type": "stream",
     "text": [
      "\r",
      "[umls] parsing edges:  40%|█████▌        | 2.57M/6.50M [01:20<00:22, 177kedge/s]"
     ]
    },
    {
     "name": "stderr",
     "output_type": "stream",
     "text": [
      "\r",
      "[umls] parsing edges:  40%|█████▌        | 2.58M/6.50M [01:20<00:22, 177kedge/s]"
     ]
    },
    {
     "name": "stderr",
     "output_type": "stream",
     "text": [
      "\r",
      "[umls] parsing edges:  40%|█████▌        | 2.60M/6.50M [01:20<00:22, 177kedge/s]"
     ]
    },
    {
     "name": "stderr",
     "output_type": "stream",
     "text": [
      "\r",
      "[umls] parsing edges:  40%|█████▋        | 2.62M/6.50M [01:20<00:21, 176kedge/s]"
     ]
    },
    {
     "name": "stderr",
     "output_type": "stream",
     "text": [
      "\r",
      "[umls] parsing edges:  41%|█████▋        | 2.64M/6.50M [01:20<00:21, 176kedge/s]"
     ]
    },
    {
     "name": "stderr",
     "output_type": "stream",
     "text": [
      "\r",
      "[umls] parsing edges:  41%|█████▋        | 2.65M/6.50M [01:20<00:21, 177kedge/s]"
     ]
    },
    {
     "name": "stderr",
     "output_type": "stream",
     "text": [
      "\r",
      "[umls] parsing edges:  41%|█████▊        | 2.67M/6.50M [01:20<00:21, 176kedge/s]"
     ]
    },
    {
     "name": "stderr",
     "output_type": "stream",
     "text": [
      "\r",
      "[umls] parsing edges:  41%|█████▊        | 2.69M/6.50M [01:20<00:21, 176kedge/s]"
     ]
    },
    {
     "name": "stderr",
     "output_type": "stream",
     "text": [
      "\r",
      "[umls] parsing edges:  42%|█████▊        | 2.71M/6.50M [01:20<00:21, 176kedge/s]"
     ]
    },
    {
     "name": "stderr",
     "output_type": "stream",
     "text": [
      "\r",
      "[umls] parsing edges:  42%|█████▊        | 2.73M/6.50M [01:20<00:21, 177kedge/s]"
     ]
    },
    {
     "name": "stderr",
     "output_type": "stream",
     "text": [
      "\r",
      "[umls] parsing edges:  42%|█████▉        | 2.74M/6.50M [01:21<00:21, 177kedge/s]"
     ]
    },
    {
     "name": "stderr",
     "output_type": "stream",
     "text": [
      "\r",
      "[umls] parsing edges:  43%|█████▉        | 2.76M/6.50M [01:21<00:21, 177kedge/s]"
     ]
    },
    {
     "name": "stderr",
     "output_type": "stream",
     "text": [
      "\r",
      "[umls] parsing edges:  43%|█████▉        | 2.78M/6.50M [01:21<00:21, 177kedge/s]"
     ]
    },
    {
     "name": "stderr",
     "output_type": "stream",
     "text": [
      "\r",
      "[umls] parsing edges:  43%|██████        | 2.80M/6.50M [01:21<00:20, 177kedge/s]"
     ]
    },
    {
     "name": "stderr",
     "output_type": "stream",
     "text": [
      "\r",
      "[umls] parsing edges:  43%|██████        | 2.81M/6.50M [01:21<00:20, 178kedge/s]"
     ]
    },
    {
     "name": "stderr",
     "output_type": "stream",
     "text": [
      "\r",
      "[umls] parsing edges:  44%|██████        | 2.83M/6.50M [01:21<00:20, 177kedge/s]"
     ]
    },
    {
     "name": "stderr",
     "output_type": "stream",
     "text": [
      "\r",
      "[umls] parsing edges:  44%|██████        | 2.83M/6.50M [01:37<00:20, 177kedge/s]"
     ]
    },
    {
     "name": "stderr",
     "output_type": "stream",
     "text": [
      "\r",
      "[umls] parsing edges:  44%|█████▋       | 2.84M/6.50M [01:37<22:13, 2.74kedge/s]"
     ]
    },
    {
     "name": "stderr",
     "output_type": "stream",
     "text": [
      "\r",
      "[umls] parsing edges:  44%|█████▋       | 2.85M/6.50M [01:37<14:24, 4.21kedge/s]"
     ]
    },
    {
     "name": "stderr",
     "output_type": "stream",
     "text": [
      "\r",
      "[umls] parsing edges:  44%|█████▋       | 2.87M/6.50M [01:37<09:34, 6.31kedge/s]"
     ]
    },
    {
     "name": "stderr",
     "output_type": "stream",
     "text": [
      "\r",
      "[umls] parsing edges:  44%|█████▊       | 2.89M/6.50M [01:38<06:30, 9.24kedge/s]"
     ]
    },
    {
     "name": "stderr",
     "output_type": "stream",
     "text": [
      "\r",
      "[umls] parsing edges:  45%|█████▊       | 2.91M/6.50M [01:38<04:30, 13.2kedge/s]"
     ]
    },
    {
     "name": "stderr",
     "output_type": "stream",
     "text": [
      "\r",
      "[umls] parsing edges:  45%|█████▊       | 2.92M/6.50M [01:38<03:11, 18.6kedge/s]"
     ]
    },
    {
     "name": "stderr",
     "output_type": "stream",
     "text": [
      "\r",
      "[umls] parsing edges:  45%|█████▉       | 2.94M/6.50M [01:38<02:17, 25.8kedge/s]"
     ]
    },
    {
     "name": "stderr",
     "output_type": "stream",
     "text": [
      "\r",
      "[umls] parsing edges:  46%|█████▉       | 2.96M/6.50M [01:38<01:41, 34.9kedge/s]"
     ]
    },
    {
     "name": "stderr",
     "output_type": "stream",
     "text": [
      "\r",
      "[umls] parsing edges:  46%|█████▉       | 2.98M/6.50M [01:38<01:16, 46.2kedge/s]"
     ]
    },
    {
     "name": "stderr",
     "output_type": "stream",
     "text": [
      "\r",
      "[umls] parsing edges:  46%|█████▉       | 3.00M/6.50M [01:38<00:58, 59.6kedge/s]"
     ]
    },
    {
     "name": "stderr",
     "output_type": "stream",
     "text": [
      "\r",
      "[umls] parsing edges:  46%|██████       | 3.01M/6.50M [01:38<00:46, 74.7kedge/s]"
     ]
    },
    {
     "name": "stderr",
     "output_type": "stream",
     "text": [
      "\r",
      "[umls] parsing edges:  47%|██████       | 3.03M/6.50M [01:38<00:38, 90.4kedge/s]"
     ]
    },
    {
     "name": "stderr",
     "output_type": "stream",
     "text": [
      "\r",
      "[umls] parsing edges:  47%|██████▌       | 3.05M/6.50M [01:38<00:32, 106kedge/s]"
     ]
    },
    {
     "name": "stderr",
     "output_type": "stream",
     "text": [
      "\r",
      "[umls] parsing edges:  47%|██████▌       | 3.07M/6.50M [01:39<00:28, 121kedge/s]"
     ]
    },
    {
     "name": "stderr",
     "output_type": "stream",
     "text": [
      "\r",
      "[umls] parsing edges:  47%|██████▋       | 3.08M/6.50M [01:39<00:25, 134kedge/s]"
     ]
    },
    {
     "name": "stderr",
     "output_type": "stream",
     "text": [
      "\r",
      "[umls] parsing edges:  48%|██████▋       | 3.10M/6.50M [01:39<00:23, 144kedge/s]"
     ]
    },
    {
     "name": "stderr",
     "output_type": "stream",
     "text": [
      "\r",
      "[umls] parsing edges:  48%|██████▋       | 3.12M/6.50M [01:39<00:22, 152kedge/s]"
     ]
    },
    {
     "name": "stderr",
     "output_type": "stream",
     "text": [
      "\r",
      "[umls] parsing edges:  48%|██████▊       | 3.14M/6.50M [01:39<00:21, 159kedge/s]"
     ]
    },
    {
     "name": "stderr",
     "output_type": "stream",
     "text": [
      "\r",
      "[umls] parsing edges:  49%|██████▊       | 3.16M/6.50M [01:39<00:20, 164kedge/s]"
     ]
    },
    {
     "name": "stderr",
     "output_type": "stream",
     "text": [
      "\r",
      "[umls] parsing edges:  49%|██████▊       | 3.17M/6.50M [01:39<00:19, 168kedge/s]"
     ]
    },
    {
     "name": "stderr",
     "output_type": "stream",
     "text": [
      "\r",
      "[umls] parsing edges:  49%|██████▉       | 3.19M/6.50M [01:39<00:19, 170kedge/s]"
     ]
    },
    {
     "name": "stderr",
     "output_type": "stream",
     "text": [
      "\r",
      "[umls] parsing edges:  49%|██████▉       | 3.21M/6.50M [01:39<00:19, 172kedge/s]"
     ]
    },
    {
     "name": "stderr",
     "output_type": "stream",
     "text": [
      "\r",
      "[umls] parsing edges:  50%|██████▉       | 3.23M/6.50M [01:39<00:18, 173kedge/s]"
     ]
    },
    {
     "name": "stderr",
     "output_type": "stream",
     "text": [
      "\r",
      "[umls] parsing edges:  50%|██████▉       | 3.24M/6.50M [01:40<00:18, 175kedge/s]"
     ]
    },
    {
     "name": "stderr",
     "output_type": "stream",
     "text": [
      "\r",
      "[umls] parsing edges:  50%|███████       | 3.26M/6.50M [01:40<00:18, 175kedge/s]"
     ]
    },
    {
     "name": "stderr",
     "output_type": "stream",
     "text": [
      "\r",
      "[umls] parsing edges:  50%|███████       | 3.28M/6.50M [01:40<00:20, 161kedge/s]"
     ]
    },
    {
     "name": "stderr",
     "output_type": "stream",
     "text": [
      "\r",
      "[umls] parsing edges:  51%|███████       | 3.30M/6.50M [01:40<00:19, 166kedge/s]"
     ]
    },
    {
     "name": "stderr",
     "output_type": "stream",
     "text": [
      "\r",
      "[umls] parsing edges:  51%|███████▏      | 3.31M/6.50M [01:40<00:18, 169kedge/s]"
     ]
    },
    {
     "name": "stderr",
     "output_type": "stream",
     "text": [
      "\r",
      "[umls] parsing edges:  51%|███████▏      | 3.33M/6.50M [01:40<00:18, 172kedge/s]"
     ]
    },
    {
     "name": "stderr",
     "output_type": "stream",
     "text": [
      "\r",
      "[umls] parsing edges:  52%|███████▏      | 3.35M/6.50M [01:40<00:18, 173kedge/s]"
     ]
    },
    {
     "name": "stderr",
     "output_type": "stream",
     "text": [
      "\r",
      "[umls] parsing edges:  52%|███████▎      | 3.37M/6.50M [01:40<00:17, 174kedge/s]"
     ]
    },
    {
     "name": "stderr",
     "output_type": "stream",
     "text": [
      "\r",
      "[umls] parsing edges:  52%|███████▎      | 3.39M/6.50M [01:40<00:17, 175kedge/s]"
     ]
    },
    {
     "name": "stderr",
     "output_type": "stream",
     "text": [
      "\r",
      "[umls] parsing edges:  52%|███████▎      | 3.40M/6.50M [01:41<00:17, 176kedge/s]"
     ]
    },
    {
     "name": "stderr",
     "output_type": "stream",
     "text": [
      "\r",
      "[umls] parsing edges:  53%|███████▎      | 3.42M/6.50M [01:41<00:17, 177kedge/s]"
     ]
    },
    {
     "name": "stderr",
     "output_type": "stream",
     "text": [
      "\r",
      "[umls] parsing edges:  53%|███████▍      | 3.44M/6.50M [01:41<00:17, 176kedge/s]"
     ]
    },
    {
     "name": "stderr",
     "output_type": "stream",
     "text": [
      "\r",
      "[umls] parsing edges:  53%|███████▍      | 3.46M/6.50M [01:41<00:17, 177kedge/s]"
     ]
    },
    {
     "name": "stderr",
     "output_type": "stream",
     "text": [
      "\r",
      "[umls] parsing edges:  53%|███████▍      | 3.47M/6.50M [01:41<00:17, 178kedge/s]"
     ]
    },
    {
     "name": "stderr",
     "output_type": "stream",
     "text": [
      "\r",
      "[umls] parsing edges:  54%|███████▌      | 3.49M/6.50M [01:41<00:16, 178kedge/s]"
     ]
    },
    {
     "name": "stderr",
     "output_type": "stream",
     "text": [
      "\r",
      "[umls] parsing edges:  54%|███████▌      | 3.51M/6.50M [01:41<00:16, 178kedge/s]"
     ]
    },
    {
     "name": "stderr",
     "output_type": "stream",
     "text": [
      "\r",
      "[umls] parsing edges:  54%|███████▌      | 3.53M/6.50M [01:41<00:16, 178kedge/s]"
     ]
    },
    {
     "name": "stderr",
     "output_type": "stream",
     "text": [
      "\r",
      "[umls] parsing edges:  55%|███████▋      | 3.55M/6.50M [01:41<00:16, 178kedge/s]"
     ]
    },
    {
     "name": "stderr",
     "output_type": "stream",
     "text": [
      "\r",
      "[umls] parsing edges:  55%|███████▋      | 3.56M/6.50M [01:41<00:16, 177kedge/s]"
     ]
    },
    {
     "name": "stderr",
     "output_type": "stream",
     "text": [
      "\r",
      "[umls] parsing edges:  55%|███████▋      | 3.58M/6.50M [01:42<00:16, 178kedge/s]"
     ]
    },
    {
     "name": "stderr",
     "output_type": "stream",
     "text": [
      "\r",
      "[umls] parsing edges:  55%|███████▊      | 3.60M/6.50M [01:42<00:16, 178kedge/s]"
     ]
    },
    {
     "name": "stderr",
     "output_type": "stream",
     "text": [
      "\r",
      "[umls] parsing edges:  56%|███████▊      | 3.62M/6.50M [01:42<00:16, 177kedge/s]"
     ]
    },
    {
     "name": "stderr",
     "output_type": "stream",
     "text": [
      "\r",
      "[umls] parsing edges:  56%|███████▊      | 3.64M/6.50M [01:42<00:16, 177kedge/s]"
     ]
    },
    {
     "name": "stderr",
     "output_type": "stream",
     "text": [
      "\r",
      "[umls] parsing edges:  56%|███████▊      | 3.65M/6.50M [01:42<00:16, 177kedge/s]"
     ]
    },
    {
     "name": "stderr",
     "output_type": "stream",
     "text": [
      "\r",
      "[umls] parsing edges:  57%|███████▉      | 3.67M/6.50M [01:42<00:15, 177kedge/s]"
     ]
    },
    {
     "name": "stderr",
     "output_type": "stream",
     "text": [
      "\r",
      "[umls] parsing edges:  57%|███████▉      | 3.69M/6.50M [01:42<00:15, 177kedge/s]"
     ]
    },
    {
     "name": "stderr",
     "output_type": "stream",
     "text": [
      "\r",
      "[umls] parsing edges:  57%|███████▉      | 3.71M/6.50M [01:42<00:15, 177kedge/s]"
     ]
    },
    {
     "name": "stderr",
     "output_type": "stream",
     "text": [
      "\r",
      "[umls] parsing edges:  57%|████████      | 3.72M/6.50M [01:42<00:15, 177kedge/s]"
     ]
    },
    {
     "name": "stderr",
     "output_type": "stream",
     "text": [
      "\r",
      "[umls] parsing edges:  58%|████████      | 3.74M/6.50M [01:42<00:15, 177kedge/s]"
     ]
    },
    {
     "name": "stderr",
     "output_type": "stream",
     "text": [
      "\r",
      "[umls] parsing edges:  58%|████████      | 3.76M/6.50M [01:43<00:15, 178kedge/s]"
     ]
    },
    {
     "name": "stderr",
     "output_type": "stream",
     "text": [
      "\r",
      "[umls] parsing edges:  58%|████████▏     | 3.78M/6.50M [01:43<00:15, 177kedge/s]"
     ]
    },
    {
     "name": "stderr",
     "output_type": "stream",
     "text": [
      "\r",
      "[umls] parsing edges:  58%|████████▏     | 3.80M/6.50M [01:43<00:15, 177kedge/s]"
     ]
    },
    {
     "name": "stderr",
     "output_type": "stream",
     "text": [
      "\r",
      "[umls] parsing edges:  59%|████████▏     | 3.81M/6.50M [01:43<00:15, 177kedge/s]"
     ]
    },
    {
     "name": "stderr",
     "output_type": "stream",
     "text": [
      "\r",
      "[umls] parsing edges:  59%|████████▏     | 3.81M/6.50M [02:00<00:15, 177kedge/s]"
     ]
    },
    {
     "name": "stderr",
     "output_type": "stream",
     "text": [
      "\r",
      "[umls] parsing edges:  59%|███████▋     | 3.81M/6.50M [02:00<18:21, 2.43kedge/s]"
     ]
    },
    {
     "name": "stderr",
     "output_type": "stream",
     "text": [
      "\r",
      "[umls] parsing edges:  59%|███████▋     | 3.83M/6.50M [02:00<11:37, 3.82kedge/s]"
     ]
    },
    {
     "name": "stderr",
     "output_type": "stream",
     "text": [
      "\r",
      "[umls] parsing edges:  59%|███████▋     | 3.85M/6.50M [02:00<07:36, 5.79kedge/s]"
     ]
    },
    {
     "name": "stderr",
     "output_type": "stream",
     "text": [
      "\r",
      "[umls] parsing edges:  60%|███████▋     | 3.87M/6.50M [02:01<05:08, 8.53kedge/s]"
     ]
    },
    {
     "name": "stderr",
     "output_type": "stream",
     "text": [
      "\r",
      "[umls] parsing edges:  60%|███████▊     | 3.88M/6.50M [02:01<03:32, 12.3kedge/s]"
     ]
    },
    {
     "name": "stderr",
     "output_type": "stream",
     "text": [
      "\r",
      "[umls] parsing edges:  60%|███████▊     | 3.90M/6.50M [02:01<02:29, 17.4kedge/s]"
     ]
    },
    {
     "name": "stderr",
     "output_type": "stream",
     "text": [
      "\r",
      "[umls] parsing edges:  60%|███████▊     | 3.92M/6.50M [02:01<01:46, 24.2kedge/s]"
     ]
    },
    {
     "name": "stderr",
     "output_type": "stream",
     "text": [
      "\r",
      "[umls] parsing edges:  61%|███████▉     | 3.94M/6.50M [02:01<01:17, 32.9kedge/s]"
     ]
    },
    {
     "name": "stderr",
     "output_type": "stream",
     "text": [
      "\r",
      "[umls] parsing edges:  61%|███████▉     | 3.96M/6.50M [02:01<00:57, 44.0kedge/s]"
     ]
    },
    {
     "name": "stderr",
     "output_type": "stream",
     "text": [
      "\r",
      "[umls] parsing edges:  61%|███████▉     | 3.97M/6.50M [02:01<00:43, 57.7kedge/s]"
     ]
    },
    {
     "name": "stderr",
     "output_type": "stream",
     "text": [
      "\r",
      "[umls] parsing edges:  61%|███████▉     | 3.99M/6.50M [02:01<00:34, 73.0kedge/s]"
     ]
    },
    {
     "name": "stderr",
     "output_type": "stream",
     "text": [
      "\r",
      "[umls] parsing edges:  62%|████████     | 4.01M/6.50M [02:01<00:27, 89.2kedge/s]"
     ]
    },
    {
     "name": "stderr",
     "output_type": "stream",
     "text": [
      "\r",
      "[umls] parsing edges:  62%|████████▋     | 4.03M/6.50M [02:01<00:23, 105kedge/s]"
     ]
    },
    {
     "name": "stderr",
     "output_type": "stream",
     "text": [
      "\r",
      "[umls] parsing edges:  62%|████████▋     | 4.05M/6.50M [02:02<00:20, 121kedge/s]"
     ]
    },
    {
     "name": "stderr",
     "output_type": "stream",
     "text": [
      "\r",
      "[umls] parsing edges:  63%|████████▊     | 4.07M/6.50M [02:02<00:18, 134kedge/s]"
     ]
    },
    {
     "name": "stderr",
     "output_type": "stream",
     "text": [
      "\r",
      "[umls] parsing edges:  63%|████████▊     | 4.08M/6.50M [02:02<00:16, 145kedge/s]"
     ]
    },
    {
     "name": "stderr",
     "output_type": "stream",
     "text": [
      "\r",
      "[umls] parsing edges:  63%|████████▊     | 4.10M/6.50M [02:02<00:15, 155kedge/s]"
     ]
    },
    {
     "name": "stderr",
     "output_type": "stream",
     "text": [
      "\r",
      "[umls] parsing edges:  63%|████████▉     | 4.12M/6.50M [02:02<00:14, 162kedge/s]"
     ]
    },
    {
     "name": "stderr",
     "output_type": "stream",
     "text": [
      "\r",
      "[umls] parsing edges:  64%|████████▉     | 4.14M/6.50M [02:02<00:14, 167kedge/s]"
     ]
    },
    {
     "name": "stderr",
     "output_type": "stream",
     "text": [
      "\r",
      "[umls] parsing edges:  64%|████████▉     | 4.16M/6.50M [02:02<00:13, 172kedge/s]"
     ]
    },
    {
     "name": "stderr",
     "output_type": "stream",
     "text": [
      "\r",
      "[umls] parsing edges:  64%|████████▉     | 4.18M/6.50M [02:02<00:13, 176kedge/s]"
     ]
    },
    {
     "name": "stderr",
     "output_type": "stream",
     "text": [
      "\r",
      "[umls] parsing edges:  65%|█████████     | 4.19M/6.50M [02:02<00:12, 178kedge/s]"
     ]
    },
    {
     "name": "stderr",
     "output_type": "stream",
     "text": [
      "\r",
      "[umls] parsing edges:  65%|█████████     | 4.21M/6.50M [02:02<00:13, 170kedge/s]"
     ]
    },
    {
     "name": "stderr",
     "output_type": "stream",
     "text": [
      "\r",
      "[umls] parsing edges:  65%|█████████     | 4.23M/6.50M [02:03<00:13, 171kedge/s]"
     ]
    },
    {
     "name": "stderr",
     "output_type": "stream",
     "text": [
      "\r",
      "[umls] parsing edges:  65%|█████████▏    | 4.25M/6.50M [02:03<00:13, 173kedge/s]"
     ]
    },
    {
     "name": "stderr",
     "output_type": "stream",
     "text": [
      "\r",
      "[umls] parsing edges:  66%|█████████▏    | 4.27M/6.50M [02:03<00:12, 174kedge/s]"
     ]
    },
    {
     "name": "stderr",
     "output_type": "stream",
     "text": [
      "\r",
      "[umls] parsing edges:  66%|█████████▏    | 4.28M/6.50M [02:03<00:12, 175kedge/s]"
     ]
    },
    {
     "name": "stderr",
     "output_type": "stream",
     "text": [
      "\r",
      "[umls] parsing edges:  66%|█████████▎    | 4.30M/6.50M [02:03<00:12, 176kedge/s]"
     ]
    },
    {
     "name": "stderr",
     "output_type": "stream",
     "text": [
      "\r",
      "[umls] parsing edges:  66%|█████████▎    | 4.32M/6.50M [02:03<00:12, 177kedge/s]"
     ]
    },
    {
     "name": "stderr",
     "output_type": "stream",
     "text": [
      "\r",
      "[umls] parsing edges:  67%|█████████▎    | 4.34M/6.50M [02:03<00:12, 177kedge/s]"
     ]
    },
    {
     "name": "stderr",
     "output_type": "stream",
     "text": [
      "\r",
      "[umls] parsing edges:  67%|█████████▍    | 4.35M/6.50M [02:03<00:12, 177kedge/s]"
     ]
    },
    {
     "name": "stderr",
     "output_type": "stream",
     "text": [
      "\r",
      "[umls] parsing edges:  67%|█████████▍    | 4.37M/6.50M [02:03<00:11, 178kedge/s]"
     ]
    },
    {
     "name": "stderr",
     "output_type": "stream",
     "text": [
      "\r",
      "[umls] parsing edges:  68%|█████████▍    | 4.39M/6.50M [02:03<00:11, 178kedge/s]"
     ]
    },
    {
     "name": "stderr",
     "output_type": "stream",
     "text": [
      "\r",
      "[umls] parsing edges:  68%|█████████▍    | 4.41M/6.50M [02:04<00:11, 178kedge/s]"
     ]
    },
    {
     "name": "stderr",
     "output_type": "stream",
     "text": [
      "\r",
      "[umls] parsing edges:  68%|█████████▌    | 4.43M/6.50M [02:04<00:11, 177kedge/s]"
     ]
    },
    {
     "name": "stderr",
     "output_type": "stream",
     "text": [
      "\r",
      "[umls] parsing edges:  68%|█████████▌    | 4.44M/6.50M [02:04<00:11, 178kedge/s]"
     ]
    },
    {
     "name": "stderr",
     "output_type": "stream",
     "text": [
      "\r",
      "[umls] parsing edges:  69%|█████████▌    | 4.46M/6.50M [02:04<00:11, 177kedge/s]"
     ]
    },
    {
     "name": "stderr",
     "output_type": "stream",
     "text": [
      "\r",
      "[umls] parsing edges:  69%|█████████▋    | 4.48M/6.50M [02:04<00:11, 177kedge/s]"
     ]
    },
    {
     "name": "stderr",
     "output_type": "stream",
     "text": [
      "\r",
      "[umls] parsing edges:  69%|█████████▋    | 4.50M/6.50M [02:04<00:11, 177kedge/s]"
     ]
    },
    {
     "name": "stderr",
     "output_type": "stream",
     "text": [
      "\r",
      "[umls] parsing edges:  69%|█████████▋    | 4.51M/6.50M [02:04<00:11, 178kedge/s]"
     ]
    },
    {
     "name": "stderr",
     "output_type": "stream",
     "text": [
      "\r",
      "[umls] parsing edges:  70%|█████████▊    | 4.53M/6.50M [02:04<00:11, 178kedge/s]"
     ]
    },
    {
     "name": "stderr",
     "output_type": "stream",
     "text": [
      "\r",
      "[umls] parsing edges:  70%|█████████▊    | 4.55M/6.50M [02:04<00:10, 177kedge/s]"
     ]
    },
    {
     "name": "stderr",
     "output_type": "stream",
     "text": [
      "\r",
      "[umls] parsing edges:  70%|█████████▊    | 4.57M/6.50M [02:04<00:10, 178kedge/s]"
     ]
    },
    {
     "name": "stderr",
     "output_type": "stream",
     "text": [
      "\r",
      "[umls] parsing edges:  71%|█████████▉    | 4.59M/6.50M [02:05<00:10, 177kedge/s]"
     ]
    },
    {
     "name": "stderr",
     "output_type": "stream",
     "text": [
      "\r",
      "[umls] parsing edges:  71%|█████████▉    | 4.60M/6.50M [02:05<00:10, 177kedge/s]"
     ]
    },
    {
     "name": "stderr",
     "output_type": "stream",
     "text": [
      "\r",
      "[umls] parsing edges:  71%|█████████▉    | 4.62M/6.50M [02:05<00:10, 178kedge/s]"
     ]
    },
    {
     "name": "stderr",
     "output_type": "stream",
     "text": [
      "\r",
      "[umls] parsing edges:  71%|█████████▉    | 4.64M/6.50M [02:05<00:10, 177kedge/s]"
     ]
    },
    {
     "name": "stderr",
     "output_type": "stream",
     "text": [
      "\r",
      "[umls] parsing edges:  72%|██████████    | 4.66M/6.50M [02:05<00:10, 177kedge/s]"
     ]
    },
    {
     "name": "stderr",
     "output_type": "stream",
     "text": [
      "\r",
      "[umls] parsing edges:  72%|██████████    | 4.67M/6.50M [02:05<00:10, 177kedge/s]"
     ]
    },
    {
     "name": "stderr",
     "output_type": "stream",
     "text": [
      "\r",
      "[umls] parsing edges:  72%|██████████    | 4.69M/6.50M [02:05<00:10, 177kedge/s]"
     ]
    },
    {
     "name": "stderr",
     "output_type": "stream",
     "text": [
      "\r",
      "[umls] parsing edges:  73%|██████████▏   | 4.71M/6.50M [02:05<00:10, 177kedge/s]"
     ]
    },
    {
     "name": "stderr",
     "output_type": "stream",
     "text": [
      "\r",
      "[umls] parsing edges:  73%|██████████▏   | 4.73M/6.50M [02:05<00:09, 177kedge/s]"
     ]
    },
    {
     "name": "stderr",
     "output_type": "stream",
     "text": [
      "\r",
      "[umls] parsing edges:  73%|██████████▏   | 4.75M/6.50M [02:05<00:09, 177kedge/s]"
     ]
    },
    {
     "name": "stderr",
     "output_type": "stream",
     "text": [
      "\r",
      "[umls] parsing edges:  73%|██████████▎   | 4.76M/6.50M [02:06<00:09, 177kedge/s]"
     ]
    },
    {
     "name": "stderr",
     "output_type": "stream",
     "text": [
      "\r",
      "[umls] parsing edges:  74%|██████████▎   | 4.78M/6.50M [02:06<00:09, 176kedge/s]"
     ]
    },
    {
     "name": "stderr",
     "output_type": "stream",
     "text": [
      "\r",
      "[umls] parsing edges:  74%|██████████▎   | 4.80M/6.50M [02:06<00:09, 177kedge/s]"
     ]
    },
    {
     "name": "stderr",
     "output_type": "stream",
     "text": [
      "\r",
      "[umls] parsing edges:  74%|██████████▍   | 4.82M/6.50M [02:06<00:09, 177kedge/s]"
     ]
    },
    {
     "name": "stderr",
     "output_type": "stream",
     "text": [
      "\r",
      "[umls] parsing edges:  74%|██████████▍   | 4.83M/6.50M [02:06<00:09, 177kedge/s]"
     ]
    },
    {
     "name": "stderr",
     "output_type": "stream",
     "text": [
      "\r",
      "[umls] parsing edges:  75%|██████████▍   | 4.85M/6.50M [02:06<00:09, 177kedge/s]"
     ]
    },
    {
     "name": "stderr",
     "output_type": "stream",
     "text": [
      "\r",
      "[umls] parsing edges:  75%|██████████▍   | 4.87M/6.50M [02:06<00:09, 177kedge/s]"
     ]
    },
    {
     "name": "stderr",
     "output_type": "stream",
     "text": [
      "\r",
      "[umls] parsing edges:  75%|██████████▌   | 4.89M/6.50M [02:06<00:09, 176kedge/s]"
     ]
    },
    {
     "name": "stderr",
     "output_type": "stream",
     "text": [
      "\r",
      "[umls] parsing edges:  76%|██████████▌   | 4.91M/6.50M [02:06<00:09, 176kedge/s]"
     ]
    },
    {
     "name": "stderr",
     "output_type": "stream",
     "text": [
      "\r",
      "[umls] parsing edges:  76%|██████████▌   | 4.92M/6.50M [02:06<00:08, 176kedge/s]"
     ]
    },
    {
     "name": "stderr",
     "output_type": "stream",
     "text": [
      "\r",
      "[umls] parsing edges:  76%|██████████▋   | 4.94M/6.50M [02:07<00:08, 176kedge/s]"
     ]
    },
    {
     "name": "stderr",
     "output_type": "stream",
     "text": [
      "\r",
      "[umls] parsing edges:  76%|██████████▋   | 4.96M/6.50M [02:07<00:08, 176kedge/s]"
     ]
    },
    {
     "name": "stderr",
     "output_type": "stream",
     "text": [
      "\r",
      "[umls] parsing edges:  77%|██████████▋   | 4.98M/6.50M [02:07<00:08, 176kedge/s]"
     ]
    },
    {
     "name": "stderr",
     "output_type": "stream",
     "text": [
      "\r",
      "[umls] parsing edges:  77%|██████████▊   | 4.99M/6.50M [02:07<00:08, 177kedge/s]"
     ]
    },
    {
     "name": "stderr",
     "output_type": "stream",
     "text": [
      "\r",
      "[umls] parsing edges:  77%|██████████▊   | 5.01M/6.50M [02:07<00:08, 177kedge/s]"
     ]
    },
    {
     "name": "stderr",
     "output_type": "stream",
     "text": [
      "\r",
      "[umls] parsing edges:  77%|██████████▊   | 5.03M/6.50M [02:07<00:08, 177kedge/s]"
     ]
    },
    {
     "name": "stderr",
     "output_type": "stream",
     "text": [
      "\r",
      "[umls] parsing edges:  77%|██████████▊   | 5.03M/6.50M [02:25<00:08, 177kedge/s]"
     ]
    },
    {
     "name": "stderr",
     "output_type": "stream",
     "text": [
      "\r",
      "[umls] parsing edges:  78%|██████████   | 5.04M/6.50M [02:25<09:00, 2.70kedge/s]"
     ]
    },
    {
     "name": "stderr",
     "output_type": "stream",
     "text": [
      "\r",
      "[umls] parsing edges:  78%|██████████   | 5.06M/6.50M [02:26<05:52, 4.08kedge/s]"
     ]
    },
    {
     "name": "stderr",
     "output_type": "stream",
     "text": [
      "\r",
      "[umls] parsing edges:  78%|██████████▏  | 5.07M/6.50M [02:26<03:55, 6.04kedge/s]"
     ]
    },
    {
     "name": "stderr",
     "output_type": "stream",
     "text": [
      "\r",
      "[umls] parsing edges:  78%|██████████▏  | 5.09M/6.50M [02:26<02:39, 8.77kedge/s]"
     ]
    },
    {
     "name": "stderr",
     "output_type": "stream",
     "text": [
      "\r",
      "[umls] parsing edges:  79%|██████████▏  | 5.11M/6.50M [02:26<01:50, 12.5kedge/s]"
     ]
    },
    {
     "name": "stderr",
     "output_type": "stream",
     "text": [
      "\r",
      "[umls] parsing edges:  79%|██████████▎  | 5.13M/6.50M [02:26<01:17, 17.6kedge/s]"
     ]
    },
    {
     "name": "stderr",
     "output_type": "stream",
     "text": [
      "\r",
      "[umls] parsing edges:  79%|██████████▎  | 5.15M/6.50M [02:26<00:55, 24.4kedge/s]"
     ]
    },
    {
     "name": "stderr",
     "output_type": "stream",
     "text": [
      "\r",
      "[umls] parsing edges:  80%|██████████▎  | 5.17M/6.50M [02:26<00:39, 33.2kedge/s]"
     ]
    },
    {
     "name": "stderr",
     "output_type": "stream",
     "text": [
      "\r",
      "[umls] parsing edges:  80%|██████████▍  | 5.19M/6.50M [02:26<00:29, 44.3kedge/s]"
     ]
    },
    {
     "name": "stderr",
     "output_type": "stream",
     "text": [
      "\r",
      "[umls] parsing edges:  80%|██████████▍  | 5.21M/6.50M [02:26<00:22, 57.6kedge/s]"
     ]
    },
    {
     "name": "stderr",
     "output_type": "stream",
     "text": [
      "\r",
      "[umls] parsing edges:  80%|██████████▍  | 5.22M/6.50M [02:26<00:17, 72.8kedge/s]"
     ]
    },
    {
     "name": "stderr",
     "output_type": "stream",
     "text": [
      "\r",
      "[umls] parsing edges:  81%|██████████▍  | 5.24M/6.50M [02:27<00:14, 89.2kedge/s]"
     ]
    },
    {
     "name": "stderr",
     "output_type": "stream",
     "text": [
      "\r",
      "[umls] parsing edges:  81%|███████████▎  | 5.26M/6.50M [02:27<00:11, 106kedge/s]"
     ]
    },
    {
     "name": "stderr",
     "output_type": "stream",
     "text": [
      "\r",
      "[umls] parsing edges:  81%|███████████▍  | 5.28M/6.50M [02:27<00:10, 122kedge/s]"
     ]
    },
    {
     "name": "stderr",
     "output_type": "stream",
     "text": [
      "\r",
      "[umls] parsing edges:  82%|███████████▍  | 5.30M/6.50M [02:27<00:08, 136kedge/s]"
     ]
    },
    {
     "name": "stderr",
     "output_type": "stream",
     "text": [
      "\r",
      "[umls] parsing edges:  82%|███████████▍  | 5.32M/6.50M [02:27<00:07, 148kedge/s]"
     ]
    },
    {
     "name": "stderr",
     "output_type": "stream",
     "text": [
      "\r",
      "[umls] parsing edges:  82%|███████████▌  | 5.34M/6.50M [02:27<00:07, 158kedge/s]"
     ]
    },
    {
     "name": "stderr",
     "output_type": "stream",
     "text": [
      "\r",
      "[umls] parsing edges:  82%|███████████▌  | 5.35M/6.50M [02:27<00:06, 165kedge/s]"
     ]
    },
    {
     "name": "stderr",
     "output_type": "stream",
     "text": [
      "\r",
      "[umls] parsing edges:  83%|███████████▌  | 5.37M/6.50M [02:27<00:06, 171kedge/s]"
     ]
    },
    {
     "name": "stderr",
     "output_type": "stream",
     "text": [
      "\r",
      "[umls] parsing edges:  83%|███████████▌  | 5.39M/6.50M [02:27<00:06, 176kedge/s]"
     ]
    },
    {
     "name": "stderr",
     "output_type": "stream",
     "text": [
      "\r",
      "[umls] parsing edges:  83%|███████████▋  | 5.41M/6.50M [02:27<00:06, 179kedge/s]"
     ]
    },
    {
     "name": "stderr",
     "output_type": "stream",
     "text": [
      "\r",
      "[umls] parsing edges:  84%|███████████▋  | 5.43M/6.50M [02:28<00:05, 181kedge/s]"
     ]
    },
    {
     "name": "stderr",
     "output_type": "stream",
     "text": [
      "\r",
      "[umls] parsing edges:  84%|███████████▋  | 5.45M/6.50M [02:28<00:05, 183kedge/s]"
     ]
    },
    {
     "name": "stderr",
     "output_type": "stream",
     "text": [
      "\r",
      "[umls] parsing edges:  84%|███████████▊  | 5.47M/6.50M [02:28<00:05, 184kedge/s]"
     ]
    },
    {
     "name": "stderr",
     "output_type": "stream",
     "text": [
      "\r",
      "[umls] parsing edges:  84%|███████████▊  | 5.49M/6.50M [02:28<00:05, 185kedge/s]"
     ]
    },
    {
     "name": "stderr",
     "output_type": "stream",
     "text": [
      "\r",
      "[umls] parsing edges:  85%|███████████▊  | 5.50M/6.50M [02:28<00:05, 185kedge/s]"
     ]
    },
    {
     "name": "stderr",
     "output_type": "stream",
     "text": [
      "\r",
      "[umls] parsing edges:  85%|███████████▉  | 5.52M/6.50M [02:28<00:05, 186kedge/s]"
     ]
    },
    {
     "name": "stderr",
     "output_type": "stream",
     "text": [
      "\r",
      "[umls] parsing edges:  85%|███████████▉  | 5.54M/6.50M [02:28<00:05, 186kedge/s]"
     ]
    },
    {
     "name": "stderr",
     "output_type": "stream",
     "text": [
      "\r",
      "[umls] parsing edges:  86%|███████████▉  | 5.56M/6.50M [02:28<00:05, 186kedge/s]"
     ]
    },
    {
     "name": "stderr",
     "output_type": "stream",
     "text": [
      "\r",
      "[umls] parsing edges:  86%|████████████  | 5.58M/6.50M [02:28<00:04, 186kedge/s]"
     ]
    },
    {
     "name": "stderr",
     "output_type": "stream",
     "text": [
      "\r",
      "[umls] parsing edges:  86%|████████████  | 5.60M/6.50M [02:28<00:04, 186kedge/s]"
     ]
    },
    {
     "name": "stderr",
     "output_type": "stream",
     "text": [
      "\r",
      "[umls] parsing edges:  86%|████████████  | 5.62M/6.50M [02:29<00:04, 186kedge/s]"
     ]
    },
    {
     "name": "stderr",
     "output_type": "stream",
     "text": [
      "\r",
      "[umls] parsing edges:  87%|████████████▏ | 5.64M/6.50M [02:29<00:04, 187kedge/s]"
     ]
    },
    {
     "name": "stderr",
     "output_type": "stream",
     "text": [
      "\r",
      "[umls] parsing edges:  87%|████████████▏ | 5.65M/6.50M [02:29<00:04, 187kedge/s]"
     ]
    },
    {
     "name": "stderr",
     "output_type": "stream",
     "text": [
      "\r",
      "[umls] parsing edges:  87%|████████████▏ | 5.67M/6.50M [02:29<00:04, 187kedge/s]"
     ]
    },
    {
     "name": "stderr",
     "output_type": "stream",
     "text": [
      "\r",
      "[umls] parsing edges:  88%|████████████▎ | 5.69M/6.50M [02:29<00:04, 187kedge/s]"
     ]
    },
    {
     "name": "stderr",
     "output_type": "stream",
     "text": [
      "\r",
      "[umls] parsing edges:  88%|████████████▎ | 5.71M/6.50M [02:29<00:04, 187kedge/s]"
     ]
    },
    {
     "name": "stderr",
     "output_type": "stream",
     "text": [
      "\r",
      "[umls] parsing edges:  88%|████████████▎ | 5.73M/6.50M [02:29<00:04, 187kedge/s]"
     ]
    },
    {
     "name": "stderr",
     "output_type": "stream",
     "text": [
      "\r",
      "[umls] parsing edges:  88%|████████████▍ | 5.75M/6.50M [02:29<00:04, 187kedge/s]"
     ]
    },
    {
     "name": "stderr",
     "output_type": "stream",
     "text": [
      "\r",
      "[umls] parsing edges:  89%|████████████▍ | 5.77M/6.50M [02:29<00:03, 186kedge/s]"
     ]
    },
    {
     "name": "stderr",
     "output_type": "stream",
     "text": [
      "\r",
      "[umls] parsing edges:  89%|████████████▍ | 5.78M/6.50M [02:29<00:03, 186kedge/s]"
     ]
    },
    {
     "name": "stderr",
     "output_type": "stream",
     "text": [
      "\r",
      "[umls] parsing edges:  89%|████████████▌ | 5.80M/6.50M [02:30<00:03, 186kedge/s]"
     ]
    },
    {
     "name": "stderr",
     "output_type": "stream",
     "text": [
      "\r",
      "[umls] parsing edges:  90%|████████████▌ | 5.82M/6.50M [02:30<00:03, 187kedge/s]"
     ]
    },
    {
     "name": "stderr",
     "output_type": "stream",
     "text": [
      "\r",
      "[umls] parsing edges:  90%|████████████▌ | 5.84M/6.50M [02:30<00:03, 187kedge/s]"
     ]
    },
    {
     "name": "stderr",
     "output_type": "stream",
     "text": [
      "\r",
      "[umls] parsing edges:  90%|████████████▋ | 5.86M/6.50M [02:30<00:03, 187kedge/s]"
     ]
    },
    {
     "name": "stderr",
     "output_type": "stream",
     "text": [
      "\r",
      "[umls] parsing edges:  90%|████████████▋ | 5.88M/6.50M [02:30<00:03, 186kedge/s]"
     ]
    },
    {
     "name": "stderr",
     "output_type": "stream",
     "text": [
      "\r",
      "[umls] parsing edges:  91%|████████████▋ | 5.90M/6.50M [02:30<00:03, 187kedge/s]"
     ]
    },
    {
     "name": "stderr",
     "output_type": "stream",
     "text": [
      "\r",
      "[umls] parsing edges:  91%|████████████▋ | 5.92M/6.50M [02:30<00:03, 187kedge/s]"
     ]
    },
    {
     "name": "stderr",
     "output_type": "stream",
     "text": [
      "\r",
      "[umls] parsing edges:  91%|████████████▊ | 5.93M/6.50M [02:30<00:02, 187kedge/s]"
     ]
    },
    {
     "name": "stderr",
     "output_type": "stream",
     "text": [
      "\r",
      "[umls] parsing edges:  92%|████████████▊ | 5.95M/6.50M [02:30<00:02, 187kedge/s]"
     ]
    },
    {
     "name": "stderr",
     "output_type": "stream",
     "text": [
      "\r",
      "[umls] parsing edges:  92%|████████████▊ | 5.97M/6.50M [02:30<00:02, 187kedge/s]"
     ]
    },
    {
     "name": "stderr",
     "output_type": "stream",
     "text": [
      "\r",
      "[umls] parsing edges:  92%|████████████▉ | 5.99M/6.50M [02:31<00:02, 187kedge/s]"
     ]
    },
    {
     "name": "stderr",
     "output_type": "stream",
     "text": [
      "\r",
      "[umls] parsing edges:  93%|████████████▉ | 6.01M/6.50M [02:31<00:02, 187kedge/s]"
     ]
    },
    {
     "name": "stderr",
     "output_type": "stream",
     "text": [
      "\r",
      "[umls] parsing edges:  93%|████████████▉ | 6.03M/6.50M [02:31<00:02, 187kedge/s]"
     ]
    },
    {
     "name": "stderr",
     "output_type": "stream",
     "text": [
      "\r",
      "[umls] parsing edges:  93%|█████████████ | 6.05M/6.50M [02:31<00:02, 187kedge/s]"
     ]
    },
    {
     "name": "stderr",
     "output_type": "stream",
     "text": [
      "\r",
      "[umls] parsing edges:  93%|█████████████ | 6.07M/6.50M [02:31<00:02, 187kedge/s]"
     ]
    },
    {
     "name": "stderr",
     "output_type": "stream",
     "text": [
      "\r",
      "[umls] parsing edges:  94%|█████████████ | 6.08M/6.50M [02:31<00:02, 187kedge/s]"
     ]
    },
    {
     "name": "stderr",
     "output_type": "stream",
     "text": [
      "\r",
      "[umls] parsing edges:  94%|█████████████▏| 6.10M/6.50M [02:31<00:02, 188kedge/s]"
     ]
    },
    {
     "name": "stderr",
     "output_type": "stream",
     "text": [
      "\r",
      "[umls] parsing edges:  94%|█████████████▏| 6.12M/6.50M [02:31<00:01, 188kedge/s]"
     ]
    },
    {
     "name": "stderr",
     "output_type": "stream",
     "text": [
      "\r",
      "[umls] parsing edges:  95%|█████████████▏| 6.14M/6.50M [02:31<00:01, 188kedge/s]"
     ]
    },
    {
     "name": "stderr",
     "output_type": "stream",
     "text": [
      "\r",
      "[umls] parsing edges:  95%|█████████████▎| 6.16M/6.50M [02:31<00:01, 187kedge/s]"
     ]
    },
    {
     "name": "stderr",
     "output_type": "stream",
     "text": [
      "\r",
      "[umls] parsing edges:  95%|█████████████▎| 6.18M/6.50M [02:32<00:01, 187kedge/s]"
     ]
    },
    {
     "name": "stderr",
     "output_type": "stream",
     "text": [
      "\r",
      "[umls] parsing edges:  95%|█████████████▎| 6.20M/6.50M [02:32<00:01, 187kedge/s]"
     ]
    },
    {
     "name": "stderr",
     "output_type": "stream",
     "text": [
      "\r",
      "[umls] parsing edges:  96%|█████████████▍| 6.22M/6.50M [02:32<00:01, 187kedge/s]"
     ]
    },
    {
     "name": "stderr",
     "output_type": "stream",
     "text": [
      "\r",
      "[umls] parsing edges:  96%|█████████████▍| 6.23M/6.50M [02:32<00:01, 187kedge/s]"
     ]
    },
    {
     "name": "stderr",
     "output_type": "stream",
     "text": [
      "\r",
      "[umls] parsing edges:  96%|█████████████▍| 6.25M/6.50M [02:32<00:01, 187kedge/s]"
     ]
    },
    {
     "name": "stderr",
     "output_type": "stream",
     "text": [
      "\r",
      "[umls] parsing edges:  97%|█████████████▌| 6.27M/6.50M [02:32<00:01, 187kedge/s]"
     ]
    },
    {
     "name": "stderr",
     "output_type": "stream",
     "text": [
      "\r",
      "[umls] parsing edges:  97%|█████████████▌| 6.29M/6.50M [02:32<00:01, 187kedge/s]"
     ]
    },
    {
     "name": "stderr",
     "output_type": "stream",
     "text": [
      "\r",
      "[umls] parsing edges:  97%|█████████████▌| 6.31M/6.50M [02:32<00:00, 187kedge/s]"
     ]
    },
    {
     "name": "stderr",
     "output_type": "stream",
     "text": [
      "\r",
      "[umls] parsing edges:  97%|█████████████▋| 6.33M/6.50M [02:32<00:00, 187kedge/s]"
     ]
    },
    {
     "name": "stderr",
     "output_type": "stream",
     "text": [
      "\r",
      "[umls] parsing edges:  98%|█████████████▋| 6.35M/6.50M [02:32<00:00, 187kedge/s]"
     ]
    },
    {
     "name": "stderr",
     "output_type": "stream",
     "text": [
      "\r",
      "[umls] parsing edges:  98%|█████████████▋| 6.37M/6.50M [02:33<00:00, 187kedge/s]"
     ]
    },
    {
     "name": "stderr",
     "output_type": "stream",
     "text": [
      "\r",
      "[umls] parsing edges:  98%|█████████████▊| 6.38M/6.50M [02:33<00:00, 187kedge/s]"
     ]
    },
    {
     "name": "stderr",
     "output_type": "stream",
     "text": [
      "\r",
      "[umls] parsing edges:  99%|█████████████▊| 6.40M/6.50M [02:33<00:00, 187kedge/s]"
     ]
    },
    {
     "name": "stderr",
     "output_type": "stream",
     "text": [
      "\r",
      "[umls] parsing edges:  99%|█████████████▊| 6.42M/6.50M [02:33<00:00, 187kedge/s]"
     ]
    },
    {
     "name": "stderr",
     "output_type": "stream",
     "text": [
      "\r",
      "[umls] parsing edges:  99%|█████████████▉| 6.44M/6.50M [02:33<00:00, 187kedge/s]"
     ]
    },
    {
     "name": "stderr",
     "output_type": "stream",
     "text": [
      "\r",
      "[umls] parsing edges:  99%|█████████████▉| 6.46M/6.50M [02:33<00:00, 187kedge/s]"
     ]
    },
    {
     "name": "stderr",
     "output_type": "stream",
     "text": [
      "\r",
      "[umls] parsing edges: 100%|█████████████▉| 6.48M/6.50M [02:33<00:00, 187kedge/s]"
     ]
    },
    {
     "name": "stderr",
     "output_type": "stream",
     "text": [
      "\r",
      "[umls] parsing edges: 100%|█████████████| 6.50M/6.50M [02:33<00:00, 42.3kedge/s]"
     ]
    },
    {
     "name": "stderr",
     "output_type": "stream",
     "text": [
      "\n"
     ]
    },
    {
     "name": "stderr",
     "output_type": "stream",
     "text": [
      "\r",
      "[umls] parsing properties: 0.00triple [00:00, ?triple/s]"
     ]
    },
    {
     "name": "stderr",
     "output_type": "stream",
     "text": [
      "\r",
      "[umls] parsing properties: 0.00triple [00:00, ?triple/s]"
     ]
    },
    {
     "name": "stderr",
     "output_type": "stream",
     "text": [
      "\n"
     ]
    },
    {
     "name": "stderr",
     "output_type": "stream",
     "text": [
      "\r",
      "[ncit] parsing edges:   0%|                       | 0.00/771k [00:00<?, ?edge/s]"
     ]
    },
    {
     "name": "stderr",
     "output_type": "stream",
     "text": [
      "\r",
      "[ncit] parsing edges:   2%|▎              | 18.9k/771k [00:00<00:03, 189kedge/s]"
     ]
    },
    {
     "name": "stderr",
     "output_type": "stream",
     "text": [
      "\r",
      "[ncit] parsing edges:   5%|▋              | 37.9k/771k [00:00<00:03, 189kedge/s]"
     ]
    },
    {
     "name": "stderr",
     "output_type": "stream",
     "text": [
      "\r",
      "[ncit] parsing edges:   7%|█              | 57.3k/771k [00:00<00:03, 192kedge/s]"
     ]
    },
    {
     "name": "stderr",
     "output_type": "stream",
     "text": [
      "\r",
      "[ncit] parsing edges:  10%|█▍             | 76.5k/771k [00:00<00:03, 191kedge/s]"
     ]
    },
    {
     "name": "stderr",
     "output_type": "stream",
     "text": [
      "\r",
      "[ncit] parsing edges:  12%|█▊             | 95.7k/771k [00:00<00:03, 192kedge/s]"
     ]
    },
    {
     "name": "stderr",
     "output_type": "stream",
     "text": [
      "\r",
      "[ncit] parsing edges:  15%|██▍             | 115k/771k [00:00<00:03, 192kedge/s]"
     ]
    },
    {
     "name": "stderr",
     "output_type": "stream",
     "text": [
      "\r",
      "[ncit] parsing edges:  17%|██▊             | 134k/771k [00:00<00:03, 193kedge/s]"
     ]
    },
    {
     "name": "stderr",
     "output_type": "stream",
     "text": [
      "\r",
      "[ncit] parsing edges:  20%|███▏            | 154k/771k [00:00<00:03, 193kedge/s]"
     ]
    },
    {
     "name": "stderr",
     "output_type": "stream",
     "text": [
      "\r",
      "[ncit] parsing edges:  22%|███▌            | 173k/771k [00:00<00:03, 193kedge/s]"
     ]
    },
    {
     "name": "stderr",
     "output_type": "stream",
     "text": [
      "\r",
      "[ncit] parsing edges:  25%|███▉            | 192k/771k [00:01<00:02, 193kedge/s]"
     ]
    },
    {
     "name": "stderr",
     "output_type": "stream",
     "text": [
      "\r",
      "[ncit] parsing edges:  27%|████▍           | 212k/771k [00:01<00:02, 193kedge/s]"
     ]
    },
    {
     "name": "stderr",
     "output_type": "stream",
     "text": [
      "\r",
      "[ncit] parsing edges:  30%|████▊           | 231k/771k [00:01<00:02, 193kedge/s]"
     ]
    },
    {
     "name": "stderr",
     "output_type": "stream",
     "text": [
      "\r",
      "[ncit] parsing edges:  32%|█████▏          | 251k/771k [00:01<00:02, 194kedge/s]"
     ]
    },
    {
     "name": "stderr",
     "output_type": "stream",
     "text": [
      "\r",
      "[ncit] parsing edges:  35%|█████▌          | 270k/771k [00:01<00:02, 193kedge/s]"
     ]
    },
    {
     "name": "stderr",
     "output_type": "stream",
     "text": [
      "\r",
      "[ncit] parsing edges:  37%|█████▉          | 289k/771k [00:01<00:02, 190kedge/s]"
     ]
    },
    {
     "name": "stderr",
     "output_type": "stream",
     "text": [
      "\r",
      "[ncit] parsing edges:  40%|██████▍         | 308k/771k [00:01<00:02, 189kedge/s]"
     ]
    },
    {
     "name": "stderr",
     "output_type": "stream",
     "text": [
      "\r",
      "[ncit] parsing edges:  42%|██████▊         | 327k/771k [00:01<00:02, 189kedge/s]"
     ]
    },
    {
     "name": "stderr",
     "output_type": "stream",
     "text": [
      "\r",
      "[ncit] parsing edges:  45%|███████▏        | 346k/771k [00:01<00:02, 189kedge/s]"
     ]
    },
    {
     "name": "stderr",
     "output_type": "stream",
     "text": [
      "\r",
      "[ncit] parsing edges:  47%|███████▌        | 365k/771k [00:01<00:02, 190kedge/s]"
     ]
    },
    {
     "name": "stderr",
     "output_type": "stream",
     "text": [
      "\r",
      "[ncit] parsing edges:  50%|███████▉        | 385k/771k [00:02<00:02, 191kedge/s]"
     ]
    },
    {
     "name": "stderr",
     "output_type": "stream",
     "text": [
      "\r",
      "[ncit] parsing edges:  52%|████████▍       | 404k/771k [00:02<00:01, 192kedge/s]"
     ]
    },
    {
     "name": "stderr",
     "output_type": "stream",
     "text": [
      "\r",
      "[ncit] parsing edges:  55%|████████▊       | 423k/771k [00:02<00:01, 192kedge/s]"
     ]
    },
    {
     "name": "stderr",
     "output_type": "stream",
     "text": [
      "\r",
      "[ncit] parsing edges:  57%|█████████▏      | 442k/771k [00:02<00:01, 188kedge/s]"
     ]
    },
    {
     "name": "stderr",
     "output_type": "stream",
     "text": [
      "\r",
      "[ncit] parsing edges:  60%|█████████▌      | 461k/771k [00:02<00:01, 186kedge/s]"
     ]
    },
    {
     "name": "stderr",
     "output_type": "stream",
     "text": [
      "\r",
      "[ncit] parsing edges:  62%|█████████▉      | 480k/771k [00:02<00:01, 185kedge/s]"
     ]
    },
    {
     "name": "stderr",
     "output_type": "stream",
     "text": [
      "\r",
      "[ncit] parsing edges:  65%|██████████▎     | 498k/771k [00:02<00:01, 182kedge/s]"
     ]
    },
    {
     "name": "stderr",
     "output_type": "stream",
     "text": [
      "\r",
      "[ncit] parsing edges:  67%|██████████▋     | 517k/771k [00:02<00:01, 183kedge/s]"
     ]
    },
    {
     "name": "stderr",
     "output_type": "stream",
     "text": [
      "\r",
      "[ncit] parsing edges:  69%|███████████     | 535k/771k [00:02<00:01, 176kedge/s]"
     ]
    },
    {
     "name": "stderr",
     "output_type": "stream",
     "text": [
      "\r",
      "[ncit] parsing edges:  72%|███████████▍    | 553k/771k [00:02<00:01, 171kedge/s]"
     ]
    },
    {
     "name": "stderr",
     "output_type": "stream",
     "text": [
      "\r",
      "[ncit] parsing edges:  74%|███████████▊    | 572k/771k [00:03<00:01, 176kedge/s]"
     ]
    },
    {
     "name": "stderr",
     "output_type": "stream",
     "text": [
      "\r",
      "[ncit] parsing edges:  77%|████████████▎   | 591k/771k [00:03<00:00, 180kedge/s]"
     ]
    },
    {
     "name": "stderr",
     "output_type": "stream",
     "text": [
      "\r",
      "[ncit] parsing edges:  79%|████████████▋   | 610k/771k [00:03<00:00, 183kedge/s]"
     ]
    },
    {
     "name": "stderr",
     "output_type": "stream",
     "text": [
      "\r",
      "[ncit] parsing edges:  82%|█████████████   | 629k/771k [00:03<00:00, 186kedge/s]"
     ]
    },
    {
     "name": "stderr",
     "output_type": "stream",
     "text": [
      "\r",
      "[ncit] parsing edges:  84%|█████████████▍  | 649k/771k [00:03<00:00, 188kedge/s]"
     ]
    },
    {
     "name": "stderr",
     "output_type": "stream",
     "text": [
      "\r",
      "[ncit] parsing edges:  87%|█████████████▊  | 667k/771k [00:03<00:00, 188kedge/s]"
     ]
    },
    {
     "name": "stderr",
     "output_type": "stream",
     "text": [
      "\r",
      "[ncit] parsing edges:  89%|██████████████▏ | 687k/771k [00:03<00:00, 189kedge/s]"
     ]
    },
    {
     "name": "stderr",
     "output_type": "stream",
     "text": [
      "\r",
      "[ncit] parsing edges:  92%|██████████████▋ | 706k/771k [00:03<00:00, 190kedge/s]"
     ]
    },
    {
     "name": "stderr",
     "output_type": "stream",
     "text": [
      "\r",
      "[ncit] parsing edges:  94%|███████████████ | 725k/771k [00:03<00:00, 190kedge/s]"
     ]
    },
    {
     "name": "stderr",
     "output_type": "stream",
     "text": [
      "\r",
      "[ncit] parsing edges:  96%|███████████████▍| 744k/771k [00:03<00:00, 190kedge/s]"
     ]
    },
    {
     "name": "stderr",
     "output_type": "stream",
     "text": [
      "\r",
      "[ncit] parsing edges:  99%|███████████████▊| 763k/771k [00:04<00:00, 190kedge/s]"
     ]
    },
    {
     "name": "stderr",
     "output_type": "stream",
     "text": [
      "\r",
      "[ncit] parsing edges: 100%|████████████████| 771k/771k [00:04<00:00, 188kedge/s]"
     ]
    },
    {
     "name": "stderr",
     "output_type": "stream",
     "text": [
      "\n"
     ]
    },
    {
     "name": "stderr",
     "output_type": "stream",
     "text": [
      "\r",
      "[ncit] parsing properties:   0%|               | 0.00/1.28M [00:00<?, ?triple/s]"
     ]
    },
    {
     "name": "stderr",
     "output_type": "stream",
     "text": [
      "\r",
      "[ncit] parsing properties:   1%|       | 17.6k/1.28M [00:00<00:07, 176ktriple/s]"
     ]
    },
    {
     "name": "stderr",
     "output_type": "stream",
     "text": [
      "\r",
      "[ncit] parsing properties:   3%|▏      | 35.6k/1.28M [00:00<00:06, 178ktriple/s]"
     ]
    },
    {
     "name": "stderr",
     "output_type": "stream",
     "text": [
      "\r",
      "[ncit] parsing properties:   4%|▎      | 53.4k/1.28M [00:00<00:06, 178ktriple/s]"
     ]
    },
    {
     "name": "stderr",
     "output_type": "stream",
     "text": [
      "\r",
      "[ncit] parsing properties:   6%|▍      | 71.3k/1.28M [00:00<00:06, 178ktriple/s]"
     ]
    },
    {
     "name": "stderr",
     "output_type": "stream",
     "text": [
      "\r",
      "[ncit] parsing properties:   7%|▍      | 89.2k/1.28M [00:00<00:06, 179ktriple/s]"
     ]
    },
    {
     "name": "stderr",
     "output_type": "stream",
     "text": [
      "\r",
      "[ncit] parsing properties:   8%|▋       | 107k/1.28M [00:00<00:06, 179ktriple/s]"
     ]
    },
    {
     "name": "stderr",
     "output_type": "stream",
     "text": [
      "\r",
      "[ncit] parsing properties:  10%|▊       | 125k/1.28M [00:00<00:06, 179ktriple/s]"
     ]
    },
    {
     "name": "stderr",
     "output_type": "stream",
     "text": [
      "\r",
      "[ncit] parsing properties:  11%|▉       | 143k/1.28M [00:00<00:06, 178ktriple/s]"
     ]
    },
    {
     "name": "stderr",
     "output_type": "stream",
     "text": [
      "\r",
      "[ncit] parsing properties:  13%|█       | 161k/1.28M [00:00<00:06, 178ktriple/s]"
     ]
    },
    {
     "name": "stderr",
     "output_type": "stream",
     "text": [
      "\r",
      "[ncit] parsing properties:  14%|█       | 179k/1.28M [00:01<00:06, 178ktriple/s]"
     ]
    },
    {
     "name": "stderr",
     "output_type": "stream",
     "text": [
      "\r",
      "[ncit] parsing properties:  15%|█▏      | 197k/1.28M [00:01<00:06, 178ktriple/s]"
     ]
    },
    {
     "name": "stderr",
     "output_type": "stream",
     "text": [
      "\r",
      "[ncit] parsing properties:  17%|█▎      | 214k/1.28M [00:01<00:05, 178ktriple/s]"
     ]
    },
    {
     "name": "stderr",
     "output_type": "stream",
     "text": [
      "\r",
      "[ncit] parsing properties:  18%|█▍      | 232k/1.28M [00:01<00:05, 178ktriple/s]"
     ]
    },
    {
     "name": "stderr",
     "output_type": "stream",
     "text": [
      "\r",
      "[ncit] parsing properties:  20%|█▌      | 250k/1.28M [00:01<00:05, 178ktriple/s]"
     ]
    },
    {
     "name": "stderr",
     "output_type": "stream",
     "text": [
      "\r",
      "[ncit] parsing properties:  21%|█▋      | 268k/1.28M [00:01<00:05, 178ktriple/s]"
     ]
    },
    {
     "name": "stderr",
     "output_type": "stream",
     "text": [
      "\r",
      "[ncit] parsing properties:  22%|█▊      | 286k/1.28M [00:01<00:05, 178ktriple/s]"
     ]
    },
    {
     "name": "stderr",
     "output_type": "stream",
     "text": [
      "\r",
      "[ncit] parsing properties:  24%|█▉      | 304k/1.28M [00:01<00:05, 178ktriple/s]"
     ]
    },
    {
     "name": "stderr",
     "output_type": "stream",
     "text": [
      "\r",
      "[ncit] parsing properties:  25%|██      | 321k/1.28M [00:01<00:05, 178ktriple/s]"
     ]
    },
    {
     "name": "stderr",
     "output_type": "stream",
     "text": [
      "\r",
      "[ncit] parsing properties:  26%|██      | 339k/1.28M [00:01<00:05, 178ktriple/s]"
     ]
    },
    {
     "name": "stderr",
     "output_type": "stream",
     "text": [
      "\r",
      "[ncit] parsing properties:  28%|██▏     | 357k/1.28M [00:02<00:05, 178ktriple/s]"
     ]
    },
    {
     "name": "stderr",
     "output_type": "stream",
     "text": [
      "\r",
      "[ncit] parsing properties:  29%|██▎     | 375k/1.28M [00:02<00:05, 177ktriple/s]"
     ]
    },
    {
     "name": "stderr",
     "output_type": "stream",
     "text": [
      "\r",
      "[ncit] parsing properties:  31%|██▍     | 392k/1.28M [00:02<00:05, 177ktriple/s]"
     ]
    },
    {
     "name": "stderr",
     "output_type": "stream",
     "text": [
      "\r",
      "[ncit] parsing properties:  32%|██▌     | 410k/1.28M [00:02<00:04, 177ktriple/s]"
     ]
    },
    {
     "name": "stderr",
     "output_type": "stream",
     "text": [
      "\r",
      "[ncit] parsing properties:  33%|██▋     | 428k/1.28M [00:02<00:04, 178ktriple/s]"
     ]
    },
    {
     "name": "stderr",
     "output_type": "stream",
     "text": [
      "\r",
      "[ncit] parsing properties:  35%|██▊     | 446k/1.28M [00:02<00:04, 177ktriple/s]"
     ]
    },
    {
     "name": "stderr",
     "output_type": "stream",
     "text": [
      "\r",
      "[ncit] parsing properties:  36%|██▉     | 464k/1.28M [00:02<00:04, 177ktriple/s]"
     ]
    },
    {
     "name": "stderr",
     "output_type": "stream",
     "text": [
      "\r",
      "[ncit] parsing properties:  38%|███     | 481k/1.28M [00:02<00:04, 177ktriple/s]"
     ]
    },
    {
     "name": "stderr",
     "output_type": "stream",
     "text": [
      "\r",
      "[ncit] parsing properties:  39%|███     | 499k/1.28M [00:02<00:04, 177ktriple/s]"
     ]
    },
    {
     "name": "stderr",
     "output_type": "stream",
     "text": [
      "\r",
      "[ncit] parsing properties:  40%|███▏    | 517k/1.28M [00:02<00:04, 177ktriple/s]"
     ]
    },
    {
     "name": "stderr",
     "output_type": "stream",
     "text": [
      "\r",
      "[ncit] parsing properties:  40%|███▏    | 517k/1.28M [00:35<00:04, 177ktriple/s]"
     ]
    },
    {
     "name": "stderr",
     "output_type": "stream",
     "text": [
      "\r",
      "[ncit] parsing properties:  41%|██▊    | 524k/1.28M [00:35<08:28, 1.49ktriple/s]"
     ]
    },
    {
     "name": "stderr",
     "output_type": "stream",
     "text": [
      "\r",
      "[ncit] parsing properties:  42%|██▉    | 542k/1.28M [00:35<05:30, 2.24ktriple/s]"
     ]
    },
    {
     "name": "stderr",
     "output_type": "stream",
     "text": [
      "\r",
      "[ncit] parsing properties:  44%|███    | 559k/1.28M [00:35<03:37, 3.31ktriple/s]"
     ]
    },
    {
     "name": "stderr",
     "output_type": "stream",
     "text": [
      "\r",
      "[ncit] parsing properties:  45%|███▏   | 577k/1.28M [00:35<02:26, 4.82ktriple/s]"
     ]
    },
    {
     "name": "stderr",
     "output_type": "stream",
     "text": [
      "\r",
      "[ncit] parsing properties:  46%|███▏   | 594k/1.28M [00:35<01:39, 6.93ktriple/s]"
     ]
    },
    {
     "name": "stderr",
     "output_type": "stream",
     "text": [
      "\r",
      "[ncit] parsing properties:  48%|███▎   | 612k/1.28M [00:35<01:07, 9.94ktriple/s]"
     ]
    },
    {
     "name": "stderr",
     "output_type": "stream",
     "text": [
      "\r",
      "[ncit] parsing properties:  49%|███▍   | 630k/1.28M [00:36<00:46, 14.0ktriple/s]"
     ]
    },
    {
     "name": "stderr",
     "output_type": "stream",
     "text": [
      "\r",
      "[ncit] parsing properties:  51%|███▌   | 648k/1.28M [00:36<00:32, 19.5ktriple/s]"
     ]
    },
    {
     "name": "stderr",
     "output_type": "stream",
     "text": [
      "\r",
      "[ncit] parsing properties:  52%|███▋   | 666k/1.28M [00:36<00:22, 26.9ktriple/s]"
     ]
    },
    {
     "name": "stderr",
     "output_type": "stream",
     "text": [
      "\r",
      "[ncit] parsing properties:  53%|███▋   | 684k/1.28M [00:36<00:16, 36.2ktriple/s]"
     ]
    },
    {
     "name": "stderr",
     "output_type": "stream",
     "text": [
      "\r",
      "[ncit] parsing properties:  55%|███▊   | 702k/1.28M [00:36<00:12, 47.6ktriple/s]"
     ]
    },
    {
     "name": "stderr",
     "output_type": "stream",
     "text": [
      "\r",
      "[ncit] parsing properties:  56%|███▉   | 720k/1.28M [00:36<00:09, 61.1ktriple/s]"
     ]
    },
    {
     "name": "stderr",
     "output_type": "stream",
     "text": [
      "\r",
      "[ncit] parsing properties:  58%|████   | 738k/1.28M [00:36<00:07, 76.3ktriple/s]"
     ]
    },
    {
     "name": "stderr",
     "output_type": "stream",
     "text": [
      "\r",
      "[ncit] parsing properties:  59%|████▏  | 756k/1.28M [00:36<00:05, 92.5ktriple/s]"
     ]
    },
    {
     "name": "stderr",
     "output_type": "stream",
     "text": [
      "\r",
      "[ncit] parsing properties:  60%|████▊   | 774k/1.28M [00:36<00:04, 108ktriple/s]"
     ]
    },
    {
     "name": "stderr",
     "output_type": "stream",
     "text": [
      "\r",
      "[ncit] parsing properties:  62%|████▉   | 792k/1.28M [00:36<00:03, 123ktriple/s]"
     ]
    },
    {
     "name": "stderr",
     "output_type": "stream",
     "text": [
      "\r",
      "[ncit] parsing properties:  63%|█████   | 811k/1.28M [00:37<00:03, 136ktriple/s]"
     ]
    },
    {
     "name": "stderr",
     "output_type": "stream",
     "text": [
      "\r",
      "[ncit] parsing properties:  65%|█████▏  | 829k/1.28M [00:37<00:03, 147ktriple/s]"
     ]
    },
    {
     "name": "stderr",
     "output_type": "stream",
     "text": [
      "\r",
      "[ncit] parsing properties:  66%|█████▎  | 847k/1.28M [00:37<00:02, 155ktriple/s]"
     ]
    },
    {
     "name": "stderr",
     "output_type": "stream",
     "text": [
      "\r",
      "[ncit] parsing properties:  67%|█████▍  | 865k/1.28M [00:37<00:02, 162ktriple/s]"
     ]
    },
    {
     "name": "stderr",
     "output_type": "stream",
     "text": [
      "\r",
      "[ncit] parsing properties:  69%|█████▌  | 883k/1.28M [00:37<00:02, 166ktriple/s]"
     ]
    },
    {
     "name": "stderr",
     "output_type": "stream",
     "text": [
      "\r",
      "[ncit] parsing properties:  70%|█████▌  | 901k/1.28M [00:37<00:02, 170ktriple/s]"
     ]
    },
    {
     "name": "stderr",
     "output_type": "stream",
     "text": [
      "\r",
      "[ncit] parsing properties:  72%|█████▋  | 919k/1.28M [00:37<00:02, 173ktriple/s]"
     ]
    },
    {
     "name": "stderr",
     "output_type": "stream",
     "text": [
      "\r",
      "[ncit] parsing properties:  73%|█████▊  | 937k/1.28M [00:37<00:01, 175ktriple/s]"
     ]
    },
    {
     "name": "stderr",
     "output_type": "stream",
     "text": [
      "\r",
      "[ncit] parsing properties:  75%|█████▉  | 954k/1.28M [00:37<00:01, 176ktriple/s]"
     ]
    },
    {
     "name": "stderr",
     "output_type": "stream",
     "text": [
      "\r",
      "[ncit] parsing properties:  76%|██████  | 972k/1.28M [00:37<00:01, 177ktriple/s]"
     ]
    },
    {
     "name": "stderr",
     "output_type": "stream",
     "text": [
      "\r",
      "[ncit] parsing properties:  77%|██████▏ | 990k/1.28M [00:38<00:01, 178ktriple/s]"
     ]
    },
    {
     "name": "stderr",
     "output_type": "stream",
     "text": [
      "\r",
      "[ncit] parsing properties:  79%|█████▌ | 1.01M/1.28M [00:38<00:01, 179ktriple/s]"
     ]
    },
    {
     "name": "stderr",
     "output_type": "stream",
     "text": [
      "\r",
      "[ncit] parsing properties:  80%|█████▌ | 1.03M/1.28M [00:38<00:01, 180ktriple/s]"
     ]
    },
    {
     "name": "stderr",
     "output_type": "stream",
     "text": [
      "\r",
      "[ncit] parsing properties:  82%|█████▋ | 1.04M/1.28M [00:38<00:01, 180ktriple/s]"
     ]
    },
    {
     "name": "stderr",
     "output_type": "stream",
     "text": [
      "\r",
      "[ncit] parsing properties:  83%|█████▊ | 1.06M/1.28M [00:38<00:01, 180ktriple/s]"
     ]
    },
    {
     "name": "stderr",
     "output_type": "stream",
     "text": [
      "\r",
      "[ncit] parsing properties:  84%|█████▉ | 1.08M/1.28M [00:38<00:01, 179ktriple/s]"
     ]
    },
    {
     "name": "stderr",
     "output_type": "stream",
     "text": [
      "\r",
      "[ncit] parsing properties:  86%|██████ | 1.10M/1.28M [00:38<00:01, 180ktriple/s]"
     ]
    },
    {
     "name": "stderr",
     "output_type": "stream",
     "text": [
      "\r",
      "[ncit] parsing properties:  87%|██████ | 1.12M/1.28M [00:38<00:00, 180ktriple/s]"
     ]
    },
    {
     "name": "stderr",
     "output_type": "stream",
     "text": [
      "\r",
      "[ncit] parsing properties:  89%|██████▏| 1.13M/1.28M [00:38<00:00, 179ktriple/s]"
     ]
    },
    {
     "name": "stderr",
     "output_type": "stream",
     "text": [
      "\r",
      "[ncit] parsing properties:  90%|██████▎| 1.15M/1.28M [00:38<00:00, 179ktriple/s]"
     ]
    },
    {
     "name": "stderr",
     "output_type": "stream",
     "text": [
      "\r",
      "[ncit] parsing properties:  91%|██████▍| 1.17M/1.28M [00:39<00:00, 180ktriple/s]"
     ]
    },
    {
     "name": "stderr",
     "output_type": "stream",
     "text": [
      "\r",
      "[ncit] parsing properties:  93%|██████▍| 1.19M/1.28M [00:39<00:00, 179ktriple/s]"
     ]
    },
    {
     "name": "stderr",
     "output_type": "stream",
     "text": [
      "\r",
      "[ncit] parsing properties:  94%|██████▌| 1.21M/1.28M [00:39<00:00, 179ktriple/s]"
     ]
    },
    {
     "name": "stderr",
     "output_type": "stream",
     "text": [
      "\r",
      "[ncit] parsing properties:  96%|██████▋| 1.22M/1.28M [00:39<00:00, 179ktriple/s]"
     ]
    },
    {
     "name": "stderr",
     "output_type": "stream",
     "text": [
      "\r",
      "[ncit] parsing properties:  97%|██████▊| 1.24M/1.28M [00:39<00:00, 180ktriple/s]"
     ]
    },
    {
     "name": "stderr",
     "output_type": "stream",
     "text": [
      "\r",
      "[ncit] parsing properties:  98%|██████▉| 1.26M/1.28M [00:39<00:00, 180ktriple/s]"
     ]
    },
    {
     "name": "stderr",
     "output_type": "stream",
     "text": [
      "\r",
      "[ncit] parsing properties: 100%|██████▉| 1.28M/1.28M [00:39<00:00, 180ktriple/s]"
     ]
    },
    {
     "name": "stderr",
     "output_type": "stream",
     "text": [
      "\r",
      "[ncit] parsing properties: 100%|██████| 1.28M/1.28M [00:39<00:00, 32.3ktriple/s]"
     ]
    },
    {
     "name": "stderr",
     "output_type": "stream",
     "text": [
      "\n"
     ]
    },
    {
     "data": {
      "text/markdown": [
       "## Summarize the Resources\n",
       "\n",
       "We summarize the resources used in the landscape analysis, including their\n",
       "[Bioregistry](https://bioregistry.io) prefix, license, current version, and\n",
       "number of terms (i.e., named concepts) they contain.\n"
      ],
      "text/plain": [
       "<IPython.core.display.Markdown object>"
      ]
     },
     "metadata": {},
     "output_type": "display_data"
    },
    {
     "data": {
      "text/markdown": [
       "1 resources were not available through\n",
       "[PyOBO](https://github.com/biopragmatics/pyobo). Therefore, we estimate the number\n",
       "of terms in that resource based on the ones appearing in mappings. Note that these\n",
       "are typically an underestimate.\n"
      ],
      "text/plain": [
       "<IPython.core.display.Markdown object>"
      ]
     },
     "metadata": {},
     "output_type": "display_data"
    },
    {
     "data": {
      "text/html": [
       "<div>\n",
       "<style scoped>\n",
       "    .dataframe tbody tr th:only-of-type {\n",
       "        vertical-align: middle;\n",
       "    }\n",
       "\n",
       "    .dataframe tbody tr th {\n",
       "        vertical-align: top;\n",
       "    }\n",
       "\n",
       "    .dataframe thead th {\n",
       "        text-align: right;\n",
       "    }\n",
       "</style>\n",
       "<table border=\"1\" class=\"dataframe\">\n",
       "  <thead>\n",
       "    <tr style=\"text-align: right;\">\n",
       "      <th></th>\n",
       "      <th>name</th>\n",
       "      <th>license</th>\n",
       "      <th>version</th>\n",
       "      <th>terms</th>\n",
       "      <th>status</th>\n",
       "    </tr>\n",
       "    <tr>\n",
       "      <th>prefix</th>\n",
       "      <th></th>\n",
       "      <th></th>\n",
       "      <th></th>\n",
       "      <th></th>\n",
       "      <th></th>\n",
       "    </tr>\n",
       "  </thead>\n",
       "  <tbody>\n",
       "    <tr>\n",
       "      <th>ncbigene</th>\n",
       "      <td>NCBI Gene</td>\n",
       "      <td>None</td>\n",
       "      <td>daily</td>\n",
       "      <td>59499014</td>\n",
       "      <td>full</td>\n",
       "    </tr>\n",
       "    <tr>\n",
       "      <th>hgnc</th>\n",
       "      <td>HUGO Gene Nomenclature Committee</td>\n",
       "      <td>CC0-1.0</td>\n",
       "      <td>2025-03-04</td>\n",
       "      <td>44071</td>\n",
       "      <td>full</td>\n",
       "    </tr>\n",
       "    <tr>\n",
       "      <th>mgi</th>\n",
       "      <td>Mouse Genome Informatics</td>\n",
       "      <td>CC-BY-4.0</td>\n",
       "      <td>6.24</td>\n",
       "      <td>737779</td>\n",
       "      <td>full</td>\n",
       "    </tr>\n",
       "    <tr>\n",
       "      <th>rgd</th>\n",
       "      <td>Rat Genome Database</td>\n",
       "      <td>CC-BY-4.0</td>\n",
       "      <td>2025-03-14</td>\n",
       "      <td>61335</td>\n",
       "      <td>full</td>\n",
       "    </tr>\n",
       "    <tr>\n",
       "      <th>cgnc</th>\n",
       "      <td>Chicken Gene Nomenclature Consortium</td>\n",
       "      <td>CC-BY-4.0</td>\n",
       "      <td>None</td>\n",
       "      <td>26075</td>\n",
       "      <td>full</td>\n",
       "    </tr>\n",
       "    <tr>\n",
       "      <th>wormbase</th>\n",
       "      <td>WormBase</td>\n",
       "      <td>CC0-1.0</td>\n",
       "      <td>None</td>\n",
       "      <td>0</td>\n",
       "      <td>observed</td>\n",
       "    </tr>\n",
       "    <tr>\n",
       "      <th>flybase</th>\n",
       "      <td>FlyBase Gene</td>\n",
       "      <td>CC-BY-4.0</td>\n",
       "      <td>2025_01</td>\n",
       "      <td>17870</td>\n",
       "      <td>full</td>\n",
       "    </tr>\n",
       "    <tr>\n",
       "      <th>sgd</th>\n",
       "      <td>Saccharomyces Genome Database</td>\n",
       "      <td>CC-BY-4.0</td>\n",
       "      <td>R64-5-1</td>\n",
       "      <td>6600</td>\n",
       "      <td>full</td>\n",
       "    </tr>\n",
       "    <tr>\n",
       "      <th>omim</th>\n",
       "      <td>Online Mendelian Inheritance in Man</td>\n",
       "      <td>https://www.omim.org/help/agreement</td>\n",
       "      <td>2025-03-21</td>\n",
       "      <td>27201</td>\n",
       "      <td>observed</td>\n",
       "    </tr>\n",
       "    <tr>\n",
       "      <th>civic.gid</th>\n",
       "      <td>CIViC gene</td>\n",
       "      <td>CC0-1.0</td>\n",
       "      <td>2025-03-01</td>\n",
       "      <td>890</td>\n",
       "      <td>full</td>\n",
       "    </tr>\n",
       "    <tr>\n",
       "      <th>umls</th>\n",
       "      <td>Unified Medical Language System Concept Unique...</td>\n",
       "      <td>https://www.nlm.nih.gov/research/umls/knowledg...</td>\n",
       "      <td>2024AB</td>\n",
       "      <td>1</td>\n",
       "      <td>subset</td>\n",
       "    </tr>\n",
       "    <tr>\n",
       "      <th>ncit</th>\n",
       "      <td>NCI Thesaurus</td>\n",
       "      <td>CC-BY-4.0</td>\n",
       "      <td>24.11d</td>\n",
       "      <td>12711</td>\n",
       "      <td>subset</td>\n",
       "    </tr>\n",
       "    <tr>\n",
       "      <th>wikidata</th>\n",
       "      <td>Wikidata</td>\n",
       "      <td>CC0-1.0</td>\n",
       "      <td>None</td>\n",
       "      <td>797967</td>\n",
       "      <td>observed</td>\n",
       "    </tr>\n",
       "  </tbody>\n",
       "</table>\n",
       "</div>"
      ],
      "text/plain": [
       "                                                        name  \\\n",
       "prefix                                                         \n",
       "ncbigene                                           NCBI Gene   \n",
       "hgnc                        HUGO Gene Nomenclature Committee   \n",
       "mgi                                 Mouse Genome Informatics   \n",
       "rgd                                      Rat Genome Database   \n",
       "cgnc                    Chicken Gene Nomenclature Consortium   \n",
       "wormbase                                            WormBase   \n",
       "flybase                                         FlyBase Gene   \n",
       "sgd                            Saccharomyces Genome Database   \n",
       "omim                     Online Mendelian Inheritance in Man   \n",
       "civic.gid                                         CIViC gene   \n",
       "umls       Unified Medical Language System Concept Unique...   \n",
       "ncit                                           NCI Thesaurus   \n",
       "wikidata                                            Wikidata   \n",
       "\n",
       "                                                     license     version  \\\n",
       "prefix                                                                     \n",
       "ncbigene                                                None       daily   \n",
       "hgnc                                                 CC0-1.0  2025-03-04   \n",
       "mgi                                                CC-BY-4.0        6.24   \n",
       "rgd                                                CC-BY-4.0  2025-03-14   \n",
       "cgnc                                               CC-BY-4.0        None   \n",
       "wormbase                                             CC0-1.0        None   \n",
       "flybase                                            CC-BY-4.0     2025_01   \n",
       "sgd                                                CC-BY-4.0     R64-5-1   \n",
       "omim                     https://www.omim.org/help/agreement  2025-03-21   \n",
       "civic.gid                                            CC0-1.0  2025-03-01   \n",
       "umls       https://www.nlm.nih.gov/research/umls/knowledg...      2024AB   \n",
       "ncit                                               CC-BY-4.0      24.11d   \n",
       "wikidata                                             CC0-1.0        None   \n",
       "\n",
       "              terms    status  \n",
       "prefix                         \n",
       "ncbigene   59499014      full  \n",
       "hgnc          44071      full  \n",
       "mgi          737779      full  \n",
       "rgd           61335      full  \n",
       "cgnc          26075      full  \n",
       "wormbase          0  observed  \n",
       "flybase       17870      full  \n",
       "sgd            6600      full  \n",
       "omim          27201  observed  \n",
       "civic.gid       890      full  \n",
       "umls              1    subset  \n",
       "ncit          12711    subset  \n",
       "wikidata     797967  observed  "
      ]
     },
     "metadata": {},
     "output_type": "display_data"
    },
    {
     "data": {
      "text/markdown": [
       "There are a total of 61,231,514 terms across the 13 resources."
      ],
      "text/plain": [
       "<IPython.core.display.Markdown object>"
      ]
     },
     "metadata": {},
     "output_type": "display_data"
    },
    {
     "data": {
      "text/markdown": [
       "## Summarize the Mappings\n",
       "\n",
       "In order to summarize the mappings, we're going to load them, index them, and count\n",
       "the number of mappings between each pair of resources. The self-mapping column is\n",
       "the count of terms in the resource. We'll do this to the raw mappings first, then\n",
       "to the processed mappings, then compare them.\n"
      ],
      "text/plain": [
       "<IPython.core.display.Markdown object>"
      ]
     },
     "metadata": {},
     "output_type": "display_data"
    },
    {
     "data": {
      "application/vnd.jupyter.widget-view+json": {
       "model_id": "8cc54fca228a49f28e157ba536e6440b",
       "version_major": 2,
       "version_minor": 0
      },
      "text/plain": [
       "Indexing mappings:   0%|          | 0.00/1.64M [00:00<?, ?mapping/s]"
      ]
     },
     "metadata": {},
     "output_type": "display_data"
    },
    {
     "data": {
      "application/vnd.jupyter.widget-view+json": {
       "model_id": "c2ae6433672b4002bf35cf824a8e26bd",
       "version_major": 2,
       "version_minor": 0
      },
      "text/plain": [
       "Indexing mappings:   0%|          | 0.00/5.46M [00:00<?, ?mapping/s]"
      ]
     },
     "metadata": {},
     "output_type": "display_data"
    },
    {
     "data": {
      "text/markdown": [
       "First, we summarize the raw mappings, i.e., the mappings that are directly available from the sources"
      ],
      "text/plain": [
       "<IPython.core.display.Markdown object>"
      ]
     },
     "metadata": {},
     "output_type": "display_data"
    },
    {
     "data": {
      "text/html": [
       "<div>\n",
       "<style scoped>\n",
       "    .dataframe tbody tr th:only-of-type {\n",
       "        vertical-align: middle;\n",
       "    }\n",
       "\n",
       "    .dataframe tbody tr th {\n",
       "        vertical-align: top;\n",
       "    }\n",
       "\n",
       "    .dataframe thead th {\n",
       "        text-align: right;\n",
       "    }\n",
       "</style>\n",
       "<table border=\"1\" class=\"dataframe\">\n",
       "  <thead>\n",
       "    <tr style=\"text-align: right;\">\n",
       "      <th>target_prefix</th>\n",
       "      <th>ncbigene</th>\n",
       "      <th>hgnc</th>\n",
       "      <th>mgi</th>\n",
       "      <th>rgd</th>\n",
       "      <th>cgnc</th>\n",
       "      <th>wormbase</th>\n",
       "      <th>flybase</th>\n",
       "      <th>sgd</th>\n",
       "      <th>omim</th>\n",
       "      <th>civic.gid</th>\n",
       "      <th>umls</th>\n",
       "      <th>ncit</th>\n",
       "      <th>wikidata</th>\n",
       "    </tr>\n",
       "    <tr>\n",
       "      <th>source_prefix</th>\n",
       "      <th></th>\n",
       "      <th></th>\n",
       "      <th></th>\n",
       "      <th></th>\n",
       "      <th></th>\n",
       "      <th></th>\n",
       "      <th></th>\n",
       "      <th></th>\n",
       "      <th></th>\n",
       "      <th></th>\n",
       "      <th></th>\n",
       "      <th></th>\n",
       "      <th></th>\n",
       "    </tr>\n",
       "  </thead>\n",
       "  <tbody>\n",
       "    <tr>\n",
       "      <th>ncbigene</th>\n",
       "      <td>59499014</td>\n",
       "      <td>43842</td>\n",
       "      <td>111824</td>\n",
       "      <td>48327</td>\n",
       "      <td>26069</td>\n",
       "      <td>0</td>\n",
       "      <td>0</td>\n",
       "      <td>0</td>\n",
       "      <td>18481</td>\n",
       "      <td>592</td>\n",
       "      <td>0</td>\n",
       "      <td>0</td>\n",
       "      <td>788061</td>\n",
       "    </tr>\n",
       "    <tr>\n",
       "      <th>hgnc</th>\n",
       "      <td>43842</td>\n",
       "      <td>44071</td>\n",
       "      <td>0</td>\n",
       "      <td>0</td>\n",
       "      <td>0</td>\n",
       "      <td>0</td>\n",
       "      <td>0</td>\n",
       "      <td>0</td>\n",
       "      <td>17419</td>\n",
       "      <td>0</td>\n",
       "      <td>0</td>\n",
       "      <td>5978</td>\n",
       "      <td>43557</td>\n",
       "    </tr>\n",
       "    <tr>\n",
       "      <th>mgi</th>\n",
       "      <td>111824</td>\n",
       "      <td>0</td>\n",
       "      <td>737779</td>\n",
       "      <td>0</td>\n",
       "      <td>0</td>\n",
       "      <td>0</td>\n",
       "      <td>0</td>\n",
       "      <td>0</td>\n",
       "      <td>0</td>\n",
       "      <td>0</td>\n",
       "      <td>0</td>\n",
       "      <td>0</td>\n",
       "      <td>0</td>\n",
       "    </tr>\n",
       "    <tr>\n",
       "      <th>rgd</th>\n",
       "      <td>48327</td>\n",
       "      <td>0</td>\n",
       "      <td>0</td>\n",
       "      <td>61335</td>\n",
       "      <td>0</td>\n",
       "      <td>0</td>\n",
       "      <td>0</td>\n",
       "      <td>0</td>\n",
       "      <td>0</td>\n",
       "      <td>0</td>\n",
       "      <td>0</td>\n",
       "      <td>0</td>\n",
       "      <td>0</td>\n",
       "    </tr>\n",
       "    <tr>\n",
       "      <th>cgnc</th>\n",
       "      <td>26069</td>\n",
       "      <td>0</td>\n",
       "      <td>0</td>\n",
       "      <td>0</td>\n",
       "      <td>26075</td>\n",
       "      <td>0</td>\n",
       "      <td>0</td>\n",
       "      <td>0</td>\n",
       "      <td>0</td>\n",
       "      <td>0</td>\n",
       "      <td>0</td>\n",
       "      <td>0</td>\n",
       "      <td>0</td>\n",
       "    </tr>\n",
       "    <tr>\n",
       "      <th>wormbase</th>\n",
       "      <td>0</td>\n",
       "      <td>0</td>\n",
       "      <td>0</td>\n",
       "      <td>0</td>\n",
       "      <td>0</td>\n",
       "      <td>0</td>\n",
       "      <td>0</td>\n",
       "      <td>0</td>\n",
       "      <td>0</td>\n",
       "      <td>0</td>\n",
       "      <td>0</td>\n",
       "      <td>0</td>\n",
       "      <td>0</td>\n",
       "    </tr>\n",
       "    <tr>\n",
       "      <th>flybase</th>\n",
       "      <td>0</td>\n",
       "      <td>0</td>\n",
       "      <td>0</td>\n",
       "      <td>0</td>\n",
       "      <td>0</td>\n",
       "      <td>0</td>\n",
       "      <td>17870</td>\n",
       "      <td>0</td>\n",
       "      <td>0</td>\n",
       "      <td>0</td>\n",
       "      <td>0</td>\n",
       "      <td>0</td>\n",
       "      <td>0</td>\n",
       "    </tr>\n",
       "    <tr>\n",
       "      <th>sgd</th>\n",
       "      <td>0</td>\n",
       "      <td>0</td>\n",
       "      <td>0</td>\n",
       "      <td>0</td>\n",
       "      <td>0</td>\n",
       "      <td>0</td>\n",
       "      <td>0</td>\n",
       "      <td>6600</td>\n",
       "      <td>0</td>\n",
       "      <td>0</td>\n",
       "      <td>0</td>\n",
       "      <td>0</td>\n",
       "      <td>0</td>\n",
       "    </tr>\n",
       "    <tr>\n",
       "      <th>omim</th>\n",
       "      <td>18481</td>\n",
       "      <td>17419</td>\n",
       "      <td>0</td>\n",
       "      <td>0</td>\n",
       "      <td>0</td>\n",
       "      <td>0</td>\n",
       "      <td>0</td>\n",
       "      <td>0</td>\n",
       "      <td>27201</td>\n",
       "      <td>0</td>\n",
       "      <td>0</td>\n",
       "      <td>0</td>\n",
       "      <td>25908</td>\n",
       "    </tr>\n",
       "    <tr>\n",
       "      <th>civic.gid</th>\n",
       "      <td>592</td>\n",
       "      <td>0</td>\n",
       "      <td>0</td>\n",
       "      <td>0</td>\n",
       "      <td>0</td>\n",
       "      <td>0</td>\n",
       "      <td>0</td>\n",
       "      <td>0</td>\n",
       "      <td>0</td>\n",
       "      <td>890</td>\n",
       "      <td>0</td>\n",
       "      <td>0</td>\n",
       "      <td>491</td>\n",
       "    </tr>\n",
       "    <tr>\n",
       "      <th>umls</th>\n",
       "      <td>0</td>\n",
       "      <td>0</td>\n",
       "      <td>0</td>\n",
       "      <td>0</td>\n",
       "      <td>0</td>\n",
       "      <td>0</td>\n",
       "      <td>0</td>\n",
       "      <td>0</td>\n",
       "      <td>0</td>\n",
       "      <td>0</td>\n",
       "      <td>1</td>\n",
       "      <td>0</td>\n",
       "      <td>0</td>\n",
       "    </tr>\n",
       "    <tr>\n",
       "      <th>ncit</th>\n",
       "      <td>0</td>\n",
       "      <td>5978</td>\n",
       "      <td>0</td>\n",
       "      <td>0</td>\n",
       "      <td>0</td>\n",
       "      <td>0</td>\n",
       "      <td>0</td>\n",
       "      <td>0</td>\n",
       "      <td>0</td>\n",
       "      <td>0</td>\n",
       "      <td>0</td>\n",
       "      <td>12711</td>\n",
       "      <td>0</td>\n",
       "    </tr>\n",
       "    <tr>\n",
       "      <th>wikidata</th>\n",
       "      <td>788061</td>\n",
       "      <td>43557</td>\n",
       "      <td>0</td>\n",
       "      <td>0</td>\n",
       "      <td>0</td>\n",
       "      <td>0</td>\n",
       "      <td>0</td>\n",
       "      <td>0</td>\n",
       "      <td>25908</td>\n",
       "      <td>491</td>\n",
       "      <td>0</td>\n",
       "      <td>0</td>\n",
       "      <td>797967</td>\n",
       "    </tr>\n",
       "  </tbody>\n",
       "</table>\n",
       "</div>"
      ],
      "text/plain": [
       "target_prefix  ncbigene   hgnc     mgi    rgd   cgnc  wormbase  flybase   sgd  \\\n",
       "source_prefix                                                                   \n",
       "ncbigene       59499014  43842  111824  48327  26069         0        0     0   \n",
       "hgnc              43842  44071       0      0      0         0        0     0   \n",
       "mgi              111824      0  737779      0      0         0        0     0   \n",
       "rgd               48327      0       0  61335      0         0        0     0   \n",
       "cgnc              26069      0       0      0  26075         0        0     0   \n",
       "wormbase              0      0       0      0      0         0        0     0   \n",
       "flybase               0      0       0      0      0         0    17870     0   \n",
       "sgd                   0      0       0      0      0         0        0  6600   \n",
       "omim              18481  17419       0      0      0         0        0     0   \n",
       "civic.gid           592      0       0      0      0         0        0     0   \n",
       "umls                  0      0       0      0      0         0        0     0   \n",
       "ncit                  0   5978       0      0      0         0        0     0   \n",
       "wikidata         788061  43557       0      0      0         0        0     0   \n",
       "\n",
       "target_prefix   omim  civic.gid  umls   ncit  wikidata  \n",
       "source_prefix                                           \n",
       "ncbigene       18481        592     0      0    788061  \n",
       "hgnc           17419          0     0   5978     43557  \n",
       "mgi                0          0     0      0         0  \n",
       "rgd                0          0     0      0         0  \n",
       "cgnc               0          0     0      0         0  \n",
       "wormbase           0          0     0      0         0  \n",
       "flybase            0          0     0      0         0  \n",
       "sgd                0          0     0      0         0  \n",
       "omim           27201          0     0      0     25908  \n",
       "civic.gid          0        890     0      0       491  \n",
       "umls               0          0     1      0         0  \n",
       "ncit               0          0     0  12711         0  \n",
       "wikidata       25908        491     0      0    797967  "
      ]
     },
     "metadata": {},
     "output_type": "display_data"
    },
    {
     "data": {
      "text/markdown": [
       "Next, we summarize the processed mappings, which include inference, reasoning, and confidence filtering."
      ],
      "text/plain": [
       "<IPython.core.display.Markdown object>"
      ]
     },
     "metadata": {},
     "output_type": "display_data"
    },
    {
     "data": {
      "text/html": [
       "<div>\n",
       "<style scoped>\n",
       "    .dataframe tbody tr th:only-of-type {\n",
       "        vertical-align: middle;\n",
       "    }\n",
       "\n",
       "    .dataframe tbody tr th {\n",
       "        vertical-align: top;\n",
       "    }\n",
       "\n",
       "    .dataframe thead th {\n",
       "        text-align: right;\n",
       "    }\n",
       "</style>\n",
       "<table border=\"1\" class=\"dataframe\">\n",
       "  <thead>\n",
       "    <tr style=\"text-align: right;\">\n",
       "      <th>target_prefix</th>\n",
       "      <th>ncbigene</th>\n",
       "      <th>hgnc</th>\n",
       "      <th>mgi</th>\n",
       "      <th>rgd</th>\n",
       "      <th>cgnc</th>\n",
       "      <th>wormbase</th>\n",
       "      <th>flybase</th>\n",
       "      <th>sgd</th>\n",
       "      <th>omim</th>\n",
       "      <th>civic.gid</th>\n",
       "      <th>umls</th>\n",
       "      <th>ncit</th>\n",
       "      <th>wikidata</th>\n",
       "    </tr>\n",
       "    <tr>\n",
       "      <th>source_prefix</th>\n",
       "      <th></th>\n",
       "      <th></th>\n",
       "      <th></th>\n",
       "      <th></th>\n",
       "      <th></th>\n",
       "      <th></th>\n",
       "      <th></th>\n",
       "      <th></th>\n",
       "      <th></th>\n",
       "      <th></th>\n",
       "      <th></th>\n",
       "      <th></th>\n",
       "      <th></th>\n",
       "    </tr>\n",
       "  </thead>\n",
       "  <tbody>\n",
       "    <tr>\n",
       "      <th>ncbigene</th>\n",
       "      <td>59499014</td>\n",
       "      <td>44328</td>\n",
       "      <td>111824</td>\n",
       "      <td>48327</td>\n",
       "      <td>26069</td>\n",
       "      <td>0</td>\n",
       "      <td>0</td>\n",
       "      <td>0</td>\n",
       "      <td>18502</td>\n",
       "      <td>621</td>\n",
       "      <td>0</td>\n",
       "      <td>5957</td>\n",
       "      <td>788877</td>\n",
       "    </tr>\n",
       "    <tr>\n",
       "      <th>hgnc</th>\n",
       "      <td>44328</td>\n",
       "      <td>44071</td>\n",
       "      <td>0</td>\n",
       "      <td>0</td>\n",
       "      <td>0</td>\n",
       "      <td>0</td>\n",
       "      <td>0</td>\n",
       "      <td>0</td>\n",
       "      <td>17785</td>\n",
       "      <td>622</td>\n",
       "      <td>0</td>\n",
       "      <td>5978</td>\n",
       "      <td>44599</td>\n",
       "    </tr>\n",
       "    <tr>\n",
       "      <th>mgi</th>\n",
       "      <td>111824</td>\n",
       "      <td>0</td>\n",
       "      <td>737779</td>\n",
       "      <td>0</td>\n",
       "      <td>0</td>\n",
       "      <td>0</td>\n",
       "      <td>0</td>\n",
       "      <td>0</td>\n",
       "      <td>0</td>\n",
       "      <td>0</td>\n",
       "      <td>0</td>\n",
       "      <td>0</td>\n",
       "      <td>71594</td>\n",
       "    </tr>\n",
       "    <tr>\n",
       "      <th>rgd</th>\n",
       "      <td>48327</td>\n",
       "      <td>0</td>\n",
       "      <td>0</td>\n",
       "      <td>61335</td>\n",
       "      <td>0</td>\n",
       "      <td>0</td>\n",
       "      <td>0</td>\n",
       "      <td>0</td>\n",
       "      <td>0</td>\n",
       "      <td>0</td>\n",
       "      <td>0</td>\n",
       "      <td>0</td>\n",
       "      <td>0</td>\n",
       "    </tr>\n",
       "    <tr>\n",
       "      <th>cgnc</th>\n",
       "      <td>26069</td>\n",
       "      <td>0</td>\n",
       "      <td>0</td>\n",
       "      <td>0</td>\n",
       "      <td>26075</td>\n",
       "      <td>0</td>\n",
       "      <td>0</td>\n",
       "      <td>0</td>\n",
       "      <td>0</td>\n",
       "      <td>0</td>\n",
       "      <td>0</td>\n",
       "      <td>0</td>\n",
       "      <td>1</td>\n",
       "    </tr>\n",
       "    <tr>\n",
       "      <th>wormbase</th>\n",
       "      <td>0</td>\n",
       "      <td>0</td>\n",
       "      <td>0</td>\n",
       "      <td>0</td>\n",
       "      <td>0</td>\n",
       "      <td>0</td>\n",
       "      <td>0</td>\n",
       "      <td>0</td>\n",
       "      <td>0</td>\n",
       "      <td>0</td>\n",
       "      <td>0</td>\n",
       "      <td>0</td>\n",
       "      <td>0</td>\n",
       "    </tr>\n",
       "    <tr>\n",
       "      <th>flybase</th>\n",
       "      <td>0</td>\n",
       "      <td>0</td>\n",
       "      <td>0</td>\n",
       "      <td>0</td>\n",
       "      <td>0</td>\n",
       "      <td>0</td>\n",
       "      <td>17870</td>\n",
       "      <td>0</td>\n",
       "      <td>0</td>\n",
       "      <td>0</td>\n",
       "      <td>0</td>\n",
       "      <td>0</td>\n",
       "      <td>0</td>\n",
       "    </tr>\n",
       "    <tr>\n",
       "      <th>sgd</th>\n",
       "      <td>0</td>\n",
       "      <td>0</td>\n",
       "      <td>0</td>\n",
       "      <td>0</td>\n",
       "      <td>0</td>\n",
       "      <td>0</td>\n",
       "      <td>0</td>\n",
       "      <td>6600</td>\n",
       "      <td>0</td>\n",
       "      <td>0</td>\n",
       "      <td>0</td>\n",
       "      <td>0</td>\n",
       "      <td>0</td>\n",
       "    </tr>\n",
       "    <tr>\n",
       "      <th>omim</th>\n",
       "      <td>18502</td>\n",
       "      <td>17785</td>\n",
       "      <td>0</td>\n",
       "      <td>0</td>\n",
       "      <td>0</td>\n",
       "      <td>0</td>\n",
       "      <td>0</td>\n",
       "      <td>0</td>\n",
       "      <td>27201</td>\n",
       "      <td>622</td>\n",
       "      <td>0</td>\n",
       "      <td>5847</td>\n",
       "      <td>28393</td>\n",
       "    </tr>\n",
       "    <tr>\n",
       "      <th>civic.gid</th>\n",
       "      <td>621</td>\n",
       "      <td>622</td>\n",
       "      <td>0</td>\n",
       "      <td>0</td>\n",
       "      <td>0</td>\n",
       "      <td>0</td>\n",
       "      <td>0</td>\n",
       "      <td>0</td>\n",
       "      <td>622</td>\n",
       "      <td>890</td>\n",
       "      <td>0</td>\n",
       "      <td>577</td>\n",
       "      <td>630</td>\n",
       "    </tr>\n",
       "    <tr>\n",
       "      <th>umls</th>\n",
       "      <td>0</td>\n",
       "      <td>0</td>\n",
       "      <td>0</td>\n",
       "      <td>0</td>\n",
       "      <td>0</td>\n",
       "      <td>0</td>\n",
       "      <td>0</td>\n",
       "      <td>0</td>\n",
       "      <td>0</td>\n",
       "      <td>0</td>\n",
       "      <td>1</td>\n",
       "      <td>0</td>\n",
       "      <td>0</td>\n",
       "    </tr>\n",
       "    <tr>\n",
       "      <th>ncit</th>\n",
       "      <td>5957</td>\n",
       "      <td>5978</td>\n",
       "      <td>0</td>\n",
       "      <td>0</td>\n",
       "      <td>0</td>\n",
       "      <td>0</td>\n",
       "      <td>0</td>\n",
       "      <td>0</td>\n",
       "      <td>5847</td>\n",
       "      <td>577</td>\n",
       "      <td>0</td>\n",
       "      <td>12711</td>\n",
       "      <td>6006</td>\n",
       "    </tr>\n",
       "    <tr>\n",
       "      <th>wikidata</th>\n",
       "      <td>788877</td>\n",
       "      <td>44599</td>\n",
       "      <td>71594</td>\n",
       "      <td>0</td>\n",
       "      <td>1</td>\n",
       "      <td>0</td>\n",
       "      <td>0</td>\n",
       "      <td>0</td>\n",
       "      <td>28393</td>\n",
       "      <td>630</td>\n",
       "      <td>0</td>\n",
       "      <td>6006</td>\n",
       "      <td>797967</td>\n",
       "    </tr>\n",
       "  </tbody>\n",
       "</table>\n",
       "</div>"
      ],
      "text/plain": [
       "target_prefix  ncbigene   hgnc     mgi    rgd   cgnc  wormbase  flybase   sgd  \\\n",
       "source_prefix                                                                   \n",
       "ncbigene       59499014  44328  111824  48327  26069         0        0     0   \n",
       "hgnc              44328  44071       0      0      0         0        0     0   \n",
       "mgi              111824      0  737779      0      0         0        0     0   \n",
       "rgd               48327      0       0  61335      0         0        0     0   \n",
       "cgnc              26069      0       0      0  26075         0        0     0   \n",
       "wormbase              0      0       0      0      0         0        0     0   \n",
       "flybase               0      0       0      0      0         0    17870     0   \n",
       "sgd                   0      0       0      0      0         0        0  6600   \n",
       "omim              18502  17785       0      0      0         0        0     0   \n",
       "civic.gid           621    622       0      0      0         0        0     0   \n",
       "umls                  0      0       0      0      0         0        0     0   \n",
       "ncit               5957   5978       0      0      0         0        0     0   \n",
       "wikidata         788877  44599   71594      0      1         0        0     0   \n",
       "\n",
       "target_prefix   omim  civic.gid  umls   ncit  wikidata  \n",
       "source_prefix                                           \n",
       "ncbigene       18502        621     0   5957    788877  \n",
       "hgnc           17785        622     0   5978     44599  \n",
       "mgi                0          0     0      0     71594  \n",
       "rgd                0          0     0      0         0  \n",
       "cgnc               0          0     0      0         1  \n",
       "wormbase           0          0     0      0         0  \n",
       "flybase            0          0     0      0         0  \n",
       "sgd                0          0     0      0         0  \n",
       "omim           27201        622     0   5847     28393  \n",
       "civic.gid        622        890     0    577       630  \n",
       "umls               0          0     1      0         0  \n",
       "ncit            5847        577     0  12711      6006  \n",
       "wikidata       28393        630     0   6006    797967  "
      ]
     },
     "metadata": {},
     "output_type": "display_data"
    },
    {
     "data": {
      "text/markdown": [
       "Below is an graph-based view on the processed mappings."
      ],
      "text/plain": [
       "<IPython.core.display.Markdown object>"
      ]
     },
     "metadata": {},
     "output_type": "display_data"
    },
    {
     "data": {
      "image/svg+xml": [
       "<svg xmlns=\"http://www.w3.org/2000/svg\" xmlns:xlink=\"http://www.w3.org/1999/xlink\" width=\"2326pt\" height=\"2840pt\" viewBox=\"0.00 0.00 2325.95 2839.50\">\n",
       "<g id=\"graph0\" class=\"graph\" transform=\"scale(1 1) rotate(0) translate(4 2835.5)\">\n",
       "<polygon fill=\"white\" stroke=\"none\" points=\"-4,4 -4,-2835.5 2321.95,-2835.5 2321.95,4 -4,4\"/>\n",
       "<!-- hgnc\n",
       "44,071 -->\n",
       "<g id=\"node1\" class=\"node\">\n",
       "<title>hgnc\n",
       "44,071</title>\n",
       "<ellipse fill=\"none\" stroke=\"black\" cx=\"37.83\" cy=\"-1143\" rx=\"37.83\" ry=\"28.99\"/>\n",
       "<text text-anchor=\"middle\" x=\"37.83\" y=\"-1146.2\" font-family=\"Times,serif\" font-size=\"14.00\">hgnc</text>\n",
       "<text text-anchor=\"middle\" x=\"37.83\" y=\"-1129.7\" font-family=\"Times,serif\" font-size=\"14.00\">44,071</text>\n",
       "</g>\n",
       "<!-- ccds -->\n",
       "<g id=\"node2\" class=\"node\">\n",
       "<title>ccds</title>\n",
       "<ellipse fill=\"none\" stroke=\"black\" cx=\"176.46\" cy=\"-1105\" rx=\"27.3\" ry=\"18\"/>\n",
       "<text text-anchor=\"middle\" x=\"176.46\" y=\"-1099.95\" font-family=\"Times,serif\" font-size=\"14.00\">ccds</text>\n",
       "</g>\n",
       "<!-- hgnc\n",
       "44,071&#45;&#45;ccds -->\n",
       "<g id=\"edge1\" class=\"edge\">\n",
       "<title>hgnc\n",
       "44,071--ccds</title>\n",
       "<path fill=\"none\" stroke=\"black\" d=\"M73.66,-1133.31C97.85,-1126.58 129.49,-1117.79 151.03,-1111.79\"/>\n",
       "<text text-anchor=\"middle\" x=\"112.41\" y=\"-1130.2\" font-family=\"Times,serif\" font-size=\"14.00\">16,543</text>\n",
       "</g>\n",
       "<!-- ena.embl -->\n",
       "<g id=\"node3\" class=\"node\">\n",
       "<title>ena.embl</title>\n",
       "<ellipse fill=\"none\" stroke=\"black\" cx=\"322.46\" cy=\"-1105\" rx=\"45.21\" ry=\"18\"/>\n",
       "<text text-anchor=\"middle\" x=\"322.46\" y=\"-1099.95\" font-family=\"Times,serif\" font-size=\"14.00\">ena.embl</text>\n",
       "</g>\n",
       "<!-- hgnc\n",
       "44,071&#45;&#45;ena.embl -->\n",
       "<g id=\"edge2\" class=\"edge\">\n",
       "<title>hgnc\n",
       "44,071--ena.embl</title>\n",
       "<path fill=\"none\" stroke=\"black\" d=\"M75.99,-1144.54C81.9,-1144.73 87.95,-1144.9 93.66,-1145 167.73,-1146.35 187.23,-1143.35 259.25,-1126 268.89,-1123.68 279.17,-1120.51 288.53,-1117.34\"/>\n",
       "<text text-anchor=\"middle\" x=\"176.46\" y=\"-1147.2\" font-family=\"Times,serif\" font-size=\"14.00\">20,684</text>\n",
       "</g>\n",
       "<!-- ensembl -->\n",
       "<g id=\"node4\" class=\"node\">\n",
       "<title>ensembl</title>\n",
       "<ellipse fill=\"none\" stroke=\"black\" cx=\"483.31\" cy=\"-1552\" rx=\"42.14\" ry=\"18\"/>\n",
       "<text text-anchor=\"middle\" x=\"483.31\" y=\"-1546.95\" font-family=\"Times,serif\" font-size=\"14.00\">ensembl</text>\n",
       "</g>\n",
       "<!-- hgnc\n",
       "44,071&#45;&#45;ensembl -->\n",
       "<g id=\"edge3\" class=\"edge\">\n",
       "<title>hgnc\n",
       "44,071--ensembl</title>\n",
       "<path fill=\"none\" stroke=\"black\" d=\"M39.13,-1172.31C41.03,-1345.71 52.73,-2231.01 93.66,-2270 137.75,-2312 321.35,-2309.52 367.67,-2270 477.88,-2176 482.62,-1673.49 482.42,-1570.47\"/>\n",
       "<text text-anchor=\"middle\" x=\"240.5\" y=\"-2303.2\" font-family=\"Times,serif\" font-size=\"14.00\">44,695</text>\n",
       "</g>\n",
       "<!-- iuphar.receptor -->\n",
       "<g id=\"node5\" class=\"node\">\n",
       "<title>iuphar.receptor</title>\n",
       "<ellipse fill=\"none\" stroke=\"black\" cx=\"665.66\" cy=\"-758\" rx=\"66.71\" ry=\"18\"/>\n",
       "<text text-anchor=\"middle\" x=\"665.66\" y=\"-752.95\" font-family=\"Times,serif\" font-size=\"14.00\">iuphar.receptor</text>\n",
       "</g>\n",
       "<!-- hgnc\n",
       "44,071&#45;&#45;iuphar.receptor -->\n",
       "<g id=\"edge4\" class=\"edge\">\n",
       "<title>hgnc\n",
       "44,071--iuphar.receptor</title>\n",
       "<path fill=\"none\" stroke=\"black\" d=\"M38.96,-1113.88C39.82,-988.56 46.19,-499.41 93.66,-452 216.97,-328.85 532.85,-518.01 580.95,-564 633.18,-613.94 654.59,-701.9 661.69,-739.79\"/>\n",
       "<text text-anchor=\"middle\" x=\"322.46\" y=\"-448.2\" font-family=\"Times,serif\" font-size=\"14.00\">3,098</text>\n",
       "</g>\n",
       "<!-- ncbigene\n",
       "59,499,014 -->\n",
       "<g id=\"node6\" class=\"node\">\n",
       "<title>ncbigene\n",
       "59,499,014</title>\n",
       "<ellipse fill=\"none\" stroke=\"black\" cx=\"860.66\" cy=\"-1806\" rx=\"54.8\" ry=\"28.99\"/>\n",
       "<text text-anchor=\"middle\" x=\"860.66\" y=\"-1809.2\" font-family=\"Times,serif\" font-size=\"14.00\">ncbigene</text>\n",
       "<text text-anchor=\"middle\" x=\"860.66\" y=\"-1792.7\" font-family=\"Times,serif\" font-size=\"14.00\">59,499,014</text>\n",
       "</g>\n",
       "<!-- hgnc\n",
       "44,071&#45;&#45;ncbigene\n",
       "59,499,014 -->\n",
       "<g id=\"edge5\" class=\"edge\">\n",
       "<title>hgnc\n",
       "44,071--ncbigene\n",
       "59,499,014</title>\n",
       "<path fill=\"none\" stroke=\"black\" d=\"M38.78,-1172.46C38.67,-1342.15 40.81,-2190.8 93.66,-2293 114.86,-2334 129.3,-2357 175.46,-2357 175.46,-2357 175.46,-2357 405.42,-2357 586.12,-2357 677.25,-2361.89 787.86,-2219 814.23,-2184.94 798.73,-2068.48 805.86,-2026 817.52,-1956.59 839.18,-1876.69 851.15,-1834.9\"/>\n",
       "<text text-anchor=\"middle\" x=\"404.42\" y=\"-2360.2\" font-family=\"Times,serif\" font-size=\"14.00\">44,328</text>\n",
       "</g>\n",
       "<!-- omim\n",
       "27,201 -->\n",
       "<g id=\"node7\" class=\"node\">\n",
       "<title>omim\n",
       "27,201</title>\n",
       "<ellipse fill=\"none\" stroke=\"black\" cx=\"1038.32\" cy=\"-1376\" rx=\"37.83\" ry=\"28.99\"/>\n",
       "<text text-anchor=\"middle\" x=\"1038.32\" y=\"-1379.2\" font-family=\"Times,serif\" font-size=\"14.00\">omim</text>\n",
       "<text text-anchor=\"middle\" x=\"1038.32\" y=\"-1362.7\" font-family=\"Times,serif\" font-size=\"14.00\">27,201</text>\n",
       "</g>\n",
       "<!-- hgnc\n",
       "44,071&#45;&#45;omim\n",
       "27,201 -->\n",
       "<g id=\"edge6\" class=\"edge\">\n",
       "<title>hgnc\n",
       "44,071--omim\n",
       "27,201</title>\n",
       "<path fill=\"none\" stroke=\"black\" d=\"M50.5,-1170.37C78.7,-1232.5 157.22,-1383.31 277.25,-1441 313.47,-1458.41 327.62,-1444.27 367.67,-1441 471.5,-1432.53 495.44,-1414.66 598.95,-1403 747.08,-1386.31 924.62,-1379.37 1000.26,-1377.02\"/>\n",
       "<text text-anchor=\"middle\" x=\"483.31\" y=\"-1434.2\" font-family=\"Times,serif\" font-size=\"14.00\">17,785</text>\n",
       "</g>\n",
       "<!-- refseq -->\n",
       "<g id=\"node8\" class=\"node\">\n",
       "<title>refseq</title>\n",
       "<ellipse fill=\"none\" stroke=\"black\" cx=\"1187.86\" cy=\"-1376\" rx=\"33.44\" ry=\"18\"/>\n",
       "<text text-anchor=\"middle\" x=\"1187.86\" y=\"-1370.95\" font-family=\"Times,serif\" font-size=\"14.00\">refseq</text>\n",
       "</g>\n",
       "<!-- hgnc\n",
       "44,071&#45;&#45;refseq -->\n",
       "<g id=\"edge7\" class=\"edge\">\n",
       "<title>hgnc\n",
       "44,071--refseq</title>\n",
       "<path fill=\"none\" stroke=\"black\" d=\"M44.2,-1114.15C61.39,-1030.3 123.26,-785.06 277.25,-666 364.96,-598.19 415.16,-629.69 525.45,-641 625.21,-651.23 644.03,-683.51 732.36,-731 946.83,-846.3 1033.71,-880.22 1136.42,-1101 1178.19,-1190.78 1185.42,-1312.1 1186.63,-1357.68\"/>\n",
       "<text text-anchor=\"middle\" x=\"562.2\" y=\"-654.2\" font-family=\"Times,serif\" font-size=\"14.00\">42,273</text>\n",
       "</g>\n",
       "<!-- ucsc -->\n",
       "<g id=\"node9\" class=\"node\">\n",
       "<title>ucsc</title>\n",
       "<ellipse fill=\"none\" stroke=\"black\" cx=\"1322.09\" cy=\"-1762\" rx=\"27.3\" ry=\"18\"/>\n",
       "<text text-anchor=\"middle\" x=\"1322.09\" y=\"-1756.95\" font-family=\"Times,serif\" font-size=\"14.00\">ucsc</text>\n",
       "</g>\n",
       "<!-- hgnc\n",
       "44,071&#45;&#45;ucsc -->\n",
       "<g id=\"edge8\" class=\"edge\">\n",
       "<title>hgnc\n",
       "44,071--ucsc</title>\n",
       "<path fill=\"none\" stroke=\"black\" d=\"M39.09,-1172.45C40.77,-1344.95 51.31,-2220.64 93.66,-2332 114.19,-2385.99 117.69,-2433 175.46,-2433 175.46,-2433 175.46,-2433 563.2,-2433 795.22,-2433 886.33,-2492.36 1080.92,-2366 1118.38,-2341.68 1243.78,-2054.97 1276.8,-1948 1289.08,-1908.19 1285.18,-1896.54 1294.8,-1856 1301.13,-1829.29 1309.98,-1798.74 1315.62,-1779.91\"/>\n",
       "<text text-anchor=\"middle\" x=\"665.66\" y=\"-2444.2\" font-family=\"Times,serif\" font-size=\"14.00\">24,301</text>\n",
       "</g>\n",
       "<!-- vega -->\n",
       "<g id=\"node10\" class=\"node\">\n",
       "<title>vega</title>\n",
       "<ellipse fill=\"none\" stroke=\"black\" cx=\"1457.96\" cy=\"-1421\" rx=\"28.32\" ry=\"18\"/>\n",
       "<text text-anchor=\"middle\" x=\"1457.96\" y=\"-1415.95\" font-family=\"Times,serif\" font-size=\"14.00\">vega</text>\n",
       "</g>\n",
       "<!-- hgnc\n",
       "44,071&#45;&#45;vega -->\n",
       "<g id=\"edge9\" class=\"edge\">\n",
       "<title>hgnc\n",
       "44,071--vega</title>\n",
       "<path fill=\"none\" stroke=\"black\" d=\"M39.4,-1172.26C42.91,-1348.67 62.6,-2266.84 93.66,-2388 114.08,-2467.67 93.21,-2554 175.46,-2554 175.46,-2554 175.46,-2554 563.2,-2554 803.01,-2554 877.96,-2529.74 1080.92,-2402 1182.78,-2337.89 1225.63,-2323.94 1276.8,-2215 1301.23,-2162.98 1265.16,-2006.24 1294.8,-1957 1309.53,-1932.51 1332.46,-1946.03 1349.39,-1923 1414.65,-1834.2 1392.11,-1791.45 1411.64,-1683 1425.49,-1606.05 1413.85,-1584.58 1429.64,-1508 1434.69,-1483.5 1443.91,-1456.1 1450.23,-1438.72\"/>\n",
       "<text text-anchor=\"middle\" x=\"769.11\" y=\"-2547.2\" font-family=\"Times,serif\" font-size=\"14.00\">32,363</text>\n",
       "</g>\n",
       "<!-- orphanet -->\n",
       "<g id=\"node11\" class=\"node\">\n",
       "<title>orphanet</title>\n",
       "<ellipse fill=\"none\" stroke=\"black\" cx=\"1620.95\" cy=\"-827\" rx=\"43.16\" ry=\"18\"/>\n",
       "<text text-anchor=\"middle\" x=\"1620.95\" y=\"-821.95\" font-family=\"Times,serif\" font-size=\"14.00\">orphanet</text>\n",
       "</g>\n",
       "<!-- hgnc\n",
       "44,071&#45;&#45;orphanet -->\n",
       "<g id=\"edge10\" class=\"edge\">\n",
       "<title>hgnc\n",
       "44,071--orphanet</title>\n",
       "<path fill=\"none\" stroke=\"black\" d=\"M38.95,-1113.6C39.76,-995.15 45.99,-553.07 93.66,-423 114.99,-364.79 113.46,-310 175.46,-310 175.46,-310 175.46,-310 405.42,-310 779.41,-310 880.86,-361.18 1221.3,-516 1373.78,-585.34 1431.6,-583.05 1548.53,-703 1579.74,-735.02 1602.37,-783.32 1613.06,-809.17\"/>\n",
       "<text text-anchor=\"middle\" x=\"860.66\" y=\"-387.2\" font-family=\"Times,serif\" font-size=\"14.00\">4,418</text>\n",
       "</g>\n",
       "<!-- lrg -->\n",
       "<g id=\"node12\" class=\"node\">\n",
       "<title>lrg</title>\n",
       "<ellipse fill=\"none\" stroke=\"black\" cx=\"176.46\" cy=\"-1051\" rx=\"27\" ry=\"18\"/>\n",
       "<text text-anchor=\"middle\" x=\"176.46\" y=\"-1045.95\" font-family=\"Times,serif\" font-size=\"14.00\">lrg</text>\n",
       "</g>\n",
       "<!-- hgnc\n",
       "44,071&#45;&#45;lrg -->\n",
       "<g id=\"edge11\" class=\"edge\">\n",
       "<title>hgnc\n",
       "44,071--lrg</title>\n",
       "<path fill=\"none\" stroke=\"black\" d=\"M63.22,-1121.2C72.47,-1113.35 83.28,-1104.67 93.66,-1097.5 113.41,-1083.85 137.45,-1070.54 154.34,-1061.69\"/>\n",
       "<text text-anchor=\"middle\" x=\"112.41\" y=\"-1100.2\" font-family=\"Times,serif\" font-size=\"14.00\">1,325</text>\n",
       "</g>\n",
       "<!-- cosmic -->\n",
       "<g id=\"node13\" class=\"node\">\n",
       "<title>cosmic</title>\n",
       "<ellipse fill=\"none\" stroke=\"black\" cx=\"1808.41\" cy=\"-898\" rx=\"37.53\" ry=\"18\"/>\n",
       "<text text-anchor=\"middle\" x=\"1808.41\" y=\"-892.95\" font-family=\"Times,serif\" font-size=\"14.00\">cosmic</text>\n",
       "</g>\n",
       "<!-- hgnc\n",
       "44,071&#45;&#45;cosmic -->\n",
       "<g id=\"edge12\" class=\"edge\">\n",
       "<title>hgnc\n",
       "44,071--cosmic</title>\n",
       "<path fill=\"none\" stroke=\"black\" d=\"M39.02,-1113.66C40.13,-985.61 47.4,-475.4 93.66,-323 114.81,-253.31 102.62,-181 175.46,-181 175.46,-181 175.46,-181 770.11,-181 978.75,-181 1525.13,-285.23 1675.37,-430 1716.53,-469.66 1716.71,-490.63 1730.87,-546 1739.97,-581.58 1727.15,-846.39 1748.87,-876 1754.59,-883.79 1763.41,-888.82 1772.48,-892.08\"/>\n",
       "<text text-anchor=\"middle\" x=\"955.59\" y=\"-203.2\" font-family=\"Times,serif\" font-size=\"14.00\">569</text>\n",
       "</g>\n",
       "<!-- pseudogene -->\n",
       "<g id=\"node14\" class=\"node\">\n",
       "<title>pseudogene</title>\n",
       "<ellipse fill=\"none\" stroke=\"black\" cx=\"1620.95\" cy=\"-2411\" rx=\"54.42\" ry=\"18\"/>\n",
       "<text text-anchor=\"middle\" x=\"1620.95\" y=\"-2405.95\" font-family=\"Times,serif\" font-size=\"14.00\">pseudogene</text>\n",
       "</g>\n",
       "<!-- hgnc\n",
       "44,071&#45;&#45;pseudogene -->\n",
       "<g id=\"edge13\" class=\"edge\">\n",
       "<title>hgnc\n",
       "44,071--pseudogene</title>\n",
       "<path fill=\"none\" stroke=\"black\" d=\"M38.8,-1172.19C38.73,-1368.23 40.67,-2489.7 93.66,-2631 113.94,-2685.09 117.69,-2732 175.46,-2732 175.46,-2732 175.46,-2732 770.11,-2732 1055.49,-2732 1140.5,-2794 1411.64,-2705 1443.2,-2694.64 1526.45,-2669.82 1548.53,-2645 1605.55,-2580.89 1617.05,-2472.26 1619.37,-2429.29\"/>\n",
       "<text text-anchor=\"middle\" x=\"860.66\" y=\"-2740.2\" font-family=\"Times,serif\" font-size=\"14.00\">8,507</text>\n",
       "</g>\n",
       "<!-- iuphar.ligand -->\n",
       "<g id=\"node15\" class=\"node\">\n",
       "<title>iuphar.ligand</title>\n",
       "<ellipse fill=\"none\" stroke=\"black\" cx=\"1808.41\" cy=\"-1617\" rx=\"59.54\" ry=\"18\"/>\n",
       "<text text-anchor=\"middle\" x=\"1808.41\" y=\"-1611.95\" font-family=\"Times,serif\" font-size=\"14.00\">iuphar.ligand</text>\n",
       "</g>\n",
       "<!-- hgnc\n",
       "44,071&#45;&#45;iuphar.ligand -->\n",
       "<g id=\"edge14\" class=\"edge\">\n",
       "<title>hgnc\n",
       "44,071--iuphar.ligand</title>\n",
       "<path fill=\"none\" stroke=\"black\" d=\"M39.14,-1172.29C41.18,-1356.25 53.99,-2348.47 93.66,-2477 171.28,-2728.53 343.23,-2723.55 598.95,-2786 805.47,-2836.44 1397.24,-2819.35 1548.53,-2670 1798.65,-2423.08 1689.83,-2251.47 1748.87,-1905 1766.36,-1802.39 1793.15,-1680.43 1803.31,-1635.12\"/>\n",
       "<text text-anchor=\"middle\" x=\"955.59\" y=\"-2814.2\" font-family=\"Times,serif\" font-size=\"14.00\">463</text>\n",
       "</g>\n",
       "<!-- lncipedia -->\n",
       "<g id=\"node16\" class=\"node\">\n",
       "<title>lncipedia</title>\n",
       "<ellipse fill=\"none\" stroke=\"black\" cx=\"1620.95\" cy=\"-2077\" rx=\"44.7\" ry=\"18\"/>\n",
       "<text text-anchor=\"middle\" x=\"1620.95\" y=\"-2071.95\" font-family=\"Times,serif\" font-size=\"14.00\">lncipedia</text>\n",
       "</g>\n",
       "<!-- hgnc\n",
       "44,071&#45;&#45;lncipedia -->\n",
       "<g id=\"edge15\" class=\"edge\">\n",
       "<title>hgnc\n",
       "44,071--lncipedia</title>\n",
       "<path fill=\"none\" stroke=\"black\" d=\"M38.96,-1172.26C40,-1373.57 47.99,-2547.33 93.66,-2606 116.93,-2635.9 137.57,-2630 175.46,-2630 175.46,-2630 175.46,-2630 563.2,-2630 794.84,-2630 866.77,-2658.29 1080.92,-2570 1203.42,-2519.49 1481.4,-2314.25 1548.53,-2200 1571.41,-2161.07 1538.44,-2135.36 1566.53,-2100 1570.92,-2094.46 1576.91,-2090.24 1583.29,-2087.02\"/>\n",
       "<text text-anchor=\"middle\" x=\"860.66\" y=\"-2636.2\" font-family=\"Times,serif\" font-size=\"14.00\">2,433</text>\n",
       "</g>\n",
       "<!-- civic.gid\n",
       "890 -->\n",
       "<g id=\"node17\" class=\"node\">\n",
       "<title>civic.gid\n",
       "890</title>\n",
       "<ellipse fill=\"none\" stroke=\"black\" cx=\"1986.18\" cy=\"-973\" rx=\"44.72\" ry=\"28.99\"/>\n",
       "<text text-anchor=\"middle\" x=\"1986.18\" y=\"-976.2\" font-family=\"Times,serif\" font-size=\"14.00\">civic.gid</text>\n",
       "<text text-anchor=\"middle\" x=\"1986.18\" y=\"-959.7\" font-family=\"Times,serif\" font-size=\"14.00\">890</text>\n",
       "</g>\n",
       "<!-- hgnc\n",
       "44,071&#45;&#45;civic.gid\n",
       "890 -->\n",
       "<g id=\"edge16\" class=\"edge\">\n",
       "<title>hgnc\n",
       "44,071--civic.gid\n",
       "890</title>\n",
       "<path fill=\"none\" stroke=\"black\" d=\"M39.48,-1113.63C42.96,-963.19 60.44,-282.68 93.66,-195 114.49,-140.01 116.65,-91 175.46,-91 175.46,-91 175.46,-91 956.59,-91 1379.68,-91 1632.23,-14.66 1867.95,-366 1994.08,-553.98 1890.7,-649.39 1941.45,-870 1947.6,-896.69 1960.24,-925.23 1970.35,-945.48\"/>\n",
       "<text text-anchor=\"middle\" x=\"1038.32\" y=\"-94.2\" font-family=\"Times,serif\" font-size=\"14.00\">622</text>\n",
       "</g>\n",
       "<!-- ncit\n",
       "12,711 -->\n",
       "<g id=\"node18\" class=\"node\">\n",
       "<title>ncit\n",
       "12,711</title>\n",
       "<ellipse fill=\"none\" stroke=\"black\" cx=\"2124.98\" cy=\"-1306\" rx=\"37.83\" ry=\"28.99\"/>\n",
       "<text text-anchor=\"middle\" x=\"2124.98\" y=\"-1309.2\" font-family=\"Times,serif\" font-size=\"14.00\">ncit</text>\n",
       "<text text-anchor=\"middle\" x=\"2124.98\" y=\"-1292.7\" font-family=\"Times,serif\" font-size=\"14.00\">12,711</text>\n",
       "</g>\n",
       "<!-- hgnc\n",
       "44,071&#45;&#45;ncit\n",
       "12,711 -->\n",
       "<g id=\"edge17\" class=\"edge\">\n",
       "<title>hgnc\n",
       "44,071--ncit\n",
       "12,711</title>\n",
       "<path fill=\"none\" stroke=\"black\" d=\"M38.89,-1113.57C39.43,-953.94 44.58,-195.85 93.66,-105 115.09,-65.33 130.37,-45 175.46,-45 175.46,-45 175.46,-45 1259.05,-45 1618.56,-45 1874.22,36.58 2030.9,-287 2121.66,-474.43 2057.03,-546.1 2069.15,-754 2072.5,-811.49 2063.14,-1219.65 2087.15,-1272 2089.55,-1277.22 2093.16,-1282.01 2097.19,-1286.24\"/>\n",
       "<text text-anchor=\"middle\" x=\"1117.67\" y=\"-48.2\" font-family=\"Times,serif\" font-size=\"14.00\">5,978</text>\n",
       "</g>\n",
       "<!-- wikidata\n",
       "797,967 -->\n",
       "<g id=\"node19\" class=\"node\">\n",
       "<title>wikidata\n",
       "797,967</title>\n",
       "<ellipse fill=\"none\" stroke=\"black\" cx=\"2273.76\" cy=\"-1882\" rx=\"44.19\" ry=\"28.99\"/>\n",
       "<text text-anchor=\"middle\" x=\"2273.76\" y=\"-1885.2\" font-family=\"Times,serif\" font-size=\"14.00\">wikidata</text>\n",
       "<text text-anchor=\"middle\" x=\"2273.76\" y=\"-1868.7\" font-family=\"Times,serif\" font-size=\"14.00\">797,967</text>\n",
       "</g>\n",
       "<!-- hgnc\n",
       "44,071&#45;&#45;wikidata\n",
       "797,967 -->\n",
       "<g id=\"edge18\" class=\"edge\">\n",
       "<title>hgnc\n",
       "44,071--wikidata\n",
       "797,967</title>\n",
       "<path fill=\"none\" stroke=\"black\" d=\"M38.73,-1113.67C38.35,-949.39 39.33,-147.23 93.66,-53 115.3,-15.47 132.14,0 175.46,0 175.46,0 175.46,0 2125.98,0 2178.91,0 2188.48,-130.08 2211.56,-316 2250.53,-629.89 2269.19,-1665.32 2272.29,-1852.77\"/>\n",
       "<text text-anchor=\"middle\" x=\"1187.86\" y=\"-3.2\" font-family=\"Times,serif\" font-size=\"14.00\">44,599</text>\n",
       "</g>\n",
       "<!-- ccds&#45;&#45;ena.embl -->\n",
       "<g id=\"edge19\" class=\"edge\">\n",
       "<title>ccds--ena.embl</title>\n",
       "<path fill=\"none\" stroke=\"black\" d=\"M204.21,-1105C224.62,-1105 253.2,-1105 277.03,-1105\"/>\n",
       "<text text-anchor=\"middle\" x=\"240.5\" y=\"-1108.2\" font-family=\"Times,serif\" font-size=\"14.00\">8,240</text>\n",
       "</g>\n",
       "<!-- ccds&#45;&#45;ensembl -->\n",
       "<g id=\"edge20\" class=\"edge\">\n",
       "<title>ccds--ensembl</title>\n",
       "<path fill=\"none\" stroke=\"black\" d=\"M193.18,-1119.57C197.1,-1123.89 200.98,-1128.85 203.75,-1134 218.99,-1162.28 207.86,-1175.04 221.75,-1204 289.8,-1345.89 419.84,-1487.49 465.76,-1535.16\"/>\n",
       "<text text-anchor=\"middle\" x=\"322.46\" y=\"-1423.2\" font-family=\"Times,serif\" font-size=\"14.00\">11,944</text>\n",
       "</g>\n",
       "<!-- ccds&#45;&#45;iuphar.receptor -->\n",
       "<g id=\"edge21\" class=\"edge\">\n",
       "<title>ccds--iuphar.receptor</title>\n",
       "<path fill=\"none\" stroke=\"black\" d=\"M194.48,-1090.97C198.11,-1087.14 201.52,-1082.73 203.75,-1078 234.7,-1012.5 197.62,-984.3 221.75,-916 266.83,-788.44 267.01,-724.49 385.67,-659.5 477.13,-609.41 598.96,-700.7 645.49,-740.64\"/>\n",
       "<text text-anchor=\"middle\" x=\"404.42\" y=\"-663.2\" font-family=\"Times,serif\" font-size=\"14.00\">1,509</text>\n",
       "</g>\n",
       "<!-- ccds&#45;&#45;ncbigene\n",
       "59,499,014 -->\n",
       "<g id=\"edge22\" class=\"edge\">\n",
       "<title>ccds--ncbigene\n",
       "59,499,014</title>\n",
       "<path fill=\"none\" stroke=\"black\" d=\"M193.51,-1119.4C197.44,-1123.72 201.23,-1128.73 203.75,-1134 226.06,-1180.67 210.55,-1198.49 221.75,-1249 281.6,-1518.75 319.67,-1618.92 543.45,-1781 632.78,-1845.7 678.4,-1837.51 787.86,-1824 795.77,-1823.02 804.06,-1821.46 812.08,-1819.66\"/>\n",
       "<text text-anchor=\"middle\" x=\"483.31\" y=\"-1769.2\" font-family=\"Times,serif\" font-size=\"14.00\">10,615</text>\n",
       "</g>\n",
       "<!-- ccds&#45;&#45;omim\n",
       "27,201 -->\n",
       "<g id=\"edge23\" class=\"edge\">\n",
       "<title>ccds--omim\n",
       "27,201</title>\n",
       "<path fill=\"none\" stroke=\"black\" d=\"M198.81,-1115.9C206,-1119.36 214.13,-1123.05 221.75,-1126 292.78,-1153.5 310.34,-1164.77 385.67,-1176 473.34,-1189.07 493.91,-1118.77 580.95,-1135.5 738.15,-1165.71 779.01,-1185.31 915.46,-1269 954.1,-1292.7 992.34,-1328.91 1015.39,-1352.52\"/>\n",
       "<text text-anchor=\"middle\" x=\"562.2\" y=\"-1138.2\" font-family=\"Times,serif\" font-size=\"14.00\">8,615</text>\n",
       "</g>\n",
       "<!-- ccds&#45;&#45;refseq -->\n",
       "<g id=\"edge24\" class=\"edge\">\n",
       "<title>ccds--refseq</title>\n",
       "<path fill=\"none\" stroke=\"black\" d=\"M198.96,-1094.43C236,-1076.86 314.7,-1042.39 385.67,-1030 496.23,-1010.7 489.86,-1019.03 732.36,-1093.5 766.17,-1103.88 772.31,-1112.82 805.86,-1124 853.56,-1139.9 868.58,-1133.84 915.46,-1152 993.13,-1182.08 1016.55,-1187.14 1080.92,-1240 1111.07,-1264.76 1112.46,-1277.21 1136.42,-1308 1149.78,-1325.17 1164.55,-1345.21 1174.64,-1359.07\"/>\n",
       "<text text-anchor=\"middle\" x=\"665.66\" y=\"-1096.2\" font-family=\"Times,serif\" font-size=\"14.00\">10,592</text>\n",
       "</g>\n",
       "<!-- ccds&#45;&#45;ucsc -->\n",
       "<g id=\"edge25\" class=\"edge\">\n",
       "<title>ccds--ucsc</title>\n",
       "<path fill=\"none\" stroke=\"black\" d=\"M194,-1119.19C197.93,-1123.51 201.6,-1128.57 203.75,-1134 225.38,-1188.66 193.98,-2140.19 221.75,-2192 224.37,-2196.87 380.45,-2303.19 385.67,-2305 458.79,-2330.28 1023.22,-2394.54 1080.92,-2343 1107.44,-2319.31 1087.16,-2217.56 1098.92,-2184 1148.03,-2043.79 1214.22,-2035.74 1276.8,-1901 1296.11,-1859.42 1310.25,-1807.15 1316.89,-1780.1\"/>\n",
       "<text text-anchor=\"middle\" x=\"769.11\" y=\"-2359.2\" font-family=\"Times,serif\" font-size=\"14.00\">10,084</text>\n",
       "</g>\n",
       "<!-- ccds&#45;&#45;vega -->\n",
       "<g id=\"edge26\" class=\"edge\">\n",
       "<title>ccds--vega</title>\n",
       "<path fill=\"none\" stroke=\"black\" d=\"M192.47,-1090.12C196.23,-1086.24 200.21,-1082.03 203.75,-1078 259.3,-1014.93 237.42,-930 321.46,-930 321.46,-930 321.46,-930 563.2,-930 821.37,-930 907.78,-904.11 1136.42,-1024 1187.43,-1050.75 1348.54,-1224.18 1411.64,-1323 1422.57,-1340.12 1421.18,-1346.53 1429.64,-1365 1435.67,-1378.18 1442.88,-1392.91 1448.37,-1403.95\"/>\n",
       "<text text-anchor=\"middle\" x=\"860.66\" y=\"-942.2\" font-family=\"Times,serif\" font-size=\"14.00\">10,534</text>\n",
       "</g>\n",
       "<!-- ccds&#45;&#45;orphanet -->\n",
       "<g id=\"edge27\" class=\"edge\">\n",
       "<title>ccds--orphanet</title>\n",
       "<path fill=\"none\" stroke=\"black\" d=\"M194.64,-1091.04C198.26,-1087.21 201.63,-1082.78 203.75,-1078 228.91,-1021.43 207.72,-860.3 221.75,-800 236.37,-737.22 227.68,-707.21 277.25,-666 315.13,-634.51 336.78,-649.02 385.67,-643 871.73,-583.14 1050.36,-472.84 1486.28,-696 1540.37,-723.69 1586.76,-780.83 1607.84,-809.61\"/>\n",
       "<text text-anchor=\"middle\" x=\"955.59\" y=\"-568.2\" font-family=\"Times,serif\" font-size=\"14.00\">2,037</text>\n",
       "</g>\n",
       "<!-- ccds&#45;&#45;cosmic -->\n",
       "<g id=\"edge28\" class=\"edge\">\n",
       "<title>ccds--cosmic</title>\n",
       "<path fill=\"none\" stroke=\"black\" d=\"M194.7,-1091.07C198.32,-1087.24 201.67,-1082.8 203.75,-1078 238.94,-996.76 190.25,-762.74 221.75,-680 249.26,-607.75 372.88,-446.24 441.17,-410 550.45,-352.02 872.32,-370.3 995.71,-361.5 1180.32,-348.34 1236.14,-282.22 1411.64,-341 1499.06,-370.28 1696.43,-520.48 1730.87,-606 1753.34,-661.78 1713.01,-827.73 1748.87,-876 1754.64,-883.76 1763.47,-888.78 1772.54,-892.03\"/>\n",
       "<text text-anchor=\"middle\" x=\"1038.32\" y=\"-365.2\" font-family=\"Times,serif\" font-size=\"14.00\">212</text>\n",
       "</g>\n",
       "<!-- ccds&#45;&#45;pseudogene -->\n",
       "<g id=\"edge29\" class=\"edge\">\n",
       "<title>ccds--pseudogene</title>\n",
       "<path fill=\"none\" stroke=\"black\" d=\"M194,-1119.19C197.93,-1123.51 201.6,-1128.56 203.75,-1134 248.01,-1245.92 176.47,-2105.49 221.75,-2217 233.19,-2245.18 290.76,-2329.09 441.17,-2447 586.83,-2561.18 630.19,-2589.76 805.86,-2648 933.87,-2690.43 1290.77,-2743.81 1411.64,-2684 1523.58,-2628.61 1591.82,-2481.05 1612.91,-2429.27\"/>\n",
       "<text text-anchor=\"middle\" x=\"955.59\" y=\"-2690.2\" font-family=\"Times,serif\" font-size=\"14.00\">65</text>\n",
       "</g>\n",
       "<!-- ccds&#45;&#45;iuphar.ligand -->\n",
       "<g id=\"edge30\" class=\"edge\">\n",
       "<title>ccds--iuphar.ligand</title>\n",
       "<path fill=\"none\" stroke=\"black\" d=\"M193.75,-1119.3C197.68,-1123.61 201.41,-1128.64 203.75,-1134 240.22,-1217.39 206.38,-1248.29 221.75,-1338 238.5,-1435.69 240.58,-1461.91 277.25,-1554 386.3,-1827.86 391.05,-1925.03 598.95,-2134 733.17,-2268.91 807.55,-2266.52 995.71,-2295 1033.16,-2300.67 1051.89,-2319.32 1080.92,-2295 1115.88,-2265.72 1065.1,-2224.58 1098.92,-2194 1119.62,-2175.28 1322.34,-2181.88 1349.39,-2175 1378.79,-2167.52 1392.81,-2170.79 1411.64,-2147 1437.77,-2113.99 1410.71,-2091.61 1429.64,-2054 1449.15,-2015.24 1661.2,-1795.11 1693.37,-1766 1708.8,-1752.05 1717.34,-1753.8 1730.87,-1738 1741.99,-1725.01 1740.09,-1718.67 1748.87,-1704 1763.56,-1679.48 1782.25,-1652.31 1794.51,-1634.97\"/>\n",
       "<text text-anchor=\"middle\" x=\"1038.32\" y=\"-2310.2\" font-family=\"Times,serif\" font-size=\"14.00\">302</text>\n",
       "</g>\n",
       "<!-- ccds&#45;&#45;civic.gid\n",
       "890 -->\n",
       "<g id=\"edge31\" class=\"edge\">\n",
       "<title>ccds--civic.gid\n",
       "890</title>\n",
       "<path fill=\"none\" stroke=\"black\" d=\"M194.73,-1091.08C198.35,-1087.25 201.69,-1082.81 203.75,-1078 224.36,-1029.97 212.82,-659.49 221.75,-608 231.23,-553.36 244.27,-542.39 259.25,-489 268.28,-456.83 253.26,-439.26 277.25,-416 389.73,-307 1027.67,-323.99 1098.92,-319.5 1354.68,-303.37 1440.01,-231.62 1675.37,-333 1829.3,-399.3 1870.82,-457.88 1923.45,-617 1962.26,-734.32 1977.9,-881.89 1983.04,-943.68\"/>\n",
       "<text text-anchor=\"middle\" x=\"1117.67\" y=\"-323.2\" font-family=\"Times,serif\" font-size=\"14.00\">250</text>\n",
       "</g>\n",
       "<!-- ccds&#45;&#45;ncit\n",
       "12,711 -->\n",
       "<g id=\"edge32\" class=\"edge\">\n",
       "<title>ccds--ncit\n",
       "12,711</title>\n",
       "<path fill=\"none\" stroke=\"black\" d=\"M194.75,-1091.09C198.37,-1087.26 201.71,-1082.82 203.75,-1078 229.21,-1018.04 207.07,-555.47 221.75,-492 235.27,-433.57 231.02,-407.2 277.25,-369 277.25,-369 977.71,-202 977.71,-202 993.25,-188.92 979.36,-172.04 995.71,-160 1052.82,-117.95 1083.77,-149.7 1154.42,-143.5 1385.44,-123.23 1451.11,-54.94 1675.37,-114 2060.14,-215.34 2009.32,-524.63 2069.15,-918 2081,-995.87 2053.74,-1200.67 2087.15,-1272 2089.59,-1277.2 2093.22,-1281.98 2097.26,-1286.21\"/>\n",
       "<text text-anchor=\"middle\" x=\"1187.86\" y=\"-147.2\" font-family=\"Times,serif\" font-size=\"14.00\">2,762</text>\n",
       "</g>\n",
       "<!-- ccds&#45;&#45;wikidata\n",
       "797,967 -->\n",
       "<g id=\"edge33\" class=\"edge\">\n",
       "<title>ccds--wikidata\n",
       "797,967</title>\n",
       "<path fill=\"none\" stroke=\"black\" d=\"M194.01,-1119.19C197.94,-1123.51 201.61,-1128.56 203.75,-1134 227.9,-1195.19 192.68,-2258.99 221.75,-2318 256.72,-2388.98 724.08,-2725.53 805.86,-2758 899.79,-2795.29 1155.99,-2815 1257.05,-2815 1257.05,-2815 1257.05,-2815 2125.98,-2815 2180.54,-2815 2192.26,-2778.03 2211.56,-2727 2269.85,-2572.92 2272.99,-2041.53 2272.86,-1911.09\"/>\n",
       "<text text-anchor=\"middle\" x=\"1258.05\" y=\"-2818.2\" font-family=\"Times,serif\" font-size=\"14.00\">10,647</text>\n",
       "</g>\n",
       "<!-- ena.embl&#45;&#45;ensembl -->\n",
       "<g id=\"edge34\" class=\"edge\">\n",
       "<title>ena.embl--ensembl</title>\n",
       "<path fill=\"none\" stroke=\"black\" d=\"M331.32,-1122.93C348.99,-1163.64 392.72,-1266.31 423.17,-1354.5 432.47,-1381.42 433.05,-1388.7 441.17,-1416 453.77,-1458.32 468.86,-1507.95 476.8,-1533.98\"/>\n",
       "<text text-anchor=\"middle\" x=\"404.42\" y=\"-1357.2\" font-family=\"Times,serif\" font-size=\"14.00\">20,207</text>\n",
       "</g>\n",
       "<!-- ena.embl&#45;&#45;iuphar.receptor -->\n",
       "<g id=\"edge35\" class=\"edge\">\n",
       "<title>ena.embl--iuphar.receptor</title>\n",
       "<path fill=\"none\" stroke=\"black\" d=\"M333.57,-1087.2C345.36,-1066.85 365.77,-1032.74 385.67,-1005 408.31,-973.44 413.55,-964.81 441.17,-937.5 507.88,-871.55 597.52,-805.4 640.15,-775.1\"/>\n",
       "<text text-anchor=\"middle\" x=\"483.31\" y=\"-940.2\" font-family=\"Times,serif\" font-size=\"14.00\">2,577</text>\n",
       "</g>\n",
       "<!-- ena.embl&#45;&#45;ncbigene\n",
       "59,499,014 -->\n",
       "<g id=\"edge36\" class=\"edge\">\n",
       "<title>ena.embl--ncbigene\n",
       "59,499,014</title>\n",
       "<path fill=\"none\" stroke=\"black\" d=\"M327.68,-1123.32C341.54,-1183.55 384.89,-1371.87 385.67,-1375 408.56,-1466.13 398.16,-1495.46 441.17,-1579 491.89,-1677.5 502.13,-1718.15 598.95,-1772 663.57,-1807.94 750.81,-1812.01 806.16,-1810.15\"/>\n",
       "<text text-anchor=\"middle\" x=\"562.2\" y=\"-1763.2\" font-family=\"Times,serif\" font-size=\"14.00\">19,054</text>\n",
       "</g>\n",
       "<!-- ena.embl&#45;&#45;omim\n",
       "27,201 -->\n",
       "<g id=\"edge37\" class=\"edge\">\n",
       "<title>ena.embl--omim\n",
       "27,201</title>\n",
       "<path fill=\"none\" stroke=\"black\" d=\"M353.1,-1118.52C395.12,-1137.52 474.56,-1172.84 543.45,-1200 706.8,-1264.4 771.97,-1231.81 915.46,-1333 925.79,-1340.28 922.64,-1348.48 933.46,-1355 953.63,-1367.15 979.59,-1372.4 1000.52,-1374.61\"/>\n",
       "<text text-anchor=\"middle\" x=\"665.66\" y=\"-1254.2\" font-family=\"Times,serif\" font-size=\"14.00\">14,137</text>\n",
       "</g>\n",
       "<!-- ena.embl&#45;&#45;refseq -->\n",
       "<g id=\"edge38\" class=\"edge\">\n",
       "<title>ena.embl--refseq</title>\n",
       "<path fill=\"none\" stroke=\"black\" d=\"M367.9,-1104.26C443.61,-1103.89 602.06,-1106.95 732.36,-1135 817.08,-1153.23 837.48,-1164.21 915.46,-1202 1019.23,-1252.29 1041.16,-1273.01 1136.42,-1338 1147.11,-1345.29 1158.66,-1353.93 1168.01,-1361.13\"/>\n",
       "<text text-anchor=\"middle\" x=\"769.11\" y=\"-1151.2\" font-family=\"Times,serif\" font-size=\"14.00\">18,274</text>\n",
       "</g>\n",
       "<!-- ena.embl&#45;&#45;ucsc -->\n",
       "<g id=\"edge39\" class=\"edge\">\n",
       "<title>ena.embl--ucsc</title>\n",
       "<path fill=\"none\" stroke=\"black\" d=\"M328.42,-1123.12C337.52,-1157 356.93,-1232.38 367.67,-1297 394.8,-1460.24 362.36,-1516.49 441.17,-1662 474.39,-1723.32 486.97,-1740.09 543.45,-1781 762.92,-1939.96 866.9,-1951.26 1136.42,-1923 1202.59,-1916.06 1233.75,-1921.73 1276.8,-1871 1299.79,-1843.9 1311.99,-1803.28 1317.45,-1780.04\"/>\n",
       "<text text-anchor=\"middle\" x=\"860.66\" y=\"-1937.2\" font-family=\"Times,serif\" font-size=\"14.00\">16,093</text>\n",
       "</g>\n",
       "<!-- ena.embl&#45;&#45;vega -->\n",
       "<g id=\"edge40\" class=\"edge\">\n",
       "<title>ena.embl--vega</title>\n",
       "<path fill=\"none\" stroke=\"black\" d=\"M356.41,-1092.66C453.32,-1058.15 745.25,-967.08 977.71,-1028.5 1052.69,-1048.31 1073.97,-1055.02 1136.42,-1101 1221.42,-1163.59 1220.73,-1202.78 1294.8,-1278 1325.6,-1309.28 1334.51,-1315.9 1367.39,-1345 1392.28,-1367.03 1421.79,-1391.82 1439.94,-1406.92\"/>\n",
       "<text text-anchor=\"middle\" x=\"955.59\" y=\"-1031.2\" font-family=\"Times,serif\" font-size=\"14.00\">17,799</text>\n",
       "</g>\n",
       "<!-- ena.embl&#45;&#45;orphanet -->\n",
       "<g id=\"edge41\" class=\"edge\">\n",
       "<title>ena.embl--orphanet</title>\n",
       "<path fill=\"none\" stroke=\"black\" d=\"M329.65,-1087.15C339.94,-1058.18 361.79,-999.37 385.67,-952 447.12,-830.11 473.25,-784.21 598.95,-731 962.28,-577.2 1093.51,-667.73 1486.28,-705 1514.11,-707.64 1525.08,-698.79 1548.53,-714 1583.58,-736.73 1604.65,-783.36 1614.07,-809.05\"/>\n",
       "<text text-anchor=\"middle\" x=\"1038.32\" y=\"-654.2\" font-family=\"Times,serif\" font-size=\"14.00\">3,609</text>\n",
       "</g>\n",
       "<!-- ena.embl&#45;&#45;cosmic -->\n",
       "<g id=\"edge42\" class=\"edge\">\n",
       "<title>ena.embl--cosmic</title>\n",
       "<path fill=\"none\" stroke=\"black\" d=\"M326.61,-1086.69C336.41,-1033.4 370.06,-875.23 441.17,-765 480.08,-704.68 483.68,-679.76 543.45,-640 644.76,-572.61 685.9,-582.34 805.86,-562 996.48,-529.68 1526.96,-468.08 1675.37,-592 1729.3,-637.03 1713.82,-671.85 1730.87,-740 1738.27,-769.57 1729.91,-852.13 1748.87,-876 1754.88,-883.57 1763.79,-888.53 1772.85,-891.79\"/>\n",
       "<text text-anchor=\"middle\" x=\"1117.67\" y=\"-530.2\" font-family=\"Times,serif\" font-size=\"14.00\">461</text>\n",
       "</g>\n",
       "<!-- ena.embl&#45;&#45;pseudogene -->\n",
       "<g id=\"edge43\" class=\"edge\">\n",
       "<title>ena.embl--pseudogene</title>\n",
       "<path fill=\"none\" stroke=\"black\" d=\"M329.01,-1123.31C338.98,-1157.2 359.64,-1232.16 367.67,-1297 379.77,-1394.61 360.25,-2086.99 385.67,-2182 429.18,-2344.62 465.36,-2392.57 598.95,-2495 668.86,-2548.6 699.8,-2557.52 787.86,-2555 1099.52,-2546.07 1181.09,-2552.81 1486.28,-2489 1514.47,-2483.11 1523.12,-2484.56 1548.53,-2471 1569.53,-2459.79 1589.96,-2441.67 1603.56,-2428.28\"/>\n",
       "<text text-anchor=\"middle\" x=\"1038.32\" y=\"-2552.2\" font-family=\"Times,serif\" font-size=\"14.00\">922</text>\n",
       "</g>\n",
       "<!-- ena.embl&#45;&#45;iuphar.ligand -->\n",
       "<g id=\"edge44\" class=\"edge\">\n",
       "<title>ena.embl--iuphar.ligand</title>\n",
       "<path fill=\"none\" stroke=\"black\" d=\"M328.66,-1123.08C338.14,-1156.9 358.15,-1232.19 367.67,-1297 385.47,-1418.18 366.76,-1450.98 385.67,-1572 446.31,-1960.07 388.43,-2224.42 750.36,-2377 1051.75,-2504.06 1221.63,-2565.2 1486.28,-2373 1497.65,-2364.74 1494.14,-2356.73 1504.28,-2347 1521.07,-2330.89 1532.33,-2335.71 1548.53,-2319 1625.75,-2239.34 1633.46,-2206.73 1675.37,-2104 1688,-2073.06 1684.94,-2063.33 1693.37,-2031 1733.47,-1877.35 1785.79,-1692.78 1802.24,-1635.11\"/>\n",
       "<text text-anchor=\"middle\" x=\"1117.67\" y=\"-2497.2\" font-family=\"Times,serif\" font-size=\"14.00\">349</text>\n",
       "</g>\n",
       "<!-- ena.embl&#45;&#45;lncipedia -->\n",
       "<g id=\"edge45\" class=\"edge\">\n",
       "<title>ena.embl--lncipedia</title>\n",
       "<path fill=\"none\" stroke=\"black\" d=\"M329,-1123.31C338.96,-1157.2 359.6,-1232.17 367.67,-1297 379.13,-1388.98 356.78,-2042.93 385.67,-2131 430.61,-2267.98 517.9,-2260.35 580.95,-2390 595.38,-2419.66 573.86,-2440.59 598.95,-2462 689.89,-2539.58 1028.56,-2491.53 1136.42,-2440 1213.07,-2403.38 1223.77,-2379.6 1294.8,-2333 1407.46,-2259.07 1450.63,-2259.61 1548.53,-2167 1572.44,-2144.38 1595.2,-2113.53 1608.36,-2094.46\"/>\n",
       "<text text-anchor=\"middle\" x=\"1038.32\" y=\"-2483.2\" font-family=\"Times,serif\" font-size=\"14.00\">958</text>\n",
       "</g>\n",
       "<!-- ena.embl&#45;&#45;civic.gid\n",
       "890 -->\n",
       "<g id=\"edge46\" class=\"edge\">\n",
       "<title>ena.embl--civic.gid\n",
       "890</title>\n",
       "<path fill=\"none\" stroke=\"black\" d=\"M322.73,-1086.75C321.04,-1019.69 324.05,-783.87 441.17,-650 563.18,-510.55 628.13,-500.37 805.86,-448 1176.85,-338.67 1317.6,-336.1 1675.37,-483 1767.17,-520.69 1805.51,-518.87 1867.95,-596 1954.85,-703.35 1977.58,-875.27 1983.32,-943.61\"/>\n",
       "<text text-anchor=\"middle\" x=\"1187.86\" y=\"-375.2\" font-family=\"Times,serif\" font-size=\"14.00\">494</text>\n",
       "</g>\n",
       "<!-- ena.embl&#45;&#45;ncit\n",
       "12,711 -->\n",
       "<g id=\"edge47\" class=\"edge\">\n",
       "<title>ena.embl--ncit\n",
       "12,711</title>\n",
       "<path fill=\"none\" stroke=\"black\" d=\"M346.74,-1089.58C358.27,-1082.15 372.52,-1073.3 385.67,-1066 409.66,-1052.7 415.97,-1049.83 441.17,-1039 608.43,-967.13 1047.56,-734.64 1221.3,-789 1249.95,-797.96 1254.39,-807.52 1276.8,-827.5 1382.09,-921.4 1413.77,-944.97 1486.28,-1066 1497.99,-1085.55 1487.45,-1098.64 1504.28,-1114 1575.62,-1179.12 1831.68,-1198.87 1923.45,-1229 1983.51,-1248.72 2051.95,-1276.08 2091.34,-1292.32\"/>\n",
       "<text text-anchor=\"middle\" x=\"1258.05\" y=\"-831.2\" font-family=\"Times,serif\" font-size=\"14.00\">4,731</text>\n",
       "</g>\n",
       "<!-- ena.embl&#45;&#45;wikidata\n",
       "797,967 -->\n",
       "<g id=\"edge48\" class=\"edge\">\n",
       "<title>ena.embl--wikidata\n",
       "797,967</title>\n",
       "<path fill=\"none\" stroke=\"black\" d=\"M322.91,-1086.62C321.62,-1022.83 322.43,-805.97 385.67,-643 401.33,-602.66 409.74,-592.74 441.17,-563 470.7,-535.06 802.45,-347.55 805.86,-346 1261.29,-139.34 1403.58,-99 1903.7,-99 1903.7,-99 1903.7,-99 2125.98,-99 2217.8,-99 2265.24,-1620.72 2271.93,-1852.54\"/>\n",
       "<text text-anchor=\"middle\" x=\"1322.09\" y=\"-159.2\" font-family=\"Times,serif\" font-size=\"14.00\">19,123</text>\n",
       "</g>\n",
       "<!-- ensembl&#45;&#45;iuphar.receptor -->\n",
       "<g id=\"edge49\" class=\"edge\">\n",
       "<title>ensembl--iuphar.receptor</title>\n",
       "<path fill=\"none\" stroke=\"black\" d=\"M491.19,-1533.84C500.64,-1508.05 517.38,-1459.16 525.45,-1416 535.14,-1364.19 516.19,-1224.61 543.45,-1179.5 553.62,-1162.67 570.2,-1172.47 580.95,-1156 611.14,-1109.73 588.52,-1087.26 598.95,-1033 617.72,-935.39 647.91,-820.13 659.71,-776.22\"/>\n",
       "<text text-anchor=\"middle\" x=\"562.2\" y=\"-1182.2\" font-family=\"Times,serif\" font-size=\"14.00\">3,521</text>\n",
       "</g>\n",
       "<!-- ensembl&#45;&#45;ncbigene\n",
       "59,499,014 -->\n",
       "<g id=\"edge50\" class=\"edge\">\n",
       "<title>ensembl--ncbigene\n",
       "59,499,014</title>\n",
       "<path fill=\"none\" stroke=\"black\" d=\"M493.69,-1569.68C503.99,-1587.82 521.97,-1616.02 543.45,-1635 627.75,-1709.49 750.1,-1763.86 815.13,-1789.51\"/>\n",
       "<text text-anchor=\"middle\" x=\"665.66\" y=\"-1754.2\" font-family=\"Times,serif\" font-size=\"14.00\">174,324</text>\n",
       "</g>\n",
       "<!-- ensembl&#45;&#45;omim\n",
       "27,201 -->\n",
       "<g id=\"edge51\" class=\"edge\">\n",
       "<title>ensembl--omim\n",
       "27,201</title>\n",
       "<path fill=\"none\" stroke=\"black\" d=\"M494.75,-1534.24C505.14,-1518.09 522.52,-1494.72 543.45,-1481 637.03,-1419.64 681.07,-1387.06 787.86,-1420.5 797.16,-1423.41 796.57,-1430.09 805.86,-1433 852.35,-1447.56 866.77,-1434.17 915.46,-1433 943.15,-1432.33 952.12,-1440.59 977.71,-1430 986.23,-1426.48 1001.81,-1412.23 1014.91,-1399.26\"/>\n",
       "<text text-anchor=\"middle\" x=\"769.11\" y=\"-1423.2\" font-family=\"Times,serif\" font-size=\"14.00\">19,410</text>\n",
       "</g>\n",
       "<!-- ensembl&#45;&#45;refseq -->\n",
       "<g id=\"edge52\" class=\"edge\">\n",
       "<title>ensembl--refseq</title>\n",
       "<path fill=\"none\" stroke=\"black\" d=\"M491.52,-1534.07C506.03,-1500.75 542.32,-1430.21 598.95,-1403 696.37,-1356.2 974.44,-1319.48 1080.92,-1338 1109.6,-1342.99 1140.78,-1355.04 1161.84,-1364.25\"/>\n",
       "<text text-anchor=\"middle\" x=\"860.66\" y=\"-1353.2\" font-family=\"Times,serif\" font-size=\"14.00\">43,049</text>\n",
       "</g>\n",
       "<!-- ensembl&#45;&#45;ucsc -->\n",
       "<g id=\"edge53\" class=\"edge\">\n",
       "<title>ensembl--ucsc</title>\n",
       "<path fill=\"none\" stroke=\"black\" d=\"M514.21,-1564.56C518.49,-1567.45 522.45,-1570.91 525.45,-1575 548.79,-1606.85 530.44,-1624.72 543.45,-1662 561.49,-1713.7 557.75,-1735.93 598.95,-1772 672.2,-1836.14 712.16,-1817.52 805.86,-1844 1007.28,-1900.92 1102.42,-1961.77 1276.8,-1846 1299.73,-1830.77 1311.6,-1799.66 1317.07,-1779.88\"/>\n",
       "<text text-anchor=\"middle\" x=\"955.59\" y=\"-1897.2\" font-family=\"Times,serif\" font-size=\"14.00\">26,258</text>\n",
       "</g>\n",
       "<!-- ensembl&#45;&#45;vega -->\n",
       "<g id=\"edge54\" class=\"edge\">\n",
       "<title>ensembl--vega</title>\n",
       "<path fill=\"none\" stroke=\"black\" d=\"M506.99,-1536.75C517.63,-1530.28 530.75,-1523.27 543.45,-1519 567.5,-1510.92 970.4,-1457.27 995.71,-1455.5 1033.49,-1452.86 1043.82,-1447.89 1080.92,-1455.5 1115.73,-1462.65 1119.61,-1479.85 1154.42,-1487 1183.54,-1492.98 1191.73,-1490.08 1221.3,-1487 1279.16,-1480.97 1293.44,-1475.95 1349.39,-1460 1379,-1451.56 1412.19,-1439.04 1433.77,-1430.48\"/>\n",
       "<text text-anchor=\"middle\" x=\"1038.32\" y=\"-1458.2\" font-family=\"Times,serif\" font-size=\"14.00\">34,406</text>\n",
       "</g>\n",
       "<!-- ensembl&#45;&#45;orphanet -->\n",
       "<g id=\"edge55\" class=\"edge\">\n",
       "<title>ensembl--orphanet</title>\n",
       "<path fill=\"none\" stroke=\"black\" d=\"M493.66,-1534.14C503.42,-1514.56 518.3,-1481.94 525.45,-1452 537.26,-1402.57 518.9,-1268.5 543.45,-1224 553.5,-1205.79 567.42,-1211.8 580.95,-1196 592.07,-1183.01 585.3,-1172.3 598.95,-1162 667.46,-1110.32 729.4,-1184.83 787.86,-1122 827.89,-1078.97 769.7,-1037.33 805.86,-991 838.16,-949.62 877.24,-982.97 915.46,-947 929.07,-934.19 922.21,-923.92 933.46,-909 992.41,-830.8 1009.61,-803.67 1098.92,-763.5 1272.61,-685.38 1509.98,-777.14 1591.28,-813.47\"/>\n",
       "<text text-anchor=\"middle\" x=\"1117.67\" y=\"-767.2\" font-family=\"Times,serif\" font-size=\"14.00\">4,889</text>\n",
       "</g>\n",
       "<!-- ensembl&#45;&#45;cosmic -->\n",
       "<g id=\"edge56\" class=\"edge\">\n",
       "<title>ensembl--cosmic</title>\n",
       "<path fill=\"none\" stroke=\"black\" d=\"M493.25,-1534.03C502.66,-1514.37 517.23,-1481.67 525.45,-1452 554.89,-1345.72 517.39,-1289.23 598.95,-1215 664.95,-1154.94 705.52,-1181.4 787.86,-1147 845.86,-1122.77 875.62,-1134.62 915.46,-1086 936.1,-1060.82 919.42,-1044.37 933.46,-1015 953.35,-973.4 962.24,-963.71 995.71,-932 1018.95,-909.99 1237.73,-774.46 1239.3,-774 1324.8,-749.18 1182.75,-766.15 1566.53,-854 1639.05,-870.6 1724.99,-885.07 1772.11,-892.56\"/>\n",
       "<text text-anchor=\"middle\" x=\"1187.86\" y=\"-830.2\" font-family=\"Times,serif\" font-size=\"14.00\">617</text>\n",
       "</g>\n",
       "<!-- ensembl&#45;&#45;pseudogene -->\n",
       "<g id=\"edge57\" class=\"edge\">\n",
       "<title>ensembl--pseudogene</title>\n",
       "<path fill=\"none\" stroke=\"black\" d=\"M493.25,-1569.84C503.1,-1590.49 518.49,-1625.78 525.45,-1658 540.72,-1728.7 511.23,-1918.24 543.45,-1983 557.85,-2011.94 570.38,-2014.88 598.95,-2030 653.34,-2058.77 687.12,-2025.3 732.36,-2067 749.42,-2082.72 735.89,-2097.87 750.36,-2116 768.7,-2138.98 778.86,-2140.36 805.86,-2152 921.4,-2201.83 969.27,-2160.99 1080.92,-2219 1231.13,-2297.05 1208.95,-2410.41 1367.39,-2470 1447.25,-2500.04 1547.27,-2453.28 1593.85,-2426.96\"/>\n",
       "<text text-anchor=\"middle\" x=\"1117.67\" y=\"-2257.2\" font-family=\"Times,serif\" font-size=\"14.00\">8,112</text>\n",
       "</g>\n",
       "<!-- ensembl&#45;&#45;iuphar.ligand -->\n",
       "<g id=\"edge58\" class=\"edge\">\n",
       "<title>ensembl--iuphar.ligand</title>\n",
       "<path fill=\"none\" stroke=\"black\" d=\"M525.7,-1551.89C542.8,-1551.87 562.83,-1551.89 580.95,-1552 803.17,-1553.33 866.49,-1499.67 1080.92,-1558 1117.22,-1567.87 1120.54,-1583.63 1154.42,-1600 1191.01,-1617.68 1199.39,-1626.31 1239.3,-1634 1255.66,-1637.16 1260.13,-1634.27 1276.8,-1634 1448.44,-1631.25 1651.19,-1623.5 1748.93,-1619.49\"/>\n",
       "<text text-anchor=\"middle\" x=\"1187.86\" y=\"-1632.2\" font-family=\"Times,serif\" font-size=\"14.00\">516</text>\n",
       "</g>\n",
       "<!-- ensembl&#45;&#45;lncipedia -->\n",
       "<g id=\"edge59\" class=\"edge\">\n",
       "<title>ensembl--lncipedia</title>\n",
       "<path fill=\"none\" stroke=\"black\" d=\"M493.21,-1569.85C503.04,-1590.5 518.4,-1625.8 525.45,-1658 532.47,-1690.08 524.85,-1925.94 543.45,-1953 595.71,-2029.02 670.06,-1970.97 732.36,-2039 748.6,-2056.73 733.01,-2073.36 750.36,-2090 830.66,-2166.99 1235.79,-2204.51 1239.3,-2205 1287.8,-2211.71 1300.61,-2213.24 1349.39,-2209 1440.52,-2201.07 1474.74,-2211.06 1548.53,-2157 1572.71,-2139.28 1594.72,-2112.21 1607.73,-2094.55\"/>\n",
       "<text text-anchor=\"middle\" x=\"1117.67\" y=\"-2196.2\" font-family=\"Times,serif\" font-size=\"14.00\">2,488</text>\n",
       "</g>\n",
       "<!-- ensembl&#45;&#45;civic.gid\n",
       "890 -->\n",
       "<g id=\"edge63\" class=\"edge\">\n",
       "<title>ensembl--civic.gid\n",
       "890</title>\n",
       "<path fill=\"none\" stroke=\"black\" d=\"M491.63,-1534.13C507.03,-1496.59 541.52,-1412.69 543.45,-1410 562.6,-1383.24 572.87,-1381.06 598.95,-1361 655.44,-1317.54 673.31,-1311.91 732.36,-1272 841.86,-1197.99 868.81,-1178.88 977.71,-1104 1056.35,-1049.93 1073.19,-1032.1 1154.42,-982 1191.03,-959.42 1198.09,-947.84 1239.3,-935.5 1286.21,-921.45 1300.56,-927.33 1349.39,-931 1503.57,-942.59 1539.19,-971.41 1693.37,-983 1709.99,-984.25 1714.21,-983.33 1730.87,-983 1804.65,-981.55 1890.39,-977.74 1941.09,-975.26\"/>\n",
       "<text text-anchor=\"middle\" x=\"1258.05\" y=\"-938.2\" font-family=\"Times,serif\" font-size=\"14.00\">696</text>\n",
       "</g>\n",
       "<!-- ensembl&#45;&#45;ncit\n",
       "12,711 -->\n",
       "<g id=\"edge64\" class=\"edge\">\n",
       "<title>ensembl--ncit\n",
       "12,711</title>\n",
       "<path fill=\"none\" stroke=\"black\" d=\"M514.5,-1564.35C518.75,-1567.27 522.62,-1570.79 525.45,-1575 561.93,-1629.26 522.24,-1659.16 543.45,-1721 559.06,-1766.53 565.95,-1778.96 598.95,-1814 675.24,-1895.02 712.9,-1893.83 805.86,-1955 889.5,-2010.03 1470.39,-2410.06 1566.53,-2438 1612.98,-2451.5 1633.64,-2462.46 1675.37,-2438 1840.62,-2341.15 1786.81,-2225.88 1885.95,-2062 1954.61,-1948.52 1976.43,-1923.07 2048.9,-1812 2057.9,-1798.22 2063.56,-1796.48 2069.15,-1781 2099.13,-1698.05 2117.12,-1425.52 2122.37,-1335.3\"/>\n",
       "<text text-anchor=\"middle\" x=\"1322.09\" y=\"-2317.2\" font-family=\"Times,serif\" font-size=\"14.00\">6,882</text>\n",
       "</g>\n",
       "<!-- ensembl&#45;&#45;wikidata\n",
       "797,967 -->\n",
       "<g id=\"edge65\" class=\"edge\">\n",
       "<title>ensembl--wikidata\n",
       "797,967</title>\n",
       "<path fill=\"none\" stroke=\"black\" d=\"M490.79,-1569.76C500.24,-1596.52 517.52,-1648.92 525.45,-1695 559.02,-1889.96 496.27,-1964.91 598.95,-2134 645.43,-2210.54 692.11,-2205 732.36,-2285 749.72,-2319.5 730.25,-2337.03 750.36,-2370 823.63,-2490.1 874.2,-2499.09 995.71,-2570 1050.29,-2601.85 1462.21,-2777 1525.4,-2777 1525.4,-2777 1525.4,-2777 2125.98,-2777 2184.48,-2777 2189.2,-2731.05 2211.56,-2677 2270.58,-2534.38 2273.21,-2036.98 2272.91,-1911.12\"/>\n",
       "<text text-anchor=\"middle\" x=\"1389.51\" y=\"-2747.2\" font-family=\"Times,serif\" font-size=\"14.00\">159,560</text>\n",
       "</g>\n",
       "<!-- mgi\n",
       "737,779 -->\n",
       "<g id=\"node20\" class=\"node\">\n",
       "<title>mgi\n",
       "737,779</title>\n",
       "<ellipse fill=\"none\" stroke=\"black\" cx=\"1038.32\" cy=\"-2257\" rx=\"42.6\" ry=\"28.99\"/>\n",
       "<text text-anchor=\"middle\" x=\"1038.32\" y=\"-2260.2\" font-family=\"Times,serif\" font-size=\"14.00\">mgi</text>\n",
       "<text text-anchor=\"middle\" x=\"1038.32\" y=\"-2243.7\" font-family=\"Times,serif\" font-size=\"14.00\">737,779</text>\n",
       "</g>\n",
       "<!-- ensembl&#45;&#45;mgi\n",
       "737,779 -->\n",
       "<g id=\"edge60\" class=\"edge\">\n",
       "<title>ensembl--mgi\n",
       "737,779</title>\n",
       "<path fill=\"none\" stroke=\"black\" d=\"M486.37,-1570.27C495.88,-1652.12 537.73,-1984.68 598.95,-2067 697.2,-2199.12 906.65,-2240.58 995.78,-2252.55\"/>\n",
       "<text text-anchor=\"middle\" x=\"769.11\" y=\"-2201.2\" font-family=\"Times,serif\" font-size=\"14.00\">78,642</text>\n",
       "</g>\n",
       "<!-- rgd\n",
       "61,335 -->\n",
       "<g id=\"node21\" class=\"node\">\n",
       "<title>rgd\n",
       "61,335</title>\n",
       "<ellipse fill=\"none\" stroke=\"black\" cx=\"1038.32\" cy=\"-1672\" rx=\"37.83\" ry=\"28.99\"/>\n",
       "<text text-anchor=\"middle\" x=\"1038.32\" y=\"-1675.2\" font-family=\"Times,serif\" font-size=\"14.00\">rgd</text>\n",
       "<text text-anchor=\"middle\" x=\"1038.32\" y=\"-1658.7\" font-family=\"Times,serif\" font-size=\"14.00\">61,335</text>\n",
       "</g>\n",
       "<!-- ensembl&#45;&#45;rgd\n",
       "61,335 -->\n",
       "<g id=\"edge61\" class=\"edge\">\n",
       "<title>ensembl--rgd\n",
       "61,335</title>\n",
       "<path fill=\"none\" stroke=\"black\" d=\"M515.92,-1563.87C524.74,-1566.86 534.39,-1569.83 543.45,-1572 638.28,-1594.71 886.11,-1601.58 977.71,-1635 989.04,-1639.13 1000.52,-1645.6 1010.34,-1651.98\"/>\n",
       "<text text-anchor=\"middle\" x=\"769.11\" y=\"-1604.2\" font-family=\"Times,serif\" font-size=\"14.00\">42,363</text>\n",
       "</g>\n",
       "<!-- cgnc\n",
       "26,075 -->\n",
       "<g id=\"node22\" class=\"node\">\n",
       "<title>cgnc\n",
       "26,075</title>\n",
       "<ellipse fill=\"none\" stroke=\"black\" cx=\"1038.32\" cy=\"-1596\" rx=\"37.83\" ry=\"28.99\"/>\n",
       "<text text-anchor=\"middle\" x=\"1038.32\" y=\"-1599.2\" font-family=\"Times,serif\" font-size=\"14.00\">cgnc</text>\n",
       "<text text-anchor=\"middle\" x=\"1038.32\" y=\"-1582.7\" font-family=\"Times,serif\" font-size=\"14.00\">26,075</text>\n",
       "</g>\n",
       "<!-- ensembl&#45;&#45;cgnc\n",
       "26,075 -->\n",
       "<g id=\"edge62\" class=\"edge\">\n",
       "<title>ensembl--cgnc\n",
       "26,075</title>\n",
       "<path fill=\"none\" stroke=\"black\" d=\"M524.98,-1555.24C628.49,-1563.47 900.8,-1585.14 1000.26,-1593.05\"/>\n",
       "<text text-anchor=\"middle\" x=\"769.11\" y=\"-1579.2\" font-family=\"Times,serif\" font-size=\"14.00\">15,327</text>\n",
       "</g>\n",
       "<!-- iuphar.receptor&#45;&#45;ncbigene\n",
       "59,499,014 -->\n",
       "<g id=\"edge66\" class=\"edge\">\n",
       "<title>iuphar.receptor--ncbigene\n",
       "59,499,014</title>\n",
       "<path fill=\"none\" stroke=\"black\" d=\"M672.26,-776.11C685.48,-819.79 718.56,-934.56 732.36,-1033 757.57,-1212.75 711.37,-1263.73 750.36,-1441 759.8,-1483.92 773.92,-1490.82 787.86,-1532.5 817.14,-1620.02 842.14,-1726.5 853.35,-1776.89\"/>\n",
       "<text text-anchor=\"middle\" x=\"769.11\" y=\"-1535.2\" font-family=\"Times,serif\" font-size=\"14.00\">3,099</text>\n",
       "</g>\n",
       "<!-- iuphar.receptor&#45;&#45;omim\n",
       "27,201 -->\n",
       "<g id=\"edge67\" class=\"edge\">\n",
       "<title>iuphar.receptor--omim\n",
       "27,201</title>\n",
       "<path fill=\"none\" stroke=\"black\" d=\"M677.55,-776.16C730.28,-864.08 959.08,-1245.56 1021.52,-1349.67\"/>\n",
       "<text text-anchor=\"middle\" x=\"860.66\" y=\"-1171.2\" font-family=\"Times,serif\" font-size=\"14.00\">3,054</text>\n",
       "</g>\n",
       "<!-- iuphar.receptor&#45;&#45;refseq -->\n",
       "<g id=\"edge68\" class=\"edge\">\n",
       "<title>iuphar.receptor--refseq</title>\n",
       "<path fill=\"none\" stroke=\"black\" d=\"M692.03,-774.98C708.49,-785.84 730.49,-800.07 750.36,-812 822.38,-855.24 868.52,-834.34 915.46,-904 951.75,-957.85 894.22,-997.26 933.46,-1049 992.56,-1126.92 1074.18,-1058.57 1136.42,-1134 1150.83,-1151.46 1175.75,-1304.54 1184.07,-1357.81\"/>\n",
       "<text text-anchor=\"middle\" x=\"955.59\" y=\"-1086.2\" font-family=\"Times,serif\" font-size=\"14.00\">3,076</text>\n",
       "</g>\n",
       "<!-- iuphar.receptor&#45;&#45;ucsc -->\n",
       "<g id=\"edge69\" class=\"edge\">\n",
       "<title>iuphar.receptor--ucsc</title>\n",
       "<path fill=\"none\" stroke=\"black\" d=\"M671.26,-776.29C682.3,-820.36 710.96,-935.93 732.36,-1033 765.09,-1181.43 718.28,-1242.78 805.86,-1367 889.29,-1485.32 989.46,-1429.28 1080.92,-1541.5 1095.18,-1559 1090.37,-1568.11 1098.92,-1589 1122.1,-1645.63 1108.23,-1674.86 1154.42,-1715 1194.48,-1749.8 1258.53,-1758.96 1294.44,-1761.29\"/>\n",
       "<text text-anchor=\"middle\" x=\"1038.32\" y=\"-1544.2\" font-family=\"Times,serif\" font-size=\"14.00\">3,022</text>\n",
       "</g>\n",
       "<!-- iuphar.receptor&#45;&#45;vega -->\n",
       "<g id=\"edge70\" class=\"edge\">\n",
       "<title>iuphar.receptor--vega</title>\n",
       "<path fill=\"none\" stroke=\"black\" d=\"M732.18,-760.45C819.57,-766.75 975.48,-788.89 1080.92,-866 1273.5,-1006.85 1198.79,-1151.19 1367.39,-1320 1383.83,-1336.47 1395.25,-1331.47 1411.64,-1348 1427.92,-1364.42 1441.1,-1387.72 1448.96,-1403.54\"/>\n",
       "<text text-anchor=\"middle\" x=\"1117.67\" y=\"-915.2\" font-family=\"Times,serif\" font-size=\"14.00\">3,093</text>\n",
       "</g>\n",
       "<!-- iuphar.receptor&#45;&#45;orphanet -->\n",
       "<g id=\"edge71\" class=\"edge\">\n",
       "<title>iuphar.receptor--orphanet</title>\n",
       "<path fill=\"none\" stroke=\"black\" d=\"M721.98,-748.1C838.2,-728.56 1116.26,-688.51 1349.39,-707 1438.68,-714.08 1471,-693.15 1548.53,-738 1577.68,-754.87 1599.61,-788.58 1611.06,-809.33\"/>\n",
       "<text text-anchor=\"middle\" x=\"1187.86\" y=\"-707.2\" font-family=\"Times,serif\" font-size=\"14.00\">1,074</text>\n",
       "</g>\n",
       "<!-- iuphar.receptor&#45;&#45;cosmic -->\n",
       "<g id=\"edge72\" class=\"edge\">\n",
       "<title>iuphar.receptor--cosmic</title>\n",
       "<path fill=\"none\" stroke=\"black\" d=\"M707.23,-743.48C859.38,-690.04 1395.07,-511.23 1548.53,-586 1666.74,-643.6 1669.57,-702.66 1730.87,-819 1743.26,-842.5 1730.6,-856.72 1748.87,-876 1755.45,-882.93 1764.42,-887.7 1773.36,-890.97\"/>\n",
       "<text text-anchor=\"middle\" x=\"1258.05\" y=\"-595.2\" font-family=\"Times,serif\" font-size=\"14.00\">170</text>\n",
       "</g>\n",
       "<!-- iuphar.receptor&#45;&#45;civic.gid\n",
       "890 -->\n",
       "<g id=\"edge73\" class=\"edge\">\n",
       "<title>iuphar.receptor--civic.gid\n",
       "890</title>\n",
       "<path fill=\"none\" stroke=\"black\" d=\"M691.66,-741C719.03,-722.76 764.54,-693.51 805.86,-672 879.62,-633.6 905.66,-639.51 977.71,-598 1035.85,-564.51 1036.58,-532.8 1098.92,-508 1285,-433.96 1365.48,-396.74 1548.53,-478 1754.67,-569.51 1794.73,-634.79 1923.45,-820 1950.59,-859.04 1968.49,-911.78 1977.72,-944.04\"/>\n",
       "<text text-anchor=\"middle\" x=\"1322.09\" y=\"-443.2\" font-family=\"Times,serif\" font-size=\"14.00\">228</text>\n",
       "</g>\n",
       "<!-- iuphar.receptor&#45;&#45;ncit\n",
       "12,711 -->\n",
       "<g id=\"edge74\" class=\"edge\">\n",
       "<title>iuphar.receptor--ncit\n",
       "12,711</title>\n",
       "<path fill=\"none\" stroke=\"black\" d=\"M684.94,-740.52C701.9,-724.31 727.83,-699.52 750.36,-678 775.02,-654.44 778.66,-645.58 805.86,-625 883.99,-565.89 906.92,-554.38 995.71,-513 1278.95,-381 1364.49,-301.38 1675.37,-333 1787.36,-344.39 1844.92,-303.36 1923.45,-384 1955.27,-416.66 1931.82,-440.43 1941.45,-485 1990.02,-709.59 2033.4,-759.01 2069.15,-986 2079.06,-1048.91 2059.79,-1214.5 2087.15,-1272 2089.62,-1277.19 2093.26,-1281.96 2097.31,-1286.18\"/>\n",
       "<text text-anchor=\"middle\" x=\"1389.51\" y=\"-352.2\" font-family=\"Times,serif\" font-size=\"14.00\">1,605</text>\n",
       "</g>\n",
       "<!-- iuphar.receptor&#45;&#45;wikidata\n",
       "797,967 -->\n",
       "<g id=\"edge75\" class=\"edge\">\n",
       "<title>iuphar.receptor--wikidata\n",
       "797,967</title>\n",
       "<path fill=\"none\" stroke=\"black\" d=\"M675.11,-739.72C693.91,-700.62 742.57,-607.7 805.86,-549 851.56,-506.62 1237.94,-299.54 1294.8,-274 1528.23,-169.13 1690.08,-145.02 1867.95,-329 2087.21,-555.77 2122.73,-647.33 2211.56,-950 2263.05,-1125.43 2271.31,-1714.95 2272.55,-1852.93\"/>\n",
       "<text text-anchor=\"middle\" x=\"1457.96\" y=\"-224.2\" font-family=\"Times,serif\" font-size=\"14.00\">3,122</text>\n",
       "</g>\n",
       "<!-- ncbigene\n",
       "59,499,014&#45;&#45;omim\n",
       "27,201 -->\n",
       "<g id=\"edge76\" class=\"edge\">\n",
       "<title>ncbigene\n",
       "59,499,014--omim\n",
       "27,201</title>\n",
       "<path fill=\"none\" stroke=\"black\" d=\"M871.27,-1777.18C882.91,-1744.75 904.6,-1691.4 933.46,-1651.5 949.27,-1629.65 965.85,-1634.21 977.71,-1610 1015.24,-1533.44 960.06,-1496.45 995.71,-1419 999.45,-1410.89 1005.37,-1403.37 1011.59,-1396.97\"/>\n",
       "<text text-anchor=\"middle\" x=\"955.59\" y=\"-1654.2\" font-family=\"Times,serif\" font-size=\"14.00\">18,502</text>\n",
       "</g>\n",
       "<!-- ncbigene\n",
       "59,499,014&#45;&#45;refseq -->\n",
       "<g id=\"edge77\" class=\"edge\">\n",
       "<title>ncbigene\n",
       "59,499,014--refseq</title>\n",
       "<path fill=\"none\" stroke=\"black\" d=\"M904.7,-1788.23C966.74,-1762.46 1074.61,-1717.02 1080.92,-1710 1124.96,-1661.04 1170.28,-1456.01 1183.22,-1393.9\"/>\n",
       "<text text-anchor=\"middle\" x=\"1038.32\" y=\"-1752.2\" font-family=\"Times,serif\" font-size=\"14.00\">41,522</text>\n",
       "</g>\n",
       "<!-- ncbigene\n",
       "59,499,014&#45;&#45;ucsc -->\n",
       "<g id=\"edge78\" class=\"edge\">\n",
       "<title>ncbigene\n",
       "59,499,014--ucsc</title>\n",
       "<path fill=\"none\" stroke=\"black\" d=\"M914.66,-1812.16C1019.45,-1823.89 1245.74,-1846.84 1276.8,-1830 1296.37,-1819.39 1308.65,-1795.98 1315.19,-1779.6\"/>\n",
       "<text text-anchor=\"middle\" x=\"1117.67\" y=\"-1835.2\" font-family=\"Times,serif\" font-size=\"14.00\">23,840</text>\n",
       "</g>\n",
       "<!-- ncbigene\n",
       "59,499,014&#45;&#45;vega -->\n",
       "<g id=\"edge79\" class=\"edge\">\n",
       "<title>ncbigene\n",
       "59,499,014--vega</title>\n",
       "<path fill=\"none\" stroke=\"black\" d=\"M915.15,-1801.2C988.33,-1792.75 1121.92,-1770.52 1221.3,-1715 1284.11,-1679.91 1309.5,-1675.88 1349.39,-1616 1366.48,-1590.34 1354.35,-1576.94 1367.39,-1549 1387.91,-1505 1423.53,-1459.95 1443.09,-1436.83\"/>\n",
       "<text text-anchor=\"middle\" x=\"1187.86\" y=\"-1748.2\" font-family=\"Times,serif\" font-size=\"14.00\">31,739</text>\n",
       "</g>\n",
       "<!-- ncbigene\n",
       "59,499,014&#45;&#45;orphanet -->\n",
       "<g id=\"edge80\" class=\"edge\">\n",
       "<title>ncbigene\n",
       "59,499,014--orphanet</title>\n",
       "<path fill=\"none\" stroke=\"black\" d=\"M867.76,-1777.03C885.71,-1692.32 940.63,-1437.82 995.71,-1229 998.29,-1219.22 1091.3,-886.65 1098.92,-880 1134.75,-848.72 1460.12,-833.17 1577.75,-828.53\"/>\n",
       "<text text-anchor=\"middle\" x=\"1258.05\" y=\"-854.2\" font-family=\"Times,serif\" font-size=\"14.00\">4,409</text>\n",
       "</g>\n",
       "<!-- ncbigene\n",
       "59,499,014&#45;&#45;cosmic -->\n",
       "<g id=\"edge81\" class=\"edge\">\n",
       "<title>ncbigene\n",
       "59,499,014--cosmic</title>\n",
       "<path fill=\"none\" stroke=\"black\" d=\"M865.3,-1776.8C876.39,-1693.91 914.07,-1451.26 995.71,-1267 1044.7,-1156.44 1065.17,-1127.59 1154.42,-1046 1210.3,-994.92 1223.71,-975.54 1294.8,-949.5 1382.56,-917.35 1668.69,-903.37 1770.8,-899.32\"/>\n",
       "<text text-anchor=\"middle\" x=\"1322.09\" y=\"-952.2\" font-family=\"Times,serif\" font-size=\"14.00\">570</text>\n",
       "</g>\n",
       "<!-- ncbigene\n",
       "59,499,014&#45;&#45;pseudogene -->\n",
       "<g id=\"edge82\" class=\"edge\">\n",
       "<title>ncbigene\n",
       "59,499,014--pseudogene</title>\n",
       "<path fill=\"none\" stroke=\"black\" d=\"M871.52,-1834.85C882.84,-1864.79 903.77,-1911.69 933.46,-1944 949.21,-1961.14 958.43,-1958.97 977.71,-1972 1216.67,-2133.38 1258.64,-2199.99 1504.28,-2351 1531.84,-2367.94 1564.7,-2384.68 1588.34,-2396.15\"/>\n",
       "<text text-anchor=\"middle\" x=\"1258.05\" y=\"-2197.2\" font-family=\"Times,serif\" font-size=\"14.00\">8,359</text>\n",
       "</g>\n",
       "<!-- ncbigene\n",
       "59,499,014&#45;&#45;iuphar.ligand -->\n",
       "<g id=\"edge83\" class=\"edge\">\n",
       "<title>ncbigene\n",
       "59,499,014--iuphar.ligand</title>\n",
       "<path fill=\"none\" stroke=\"black\" d=\"M902.29,-1825.26C977.66,-1859.9 1145.07,-1931.82 1294.8,-1961 1345.78,-1970.94 1371.84,-1997.39 1411.64,-1964 1446.9,-1934.41 1404.22,-1900.38 1429.64,-1862 1452.52,-1827.46 1696.58,-1682.11 1779.8,-1633.16\"/>\n",
       "<text text-anchor=\"middle\" x=\"1322.09\" y=\"-1979.2\" font-family=\"Times,serif\" font-size=\"14.00\">465</text>\n",
       "</g>\n",
       "<!-- ncbigene\n",
       "59,499,014&#45;&#45;lncipedia -->\n",
       "<g id=\"edge84\" class=\"edge\">\n",
       "<title>ncbigene\n",
       "59,499,014--lncipedia</title>\n",
       "<path fill=\"none\" stroke=\"black\" d=\"M873.96,-1834.28C886.04,-1859.29 906.56,-1895.39 933.46,-1919 1006.33,-1982.96 1063.64,-1934.94 1136.42,-1999 1149.55,-2010.56 1142.91,-2020.83 1154.42,-2034 1198.07,-2083.97 1228.86,-2073.62 1276.8,-2119.5 1286.3,-2128.6 1284.59,-2134.69 1294.8,-2143 1322.57,-2165.61 1332.47,-2170.02 1367.39,-2178 1458.54,-2198.83 1559.78,-2127.02 1600.97,-2093.41\"/>\n",
       "<text text-anchor=\"middle\" x=\"1258.05\" y=\"-2122.2\" font-family=\"Times,serif\" font-size=\"14.00\">2,444</text>\n",
       "</g>\n",
       "<!-- ncbigene\n",
       "59,499,014&#45;&#45;civic.gid\n",
       "890 -->\n",
       "<g id=\"edge88\" class=\"edge\">\n",
       "<title>ncbigene\n",
       "59,499,014--civic.gid\n",
       "890</title>\n",
       "<path fill=\"none\" stroke=\"black\" d=\"M869.43,-1777.01C895.13,-1681.34 976.87,-1379.33 995.71,-1338 1024.53,-1274.81 1049.61,-1268.99 1080.92,-1207 1091.19,-1186.66 1083.04,-1175.34 1098.92,-1159 1188.73,-1066.59 1240.93,-1074.3 1367.39,-1049.5 1386.69,-1045.72 1396.34,-1037.15 1411.64,-1049.5 1441.18,-1073.35 1400.1,-1109.15 1429.64,-1133 1449.22,-1148.81 1465.94,-1147.83 1486.28,-1133 1507.4,-1117.6 1484.62,-1094.23 1504.28,-1077 1522.08,-1061.4 1900.86,-1008.05 1923.45,-1001 1932.33,-998.23 1941.6,-994.5 1950.19,-990.67\"/>\n",
       "<text text-anchor=\"middle\" x=\"1389.51\" y=\"-1052.2\" font-family=\"Times,serif\" font-size=\"14.00\">621</text>\n",
       "</g>\n",
       "<!-- ncbigene\n",
       "59,499,014&#45;&#45;ncit\n",
       "12,711 -->\n",
       "<g id=\"edge89\" class=\"edge\">\n",
       "<title>ncbigene\n",
       "59,499,014--ncit\n",
       "12,711</title>\n",
       "<path fill=\"none\" stroke=\"black\" d=\"M890.9,-1830.55C903.63,-1840.77 918.93,-1852.45 933.46,-1862 959.81,-1879.31 966.84,-1883.35 995.71,-1896 1124.23,-1952.28 1156.35,-1974.25 1294.8,-1997 1346.27,-2005.46 1368.33,-2015.07 1411.64,-1986 1424.08,-1977.65 1418.11,-1967.07 1429.64,-1957.5 1450.48,-1940.2 1462.42,-1947.82 1486.28,-1935 1585.04,-1881.96 1596.4,-1847.26 1693.37,-1791 1767.69,-1747.89 1792.98,-1749.96 1867.95,-1708 1943.35,-1665.8 1973.11,-1666.22 2030.9,-1602 2101.18,-1523.92 2118.4,-1393.05 2122.62,-1335.11\"/>\n",
       "<text text-anchor=\"middle\" x=\"1457.96\" y=\"-1960.2\" font-family=\"Times,serif\" font-size=\"14.00\">5,957</text>\n",
       "</g>\n",
       "<!-- ncbigene\n",
       "59,499,014&#45;&#45;wikidata\n",
       "797,967 -->\n",
       "<g id=\"edge90\" class=\"edge\">\n",
       "<title>ncbigene\n",
       "59,499,014--wikidata\n",
       "797,967</title>\n",
       "<path fill=\"none\" stroke=\"black\" d=\"M876.97,-1833.9C888.42,-1855.41 904.02,-1886.09 915.46,-1914 925.22,-1937.8 917.66,-1948.7 933.46,-1969 947.76,-1987.36 961.57,-1980.23 977.71,-1997 988.76,-2008.48 986.33,-2015.13 995.71,-2028 1050.72,-2103.45 1093.27,-2101.2 1136.42,-2184 1152.86,-2215.55 1137,-2230.98 1154.42,-2262 1210.88,-2362.58 1410.06,-2625 1525.4,-2625 1525.4,-2625 1525.4,-2625 2125.98,-2625 2274.23,-2625 2275.19,-2048.5 2273.32,-1911.13\"/>\n",
       "<text text-anchor=\"middle\" x=\"1526.4\" y=\"-2628.2\" font-family=\"Times,serif\" font-size=\"14.00\">788,877</text>\n",
       "</g>\n",
       "<!-- ncbigene\n",
       "59,499,014&#45;&#45;mgi\n",
       "737,779 -->\n",
       "<g id=\"edge85\" class=\"edge\">\n",
       "<title>ncbigene\n",
       "59,499,014--mgi\n",
       "737,779</title>\n",
       "<path fill=\"none\" stroke=\"black\" d=\"M869.24,-1834.89C881.14,-1879.07 905.74,-1965.77 933.46,-2037 961.19,-2108.24 1001.63,-2188.72 1022.94,-2229.76\"/>\n",
       "<text text-anchor=\"middle\" x=\"955.59\" y=\"-2137.2\" font-family=\"Times,serif\" font-size=\"14.00\">111,824</text>\n",
       "</g>\n",
       "<!-- ncbigene\n",
       "59,499,014&#45;&#45;rgd\n",
       "61,335 -->\n",
       "<g id=\"edge86\" class=\"edge\">\n",
       "<title>ncbigene\n",
       "59,499,014--rgd\n",
       "61,335</title>\n",
       "<path fill=\"none\" stroke=\"black\" d=\"M884.99,-1779.65C898.32,-1765.52 915.85,-1748.4 933.46,-1735.5 951.43,-1722.34 958.61,-1723.44 977.71,-1712 988.4,-1705.6 999.84,-1698.09 1009.8,-1691.32\"/>\n",
       "<text text-anchor=\"middle\" x=\"955.59\" y=\"-1738.2\" font-family=\"Times,serif\" font-size=\"14.00\">48,327</text>\n",
       "</g>\n",
       "<!-- ncbigene\n",
       "59,499,014&#45;&#45;cgnc\n",
       "26,075 -->\n",
       "<g id=\"edge87\" class=\"edge\">\n",
       "<title>ncbigene\n",
       "59,499,014--cgnc\n",
       "26,075</title>\n",
       "<path fill=\"none\" stroke=\"black\" d=\"M873.53,-1777.7C885.43,-1752.24 905.95,-1715.29 933.46,-1691.5 949.72,-1677.44 962.31,-1686.99 977.71,-1672 991.11,-1658.97 984.61,-1649.03 995.71,-1634 1000.25,-1627.86 1005.88,-1621.94 1011.52,-1616.67\"/>\n",
       "<text text-anchor=\"middle\" x=\"955.59\" y=\"-1694.2\" font-family=\"Times,serif\" font-size=\"14.00\">26,069</text>\n",
       "</g>\n",
       "<!-- omim\n",
       "27,201&#45;&#45;refseq -->\n",
       "<g id=\"edge91\" class=\"edge\">\n",
       "<title>omim\n",
       "27,201--refseq</title>\n",
       "<path fill=\"none\" stroke=\"black\" d=\"M1076.55,-1376C1100.45,-1376 1131.2,-1376 1154.16,-1376\"/>\n",
       "<text text-anchor=\"middle\" x=\"1117.67\" y=\"-1379.2\" font-family=\"Times,serif\" font-size=\"14.00\">17,245</text>\n",
       "</g>\n",
       "<!-- omim\n",
       "27,201&#45;&#45;ucsc -->\n",
       "<g id=\"edge92\" class=\"edge\">\n",
       "<title>omim\n",
       "27,201--ucsc</title>\n",
       "<path fill=\"none\" stroke=\"black\" d=\"M1064.27,-1397.36C1070.48,-1403.77 1076.6,-1411.18 1080.92,-1419 1097.1,-1448.24 1080.16,-1464.34 1098.92,-1492 1103.61,-1498.92 1216.34,-1572.77 1221.3,-1579.5 1236.42,-1600.04 1228.34,-1610.96 1239.3,-1634 1259.57,-1676.63 1291.48,-1722.23 1308.85,-1745.8\"/>\n",
       "<text text-anchor=\"middle\" x=\"1187.86\" y=\"-1582.2\" font-family=\"Times,serif\" font-size=\"14.00\">16,706</text>\n",
       "</g>\n",
       "<!-- omim\n",
       "27,201&#45;&#45;vega -->\n",
       "<g id=\"edge93\" class=\"edge\">\n",
       "<title>omim\n",
       "27,201--vega</title>\n",
       "<path fill=\"none\" stroke=\"black\" d=\"M1069.48,-1392.81C1125.68,-1421.85 1249.76,-1475.18 1349.39,-1441 1358.98,-1437.71 1357.92,-1430.61 1367.39,-1427 1387.2,-1419.45 1411.24,-1418.23 1429.42,-1418.75\"/>\n",
       "<text text-anchor=\"middle\" x=\"1258.05\" y=\"-1455.2\" font-family=\"Times,serif\" font-size=\"14.00\">16,863</text>\n",
       "</g>\n",
       "<!-- omim\n",
       "27,201&#45;&#45;orphanet -->\n",
       "<g id=\"edge94\" class=\"edge\">\n",
       "<title>omim\n",
       "27,201--orphanet</title>\n",
       "<path fill=\"none\" stroke=\"black\" d=\"M1050.33,-1348.49C1059.55,-1324.62 1072.51,-1288.96 1080.92,-1257 1092.41,-1213.33 1074.62,-1195.06 1098.92,-1157 1161.5,-1058.97 1493.1,-889.66 1592.05,-840.66\"/>\n",
       "<text text-anchor=\"middle\" x=\"1322.09\" y=\"-1004.2\" font-family=\"Times,serif\" font-size=\"14.00\">4,399</text>\n",
       "</g>\n",
       "<!-- omim\n",
       "27,201&#45;&#45;cosmic -->\n",
       "<g id=\"edge95\" class=\"edge\">\n",
       "<title>omim\n",
       "27,201--cosmic</title>\n",
       "<path fill=\"none\" stroke=\"black\" d=\"M1055.27,-1349.88C1064.05,-1334.42 1074.45,-1314.17 1080.92,-1295 1095.5,-1251.8 1068.09,-1227.6 1098.92,-1194 1196.21,-1087.96 1302.05,-1203.28 1411.64,-1110 1426.48,-1097.36 1418.19,-1085.78 1429.64,-1070 1455.98,-1033.67 1466.6,-1026.37 1504.28,-1002 1529.6,-985.62 1538.22,-985.41 1566.53,-975 1638.19,-948.66 1658.34,-948.82 1730.87,-925 1746.4,-919.9 1763.57,-913.88 1777.71,-908.82\"/>\n",
       "<text text-anchor=\"middle\" x=\"1389.51\" y=\"-1140.2\" font-family=\"Times,serif\" font-size=\"14.00\">569</text>\n",
       "</g>\n",
       "<!-- omim\n",
       "27,201&#45;&#45;pseudogene -->\n",
       "<g id=\"edge96\" class=\"edge\">\n",
       "<title>omim\n",
       "27,201--pseudogene</title>\n",
       "<path fill=\"none\" stroke=\"black\" d=\"M1064.99,-1397C1071.2,-1403.4 1077.14,-1410.91 1080.92,-1419 1113.09,-1487.83 1083.48,-1514.61 1098.92,-1589 1157.39,-1870.68 1190.39,-1951.21 1367.39,-2178 1439.7,-2270.65 1550.28,-2358.68 1597.41,-2394.34\"/>\n",
       "<text text-anchor=\"middle\" x=\"1322.09\" y=\"-2157.2\" font-family=\"Times,serif\" font-size=\"14.00\">88</text>\n",
       "</g>\n",
       "<!-- omim\n",
       "27,201&#45;&#45;iuphar.ligand -->\n",
       "<g id=\"edge97\" class=\"edge\">\n",
       "<title>omim\n",
       "27,201--iuphar.ligand</title>\n",
       "<path fill=\"none\" stroke=\"black\" d=\"M1061.76,-1398.91C1072.4,-1408.98 1085.67,-1420.42 1098.92,-1429 1156.33,-1466.15 1174.7,-1469.55 1239.3,-1492 1336.24,-1525.69 1637.36,-1584.68 1757.34,-1607.56\"/>\n",
       "<text text-anchor=\"middle\" x=\"1389.51\" y=\"-1539.2\" font-family=\"Times,serif\" font-size=\"14.00\">460</text>\n",
       "</g>\n",
       "<!-- omim\n",
       "27,201&#45;&#45;lncipedia -->\n",
       "<g id=\"edge98\" class=\"edge\">\n",
       "<title>omim\n",
       "27,201--lncipedia</title>\n",
       "<path fill=\"none\" stroke=\"black\" d=\"M1064.79,-1397.09C1071.01,-1403.49 1076.99,-1410.98 1080.92,-1419 1105.8,-1469.8 1078.09,-1492.41 1098.92,-1545 1114.72,-1584.89 1124.23,-1593.51 1154.42,-1624 1180.16,-1650 1199.9,-1642.32 1221.3,-1672 1237.08,-1693.89 1229.98,-1704.67 1239.3,-1730 1260.97,-1788.97 1264.69,-1804.86 1294.8,-1860 1301.68,-1872.61 1357.33,-1956.74 1367.39,-1967 1417.54,-2018.12 1437.19,-2026.93 1504.28,-2052 1528.14,-2060.92 1556.03,-2067.06 1578.44,-2071.03\"/>\n",
       "<text text-anchor=\"middle\" x=\"1322.09\" y=\"-1945.2\" font-family=\"Times,serif\" font-size=\"14.00\">211</text>\n",
       "</g>\n",
       "<!-- omim\n",
       "27,201&#45;&#45;civic.gid\n",
       "890 -->\n",
       "<g id=\"edge99\" class=\"edge\">\n",
       "<title>omim\n",
       "27,201--civic.gid\n",
       "890</title>\n",
       "<path fill=\"none\" stroke=\"black\" d=\"M1052.91,-1348.89C1068.15,-1318.96 1091.68,-1274.28 1098.92,-1269 1403.02,-1047.25 1659.05,-1343.84 1923.45,-1076 1945.72,-1053.45 1924.02,-1033.47 1941.45,-1007 1944.73,-1002.02 1948.99,-997.46 1953.56,-993.41\"/>\n",
       "<text text-anchor=\"middle\" x=\"1457.96\" y=\"-1188.2\" font-family=\"Times,serif\" font-size=\"14.00\">622</text>\n",
       "</g>\n",
       "<!-- omim\n",
       "27,201&#45;&#45;ncit\n",
       "12,711 -->\n",
       "<g id=\"edge100\" class=\"edge\">\n",
       "<title>omim\n",
       "27,201--ncit\n",
       "12,711</title>\n",
       "<path fill=\"none\" stroke=\"black\" d=\"M1072.57,-1363.3C1154.8,-1332.64 1374.95,-1255.21 1566.53,-1229 1708.51,-1209.58 1744.76,-1248.49 1885.95,-1273 1956.86,-1285.31 2040.29,-1296.01 2087.16,-1301.69\"/>\n",
       "<text text-anchor=\"middle\" x=\"1526.4\" y=\"-1241.2\" font-family=\"Times,serif\" font-size=\"14.00\">5,847</text>\n",
       "</g>\n",
       "<!-- omim\n",
       "27,201&#45;&#45;wikidata\n",
       "797,967 -->\n",
       "<g id=\"edge101\" class=\"edge\">\n",
       "<title>omim\n",
       "27,201--wikidata\n",
       "797,967</title>\n",
       "<path fill=\"none\" stroke=\"black\" d=\"M1056.74,-1401.73C1065,-1414.83 1074.44,-1431.28 1080.92,-1447 1093.16,-1476.7 1081.03,-1490.32 1098.92,-1517 1110.5,-1534.28 1124.09,-1528.25 1136.42,-1545 1150.67,-1564.36 1137.92,-1578.52 1154.42,-1596 1176.54,-1619.43 1199.51,-1600.26 1221.3,-1624 1238.97,-1643.26 1227.61,-1656.61 1239.3,-1680 1252.19,-1705.81 1263.9,-1707.19 1276.8,-1733 1288.48,-1756.39 1282.65,-1765.85 1294.8,-1789 1313.29,-1824.25 1332.44,-1823.98 1349.39,-1860 1364.72,-1892.58 1339.24,-1916.54 1367.39,-1939 1382.76,-1951.26 1392.4,-1943.08 1411.64,-1939 1420.2,-1937.18 1421.07,-1932.82 1429.64,-1931 1454.26,-1925.77 1461.14,-1929.62 1486.28,-1931 1672.64,-1941.24 1717.06,-1977 1903.7,-1977 1903.7,-1977 1903.7,-1977 2125.98,-1977 2177.28,-1977 2224.81,-1935.6 2251.2,-1907.46\"/>\n",
       "<text text-anchor=\"middle\" x=\"1620.95\" y=\"-1957.2\" font-family=\"Times,serif\" font-size=\"14.00\">28,393</text>\n",
       "</g>\n",
       "<!-- refseq&#45;&#45;ucsc -->\n",
       "<g id=\"edge102\" class=\"edge\">\n",
       "<title>refseq--ucsc</title>\n",
       "<path fill=\"none\" stroke=\"black\" d=\"M1192.29,-1394.05C1201.67,-1442.67 1227.74,-1573.86 1239.3,-1590 1250.74,-1605.99 1264.89,-1597.85 1276.8,-1613.5 1292.64,-1634.32 1309.98,-1709.22 1317.39,-1744.01\"/>\n",
       "<text text-anchor=\"middle\" x=\"1258.05\" y=\"-1616.2\" font-family=\"Times,serif\" font-size=\"14.00\">23,592</text>\n",
       "</g>\n",
       "<!-- refseq&#45;&#45;vega -->\n",
       "<g id=\"edge103\" class=\"edge\">\n",
       "<title>refseq--vega</title>\n",
       "<path fill=\"none\" stroke=\"black\" d=\"M1205.65,-1391.54C1214.85,-1398.99 1226.89,-1407.12 1239.3,-1411 1285.99,-1425.61 1301.77,-1422.24 1349.39,-1411 1358.09,-1408.95 1358.68,-1404.05 1367.39,-1402 1386.53,-1397.48 1392.36,-1398.12 1411.64,-1402 1419.67,-1403.62 1428.05,-1406.69 1435.39,-1409.9\"/>\n",
       "<text text-anchor=\"middle\" x=\"1322.09\" y=\"-1423.2\" font-family=\"Times,serif\" font-size=\"14.00\">31,349</text>\n",
       "</g>\n",
       "<!-- refseq&#45;&#45;orphanet -->\n",
       "<g id=\"edge104\" class=\"edge\">\n",
       "<title>refseq--orphanet</title>\n",
       "<path fill=\"none\" stroke=\"black\" d=\"M1196.15,-1358.24C1216.65,-1310.12 1279.11,-1175.36 1367.39,-1093.5 1383.72,-1078.36 1395.25,-1085.08 1411.64,-1070 1422.53,-1059.98 1421.57,-1054.4 1429.64,-1042 1454.6,-1003.64 1461.62,-994.56 1486.28,-956 1494.45,-943.22 1493.6,-937.77 1504.28,-927 1520.66,-910.47 1530.39,-913.58 1548.53,-899 1569.67,-882.02 1591.22,-859.41 1605.04,-844.09\"/>\n",
       "<text text-anchor=\"middle\" x=\"1389.51\" y=\"-1096.2\" font-family=\"Times,serif\" font-size=\"14.00\">4,351</text>\n",
       "</g>\n",
       "<!-- refseq&#45;&#45;cosmic -->\n",
       "<g id=\"edge105\" class=\"edge\">\n",
       "<title>refseq--cosmic</title>\n",
       "<path fill=\"none\" stroke=\"black\" d=\"M1207.94,-1361.17C1259.57,-1320.16 1403.65,-1199.63 1486.28,-1070 1497.41,-1052.53 1488.77,-1040.74 1504.28,-1027 1543.45,-992.31 1684.7,-987.61 1730.87,-963 1754.72,-950.29 1777.75,-929.14 1792.21,-914.43\"/>\n",
       "<text text-anchor=\"middle\" x=\"1457.96\" y=\"-1147.2\" font-family=\"Times,serif\" font-size=\"14.00\">560</text>\n",
       "</g>\n",
       "<!-- refseq&#45;&#45;pseudogene -->\n",
       "<g id=\"edge106\" class=\"edge\">\n",
       "<title>refseq--pseudogene</title>\n",
       "<path fill=\"none\" stroke=\"black\" d=\"M1193.18,-1393.8C1199.97,-1422.23 1213.17,-1479.7 1221.3,-1529 1256.05,-1739.78 1207.28,-1809.13 1294.8,-2004 1315.31,-2049.69 1543.75,-2321.01 1604.94,-2393.31\"/>\n",
       "<text text-anchor=\"middle\" x=\"1389.51\" y=\"-2160.2\" font-family=\"Times,serif\" font-size=\"14.00\">8,202</text>\n",
       "</g>\n",
       "<!-- refseq&#45;&#45;iuphar.ligand -->\n",
       "<g id=\"edge107\" class=\"edge\">\n",
       "<title>refseq--iuphar.ligand</title>\n",
       "<path fill=\"none\" stroke=\"black\" d=\"M1193.12,-1394.2C1199.32,-1416.45 1213.07,-1453.55 1239.3,-1473 1261.61,-1489.55 1705.19,-1554.41 1730.87,-1565 1751.67,-1573.57 1772.61,-1588.32 1787.32,-1599.92\"/>\n",
       "<text text-anchor=\"middle\" x=\"1457.96\" y=\"-1524.2\" font-family=\"Times,serif\" font-size=\"14.00\">457</text>\n",
       "</g>\n",
       "<!-- refseq&#45;&#45;lncipedia -->\n",
       "<g id=\"edge108\" class=\"edge\">\n",
       "<title>refseq--lncipedia</title>\n",
       "<path fill=\"none\" stroke=\"black\" d=\"M1192.84,-1393.86C1199.16,-1422.38 1211.73,-1479.96 1221.3,-1529 1230.03,-1573.75 1224.95,-1586.72 1239.3,-1630 1251.02,-1665.38 1264.46,-1669.83 1276.8,-1705 1289.43,-1741.03 1279.39,-1754.07 1294.8,-1789 1300,-1800.8 1419.9,-1969.54 1429.64,-1978 1477.57,-2019.65 1546.07,-2049.74 1586.49,-2065.19\"/>\n",
       "<text text-anchor=\"middle\" x=\"1389.51\" y=\"-1957.2\" font-family=\"Times,serif\" font-size=\"14.00\">2,308</text>\n",
       "</g>\n",
       "<!-- refseq&#45;&#45;civic.gid\n",
       "890 -->\n",
       "<g id=\"edge109\" class=\"edge\">\n",
       "<title>refseq--civic.gid\n",
       "890</title>\n",
       "<path fill=\"none\" stroke=\"black\" d=\"M1192.61,-1357.81C1199.57,-1325.73 1215.93,-1257.32 1239.3,-1203 1284.88,-1097.03 1456.49,-834.64 1566.53,-800 1617.27,-784.03 1853.3,-807.84 1867.95,-814 1924.39,-837.72 1959.12,-905.67 1974.97,-944.63\"/>\n",
       "<text text-anchor=\"middle\" x=\"1526.4\" y=\"-839.2\" font-family=\"Times,serif\" font-size=\"14.00\">613</text>\n",
       "</g>\n",
       "<!-- refseq&#45;&#45;ncit\n",
       "12,711 -->\n",
       "<g id=\"edge110\" class=\"edge\">\n",
       "<title>refseq--ncit\n",
       "12,711</title>\n",
       "<path fill=\"none\" stroke=\"black\" d=\"M1214.56,-1364.7C1257.9,-1346.34 1348.69,-1310.78 1429.64,-1298 1454.5,-1294.07 1461.11,-1297.84 1486.28,-1298 1604.47,-1298.74 1969.07,-1303.81 2086.86,-1305.47\"/>\n",
       "<text text-anchor=\"middle\" x=\"1620.95\" y=\"-1302.2\" font-family=\"Times,serif\" font-size=\"14.00\">5,899</text>\n",
       "</g>\n",
       "<!-- refseq&#45;&#45;wikidata\n",
       "797,967 -->\n",
       "<g id=\"edge111\" class=\"edge\">\n",
       "<title>refseq--wikidata\n",
       "797,967</title>\n",
       "<path fill=\"none\" stroke=\"black\" d=\"M1193.84,-1394.1C1209.27,-1446.16 1261.7,-1596.21 1367.39,-1654 1438.37,-1692.82 1472.12,-1645.41 1548.53,-1672 1620.78,-1697.15 1622.47,-1736.27 1693.37,-1765 1792.52,-1805.18 2114.49,-1857.52 2230.56,-1875.56\"/>\n",
       "<text text-anchor=\"middle\" x=\"1712.12\" y=\"-1780.2\" font-family=\"Times,serif\" font-size=\"14.00\">41,494</text>\n",
       "</g>\n",
       "<!-- ucsc&#45;&#45;vega -->\n",
       "<g id=\"edge112\" class=\"edge\">\n",
       "<title>ucsc--vega</title>\n",
       "<path fill=\"none\" stroke=\"black\" d=\"M1330.14,-1744.44C1338.39,-1724.31 1352.8,-1690.5 1367.39,-1662.5 1385.01,-1628.69 1398.54,-1624.81 1411.64,-1589 1428.96,-1541.65 1414.42,-1525.07 1429.64,-1477 1434.01,-1463.18 1441.29,-1448.49 1447.24,-1437.62\"/>\n",
       "<text text-anchor=\"middle\" x=\"1389.51\" y=\"-1665.2\" font-family=\"Times,serif\" font-size=\"14.00\">20,204</text>\n",
       "</g>\n",
       "<!-- ucsc&#45;&#45;orphanet -->\n",
       "<g id=\"edge113\" class=\"edge\">\n",
       "<title>ucsc--orphanet</title>\n",
       "<path fill=\"none\" stroke=\"black\" d=\"M1325.62,-1743.82C1331.33,-1704.09 1346.4,-1606.69 1367.39,-1527 1389.21,-1444.13 1398.72,-1424.43 1429.64,-1344.5 1452.45,-1285.53 1471,-1275.35 1486.28,-1214 1510.85,-1115.37 1468.36,-1081.09 1504.28,-986 1515.86,-955.34 1529.17,-953.45 1548.53,-927 1569.57,-898.25 1593.55,-864.45 1607.69,-844.43\"/>\n",
       "<text text-anchor=\"middle\" x=\"1457.96\" y=\"-1347.2\" font-family=\"Times,serif\" font-size=\"14.00\">4,362</text>\n",
       "</g>\n",
       "<!-- ucsc&#45;&#45;cosmic -->\n",
       "<g id=\"edge114\" class=\"edge\">\n",
       "<title>ucsc--cosmic</title>\n",
       "<path fill=\"none\" stroke=\"black\" d=\"M1325.05,-1743.78C1329.45,-1706.7 1341.78,-1620.19 1367.39,-1552 1381.54,-1514.33 1397.19,-1510.56 1411.64,-1473 1424.57,-1439.39 1408.32,-1423.02 1429.64,-1394 1446.89,-1370.52 1470.47,-1385.47 1486.28,-1361 1528.11,-1296.25 1467.88,-1256.45 1504.28,-1188.5 1535.14,-1130.89 1685.88,-1048.41 1730.87,-1001 1757.1,-973.37 1782.44,-936.69 1796.38,-915.39\"/>\n",
       "<text text-anchor=\"middle\" x=\"1526.4\" y=\"-1191.2\" font-family=\"Times,serif\" font-size=\"14.00\">564</text>\n",
       "</g>\n",
       "<!-- ucsc&#45;&#45;pseudogene -->\n",
       "<g id=\"edge115\" class=\"edge\">\n",
       "<title>ucsc--pseudogene</title>\n",
       "<path fill=\"none\" stroke=\"black\" d=\"M1330.37,-1779.39C1338.3,-1797.49 1351.94,-1826.3 1367.39,-1849 1384.09,-1873.53 1398.09,-1872.6 1411.64,-1899 1428.08,-1931.04 1418.99,-1943.6 1429.64,-1978 1481.46,-2145.48 1579.21,-2334.77 1610.24,-2393.01\"/>\n",
       "<text text-anchor=\"middle\" x=\"1457.96\" y=\"-2130.2\" font-family=\"Times,serif\" font-size=\"14.00\">42</text>\n",
       "</g>\n",
       "<!-- ucsc&#45;&#45;iuphar.ligand -->\n",
       "<g id=\"edge116\" class=\"edge\">\n",
       "<title>ucsc--iuphar.ligand</title>\n",
       "<path fill=\"none\" stroke=\"black\" d=\"M1340.39,-1748.3C1348.26,-1742.6 1357.92,-1736.31 1367.39,-1732 1438.07,-1699.78 1660.02,-1649.16 1758.97,-1627.45\"/>\n",
       "<text text-anchor=\"middle\" x=\"1526.4\" y=\"-1690.2\" font-family=\"Times,serif\" font-size=\"14.00\">460</text>\n",
       "</g>\n",
       "<!-- ucsc&#45;&#45;lncipedia -->\n",
       "<g id=\"edge117\" class=\"edge\">\n",
       "<title>ucsc--lncipedia</title>\n",
       "<path fill=\"none\" stroke=\"black\" d=\"M1336.68,-1777.59C1340.91,-1782.69 1345.49,-1788.48 1349.39,-1794 1358.35,-1806.71 1356.53,-1812.88 1367.39,-1824 1383.65,-1840.65 1393.05,-1837.99 1411.64,-1852 1497.29,-1916.57 1577.17,-2018.89 1607.29,-2059.53\"/>\n",
       "<text text-anchor=\"middle\" x=\"1457.96\" y=\"-1919.2\" font-family=\"Times,serif\" font-size=\"14.00\">1,311</text>\n",
       "</g>\n",
       "<!-- ucsc&#45;&#45;civic.gid\n",
       "890 -->\n",
       "<g id=\"edge118\" class=\"edge\">\n",
       "<title>ucsc--civic.gid\n",
       "890</title>\n",
       "<path fill=\"none\" stroke=\"black\" d=\"M1335.51,-1746.38C1344,-1736.12 1355.78,-1722.67 1367.39,-1712 1385.45,-1695.4 1394.81,-1696.85 1411.64,-1679 1497.57,-1587.84 1472.33,-1526.09 1566.53,-1443.5 1627.54,-1390.01 1662.75,-1408.08 1730.87,-1364 1797.64,-1320.8 1812.5,-1306 1867.95,-1249 1895.64,-1220.54 1908.46,-1215.76 1923.45,-1179 1952.49,-1107.83 1904.13,-1074.19 1941.45,-1007 1944.44,-1001.62 1948.67,-996.81 1953.33,-992.61\"/>\n",
       "<text text-anchor=\"middle\" x=\"1620.95\" y=\"-1446.2\" font-family=\"Times,serif\" font-size=\"14.00\">613</text>\n",
       "</g>\n",
       "<!-- ucsc&#45;&#45;ncit\n",
       "12,711 -->\n",
       "<g id=\"edge119\" class=\"edge\">\n",
       "<title>ucsc--ncit\n",
       "12,711</title>\n",
       "<path fill=\"none\" stroke=\"black\" d=\"M1346.36,-1770.58C1387.5,-1784.56 1475.63,-1809.17 1548.53,-1793 1665.32,-1767.1 1952.69,-1644.52 2030.9,-1554 2087.58,-1488.41 2111.26,-1384.95 2119.8,-1334.95\"/>\n",
       "<text text-anchor=\"middle\" x=\"1712.12\" y=\"-1747.2\" font-family=\"Times,serif\" font-size=\"14.00\">5,834</text>\n",
       "</g>\n",
       "<!-- ucsc&#45;&#45;wikidata\n",
       "797,967 -->\n",
       "<g id=\"edge120\" class=\"edge\">\n",
       "<title>ucsc--wikidata\n",
       "797,967</title>\n",
       "<path fill=\"none\" stroke=\"black\" d=\"M1339.67,-1775.94C1349.64,-1784.08 1361.5,-1793.27 1367.39,-1796 1646.93,-1925.76 1741.04,-1909.86 2048.9,-1924 2121.23,-1927.32 2143.03,-1938.37 2211.56,-1915 2221.5,-1911.61 2231.75,-1906.71 2240.96,-1901.73\"/>\n",
       "<text text-anchor=\"middle\" x=\"1808.41\" y=\"-1919.2\" font-family=\"Times,serif\" font-size=\"14.00\">23,945</text>\n",
       "</g>\n",
       "<!-- vega&#45;&#45;orphanet -->\n",
       "<g id=\"edge121\" class=\"edge\">\n",
       "<title>vega--orphanet</title>\n",
       "<path fill=\"none\" stroke=\"black\" d=\"M1467.4,-1403.62C1473.74,-1389.72 1482.02,-1369.56 1486.28,-1351 1509.04,-1251.71 1481.47,-1221.78 1504.28,-1122.5 1529.51,-1012.7 1588.24,-889.76 1610.85,-844.73\"/>\n",
       "<text text-anchor=\"middle\" x=\"1526.4\" y=\"-1125.2\" font-family=\"Times,serif\" font-size=\"14.00\">4,357</text>\n",
       "</g>\n",
       "<!-- vega&#45;&#45;cosmic -->\n",
       "<g id=\"edge122\" class=\"edge\">\n",
       "<title>vega--cosmic</title>\n",
       "<path fill=\"none\" stroke=\"black\" d=\"M1473.64,-1405.82C1478.07,-1400.73 1482.7,-1394.86 1486.28,-1389 1497.28,-1370.96 1493.07,-1362.91 1504.28,-1345 1580.43,-1223.37 1653.66,-1235.95 1730.87,-1115 1773.43,-1048.33 1795.95,-954.98 1803.96,-916.1\"/>\n",
       "<text text-anchor=\"middle\" x=\"1620.95\" y=\"-1271.2\" font-family=\"Times,serif\" font-size=\"14.00\">569</text>\n",
       "</g>\n",
       "<!-- vega&#45;&#45;pseudogene -->\n",
       "<g id=\"edge123\" class=\"edge\">\n",
       "<title>vega--pseudogene</title>\n",
       "<path fill=\"none\" stroke=\"black\" d=\"M1469.53,-1437.94C1475.64,-1448.7 1482.79,-1463.15 1486.28,-1477 1511.19,-1575.99 1490.13,-1834.91 1504.28,-1936 1529.63,-2117.14 1594.27,-2329.91 1614.09,-2392.7\"/>\n",
       "<text text-anchor=\"middle\" x=\"1526.4\" y=\"-2149.2\" font-family=\"Times,serif\" font-size=\"14.00\">7,206</text>\n",
       "</g>\n",
       "<!-- vega&#45;&#45;iuphar.ligand -->\n",
       "<g id=\"edge124\" class=\"edge\">\n",
       "<title>vega--iuphar.ligand</title>\n",
       "<path fill=\"none\" stroke=\"black\" d=\"M1482.42,-1430.49C1504.19,-1439.27 1537.5,-1452.63 1566.53,-1464 1639.37,-1492.52 1667.03,-1481.8 1730.87,-1527 1758.83,-1546.79 1782.88,-1579.06 1796.23,-1599.11\"/>\n",
       "<text text-anchor=\"middle\" x=\"1620.95\" y=\"-1499.2\" font-family=\"Times,serif\" font-size=\"14.00\">462</text>\n",
       "</g>\n",
       "<!-- vega&#45;&#45;lncipedia -->\n",
       "<g id=\"edge125\" class=\"edge\">\n",
       "<title>vega--lncipedia</title>\n",
       "<path fill=\"none\" stroke=\"black\" d=\"M1469.37,-1437.98C1475.42,-1448.75 1482.57,-1463.21 1486.28,-1477 1515.33,-1585 1487.38,-1617.44 1504.28,-1728 1517.22,-1812.64 1528.89,-1832.16 1548.53,-1915.5 1556.54,-1949.5 1553.05,-1959.78 1566.53,-1992 1577.02,-2017.08 1594.56,-2043.16 1606.67,-2059.71\"/>\n",
       "<text text-anchor=\"middle\" x=\"1526.4\" y=\"-1918.2\" font-family=\"Times,serif\" font-size=\"14.00\">2,387</text>\n",
       "</g>\n",
       "<!-- vega&#45;&#45;civic.gid\n",
       "890 -->\n",
       "<g id=\"edge126\" class=\"edge\">\n",
       "<title>vega--civic.gid\n",
       "890</title>\n",
       "<path fill=\"none\" stroke=\"black\" d=\"M1473.65,-1405.75C1481.96,-1397.91 1492.95,-1388.81 1504.28,-1383 1550.52,-1359.27 1692.63,-1360.2 1730.87,-1325 1748.87,-1308.44 1734.35,-1292.68 1748.87,-1273 1806,-1195.58 1874.49,-1227.82 1923.45,-1145 1954.93,-1091.76 1910.73,-1060.68 1941.45,-1007 1944.51,-1001.66 1948.77,-996.86 1953.44,-992.67\"/>\n",
       "<text text-anchor=\"middle\" x=\"1712.12\" y=\"-1346.2\" font-family=\"Times,serif\" font-size=\"14.00\">617</text>\n",
       "</g>\n",
       "<!-- vega&#45;&#45;ncit\n",
       "12,711 -->\n",
       "<g id=\"edge127\" class=\"edge\">\n",
       "<title>vega--ncit\n",
       "12,711</title>\n",
       "<path fill=\"none\" stroke=\"black\" d=\"M1486.64,-1421.22C1574.57,-1421.11 1854.34,-1414.43 2069.15,-1339 2078.59,-1335.69 2088.17,-1330.63 2096.62,-1325.45\"/>\n",
       "<text text-anchor=\"middle\" x=\"1808.41\" y=\"-1408.2\" font-family=\"Times,serif\" font-size=\"14.00\">5,747</text>\n",
       "</g>\n",
       "<!-- vega&#45;&#45;wikidata\n",
       "797,967 -->\n",
       "<g id=\"edge128\" class=\"edge\">\n",
       "<title>vega--wikidata\n",
       "797,967</title>\n",
       "<path fill=\"none\" stroke=\"black\" d=\"M1466.17,-1438.24C1496.54,-1509.93 1616.02,-1783.04 1693.37,-1831 1780.43,-1884.98 1836.76,-1789.93 1923.45,-1844.5 1937.43,-1853.3 1927.29,-1868.51 1941.45,-1877 2033.22,-1932.01 2166.53,-1909.73 2232.58,-1893.42\"/>\n",
       "<text text-anchor=\"middle\" x=\"1904.7\" y=\"-1847.2\" font-family=\"Times,serif\" font-size=\"14.00\">31,847</text>\n",
       "</g>\n",
       "<!-- orphanet&#45;&#45;cosmic -->\n",
       "<g id=\"edge129\" class=\"edge\">\n",
       "<title>orphanet--cosmic</title>\n",
       "<path fill=\"none\" stroke=\"black\" d=\"M1662.86,-821.87C1683.88,-820.81 1709.5,-822.03 1730.87,-830.5 1757.23,-840.95 1780.54,-864.7 1794.31,-881.05\"/>\n",
       "<text text-anchor=\"middle\" x=\"1712.12\" y=\"-834.2\" font-family=\"Times,serif\" font-size=\"14.00\">396</text>\n",
       "</g>\n",
       "<!-- orphanet&#45;&#45;iuphar.ligand -->\n",
       "<g id=\"edge130\" class=\"edge\">\n",
       "<title>orphanet--iuphar.ligand</title>\n",
       "<path fill=\"none\" stroke=\"black\" d=\"M1626.57,-845.27C1642.52,-908.88 1696.3,-1126.63 1730.87,-1308.5 1740.66,-1359.97 1737.2,-1373.92 1748.87,-1425 1763.7,-1489.89 1788.99,-1564.83 1800.88,-1598.7\"/>\n",
       "<text text-anchor=\"middle\" x=\"1712.12\" y=\"-1311.2\" font-family=\"Times,serif\" font-size=\"14.00\">177</text>\n",
       "</g>\n",
       "<!-- orphanet&#45;&#45;civic.gid\n",
       "890 -->\n",
       "<g id=\"edge131\" class=\"edge\">\n",
       "<title>orphanet--civic.gid\n",
       "890</title>\n",
       "<path fill=\"none\" stroke=\"black\" d=\"M1662.68,-821.64C1672.69,-820.55 1683.41,-819.56 1693.37,-819 1772.43,-814.59 1799.32,-815.01 1867.95,-854.5 1908.84,-878.02 1945.18,-919.63 1966.19,-946.76\"/>\n",
       "<text text-anchor=\"middle\" x=\"1808.41\" y=\"-858.2\" font-family=\"Times,serif\" font-size=\"14.00\">379</text>\n",
       "</g>\n",
       "<!-- orphanet&#45;&#45;ncit\n",
       "12,711 -->\n",
       "<g id=\"edge132\" class=\"edge\">\n",
       "<title>orphanet--ncit\n",
       "12,711</title>\n",
       "<path fill=\"none\" stroke=\"black\" d=\"M1642.54,-843.05C1667.59,-862.55 1711.19,-896.37 1748.87,-925 1833.97,-989.66 1854.31,-1007.13 1941.45,-1069 1997.25,-1108.61 2032.5,-1097.22 2069.15,-1155 2097.34,-1199.42 2062.44,-1225.55 2087.15,-1272 2089.77,-1276.92 2093.38,-1281.5 2097.32,-1285.61\"/>\n",
       "<text text-anchor=\"middle\" x=\"1904.7\" y=\"-1058.2\" font-family=\"Times,serif\" font-size=\"14.00\">2,388</text>\n",
       "</g>\n",
       "<!-- orphanet&#45;&#45;wikidata\n",
       "797,967 -->\n",
       "<g id=\"edge133\" class=\"edge\">\n",
       "<title>orphanet--wikidata\n",
       "797,967</title>\n",
       "<path fill=\"none\" stroke=\"black\" d=\"M1659.96,-818.77C1670.71,-816.8 1682.45,-814.99 1693.37,-814 1770.65,-807.02 1791.74,-799.46 1867.95,-814 2007.1,-840.54 2059.64,-837.94 2162.81,-935 2197.96,-968.06 2198.75,-985.48 2211.56,-1032 2255.52,-1191.58 2269.39,-1721.54 2272.18,-1852.53\"/>\n",
       "<text text-anchor=\"middle\" x=\"1986.18\" y=\"-852.2\" font-family=\"Times,serif\" font-size=\"14.00\">4,480</text>\n",
       "</g>\n",
       "<!-- cosmic&#45;&#45;civic.gid\n",
       "890 -->\n",
       "<g id=\"edge134\" class=\"edge\">\n",
       "<title>cosmic--civic.gid\n",
       "890</title>\n",
       "<path fill=\"none\" stroke=\"black\" d=\"M1837.26,-909.88C1867.27,-922.69 1915.17,-943.13 1948.29,-957.26\"/>\n",
       "<text text-anchor=\"middle\" x=\"1904.7\" y=\"-949.2\" font-family=\"Times,serif\" font-size=\"14.00\">275</text>\n",
       "</g>\n",
       "<!-- cosmic&#45;&#45;ncit\n",
       "12,711 -->\n",
       "<g id=\"edge135\" class=\"edge\">\n",
       "<title>cosmic--ncit\n",
       "12,711</title>\n",
       "<path fill=\"none\" stroke=\"black\" d=\"M1826.46,-913.94C1841.8,-928.13 1865.05,-949.32 1885.95,-967 1909.99,-987.33 1915.28,-993.52 1941.45,-1011 1995.45,-1047.07 2029.77,-1030.37 2069.15,-1082 2113.84,-1140.57 2122.61,-1230.66 2124.02,-1276.71\"/>\n",
       "<text text-anchor=\"middle\" x=\"1986.18\" y=\"-1051.2\" font-family=\"Times,serif\" font-size=\"14.00\">569</text>\n",
       "</g>\n",
       "<!-- cosmic&#45;&#45;wikidata\n",
       "797,967 -->\n",
       "<g id=\"edge136\" class=\"edge\">\n",
       "<title>cosmic--wikidata\n",
       "797,967</title>\n",
       "<path fill=\"none\" stroke=\"black\" d=\"M1846.13,-895.64C1920.69,-893.12 2089.05,-899.57 2162.81,-1001 2264.81,-1141.24 2272.44,-1715.52 2272.8,-1852.54\"/>\n",
       "<text text-anchor=\"middle\" x=\"2059.03\" y=\"-932.2\" font-family=\"Times,serif\" font-size=\"14.00\">577</text>\n",
       "</g>\n",
       "<!-- pseudogene&#45;&#45;wikidata\n",
       "797,967 -->\n",
       "<g id=\"edge137\" class=\"edge\">\n",
       "<title>pseudogene--wikidata\n",
       "797,967</title>\n",
       "<path fill=\"none\" stroke=\"black\" d=\"M1634.26,-2393.07C1661.08,-2356.35 1728.76,-2276 1807.41,-2276 1807.41,-2276 1807.41,-2276 2125.98,-2276 2203.91,-2276 2253.94,-2001.96 2268.41,-1910.97\"/>\n",
       "<text text-anchor=\"middle\" x=\"1986.18\" y=\"-2279.2\" font-family=\"Times,serif\" font-size=\"14.00\">8,262</text>\n",
       "</g>\n",
       "<!-- iuphar.ligand&#45;&#45;civic.gid\n",
       "890 -->\n",
       "<g id=\"edge138\" class=\"edge\">\n",
       "<title>iuphar.ligand--civic.gid\n",
       "890</title>\n",
       "<path fill=\"none\" stroke=\"black\" d=\"M1815.07,-1598.76C1825.62,-1564.67 1848.96,-1488.97 1867.95,-1425 1893.24,-1339.85 1907.37,-1320.36 1923.45,-1233 1932.22,-1185.41 1920.92,-1059.81 1941.45,-1016 1945.07,-1008.29 1950.69,-1001.2 1956.72,-995.09\"/>\n",
       "<text text-anchor=\"middle\" x=\"1904.7\" y=\"-1368.2\" font-family=\"Times,serif\" font-size=\"14.00\">38</text>\n",
       "</g>\n",
       "<!-- iuphar.ligand&#45;&#45;ncit\n",
       "12,711 -->\n",
       "<g id=\"edge139\" class=\"edge\">\n",
       "<title>iuphar.ligand--ncit\n",
       "12,711</title>\n",
       "<path fill=\"none\" stroke=\"black\" d=\"M1838.26,-1601.03C1890.24,-1571.04 2000.59,-1501.73 2069.15,-1418 2089.86,-1392.71 2105.22,-1358.29 2114.33,-1334.3\"/>\n",
       "<text text-anchor=\"middle\" x=\"1986.18\" y=\"-1536.2\" font-family=\"Times,serif\" font-size=\"14.00\">345</text>\n",
       "</g>\n",
       "<!-- iuphar.ligand&#45;&#45;wikidata\n",
       "797,967 -->\n",
       "<g id=\"edge140\" class=\"edge\">\n",
       "<title>iuphar.ligand--wikidata\n",
       "797,967</title>\n",
       "<path fill=\"none\" stroke=\"black\" d=\"M1837.35,-1632.98C1918.26,-1679.25 2152.47,-1813.21 2239.6,-1863.03\"/>\n",
       "<text text-anchor=\"middle\" x=\"2059.03\" y=\"-1767.2\" font-family=\"Times,serif\" font-size=\"14.00\">469</text>\n",
       "</g>\n",
       "<!-- lncipedia&#45;&#45;ncit\n",
       "12,711 -->\n",
       "<g id=\"edge141\" class=\"edge\">\n",
       "<title>lncipedia--ncit\n",
       "12,711</title>\n",
       "<path fill=\"none\" stroke=\"black\" d=\"M1645.8,-2061.65C1705.74,-2023.03 1858.6,-1924.22 1867.95,-1915 1878.09,-1905 1875.7,-1898.38 1885.95,-1888.5 1900.12,-1874.85 1911.3,-1880.46 1923.45,-1865 1939.09,-1845.11 1924.16,-1829.46 1941.45,-1811 1983.36,-1766.28 2031.96,-1807.7 2069.15,-1759 2120.18,-1692.19 2124.29,-1424.77 2124.2,-1335.32\"/>\n",
       "<text text-anchor=\"middle\" x=\"1904.7\" y=\"-1891.2\" font-family=\"Times,serif\" font-size=\"14.00\">29</text>\n",
       "</g>\n",
       "<!-- lncipedia&#45;&#45;wikidata\n",
       "797,967 -->\n",
       "<g id=\"edge142\" class=\"edge\">\n",
       "<title>lncipedia--wikidata\n",
       "797,967</title>\n",
       "<path fill=\"none\" stroke=\"black\" d=\"M1665.79,-2076.63C1703.37,-2076.35 1758.95,-2076 1807.41,-2076 1807.41,-2076 1807.41,-2076 2125.98,-2076 2207.92,-2076 2249.96,-1964.59 2265.52,-1910.63\"/>\n",
       "<text text-anchor=\"middle\" x=\"1986.18\" y=\"-2079.2\" font-family=\"Times,serif\" font-size=\"14.00\">2,455</text>\n",
       "</g>\n",
       "<!-- civic.gid\n",
       "890&#45;&#45;ncit\n",
       "12,711 -->\n",
       "<g id=\"edge144\" class=\"edge\">\n",
       "<title>civic.gid\n",
       "890--ncit\n",
       "12,711</title>\n",
       "<path fill=\"none\" stroke=\"black\" d=\"M2028.92,-981.81C2043.68,-986.94 2059.09,-994.98 2069.15,-1007.5 2102.41,-1048.88 2117.28,-1210.05 2122.11,-1276.8\"/>\n",
       "<text text-anchor=\"middle\" x=\"2059.03\" y=\"-1010.2\" font-family=\"Times,serif\" font-size=\"14.00\">577</text>\n",
       "</g>\n",
       "<!-- civic.gid\n",
       "890&#45;&#45;wikidata\n",
       "797,967 -->\n",
       "<g id=\"edge145\" class=\"edge\">\n",
       "<title>civic.gid\n",
       "890--wikidata\n",
       "797,967</title>\n",
       "<path fill=\"none\" stroke=\"black\" d=\"M2031.22,-972.16C2044.67,-973.96 2058.66,-978.17 2069.15,-987 2164.55,-1067.32 2130.8,-1130.97 2162.81,-1251.5 2223.29,-1479.17 2259,-1762.15 2269.49,-1852.7\"/>\n",
       "<text text-anchor=\"middle\" x=\"2124.98\" y=\"-1254.2\" font-family=\"Times,serif\" font-size=\"14.00\">630</text>\n",
       "</g>\n",
       "<!-- ncit\n",
       "12,711&#45;&#45;wikidata\n",
       "797,967 -->\n",
       "<g id=\"edge146\" class=\"edge\">\n",
       "<title>ncit\n",
       "12,711--wikidata\n",
       "797,967</title>\n",
       "<path fill=\"none\" stroke=\"black\" d=\"M2133.26,-1334.56C2158.25,-1432.63 2240.38,-1754.94 2265.44,-1853.26\"/>\n",
       "<text text-anchor=\"middle\" x=\"2196.19\" y=\"-1631.2\" font-family=\"Times,serif\" font-size=\"14.00\">6,006</text>\n",
       "</g>\n",
       "<!-- mgi\n",
       "737,779&#45;&#45;wikidata\n",
       "797,967 -->\n",
       "<g id=\"edge143\" class=\"edge\">\n",
       "<title>mgi\n",
       "737,779--wikidata\n",
       "797,967</title>\n",
       "<path fill=\"none\" stroke=\"black\" d=\"M1062.71,-2281.04C1068.66,-2287.2 1075.04,-2293.83 1080.92,-2300 1230.01,-2456.5 1242.12,-2531.49 1429.64,-2639 1507.82,-2683.83 1529.83,-2709 1619.95,-2709 1619.95,-2709 1619.95,-2709 2125.98,-2709 2175.12,-2709 2188.74,-2682.52 2211.56,-2639 2245.89,-2573.53 2267.03,-2041.89 2271.75,-1911.02\"/>\n",
       "<text text-anchor=\"middle\" x=\"1620.95\" y=\"-2712.2\" font-family=\"Times,serif\" font-size=\"14.00\">71,594</text>\n",
       "</g>\n",
       "</g>\n",
       "</svg>"
      ],
      "text/plain": [
       "<IPython.core.display.SVG object>"
      ]
     },
     "metadata": {},
     "output_type": "display_data"
    },
    {
     "data": {
      "text/markdown": [
       "## Comparison\n",
       "\n",
       "The following comparison shows the absolute number of mappings added by processing/inference.\n",
       "Across the board, this process adds large numbers of mappings to most resources, especially\n",
       "ones that were previously only connected to a small number of other resources.\n"
      ],
      "text/plain": [
       "<IPython.core.display.Markdown object>"
      ]
     },
     "metadata": {},
     "output_type": "display_data"
    },
    {
     "data": {
      "text/html": [
       "<div>\n",
       "<style scoped>\n",
       "    .dataframe tbody tr th:only-of-type {\n",
       "        vertical-align: middle;\n",
       "    }\n",
       "\n",
       "    .dataframe tbody tr th {\n",
       "        vertical-align: top;\n",
       "    }\n",
       "\n",
       "    .dataframe thead th {\n",
       "        text-align: right;\n",
       "    }\n",
       "</style>\n",
       "<table border=\"1\" class=\"dataframe\">\n",
       "  <thead>\n",
       "    <tr style=\"text-align: right;\">\n",
       "      <th>target_prefix</th>\n",
       "      <th>ncbigene</th>\n",
       "      <th>hgnc</th>\n",
       "      <th>mgi</th>\n",
       "      <th>rgd</th>\n",
       "      <th>cgnc</th>\n",
       "      <th>wormbase</th>\n",
       "      <th>flybase</th>\n",
       "      <th>sgd</th>\n",
       "      <th>omim</th>\n",
       "      <th>civic.gid</th>\n",
       "      <th>umls</th>\n",
       "      <th>ncit</th>\n",
       "      <th>wikidata</th>\n",
       "    </tr>\n",
       "    <tr>\n",
       "      <th>source_prefix</th>\n",
       "      <th></th>\n",
       "      <th></th>\n",
       "      <th></th>\n",
       "      <th></th>\n",
       "      <th></th>\n",
       "      <th></th>\n",
       "      <th></th>\n",
       "      <th></th>\n",
       "      <th></th>\n",
       "      <th></th>\n",
       "      <th></th>\n",
       "      <th></th>\n",
       "      <th></th>\n",
       "    </tr>\n",
       "  </thead>\n",
       "  <tbody>\n",
       "    <tr>\n",
       "      <th>ncbigene</th>\n",
       "      <td>0</td>\n",
       "      <td>486</td>\n",
       "      <td>0</td>\n",
       "      <td>0</td>\n",
       "      <td>0</td>\n",
       "      <td>0</td>\n",
       "      <td>0</td>\n",
       "      <td>0</td>\n",
       "      <td>21</td>\n",
       "      <td>29</td>\n",
       "      <td>0</td>\n",
       "      <td>5957</td>\n",
       "      <td>816</td>\n",
       "    </tr>\n",
       "    <tr>\n",
       "      <th>hgnc</th>\n",
       "      <td>486</td>\n",
       "      <td>0</td>\n",
       "      <td>0</td>\n",
       "      <td>0</td>\n",
       "      <td>0</td>\n",
       "      <td>0</td>\n",
       "      <td>0</td>\n",
       "      <td>0</td>\n",
       "      <td>366</td>\n",
       "      <td>622</td>\n",
       "      <td>0</td>\n",
       "      <td>0</td>\n",
       "      <td>1042</td>\n",
       "    </tr>\n",
       "    <tr>\n",
       "      <th>mgi</th>\n",
       "      <td>0</td>\n",
       "      <td>0</td>\n",
       "      <td>0</td>\n",
       "      <td>0</td>\n",
       "      <td>0</td>\n",
       "      <td>0</td>\n",
       "      <td>0</td>\n",
       "      <td>0</td>\n",
       "      <td>0</td>\n",
       "      <td>0</td>\n",
       "      <td>0</td>\n",
       "      <td>0</td>\n",
       "      <td>71594</td>\n",
       "    </tr>\n",
       "    <tr>\n",
       "      <th>rgd</th>\n",
       "      <td>0</td>\n",
       "      <td>0</td>\n",
       "      <td>0</td>\n",
       "      <td>0</td>\n",
       "      <td>0</td>\n",
       "      <td>0</td>\n",
       "      <td>0</td>\n",
       "      <td>0</td>\n",
       "      <td>0</td>\n",
       "      <td>0</td>\n",
       "      <td>0</td>\n",
       "      <td>0</td>\n",
       "      <td>0</td>\n",
       "    </tr>\n",
       "    <tr>\n",
       "      <th>cgnc</th>\n",
       "      <td>0</td>\n",
       "      <td>0</td>\n",
       "      <td>0</td>\n",
       "      <td>0</td>\n",
       "      <td>0</td>\n",
       "      <td>0</td>\n",
       "      <td>0</td>\n",
       "      <td>0</td>\n",
       "      <td>0</td>\n",
       "      <td>0</td>\n",
       "      <td>0</td>\n",
       "      <td>0</td>\n",
       "      <td>1</td>\n",
       "    </tr>\n",
       "    <tr>\n",
       "      <th>wormbase</th>\n",
       "      <td>0</td>\n",
       "      <td>0</td>\n",
       "      <td>0</td>\n",
       "      <td>0</td>\n",
       "      <td>0</td>\n",
       "      <td>0</td>\n",
       "      <td>0</td>\n",
       "      <td>0</td>\n",
       "      <td>0</td>\n",
       "      <td>0</td>\n",
       "      <td>0</td>\n",
       "      <td>0</td>\n",
       "      <td>0</td>\n",
       "    </tr>\n",
       "    <tr>\n",
       "      <th>flybase</th>\n",
       "      <td>0</td>\n",
       "      <td>0</td>\n",
       "      <td>0</td>\n",
       "      <td>0</td>\n",
       "      <td>0</td>\n",
       "      <td>0</td>\n",
       "      <td>0</td>\n",
       "      <td>0</td>\n",
       "      <td>0</td>\n",
       "      <td>0</td>\n",
       "      <td>0</td>\n",
       "      <td>0</td>\n",
       "      <td>0</td>\n",
       "    </tr>\n",
       "    <tr>\n",
       "      <th>sgd</th>\n",
       "      <td>0</td>\n",
       "      <td>0</td>\n",
       "      <td>0</td>\n",
       "      <td>0</td>\n",
       "      <td>0</td>\n",
       "      <td>0</td>\n",
       "      <td>0</td>\n",
       "      <td>0</td>\n",
       "      <td>0</td>\n",
       "      <td>0</td>\n",
       "      <td>0</td>\n",
       "      <td>0</td>\n",
       "      <td>0</td>\n",
       "    </tr>\n",
       "    <tr>\n",
       "      <th>omim</th>\n",
       "      <td>21</td>\n",
       "      <td>366</td>\n",
       "      <td>0</td>\n",
       "      <td>0</td>\n",
       "      <td>0</td>\n",
       "      <td>0</td>\n",
       "      <td>0</td>\n",
       "      <td>0</td>\n",
       "      <td>0</td>\n",
       "      <td>622</td>\n",
       "      <td>0</td>\n",
       "      <td>5847</td>\n",
       "      <td>2485</td>\n",
       "    </tr>\n",
       "    <tr>\n",
       "      <th>civic.gid</th>\n",
       "      <td>29</td>\n",
       "      <td>622</td>\n",
       "      <td>0</td>\n",
       "      <td>0</td>\n",
       "      <td>0</td>\n",
       "      <td>0</td>\n",
       "      <td>0</td>\n",
       "      <td>0</td>\n",
       "      <td>622</td>\n",
       "      <td>0</td>\n",
       "      <td>0</td>\n",
       "      <td>577</td>\n",
       "      <td>139</td>\n",
       "    </tr>\n",
       "    <tr>\n",
       "      <th>umls</th>\n",
       "      <td>0</td>\n",
       "      <td>0</td>\n",
       "      <td>0</td>\n",
       "      <td>0</td>\n",
       "      <td>0</td>\n",
       "      <td>0</td>\n",
       "      <td>0</td>\n",
       "      <td>0</td>\n",
       "      <td>0</td>\n",
       "      <td>0</td>\n",
       "      <td>0</td>\n",
       "      <td>0</td>\n",
       "      <td>0</td>\n",
       "    </tr>\n",
       "    <tr>\n",
       "      <th>ncit</th>\n",
       "      <td>5957</td>\n",
       "      <td>0</td>\n",
       "      <td>0</td>\n",
       "      <td>0</td>\n",
       "      <td>0</td>\n",
       "      <td>0</td>\n",
       "      <td>0</td>\n",
       "      <td>0</td>\n",
       "      <td>5847</td>\n",
       "      <td>577</td>\n",
       "      <td>0</td>\n",
       "      <td>0</td>\n",
       "      <td>6006</td>\n",
       "    </tr>\n",
       "    <tr>\n",
       "      <th>wikidata</th>\n",
       "      <td>816</td>\n",
       "      <td>1042</td>\n",
       "      <td>71594</td>\n",
       "      <td>0</td>\n",
       "      <td>1</td>\n",
       "      <td>0</td>\n",
       "      <td>0</td>\n",
       "      <td>0</td>\n",
       "      <td>2485</td>\n",
       "      <td>139</td>\n",
       "      <td>0</td>\n",
       "      <td>6006</td>\n",
       "      <td>0</td>\n",
       "    </tr>\n",
       "  </tbody>\n",
       "</table>\n",
       "</div>"
      ],
      "text/plain": [
       "target_prefix  ncbigene  hgnc    mgi  rgd  cgnc  wormbase  flybase  sgd  omim  \\\n",
       "source_prefix                                                                   \n",
       "ncbigene              0   486      0    0     0         0        0    0    21   \n",
       "hgnc                486     0      0    0     0         0        0    0   366   \n",
       "mgi                   0     0      0    0     0         0        0    0     0   \n",
       "rgd                   0     0      0    0     0         0        0    0     0   \n",
       "cgnc                  0     0      0    0     0         0        0    0     0   \n",
       "wormbase              0     0      0    0     0         0        0    0     0   \n",
       "flybase               0     0      0    0     0         0        0    0     0   \n",
       "sgd                   0     0      0    0     0         0        0    0     0   \n",
       "omim                 21   366      0    0     0         0        0    0     0   \n",
       "civic.gid            29   622      0    0     0         0        0    0   622   \n",
       "umls                  0     0      0    0     0         0        0    0     0   \n",
       "ncit               5957     0      0    0     0         0        0    0  5847   \n",
       "wikidata            816  1042  71594    0     1         0        0    0  2485   \n",
       "\n",
       "target_prefix  civic.gid  umls  ncit  wikidata  \n",
       "source_prefix                                   \n",
       "ncbigene              29     0  5957       816  \n",
       "hgnc                 622     0     0      1042  \n",
       "mgi                    0     0     0     71594  \n",
       "rgd                    0     0     0         0  \n",
       "cgnc                   0     0     0         1  \n",
       "wormbase               0     0     0         0  \n",
       "flybase                0     0     0         0  \n",
       "sgd                    0     0     0         0  \n",
       "omim                 622     0  5847      2485  \n",
       "civic.gid              0     0   577       139  \n",
       "umls                   0     0     0         0  \n",
       "ncit                 577     0     0      6006  \n",
       "wikidata             139     0  6006         0  "
      ]
     },
     "metadata": {},
     "output_type": "display_data"
    },
    {
     "data": {
      "text/markdown": [
       "Here's an alternative view on the number of mappings normalized to show percentage gain.\n",
       "\n",
       "Note:\n",
       "\n",
       "- `inf` means that there were no mappings before and now there are a non-zero number of\n",
       "   mappings\n",
       "- `NaN` means there were no mappings before inference and continue to be no mappings after\n",
       "   inference\n"
      ],
      "text/plain": [
       "<IPython.core.display.Markdown object>"
      ]
     },
     "metadata": {},
     "output_type": "display_data"
    },
    {
     "data": {
      "text/html": [
       "<div>\n",
       "<style scoped>\n",
       "    .dataframe tbody tr th:only-of-type {\n",
       "        vertical-align: middle;\n",
       "    }\n",
       "\n",
       "    .dataframe tbody tr th {\n",
       "        vertical-align: top;\n",
       "    }\n",
       "\n",
       "    .dataframe thead th {\n",
       "        text-align: right;\n",
       "    }\n",
       "</style>\n",
       "<table border=\"1\" class=\"dataframe\">\n",
       "  <thead>\n",
       "    <tr style=\"text-align: right;\">\n",
       "      <th>target_prefix</th>\n",
       "      <th>ncbigene</th>\n",
       "      <th>hgnc</th>\n",
       "      <th>mgi</th>\n",
       "      <th>rgd</th>\n",
       "      <th>cgnc</th>\n",
       "      <th>wormbase</th>\n",
       "      <th>flybase</th>\n",
       "      <th>sgd</th>\n",
       "      <th>omim</th>\n",
       "      <th>civic.gid</th>\n",
       "      <th>umls</th>\n",
       "      <th>ncit</th>\n",
       "      <th>wikidata</th>\n",
       "    </tr>\n",
       "    <tr>\n",
       "      <th>source_prefix</th>\n",
       "      <th></th>\n",
       "      <th></th>\n",
       "      <th></th>\n",
       "      <th></th>\n",
       "      <th></th>\n",
       "      <th></th>\n",
       "      <th></th>\n",
       "      <th></th>\n",
       "      <th></th>\n",
       "      <th></th>\n",
       "      <th></th>\n",
       "      <th></th>\n",
       "      <th></th>\n",
       "    </tr>\n",
       "  </thead>\n",
       "  <tbody>\n",
       "    <tr>\n",
       "      <th>ncbigene</th>\n",
       "      <td>0.0</td>\n",
       "      <td>1.1</td>\n",
       "      <td>0.0</td>\n",
       "      <td>0.0</td>\n",
       "      <td>0.0</td>\n",
       "      <td>NaN</td>\n",
       "      <td>NaN</td>\n",
       "      <td>NaN</td>\n",
       "      <td>0.1</td>\n",
       "      <td>4.9</td>\n",
       "      <td>NaN</td>\n",
       "      <td>inf</td>\n",
       "      <td>0.1</td>\n",
       "    </tr>\n",
       "    <tr>\n",
       "      <th>hgnc</th>\n",
       "      <td>1.1</td>\n",
       "      <td>0.0</td>\n",
       "      <td>NaN</td>\n",
       "      <td>NaN</td>\n",
       "      <td>NaN</td>\n",
       "      <td>NaN</td>\n",
       "      <td>NaN</td>\n",
       "      <td>NaN</td>\n",
       "      <td>2.1</td>\n",
       "      <td>inf</td>\n",
       "      <td>NaN</td>\n",
       "      <td>0.0</td>\n",
       "      <td>2.4</td>\n",
       "    </tr>\n",
       "    <tr>\n",
       "      <th>mgi</th>\n",
       "      <td>0.0</td>\n",
       "      <td>NaN</td>\n",
       "      <td>0.0</td>\n",
       "      <td>NaN</td>\n",
       "      <td>NaN</td>\n",
       "      <td>NaN</td>\n",
       "      <td>NaN</td>\n",
       "      <td>NaN</td>\n",
       "      <td>NaN</td>\n",
       "      <td>NaN</td>\n",
       "      <td>NaN</td>\n",
       "      <td>NaN</td>\n",
       "      <td>inf</td>\n",
       "    </tr>\n",
       "    <tr>\n",
       "      <th>rgd</th>\n",
       "      <td>0.0</td>\n",
       "      <td>NaN</td>\n",
       "      <td>NaN</td>\n",
       "      <td>0.0</td>\n",
       "      <td>NaN</td>\n",
       "      <td>NaN</td>\n",
       "      <td>NaN</td>\n",
       "      <td>NaN</td>\n",
       "      <td>NaN</td>\n",
       "      <td>NaN</td>\n",
       "      <td>NaN</td>\n",
       "      <td>NaN</td>\n",
       "      <td>NaN</td>\n",
       "    </tr>\n",
       "    <tr>\n",
       "      <th>cgnc</th>\n",
       "      <td>0.0</td>\n",
       "      <td>NaN</td>\n",
       "      <td>NaN</td>\n",
       "      <td>NaN</td>\n",
       "      <td>0.0</td>\n",
       "      <td>NaN</td>\n",
       "      <td>NaN</td>\n",
       "      <td>NaN</td>\n",
       "      <td>NaN</td>\n",
       "      <td>NaN</td>\n",
       "      <td>NaN</td>\n",
       "      <td>NaN</td>\n",
       "      <td>inf</td>\n",
       "    </tr>\n",
       "    <tr>\n",
       "      <th>wormbase</th>\n",
       "      <td>NaN</td>\n",
       "      <td>NaN</td>\n",
       "      <td>NaN</td>\n",
       "      <td>NaN</td>\n",
       "      <td>NaN</td>\n",
       "      <td>NaN</td>\n",
       "      <td>NaN</td>\n",
       "      <td>NaN</td>\n",
       "      <td>NaN</td>\n",
       "      <td>NaN</td>\n",
       "      <td>NaN</td>\n",
       "      <td>NaN</td>\n",
       "      <td>NaN</td>\n",
       "    </tr>\n",
       "    <tr>\n",
       "      <th>flybase</th>\n",
       "      <td>NaN</td>\n",
       "      <td>NaN</td>\n",
       "      <td>NaN</td>\n",
       "      <td>NaN</td>\n",
       "      <td>NaN</td>\n",
       "      <td>NaN</td>\n",
       "      <td>0.0</td>\n",
       "      <td>NaN</td>\n",
       "      <td>NaN</td>\n",
       "      <td>NaN</td>\n",
       "      <td>NaN</td>\n",
       "      <td>NaN</td>\n",
       "      <td>NaN</td>\n",
       "    </tr>\n",
       "    <tr>\n",
       "      <th>sgd</th>\n",
       "      <td>NaN</td>\n",
       "      <td>NaN</td>\n",
       "      <td>NaN</td>\n",
       "      <td>NaN</td>\n",
       "      <td>NaN</td>\n",
       "      <td>NaN</td>\n",
       "      <td>NaN</td>\n",
       "      <td>0.0</td>\n",
       "      <td>NaN</td>\n",
       "      <td>NaN</td>\n",
       "      <td>NaN</td>\n",
       "      <td>NaN</td>\n",
       "      <td>NaN</td>\n",
       "    </tr>\n",
       "    <tr>\n",
       "      <th>omim</th>\n",
       "      <td>0.1</td>\n",
       "      <td>2.1</td>\n",
       "      <td>NaN</td>\n",
       "      <td>NaN</td>\n",
       "      <td>NaN</td>\n",
       "      <td>NaN</td>\n",
       "      <td>NaN</td>\n",
       "      <td>NaN</td>\n",
       "      <td>0.0</td>\n",
       "      <td>inf</td>\n",
       "      <td>NaN</td>\n",
       "      <td>inf</td>\n",
       "      <td>9.6</td>\n",
       "    </tr>\n",
       "    <tr>\n",
       "      <th>civic.gid</th>\n",
       "      <td>4.9</td>\n",
       "      <td>inf</td>\n",
       "      <td>NaN</td>\n",
       "      <td>NaN</td>\n",
       "      <td>NaN</td>\n",
       "      <td>NaN</td>\n",
       "      <td>NaN</td>\n",
       "      <td>NaN</td>\n",
       "      <td>inf</td>\n",
       "      <td>0.0</td>\n",
       "      <td>NaN</td>\n",
       "      <td>inf</td>\n",
       "      <td>28.3</td>\n",
       "    </tr>\n",
       "    <tr>\n",
       "      <th>umls</th>\n",
       "      <td>NaN</td>\n",
       "      <td>NaN</td>\n",
       "      <td>NaN</td>\n",
       "      <td>NaN</td>\n",
       "      <td>NaN</td>\n",
       "      <td>NaN</td>\n",
       "      <td>NaN</td>\n",
       "      <td>NaN</td>\n",
       "      <td>NaN</td>\n",
       "      <td>NaN</td>\n",
       "      <td>0.0</td>\n",
       "      <td>NaN</td>\n",
       "      <td>NaN</td>\n",
       "    </tr>\n",
       "    <tr>\n",
       "      <th>ncit</th>\n",
       "      <td>inf</td>\n",
       "      <td>0.0</td>\n",
       "      <td>NaN</td>\n",
       "      <td>NaN</td>\n",
       "      <td>NaN</td>\n",
       "      <td>NaN</td>\n",
       "      <td>NaN</td>\n",
       "      <td>NaN</td>\n",
       "      <td>inf</td>\n",
       "      <td>inf</td>\n",
       "      <td>NaN</td>\n",
       "      <td>0.0</td>\n",
       "      <td>inf</td>\n",
       "    </tr>\n",
       "    <tr>\n",
       "      <th>wikidata</th>\n",
       "      <td>0.1</td>\n",
       "      <td>2.4</td>\n",
       "      <td>inf</td>\n",
       "      <td>NaN</td>\n",
       "      <td>inf</td>\n",
       "      <td>NaN</td>\n",
       "      <td>NaN</td>\n",
       "      <td>NaN</td>\n",
       "      <td>9.6</td>\n",
       "      <td>28.3</td>\n",
       "      <td>NaN</td>\n",
       "      <td>inf</td>\n",
       "      <td>0.0</td>\n",
       "    </tr>\n",
       "  </tbody>\n",
       "</table>\n",
       "</div>"
      ],
      "text/plain": [
       "target_prefix  ncbigene  hgnc  mgi  rgd  cgnc  wormbase  flybase  sgd  omim  \\\n",
       "source_prefix                                                                 \n",
       "ncbigene            0.0   1.1  0.0  0.0   0.0       NaN      NaN  NaN   0.1   \n",
       "hgnc                1.1   0.0  NaN  NaN   NaN       NaN      NaN  NaN   2.1   \n",
       "mgi                 0.0   NaN  0.0  NaN   NaN       NaN      NaN  NaN   NaN   \n",
       "rgd                 0.0   NaN  NaN  0.0   NaN       NaN      NaN  NaN   NaN   \n",
       "cgnc                0.0   NaN  NaN  NaN   0.0       NaN      NaN  NaN   NaN   \n",
       "wormbase            NaN   NaN  NaN  NaN   NaN       NaN      NaN  NaN   NaN   \n",
       "flybase             NaN   NaN  NaN  NaN   NaN       NaN      0.0  NaN   NaN   \n",
       "sgd                 NaN   NaN  NaN  NaN   NaN       NaN      NaN  0.0   NaN   \n",
       "omim                0.1   2.1  NaN  NaN   NaN       NaN      NaN  NaN   0.0   \n",
       "civic.gid           4.9   inf  NaN  NaN   NaN       NaN      NaN  NaN   inf   \n",
       "umls                NaN   NaN  NaN  NaN   NaN       NaN      NaN  NaN   NaN   \n",
       "ncit                inf   0.0  NaN  NaN   NaN       NaN      NaN  NaN   inf   \n",
       "wikidata            0.1   2.4  inf  NaN   inf       NaN      NaN  NaN   9.6   \n",
       "\n",
       "target_prefix  civic.gid  umls  ncit  wikidata  \n",
       "source_prefix                                   \n",
       "ncbigene             4.9   NaN   inf       0.1  \n",
       "hgnc                 inf   NaN   0.0       2.4  \n",
       "mgi                  NaN   NaN   NaN       inf  \n",
       "rgd                  NaN   NaN   NaN       NaN  \n",
       "cgnc                 NaN   NaN   NaN       inf  \n",
       "wormbase             NaN   NaN   NaN       NaN  \n",
       "flybase              NaN   NaN   NaN       NaN  \n",
       "sgd                  NaN   NaN   NaN       NaN  \n",
       "omim                 inf   NaN   inf       9.6  \n",
       "civic.gid            0.0   NaN   inf      28.3  \n",
       "umls                 NaN   0.0   NaN       NaN  \n",
       "ncit                 inf   NaN   0.0       inf  \n",
       "wikidata            28.3   NaN   inf       0.0  "
      ]
     },
     "metadata": {},
     "output_type": "display_data"
    },
    {
     "data": {
      "text/markdown": [
       "## Landscape Analysis\n",
       "\n",
       "Before, we looked at the overlaps between each resource. Now, we use that information\n",
       "jointly to estimate the number of terms in the landscape itself, and estimate how much\n",
       "of the landscape each resource covers.\n"
      ],
      "text/plain": [
       "<IPython.core.display.Markdown object>"
      ]
     },
     "metadata": {},
     "output_type": "display_data"
    },
    {
     "data": {
      "text/markdown": [
       "This estimates a total of 60,513,209 unique entities.\n",
       "\n",
       "- 912,204\n",
       "  (1.5%) have\n",
       "  at least one mapping.\n",
       "- 59,601,005 (98.5%)\n",
       "  are unique to a single resource.\n",
       "- 0 (0.0%)\n",
       "  appear in all 13 resources.\n",
       "\n",
       "This estimate is susceptible to several caveats:\n",
       "\n",
       "- Missing mappings inflates this measurement\n",
       "- Generic resources like MeSH contain irrelevant entities that can't be mapped\n"
      ],
      "text/plain": [
       "<IPython.core.display.Markdown object>"
      ]
     },
     "metadata": {},
     "output_type": "display_data"
    },
    {
     "data": {
      "text/markdown": [
       "Because there are 13, there are 8191 possible overlaps to consider.\n",
       "Therefore, a Venn diagram is not possible, so we\n",
       "we use an [UpSet plot](https://www.ncbi.nlm.nih.gov/pmc/articles/PMC4720993)\n",
       "(Lex *et al.*, 2014) as a high-dimensional Venn diagram.\n"
      ],
      "text/plain": [
       "<IPython.core.display.Markdown object>"
      ]
     },
     "metadata": {},
     "output_type": "display_data"
    },
    {
     "name": "stderr",
     "output_type": "stream",
     "text": [
      "/Users/ben/.virtualenvs/py312/lib/python3.12/site-packages/upsetplot/data.py:303: FutureWarning: Downcasting object dtype arrays on .fillna, .ffill, .bfill is deprecated and will change in a future version. Call result.infer_objects(copy=False) instead. To opt-in to the future behavior, set `pd.set_option('future.no_silent_downcasting', True)`\n",
      "  df.fillna(False, inplace=True)\n",
      "/Users/ben/.virtualenvs/py312/lib/python3.12/site-packages/upsetplot/plotting.py:795: FutureWarning: A value is trying to be set on a copy of a DataFrame or Series through chained assignment using an inplace method.\n",
      "The behavior will change in pandas 3.0. This inplace method will never work because the intermediate object on which we are setting values always behaves as a copy.\n",
      "\n",
      "For example, when doing 'df[col].method(value, inplace=True)', try using 'df.method({col: value}, inplace=True)' or df[col] = df[col].method(value) instead, to perform the operation inplace on the original object.\n",
      "\n",
      "\n",
      "  styles[\"linewidth\"].fillna(1, inplace=True)\n",
      "/Users/ben/.virtualenvs/py312/lib/python3.12/site-packages/upsetplot/plotting.py:796: FutureWarning: A value is trying to be set on a copy of a DataFrame or Series through chained assignment using an inplace method.\n",
      "The behavior will change in pandas 3.0. This inplace method will never work because the intermediate object on which we are setting values always behaves as a copy.\n",
      "\n",
      "For example, when doing 'df[col].method(value, inplace=True)', try using 'df.method({col: value}, inplace=True)' or df[col] = df[col].method(value) instead, to perform the operation inplace on the original object.\n",
      "\n",
      "\n",
      "  styles[\"facecolor\"].fillna(self._facecolor, inplace=True)\n",
      "/Users/ben/.virtualenvs/py312/lib/python3.12/site-packages/upsetplot/plotting.py:797: FutureWarning: A value is trying to be set on a copy of a DataFrame or Series through chained assignment using an inplace method.\n",
      "The behavior will change in pandas 3.0. This inplace method will never work because the intermediate object on which we are setting values always behaves as a copy.\n",
      "\n",
      "For example, when doing 'df[col].method(value, inplace=True)', try using 'df.method({col: value}, inplace=True)' or df[col] = df[col].method(value) instead, to perform the operation inplace on the original object.\n",
      "\n",
      "\n",
      "  styles[\"edgecolor\"].fillna(styles[\"facecolor\"], inplace=True)\n",
      "/Users/ben/.virtualenvs/py312/lib/python3.12/site-packages/upsetplot/plotting.py:798: FutureWarning: A value is trying to be set on a copy of a DataFrame or Series through chained assignment using an inplace method.\n",
      "The behavior will change in pandas 3.0. This inplace method will never work because the intermediate object on which we are setting values always behaves as a copy.\n",
      "\n",
      "For example, when doing 'df[col].method(value, inplace=True)', try using 'df.method({col: value}, inplace=True)' or df[col] = df[col].method(value) instead, to perform the operation inplace on the original object.\n",
      "\n",
      "\n",
      "  styles[\"linestyle\"].fillna(\"solid\", inplace=True)\n"
     ]
    },
    {
     "data": {
      "image/svg+xml": [
       "<?xml version=\"1.0\" encoding=\"utf-8\" standalone=\"no\"?>\n",
       "<!DOCTYPE svg PUBLIC \"-//W3C//DTD SVG 1.1//EN\"\n",
       "  \"http://www.w3.org/Graphics/SVG/1.1/DTD/svg11.dtd\">\n",
       "<svg xmlns:xlink=\"http://www.w3.org/1999/xlink\" width=\"808pt\" height=\"401.738752pt\" viewBox=\"0 0 808 401.738752\" xmlns=\"http://www.w3.org/2000/svg\" version=\"1.1\">\n",
       " <metadata>\n",
       "  <rdf:RDF xmlns:dc=\"http://purl.org/dc/elements/1.1/\" xmlns:cc=\"http://creativecommons.org/ns#\" xmlns:rdf=\"http://www.w3.org/1999/02/22-rdf-syntax-ns#\">\n",
       "   <cc:Work>\n",
       "    <dc:type rdf:resource=\"http://purl.org/dc/dcmitype/StillImage\"/>\n",
       "    <dc:date>2025-03-22T07:57:37.915622</dc:date>\n",
       "    <dc:format>image/svg+xml</dc:format>\n",
       "    <dc:creator>\n",
       "     <cc:Agent>\n",
       "      <dc:title>Matplotlib v3.8.4, https://matplotlib.org/</dc:title>\n",
       "     </cc:Agent>\n",
       "    </dc:creator>\n",
       "   </cc:Work>\n",
       "  </rdf:RDF>\n",
       " </metadata>\n",
       " <defs>\n",
       "  <style type=\"text/css\">*{stroke-linejoin: round; stroke-linecap: butt}</style>\n",
       " </defs>\n",
       " <g id=\"figure_1\">\n",
       "  <g id=\"patch_1\">\n",
       "   <path d=\"M 0 401.738752 \n",
       "L 808 401.738752 \n",
       "L 808 0 \n",
       "L 0 0 \n",
       "z\n",
       "\" style=\"fill: #ffffff\"/>\n",
       "  </g>\n",
       "  <g id=\"axes_1\">\n",
       "   <g id=\"patch_2\">\n",
       "    <path d=\"M 7.2 368.012351 \n",
       "L 800.8 368.012351 \n",
       "L 800.8 350.106395 \n",
       "L 7.2 350.106395 \n",
       "z\n",
       "\" clip-path=\"url(#pa1bc09682b)\" style=\"fill-opacity: 0.05098\"/>\n",
       "   </g>\n",
       "   <g id=\"patch_3\">\n",
       "    <path d=\"M 7.2 345.629906 \n",
       "L 800.8 345.629906 \n",
       "L 800.8 327.72395 \n",
       "L 7.2 327.72395 \n",
       "L 7.2 345.629906 \n",
       "z\n",
       "\" clip-path=\"url(#pa1bc09682b)\" style=\"fill: none\"/>\n",
       "   </g>\n",
       "   <g id=\"patch_4\">\n",
       "    <path d=\"M 7.2 323.247461 \n",
       "L 800.8 323.247461 \n",
       "L 800.8 305.341505 \n",
       "L 7.2 305.341505 \n",
       "z\n",
       "\" clip-path=\"url(#pa1bc09682b)\" style=\"fill-opacity: 0.05098\"/>\n",
       "   </g>\n",
       "   <g id=\"patch_5\">\n",
       "    <path d=\"M 7.2 300.865016 \n",
       "L 800.8 300.865016 \n",
       "L 800.8 282.95906 \n",
       "L 7.2 282.95906 \n",
       "L 7.2 300.865016 \n",
       "z\n",
       "\" clip-path=\"url(#pa1bc09682b)\" style=\"fill: none\"/>\n",
       "   </g>\n",
       "   <g id=\"patch_6\">\n",
       "    <path d=\"M 7.2 278.482571 \n",
       "L 800.8 278.482571 \n",
       "L 800.8 260.576615 \n",
       "L 7.2 260.576615 \n",
       "z\n",
       "\" clip-path=\"url(#pa1bc09682b)\" style=\"fill-opacity: 0.05098\"/>\n",
       "   </g>\n",
       "   <g id=\"patch_7\">\n",
       "    <path d=\"M 7.2 256.100126 \n",
       "L 800.8 256.100126 \n",
       "L 800.8 238.194169 \n",
       "L 7.2 238.194169 \n",
       "L 7.2 256.100126 \n",
       "z\n",
       "\" clip-path=\"url(#pa1bc09682b)\" style=\"fill: none\"/>\n",
       "   </g>\n",
       "   <g id=\"patch_8\">\n",
       "    <path d=\"M 7.2 233.71768 \n",
       "L 800.8 233.71768 \n",
       "L 800.8 215.811724 \n",
       "L 7.2 215.811724 \n",
       "z\n",
       "\" clip-path=\"url(#pa1bc09682b)\" style=\"fill-opacity: 0.05098\"/>\n",
       "   </g>\n",
       "   <g id=\"patch_9\">\n",
       "    <path d=\"M 7.2 211.335235 \n",
       "L 800.8 211.335235 \n",
       "L 800.8 193.429279 \n",
       "L 7.2 193.429279 \n",
       "L 7.2 211.335235 \n",
       "z\n",
       "\" clip-path=\"url(#pa1bc09682b)\" style=\"fill: none\"/>\n",
       "   </g>\n",
       "   <g id=\"patch_10\">\n",
       "    <path d=\"M 7.2 188.95279 \n",
       "L 800.8 188.95279 \n",
       "L 800.8 171.046834 \n",
       "L 7.2 171.046834 \n",
       "z\n",
       "\" clip-path=\"url(#pa1bc09682b)\" style=\"fill-opacity: 0.05098\"/>\n",
       "   </g>\n",
       "   <g id=\"matplotlib.axis_1\"/>\n",
       "   <g id=\"matplotlib.axis_2\">\n",
       "    <g id=\"ytick_1\"/>\n",
       "    <g id=\"ytick_2\"/>\n",
       "    <g id=\"ytick_3\"/>\n",
       "    <g id=\"ytick_4\"/>\n",
       "    <g id=\"ytick_5\"/>\n",
       "    <g id=\"ytick_6\"/>\n",
       "    <g id=\"ytick_7\"/>\n",
       "    <g id=\"ytick_8\"/>\n",
       "    <g id=\"ytick_9\"/>\n",
       "   </g>\n",
       "  </g>\n",
       "  <g id=\"axes_2\">\n",
       "   <g id=\"matplotlib.axis_3\">\n",
       "    <g id=\"ytick_10\">\n",
       "     <g id=\"line2d_1\"/>\n",
       "     <g id=\"text_1\">\n",
       "      <!-- ncbigene -->\n",
       "      <g transform=\"translate(82.394527 362.858592) scale(0.1 -0.1)\">\n",
       "       <defs>\n",
       "        <path id=\"DejaVuSans-6e\" d=\"M 3513 2113 \n",
       "L 3513 0 \n",
       "L 2938 0 \n",
       "L 2938 2094 \n",
       "Q 2938 2591 2744 2837 \n",
       "Q 2550 3084 2163 3084 \n",
       "Q 1697 3084 1428 2787 \n",
       "Q 1159 2491 1159 1978 \n",
       "L 1159 0 \n",
       "L 581 0 \n",
       "L 581 3500 \n",
       "L 1159 3500 \n",
       "L 1159 2956 \n",
       "Q 1366 3272 1645 3428 \n",
       "Q 1925 3584 2291 3584 \n",
       "Q 2894 3584 3203 3211 \n",
       "Q 3513 2838 3513 2113 \n",
       "z\n",
       "\" transform=\"scale(0.015625)\"/>\n",
       "        <path id=\"DejaVuSans-63\" d=\"M 3122 3366 \n",
       "L 3122 2828 \n",
       "Q 2878 2963 2633 3030 \n",
       "Q 2388 3097 2138 3097 \n",
       "Q 1578 3097 1268 2742 \n",
       "Q 959 2388 959 1747 \n",
       "Q 959 1106 1268 751 \n",
       "Q 1578 397 2138 397 \n",
       "Q 2388 397 2633 464 \n",
       "Q 2878 531 3122 666 \n",
       "L 3122 134 \n",
       "Q 2881 22 2623 -34 \n",
       "Q 2366 -91 2075 -91 \n",
       "Q 1284 -91 818 406 \n",
       "Q 353 903 353 1747 \n",
       "Q 353 2603 823 3093 \n",
       "Q 1294 3584 2113 3584 \n",
       "Q 2378 3584 2631 3529 \n",
       "Q 2884 3475 3122 3366 \n",
       "z\n",
       "\" transform=\"scale(0.015625)\"/>\n",
       "        <path id=\"DejaVuSans-62\" d=\"M 3116 1747 \n",
       "Q 3116 2381 2855 2742 \n",
       "Q 2594 3103 2138 3103 \n",
       "Q 1681 3103 1420 2742 \n",
       "Q 1159 2381 1159 1747 \n",
       "Q 1159 1113 1420 752 \n",
       "Q 1681 391 2138 391 \n",
       "Q 2594 391 2855 752 \n",
       "Q 3116 1113 3116 1747 \n",
       "z\n",
       "M 1159 2969 \n",
       "Q 1341 3281 1617 3432 \n",
       "Q 1894 3584 2278 3584 \n",
       "Q 2916 3584 3314 3078 \n",
       "Q 3713 2572 3713 1747 \n",
       "Q 3713 922 3314 415 \n",
       "Q 2916 -91 2278 -91 \n",
       "Q 1894 -91 1617 61 \n",
       "Q 1341 213 1159 525 \n",
       "L 1159 0 \n",
       "L 581 0 \n",
       "L 581 4863 \n",
       "L 1159 4863 \n",
       "L 1159 2969 \n",
       "z\n",
       "\" transform=\"scale(0.015625)\"/>\n",
       "        <path id=\"DejaVuSans-69\" d=\"M 603 3500 \n",
       "L 1178 3500 \n",
       "L 1178 0 \n",
       "L 603 0 \n",
       "L 603 3500 \n",
       "z\n",
       "M 603 4863 \n",
       "L 1178 4863 \n",
       "L 1178 4134 \n",
       "L 603 4134 \n",
       "L 603 4863 \n",
       "z\n",
       "\" transform=\"scale(0.015625)\"/>\n",
       "        <path id=\"DejaVuSans-67\" d=\"M 2906 1791 \n",
       "Q 2906 2416 2648 2759 \n",
       "Q 2391 3103 1925 3103 \n",
       "Q 1463 3103 1205 2759 \n",
       "Q 947 2416 947 1791 \n",
       "Q 947 1169 1205 825 \n",
       "Q 1463 481 1925 481 \n",
       "Q 2391 481 2648 825 \n",
       "Q 2906 1169 2906 1791 \n",
       "z\n",
       "M 3481 434 \n",
       "Q 3481 -459 3084 -895 \n",
       "Q 2688 -1331 1869 -1331 \n",
       "Q 1566 -1331 1297 -1286 \n",
       "Q 1028 -1241 775 -1147 \n",
       "L 775 -588 \n",
       "Q 1028 -725 1275 -790 \n",
       "Q 1522 -856 1778 -856 \n",
       "Q 2344 -856 2625 -561 \n",
       "Q 2906 -266 2906 331 \n",
       "L 2906 616 \n",
       "Q 2728 306 2450 153 \n",
       "Q 2172 0 1784 0 \n",
       "Q 1141 0 747 490 \n",
       "Q 353 981 353 1791 \n",
       "Q 353 2603 747 3093 \n",
       "Q 1141 3584 1784 3584 \n",
       "Q 2172 3584 2450 3431 \n",
       "Q 2728 3278 2906 2969 \n",
       "L 2906 3500 \n",
       "L 3481 3500 \n",
       "L 3481 434 \n",
       "z\n",
       "\" transform=\"scale(0.015625)\"/>\n",
       "        <path id=\"DejaVuSans-65\" d=\"M 3597 1894 \n",
       "L 3597 1613 \n",
       "L 953 1613 \n",
       "Q 991 1019 1311 708 \n",
       "Q 1631 397 2203 397 \n",
       "Q 2534 397 2845 478 \n",
       "Q 3156 559 3463 722 \n",
       "L 3463 178 \n",
       "Q 3153 47 2828 -22 \n",
       "Q 2503 -91 2169 -91 \n",
       "Q 1331 -91 842 396 \n",
       "Q 353 884 353 1716 \n",
       "Q 353 2575 817 3079 \n",
       "Q 1281 3584 2069 3584 \n",
       "Q 2775 3584 3186 3129 \n",
       "Q 3597 2675 3597 1894 \n",
       "z\n",
       "M 3022 2063 \n",
       "Q 3016 2534 2758 2815 \n",
       "Q 2500 3097 2075 3097 \n",
       "Q 1594 3097 1305 2825 \n",
       "Q 1016 2553 972 2059 \n",
       "L 3022 2063 \n",
       "z\n",
       "\" transform=\"scale(0.015625)\"/>\n",
       "       </defs>\n",
       "       <use xlink:href=\"#DejaVuSans-6e\"/>\n",
       "       <use xlink:href=\"#DejaVuSans-63\" x=\"63.378906\"/>\n",
       "       <use xlink:href=\"#DejaVuSans-62\" x=\"118.359375\"/>\n",
       "       <use xlink:href=\"#DejaVuSans-69\" x=\"181.835938\"/>\n",
       "       <use xlink:href=\"#DejaVuSans-67\" x=\"209.619141\"/>\n",
       "       <use xlink:href=\"#DejaVuSans-65\" x=\"273.095703\"/>\n",
       "       <use xlink:href=\"#DejaVuSans-6e\" x=\"334.619141\"/>\n",
       "       <use xlink:href=\"#DejaVuSans-65\" x=\"397.998047\"/>\n",
       "      </g>\n",
       "     </g>\n",
       "    </g>\n",
       "    <g id=\"ytick_11\">\n",
       "     <g id=\"line2d_2\"/>\n",
       "     <g id=\"text_2\">\n",
       "      <!-- wikidata -->\n",
       "      <g transform=\"translate(86.299215 340.476147) scale(0.1 -0.1)\">\n",
       "       <defs>\n",
       "        <path id=\"DejaVuSans-77\" d=\"M 269 3500 \n",
       "L 844 3500 \n",
       "L 1563 769 \n",
       "L 2278 3500 \n",
       "L 2956 3500 \n",
       "L 3675 769 \n",
       "L 4391 3500 \n",
       "L 4966 3500 \n",
       "L 4050 0 \n",
       "L 3372 0 \n",
       "L 2619 2869 \n",
       "L 1863 0 \n",
       "L 1184 0 \n",
       "L 269 3500 \n",
       "z\n",
       "\" transform=\"scale(0.015625)\"/>\n",
       "        <path id=\"DejaVuSans-6b\" d=\"M 581 4863 \n",
       "L 1159 4863 \n",
       "L 1159 1991 \n",
       "L 2875 3500 \n",
       "L 3609 3500 \n",
       "L 1753 1863 \n",
       "L 3688 0 \n",
       "L 2938 0 \n",
       "L 1159 1709 \n",
       "L 1159 0 \n",
       "L 581 0 \n",
       "L 581 4863 \n",
       "z\n",
       "\" transform=\"scale(0.015625)\"/>\n",
       "        <path id=\"DejaVuSans-64\" d=\"M 2906 2969 \n",
       "L 2906 4863 \n",
       "L 3481 4863 \n",
       "L 3481 0 \n",
       "L 2906 0 \n",
       "L 2906 525 \n",
       "Q 2725 213 2448 61 \n",
       "Q 2172 -91 1784 -91 \n",
       "Q 1150 -91 751 415 \n",
       "Q 353 922 353 1747 \n",
       "Q 353 2572 751 3078 \n",
       "Q 1150 3584 1784 3584 \n",
       "Q 2172 3584 2448 3432 \n",
       "Q 2725 3281 2906 2969 \n",
       "z\n",
       "M 947 1747 \n",
       "Q 947 1113 1208 752 \n",
       "Q 1469 391 1925 391 \n",
       "Q 2381 391 2643 752 \n",
       "Q 2906 1113 2906 1747 \n",
       "Q 2906 2381 2643 2742 \n",
       "Q 2381 3103 1925 3103 \n",
       "Q 1469 3103 1208 2742 \n",
       "Q 947 2381 947 1747 \n",
       "z\n",
       "\" transform=\"scale(0.015625)\"/>\n",
       "        <path id=\"DejaVuSans-61\" d=\"M 2194 1759 \n",
       "Q 1497 1759 1228 1600 \n",
       "Q 959 1441 959 1056 \n",
       "Q 959 750 1161 570 \n",
       "Q 1363 391 1709 391 \n",
       "Q 2188 391 2477 730 \n",
       "Q 2766 1069 2766 1631 \n",
       "L 2766 1759 \n",
       "L 2194 1759 \n",
       "z\n",
       "M 3341 1997 \n",
       "L 3341 0 \n",
       "L 2766 0 \n",
       "L 2766 531 \n",
       "Q 2569 213 2275 61 \n",
       "Q 1981 -91 1556 -91 \n",
       "Q 1019 -91 701 211 \n",
       "Q 384 513 384 1019 \n",
       "Q 384 1609 779 1909 \n",
       "Q 1175 2209 1959 2209 \n",
       "L 2766 2209 \n",
       "L 2766 2266 \n",
       "Q 2766 2663 2505 2880 \n",
       "Q 2244 3097 1772 3097 \n",
       "Q 1472 3097 1187 3025 \n",
       "Q 903 2953 641 2809 \n",
       "L 641 3341 \n",
       "Q 956 3463 1253 3523 \n",
       "Q 1550 3584 1831 3584 \n",
       "Q 2591 3584 2966 3190 \n",
       "Q 3341 2797 3341 1997 \n",
       "z\n",
       "\" transform=\"scale(0.015625)\"/>\n",
       "        <path id=\"DejaVuSans-74\" d=\"M 1172 4494 \n",
       "L 1172 3500 \n",
       "L 2356 3500 \n",
       "L 2356 3053 \n",
       "L 1172 3053 \n",
       "L 1172 1153 \n",
       "Q 1172 725 1289 603 \n",
       "Q 1406 481 1766 481 \n",
       "L 2356 481 \n",
       "L 2356 0 \n",
       "L 1766 0 \n",
       "Q 1100 0 847 248 \n",
       "Q 594 497 594 1153 \n",
       "L 594 3053 \n",
       "L 172 3053 \n",
       "L 172 3500 \n",
       "L 594 3500 \n",
       "L 594 4494 \n",
       "L 1172 4494 \n",
       "z\n",
       "\" transform=\"scale(0.015625)\"/>\n",
       "       </defs>\n",
       "       <use xlink:href=\"#DejaVuSans-77\"/>\n",
       "       <use xlink:href=\"#DejaVuSans-69\" x=\"81.787109\"/>\n",
       "       <use xlink:href=\"#DejaVuSans-6b\" x=\"109.570312\"/>\n",
       "       <use xlink:href=\"#DejaVuSans-69\" x=\"167.480469\"/>\n",
       "       <use xlink:href=\"#DejaVuSans-64\" x=\"195.263672\"/>\n",
       "       <use xlink:href=\"#DejaVuSans-61\" x=\"258.740234\"/>\n",
       "       <use xlink:href=\"#DejaVuSans-74\" x=\"320.019531\"/>\n",
       "       <use xlink:href=\"#DejaVuSans-61\" x=\"359.228516\"/>\n",
       "      </g>\n",
       "     </g>\n",
       "    </g>\n",
       "    <g id=\"ytick_12\">\n",
       "     <g id=\"line2d_3\"/>\n",
       "     <g id=\"text_3\">\n",
       "      <!-- mgi -->\n",
       "      <g transform=\"translate(109.482027 318.093702) scale(0.1 -0.1)\">\n",
       "       <defs>\n",
       "        <path id=\"DejaVuSans-6d\" d=\"M 3328 2828 \n",
       "Q 3544 3216 3844 3400 \n",
       "Q 4144 3584 4550 3584 \n",
       "Q 5097 3584 5394 3201 \n",
       "Q 5691 2819 5691 2113 \n",
       "L 5691 0 \n",
       "L 5113 0 \n",
       "L 5113 2094 \n",
       "Q 5113 2597 4934 2840 \n",
       "Q 4756 3084 4391 3084 \n",
       "Q 3944 3084 3684 2787 \n",
       "Q 3425 2491 3425 1978 \n",
       "L 3425 0 \n",
       "L 2847 0 \n",
       "L 2847 2094 \n",
       "Q 2847 2600 2669 2842 \n",
       "Q 2491 3084 2119 3084 \n",
       "Q 1678 3084 1418 2786 \n",
       "Q 1159 2488 1159 1978 \n",
       "L 1159 0 \n",
       "L 581 0 \n",
       "L 581 3500 \n",
       "L 1159 3500 \n",
       "L 1159 2956 \n",
       "Q 1356 3278 1631 3431 \n",
       "Q 1906 3584 2284 3584 \n",
       "Q 2666 3584 2933 3390 \n",
       "Q 3200 3197 3328 2828 \n",
       "z\n",
       "\" transform=\"scale(0.015625)\"/>\n",
       "       </defs>\n",
       "       <use xlink:href=\"#DejaVuSans-6d\"/>\n",
       "       <use xlink:href=\"#DejaVuSans-67\" x=\"97.412109\"/>\n",
       "       <use xlink:href=\"#DejaVuSans-69\" x=\"160.888672\"/>\n",
       "      </g>\n",
       "     </g>\n",
       "    </g>\n",
       "    <g id=\"ytick_13\">\n",
       "     <g id=\"line2d_4\"/>\n",
       "     <g id=\"text_4\">\n",
       "      <!-- rgd -->\n",
       "      <g transform=\"translate(111.716402 295.711257) scale(0.1 -0.1)\">\n",
       "       <defs>\n",
       "        <path id=\"DejaVuSans-72\" d=\"M 2631 2963 \n",
       "Q 2534 3019 2420 3045 \n",
       "Q 2306 3072 2169 3072 \n",
       "Q 1681 3072 1420 2755 \n",
       "Q 1159 2438 1159 1844 \n",
       "L 1159 0 \n",
       "L 581 0 \n",
       "L 581 3500 \n",
       "L 1159 3500 \n",
       "L 1159 2956 \n",
       "Q 1341 3275 1631 3429 \n",
       "Q 1922 3584 2338 3584 \n",
       "Q 2397 3584 2469 3576 \n",
       "Q 2541 3569 2628 3553 \n",
       "L 2631 2963 \n",
       "z\n",
       "\" transform=\"scale(0.015625)\"/>\n",
       "       </defs>\n",
       "       <use xlink:href=\"#DejaVuSans-72\"/>\n",
       "       <use xlink:href=\"#DejaVuSans-67\" x=\"39.363281\"/>\n",
       "       <use xlink:href=\"#DejaVuSans-64\" x=\"102.839844\"/>\n",
       "      </g>\n",
       "     </g>\n",
       "    </g>\n",
       "    <g id=\"ytick_14\">\n",
       "     <g id=\"line2d_5\"/>\n",
       "     <g id=\"text_5\">\n",
       "      <!-- hgnc -->\n",
       "      <g transform=\"translate(103.82734 273.328811) scale(0.1 -0.1)\">\n",
       "       <defs>\n",
       "        <path id=\"DejaVuSans-68\" d=\"M 3513 2113 \n",
       "L 3513 0 \n",
       "L 2938 0 \n",
       "L 2938 2094 \n",
       "Q 2938 2591 2744 2837 \n",
       "Q 2550 3084 2163 3084 \n",
       "Q 1697 3084 1428 2787 \n",
       "Q 1159 2491 1159 1978 \n",
       "L 1159 0 \n",
       "L 581 0 \n",
       "L 581 4863 \n",
       "L 1159 4863 \n",
       "L 1159 2956 \n",
       "Q 1366 3272 1645 3428 \n",
       "Q 1925 3584 2291 3584 \n",
       "Q 2894 3584 3203 3211 \n",
       "Q 3513 2838 3513 2113 \n",
       "z\n",
       "\" transform=\"scale(0.015625)\"/>\n",
       "       </defs>\n",
       "       <use xlink:href=\"#DejaVuSans-68\"/>\n",
       "       <use xlink:href=\"#DejaVuSans-67\" x=\"63.378906\"/>\n",
       "       <use xlink:href=\"#DejaVuSans-6e\" x=\"126.855469\"/>\n",
       "       <use xlink:href=\"#DejaVuSans-63\" x=\"190.234375\"/>\n",
       "      </g>\n",
       "     </g>\n",
       "    </g>\n",
       "    <g id=\"ytick_15\">\n",
       "     <g id=\"line2d_6\"/>\n",
       "     <g id=\"text_6\">\n",
       "      <!-- omim -->\n",
       "      <g transform=\"translate(99.97109 250.946366) scale(0.1 -0.1)\">\n",
       "       <defs>\n",
       "        <path id=\"DejaVuSans-6f\" d=\"M 1959 3097 \n",
       "Q 1497 3097 1228 2736 \n",
       "Q 959 2375 959 1747 \n",
       "Q 959 1119 1226 758 \n",
       "Q 1494 397 1959 397 \n",
       "Q 2419 397 2687 759 \n",
       "Q 2956 1122 2956 1747 \n",
       "Q 2956 2369 2687 2733 \n",
       "Q 2419 3097 1959 3097 \n",
       "z\n",
       "M 1959 3584 \n",
       "Q 2709 3584 3137 3096 \n",
       "Q 3566 2609 3566 1747 \n",
       "Q 3566 888 3137 398 \n",
       "Q 2709 -91 1959 -91 \n",
       "Q 1206 -91 779 398 \n",
       "Q 353 888 353 1747 \n",
       "Q 353 2609 779 3096 \n",
       "Q 1206 3584 1959 3584 \n",
       "z\n",
       "\" transform=\"scale(0.015625)\"/>\n",
       "       </defs>\n",
       "       <use xlink:href=\"#DejaVuSans-6f\"/>\n",
       "       <use xlink:href=\"#DejaVuSans-6d\" x=\"61.181641\"/>\n",
       "       <use xlink:href=\"#DejaVuSans-69\" x=\"158.59375\"/>\n",
       "       <use xlink:href=\"#DejaVuSans-6d\" x=\"186.376953\"/>\n",
       "      </g>\n",
       "     </g>\n",
       "    </g>\n",
       "    <g id=\"ytick_16\">\n",
       "     <g id=\"line2d_7\"/>\n",
       "     <g id=\"text_7\">\n",
       "      <!-- cgnc -->\n",
       "      <g transform=\"translate(104.666402 228.563921) scale(0.1 -0.1)\">\n",
       "       <use xlink:href=\"#DejaVuSans-63\"/>\n",
       "       <use xlink:href=\"#DejaVuSans-67\" x=\"54.980469\"/>\n",
       "       <use xlink:href=\"#DejaVuSans-6e\" x=\"118.457031\"/>\n",
       "       <use xlink:href=\"#DejaVuSans-63\" x=\"181.835938\"/>\n",
       "      </g>\n",
       "     </g>\n",
       "    </g>\n",
       "    <g id=\"ytick_17\">\n",
       "     <g id=\"line2d_8\"/>\n",
       "     <g id=\"text_8\">\n",
       "      <!-- ncit -->\n",
       "      <g transform=\"translate(109.81484 206.181476) scale(0.1 -0.1)\">\n",
       "       <use xlink:href=\"#DejaVuSans-6e\"/>\n",
       "       <use xlink:href=\"#DejaVuSans-63\" x=\"63.378906\"/>\n",
       "       <use xlink:href=\"#DejaVuSans-69\" x=\"118.359375\"/>\n",
       "       <use xlink:href=\"#DejaVuSans-74\" x=\"146.142578\"/>\n",
       "      </g>\n",
       "     </g>\n",
       "    </g>\n",
       "    <g id=\"ytick_18\">\n",
       "     <g id=\"line2d_9\"/>\n",
       "     <g id=\"text_9\">\n",
       "      <!-- civic.gid -->\n",
       "      <g transform=\"translate(87.224215 183.799031) scale(0.1 -0.1)\">\n",
       "       <defs>\n",
       "        <path id=\"DejaVuSans-76\" d=\"M 191 3500 \n",
       "L 800 3500 \n",
       "L 1894 563 \n",
       "L 2988 3500 \n",
       "L 3597 3500 \n",
       "L 2284 0 \n",
       "L 1503 0 \n",
       "L 191 3500 \n",
       "z\n",
       "\" transform=\"scale(0.015625)\"/>\n",
       "        <path id=\"DejaVuSans-2e\" d=\"M 684 794 \n",
       "L 1344 794 \n",
       "L 1344 0 \n",
       "L 684 0 \n",
       "L 684 794 \n",
       "z\n",
       "\" transform=\"scale(0.015625)\"/>\n",
       "       </defs>\n",
       "       <use xlink:href=\"#DejaVuSans-63\"/>\n",
       "       <use xlink:href=\"#DejaVuSans-69\" x=\"54.980469\"/>\n",
       "       <use xlink:href=\"#DejaVuSans-76\" x=\"82.763672\"/>\n",
       "       <use xlink:href=\"#DejaVuSans-69\" x=\"141.943359\"/>\n",
       "       <use xlink:href=\"#DejaVuSans-63\" x=\"169.726562\"/>\n",
       "       <use xlink:href=\"#DejaVuSans-2e\" x=\"224.707031\"/>\n",
       "       <use xlink:href=\"#DejaVuSans-67\" x=\"256.494141\"/>\n",
       "       <use xlink:href=\"#DejaVuSans-69\" x=\"319.970703\"/>\n",
       "       <use xlink:href=\"#DejaVuSans-64\" x=\"347.753906\"/>\n",
       "      </g>\n",
       "     </g>\n",
       "    </g>\n",
       "   </g>\n",
       "   <g id=\"LineCollection_1\">\n",
       "    <path d=\"M 144.237192 359.059373 \n",
       "L 144.237192 359.059373 \n",
       "\" clip-path=\"url(#pa11f62da38)\" style=\"fill: none; stroke: #000000; stroke-width: 2\"/>\n",
       "    <path d=\"M 169.013147 314.294483 \n",
       "L 169.013147 314.294483 \n",
       "\" clip-path=\"url(#pa11f62da38)\" style=\"fill: none; stroke: #000000; stroke-width: 2\"/>\n",
       "    <path d=\"M 193.789102 291.912038 \n",
       "L 193.789102 291.912038 \n",
       "\" clip-path=\"url(#pa11f62da38)\" style=\"fill: none; stroke: #000000; stroke-width: 2\"/>\n",
       "    <path d=\"M 218.565057 269.529593 \n",
       "L 218.565057 269.529593 \n",
       "\" clip-path=\"url(#pa11f62da38)\" style=\"fill: none; stroke: #000000; stroke-width: 2\"/>\n",
       "    <path d=\"M 243.341012 224.764702 \n",
       "L 243.341012 224.764702 \n",
       "\" clip-path=\"url(#pa11f62da38)\" style=\"fill: none; stroke: #000000; stroke-width: 2\"/>\n",
       "    <path d=\"M 268.116967 202.382257 \n",
       "L 268.116967 202.382257 \n",
       "\" clip-path=\"url(#pa11f62da38)\" style=\"fill: none; stroke: #000000; stroke-width: 2\"/>\n",
       "    <path d=\"M 292.892922 179.999812 \n",
       "L 292.892922 179.999812 \n",
       "\" clip-path=\"url(#pa11f62da38)\" style=\"fill: none; stroke: #000000; stroke-width: 2\"/>\n",
       "    <path d=\"M 317.668877 359.059373 \n",
       "L 317.668877 336.676928 \n",
       "\" clip-path=\"url(#pa11f62da38)\" style=\"fill: none; stroke: #000000; stroke-width: 2\"/>\n",
       "    <path d=\"M 342.444832 359.059373 \n",
       "L 342.444832 314.294483 \n",
       "\" clip-path=\"url(#pa11f62da38)\" style=\"fill: none; stroke: #000000; stroke-width: 2\"/>\n",
       "    <path d=\"M 367.220787 359.059373 \n",
       "L 367.220787 291.912038 \n",
       "\" clip-path=\"url(#pa11f62da38)\" style=\"fill: none; stroke: #000000; stroke-width: 2\"/>\n",
       "    <path d=\"M 391.996742 359.059373 \n",
       "L 391.996742 269.529593 \n",
       "\" clip-path=\"url(#pa11f62da38)\" style=\"fill: none; stroke: #000000; stroke-width: 2\"/>\n",
       "    <path d=\"M 416.772697 359.059373 \n",
       "L 416.772697 247.147147 \n",
       "\" clip-path=\"url(#pa11f62da38)\" style=\"fill: none; stroke: #000000; stroke-width: 2\"/>\n",
       "    <path d=\"M 441.548652 336.676928 \n",
       "L 441.548652 247.147147 \n",
       "\" clip-path=\"url(#pa11f62da38)\" style=\"fill: none; stroke: #000000; stroke-width: 2\"/>\n",
       "    <path d=\"M 466.324607 359.059373 \n",
       "L 466.324607 224.764702 \n",
       "\" clip-path=\"url(#pa11f62da38)\" style=\"fill: none; stroke: #000000; stroke-width: 2\"/>\n",
       "    <path d=\"M 491.100562 359.059373 \n",
       "L 491.100562 314.294483 \n",
       "\" clip-path=\"url(#pa11f62da38)\" style=\"fill: none; stroke: #000000; stroke-width: 2\"/>\n",
       "    <path d=\"M 515.876517 359.059373 \n",
       "L 515.876517 291.912038 \n",
       "\" clip-path=\"url(#pa11f62da38)\" style=\"fill: none; stroke: #000000; stroke-width: 2\"/>\n",
       "    <path d=\"M 540.652472 359.059373 \n",
       "L 540.652472 269.529593 \n",
       "\" clip-path=\"url(#pa11f62da38)\" style=\"fill: none; stroke: #000000; stroke-width: 2\"/>\n",
       "    <path d=\"M 565.428427 359.059373 \n",
       "L 565.428427 247.147147 \n",
       "\" clip-path=\"url(#pa11f62da38)\" style=\"fill: none; stroke: #000000; stroke-width: 2\"/>\n",
       "    <path d=\"M 590.204382 359.059373 \n",
       "L 590.204382 247.147147 \n",
       "\" clip-path=\"url(#pa11f62da38)\" style=\"fill: none; stroke: #000000; stroke-width: 2\"/>\n",
       "    <path d=\"M 614.980337 359.059373 \n",
       "L 614.980337 224.764702 \n",
       "\" clip-path=\"url(#pa11f62da38)\" style=\"fill: none; stroke: #000000; stroke-width: 2\"/>\n",
       "    <path d=\"M 639.756292 359.059373 \n",
       "L 639.756292 291.912038 \n",
       "\" clip-path=\"url(#pa11f62da38)\" style=\"fill: none; stroke: #000000; stroke-width: 2\"/>\n",
       "    <path d=\"M 664.532247 359.059373 \n",
       "L 664.532247 247.147147 \n",
       "\" clip-path=\"url(#pa11f62da38)\" style=\"fill: none; stroke: #000000; stroke-width: 2\"/>\n",
       "    <path d=\"M 689.308202 359.059373 \n",
       "L 689.308202 202.382257 \n",
       "\" clip-path=\"url(#pa11f62da38)\" style=\"fill: none; stroke: #000000; stroke-width: 2\"/>\n",
       "    <path d=\"M 714.084157 359.059373 \n",
       "L 714.084157 202.382257 \n",
       "\" clip-path=\"url(#pa11f62da38)\" style=\"fill: none; stroke: #000000; stroke-width: 2\"/>\n",
       "    <path d=\"M 738.860112 359.059373 \n",
       "L 738.860112 179.999812 \n",
       "\" clip-path=\"url(#pa11f62da38)\" style=\"fill: none; stroke: #000000; stroke-width: 2\"/>\n",
       "    <path d=\"M 763.636067 359.059373 \n",
       "L 763.636067 179.999812 \n",
       "\" clip-path=\"url(#pa11f62da38)\" style=\"fill: none; stroke: #000000; stroke-width: 2\"/>\n",
       "    <path d=\"M 788.412022 359.059373 \n",
       "L 788.412022 179.999812 \n",
       "\" clip-path=\"url(#pa11f62da38)\" style=\"fill: none; stroke: #000000; stroke-width: 2\"/>\n",
       "   </g>\n",
       "   <g id=\"PathCollection_1\">\n",
       "    <defs>\n",
       "     <path id=\"C0_0_08b4e7b197\" d=\"M 0 5.6 \n",
       "C 1.485137 5.6 2.909647 5.009949 3.959798 3.959798 \n",
       "C 5.009949 2.909647 5.6 1.485137 5.6 -0 \n",
       "C 5.6 -1.485137 5.009949 -2.909647 3.959798 -3.959798 \n",
       "C 2.909647 -5.009949 1.485137 -5.6 0 -5.6 \n",
       "C -1.485137 -5.6 -2.909647 -5.009949 -3.959798 -3.959798 \n",
       "C -5.009949 -2.909647 -5.6 -1.485137 -5.6 0 \n",
       "C -5.6 1.485137 -5.009949 2.909647 -3.959798 3.959798 \n",
       "C -2.909647 5.009949 -1.485137 5.6 0 5.6 \n",
       "z\n",
       "\"/>\n",
       "    </defs>\n",
       "    <g clip-path=\"url(#pa11f62da38)\">\n",
       "     <use xlink:href=\"#C0_0_08b4e7b197\" x=\"144.237192\" y=\"359.059373\" style=\"stroke: #000000\"/>\n",
       "    </g>\n",
       "    <g clip-path=\"url(#pa11f62da38)\">\n",
       "     <use xlink:href=\"#C0_0_08b4e7b197\" x=\"144.237192\" y=\"336.676928\" style=\"fill-opacity: 0.180392\"/>\n",
       "    </g>\n",
       "    <g clip-path=\"url(#pa11f62da38)\">\n",
       "     <use xlink:href=\"#C0_0_08b4e7b197\" x=\"144.237192\" y=\"314.294483\" style=\"fill-opacity: 0.180392\"/>\n",
       "    </g>\n",
       "    <g clip-path=\"url(#pa11f62da38)\">\n",
       "     <use xlink:href=\"#C0_0_08b4e7b197\" x=\"144.237192\" y=\"291.912038\" style=\"fill-opacity: 0.180392\"/>\n",
       "    </g>\n",
       "    <g clip-path=\"url(#pa11f62da38)\">\n",
       "     <use xlink:href=\"#C0_0_08b4e7b197\" x=\"144.237192\" y=\"269.529593\" style=\"fill-opacity: 0.180392\"/>\n",
       "    </g>\n",
       "    <g clip-path=\"url(#pa11f62da38)\">\n",
       "     <use xlink:href=\"#C0_0_08b4e7b197\" x=\"144.237192\" y=\"247.147147\" style=\"fill-opacity: 0.180392\"/>\n",
       "    </g>\n",
       "    <g clip-path=\"url(#pa11f62da38)\">\n",
       "     <use xlink:href=\"#C0_0_08b4e7b197\" x=\"144.237192\" y=\"224.764702\" style=\"fill-opacity: 0.180392\"/>\n",
       "    </g>\n",
       "    <g clip-path=\"url(#pa11f62da38)\">\n",
       "     <use xlink:href=\"#C0_0_08b4e7b197\" x=\"144.237192\" y=\"202.382257\" style=\"fill-opacity: 0.180392\"/>\n",
       "    </g>\n",
       "    <g clip-path=\"url(#pa11f62da38)\">\n",
       "     <use xlink:href=\"#C0_0_08b4e7b197\" x=\"144.237192\" y=\"179.999812\" style=\"fill-opacity: 0.180392\"/>\n",
       "    </g>\n",
       "    <g clip-path=\"url(#pa11f62da38)\">\n",
       "     <use xlink:href=\"#C0_0_08b4e7b197\" x=\"169.013147\" y=\"359.059373\" style=\"fill-opacity: 0.180392\"/>\n",
       "    </g>\n",
       "    <g clip-path=\"url(#pa11f62da38)\">\n",
       "     <use xlink:href=\"#C0_0_08b4e7b197\" x=\"169.013147\" y=\"336.676928\" style=\"fill-opacity: 0.180392\"/>\n",
       "    </g>\n",
       "    <g clip-path=\"url(#pa11f62da38)\">\n",
       "     <use xlink:href=\"#C0_0_08b4e7b197\" x=\"169.013147\" y=\"314.294483\" style=\"stroke: #000000\"/>\n",
       "    </g>\n",
       "    <g clip-path=\"url(#pa11f62da38)\">\n",
       "     <use xlink:href=\"#C0_0_08b4e7b197\" x=\"169.013147\" y=\"291.912038\" style=\"fill-opacity: 0.180392\"/>\n",
       "    </g>\n",
       "    <g clip-path=\"url(#pa11f62da38)\">\n",
       "     <use xlink:href=\"#C0_0_08b4e7b197\" x=\"169.013147\" y=\"269.529593\" style=\"fill-opacity: 0.180392\"/>\n",
       "    </g>\n",
       "    <g clip-path=\"url(#pa11f62da38)\">\n",
       "     <use xlink:href=\"#C0_0_08b4e7b197\" x=\"169.013147\" y=\"247.147147\" style=\"fill-opacity: 0.180392\"/>\n",
       "    </g>\n",
       "    <g clip-path=\"url(#pa11f62da38)\">\n",
       "     <use xlink:href=\"#C0_0_08b4e7b197\" x=\"169.013147\" y=\"224.764702\" style=\"fill-opacity: 0.180392\"/>\n",
       "    </g>\n",
       "    <g clip-path=\"url(#pa11f62da38)\">\n",
       "     <use xlink:href=\"#C0_0_08b4e7b197\" x=\"169.013147\" y=\"202.382257\" style=\"fill-opacity: 0.180392\"/>\n",
       "    </g>\n",
       "    <g clip-path=\"url(#pa11f62da38)\">\n",
       "     <use xlink:href=\"#C0_0_08b4e7b197\" x=\"169.013147\" y=\"179.999812\" style=\"fill-opacity: 0.180392\"/>\n",
       "    </g>\n",
       "    <g clip-path=\"url(#pa11f62da38)\">\n",
       "     <use xlink:href=\"#C0_0_08b4e7b197\" x=\"193.789102\" y=\"359.059373\" style=\"fill-opacity: 0.180392\"/>\n",
       "    </g>\n",
       "    <g clip-path=\"url(#pa11f62da38)\">\n",
       "     <use xlink:href=\"#C0_0_08b4e7b197\" x=\"193.789102\" y=\"336.676928\" style=\"fill-opacity: 0.180392\"/>\n",
       "    </g>\n",
       "    <g clip-path=\"url(#pa11f62da38)\">\n",
       "     <use xlink:href=\"#C0_0_08b4e7b197\" x=\"193.789102\" y=\"314.294483\" style=\"fill-opacity: 0.180392\"/>\n",
       "    </g>\n",
       "    <g clip-path=\"url(#pa11f62da38)\">\n",
       "     <use xlink:href=\"#C0_0_08b4e7b197\" x=\"193.789102\" y=\"291.912038\" style=\"stroke: #000000\"/>\n",
       "    </g>\n",
       "    <g clip-path=\"url(#pa11f62da38)\">\n",
       "     <use xlink:href=\"#C0_0_08b4e7b197\" x=\"193.789102\" y=\"269.529593\" style=\"fill-opacity: 0.180392\"/>\n",
       "    </g>\n",
       "    <g clip-path=\"url(#pa11f62da38)\">\n",
       "     <use xlink:href=\"#C0_0_08b4e7b197\" x=\"193.789102\" y=\"247.147147\" style=\"fill-opacity: 0.180392\"/>\n",
       "    </g>\n",
       "    <g clip-path=\"url(#pa11f62da38)\">\n",
       "     <use xlink:href=\"#C0_0_08b4e7b197\" x=\"193.789102\" y=\"224.764702\" style=\"fill-opacity: 0.180392\"/>\n",
       "    </g>\n",
       "    <g clip-path=\"url(#pa11f62da38)\">\n",
       "     <use xlink:href=\"#C0_0_08b4e7b197\" x=\"193.789102\" y=\"202.382257\" style=\"fill-opacity: 0.180392\"/>\n",
       "    </g>\n",
       "    <g clip-path=\"url(#pa11f62da38)\">\n",
       "     <use xlink:href=\"#C0_0_08b4e7b197\" x=\"193.789102\" y=\"179.999812\" style=\"fill-opacity: 0.180392\"/>\n",
       "    </g>\n",
       "    <g clip-path=\"url(#pa11f62da38)\">\n",
       "     <use xlink:href=\"#C0_0_08b4e7b197\" x=\"218.565057\" y=\"359.059373\" style=\"fill-opacity: 0.180392\"/>\n",
       "    </g>\n",
       "    <g clip-path=\"url(#pa11f62da38)\">\n",
       "     <use xlink:href=\"#C0_0_08b4e7b197\" x=\"218.565057\" y=\"336.676928\" style=\"fill-opacity: 0.180392\"/>\n",
       "    </g>\n",
       "    <g clip-path=\"url(#pa11f62da38)\">\n",
       "     <use xlink:href=\"#C0_0_08b4e7b197\" x=\"218.565057\" y=\"314.294483\" style=\"fill-opacity: 0.180392\"/>\n",
       "    </g>\n",
       "    <g clip-path=\"url(#pa11f62da38)\">\n",
       "     <use xlink:href=\"#C0_0_08b4e7b197\" x=\"218.565057\" y=\"291.912038\" style=\"fill-opacity: 0.180392\"/>\n",
       "    </g>\n",
       "    <g clip-path=\"url(#pa11f62da38)\">\n",
       "     <use xlink:href=\"#C0_0_08b4e7b197\" x=\"218.565057\" y=\"269.529593\" style=\"stroke: #000000\"/>\n",
       "    </g>\n",
       "    <g clip-path=\"url(#pa11f62da38)\">\n",
       "     <use xlink:href=\"#C0_0_08b4e7b197\" x=\"218.565057\" y=\"247.147147\" style=\"fill-opacity: 0.180392\"/>\n",
       "    </g>\n",
       "    <g clip-path=\"url(#pa11f62da38)\">\n",
       "     <use xlink:href=\"#C0_0_08b4e7b197\" x=\"218.565057\" y=\"224.764702\" style=\"fill-opacity: 0.180392\"/>\n",
       "    </g>\n",
       "    <g clip-path=\"url(#pa11f62da38)\">\n",
       "     <use xlink:href=\"#C0_0_08b4e7b197\" x=\"218.565057\" y=\"202.382257\" style=\"fill-opacity: 0.180392\"/>\n",
       "    </g>\n",
       "    <g clip-path=\"url(#pa11f62da38)\">\n",
       "     <use xlink:href=\"#C0_0_08b4e7b197\" x=\"218.565057\" y=\"179.999812\" style=\"fill-opacity: 0.180392\"/>\n",
       "    </g>\n",
       "    <g clip-path=\"url(#pa11f62da38)\">\n",
       "     <use xlink:href=\"#C0_0_08b4e7b197\" x=\"243.341012\" y=\"359.059373\" style=\"fill-opacity: 0.180392\"/>\n",
       "    </g>\n",
       "    <g clip-path=\"url(#pa11f62da38)\">\n",
       "     <use xlink:href=\"#C0_0_08b4e7b197\" x=\"243.341012\" y=\"336.676928\" style=\"fill-opacity: 0.180392\"/>\n",
       "    </g>\n",
       "    <g clip-path=\"url(#pa11f62da38)\">\n",
       "     <use xlink:href=\"#C0_0_08b4e7b197\" x=\"243.341012\" y=\"314.294483\" style=\"fill-opacity: 0.180392\"/>\n",
       "    </g>\n",
       "    <g clip-path=\"url(#pa11f62da38)\">\n",
       "     <use xlink:href=\"#C0_0_08b4e7b197\" x=\"243.341012\" y=\"291.912038\" style=\"fill-opacity: 0.180392\"/>\n",
       "    </g>\n",
       "    <g clip-path=\"url(#pa11f62da38)\">\n",
       "     <use xlink:href=\"#C0_0_08b4e7b197\" x=\"243.341012\" y=\"269.529593\" style=\"fill-opacity: 0.180392\"/>\n",
       "    </g>\n",
       "    <g clip-path=\"url(#pa11f62da38)\">\n",
       "     <use xlink:href=\"#C0_0_08b4e7b197\" x=\"243.341012\" y=\"247.147147\" style=\"fill-opacity: 0.180392\"/>\n",
       "    </g>\n",
       "    <g clip-path=\"url(#pa11f62da38)\">\n",
       "     <use xlink:href=\"#C0_0_08b4e7b197\" x=\"243.341012\" y=\"224.764702\" style=\"stroke: #000000\"/>\n",
       "    </g>\n",
       "    <g clip-path=\"url(#pa11f62da38)\">\n",
       "     <use xlink:href=\"#C0_0_08b4e7b197\" x=\"243.341012\" y=\"202.382257\" style=\"fill-opacity: 0.180392\"/>\n",
       "    </g>\n",
       "    <g clip-path=\"url(#pa11f62da38)\">\n",
       "     <use xlink:href=\"#C0_0_08b4e7b197\" x=\"243.341012\" y=\"179.999812\" style=\"fill-opacity: 0.180392\"/>\n",
       "    </g>\n",
       "    <g clip-path=\"url(#pa11f62da38)\">\n",
       "     <use xlink:href=\"#C0_0_08b4e7b197\" x=\"268.116967\" y=\"359.059373\" style=\"fill-opacity: 0.180392\"/>\n",
       "    </g>\n",
       "    <g clip-path=\"url(#pa11f62da38)\">\n",
       "     <use xlink:href=\"#C0_0_08b4e7b197\" x=\"268.116967\" y=\"336.676928\" style=\"fill-opacity: 0.180392\"/>\n",
       "    </g>\n",
       "    <g clip-path=\"url(#pa11f62da38)\">\n",
       "     <use xlink:href=\"#C0_0_08b4e7b197\" x=\"268.116967\" y=\"314.294483\" style=\"fill-opacity: 0.180392\"/>\n",
       "    </g>\n",
       "    <g clip-path=\"url(#pa11f62da38)\">\n",
       "     <use xlink:href=\"#C0_0_08b4e7b197\" x=\"268.116967\" y=\"291.912038\" style=\"fill-opacity: 0.180392\"/>\n",
       "    </g>\n",
       "    <g clip-path=\"url(#pa11f62da38)\">\n",
       "     <use xlink:href=\"#C0_0_08b4e7b197\" x=\"268.116967\" y=\"269.529593\" style=\"fill-opacity: 0.180392\"/>\n",
       "    </g>\n",
       "    <g clip-path=\"url(#pa11f62da38)\">\n",
       "     <use xlink:href=\"#C0_0_08b4e7b197\" x=\"268.116967\" y=\"247.147147\" style=\"fill-opacity: 0.180392\"/>\n",
       "    </g>\n",
       "    <g clip-path=\"url(#pa11f62da38)\">\n",
       "     <use xlink:href=\"#C0_0_08b4e7b197\" x=\"268.116967\" y=\"224.764702\" style=\"fill-opacity: 0.180392\"/>\n",
       "    </g>\n",
       "    <g clip-path=\"url(#pa11f62da38)\">\n",
       "     <use xlink:href=\"#C0_0_08b4e7b197\" x=\"268.116967\" y=\"202.382257\" style=\"stroke: #000000\"/>\n",
       "    </g>\n",
       "    <g clip-path=\"url(#pa11f62da38)\">\n",
       "     <use xlink:href=\"#C0_0_08b4e7b197\" x=\"268.116967\" y=\"179.999812\" style=\"fill-opacity: 0.180392\"/>\n",
       "    </g>\n",
       "    <g clip-path=\"url(#pa11f62da38)\">\n",
       "     <use xlink:href=\"#C0_0_08b4e7b197\" x=\"292.892922\" y=\"359.059373\" style=\"fill-opacity: 0.180392\"/>\n",
       "    </g>\n",
       "    <g clip-path=\"url(#pa11f62da38)\">\n",
       "     <use xlink:href=\"#C0_0_08b4e7b197\" x=\"292.892922\" y=\"336.676928\" style=\"fill-opacity: 0.180392\"/>\n",
       "    </g>\n",
       "    <g clip-path=\"url(#pa11f62da38)\">\n",
       "     <use xlink:href=\"#C0_0_08b4e7b197\" x=\"292.892922\" y=\"314.294483\" style=\"fill-opacity: 0.180392\"/>\n",
       "    </g>\n",
       "    <g clip-path=\"url(#pa11f62da38)\">\n",
       "     <use xlink:href=\"#C0_0_08b4e7b197\" x=\"292.892922\" y=\"291.912038\" style=\"fill-opacity: 0.180392\"/>\n",
       "    </g>\n",
       "    <g clip-path=\"url(#pa11f62da38)\">\n",
       "     <use xlink:href=\"#C0_0_08b4e7b197\" x=\"292.892922\" y=\"269.529593\" style=\"fill-opacity: 0.180392\"/>\n",
       "    </g>\n",
       "    <g clip-path=\"url(#pa11f62da38)\">\n",
       "     <use xlink:href=\"#C0_0_08b4e7b197\" x=\"292.892922\" y=\"247.147147\" style=\"fill-opacity: 0.180392\"/>\n",
       "    </g>\n",
       "    <g clip-path=\"url(#pa11f62da38)\">\n",
       "     <use xlink:href=\"#C0_0_08b4e7b197\" x=\"292.892922\" y=\"224.764702\" style=\"fill-opacity: 0.180392\"/>\n",
       "    </g>\n",
       "    <g clip-path=\"url(#pa11f62da38)\">\n",
       "     <use xlink:href=\"#C0_0_08b4e7b197\" x=\"292.892922\" y=\"202.382257\" style=\"fill-opacity: 0.180392\"/>\n",
       "    </g>\n",
       "    <g clip-path=\"url(#pa11f62da38)\">\n",
       "     <use xlink:href=\"#C0_0_08b4e7b197\" x=\"292.892922\" y=\"179.999812\" style=\"stroke: #000000\"/>\n",
       "    </g>\n",
       "    <g clip-path=\"url(#pa11f62da38)\">\n",
       "     <use xlink:href=\"#C0_0_08b4e7b197\" x=\"317.668877\" y=\"359.059373\" style=\"stroke: #000000\"/>\n",
       "    </g>\n",
       "    <g clip-path=\"url(#pa11f62da38)\">\n",
       "     <use xlink:href=\"#C0_0_08b4e7b197\" x=\"317.668877\" y=\"336.676928\" style=\"stroke: #000000\"/>\n",
       "    </g>\n",
       "    <g clip-path=\"url(#pa11f62da38)\">\n",
       "     <use xlink:href=\"#C0_0_08b4e7b197\" x=\"317.668877\" y=\"314.294483\" style=\"fill-opacity: 0.180392\"/>\n",
       "    </g>\n",
       "    <g clip-path=\"url(#pa11f62da38)\">\n",
       "     <use xlink:href=\"#C0_0_08b4e7b197\" x=\"317.668877\" y=\"291.912038\" style=\"fill-opacity: 0.180392\"/>\n",
       "    </g>\n",
       "    <g clip-path=\"url(#pa11f62da38)\">\n",
       "     <use xlink:href=\"#C0_0_08b4e7b197\" x=\"317.668877\" y=\"269.529593\" style=\"fill-opacity: 0.180392\"/>\n",
       "    </g>\n",
       "    <g clip-path=\"url(#pa11f62da38)\">\n",
       "     <use xlink:href=\"#C0_0_08b4e7b197\" x=\"317.668877\" y=\"247.147147\" style=\"fill-opacity: 0.180392\"/>\n",
       "    </g>\n",
       "    <g clip-path=\"url(#pa11f62da38)\">\n",
       "     <use xlink:href=\"#C0_0_08b4e7b197\" x=\"317.668877\" y=\"224.764702\" style=\"fill-opacity: 0.180392\"/>\n",
       "    </g>\n",
       "    <g clip-path=\"url(#pa11f62da38)\">\n",
       "     <use xlink:href=\"#C0_0_08b4e7b197\" x=\"317.668877\" y=\"202.382257\" style=\"fill-opacity: 0.180392\"/>\n",
       "    </g>\n",
       "    <g clip-path=\"url(#pa11f62da38)\">\n",
       "     <use xlink:href=\"#C0_0_08b4e7b197\" x=\"317.668877\" y=\"179.999812\" style=\"fill-opacity: 0.180392\"/>\n",
       "    </g>\n",
       "    <g clip-path=\"url(#pa11f62da38)\">\n",
       "     <use xlink:href=\"#C0_0_08b4e7b197\" x=\"342.444832\" y=\"359.059373\" style=\"stroke: #000000\"/>\n",
       "    </g>\n",
       "    <g clip-path=\"url(#pa11f62da38)\">\n",
       "     <use xlink:href=\"#C0_0_08b4e7b197\" x=\"342.444832\" y=\"336.676928\" style=\"fill-opacity: 0.180392\"/>\n",
       "    </g>\n",
       "    <g clip-path=\"url(#pa11f62da38)\">\n",
       "     <use xlink:href=\"#C0_0_08b4e7b197\" x=\"342.444832\" y=\"314.294483\" style=\"stroke: #000000\"/>\n",
       "    </g>\n",
       "    <g clip-path=\"url(#pa11f62da38)\">\n",
       "     <use xlink:href=\"#C0_0_08b4e7b197\" x=\"342.444832\" y=\"291.912038\" style=\"fill-opacity: 0.180392\"/>\n",
       "    </g>\n",
       "    <g clip-path=\"url(#pa11f62da38)\">\n",
       "     <use xlink:href=\"#C0_0_08b4e7b197\" x=\"342.444832\" y=\"269.529593\" style=\"fill-opacity: 0.180392\"/>\n",
       "    </g>\n",
       "    <g clip-path=\"url(#pa11f62da38)\">\n",
       "     <use xlink:href=\"#C0_0_08b4e7b197\" x=\"342.444832\" y=\"247.147147\" style=\"fill-opacity: 0.180392\"/>\n",
       "    </g>\n",
       "    <g clip-path=\"url(#pa11f62da38)\">\n",
       "     <use xlink:href=\"#C0_0_08b4e7b197\" x=\"342.444832\" y=\"224.764702\" style=\"fill-opacity: 0.180392\"/>\n",
       "    </g>\n",
       "    <g clip-path=\"url(#pa11f62da38)\">\n",
       "     <use xlink:href=\"#C0_0_08b4e7b197\" x=\"342.444832\" y=\"202.382257\" style=\"fill-opacity: 0.180392\"/>\n",
       "    </g>\n",
       "    <g clip-path=\"url(#pa11f62da38)\">\n",
       "     <use xlink:href=\"#C0_0_08b4e7b197\" x=\"342.444832\" y=\"179.999812\" style=\"fill-opacity: 0.180392\"/>\n",
       "    </g>\n",
       "    <g clip-path=\"url(#pa11f62da38)\">\n",
       "     <use xlink:href=\"#C0_0_08b4e7b197\" x=\"367.220787\" y=\"359.059373\" style=\"stroke: #000000\"/>\n",
       "    </g>\n",
       "    <g clip-path=\"url(#pa11f62da38)\">\n",
       "     <use xlink:href=\"#C0_0_08b4e7b197\" x=\"367.220787\" y=\"336.676928\" style=\"fill-opacity: 0.180392\"/>\n",
       "    </g>\n",
       "    <g clip-path=\"url(#pa11f62da38)\">\n",
       "     <use xlink:href=\"#C0_0_08b4e7b197\" x=\"367.220787\" y=\"314.294483\" style=\"fill-opacity: 0.180392\"/>\n",
       "    </g>\n",
       "    <g clip-path=\"url(#pa11f62da38)\">\n",
       "     <use xlink:href=\"#C0_0_08b4e7b197\" x=\"367.220787\" y=\"291.912038\" style=\"stroke: #000000\"/>\n",
       "    </g>\n",
       "    <g clip-path=\"url(#pa11f62da38)\">\n",
       "     <use xlink:href=\"#C0_0_08b4e7b197\" x=\"367.220787\" y=\"269.529593\" style=\"fill-opacity: 0.180392\"/>\n",
       "    </g>\n",
       "    <g clip-path=\"url(#pa11f62da38)\">\n",
       "     <use xlink:href=\"#C0_0_08b4e7b197\" x=\"367.220787\" y=\"247.147147\" style=\"fill-opacity: 0.180392\"/>\n",
       "    </g>\n",
       "    <g clip-path=\"url(#pa11f62da38)\">\n",
       "     <use xlink:href=\"#C0_0_08b4e7b197\" x=\"367.220787\" y=\"224.764702\" style=\"fill-opacity: 0.180392\"/>\n",
       "    </g>\n",
       "    <g clip-path=\"url(#pa11f62da38)\">\n",
       "     <use xlink:href=\"#C0_0_08b4e7b197\" x=\"367.220787\" y=\"202.382257\" style=\"fill-opacity: 0.180392\"/>\n",
       "    </g>\n",
       "    <g clip-path=\"url(#pa11f62da38)\">\n",
       "     <use xlink:href=\"#C0_0_08b4e7b197\" x=\"367.220787\" y=\"179.999812\" style=\"fill-opacity: 0.180392\"/>\n",
       "    </g>\n",
       "    <g clip-path=\"url(#pa11f62da38)\">\n",
       "     <use xlink:href=\"#C0_0_08b4e7b197\" x=\"391.996742\" y=\"359.059373\" style=\"stroke: #000000\"/>\n",
       "    </g>\n",
       "    <g clip-path=\"url(#pa11f62da38)\">\n",
       "     <use xlink:href=\"#C0_0_08b4e7b197\" x=\"391.996742\" y=\"336.676928\" style=\"fill-opacity: 0.180392\"/>\n",
       "    </g>\n",
       "    <g clip-path=\"url(#pa11f62da38)\">\n",
       "     <use xlink:href=\"#C0_0_08b4e7b197\" x=\"391.996742\" y=\"314.294483\" style=\"fill-opacity: 0.180392\"/>\n",
       "    </g>\n",
       "    <g clip-path=\"url(#pa11f62da38)\">\n",
       "     <use xlink:href=\"#C0_0_08b4e7b197\" x=\"391.996742\" y=\"291.912038\" style=\"fill-opacity: 0.180392\"/>\n",
       "    </g>\n",
       "    <g clip-path=\"url(#pa11f62da38)\">\n",
       "     <use xlink:href=\"#C0_0_08b4e7b197\" x=\"391.996742\" y=\"269.529593\" style=\"stroke: #000000\"/>\n",
       "    </g>\n",
       "    <g clip-path=\"url(#pa11f62da38)\">\n",
       "     <use xlink:href=\"#C0_0_08b4e7b197\" x=\"391.996742\" y=\"247.147147\" style=\"fill-opacity: 0.180392\"/>\n",
       "    </g>\n",
       "    <g clip-path=\"url(#pa11f62da38)\">\n",
       "     <use xlink:href=\"#C0_0_08b4e7b197\" x=\"391.996742\" y=\"224.764702\" style=\"fill-opacity: 0.180392\"/>\n",
       "    </g>\n",
       "    <g clip-path=\"url(#pa11f62da38)\">\n",
       "     <use xlink:href=\"#C0_0_08b4e7b197\" x=\"391.996742\" y=\"202.382257\" style=\"fill-opacity: 0.180392\"/>\n",
       "    </g>\n",
       "    <g clip-path=\"url(#pa11f62da38)\">\n",
       "     <use xlink:href=\"#C0_0_08b4e7b197\" x=\"391.996742\" y=\"179.999812\" style=\"fill-opacity: 0.180392\"/>\n",
       "    </g>\n",
       "    <g clip-path=\"url(#pa11f62da38)\">\n",
       "     <use xlink:href=\"#C0_0_08b4e7b197\" x=\"416.772697\" y=\"359.059373\" style=\"stroke: #000000\"/>\n",
       "    </g>\n",
       "    <g clip-path=\"url(#pa11f62da38)\">\n",
       "     <use xlink:href=\"#C0_0_08b4e7b197\" x=\"416.772697\" y=\"336.676928\" style=\"fill-opacity: 0.180392\"/>\n",
       "    </g>\n",
       "    <g clip-path=\"url(#pa11f62da38)\">\n",
       "     <use xlink:href=\"#C0_0_08b4e7b197\" x=\"416.772697\" y=\"314.294483\" style=\"fill-opacity: 0.180392\"/>\n",
       "    </g>\n",
       "    <g clip-path=\"url(#pa11f62da38)\">\n",
       "     <use xlink:href=\"#C0_0_08b4e7b197\" x=\"416.772697\" y=\"291.912038\" style=\"fill-opacity: 0.180392\"/>\n",
       "    </g>\n",
       "    <g clip-path=\"url(#pa11f62da38)\">\n",
       "     <use xlink:href=\"#C0_0_08b4e7b197\" x=\"416.772697\" y=\"269.529593\" style=\"fill-opacity: 0.180392\"/>\n",
       "    </g>\n",
       "    <g clip-path=\"url(#pa11f62da38)\">\n",
       "     <use xlink:href=\"#C0_0_08b4e7b197\" x=\"416.772697\" y=\"247.147147\" style=\"stroke: #000000\"/>\n",
       "    </g>\n",
       "    <g clip-path=\"url(#pa11f62da38)\">\n",
       "     <use xlink:href=\"#C0_0_08b4e7b197\" x=\"416.772697\" y=\"224.764702\" style=\"fill-opacity: 0.180392\"/>\n",
       "    </g>\n",
       "    <g clip-path=\"url(#pa11f62da38)\">\n",
       "     <use xlink:href=\"#C0_0_08b4e7b197\" x=\"416.772697\" y=\"202.382257\" style=\"fill-opacity: 0.180392\"/>\n",
       "    </g>\n",
       "    <g clip-path=\"url(#pa11f62da38)\">\n",
       "     <use xlink:href=\"#C0_0_08b4e7b197\" x=\"416.772697\" y=\"179.999812\" style=\"fill-opacity: 0.180392\"/>\n",
       "    </g>\n",
       "    <g clip-path=\"url(#pa11f62da38)\">\n",
       "     <use xlink:href=\"#C0_0_08b4e7b197\" x=\"441.548652\" y=\"359.059373\" style=\"fill-opacity: 0.180392\"/>\n",
       "    </g>\n",
       "    <g clip-path=\"url(#pa11f62da38)\">\n",
       "     <use xlink:href=\"#C0_0_08b4e7b197\" x=\"441.548652\" y=\"336.676928\" style=\"stroke: #000000\"/>\n",
       "    </g>\n",
       "    <g clip-path=\"url(#pa11f62da38)\">\n",
       "     <use xlink:href=\"#C0_0_08b4e7b197\" x=\"441.548652\" y=\"314.294483\" style=\"fill-opacity: 0.180392\"/>\n",
       "    </g>\n",
       "    <g clip-path=\"url(#pa11f62da38)\">\n",
       "     <use xlink:href=\"#C0_0_08b4e7b197\" x=\"441.548652\" y=\"291.912038\" style=\"fill-opacity: 0.180392\"/>\n",
       "    </g>\n",
       "    <g clip-path=\"url(#pa11f62da38)\">\n",
       "     <use xlink:href=\"#C0_0_08b4e7b197\" x=\"441.548652\" y=\"269.529593\" style=\"fill-opacity: 0.180392\"/>\n",
       "    </g>\n",
       "    <g clip-path=\"url(#pa11f62da38)\">\n",
       "     <use xlink:href=\"#C0_0_08b4e7b197\" x=\"441.548652\" y=\"247.147147\" style=\"stroke: #000000\"/>\n",
       "    </g>\n",
       "    <g clip-path=\"url(#pa11f62da38)\">\n",
       "     <use xlink:href=\"#C0_0_08b4e7b197\" x=\"441.548652\" y=\"224.764702\" style=\"fill-opacity: 0.180392\"/>\n",
       "    </g>\n",
       "    <g clip-path=\"url(#pa11f62da38)\">\n",
       "     <use xlink:href=\"#C0_0_08b4e7b197\" x=\"441.548652\" y=\"202.382257\" style=\"fill-opacity: 0.180392\"/>\n",
       "    </g>\n",
       "    <g clip-path=\"url(#pa11f62da38)\">\n",
       "     <use xlink:href=\"#C0_0_08b4e7b197\" x=\"441.548652\" y=\"179.999812\" style=\"fill-opacity: 0.180392\"/>\n",
       "    </g>\n",
       "    <g clip-path=\"url(#pa11f62da38)\">\n",
       "     <use xlink:href=\"#C0_0_08b4e7b197\" x=\"466.324607\" y=\"359.059373\" style=\"stroke: #000000\"/>\n",
       "    </g>\n",
       "    <g clip-path=\"url(#pa11f62da38)\">\n",
       "     <use xlink:href=\"#C0_0_08b4e7b197\" x=\"466.324607\" y=\"336.676928\" style=\"fill-opacity: 0.180392\"/>\n",
       "    </g>\n",
       "    <g clip-path=\"url(#pa11f62da38)\">\n",
       "     <use xlink:href=\"#C0_0_08b4e7b197\" x=\"466.324607\" y=\"314.294483\" style=\"fill-opacity: 0.180392\"/>\n",
       "    </g>\n",
       "    <g clip-path=\"url(#pa11f62da38)\">\n",
       "     <use xlink:href=\"#C0_0_08b4e7b197\" x=\"466.324607\" y=\"291.912038\" style=\"fill-opacity: 0.180392\"/>\n",
       "    </g>\n",
       "    <g clip-path=\"url(#pa11f62da38)\">\n",
       "     <use xlink:href=\"#C0_0_08b4e7b197\" x=\"466.324607\" y=\"269.529593\" style=\"fill-opacity: 0.180392\"/>\n",
       "    </g>\n",
       "    <g clip-path=\"url(#pa11f62da38)\">\n",
       "     <use xlink:href=\"#C0_0_08b4e7b197\" x=\"466.324607\" y=\"247.147147\" style=\"fill-opacity: 0.180392\"/>\n",
       "    </g>\n",
       "    <g clip-path=\"url(#pa11f62da38)\">\n",
       "     <use xlink:href=\"#C0_0_08b4e7b197\" x=\"466.324607\" y=\"224.764702\" style=\"stroke: #000000\"/>\n",
       "    </g>\n",
       "    <g clip-path=\"url(#pa11f62da38)\">\n",
       "     <use xlink:href=\"#C0_0_08b4e7b197\" x=\"466.324607\" y=\"202.382257\" style=\"fill-opacity: 0.180392\"/>\n",
       "    </g>\n",
       "    <g clip-path=\"url(#pa11f62da38)\">\n",
       "     <use xlink:href=\"#C0_0_08b4e7b197\" x=\"466.324607\" y=\"179.999812\" style=\"fill-opacity: 0.180392\"/>\n",
       "    </g>\n",
       "    <g clip-path=\"url(#pa11f62da38)\">\n",
       "     <use xlink:href=\"#C0_0_08b4e7b197\" x=\"491.100562\" y=\"359.059373\" style=\"stroke: #000000\"/>\n",
       "    </g>\n",
       "    <g clip-path=\"url(#pa11f62da38)\">\n",
       "     <use xlink:href=\"#C0_0_08b4e7b197\" x=\"491.100562\" y=\"336.676928\" style=\"stroke: #000000\"/>\n",
       "    </g>\n",
       "    <g clip-path=\"url(#pa11f62da38)\">\n",
       "     <use xlink:href=\"#C0_0_08b4e7b197\" x=\"491.100562\" y=\"314.294483\" style=\"stroke: #000000\"/>\n",
       "    </g>\n",
       "    <g clip-path=\"url(#pa11f62da38)\">\n",
       "     <use xlink:href=\"#C0_0_08b4e7b197\" x=\"491.100562\" y=\"291.912038\" style=\"fill-opacity: 0.180392\"/>\n",
       "    </g>\n",
       "    <g clip-path=\"url(#pa11f62da38)\">\n",
       "     <use xlink:href=\"#C0_0_08b4e7b197\" x=\"491.100562\" y=\"269.529593\" style=\"fill-opacity: 0.180392\"/>\n",
       "    </g>\n",
       "    <g clip-path=\"url(#pa11f62da38)\">\n",
       "     <use xlink:href=\"#C0_0_08b4e7b197\" x=\"491.100562\" y=\"247.147147\" style=\"fill-opacity: 0.180392\"/>\n",
       "    </g>\n",
       "    <g clip-path=\"url(#pa11f62da38)\">\n",
       "     <use xlink:href=\"#C0_0_08b4e7b197\" x=\"491.100562\" y=\"224.764702\" style=\"fill-opacity: 0.180392\"/>\n",
       "    </g>\n",
       "    <g clip-path=\"url(#pa11f62da38)\">\n",
       "     <use xlink:href=\"#C0_0_08b4e7b197\" x=\"491.100562\" y=\"202.382257\" style=\"fill-opacity: 0.180392\"/>\n",
       "    </g>\n",
       "    <g clip-path=\"url(#pa11f62da38)\">\n",
       "     <use xlink:href=\"#C0_0_08b4e7b197\" x=\"491.100562\" y=\"179.999812\" style=\"fill-opacity: 0.180392\"/>\n",
       "    </g>\n",
       "    <g clip-path=\"url(#pa11f62da38)\">\n",
       "     <use xlink:href=\"#C0_0_08b4e7b197\" x=\"515.876517\" y=\"359.059373\" style=\"stroke: #000000\"/>\n",
       "    </g>\n",
       "    <g clip-path=\"url(#pa11f62da38)\">\n",
       "     <use xlink:href=\"#C0_0_08b4e7b197\" x=\"515.876517\" y=\"336.676928\" style=\"stroke: #000000\"/>\n",
       "    </g>\n",
       "    <g clip-path=\"url(#pa11f62da38)\">\n",
       "     <use xlink:href=\"#C0_0_08b4e7b197\" x=\"515.876517\" y=\"314.294483\" style=\"fill-opacity: 0.180392\"/>\n",
       "    </g>\n",
       "    <g clip-path=\"url(#pa11f62da38)\">\n",
       "     <use xlink:href=\"#C0_0_08b4e7b197\" x=\"515.876517\" y=\"291.912038\" style=\"stroke: #000000\"/>\n",
       "    </g>\n",
       "    <g clip-path=\"url(#pa11f62da38)\">\n",
       "     <use xlink:href=\"#C0_0_08b4e7b197\" x=\"515.876517\" y=\"269.529593\" style=\"fill-opacity: 0.180392\"/>\n",
       "    </g>\n",
       "    <g clip-path=\"url(#pa11f62da38)\">\n",
       "     <use xlink:href=\"#C0_0_08b4e7b197\" x=\"515.876517\" y=\"247.147147\" style=\"fill-opacity: 0.180392\"/>\n",
       "    </g>\n",
       "    <g clip-path=\"url(#pa11f62da38)\">\n",
       "     <use xlink:href=\"#C0_0_08b4e7b197\" x=\"515.876517\" y=\"224.764702\" style=\"fill-opacity: 0.180392\"/>\n",
       "    </g>\n",
       "    <g clip-path=\"url(#pa11f62da38)\">\n",
       "     <use xlink:href=\"#C0_0_08b4e7b197\" x=\"515.876517\" y=\"202.382257\" style=\"fill-opacity: 0.180392\"/>\n",
       "    </g>\n",
       "    <g clip-path=\"url(#pa11f62da38)\">\n",
       "     <use xlink:href=\"#C0_0_08b4e7b197\" x=\"515.876517\" y=\"179.999812\" style=\"fill-opacity: 0.180392\"/>\n",
       "    </g>\n",
       "    <g clip-path=\"url(#pa11f62da38)\">\n",
       "     <use xlink:href=\"#C0_0_08b4e7b197\" x=\"540.652472\" y=\"359.059373\" style=\"stroke: #000000\"/>\n",
       "    </g>\n",
       "    <g clip-path=\"url(#pa11f62da38)\">\n",
       "     <use xlink:href=\"#C0_0_08b4e7b197\" x=\"540.652472\" y=\"336.676928\" style=\"stroke: #000000\"/>\n",
       "    </g>\n",
       "    <g clip-path=\"url(#pa11f62da38)\">\n",
       "     <use xlink:href=\"#C0_0_08b4e7b197\" x=\"540.652472\" y=\"314.294483\" style=\"fill-opacity: 0.180392\"/>\n",
       "    </g>\n",
       "    <g clip-path=\"url(#pa11f62da38)\">\n",
       "     <use xlink:href=\"#C0_0_08b4e7b197\" x=\"540.652472\" y=\"291.912038\" style=\"fill-opacity: 0.180392\"/>\n",
       "    </g>\n",
       "    <g clip-path=\"url(#pa11f62da38)\">\n",
       "     <use xlink:href=\"#C0_0_08b4e7b197\" x=\"540.652472\" y=\"269.529593\" style=\"stroke: #000000\"/>\n",
       "    </g>\n",
       "    <g clip-path=\"url(#pa11f62da38)\">\n",
       "     <use xlink:href=\"#C0_0_08b4e7b197\" x=\"540.652472\" y=\"247.147147\" style=\"fill-opacity: 0.180392\"/>\n",
       "    </g>\n",
       "    <g clip-path=\"url(#pa11f62da38)\">\n",
       "     <use xlink:href=\"#C0_0_08b4e7b197\" x=\"540.652472\" y=\"224.764702\" style=\"fill-opacity: 0.180392\"/>\n",
       "    </g>\n",
       "    <g clip-path=\"url(#pa11f62da38)\">\n",
       "     <use xlink:href=\"#C0_0_08b4e7b197\" x=\"540.652472\" y=\"202.382257\" style=\"fill-opacity: 0.180392\"/>\n",
       "    </g>\n",
       "    <g clip-path=\"url(#pa11f62da38)\">\n",
       "     <use xlink:href=\"#C0_0_08b4e7b197\" x=\"540.652472\" y=\"179.999812\" style=\"fill-opacity: 0.180392\"/>\n",
       "    </g>\n",
       "    <g clip-path=\"url(#pa11f62da38)\">\n",
       "     <use xlink:href=\"#C0_0_08b4e7b197\" x=\"565.428427\" y=\"359.059373\" style=\"stroke: #000000\"/>\n",
       "    </g>\n",
       "    <g clip-path=\"url(#pa11f62da38)\">\n",
       "     <use xlink:href=\"#C0_0_08b4e7b197\" x=\"565.428427\" y=\"336.676928\" style=\"stroke: #000000\"/>\n",
       "    </g>\n",
       "    <g clip-path=\"url(#pa11f62da38)\">\n",
       "     <use xlink:href=\"#C0_0_08b4e7b197\" x=\"565.428427\" y=\"314.294483\" style=\"fill-opacity: 0.180392\"/>\n",
       "    </g>\n",
       "    <g clip-path=\"url(#pa11f62da38)\">\n",
       "     <use xlink:href=\"#C0_0_08b4e7b197\" x=\"565.428427\" y=\"291.912038\" style=\"fill-opacity: 0.180392\"/>\n",
       "    </g>\n",
       "    <g clip-path=\"url(#pa11f62da38)\">\n",
       "     <use xlink:href=\"#C0_0_08b4e7b197\" x=\"565.428427\" y=\"269.529593\" style=\"fill-opacity: 0.180392\"/>\n",
       "    </g>\n",
       "    <g clip-path=\"url(#pa11f62da38)\">\n",
       "     <use xlink:href=\"#C0_0_08b4e7b197\" x=\"565.428427\" y=\"247.147147\" style=\"stroke: #000000\"/>\n",
       "    </g>\n",
       "    <g clip-path=\"url(#pa11f62da38)\">\n",
       "     <use xlink:href=\"#C0_0_08b4e7b197\" x=\"565.428427\" y=\"224.764702\" style=\"fill-opacity: 0.180392\"/>\n",
       "    </g>\n",
       "    <g clip-path=\"url(#pa11f62da38)\">\n",
       "     <use xlink:href=\"#C0_0_08b4e7b197\" x=\"565.428427\" y=\"202.382257\" style=\"fill-opacity: 0.180392\"/>\n",
       "    </g>\n",
       "    <g clip-path=\"url(#pa11f62da38)\">\n",
       "     <use xlink:href=\"#C0_0_08b4e7b197\" x=\"565.428427\" y=\"179.999812\" style=\"fill-opacity: 0.180392\"/>\n",
       "    </g>\n",
       "    <g clip-path=\"url(#pa11f62da38)\">\n",
       "     <use xlink:href=\"#C0_0_08b4e7b197\" x=\"590.204382\" y=\"359.059373\" style=\"stroke: #000000\"/>\n",
       "    </g>\n",
       "    <g clip-path=\"url(#pa11f62da38)\">\n",
       "     <use xlink:href=\"#C0_0_08b4e7b197\" x=\"590.204382\" y=\"336.676928\" style=\"fill-opacity: 0.180392\"/>\n",
       "    </g>\n",
       "    <g clip-path=\"url(#pa11f62da38)\">\n",
       "     <use xlink:href=\"#C0_0_08b4e7b197\" x=\"590.204382\" y=\"314.294483\" style=\"fill-opacity: 0.180392\"/>\n",
       "    </g>\n",
       "    <g clip-path=\"url(#pa11f62da38)\">\n",
       "     <use xlink:href=\"#C0_0_08b4e7b197\" x=\"590.204382\" y=\"291.912038\" style=\"fill-opacity: 0.180392\"/>\n",
       "    </g>\n",
       "    <g clip-path=\"url(#pa11f62da38)\">\n",
       "     <use xlink:href=\"#C0_0_08b4e7b197\" x=\"590.204382\" y=\"269.529593\" style=\"stroke: #000000\"/>\n",
       "    </g>\n",
       "    <g clip-path=\"url(#pa11f62da38)\">\n",
       "     <use xlink:href=\"#C0_0_08b4e7b197\" x=\"590.204382\" y=\"247.147147\" style=\"stroke: #000000\"/>\n",
       "    </g>\n",
       "    <g clip-path=\"url(#pa11f62da38)\">\n",
       "     <use xlink:href=\"#C0_0_08b4e7b197\" x=\"590.204382\" y=\"224.764702\" style=\"fill-opacity: 0.180392\"/>\n",
       "    </g>\n",
       "    <g clip-path=\"url(#pa11f62da38)\">\n",
       "     <use xlink:href=\"#C0_0_08b4e7b197\" x=\"590.204382\" y=\"202.382257\" style=\"fill-opacity: 0.180392\"/>\n",
       "    </g>\n",
       "    <g clip-path=\"url(#pa11f62da38)\">\n",
       "     <use xlink:href=\"#C0_0_08b4e7b197\" x=\"590.204382\" y=\"179.999812\" style=\"fill-opacity: 0.180392\"/>\n",
       "    </g>\n",
       "    <g clip-path=\"url(#pa11f62da38)\">\n",
       "     <use xlink:href=\"#C0_0_08b4e7b197\" x=\"614.980337\" y=\"359.059373\" style=\"stroke: #000000\"/>\n",
       "    </g>\n",
       "    <g clip-path=\"url(#pa11f62da38)\">\n",
       "     <use xlink:href=\"#C0_0_08b4e7b197\" x=\"614.980337\" y=\"336.676928\" style=\"stroke: #000000\"/>\n",
       "    </g>\n",
       "    <g clip-path=\"url(#pa11f62da38)\">\n",
       "     <use xlink:href=\"#C0_0_08b4e7b197\" x=\"614.980337\" y=\"314.294483\" style=\"fill-opacity: 0.180392\"/>\n",
       "    </g>\n",
       "    <g clip-path=\"url(#pa11f62da38)\">\n",
       "     <use xlink:href=\"#C0_0_08b4e7b197\" x=\"614.980337\" y=\"291.912038\" style=\"fill-opacity: 0.180392\"/>\n",
       "    </g>\n",
       "    <g clip-path=\"url(#pa11f62da38)\">\n",
       "     <use xlink:href=\"#C0_0_08b4e7b197\" x=\"614.980337\" y=\"269.529593\" style=\"fill-opacity: 0.180392\"/>\n",
       "    </g>\n",
       "    <g clip-path=\"url(#pa11f62da38)\">\n",
       "     <use xlink:href=\"#C0_0_08b4e7b197\" x=\"614.980337\" y=\"247.147147\" style=\"fill-opacity: 0.180392\"/>\n",
       "    </g>\n",
       "    <g clip-path=\"url(#pa11f62da38)\">\n",
       "     <use xlink:href=\"#C0_0_08b4e7b197\" x=\"614.980337\" y=\"224.764702\" style=\"stroke: #000000\"/>\n",
       "    </g>\n",
       "    <g clip-path=\"url(#pa11f62da38)\">\n",
       "     <use xlink:href=\"#C0_0_08b4e7b197\" x=\"614.980337\" y=\"202.382257\" style=\"fill-opacity: 0.180392\"/>\n",
       "    </g>\n",
       "    <g clip-path=\"url(#pa11f62da38)\">\n",
       "     <use xlink:href=\"#C0_0_08b4e7b197\" x=\"614.980337\" y=\"179.999812\" style=\"fill-opacity: 0.180392\"/>\n",
       "    </g>\n",
       "    <g clip-path=\"url(#pa11f62da38)\">\n",
       "     <use xlink:href=\"#C0_0_08b4e7b197\" x=\"639.756292\" y=\"359.059373\" style=\"stroke: #000000\"/>\n",
       "    </g>\n",
       "    <g clip-path=\"url(#pa11f62da38)\">\n",
       "     <use xlink:href=\"#C0_0_08b4e7b197\" x=\"639.756292\" y=\"336.676928\" style=\"stroke: #000000\"/>\n",
       "    </g>\n",
       "    <g clip-path=\"url(#pa11f62da38)\">\n",
       "     <use xlink:href=\"#C0_0_08b4e7b197\" x=\"639.756292\" y=\"314.294483\" style=\"stroke: #000000\"/>\n",
       "    </g>\n",
       "    <g clip-path=\"url(#pa11f62da38)\">\n",
       "     <use xlink:href=\"#C0_0_08b4e7b197\" x=\"639.756292\" y=\"291.912038\" style=\"stroke: #000000\"/>\n",
       "    </g>\n",
       "    <g clip-path=\"url(#pa11f62da38)\">\n",
       "     <use xlink:href=\"#C0_0_08b4e7b197\" x=\"639.756292\" y=\"269.529593\" style=\"fill-opacity: 0.180392\"/>\n",
       "    </g>\n",
       "    <g clip-path=\"url(#pa11f62da38)\">\n",
       "     <use xlink:href=\"#C0_0_08b4e7b197\" x=\"639.756292\" y=\"247.147147\" style=\"fill-opacity: 0.180392\"/>\n",
       "    </g>\n",
       "    <g clip-path=\"url(#pa11f62da38)\">\n",
       "     <use xlink:href=\"#C0_0_08b4e7b197\" x=\"639.756292\" y=\"224.764702\" style=\"fill-opacity: 0.180392\"/>\n",
       "    </g>\n",
       "    <g clip-path=\"url(#pa11f62da38)\">\n",
       "     <use xlink:href=\"#C0_0_08b4e7b197\" x=\"639.756292\" y=\"202.382257\" style=\"fill-opacity: 0.180392\"/>\n",
       "    </g>\n",
       "    <g clip-path=\"url(#pa11f62da38)\">\n",
       "     <use xlink:href=\"#C0_0_08b4e7b197\" x=\"639.756292\" y=\"179.999812\" style=\"fill-opacity: 0.180392\"/>\n",
       "    </g>\n",
       "    <g clip-path=\"url(#pa11f62da38)\">\n",
       "     <use xlink:href=\"#C0_0_08b4e7b197\" x=\"664.532247\" y=\"359.059373\" style=\"stroke: #000000\"/>\n",
       "    </g>\n",
       "    <g clip-path=\"url(#pa11f62da38)\">\n",
       "     <use xlink:href=\"#C0_0_08b4e7b197\" x=\"664.532247\" y=\"336.676928\" style=\"stroke: #000000\"/>\n",
       "    </g>\n",
       "    <g clip-path=\"url(#pa11f62da38)\">\n",
       "     <use xlink:href=\"#C0_0_08b4e7b197\" x=\"664.532247\" y=\"314.294483\" style=\"fill-opacity: 0.180392\"/>\n",
       "    </g>\n",
       "    <g clip-path=\"url(#pa11f62da38)\">\n",
       "     <use xlink:href=\"#C0_0_08b4e7b197\" x=\"664.532247\" y=\"291.912038\" style=\"fill-opacity: 0.180392\"/>\n",
       "    </g>\n",
       "    <g clip-path=\"url(#pa11f62da38)\">\n",
       "     <use xlink:href=\"#C0_0_08b4e7b197\" x=\"664.532247\" y=\"269.529593\" style=\"stroke: #000000\"/>\n",
       "    </g>\n",
       "    <g clip-path=\"url(#pa11f62da38)\">\n",
       "     <use xlink:href=\"#C0_0_08b4e7b197\" x=\"664.532247\" y=\"247.147147\" style=\"stroke: #000000\"/>\n",
       "    </g>\n",
       "    <g clip-path=\"url(#pa11f62da38)\">\n",
       "     <use xlink:href=\"#C0_0_08b4e7b197\" x=\"664.532247\" y=\"224.764702\" style=\"fill-opacity: 0.180392\"/>\n",
       "    </g>\n",
       "    <g clip-path=\"url(#pa11f62da38)\">\n",
       "     <use xlink:href=\"#C0_0_08b4e7b197\" x=\"664.532247\" y=\"202.382257\" style=\"fill-opacity: 0.180392\"/>\n",
       "    </g>\n",
       "    <g clip-path=\"url(#pa11f62da38)\">\n",
       "     <use xlink:href=\"#C0_0_08b4e7b197\" x=\"664.532247\" y=\"179.999812\" style=\"fill-opacity: 0.180392\"/>\n",
       "    </g>\n",
       "    <g clip-path=\"url(#pa11f62da38)\">\n",
       "     <use xlink:href=\"#C0_0_08b4e7b197\" x=\"689.308202\" y=\"359.059373\" style=\"stroke: #000000\"/>\n",
       "    </g>\n",
       "    <g clip-path=\"url(#pa11f62da38)\">\n",
       "     <use xlink:href=\"#C0_0_08b4e7b197\" x=\"689.308202\" y=\"336.676928\" style=\"stroke: #000000\"/>\n",
       "    </g>\n",
       "    <g clip-path=\"url(#pa11f62da38)\">\n",
       "     <use xlink:href=\"#C0_0_08b4e7b197\" x=\"689.308202\" y=\"314.294483\" style=\"fill-opacity: 0.180392\"/>\n",
       "    </g>\n",
       "    <g clip-path=\"url(#pa11f62da38)\">\n",
       "     <use xlink:href=\"#C0_0_08b4e7b197\" x=\"689.308202\" y=\"291.912038\" style=\"fill-opacity: 0.180392\"/>\n",
       "    </g>\n",
       "    <g clip-path=\"url(#pa11f62da38)\">\n",
       "     <use xlink:href=\"#C0_0_08b4e7b197\" x=\"689.308202\" y=\"269.529593\" style=\"stroke: #000000\"/>\n",
       "    </g>\n",
       "    <g clip-path=\"url(#pa11f62da38)\">\n",
       "     <use xlink:href=\"#C0_0_08b4e7b197\" x=\"689.308202\" y=\"247.147147\" style=\"fill-opacity: 0.180392\"/>\n",
       "    </g>\n",
       "    <g clip-path=\"url(#pa11f62da38)\">\n",
       "     <use xlink:href=\"#C0_0_08b4e7b197\" x=\"689.308202\" y=\"224.764702\" style=\"fill-opacity: 0.180392\"/>\n",
       "    </g>\n",
       "    <g clip-path=\"url(#pa11f62da38)\">\n",
       "     <use xlink:href=\"#C0_0_08b4e7b197\" x=\"689.308202\" y=\"202.382257\" style=\"stroke: #000000\"/>\n",
       "    </g>\n",
       "    <g clip-path=\"url(#pa11f62da38)\">\n",
       "     <use xlink:href=\"#C0_0_08b4e7b197\" x=\"689.308202\" y=\"179.999812\" style=\"fill-opacity: 0.180392\"/>\n",
       "    </g>\n",
       "    <g clip-path=\"url(#pa11f62da38)\">\n",
       "     <use xlink:href=\"#C0_0_08b4e7b197\" x=\"714.084157\" y=\"359.059373\" style=\"stroke: #000000\"/>\n",
       "    </g>\n",
       "    <g clip-path=\"url(#pa11f62da38)\">\n",
       "     <use xlink:href=\"#C0_0_08b4e7b197\" x=\"714.084157\" y=\"336.676928\" style=\"stroke: #000000\"/>\n",
       "    </g>\n",
       "    <g clip-path=\"url(#pa11f62da38)\">\n",
       "     <use xlink:href=\"#C0_0_08b4e7b197\" x=\"714.084157\" y=\"314.294483\" style=\"fill-opacity: 0.180392\"/>\n",
       "    </g>\n",
       "    <g clip-path=\"url(#pa11f62da38)\">\n",
       "     <use xlink:href=\"#C0_0_08b4e7b197\" x=\"714.084157\" y=\"291.912038\" style=\"fill-opacity: 0.180392\"/>\n",
       "    </g>\n",
       "    <g clip-path=\"url(#pa11f62da38)\">\n",
       "     <use xlink:href=\"#C0_0_08b4e7b197\" x=\"714.084157\" y=\"269.529593\" style=\"stroke: #000000\"/>\n",
       "    </g>\n",
       "    <g clip-path=\"url(#pa11f62da38)\">\n",
       "     <use xlink:href=\"#C0_0_08b4e7b197\" x=\"714.084157\" y=\"247.147147\" style=\"stroke: #000000\"/>\n",
       "    </g>\n",
       "    <g clip-path=\"url(#pa11f62da38)\">\n",
       "     <use xlink:href=\"#C0_0_08b4e7b197\" x=\"714.084157\" y=\"224.764702\" style=\"fill-opacity: 0.180392\"/>\n",
       "    </g>\n",
       "    <g clip-path=\"url(#pa11f62da38)\">\n",
       "     <use xlink:href=\"#C0_0_08b4e7b197\" x=\"714.084157\" y=\"202.382257\" style=\"stroke: #000000\"/>\n",
       "    </g>\n",
       "    <g clip-path=\"url(#pa11f62da38)\">\n",
       "     <use xlink:href=\"#C0_0_08b4e7b197\" x=\"714.084157\" y=\"179.999812\" style=\"fill-opacity: 0.180392\"/>\n",
       "    </g>\n",
       "    <g clip-path=\"url(#pa11f62da38)\">\n",
       "     <use xlink:href=\"#C0_0_08b4e7b197\" x=\"738.860112\" y=\"359.059373\" style=\"stroke: #000000\"/>\n",
       "    </g>\n",
       "    <g clip-path=\"url(#pa11f62da38)\">\n",
       "     <use xlink:href=\"#C0_0_08b4e7b197\" x=\"738.860112\" y=\"336.676928\" style=\"stroke: #000000\"/>\n",
       "    </g>\n",
       "    <g clip-path=\"url(#pa11f62da38)\">\n",
       "     <use xlink:href=\"#C0_0_08b4e7b197\" x=\"738.860112\" y=\"314.294483\" style=\"fill-opacity: 0.180392\"/>\n",
       "    </g>\n",
       "    <g clip-path=\"url(#pa11f62da38)\">\n",
       "     <use xlink:href=\"#C0_0_08b4e7b197\" x=\"738.860112\" y=\"291.912038\" style=\"fill-opacity: 0.180392\"/>\n",
       "    </g>\n",
       "    <g clip-path=\"url(#pa11f62da38)\">\n",
       "     <use xlink:href=\"#C0_0_08b4e7b197\" x=\"738.860112\" y=\"269.529593\" style=\"stroke: #000000\"/>\n",
       "    </g>\n",
       "    <g clip-path=\"url(#pa11f62da38)\">\n",
       "     <use xlink:href=\"#C0_0_08b4e7b197\" x=\"738.860112\" y=\"247.147147\" style=\"stroke: #000000\"/>\n",
       "    </g>\n",
       "    <g clip-path=\"url(#pa11f62da38)\">\n",
       "     <use xlink:href=\"#C0_0_08b4e7b197\" x=\"738.860112\" y=\"224.764702\" style=\"fill-opacity: 0.180392\"/>\n",
       "    </g>\n",
       "    <g clip-path=\"url(#pa11f62da38)\">\n",
       "     <use xlink:href=\"#C0_0_08b4e7b197\" x=\"738.860112\" y=\"202.382257\" style=\"fill-opacity: 0.180392\"/>\n",
       "    </g>\n",
       "    <g clip-path=\"url(#pa11f62da38)\">\n",
       "     <use xlink:href=\"#C0_0_08b4e7b197\" x=\"738.860112\" y=\"179.999812\" style=\"stroke: #000000\"/>\n",
       "    </g>\n",
       "    <g clip-path=\"url(#pa11f62da38)\">\n",
       "     <use xlink:href=\"#C0_0_08b4e7b197\" x=\"763.636067\" y=\"359.059373\" style=\"stroke: #000000\"/>\n",
       "    </g>\n",
       "    <g clip-path=\"url(#pa11f62da38)\">\n",
       "     <use xlink:href=\"#C0_0_08b4e7b197\" x=\"763.636067\" y=\"336.676928\" style=\"stroke: #000000\"/>\n",
       "    </g>\n",
       "    <g clip-path=\"url(#pa11f62da38)\">\n",
       "     <use xlink:href=\"#C0_0_08b4e7b197\" x=\"763.636067\" y=\"314.294483\" style=\"fill-opacity: 0.180392\"/>\n",
       "    </g>\n",
       "    <g clip-path=\"url(#pa11f62da38)\">\n",
       "     <use xlink:href=\"#C0_0_08b4e7b197\" x=\"763.636067\" y=\"291.912038\" style=\"fill-opacity: 0.180392\"/>\n",
       "    </g>\n",
       "    <g clip-path=\"url(#pa11f62da38)\">\n",
       "     <use xlink:href=\"#C0_0_08b4e7b197\" x=\"763.636067\" y=\"269.529593\" style=\"stroke: #000000\"/>\n",
       "    </g>\n",
       "    <g clip-path=\"url(#pa11f62da38)\">\n",
       "     <use xlink:href=\"#C0_0_08b4e7b197\" x=\"763.636067\" y=\"247.147147\" style=\"fill-opacity: 0.180392\"/>\n",
       "    </g>\n",
       "    <g clip-path=\"url(#pa11f62da38)\">\n",
       "     <use xlink:href=\"#C0_0_08b4e7b197\" x=\"763.636067\" y=\"224.764702\" style=\"fill-opacity: 0.180392\"/>\n",
       "    </g>\n",
       "    <g clip-path=\"url(#pa11f62da38)\">\n",
       "     <use xlink:href=\"#C0_0_08b4e7b197\" x=\"763.636067\" y=\"202.382257\" style=\"stroke: #000000\"/>\n",
       "    </g>\n",
       "    <g clip-path=\"url(#pa11f62da38)\">\n",
       "     <use xlink:href=\"#C0_0_08b4e7b197\" x=\"763.636067\" y=\"179.999812\" style=\"stroke: #000000\"/>\n",
       "    </g>\n",
       "    <g clip-path=\"url(#pa11f62da38)\">\n",
       "     <use xlink:href=\"#C0_0_08b4e7b197\" x=\"788.412022\" y=\"359.059373\" style=\"stroke: #000000\"/>\n",
       "    </g>\n",
       "    <g clip-path=\"url(#pa11f62da38)\">\n",
       "     <use xlink:href=\"#C0_0_08b4e7b197\" x=\"788.412022\" y=\"336.676928\" style=\"stroke: #000000\"/>\n",
       "    </g>\n",
       "    <g clip-path=\"url(#pa11f62da38)\">\n",
       "     <use xlink:href=\"#C0_0_08b4e7b197\" x=\"788.412022\" y=\"314.294483\" style=\"fill-opacity: 0.180392\"/>\n",
       "    </g>\n",
       "    <g clip-path=\"url(#pa11f62da38)\">\n",
       "     <use xlink:href=\"#C0_0_08b4e7b197\" x=\"788.412022\" y=\"291.912038\" style=\"fill-opacity: 0.180392\"/>\n",
       "    </g>\n",
       "    <g clip-path=\"url(#pa11f62da38)\">\n",
       "     <use xlink:href=\"#C0_0_08b4e7b197\" x=\"788.412022\" y=\"269.529593\" style=\"stroke: #000000\"/>\n",
       "    </g>\n",
       "    <g clip-path=\"url(#pa11f62da38)\">\n",
       "     <use xlink:href=\"#C0_0_08b4e7b197\" x=\"788.412022\" y=\"247.147147\" style=\"stroke: #000000\"/>\n",
       "    </g>\n",
       "    <g clip-path=\"url(#pa11f62da38)\">\n",
       "     <use xlink:href=\"#C0_0_08b4e7b197\" x=\"788.412022\" y=\"224.764702\" style=\"fill-opacity: 0.180392\"/>\n",
       "    </g>\n",
       "    <g clip-path=\"url(#pa11f62da38)\">\n",
       "     <use xlink:href=\"#C0_0_08b4e7b197\" x=\"788.412022\" y=\"202.382257\" style=\"stroke: #000000\"/>\n",
       "    </g>\n",
       "    <g clip-path=\"url(#pa11f62da38)\">\n",
       "     <use xlink:href=\"#C0_0_08b4e7b197\" x=\"788.412022\" y=\"179.999812\" style=\"stroke: #000000\"/>\n",
       "    </g>\n",
       "   </g>\n",
       "  </g>\n",
       "  <g id=\"axes_3\">\n",
       "   <g id=\"patch_11\">\n",
       "    <path d=\"M 5929.710409 364.654984 \n",
       "L 7.2 364.654984 \n",
       "L 7.2 353.463762 \n",
       "L 5929.710409 353.463762 \n",
       "z\n",
       "\" clip-path=\"url(#p799d090c7b)\" style=\"stroke: #000000; stroke-linejoin: miter\"/>\n",
       "   </g>\n",
       "   <g id=\"patch_12\">\n",
       "    <path d=\"M 5929.710409 342.272539 \n",
       "L 18.237939 342.272539 \n",
       "L 18.237939 331.081317 \n",
       "L 5929.710409 331.081317 \n",
       "z\n",
       "\" clip-path=\"url(#p799d090c7b)\" style=\"stroke: #000000; stroke-linejoin: miter\"/>\n",
       "   </g>\n",
       "   <g id=\"patch_13\">\n",
       "    <path d=\"M 5929.710409 319.890094 \n",
       "L 18.42034 319.890094 \n",
       "L 18.42034 308.698872 \n",
       "L 5929.710409 308.698872 \n",
       "z\n",
       "\" clip-path=\"url(#p799d090c7b)\" style=\"stroke: #000000; stroke-linejoin: miter\"/>\n",
       "   </g>\n",
       "   <g id=\"patch_14\">\n",
       "    <path d=\"M 5929.710409 297.507649 \n",
       "L 24.886491 297.507649 \n",
       "L 24.886491 286.316426 \n",
       "L 5929.710409 286.316426 \n",
       "z\n",
       "\" clip-path=\"url(#p799d090c7b)\" style=\"stroke: #000000; stroke-linejoin: miter\"/>\n",
       "   </g>\n",
       "   <g id=\"patch_15\">\n",
       "    <path d=\"M 5929.710409 275.125204 \n",
       "L 25.63479 275.125204 \n",
       "L 25.63479 263.933981 \n",
       "L 5929.710409 263.933981 \n",
       "z\n",
       "\" clip-path=\"url(#p799d090c7b)\" style=\"stroke: #000000; stroke-linejoin: miter\"/>\n",
       "   </g>\n",
       "   <g id=\"patch_16\">\n",
       "    <path d=\"M 5929.710409 252.742759 \n",
       "L 26.946237 252.742759 \n",
       "L 26.946237 241.551536 \n",
       "L 5929.710409 241.551536 \n",
       "z\n",
       "\" clip-path=\"url(#p799d090c7b)\" style=\"stroke: #000000; stroke-linejoin: miter\"/>\n",
       "   </g>\n",
       "   <g id=\"patch_17\">\n",
       "    <path d=\"M 5929.710409 230.360314 \n",
       "L 26.955828 230.360314 \n",
       "L 26.955828 219.169091 \n",
       "L 5929.710409 219.169091 \n",
       "z\n",
       "\" clip-path=\"url(#p799d090c7b)\" style=\"stroke: #000000; stroke-linejoin: miter\"/>\n",
       "   </g>\n",
       "   <g id=\"patch_18\">\n",
       "    <path d=\"M 5929.710409 207.977868 \n",
       "L 28.790672 207.977868 \n",
       "L 28.790672 196.786646 \n",
       "L 5929.710409 196.786646 \n",
       "z\n",
       "\" clip-path=\"url(#p799d090c7b)\" style=\"stroke: #000000; stroke-linejoin: miter\"/>\n",
       "   </g>\n",
       "   <g id=\"patch_19\">\n",
       "    <path d=\"M 5929.710409 185.595423 \n",
       "L 35.489883 185.595423 \n",
       "L 35.489883 174.404201 \n",
       "L 5929.710409 174.404201 \n",
       "z\n",
       "\" clip-path=\"url(#p799d090c7b)\" style=\"stroke: #000000; stroke-linejoin: miter\"/>\n",
       "   </g>\n",
       "   <g id=\"matplotlib.axis_4\">\n",
       "    <g id=\"xtick_1\">\n",
       "     <g id=\"line2d_10\">\n",
       "      <path d=\"M 52.904712 377.860627 \n",
       "L 52.904712 161.198558 \n",
       "\" clip-path=\"url(#p799d090c7b)\" style=\"fill: none; stroke: #b0b0b0; stroke-width: 0.8; stroke-linecap: square\"/>\n",
       "     </g>\n",
       "     <g id=\"line2d_11\">\n",
       "      <defs>\n",
       "       <path id=\"m0bfb6004c0\" d=\"M 0 0 \n",
       "L 0 3.5 \n",
       "\" style=\"stroke: #000000; stroke-width: 0.8\"/>\n",
       "      </defs>\n",
       "      <g>\n",
       "       <use xlink:href=\"#m0bfb6004c0\" x=\"52.904712\" y=\"377.860627\" style=\"stroke: #000000; stroke-width: 0.8\"/>\n",
       "      </g>\n",
       "     </g>\n",
       "     <g id=\"text_10\">\n",
       "      <!-- $\\mathdefault{10^{0}}$ -->\n",
       "      <g transform=\"translate(44.104712 392.459065) scale(0.1 -0.1)\">\n",
       "       <defs>\n",
       "        <path id=\"DejaVuSans-31\" d=\"M 794 531 \n",
       "L 1825 531 \n",
       "L 1825 4091 \n",
       "L 703 3866 \n",
       "L 703 4441 \n",
       "L 1819 4666 \n",
       "L 2450 4666 \n",
       "L 2450 531 \n",
       "L 3481 531 \n",
       "L 3481 0 \n",
       "L 794 0 \n",
       "L 794 531 \n",
       "z\n",
       "\" transform=\"scale(0.015625)\"/>\n",
       "        <path id=\"DejaVuSans-30\" d=\"M 2034 4250 \n",
       "Q 1547 4250 1301 3770 \n",
       "Q 1056 3291 1056 2328 \n",
       "Q 1056 1369 1301 889 \n",
       "Q 1547 409 2034 409 \n",
       "Q 2525 409 2770 889 \n",
       "Q 3016 1369 3016 2328 \n",
       "Q 3016 3291 2770 3770 \n",
       "Q 2525 4250 2034 4250 \n",
       "z\n",
       "M 2034 4750 \n",
       "Q 2819 4750 3233 4129 \n",
       "Q 3647 3509 3647 2328 \n",
       "Q 3647 1150 3233 529 \n",
       "Q 2819 -91 2034 -91 \n",
       "Q 1250 -91 836 529 \n",
       "Q 422 1150 422 2328 \n",
       "Q 422 3509 836 4129 \n",
       "Q 1250 4750 2034 4750 \n",
       "z\n",
       "\" transform=\"scale(0.015625)\"/>\n",
       "       </defs>\n",
       "       <use xlink:href=\"#DejaVuSans-31\" transform=\"translate(0 0.765625)\"/>\n",
       "       <use xlink:href=\"#DejaVuSans-30\" transform=\"translate(63.623047 0.765625)\"/>\n",
       "       <use xlink:href=\"#DejaVuSans-30\" transform=\"translate(128.203125 39.046875) scale(0.7)\"/>\n",
       "      </g>\n",
       "     </g>\n",
       "    </g>\n",
       "    <g id=\"xtick_2\">\n",
       "     <g id=\"line2d_12\">\n",
       "      <path d=\"M 29.397489 377.860627 \n",
       "L 29.397489 161.198558 \n",
       "\" clip-path=\"url(#p799d090c7b)\" style=\"fill: none; stroke: #b0b0b0; stroke-width: 0.8; stroke-linecap: square\"/>\n",
       "     </g>\n",
       "     <g id=\"line2d_13\">\n",
       "      <g>\n",
       "       <use xlink:href=\"#m0bfb6004c0\" x=\"29.397489\" y=\"377.860627\" style=\"stroke: #000000; stroke-width: 0.8\"/>\n",
       "      </g>\n",
       "     </g>\n",
       "     <g id=\"text_11\">\n",
       "      <!-- $\\mathdefault{10^{4}}$ -->\n",
       "      <g transform=\"translate(20.597489 392.459065) scale(0.1 -0.1)\">\n",
       "       <defs>\n",
       "        <path id=\"DejaVuSans-34\" d=\"M 2419 4116 \n",
       "L 825 1625 \n",
       "L 2419 1625 \n",
       "L 2419 4116 \n",
       "z\n",
       "M 2253 4666 \n",
       "L 3047 4666 \n",
       "L 3047 1625 \n",
       "L 3713 1625 \n",
       "L 3713 1100 \n",
       "L 3047 1100 \n",
       "L 3047 0 \n",
       "L 2419 0 \n",
       "L 2419 1100 \n",
       "L 313 1100 \n",
       "L 313 1709 \n",
       "L 2253 4666 \n",
       "z\n",
       "\" transform=\"scale(0.015625)\"/>\n",
       "       </defs>\n",
       "       <use xlink:href=\"#DejaVuSans-31\" transform=\"translate(0 0.684375)\"/>\n",
       "       <use xlink:href=\"#DejaVuSans-30\" transform=\"translate(63.623047 0.684375)\"/>\n",
       "       <use xlink:href=\"#DejaVuSans-34\" transform=\"translate(128.203125 38.965625) scale(0.7)\"/>\n",
       "      </g>\n",
       "     </g>\n",
       "    </g>\n",
       "   </g>\n",
       "   <g id=\"patch_20\">\n",
       "    <path d=\"M 7.2 377.860627 \n",
       "L 52.904712 377.860627 \n",
       "\" style=\"fill: none; stroke: #000000; stroke-width: 0.8; stroke-linejoin: miter; stroke-linecap: square\"/>\n",
       "   </g>\n",
       "  </g>\n",
       "  <g id=\"axes_4\">\n",
       "   <g id=\"patch_21\">\n",
       "    <path d=\"M 131.849215 148.453731 \n",
       "L 800.8 148.453731 \n",
       "L 800.8 8.260627 \n",
       "L 131.849215 8.260627 \n",
       "z\n",
       "\" style=\"fill: #ffffff\"/>\n",
       "   </g>\n",
       "   <g id=\"matplotlib.axis_5\">\n",
       "    <g id=\"ytick_19\">\n",
       "     <g id=\"line2d_14\">\n",
       "      <path d=\"M 131.849215 148.453731 \n",
       "L 800.8 148.453731 \n",
       "\" clip-path=\"url(#pa62fb213bb)\" style=\"fill: none; stroke: #b0b0b0; stroke-width: 0.8; stroke-linecap: square\"/>\n",
       "     </g>\n",
       "     <g id=\"line2d_15\">\n",
       "      <defs>\n",
       "       <path id=\"ma589033c73\" d=\"M 0 0 \n",
       "L -3.5 0 \n",
       "\" style=\"stroke: #000000; stroke-width: 0.8\"/>\n",
       "      </defs>\n",
       "      <g>\n",
       "       <use xlink:href=\"#ma589033c73\" x=\"131.849215\" y=\"148.453731\" style=\"stroke: #000000; stroke-width: 0.8\"/>\n",
       "      </g>\n",
       "     </g>\n",
       "     <g id=\"text_12\">\n",
       "      <!-- $\\mathdefault{10^{0}}$ -->\n",
       "      <g transform=\"translate(107.249215 152.252949) scale(0.1 -0.1)\">\n",
       "       <use xlink:href=\"#DejaVuSans-31\" transform=\"translate(0 0.765625)\"/>\n",
       "       <use xlink:href=\"#DejaVuSans-30\" transform=\"translate(63.623047 0.765625)\"/>\n",
       "       <use xlink:href=\"#DejaVuSans-30\" transform=\"translate(128.203125 39.046875) scale(0.7)\"/>\n",
       "      </g>\n",
       "     </g>\n",
       "    </g>\n",
       "    <g id=\"ytick_20\">\n",
       "     <g id=\"line2d_16\">\n",
       "      <path d=\"M 131.849215 114.090103 \n",
       "L 800.8 114.090103 \n",
       "\" clip-path=\"url(#pa62fb213bb)\" style=\"fill: none; stroke: #b0b0b0; stroke-width: 0.8; stroke-linecap: square\"/>\n",
       "     </g>\n",
       "     <g id=\"line2d_17\">\n",
       "      <g>\n",
       "       <use xlink:href=\"#ma589033c73\" x=\"131.849215\" y=\"114.090103\" style=\"stroke: #000000; stroke-width: 0.8\"/>\n",
       "      </g>\n",
       "     </g>\n",
       "     <g id=\"text_13\">\n",
       "      <!-- $\\mathdefault{10^{2}}$ -->\n",
       "      <g transform=\"translate(107.249215 117.889321) scale(0.1 -0.1)\">\n",
       "       <defs>\n",
       "        <path id=\"DejaVuSans-32\" d=\"M 1228 531 \n",
       "L 3431 531 \n",
       "L 3431 0 \n",
       "L 469 0 \n",
       "L 469 531 \n",
       "Q 828 903 1448 1529 \n",
       "Q 2069 2156 2228 2338 \n",
       "Q 2531 2678 2651 2914 \n",
       "Q 2772 3150 2772 3378 \n",
       "Q 2772 3750 2511 3984 \n",
       "Q 2250 4219 1831 4219 \n",
       "Q 1534 4219 1204 4116 \n",
       "Q 875 4013 500 3803 \n",
       "L 500 4441 \n",
       "Q 881 4594 1212 4672 \n",
       "Q 1544 4750 1819 4750 \n",
       "Q 2544 4750 2975 4387 \n",
       "Q 3406 4025 3406 3419 \n",
       "Q 3406 3131 3298 2873 \n",
       "Q 3191 2616 2906 2266 \n",
       "Q 2828 2175 2409 1742 \n",
       "Q 1991 1309 1228 531 \n",
       "z\n",
       "\" transform=\"scale(0.015625)\"/>\n",
       "       </defs>\n",
       "       <use xlink:href=\"#DejaVuSans-31\" transform=\"translate(0 0.765625)\"/>\n",
       "       <use xlink:href=\"#DejaVuSans-30\" transform=\"translate(63.623047 0.765625)\"/>\n",
       "       <use xlink:href=\"#DejaVuSans-32\" transform=\"translate(128.203125 39.046875) scale(0.7)\"/>\n",
       "      </g>\n",
       "     </g>\n",
       "    </g>\n",
       "    <g id=\"ytick_21\">\n",
       "     <g id=\"line2d_18\">\n",
       "      <path d=\"M 131.849215 79.726475 \n",
       "L 800.8 79.726475 \n",
       "\" clip-path=\"url(#pa62fb213bb)\" style=\"fill: none; stroke: #b0b0b0; stroke-width: 0.8; stroke-linecap: square\"/>\n",
       "     </g>\n",
       "     <g id=\"line2d_19\">\n",
       "      <g>\n",
       "       <use xlink:href=\"#ma589033c73\" x=\"131.849215\" y=\"79.726475\" style=\"stroke: #000000; stroke-width: 0.8\"/>\n",
       "      </g>\n",
       "     </g>\n",
       "     <g id=\"text_14\">\n",
       "      <!-- $\\mathdefault{10^{4}}$ -->\n",
       "      <g transform=\"translate(107.249215 83.525693) scale(0.1 -0.1)\">\n",
       "       <use xlink:href=\"#DejaVuSans-31\" transform=\"translate(0 0.684375)\"/>\n",
       "       <use xlink:href=\"#DejaVuSans-30\" transform=\"translate(63.623047 0.684375)\"/>\n",
       "       <use xlink:href=\"#DejaVuSans-34\" transform=\"translate(128.203125 38.965625) scale(0.7)\"/>\n",
       "      </g>\n",
       "     </g>\n",
       "    </g>\n",
       "    <g id=\"ytick_22\">\n",
       "     <g id=\"line2d_20\">\n",
       "      <path d=\"M 131.849215 45.362847 \n",
       "L 800.8 45.362847 \n",
       "\" clip-path=\"url(#pa62fb213bb)\" style=\"fill: none; stroke: #b0b0b0; stroke-width: 0.8; stroke-linecap: square\"/>\n",
       "     </g>\n",
       "     <g id=\"line2d_21\">\n",
       "      <g>\n",
       "       <use xlink:href=\"#ma589033c73\" x=\"131.849215\" y=\"45.362847\" style=\"stroke: #000000; stroke-width: 0.8\"/>\n",
       "      </g>\n",
       "     </g>\n",
       "     <g id=\"text_15\">\n",
       "      <!-- $\\mathdefault{10^{6}}$ -->\n",
       "      <g transform=\"translate(107.249215 49.162065) scale(0.1 -0.1)\">\n",
       "       <defs>\n",
       "        <path id=\"DejaVuSans-36\" d=\"M 2113 2584 \n",
       "Q 1688 2584 1439 2293 \n",
       "Q 1191 2003 1191 1497 \n",
       "Q 1191 994 1439 701 \n",
       "Q 1688 409 2113 409 \n",
       "Q 2538 409 2786 701 \n",
       "Q 3034 994 3034 1497 \n",
       "Q 3034 2003 2786 2293 \n",
       "Q 2538 2584 2113 2584 \n",
       "z\n",
       "M 3366 4563 \n",
       "L 3366 3988 \n",
       "Q 3128 4100 2886 4159 \n",
       "Q 2644 4219 2406 4219 \n",
       "Q 1781 4219 1451 3797 \n",
       "Q 1122 3375 1075 2522 \n",
       "Q 1259 2794 1537 2939 \n",
       "Q 1816 3084 2150 3084 \n",
       "Q 2853 3084 3261 2657 \n",
       "Q 3669 2231 3669 1497 \n",
       "Q 3669 778 3244 343 \n",
       "Q 2819 -91 2113 -91 \n",
       "Q 1303 -91 875 529 \n",
       "Q 447 1150 447 2328 \n",
       "Q 447 3434 972 4092 \n",
       "Q 1497 4750 2381 4750 \n",
       "Q 2619 4750 2861 4703 \n",
       "Q 3103 4656 3366 4563 \n",
       "z\n",
       "\" transform=\"scale(0.015625)\"/>\n",
       "       </defs>\n",
       "       <use xlink:href=\"#DejaVuSans-31\" transform=\"translate(0 0.765625)\"/>\n",
       "       <use xlink:href=\"#DejaVuSans-30\" transform=\"translate(63.623047 0.765625)\"/>\n",
       "       <use xlink:href=\"#DejaVuSans-36\" transform=\"translate(128.203125 39.046875) scale(0.7)\"/>\n",
       "      </g>\n",
       "     </g>\n",
       "    </g>\n",
       "    <g id=\"ytick_23\">\n",
       "     <g id=\"line2d_22\">\n",
       "      <path d=\"M 131.849215 10.999219 \n",
       "L 800.8 10.999219 \n",
       "\" clip-path=\"url(#pa62fb213bb)\" style=\"fill: none; stroke: #b0b0b0; stroke-width: 0.8; stroke-linecap: square\"/>\n",
       "     </g>\n",
       "     <g id=\"line2d_23\">\n",
       "      <g>\n",
       "       <use xlink:href=\"#ma589033c73\" x=\"131.849215\" y=\"10.999219\" style=\"stroke: #000000; stroke-width: 0.8\"/>\n",
       "      </g>\n",
       "     </g>\n",
       "     <g id=\"text_16\">\n",
       "      <!-- $\\mathdefault{10^{8}}$ -->\n",
       "      <g transform=\"translate(107.249215 14.798437) scale(0.1 -0.1)\">\n",
       "       <defs>\n",
       "        <path id=\"DejaVuSans-38\" d=\"M 2034 2216 \n",
       "Q 1584 2216 1326 1975 \n",
       "Q 1069 1734 1069 1313 \n",
       "Q 1069 891 1326 650 \n",
       "Q 1584 409 2034 409 \n",
       "Q 2484 409 2743 651 \n",
       "Q 3003 894 3003 1313 \n",
       "Q 3003 1734 2745 1975 \n",
       "Q 2488 2216 2034 2216 \n",
       "z\n",
       "M 1403 2484 \n",
       "Q 997 2584 770 2862 \n",
       "Q 544 3141 544 3541 \n",
       "Q 544 4100 942 4425 \n",
       "Q 1341 4750 2034 4750 \n",
       "Q 2731 4750 3128 4425 \n",
       "Q 3525 4100 3525 3541 \n",
       "Q 3525 3141 3298 2862 \n",
       "Q 3072 2584 2669 2484 \n",
       "Q 3125 2378 3379 2068 \n",
       "Q 3634 1759 3634 1313 \n",
       "Q 3634 634 3220 271 \n",
       "Q 2806 -91 2034 -91 \n",
       "Q 1263 -91 848 271 \n",
       "Q 434 634 434 1313 \n",
       "Q 434 1759 690 2068 \n",
       "Q 947 2378 1403 2484 \n",
       "z\n",
       "M 1172 3481 \n",
       "Q 1172 3119 1398 2916 \n",
       "Q 1625 2713 2034 2713 \n",
       "Q 2441 2713 2670 2916 \n",
       "Q 2900 3119 2900 3481 \n",
       "Q 2900 3844 2670 4047 \n",
       "Q 2441 4250 2034 4250 \n",
       "Q 1625 4250 1398 4047 \n",
       "Q 1172 3844 1172 3481 \n",
       "z\n",
       "\" transform=\"scale(0.015625)\"/>\n",
       "       </defs>\n",
       "       <use xlink:href=\"#DejaVuSans-31\" transform=\"translate(0 0.765625)\"/>\n",
       "       <use xlink:href=\"#DejaVuSans-30\" transform=\"translate(63.623047 0.765625)\"/>\n",
       "       <use xlink:href=\"#DejaVuSans-38\" transform=\"translate(128.203125 39.046875) scale(0.7)\"/>\n",
       "      </g>\n",
       "     </g>\n",
       "    </g>\n",
       "    <g id=\"text_17\">\n",
       "     <!-- Intersection size -->\n",
       "     <g transform=\"translate(101.169527 119.384523) rotate(-90) scale(0.1 -0.1)\">\n",
       "      <defs>\n",
       "       <path id=\"DejaVuSans-49\" d=\"M 628 4666 \n",
       "L 1259 4666 \n",
       "L 1259 0 \n",
       "L 628 0 \n",
       "L 628 4666 \n",
       "z\n",
       "\" transform=\"scale(0.015625)\"/>\n",
       "       <path id=\"DejaVuSans-73\" d=\"M 2834 3397 \n",
       "L 2834 2853 \n",
       "Q 2591 2978 2328 3040 \n",
       "Q 2066 3103 1784 3103 \n",
       "Q 1356 3103 1142 2972 \n",
       "Q 928 2841 928 2578 \n",
       "Q 928 2378 1081 2264 \n",
       "Q 1234 2150 1697 2047 \n",
       "L 1894 2003 \n",
       "Q 2506 1872 2764 1633 \n",
       "Q 3022 1394 3022 966 \n",
       "Q 3022 478 2636 193 \n",
       "Q 2250 -91 1575 -91 \n",
       "Q 1294 -91 989 -36 \n",
       "Q 684 19 347 128 \n",
       "L 347 722 \n",
       "Q 666 556 975 473 \n",
       "Q 1284 391 1588 391 \n",
       "Q 1994 391 2212 530 \n",
       "Q 2431 669 2431 922 \n",
       "Q 2431 1156 2273 1281 \n",
       "Q 2116 1406 1581 1522 \n",
       "L 1381 1569 \n",
       "Q 847 1681 609 1914 \n",
       "Q 372 2147 372 2553 \n",
       "Q 372 3047 722 3315 \n",
       "Q 1072 3584 1716 3584 \n",
       "Q 2034 3584 2315 3537 \n",
       "Q 2597 3491 2834 3397 \n",
       "z\n",
       "\" transform=\"scale(0.015625)\"/>\n",
       "       <path id=\"DejaVuSans-20\" transform=\"scale(0.015625)\"/>\n",
       "       <path id=\"DejaVuSans-7a\" d=\"M 353 3500 \n",
       "L 3084 3500 \n",
       "L 3084 2975 \n",
       "L 922 459 \n",
       "L 3084 459 \n",
       "L 3084 0 \n",
       "L 275 0 \n",
       "L 275 525 \n",
       "L 2438 3041 \n",
       "L 353 3041 \n",
       "L 353 3500 \n",
       "z\n",
       "\" transform=\"scale(0.015625)\"/>\n",
       "      </defs>\n",
       "      <use xlink:href=\"#DejaVuSans-49\"/>\n",
       "      <use xlink:href=\"#DejaVuSans-6e\" x=\"29.492188\"/>\n",
       "      <use xlink:href=\"#DejaVuSans-74\" x=\"92.871094\"/>\n",
       "      <use xlink:href=\"#DejaVuSans-65\" x=\"132.080078\"/>\n",
       "      <use xlink:href=\"#DejaVuSans-72\" x=\"193.603516\"/>\n",
       "      <use xlink:href=\"#DejaVuSans-73\" x=\"234.716797\"/>\n",
       "      <use xlink:href=\"#DejaVuSans-65\" x=\"286.816406\"/>\n",
       "      <use xlink:href=\"#DejaVuSans-63\" x=\"348.339844\"/>\n",
       "      <use xlink:href=\"#DejaVuSans-74\" x=\"403.320312\"/>\n",
       "      <use xlink:href=\"#DejaVuSans-69\" x=\"442.529297\"/>\n",
       "      <use xlink:href=\"#DejaVuSans-6f\" x=\"470.3125\"/>\n",
       "      <use xlink:href=\"#DejaVuSans-6e\" x=\"531.494141\"/>\n",
       "      <use xlink:href=\"#DejaVuSans-20\" x=\"594.873047\"/>\n",
       "      <use xlink:href=\"#DejaVuSans-73\" x=\"626.660156\"/>\n",
       "      <use xlink:href=\"#DejaVuSans-69\" x=\"678.759766\"/>\n",
       "      <use xlink:href=\"#DejaVuSans-7a\" x=\"706.542969\"/>\n",
       "      <use xlink:href=\"#DejaVuSans-65\" x=\"759.033203\"/>\n",
       "     </g>\n",
       "    </g>\n",
       "   </g>\n",
       "   <g id=\"patch_22\">\n",
       "    <path d=\"M 131.849215 148.453731 \n",
       "L 131.849215 8.260627 \n",
       "\" style=\"fill: none; stroke: #000000; stroke-width: 0.8; stroke-linejoin: miter; stroke-linecap: square\"/>\n",
       "   </g>\n",
       "   <g id=\"patch_23\">\n",
       "    <path d=\"M 138.043203 17330.267707 \n",
       "L 150.431181 17330.267707 \n",
       "L 150.431181 14.936489 \n",
       "L 138.043203 14.936489 \n",
       "z\n",
       "\" clip-path=\"url(#pa62fb213bb)\" style=\"stroke: #000000; stroke-linejoin: miter\"/>\n",
       "   </g>\n",
       "   <g id=\"patch_24\">\n",
       "    <path d=\"M 162.819158 17330.267707 \n",
       "L 175.207136 17330.267707 \n",
       "L 175.207136 48.859034 \n",
       "L 162.819158 48.859034 \n",
       "z\n",
       "\" clip-path=\"url(#pa62fb213bb)\" style=\"stroke: #000000; stroke-linejoin: miter\"/>\n",
       "   </g>\n",
       "   <g id=\"patch_25\">\n",
       "    <path d=\"M 187.595113 17330.267707 \n",
       "L 199.983091 17330.267707 \n",
       "L 199.983091 78.161749 \n",
       "L 187.595113 78.161749 \n",
       "z\n",
       "\" clip-path=\"url(#pa62fb213bb)\" style=\"stroke: #000000; stroke-linejoin: miter\"/>\n",
       "   </g>\n",
       "   <g id=\"patch_26\">\n",
       "    <path d=\"M 212.371068 17330.267707 \n",
       "L 224.759046 17330.267707 \n",
       "L 224.759046 108.172819 \n",
       "L 212.371068 108.172819 \n",
       "z\n",
       "\" clip-path=\"url(#pa62fb213bb)\" style=\"stroke: #000000; stroke-linejoin: miter\"/>\n",
       "   </g>\n",
       "   <g id=\"patch_27\">\n",
       "    <path d=\"M 237.147023 17330.267707 \n",
       "L 249.535001 17330.267707 \n",
       "L 249.535001 135.083681 \n",
       "L 237.147023 135.083681 \n",
       "z\n",
       "\" clip-path=\"url(#pa62fb213bb)\" style=\"stroke: #000000; stroke-linejoin: miter\"/>\n",
       "   </g>\n",
       "   <g id=\"patch_28\">\n",
       "    <path d=\"M 261.922978 17330.267707 \n",
       "L 274.310956 17330.267707 \n",
       "L 274.310956 82.678162 \n",
       "L 261.922978 82.678162 \n",
       "z\n",
       "\" clip-path=\"url(#pa62fb213bb)\" style=\"stroke: #000000; stroke-linejoin: miter\"/>\n",
       "   </g>\n",
       "   <g id=\"patch_29\">\n",
       "    <path d=\"M 286.698933 17330.267707 \n",
       "L 299.086911 17330.267707 \n",
       "L 299.086911 105.942207 \n",
       "L 286.698933 105.942207 \n",
       "z\n",
       "\" clip-path=\"url(#pa62fb213bb)\" style=\"stroke: #000000; stroke-linejoin: miter\"/>\n",
       "   </g>\n",
       "   <g id=\"patch_30\">\n",
       "    <path d=\"M 311.474889 17330.267707 \n",
       "L 323.862866 17330.267707 \n",
       "L 323.862866 48.781519 \n",
       "L 311.474889 48.781519 \n",
       "z\n",
       "\" clip-path=\"url(#pa62fb213bb)\" style=\"stroke: #000000; stroke-linejoin: miter\"/>\n",
       "   </g>\n",
       "   <g id=\"patch_31\">\n",
       "    <path d=\"M 336.250844 17330.267707 \n",
       "L 348.638821 17330.267707 \n",
       "L 348.638821 69.339208 \n",
       "L 336.250844 69.339208 \n",
       "z\n",
       "\" clip-path=\"url(#pa62fb213bb)\" style=\"stroke: #000000; stroke-linejoin: miter\"/>\n",
       "   </g>\n",
       "   <g id=\"patch_32\">\n",
       "    <path d=\"M 361.026799 17330.267707 \n",
       "L 373.414776 17330.267707 \n",
       "L 373.414776 80.066147 \n",
       "L 361.026799 80.066147 \n",
       "z\n",
       "\" clip-path=\"url(#pa62fb213bb)\" style=\"stroke: #000000; stroke-linejoin: miter\"/>\n",
       "   </g>\n",
       "   <g id=\"patch_33\">\n",
       "    <path d=\"M 385.802754 17330.267707 \n",
       "L 398.190731 17330.267707 \n",
       "L 398.190731 106.789865 \n",
       "L 385.802754 106.789865 \n",
       "z\n",
       "\" clip-path=\"url(#pa62fb213bb)\" style=\"stroke: #000000; stroke-linejoin: miter\"/>\n",
       "   </g>\n",
       "   <g id=\"patch_34\">\n",
       "    <path d=\"M 410.578709 17330.267707 \n",
       "L 422.966686 17330.267707 \n",
       "L 422.966686 132.937006 \n",
       "L 410.578709 132.937006 \n",
       "z\n",
       "\" clip-path=\"url(#pa62fb213bb)\" style=\"stroke: #000000; stroke-linejoin: miter\"/>\n",
       "   </g>\n",
       "   <g id=\"patch_35\">\n",
       "    <path d=\"M 435.354664 17330.267707 \n",
       "L 447.742641 17330.267707 \n",
       "L 447.742641 81.469387 \n",
       "L 435.354664 81.469387 \n",
       "z\n",
       "\" clip-path=\"url(#pa62fb213bb)\" style=\"stroke: #000000; stroke-linejoin: miter\"/>\n",
       "   </g>\n",
       "   <g id=\"patch_36\">\n",
       "    <path d=\"M 460.130619 17330.267707 \n",
       "L 472.518596 17330.267707 \n",
       "L 472.518596 72.589882 \n",
       "L 460.130619 72.589882 \n",
       "z\n",
       "\" clip-path=\"url(#pa62fb213bb)\" style=\"stroke: #000000; stroke-linejoin: miter\"/>\n",
       "   </g>\n",
       "   <g id=\"patch_37\">\n",
       "    <path d=\"M 484.906574 17330.267707 \n",
       "L 497.294551 17330.267707 \n",
       "L 497.294551 65.043252 \n",
       "L 484.906574 65.043252 \n",
       "z\n",
       "\" clip-path=\"url(#pa62fb213bb)\" style=\"stroke: #000000; stroke-linejoin: miter\"/>\n",
       "   </g>\n",
       "   <g id=\"patch_38\">\n",
       "    <path d=\"M 509.682529 17330.267707 \n",
       "L 522.070506 17330.267707 \n",
       "L 522.070506 70.03059 \n",
       "L 509.682529 70.03059 \n",
       "z\n",
       "\" clip-path=\"url(#pa62fb213bb)\" style=\"stroke: #000000; stroke-linejoin: miter\"/>\n",
       "   </g>\n",
       "   <g id=\"patch_39\">\n",
       "    <path d=\"M 534.458484 17330.267707 \n",
       "L 546.846461 17330.267707 \n",
       "L 546.846461 72.760129 \n",
       "L 534.458484 72.760129 \n",
       "z\n",
       "\" clip-path=\"url(#pa62fb213bb)\" style=\"stroke: #000000; stroke-linejoin: miter\"/>\n",
       "   </g>\n",
       "   <g id=\"patch_40\">\n",
       "    <path d=\"M 559.234439 17330.267707 \n",
       "L 571.622416 17330.267707 \n",
       "L 571.622416 101.142179 \n",
       "L 559.234439 101.142179 \n",
       "z\n",
       "\" clip-path=\"url(#pa62fb213bb)\" style=\"stroke: #000000; stroke-linejoin: miter\"/>\n",
       "   </g>\n",
       "   <g id=\"patch_41\">\n",
       "    <path d=\"M 584.010394 17330.267707 \n",
       "L 596.398371 17330.267707 \n",
       "L 596.398371 143.281489 \n",
       "L 584.010394 143.281489 \n",
       "z\n",
       "\" clip-path=\"url(#pa62fb213bb)\" style=\"stroke: #000000; stroke-linejoin: miter\"/>\n",
       "   </g>\n",
       "   <g id=\"patch_42\">\n",
       "    <path d=\"M 608.786349 17330.267707 \n",
       "L 621.174326 17330.267707 \n",
       "L 621.174326 148.453731 \n",
       "L 608.786349 148.453731 \n",
       "z\n",
       "\" clip-path=\"url(#pa62fb213bb)\" style=\"stroke: #000000; stroke-linejoin: miter\"/>\n",
       "   </g>\n",
       "   <g id=\"patch_43\">\n",
       "    <path d=\"M 633.562304 17330.267707 \n",
       "L 645.950281 17330.267707 \n",
       "L 645.950281 148.453731 \n",
       "L 633.562304 148.453731 \n",
       "z\n",
       "\" clip-path=\"url(#pa62fb213bb)\" style=\"stroke: #000000; stroke-linejoin: miter\"/>\n",
       "   </g>\n",
       "   <g id=\"patch_44\">\n",
       "    <path d=\"M 658.338259 17330.267707 \n",
       "L 670.726236 17330.267707 \n",
       "L 670.726236 78.518018 \n",
       "L 658.338259 78.518018 \n",
       "z\n",
       "\" clip-path=\"url(#pa62fb213bb)\" style=\"stroke: #000000; stroke-linejoin: miter\"/>\n",
       "   </g>\n",
       "   <g id=\"patch_45\">\n",
       "    <path d=\"M 683.114214 17330.267707 \n",
       "L 695.502191 17330.267707 \n",
       "L 695.502191 112.855039 \n",
       "L 683.114214 112.855039 \n",
       "z\n",
       "\" clip-path=\"url(#pa62fb213bb)\" style=\"stroke: #000000; stroke-linejoin: miter\"/>\n",
       "   </g>\n",
       "   <g id=\"patch_46\">\n",
       "    <path d=\"M 707.890169 17330.267707 \n",
       "L 720.278146 17330.267707 \n",
       "L 720.278146 84.526122 \n",
       "L 707.890169 84.526122 \n",
       "z\n",
       "\" clip-path=\"url(#pa62fb213bb)\" style=\"stroke: #000000; stroke-linejoin: miter\"/>\n",
       "   </g>\n",
       "   <g id=\"patch_47\">\n",
       "    <path d=\"M 732.666124 17330.267707 \n",
       "L 745.054101 17330.267707 \n",
       "L 745.054101 120.216232 \n",
       "L 732.666124 120.216232 \n",
       "z\n",
       "\" clip-path=\"url(#pa62fb213bb)\" style=\"stroke: #000000; stroke-linejoin: miter\"/>\n",
       "   </g>\n",
       "   <g id=\"patch_48\">\n",
       "    <path d=\"M 757.442079 17330.267707 \n",
       "L 769.830056 17330.267707 \n",
       "L 769.830056 148.453731 \n",
       "L 757.442079 148.453731 \n",
       "z\n",
       "\" clip-path=\"url(#pa62fb213bb)\" style=\"stroke: #000000; stroke-linejoin: miter\"/>\n",
       "   </g>\n",
       "   <g id=\"patch_49\">\n",
       "    <path d=\"M 782.218034 17330.267707 \n",
       "L 794.606011 17330.267707 \n",
       "L 794.606011 101.024665 \n",
       "L 782.218034 101.024665 \n",
       "z\n",
       "\" clip-path=\"url(#pa62fb213bb)\" style=\"stroke: #000000; stroke-linejoin: miter\"/>\n",
       "   </g>\n",
       "  </g>\n",
       " </g>\n",
       " <defs>\n",
       "  <clipPath id=\"pa1bc09682b\">\n",
       "   <rect x=\"7.2\" y=\"161.198558\" width=\"793.6\" height=\"216.662069\"/>\n",
       "  </clipPath>\n",
       "  <clipPath id=\"pa11f62da38\">\n",
       "   <rect x=\"131.849215\" y=\"161.198558\" width=\"668.950785\" height=\"216.662069\"/>\n",
       "  </clipPath>\n",
       "  <clipPath id=\"p799d090c7b\">\n",
       "   <rect x=\"7.2\" y=\"161.198558\" width=\"45.704712\" height=\"216.662069\"/>\n",
       "  </clipPath>\n",
       "  <clipPath id=\"pa62fb213bb\">\n",
       "   <rect x=\"131.849215\" y=\"8.260627\" width=\"668.950785\" height=\"140.193103\"/>\n",
       "  </clipPath>\n",
       " </defs>\n",
       "</svg>\n"
      ],
      "text/plain": [
       "<Figure size 1422.22x666.667 with 4 Axes>"
      ]
     },
     "metadata": {},
     "output_type": "display_data"
    },
    {
     "data": {
      "text/markdown": [
       "We now aggregate the mappings together to estimate the number of unique entities and number\n",
       "that appear in each group of resources.\n"
      ],
      "text/plain": [
       "<IPython.core.display.Markdown object>"
      ]
     },
     "metadata": {},
     "output_type": "display_data"
    },
    {
     "data": {
      "image/svg+xml": [
       "<?xml version=\"1.0\" encoding=\"utf-8\" standalone=\"no\"?>\n",
       "<!DOCTYPE svg PUBLIC \"-//W3C//DTD SVG 1.1//EN\"\n",
       "  \"http://www.w3.org/Graphics/SVG/1.1/DTD/svg11.dtd\">\n",
       "<svg xmlns:xlink=\"http://www.w3.org/1999/xlink\" width=\"366.14044pt\" height=\"185.434375pt\" viewBox=\"0 0 366.14044 185.434375\" xmlns=\"http://www.w3.org/2000/svg\" version=\"1.1\">\n",
       " <metadata>\n",
       "  <rdf:RDF xmlns:dc=\"http://purl.org/dc/elements/1.1/\" xmlns:cc=\"http://creativecommons.org/ns#\" xmlns:rdf=\"http://www.w3.org/1999/02/22-rdf-syntax-ns#\">\n",
       "   <cc:Work>\n",
       "    <dc:type rdf:resource=\"http://purl.org/dc/dcmitype/StillImage\"/>\n",
       "    <dc:date>2025-03-22T07:57:38.111862</dc:date>\n",
       "    <dc:format>image/svg+xml</dc:format>\n",
       "    <dc:creator>\n",
       "     <cc:Agent>\n",
       "      <dc:title>Matplotlib v3.8.4, https://matplotlib.org/</dc:title>\n",
       "     </cc:Agent>\n",
       "    </dc:creator>\n",
       "   </cc:Work>\n",
       "  </rdf:RDF>\n",
       " </metadata>\n",
       " <defs>\n",
       "  <style type=\"text/css\">*{stroke-linejoin: round; stroke-linecap: butt}</style>\n",
       " </defs>\n",
       " <g id=\"figure_1\">\n",
       "  <g id=\"patch_1\">\n",
       "   <path d=\"M 0 185.434375 \n",
       "L 366.14044 185.434375 \n",
       "L 366.14044 0 \n",
       "L 0 0 \n",
       "z\n",
       "\" style=\"fill: #ffffff\"/>\n",
       "  </g>\n",
       "  <g id=\"axes_1\">\n",
       "   <g id=\"patch_2\">\n",
       "    <path d=\"M 45.478125 147.878125 \n",
       "L 358.94044 147.878125 \n",
       "L 358.94044 22.318125 \n",
       "L 45.478125 22.318125 \n",
       "z\n",
       "\" style=\"fill: #ffffff\"/>\n",
       "   </g>\n",
       "   <g id=\"patch_3\">\n",
       "    <path d=\"M 50.702497 19208.333671 \n",
       "L 92.497472 19208.333671 \n",
       "L 92.497472 47.758796 \n",
       "L 50.702497 47.758796 \n",
       "z\n",
       "\" clip-path=\"url(#pc2afcdb3e6)\" style=\"fill: #3274a1\"/>\n",
       "   </g>\n",
       "   <g id=\"patch_4\">\n",
       "    <path d=\"M 102.946216 19208.333671 \n",
       "L 144.741191 19208.333671 \n",
       "L 144.741191 84.27056 \n",
       "L 102.946216 84.27056 \n",
       "z\n",
       "\" clip-path=\"url(#pc2afcdb3e6)\" style=\"fill: #3274a1\"/>\n",
       "   </g>\n",
       "   <g id=\"patch_5\">\n",
       "    <path d=\"M 155.189935 19208.333671 \n",
       "L 196.984911 19208.333671 \n",
       "L 196.984911 98.099816 \n",
       "L 155.189935 98.099816 \n",
       "z\n",
       "\" clip-path=\"url(#pc2afcdb3e6)\" style=\"fill: #3274a1\"/>\n",
       "   </g>\n",
       "   <g id=\"patch_6\">\n",
       "    <path d=\"M 207.433655 19208.333671 \n",
       "L 249.22863 19208.333671 \n",
       "L 249.22863 118.122393 \n",
       "L 207.433655 118.122393 \n",
       "z\n",
       "\" clip-path=\"url(#pc2afcdb3e6)\" style=\"fill: #3274a1\"/>\n",
       "   </g>\n",
       "   <g id=\"patch_7\">\n",
       "    <path d=\"M 259.677374 19208.333671 \n",
       "L 301.472349 19208.333671 \n",
       "L 301.472349 124.783486 \n",
       "L 259.677374 124.783486 \n",
       "z\n",
       "\" clip-path=\"url(#pc2afcdb3e6)\" style=\"fill: #3274a1\"/>\n",
       "   </g>\n",
       "   <g id=\"patch_8\">\n",
       "    <path d=\"M 311.921093 19208.333671 \n",
       "L 353.716068 19208.333671 \n",
       "L 353.716068 143.110538 \n",
       "L 311.921093 143.110538 \n",
       "z\n",
       "\" clip-path=\"url(#pc2afcdb3e6)\" style=\"fill: #3274a1\"/>\n",
       "   </g>\n",
       "   <g id=\"matplotlib.axis_1\">\n",
       "    <g id=\"xtick_1\">\n",
       "     <g id=\"line2d_1\">\n",
       "      <defs>\n",
       "       <path id=\"ma48559f9a3\" d=\"M 0 0 \n",
       "L 0 3.5 \n",
       "\" style=\"stroke: #000000; stroke-width: 0.8\"/>\n",
       "      </defs>\n",
       "      <g>\n",
       "       <use xlink:href=\"#ma48559f9a3\" x=\"71.599985\" y=\"147.878125\" style=\"stroke: #000000; stroke-width: 0.8\"/>\n",
       "      </g>\n",
       "     </g>\n",
       "     <g id=\"text_1\">\n",
       "      <!-- 1 -->\n",
       "      <g transform=\"translate(68.418735 162.476562) scale(0.1 -0.1)\">\n",
       "       <defs>\n",
       "        <path id=\"DejaVuSans-31\" d=\"M 794 531 \n",
       "L 1825 531 \n",
       "L 1825 4091 \n",
       "L 703 3866 \n",
       "L 703 4441 \n",
       "L 1819 4666 \n",
       "L 2450 4666 \n",
       "L 2450 531 \n",
       "L 3481 531 \n",
       "L 3481 0 \n",
       "L 794 0 \n",
       "L 794 531 \n",
       "z\n",
       "\" transform=\"scale(0.015625)\"/>\n",
       "       </defs>\n",
       "       <use xlink:href=\"#DejaVuSans-31\"/>\n",
       "      </g>\n",
       "     </g>\n",
       "    </g>\n",
       "    <g id=\"xtick_2\">\n",
       "     <g id=\"line2d_2\">\n",
       "      <g>\n",
       "       <use xlink:href=\"#ma48559f9a3\" x=\"123.843704\" y=\"147.878125\" style=\"stroke: #000000; stroke-width: 0.8\"/>\n",
       "      </g>\n",
       "     </g>\n",
       "     <g id=\"text_2\">\n",
       "      <!-- 2 -->\n",
       "      <g transform=\"translate(120.662454 162.476562) scale(0.1 -0.1)\">\n",
       "       <defs>\n",
       "        <path id=\"DejaVuSans-32\" d=\"M 1228 531 \n",
       "L 3431 531 \n",
       "L 3431 0 \n",
       "L 469 0 \n",
       "L 469 531 \n",
       "Q 828 903 1448 1529 \n",
       "Q 2069 2156 2228 2338 \n",
       "Q 2531 2678 2651 2914 \n",
       "Q 2772 3150 2772 3378 \n",
       "Q 2772 3750 2511 3984 \n",
       "Q 2250 4219 1831 4219 \n",
       "Q 1534 4219 1204 4116 \n",
       "Q 875 4013 500 3803 \n",
       "L 500 4441 \n",
       "Q 881 4594 1212 4672 \n",
       "Q 1544 4750 1819 4750 \n",
       "Q 2544 4750 2975 4387 \n",
       "Q 3406 4025 3406 3419 \n",
       "Q 3406 3131 3298 2873 \n",
       "Q 3191 2616 2906 2266 \n",
       "Q 2828 2175 2409 1742 \n",
       "Q 1991 1309 1228 531 \n",
       "z\n",
       "\" transform=\"scale(0.015625)\"/>\n",
       "       </defs>\n",
       "       <use xlink:href=\"#DejaVuSans-32\"/>\n",
       "      </g>\n",
       "     </g>\n",
       "    </g>\n",
       "    <g id=\"xtick_3\">\n",
       "     <g id=\"line2d_3\">\n",
       "      <g>\n",
       "       <use xlink:href=\"#ma48559f9a3\" x=\"176.087423\" y=\"147.878125\" style=\"stroke: #000000; stroke-width: 0.8\"/>\n",
       "      </g>\n",
       "     </g>\n",
       "     <g id=\"text_3\">\n",
       "      <!-- 3 -->\n",
       "      <g transform=\"translate(172.906173 162.476562) scale(0.1 -0.1)\">\n",
       "       <defs>\n",
       "        <path id=\"DejaVuSans-33\" d=\"M 2597 2516 \n",
       "Q 3050 2419 3304 2112 \n",
       "Q 3559 1806 3559 1356 \n",
       "Q 3559 666 3084 287 \n",
       "Q 2609 -91 1734 -91 \n",
       "Q 1441 -91 1130 -33 \n",
       "Q 819 25 488 141 \n",
       "L 488 750 \n",
       "Q 750 597 1062 519 \n",
       "Q 1375 441 1716 441 \n",
       "Q 2309 441 2620 675 \n",
       "Q 2931 909 2931 1356 \n",
       "Q 2931 1769 2642 2001 \n",
       "Q 2353 2234 1838 2234 \n",
       "L 1294 2234 \n",
       "L 1294 2753 \n",
       "L 1863 2753 \n",
       "Q 2328 2753 2575 2939 \n",
       "Q 2822 3125 2822 3475 \n",
       "Q 2822 3834 2567 4026 \n",
       "Q 2313 4219 1838 4219 \n",
       "Q 1578 4219 1281 4162 \n",
       "Q 984 4106 628 3988 \n",
       "L 628 4550 \n",
       "Q 988 4650 1302 4700 \n",
       "Q 1616 4750 1894 4750 \n",
       "Q 2613 4750 3031 4423 \n",
       "Q 3450 4097 3450 3541 \n",
       "Q 3450 3153 3228 2886 \n",
       "Q 3006 2619 2597 2516 \n",
       "z\n",
       "\" transform=\"scale(0.015625)\"/>\n",
       "       </defs>\n",
       "       <use xlink:href=\"#DejaVuSans-33\"/>\n",
       "      </g>\n",
       "     </g>\n",
       "    </g>\n",
       "    <g id=\"xtick_4\">\n",
       "     <g id=\"line2d_4\">\n",
       "      <g>\n",
       "       <use xlink:href=\"#ma48559f9a3\" x=\"228.331142\" y=\"147.878125\" style=\"stroke: #000000; stroke-width: 0.8\"/>\n",
       "      </g>\n",
       "     </g>\n",
       "     <g id=\"text_4\">\n",
       "      <!-- 4 -->\n",
       "      <g transform=\"translate(225.149892 162.476562) scale(0.1 -0.1)\">\n",
       "       <defs>\n",
       "        <path id=\"DejaVuSans-34\" d=\"M 2419 4116 \n",
       "L 825 1625 \n",
       "L 2419 1625 \n",
       "L 2419 4116 \n",
       "z\n",
       "M 2253 4666 \n",
       "L 3047 4666 \n",
       "L 3047 1625 \n",
       "L 3713 1625 \n",
       "L 3713 1100 \n",
       "L 3047 1100 \n",
       "L 3047 0 \n",
       "L 2419 0 \n",
       "L 2419 1100 \n",
       "L 313 1100 \n",
       "L 313 1709 \n",
       "L 2253 4666 \n",
       "z\n",
       "\" transform=\"scale(0.015625)\"/>\n",
       "       </defs>\n",
       "       <use xlink:href=\"#DejaVuSans-34\"/>\n",
       "      </g>\n",
       "     </g>\n",
       "    </g>\n",
       "    <g id=\"xtick_5\">\n",
       "     <g id=\"line2d_5\">\n",
       "      <g>\n",
       "       <use xlink:href=\"#ma48559f9a3\" x=\"280.574861\" y=\"147.878125\" style=\"stroke: #000000; stroke-width: 0.8\"/>\n",
       "      </g>\n",
       "     </g>\n",
       "     <g id=\"text_5\">\n",
       "      <!-- 5 -->\n",
       "      <g transform=\"translate(277.393611 162.476562) scale(0.1 -0.1)\">\n",
       "       <defs>\n",
       "        <path id=\"DejaVuSans-35\" d=\"M 691 4666 \n",
       "L 3169 4666 \n",
       "L 3169 4134 \n",
       "L 1269 4134 \n",
       "L 1269 2991 \n",
       "Q 1406 3038 1543 3061 \n",
       "Q 1681 3084 1819 3084 \n",
       "Q 2600 3084 3056 2656 \n",
       "Q 3513 2228 3513 1497 \n",
       "Q 3513 744 3044 326 \n",
       "Q 2575 -91 1722 -91 \n",
       "Q 1428 -91 1123 -41 \n",
       "Q 819 9 494 109 \n",
       "L 494 744 \n",
       "Q 775 591 1075 516 \n",
       "Q 1375 441 1709 441 \n",
       "Q 2250 441 2565 725 \n",
       "Q 2881 1009 2881 1497 \n",
       "Q 2881 1984 2565 2268 \n",
       "Q 2250 2553 1709 2553 \n",
       "Q 1456 2553 1204 2497 \n",
       "Q 953 2441 691 2322 \n",
       "L 691 4666 \n",
       "z\n",
       "\" transform=\"scale(0.015625)\"/>\n",
       "       </defs>\n",
       "       <use xlink:href=\"#DejaVuSans-35\"/>\n",
       "      </g>\n",
       "     </g>\n",
       "    </g>\n",
       "    <g id=\"xtick_6\">\n",
       "     <g id=\"line2d_6\">\n",
       "      <g>\n",
       "       <use xlink:href=\"#ma48559f9a3\" x=\"332.818581\" y=\"147.878125\" style=\"stroke: #000000; stroke-width: 0.8\"/>\n",
       "      </g>\n",
       "     </g>\n",
       "     <g id=\"text_6\">\n",
       "      <!-- 6 -->\n",
       "      <g transform=\"translate(329.637331 162.476562) scale(0.1 -0.1)\">\n",
       "       <defs>\n",
       "        <path id=\"DejaVuSans-36\" d=\"M 2113 2584 \n",
       "Q 1688 2584 1439 2293 \n",
       "Q 1191 2003 1191 1497 \n",
       "Q 1191 994 1439 701 \n",
       "Q 1688 409 2113 409 \n",
       "Q 2538 409 2786 701 \n",
       "Q 3034 994 3034 1497 \n",
       "Q 3034 2003 2786 2293 \n",
       "Q 2538 2584 2113 2584 \n",
       "z\n",
       "M 3366 4563 \n",
       "L 3366 3988 \n",
       "Q 3128 4100 2886 4159 \n",
       "Q 2644 4219 2406 4219 \n",
       "Q 1781 4219 1451 3797 \n",
       "Q 1122 3375 1075 2522 \n",
       "Q 1259 2794 1537 2939 \n",
       "Q 1816 3084 2150 3084 \n",
       "Q 2853 3084 3261 2657 \n",
       "Q 3669 2231 3669 1497 \n",
       "Q 3669 778 3244 343 \n",
       "Q 2819 -91 2113 -91 \n",
       "Q 1303 -91 875 529 \n",
       "Q 447 1150 447 2328 \n",
       "Q 447 3434 972 4092 \n",
       "Q 1497 4750 2381 4750 \n",
       "Q 2619 4750 2861 4703 \n",
       "Q 3103 4656 3366 4563 \n",
       "z\n",
       "\" transform=\"scale(0.015625)\"/>\n",
       "       </defs>\n",
       "       <use xlink:href=\"#DejaVuSans-36\"/>\n",
       "      </g>\n",
       "     </g>\n",
       "    </g>\n",
       "    <g id=\"text_7\">\n",
       "     <!-- # Resources a Concept Appears in -->\n",
       "     <g transform=\"translate(115.671001 176.154687) scale(0.1 -0.1)\">\n",
       "      <defs>\n",
       "       <path id=\"DejaVuSans-23\" d=\"M 3272 2816 \n",
       "L 2363 2816 \n",
       "L 2100 1772 \n",
       "L 3016 1772 \n",
       "L 3272 2816 \n",
       "z\n",
       "M 2803 4594 \n",
       "L 2478 3297 \n",
       "L 3391 3297 \n",
       "L 3719 4594 \n",
       "L 4219 4594 \n",
       "L 3897 3297 \n",
       "L 4872 3297 \n",
       "L 4872 2816 \n",
       "L 3775 2816 \n",
       "L 3519 1772 \n",
       "L 4513 1772 \n",
       "L 4513 1294 \n",
       "L 3397 1294 \n",
       "L 3072 0 \n",
       "L 2572 0 \n",
       "L 2894 1294 \n",
       "L 1978 1294 \n",
       "L 1656 0 \n",
       "L 1153 0 \n",
       "L 1478 1294 \n",
       "L 494 1294 \n",
       "L 494 1772 \n",
       "L 1594 1772 \n",
       "L 1856 2816 \n",
       "L 850 2816 \n",
       "L 850 3297 \n",
       "L 1978 3297 \n",
       "L 2297 4594 \n",
       "L 2803 4594 \n",
       "z\n",
       "\" transform=\"scale(0.015625)\"/>\n",
       "       <path id=\"DejaVuSans-20\" transform=\"scale(0.015625)\"/>\n",
       "       <path id=\"DejaVuSans-52\" d=\"M 2841 2188 \n",
       "Q 3044 2119 3236 1894 \n",
       "Q 3428 1669 3622 1275 \n",
       "L 4263 0 \n",
       "L 3584 0 \n",
       "L 2988 1197 \n",
       "Q 2756 1666 2539 1819 \n",
       "Q 2322 1972 1947 1972 \n",
       "L 1259 1972 \n",
       "L 1259 0 \n",
       "L 628 0 \n",
       "L 628 4666 \n",
       "L 2053 4666 \n",
       "Q 2853 4666 3247 4331 \n",
       "Q 3641 3997 3641 3322 \n",
       "Q 3641 2881 3436 2590 \n",
       "Q 3231 2300 2841 2188 \n",
       "z\n",
       "M 1259 4147 \n",
       "L 1259 2491 \n",
       "L 2053 2491 \n",
       "Q 2509 2491 2742 2702 \n",
       "Q 2975 2913 2975 3322 \n",
       "Q 2975 3731 2742 3939 \n",
       "Q 2509 4147 2053 4147 \n",
       "L 1259 4147 \n",
       "z\n",
       "\" transform=\"scale(0.015625)\"/>\n",
       "       <path id=\"DejaVuSans-65\" d=\"M 3597 1894 \n",
       "L 3597 1613 \n",
       "L 953 1613 \n",
       "Q 991 1019 1311 708 \n",
       "Q 1631 397 2203 397 \n",
       "Q 2534 397 2845 478 \n",
       "Q 3156 559 3463 722 \n",
       "L 3463 178 \n",
       "Q 3153 47 2828 -22 \n",
       "Q 2503 -91 2169 -91 \n",
       "Q 1331 -91 842 396 \n",
       "Q 353 884 353 1716 \n",
       "Q 353 2575 817 3079 \n",
       "Q 1281 3584 2069 3584 \n",
       "Q 2775 3584 3186 3129 \n",
       "Q 3597 2675 3597 1894 \n",
       "z\n",
       "M 3022 2063 \n",
       "Q 3016 2534 2758 2815 \n",
       "Q 2500 3097 2075 3097 \n",
       "Q 1594 3097 1305 2825 \n",
       "Q 1016 2553 972 2059 \n",
       "L 3022 2063 \n",
       "z\n",
       "\" transform=\"scale(0.015625)\"/>\n",
       "       <path id=\"DejaVuSans-73\" d=\"M 2834 3397 \n",
       "L 2834 2853 \n",
       "Q 2591 2978 2328 3040 \n",
       "Q 2066 3103 1784 3103 \n",
       "Q 1356 3103 1142 2972 \n",
       "Q 928 2841 928 2578 \n",
       "Q 928 2378 1081 2264 \n",
       "Q 1234 2150 1697 2047 \n",
       "L 1894 2003 \n",
       "Q 2506 1872 2764 1633 \n",
       "Q 3022 1394 3022 966 \n",
       "Q 3022 478 2636 193 \n",
       "Q 2250 -91 1575 -91 \n",
       "Q 1294 -91 989 -36 \n",
       "Q 684 19 347 128 \n",
       "L 347 722 \n",
       "Q 666 556 975 473 \n",
       "Q 1284 391 1588 391 \n",
       "Q 1994 391 2212 530 \n",
       "Q 2431 669 2431 922 \n",
       "Q 2431 1156 2273 1281 \n",
       "Q 2116 1406 1581 1522 \n",
       "L 1381 1569 \n",
       "Q 847 1681 609 1914 \n",
       "Q 372 2147 372 2553 \n",
       "Q 372 3047 722 3315 \n",
       "Q 1072 3584 1716 3584 \n",
       "Q 2034 3584 2315 3537 \n",
       "Q 2597 3491 2834 3397 \n",
       "z\n",
       "\" transform=\"scale(0.015625)\"/>\n",
       "       <path id=\"DejaVuSans-6f\" d=\"M 1959 3097 \n",
       "Q 1497 3097 1228 2736 \n",
       "Q 959 2375 959 1747 \n",
       "Q 959 1119 1226 758 \n",
       "Q 1494 397 1959 397 \n",
       "Q 2419 397 2687 759 \n",
       "Q 2956 1122 2956 1747 \n",
       "Q 2956 2369 2687 2733 \n",
       "Q 2419 3097 1959 3097 \n",
       "z\n",
       "M 1959 3584 \n",
       "Q 2709 3584 3137 3096 \n",
       "Q 3566 2609 3566 1747 \n",
       "Q 3566 888 3137 398 \n",
       "Q 2709 -91 1959 -91 \n",
       "Q 1206 -91 779 398 \n",
       "Q 353 888 353 1747 \n",
       "Q 353 2609 779 3096 \n",
       "Q 1206 3584 1959 3584 \n",
       "z\n",
       "\" transform=\"scale(0.015625)\"/>\n",
       "       <path id=\"DejaVuSans-75\" d=\"M 544 1381 \n",
       "L 544 3500 \n",
       "L 1119 3500 \n",
       "L 1119 1403 \n",
       "Q 1119 906 1312 657 \n",
       "Q 1506 409 1894 409 \n",
       "Q 2359 409 2629 706 \n",
       "Q 2900 1003 2900 1516 \n",
       "L 2900 3500 \n",
       "L 3475 3500 \n",
       "L 3475 0 \n",
       "L 2900 0 \n",
       "L 2900 538 \n",
       "Q 2691 219 2414 64 \n",
       "Q 2138 -91 1772 -91 \n",
       "Q 1169 -91 856 284 \n",
       "Q 544 659 544 1381 \n",
       "z\n",
       "M 1991 3584 \n",
       "L 1991 3584 \n",
       "z\n",
       "\" transform=\"scale(0.015625)\"/>\n",
       "       <path id=\"DejaVuSans-72\" d=\"M 2631 2963 \n",
       "Q 2534 3019 2420 3045 \n",
       "Q 2306 3072 2169 3072 \n",
       "Q 1681 3072 1420 2755 \n",
       "Q 1159 2438 1159 1844 \n",
       "L 1159 0 \n",
       "L 581 0 \n",
       "L 581 3500 \n",
       "L 1159 3500 \n",
       "L 1159 2956 \n",
       "Q 1341 3275 1631 3429 \n",
       "Q 1922 3584 2338 3584 \n",
       "Q 2397 3584 2469 3576 \n",
       "Q 2541 3569 2628 3553 \n",
       "L 2631 2963 \n",
       "z\n",
       "\" transform=\"scale(0.015625)\"/>\n",
       "       <path id=\"DejaVuSans-63\" d=\"M 3122 3366 \n",
       "L 3122 2828 \n",
       "Q 2878 2963 2633 3030 \n",
       "Q 2388 3097 2138 3097 \n",
       "Q 1578 3097 1268 2742 \n",
       "Q 959 2388 959 1747 \n",
       "Q 959 1106 1268 751 \n",
       "Q 1578 397 2138 397 \n",
       "Q 2388 397 2633 464 \n",
       "Q 2878 531 3122 666 \n",
       "L 3122 134 \n",
       "Q 2881 22 2623 -34 \n",
       "Q 2366 -91 2075 -91 \n",
       "Q 1284 -91 818 406 \n",
       "Q 353 903 353 1747 \n",
       "Q 353 2603 823 3093 \n",
       "Q 1294 3584 2113 3584 \n",
       "Q 2378 3584 2631 3529 \n",
       "Q 2884 3475 3122 3366 \n",
       "z\n",
       "\" transform=\"scale(0.015625)\"/>\n",
       "       <path id=\"DejaVuSans-61\" d=\"M 2194 1759 \n",
       "Q 1497 1759 1228 1600 \n",
       "Q 959 1441 959 1056 \n",
       "Q 959 750 1161 570 \n",
       "Q 1363 391 1709 391 \n",
       "Q 2188 391 2477 730 \n",
       "Q 2766 1069 2766 1631 \n",
       "L 2766 1759 \n",
       "L 2194 1759 \n",
       "z\n",
       "M 3341 1997 \n",
       "L 3341 0 \n",
       "L 2766 0 \n",
       "L 2766 531 \n",
       "Q 2569 213 2275 61 \n",
       "Q 1981 -91 1556 -91 \n",
       "Q 1019 -91 701 211 \n",
       "Q 384 513 384 1019 \n",
       "Q 384 1609 779 1909 \n",
       "Q 1175 2209 1959 2209 \n",
       "L 2766 2209 \n",
       "L 2766 2266 \n",
       "Q 2766 2663 2505 2880 \n",
       "Q 2244 3097 1772 3097 \n",
       "Q 1472 3097 1187 3025 \n",
       "Q 903 2953 641 2809 \n",
       "L 641 3341 \n",
       "Q 956 3463 1253 3523 \n",
       "Q 1550 3584 1831 3584 \n",
       "Q 2591 3584 2966 3190 \n",
       "Q 3341 2797 3341 1997 \n",
       "z\n",
       "\" transform=\"scale(0.015625)\"/>\n",
       "       <path id=\"DejaVuSans-43\" d=\"M 4122 4306 \n",
       "L 4122 3641 \n",
       "Q 3803 3938 3442 4084 \n",
       "Q 3081 4231 2675 4231 \n",
       "Q 1875 4231 1450 3742 \n",
       "Q 1025 3253 1025 2328 \n",
       "Q 1025 1406 1450 917 \n",
       "Q 1875 428 2675 428 \n",
       "Q 3081 428 3442 575 \n",
       "Q 3803 722 4122 1019 \n",
       "L 4122 359 \n",
       "Q 3791 134 3420 21 \n",
       "Q 3050 -91 2638 -91 \n",
       "Q 1578 -91 968 557 \n",
       "Q 359 1206 359 2328 \n",
       "Q 359 3453 968 4101 \n",
       "Q 1578 4750 2638 4750 \n",
       "Q 3056 4750 3426 4639 \n",
       "Q 3797 4528 4122 4306 \n",
       "z\n",
       "\" transform=\"scale(0.015625)\"/>\n",
       "       <path id=\"DejaVuSans-6e\" d=\"M 3513 2113 \n",
       "L 3513 0 \n",
       "L 2938 0 \n",
       "L 2938 2094 \n",
       "Q 2938 2591 2744 2837 \n",
       "Q 2550 3084 2163 3084 \n",
       "Q 1697 3084 1428 2787 \n",
       "Q 1159 2491 1159 1978 \n",
       "L 1159 0 \n",
       "L 581 0 \n",
       "L 581 3500 \n",
       "L 1159 3500 \n",
       "L 1159 2956 \n",
       "Q 1366 3272 1645 3428 \n",
       "Q 1925 3584 2291 3584 \n",
       "Q 2894 3584 3203 3211 \n",
       "Q 3513 2838 3513 2113 \n",
       "z\n",
       "\" transform=\"scale(0.015625)\"/>\n",
       "       <path id=\"DejaVuSans-70\" d=\"M 1159 525 \n",
       "L 1159 -1331 \n",
       "L 581 -1331 \n",
       "L 581 3500 \n",
       "L 1159 3500 \n",
       "L 1159 2969 \n",
       "Q 1341 3281 1617 3432 \n",
       "Q 1894 3584 2278 3584 \n",
       "Q 2916 3584 3314 3078 \n",
       "Q 3713 2572 3713 1747 \n",
       "Q 3713 922 3314 415 \n",
       "Q 2916 -91 2278 -91 \n",
       "Q 1894 -91 1617 61 \n",
       "Q 1341 213 1159 525 \n",
       "z\n",
       "M 3116 1747 \n",
       "Q 3116 2381 2855 2742 \n",
       "Q 2594 3103 2138 3103 \n",
       "Q 1681 3103 1420 2742 \n",
       "Q 1159 2381 1159 1747 \n",
       "Q 1159 1113 1420 752 \n",
       "Q 1681 391 2138 391 \n",
       "Q 2594 391 2855 752 \n",
       "Q 3116 1113 3116 1747 \n",
       "z\n",
       "\" transform=\"scale(0.015625)\"/>\n",
       "       <path id=\"DejaVuSans-74\" d=\"M 1172 4494 \n",
       "L 1172 3500 \n",
       "L 2356 3500 \n",
       "L 2356 3053 \n",
       "L 1172 3053 \n",
       "L 1172 1153 \n",
       "Q 1172 725 1289 603 \n",
       "Q 1406 481 1766 481 \n",
       "L 2356 481 \n",
       "L 2356 0 \n",
       "L 1766 0 \n",
       "Q 1100 0 847 248 \n",
       "Q 594 497 594 1153 \n",
       "L 594 3053 \n",
       "L 172 3053 \n",
       "L 172 3500 \n",
       "L 594 3500 \n",
       "L 594 4494 \n",
       "L 1172 4494 \n",
       "z\n",
       "\" transform=\"scale(0.015625)\"/>\n",
       "       <path id=\"DejaVuSans-41\" d=\"M 2188 4044 \n",
       "L 1331 1722 \n",
       "L 3047 1722 \n",
       "L 2188 4044 \n",
       "z\n",
       "M 1831 4666 \n",
       "L 2547 4666 \n",
       "L 4325 0 \n",
       "L 3669 0 \n",
       "L 3244 1197 \n",
       "L 1141 1197 \n",
       "L 716 0 \n",
       "L 50 0 \n",
       "L 1831 4666 \n",
       "z\n",
       "\" transform=\"scale(0.015625)\"/>\n",
       "       <path id=\"DejaVuSans-69\" d=\"M 603 3500 \n",
       "L 1178 3500 \n",
       "L 1178 0 \n",
       "L 603 0 \n",
       "L 603 3500 \n",
       "z\n",
       "M 603 4863 \n",
       "L 1178 4863 \n",
       "L 1178 4134 \n",
       "L 603 4134 \n",
       "L 603 4863 \n",
       "z\n",
       "\" transform=\"scale(0.015625)\"/>\n",
       "      </defs>\n",
       "      <use xlink:href=\"#DejaVuSans-23\"/>\n",
       "      <use xlink:href=\"#DejaVuSans-20\" x=\"83.789062\"/>\n",
       "      <use xlink:href=\"#DejaVuSans-52\" x=\"115.576172\"/>\n",
       "      <use xlink:href=\"#DejaVuSans-65\" x=\"180.558594\"/>\n",
       "      <use xlink:href=\"#DejaVuSans-73\" x=\"242.082031\"/>\n",
       "      <use xlink:href=\"#DejaVuSans-6f\" x=\"294.181641\"/>\n",
       "      <use xlink:href=\"#DejaVuSans-75\" x=\"355.363281\"/>\n",
       "      <use xlink:href=\"#DejaVuSans-72\" x=\"418.742188\"/>\n",
       "      <use xlink:href=\"#DejaVuSans-63\" x=\"457.605469\"/>\n",
       "      <use xlink:href=\"#DejaVuSans-65\" x=\"512.585938\"/>\n",
       "      <use xlink:href=\"#DejaVuSans-73\" x=\"574.109375\"/>\n",
       "      <use xlink:href=\"#DejaVuSans-20\" x=\"626.208984\"/>\n",
       "      <use xlink:href=\"#DejaVuSans-61\" x=\"657.996094\"/>\n",
       "      <use xlink:href=\"#DejaVuSans-20\" x=\"719.275391\"/>\n",
       "      <use xlink:href=\"#DejaVuSans-43\" x=\"751.0625\"/>\n",
       "      <use xlink:href=\"#DejaVuSans-6f\" x=\"820.886719\"/>\n",
       "      <use xlink:href=\"#DejaVuSans-6e\" x=\"882.068359\"/>\n",
       "      <use xlink:href=\"#DejaVuSans-63\" x=\"945.447266\"/>\n",
       "      <use xlink:href=\"#DejaVuSans-65\" x=\"1000.427734\"/>\n",
       "      <use xlink:href=\"#DejaVuSans-70\" x=\"1061.951172\"/>\n",
       "      <use xlink:href=\"#DejaVuSans-74\" x=\"1125.427734\"/>\n",
       "      <use xlink:href=\"#DejaVuSans-20\" x=\"1164.636719\"/>\n",
       "      <use xlink:href=\"#DejaVuSans-41\" x=\"1196.423828\"/>\n",
       "      <use xlink:href=\"#DejaVuSans-70\" x=\"1264.832031\"/>\n",
       "      <use xlink:href=\"#DejaVuSans-70\" x=\"1328.308594\"/>\n",
       "      <use xlink:href=\"#DejaVuSans-65\" x=\"1391.785156\"/>\n",
       "      <use xlink:href=\"#DejaVuSans-61\" x=\"1453.308594\"/>\n",
       "      <use xlink:href=\"#DejaVuSans-72\" x=\"1514.587891\"/>\n",
       "      <use xlink:href=\"#DejaVuSans-73\" x=\"1555.701172\"/>\n",
       "      <use xlink:href=\"#DejaVuSans-20\" x=\"1607.800781\"/>\n",
       "      <use xlink:href=\"#DejaVuSans-69\" x=\"1639.587891\"/>\n",
       "      <use xlink:href=\"#DejaVuSans-6e\" x=\"1667.371094\"/>\n",
       "     </g>\n",
       "    </g>\n",
       "   </g>\n",
       "   <g id=\"matplotlib.axis_2\">\n",
       "    <g id=\"ytick_1\">\n",
       "     <g id=\"line2d_7\">\n",
       "      <defs>\n",
       "       <path id=\"m5b4a5c4cf2\" d=\"M 0 0 \n",
       "L -3.5 0 \n",
       "\" style=\"stroke: #000000; stroke-width: 0.8\"/>\n",
       "      </defs>\n",
       "      <g>\n",
       "       <use xlink:href=\"#m5b4a5c4cf2\" x=\"45.478125\" y=\"119.542773\" style=\"stroke: #000000; stroke-width: 0.8\"/>\n",
       "      </g>\n",
       "     </g>\n",
       "     <g id=\"text_8\">\n",
       "      <!-- $\\mathdefault{10^{4}}$ -->\n",
       "      <g transform=\"translate(20.878125 123.341992) scale(0.1 -0.1)\">\n",
       "       <defs>\n",
       "        <path id=\"DejaVuSans-30\" d=\"M 2034 4250 \n",
       "Q 1547 4250 1301 3770 \n",
       "Q 1056 3291 1056 2328 \n",
       "Q 1056 1369 1301 889 \n",
       "Q 1547 409 2034 409 \n",
       "Q 2525 409 2770 889 \n",
       "Q 3016 1369 3016 2328 \n",
       "Q 3016 3291 2770 3770 \n",
       "Q 2525 4250 2034 4250 \n",
       "z\n",
       "M 2034 4750 \n",
       "Q 2819 4750 3233 4129 \n",
       "Q 3647 3509 3647 2328 \n",
       "Q 3647 1150 3233 529 \n",
       "Q 2819 -91 2034 -91 \n",
       "Q 1250 -91 836 529 \n",
       "Q 422 1150 422 2328 \n",
       "Q 422 3509 836 4129 \n",
       "Q 1250 4750 2034 4750 \n",
       "z\n",
       "\" transform=\"scale(0.015625)\"/>\n",
       "       </defs>\n",
       "       <use xlink:href=\"#DejaVuSans-31\" transform=\"translate(0 0.684375)\"/>\n",
       "       <use xlink:href=\"#DejaVuSans-30\" transform=\"translate(63.623047 0.684375)\"/>\n",
       "       <use xlink:href=\"#DejaVuSans-34\" transform=\"translate(128.203125 38.965625) scale(0.7)\"/>\n",
       "      </g>\n",
       "     </g>\n",
       "    </g>\n",
       "    <g id=\"ytick_2\">\n",
       "     <g id=\"line2d_8\">\n",
       "      <g>\n",
       "       <use xlink:href=\"#m5b4a5c4cf2\" x=\"45.478125\" y=\"81.517293\" style=\"stroke: #000000; stroke-width: 0.8\"/>\n",
       "      </g>\n",
       "     </g>\n",
       "     <g id=\"text_9\">\n",
       "      <!-- $\\mathdefault{10^{6}}$ -->\n",
       "      <g transform=\"translate(20.878125 85.316512) scale(0.1 -0.1)\">\n",
       "       <use xlink:href=\"#DejaVuSans-31\" transform=\"translate(0 0.765625)\"/>\n",
       "       <use xlink:href=\"#DejaVuSans-30\" transform=\"translate(63.623047 0.765625)\"/>\n",
       "       <use xlink:href=\"#DejaVuSans-36\" transform=\"translate(128.203125 39.046875) scale(0.7)\"/>\n",
       "      </g>\n",
       "     </g>\n",
       "    </g>\n",
       "    <g id=\"ytick_3\">\n",
       "     <g id=\"line2d_9\">\n",
       "      <g>\n",
       "       <use xlink:href=\"#m5b4a5c4cf2\" x=\"45.478125\" y=\"43.491813\" style=\"stroke: #000000; stroke-width: 0.8\"/>\n",
       "      </g>\n",
       "     </g>\n",
       "     <g id=\"text_10\">\n",
       "      <!-- $\\mathdefault{10^{8}}$ -->\n",
       "      <g transform=\"translate(20.878125 47.291032) scale(0.1 -0.1)\">\n",
       "       <defs>\n",
       "        <path id=\"DejaVuSans-38\" d=\"M 2034 2216 \n",
       "Q 1584 2216 1326 1975 \n",
       "Q 1069 1734 1069 1313 \n",
       "Q 1069 891 1326 650 \n",
       "Q 1584 409 2034 409 \n",
       "Q 2484 409 2743 651 \n",
       "Q 3003 894 3003 1313 \n",
       "Q 3003 1734 2745 1975 \n",
       "Q 2488 2216 2034 2216 \n",
       "z\n",
       "M 1403 2484 \n",
       "Q 997 2584 770 2862 \n",
       "Q 544 3141 544 3541 \n",
       "Q 544 4100 942 4425 \n",
       "Q 1341 4750 2034 4750 \n",
       "Q 2731 4750 3128 4425 \n",
       "Q 3525 4100 3525 3541 \n",
       "Q 3525 3141 3298 2862 \n",
       "Q 3072 2584 2669 2484 \n",
       "Q 3125 2378 3379 2068 \n",
       "Q 3634 1759 3634 1313 \n",
       "Q 3634 634 3220 271 \n",
       "Q 2806 -91 2034 -91 \n",
       "Q 1263 -91 848 271 \n",
       "Q 434 634 434 1313 \n",
       "Q 434 1759 690 2068 \n",
       "Q 947 2378 1403 2484 \n",
       "z\n",
       "M 1172 3481 \n",
       "Q 1172 3119 1398 2916 \n",
       "Q 1625 2713 2034 2713 \n",
       "Q 2441 2713 2670 2916 \n",
       "Q 2900 3119 2900 3481 \n",
       "Q 2900 3844 2670 4047 \n",
       "Q 2441 4250 2034 4250 \n",
       "Q 1625 4250 1398 4047 \n",
       "Q 1172 3844 1172 3481 \n",
       "z\n",
       "\" transform=\"scale(0.015625)\"/>\n",
       "       </defs>\n",
       "       <use xlink:href=\"#DejaVuSans-31\" transform=\"translate(0 0.765625)\"/>\n",
       "       <use xlink:href=\"#DejaVuSans-30\" transform=\"translate(63.623047 0.765625)\"/>\n",
       "       <use xlink:href=\"#DejaVuSans-38\" transform=\"translate(128.203125 39.046875) scale(0.7)\"/>\n",
       "      </g>\n",
       "     </g>\n",
       "    </g>\n",
       "    <g id=\"text_11\">\n",
       "     <!-- Count -->\n",
       "     <g transform=\"translate(14.798438 99.946562) rotate(-90) scale(0.1 -0.1)\">\n",
       "      <use xlink:href=\"#DejaVuSans-43\"/>\n",
       "      <use xlink:href=\"#DejaVuSans-6f\" x=\"69.824219\"/>\n",
       "      <use xlink:href=\"#DejaVuSans-75\" x=\"131.005859\"/>\n",
       "      <use xlink:href=\"#DejaVuSans-6e\" x=\"194.384766\"/>\n",
       "      <use xlink:href=\"#DejaVuSans-74\" x=\"257.763672\"/>\n",
       "     </g>\n",
       "    </g>\n",
       "   </g>\n",
       "   <g id=\"line2d_10\">\n",
       "    <path clip-path=\"url(#pc2afcdb3e6)\" style=\"fill: none; stroke: #424242; stroke-width: 2.25; stroke-linecap: square\"/>\n",
       "   </g>\n",
       "   <g id=\"line2d_11\">\n",
       "    <path clip-path=\"url(#pc2afcdb3e6)\" style=\"fill: none; stroke: #424242; stroke-width: 2.25; stroke-linecap: square\"/>\n",
       "   </g>\n",
       "   <g id=\"line2d_12\">\n",
       "    <path clip-path=\"url(#pc2afcdb3e6)\" style=\"fill: none; stroke: #424242; stroke-width: 2.25; stroke-linecap: square\"/>\n",
       "   </g>\n",
       "   <g id=\"line2d_13\">\n",
       "    <path clip-path=\"url(#pc2afcdb3e6)\" style=\"fill: none; stroke: #424242; stroke-width: 2.25; stroke-linecap: square\"/>\n",
       "   </g>\n",
       "   <g id=\"line2d_14\">\n",
       "    <path clip-path=\"url(#pc2afcdb3e6)\" style=\"fill: none; stroke: #424242; stroke-width: 2.25; stroke-linecap: square\"/>\n",
       "   </g>\n",
       "   <g id=\"line2d_15\">\n",
       "    <path clip-path=\"url(#pc2afcdb3e6)\" style=\"fill: none; stroke: #424242; stroke-width: 2.25; stroke-linecap: square\"/>\n",
       "   </g>\n",
       "   <g id=\"patch_9\">\n",
       "    <path d=\"M 45.478125 147.878125 \n",
       "L 45.478125 22.318125 \n",
       "\" style=\"fill: none; stroke: #000000; stroke-width: 0.8; stroke-linejoin: miter; stroke-linecap: square\"/>\n",
       "   </g>\n",
       "   <g id=\"patch_10\">\n",
       "    <path d=\"M 358.94044 147.878125 \n",
       "L 358.94044 22.318125 \n",
       "\" style=\"fill: none; stroke: #000000; stroke-width: 0.8; stroke-linejoin: miter; stroke-linecap: square\"/>\n",
       "   </g>\n",
       "   <g id=\"patch_11\">\n",
       "    <path d=\"M 45.478125 147.878125 \n",
       "L 358.94044 147.878125 \n",
       "\" style=\"fill: none; stroke: #000000; stroke-width: 0.8; stroke-linejoin: miter; stroke-linecap: square\"/>\n",
       "   </g>\n",
       "   <g id=\"patch_12\">\n",
       "    <path d=\"M 45.478125 22.318125 \n",
       "L 358.94044 22.318125 \n",
       "\" style=\"fill: none; stroke: #000000; stroke-width: 0.8; stroke-linejoin: miter; stroke-linecap: square\"/>\n",
       "   </g>\n",
       "   <g id=\"text_12\">\n",
       "    <!-- 11,877 -->\n",
       "    <g transform=\"translate(210.83583 104.844754) scale(0.1 -0.1)\">\n",
       "     <defs>\n",
       "      <path id=\"DejaVuSans-2c\" d=\"M 750 794 \n",
       "L 1409 794 \n",
       "L 1409 256 \n",
       "L 897 -744 \n",
       "L 494 -744 \n",
       "L 750 256 \n",
       "L 750 794 \n",
       "z\n",
       "\" transform=\"scale(0.015625)\"/>\n",
       "      <path id=\"DejaVuSans-37\" d=\"M 525 4666 \n",
       "L 3525 4666 \n",
       "L 3525 4397 \n",
       "L 1831 0 \n",
       "L 1172 0 \n",
       "L 2766 4134 \n",
       "L 525 4134 \n",
       "L 525 4666 \n",
       "z\n",
       "\" transform=\"scale(0.015625)\"/>\n",
       "     </defs>\n",
       "     <use xlink:href=\"#DejaVuSans-31\"/>\n",
       "     <use xlink:href=\"#DejaVuSans-31\" x=\"63.623047\"/>\n",
       "     <use xlink:href=\"#DejaVuSans-2c\" x=\"127.246094\"/>\n",
       "     <use xlink:href=\"#DejaVuSans-38\" x=\"159.033203\"/>\n",
       "     <use xlink:href=\"#DejaVuSans-37\" x=\"222.65625\"/>\n",
       "     <use xlink:href=\"#DejaVuSans-37\" x=\"286.279297\"/>\n",
       "    </g>\n",
       "    <!-- (0.0%) -->\n",
       "    <g transform=\"translate(211.727236 116.042566) scale(0.1 -0.1)\">\n",
       "     <defs>\n",
       "      <path id=\"DejaVuSans-28\" d=\"M 1984 4856 \n",
       "Q 1566 4138 1362 3434 \n",
       "Q 1159 2731 1159 2009 \n",
       "Q 1159 1288 1364 580 \n",
       "Q 1569 -128 1984 -844 \n",
       "L 1484 -844 \n",
       "Q 1016 -109 783 600 \n",
       "Q 550 1309 550 2009 \n",
       "Q 550 2706 781 3412 \n",
       "Q 1013 4119 1484 4856 \n",
       "L 1984 4856 \n",
       "z\n",
       "\" transform=\"scale(0.015625)\"/>\n",
       "      <path id=\"DejaVuSans-2e\" d=\"M 684 794 \n",
       "L 1344 794 \n",
       "L 1344 0 \n",
       "L 684 0 \n",
       "L 684 794 \n",
       "z\n",
       "\" transform=\"scale(0.015625)\"/>\n",
       "      <path id=\"DejaVuSans-25\" d=\"M 4653 2053 \n",
       "Q 4381 2053 4226 1822 \n",
       "Q 4072 1591 4072 1178 \n",
       "Q 4072 772 4226 539 \n",
       "Q 4381 306 4653 306 \n",
       "Q 4919 306 5073 539 \n",
       "Q 5228 772 5228 1178 \n",
       "Q 5228 1588 5073 1820 \n",
       "Q 4919 2053 4653 2053 \n",
       "z\n",
       "M 4653 2450 \n",
       "Q 5147 2450 5437 2106 \n",
       "Q 5728 1763 5728 1178 \n",
       "Q 5728 594 5436 251 \n",
       "Q 5144 -91 4653 -91 \n",
       "Q 4153 -91 3862 251 \n",
       "Q 3572 594 3572 1178 \n",
       "Q 3572 1766 3864 2108 \n",
       "Q 4156 2450 4653 2450 \n",
       "z\n",
       "M 1428 4353 \n",
       "Q 1159 4353 1004 4120 \n",
       "Q 850 3888 850 3481 \n",
       "Q 850 3069 1003 2837 \n",
       "Q 1156 2606 1428 2606 \n",
       "Q 1700 2606 1854 2837 \n",
       "Q 2009 3069 2009 3481 \n",
       "Q 2009 3884 1853 4118 \n",
       "Q 1697 4353 1428 4353 \n",
       "z\n",
       "M 4250 4750 \n",
       "L 4750 4750 \n",
       "L 1831 -91 \n",
       "L 1331 -91 \n",
       "L 4250 4750 \n",
       "z\n",
       "M 1428 4750 \n",
       "Q 1922 4750 2215 4408 \n",
       "Q 2509 4066 2509 3481 \n",
       "Q 2509 2891 2217 2550 \n",
       "Q 1925 2209 1428 2209 \n",
       "Q 931 2209 642 2551 \n",
       "Q 353 2894 353 3481 \n",
       "Q 353 4063 643 4406 \n",
       "Q 934 4750 1428 4750 \n",
       "z\n",
       "\" transform=\"scale(0.015625)\"/>\n",
       "      <path id=\"DejaVuSans-29\" d=\"M 513 4856 \n",
       "L 1013 4856 \n",
       "Q 1481 4119 1714 3412 \n",
       "Q 1947 2706 1947 2009 \n",
       "Q 1947 1309 1714 600 \n",
       "Q 1481 -109 1013 -844 \n",
       "L 513 -844 \n",
       "Q 928 -128 1133 580 \n",
       "Q 1338 1288 1338 2009 \n",
       "Q 1338 2731 1133 3434 \n",
       "Q 928 4138 513 4856 \n",
       "z\n",
       "\" transform=\"scale(0.015625)\"/>\n",
       "     </defs>\n",
       "     <use xlink:href=\"#DejaVuSans-28\"/>\n",
       "     <use xlink:href=\"#DejaVuSans-30\" x=\"39.013672\"/>\n",
       "     <use xlink:href=\"#DejaVuSans-2e\" x=\"102.636719\"/>\n",
       "     <use xlink:href=\"#DejaVuSans-30\" x=\"134.423828\"/>\n",
       "     <use xlink:href=\"#DejaVuSans-25\" x=\"198.046875\"/>\n",
       "     <use xlink:href=\"#DejaVuSans-29\" x=\"293.066406\"/>\n",
       "    </g>\n",
       "   </g>\n",
       "   <g id=\"text_13\">\n",
       "    <!-- 5,301 -->\n",
       "    <g transform=\"translate(266.260799 111.505675) scale(0.1 -0.1)\">\n",
       "     <use xlink:href=\"#DejaVuSans-35\"/>\n",
       "     <use xlink:href=\"#DejaVuSans-2c\" x=\"63.623047\"/>\n",
       "     <use xlink:href=\"#DejaVuSans-33\" x=\"95.410156\"/>\n",
       "     <use xlink:href=\"#DejaVuSans-30\" x=\"159.033203\"/>\n",
       "     <use xlink:href=\"#DejaVuSans-31\" x=\"222.65625\"/>\n",
       "    </g>\n",
       "    <!-- (0.0%) -->\n",
       "    <g transform=\"translate(263.970955 122.703487) scale(0.1 -0.1)\">\n",
       "     <use xlink:href=\"#DejaVuSans-28\"/>\n",
       "     <use xlink:href=\"#DejaVuSans-30\" x=\"39.013672\"/>\n",
       "     <use xlink:href=\"#DejaVuSans-2e\" x=\"102.636719\"/>\n",
       "     <use xlink:href=\"#DejaVuSans-30\" x=\"134.423828\"/>\n",
       "     <use xlink:href=\"#DejaVuSans-25\" x=\"198.046875\"/>\n",
       "     <use xlink:href=\"#DejaVuSans-29\" x=\"293.066406\"/>\n",
       "    </g>\n",
       "   </g>\n",
       "   <g id=\"text_14\">\n",
       "    <!-- 576 -->\n",
       "    <g transform=\"translate(323.274831 129.830171) scale(0.1 -0.1)\">\n",
       "     <use xlink:href=\"#DejaVuSans-35\"/>\n",
       "     <use xlink:href=\"#DejaVuSans-37\" x=\"63.623047\"/>\n",
       "     <use xlink:href=\"#DejaVuSans-36\" x=\"127.246094\"/>\n",
       "    </g>\n",
       "    <!-- (0.0%) -->\n",
       "    <g transform=\"translate(316.214674 141.027984) scale(0.1 -0.1)\">\n",
       "     <use xlink:href=\"#DejaVuSans-28\"/>\n",
       "     <use xlink:href=\"#DejaVuSans-30\" x=\"39.013672\"/>\n",
       "     <use xlink:href=\"#DejaVuSans-2e\" x=\"102.636719\"/>\n",
       "     <use xlink:href=\"#DejaVuSans-30\" x=\"134.423828\"/>\n",
       "     <use xlink:href=\"#DejaVuSans-25\" x=\"198.046875\"/>\n",
       "     <use xlink:href=\"#DejaVuSans-29\" x=\"293.066406\"/>\n",
       "    </g>\n",
       "   </g>\n",
       "   <g id=\"text_15\">\n",
       "    <!-- 134,221 -->\n",
       "    <g transform=\"translate(155.410861 84.822303) scale(0.1 -0.1)\">\n",
       "     <use xlink:href=\"#DejaVuSans-31\"/>\n",
       "     <use xlink:href=\"#DejaVuSans-33\" x=\"63.623047\"/>\n",
       "     <use xlink:href=\"#DejaVuSans-34\" x=\"127.246094\"/>\n",
       "     <use xlink:href=\"#DejaVuSans-2c\" x=\"190.869141\"/>\n",
       "     <use xlink:href=\"#DejaVuSans-32\" x=\"222.65625\"/>\n",
       "     <use xlink:href=\"#DejaVuSans-32\" x=\"286.279297\"/>\n",
       "     <use xlink:href=\"#DejaVuSans-31\" x=\"349.902344\"/>\n",
       "    </g>\n",
       "    <!-- (0.2%) -->\n",
       "    <g transform=\"translate(159.483517 96.020116) scale(0.1 -0.1)\">\n",
       "     <use xlink:href=\"#DejaVuSans-28\"/>\n",
       "     <use xlink:href=\"#DejaVuSans-30\" x=\"39.013672\"/>\n",
       "     <use xlink:href=\"#DejaVuSans-2e\" x=\"102.636719\"/>\n",
       "     <use xlink:href=\"#DejaVuSans-32\" x=\"134.423828\"/>\n",
       "     <use xlink:href=\"#DejaVuSans-25\" x=\"198.046875\"/>\n",
       "     <use xlink:href=\"#DejaVuSans-29\" x=\"293.066406\"/>\n",
       "    </g>\n",
       "   </g>\n",
       "   <g id=\"text_16\">\n",
       "    <!-- 59,644,780 -->\n",
       "    <g transform=\"translate(42.97186 34.481296) scale(0.1 -0.1)\">\n",
       "     <defs>\n",
       "      <path id=\"DejaVuSans-39\" d=\"M 703 97 \n",
       "L 703 672 \n",
       "Q 941 559 1184 500 \n",
       "Q 1428 441 1663 441 \n",
       "Q 2288 441 2617 861 \n",
       "Q 2947 1281 2994 2138 \n",
       "Q 2813 1869 2534 1725 \n",
       "Q 2256 1581 1919 1581 \n",
       "Q 1219 1581 811 2004 \n",
       "Q 403 2428 403 3163 \n",
       "Q 403 3881 828 4315 \n",
       "Q 1253 4750 1959 4750 \n",
       "Q 2769 4750 3195 4129 \n",
       "Q 3622 3509 3622 2328 \n",
       "Q 3622 1225 3098 567 \n",
       "Q 2575 -91 1691 -91 \n",
       "Q 1453 -91 1209 -44 \n",
       "Q 966 3 703 97 \n",
       "z\n",
       "M 1959 2075 \n",
       "Q 2384 2075 2632 2365 \n",
       "Q 2881 2656 2881 3163 \n",
       "Q 2881 3666 2632 3958 \n",
       "Q 2384 4250 1959 4250 \n",
       "Q 1534 4250 1286 3958 \n",
       "Q 1038 3666 1038 3163 \n",
       "Q 1038 2656 1286 2365 \n",
       "Q 1534 2075 1959 2075 \n",
       "z\n",
       "\" transform=\"scale(0.015625)\"/>\n",
       "     </defs>\n",
       "     <use xlink:href=\"#DejaVuSans-35\"/>\n",
       "     <use xlink:href=\"#DejaVuSans-39\" x=\"63.623047\"/>\n",
       "     <use xlink:href=\"#DejaVuSans-2c\" x=\"127.246094\"/>\n",
       "     <use xlink:href=\"#DejaVuSans-36\" x=\"159.033203\"/>\n",
       "     <use xlink:href=\"#DejaVuSans-34\" x=\"222.65625\"/>\n",
       "     <use xlink:href=\"#DejaVuSans-34\" x=\"286.279297\"/>\n",
       "     <use xlink:href=\"#DejaVuSans-2c\" x=\"349.902344\"/>\n",
       "     <use xlink:href=\"#DejaVuSans-37\" x=\"381.689453\"/>\n",
       "     <use xlink:href=\"#DejaVuSans-38\" x=\"445.3125\"/>\n",
       "     <use xlink:href=\"#DejaVuSans-30\" x=\"508.935547\"/>\n",
       "    </g>\n",
       "    <!-- (98.6%) -->\n",
       "    <g transform=\"translate(51.814828 45.679108) scale(0.1 -0.1)\">\n",
       "     <use xlink:href=\"#DejaVuSans-28\"/>\n",
       "     <use xlink:href=\"#DejaVuSans-39\" x=\"39.013672\"/>\n",
       "     <use xlink:href=\"#DejaVuSans-38\" x=\"102.636719\"/>\n",
       "     <use xlink:href=\"#DejaVuSans-2e\" x=\"166.259766\"/>\n",
       "     <use xlink:href=\"#DejaVuSans-36\" x=\"198.046875\"/>\n",
       "     <use xlink:href=\"#DejaVuSans-25\" x=\"261.669922\"/>\n",
       "     <use xlink:href=\"#DejaVuSans-29\" x=\"356.689453\"/>\n",
       "    </g>\n",
       "   </g>\n",
       "   <g id=\"text_17\">\n",
       "    <!-- 716,454 -->\n",
       "    <g transform=\"translate(103.167141 70.993058) scale(0.1 -0.1)\">\n",
       "     <use xlink:href=\"#DejaVuSans-37\"/>\n",
       "     <use xlink:href=\"#DejaVuSans-31\" x=\"63.623047\"/>\n",
       "     <use xlink:href=\"#DejaVuSans-36\" x=\"127.246094\"/>\n",
       "     <use xlink:href=\"#DejaVuSans-2c\" x=\"190.869141\"/>\n",
       "     <use xlink:href=\"#DejaVuSans-34\" x=\"222.65625\"/>\n",
       "     <use xlink:href=\"#DejaVuSans-35\" x=\"286.279297\"/>\n",
       "     <use xlink:href=\"#DejaVuSans-34\" x=\"349.902344\"/>\n",
       "    </g>\n",
       "    <!-- (1.2%) -->\n",
       "    <g transform=\"translate(107.239798 82.19087) scale(0.1 -0.1)\">\n",
       "     <use xlink:href=\"#DejaVuSans-28\"/>\n",
       "     <use xlink:href=\"#DejaVuSans-31\" x=\"39.013672\"/>\n",
       "     <use xlink:href=\"#DejaVuSans-2e\" x=\"102.636719\"/>\n",
       "     <use xlink:href=\"#DejaVuSans-32\" x=\"134.423828\"/>\n",
       "     <use xlink:href=\"#DejaVuSans-25\" x=\"198.046875\"/>\n",
       "     <use xlink:href=\"#DejaVuSans-29\" x=\"293.066406\"/>\n",
       "    </g>\n",
       "   </g>\n",
       "   <g id=\"text_18\">\n",
       "    <!-- Landscape of 60,513,209 Unique Concepts -->\n",
       "    <g transform=\"translate(73.10522 16.318125) scale(0.12 -0.12)\">\n",
       "     <defs>\n",
       "      <path id=\"DejaVuSans-4c\" d=\"M 628 4666 \n",
       "L 1259 4666 \n",
       "L 1259 531 \n",
       "L 3531 531 \n",
       "L 3531 0 \n",
       "L 628 0 \n",
       "L 628 4666 \n",
       "z\n",
       "\" transform=\"scale(0.015625)\"/>\n",
       "      <path id=\"DejaVuSans-64\" d=\"M 2906 2969 \n",
       "L 2906 4863 \n",
       "L 3481 4863 \n",
       "L 3481 0 \n",
       "L 2906 0 \n",
       "L 2906 525 \n",
       "Q 2725 213 2448 61 \n",
       "Q 2172 -91 1784 -91 \n",
       "Q 1150 -91 751 415 \n",
       "Q 353 922 353 1747 \n",
       "Q 353 2572 751 3078 \n",
       "Q 1150 3584 1784 3584 \n",
       "Q 2172 3584 2448 3432 \n",
       "Q 2725 3281 2906 2969 \n",
       "z\n",
       "M 947 1747 \n",
       "Q 947 1113 1208 752 \n",
       "Q 1469 391 1925 391 \n",
       "Q 2381 391 2643 752 \n",
       "Q 2906 1113 2906 1747 \n",
       "Q 2906 2381 2643 2742 \n",
       "Q 2381 3103 1925 3103 \n",
       "Q 1469 3103 1208 2742 \n",
       "Q 947 2381 947 1747 \n",
       "z\n",
       "\" transform=\"scale(0.015625)\"/>\n",
       "      <path id=\"DejaVuSans-66\" d=\"M 2375 4863 \n",
       "L 2375 4384 \n",
       "L 1825 4384 \n",
       "Q 1516 4384 1395 4259 \n",
       "Q 1275 4134 1275 3809 \n",
       "L 1275 3500 \n",
       "L 2222 3500 \n",
       "L 2222 3053 \n",
       "L 1275 3053 \n",
       "L 1275 0 \n",
       "L 697 0 \n",
       "L 697 3053 \n",
       "L 147 3053 \n",
       "L 147 3500 \n",
       "L 697 3500 \n",
       "L 697 3744 \n",
       "Q 697 4328 969 4595 \n",
       "Q 1241 4863 1831 4863 \n",
       "L 2375 4863 \n",
       "z\n",
       "\" transform=\"scale(0.015625)\"/>\n",
       "      <path id=\"DejaVuSans-55\" d=\"M 556 4666 \n",
       "L 1191 4666 \n",
       "L 1191 1831 \n",
       "Q 1191 1081 1462 751 \n",
       "Q 1734 422 2344 422 \n",
       "Q 2950 422 3222 751 \n",
       "Q 3494 1081 3494 1831 \n",
       "L 3494 4666 \n",
       "L 4128 4666 \n",
       "L 4128 1753 \n",
       "Q 4128 841 3676 375 \n",
       "Q 3225 -91 2344 -91 \n",
       "Q 1459 -91 1007 375 \n",
       "Q 556 841 556 1753 \n",
       "L 556 4666 \n",
       "z\n",
       "\" transform=\"scale(0.015625)\"/>\n",
       "      <path id=\"DejaVuSans-71\" d=\"M 947 1747 \n",
       "Q 947 1113 1208 752 \n",
       "Q 1469 391 1925 391 \n",
       "Q 2381 391 2643 752 \n",
       "Q 2906 1113 2906 1747 \n",
       "Q 2906 2381 2643 2742 \n",
       "Q 2381 3103 1925 3103 \n",
       "Q 1469 3103 1208 2742 \n",
       "Q 947 2381 947 1747 \n",
       "z\n",
       "M 2906 525 \n",
       "Q 2725 213 2448 61 \n",
       "Q 2172 -91 1784 -91 \n",
       "Q 1150 -91 751 415 \n",
       "Q 353 922 353 1747 \n",
       "Q 353 2572 751 3078 \n",
       "Q 1150 3584 1784 3584 \n",
       "Q 2172 3584 2448 3432 \n",
       "Q 2725 3281 2906 2969 \n",
       "L 2906 3500 \n",
       "L 3481 3500 \n",
       "L 3481 -1331 \n",
       "L 2906 -1331 \n",
       "L 2906 525 \n",
       "z\n",
       "\" transform=\"scale(0.015625)\"/>\n",
       "     </defs>\n",
       "     <use xlink:href=\"#DejaVuSans-4c\"/>\n",
       "     <use xlink:href=\"#DejaVuSans-61\" x=\"55.712891\"/>\n",
       "     <use xlink:href=\"#DejaVuSans-6e\" x=\"116.992188\"/>\n",
       "     <use xlink:href=\"#DejaVuSans-64\" x=\"180.371094\"/>\n",
       "     <use xlink:href=\"#DejaVuSans-73\" x=\"243.847656\"/>\n",
       "     <use xlink:href=\"#DejaVuSans-63\" x=\"295.947266\"/>\n",
       "     <use xlink:href=\"#DejaVuSans-61\" x=\"350.927734\"/>\n",
       "     <use xlink:href=\"#DejaVuSans-70\" x=\"412.207031\"/>\n",
       "     <use xlink:href=\"#DejaVuSans-65\" x=\"475.683594\"/>\n",
       "     <use xlink:href=\"#DejaVuSans-20\" x=\"537.207031\"/>\n",
       "     <use xlink:href=\"#DejaVuSans-6f\" x=\"568.994141\"/>\n",
       "     <use xlink:href=\"#DejaVuSans-66\" x=\"630.175781\"/>\n",
       "     <use xlink:href=\"#DejaVuSans-20\" x=\"665.380859\"/>\n",
       "     <use xlink:href=\"#DejaVuSans-36\" x=\"697.167969\"/>\n",
       "     <use xlink:href=\"#DejaVuSans-30\" x=\"760.791016\"/>\n",
       "     <use xlink:href=\"#DejaVuSans-2c\" x=\"824.414062\"/>\n",
       "     <use xlink:href=\"#DejaVuSans-35\" x=\"856.201172\"/>\n",
       "     <use xlink:href=\"#DejaVuSans-31\" x=\"919.824219\"/>\n",
       "     <use xlink:href=\"#DejaVuSans-33\" x=\"983.447266\"/>\n",
       "     <use xlink:href=\"#DejaVuSans-2c\" x=\"1047.070312\"/>\n",
       "     <use xlink:href=\"#DejaVuSans-32\" x=\"1078.857422\"/>\n",
       "     <use xlink:href=\"#DejaVuSans-30\" x=\"1142.480469\"/>\n",
       "     <use xlink:href=\"#DejaVuSans-39\" x=\"1206.103516\"/>\n",
       "     <use xlink:href=\"#DejaVuSans-20\" x=\"1269.726562\"/>\n",
       "     <use xlink:href=\"#DejaVuSans-55\" x=\"1301.513672\"/>\n",
       "     <use xlink:href=\"#DejaVuSans-6e\" x=\"1374.707031\"/>\n",
       "     <use xlink:href=\"#DejaVuSans-69\" x=\"1438.085938\"/>\n",
       "     <use xlink:href=\"#DejaVuSans-71\" x=\"1465.869141\"/>\n",
       "     <use xlink:href=\"#DejaVuSans-75\" x=\"1529.345703\"/>\n",
       "     <use xlink:href=\"#DejaVuSans-65\" x=\"1592.724609\"/>\n",
       "     <use xlink:href=\"#DejaVuSans-20\" x=\"1654.248047\"/>\n",
       "     <use xlink:href=\"#DejaVuSans-43\" x=\"1686.035156\"/>\n",
       "     <use xlink:href=\"#DejaVuSans-6f\" x=\"1755.859375\"/>\n",
       "     <use xlink:href=\"#DejaVuSans-6e\" x=\"1817.041016\"/>\n",
       "     <use xlink:href=\"#DejaVuSans-63\" x=\"1880.419922\"/>\n",
       "     <use xlink:href=\"#DejaVuSans-65\" x=\"1935.400391\"/>\n",
       "     <use xlink:href=\"#DejaVuSans-70\" x=\"1996.923828\"/>\n",
       "     <use xlink:href=\"#DejaVuSans-74\" x=\"2060.400391\"/>\n",
       "     <use xlink:href=\"#DejaVuSans-73\" x=\"2099.609375\"/>\n",
       "    </g>\n",
       "   </g>\n",
       "  </g>\n",
       " </g>\n",
       " <defs>\n",
       "  <clipPath id=\"pc2afcdb3e6\">\n",
       "   <rect x=\"45.478125\" y=\"22.318125\" width=\"313.462315\" height=\"125.56\"/>\n",
       "  </clipPath>\n",
       " </defs>\n",
       "</svg>\n"
      ],
      "text/plain": [
       "<Figure size 520x270 with 1 Axes>"
      ]
     },
     "metadata": {},
     "output_type": "display_data"
    },
    {
     "data": {
      "text/markdown": [
       "\\\n",
       "        The landscape of 13 resources has 61,231,514 total terms.\n",
       "        After merging redundant nodes based on mappings, inference, and reasoning, there\n",
       "        are 60,513,209 unique concepts. Using the reduction formula\n",
       "        $\\frac{\\text{total terms} - \\text{reduced terms}}{\\text{total terms}}$,\n",
       "        this is a 1.2% reduction.\n"
      ],
      "text/plain": [
       "<IPython.core.display.Markdown object>"
      ]
     },
     "metadata": {},
     "output_type": "display_data"
    },
    {
     "data": {
      "text/markdown": [
       "This is only an estimate and is susceptible to a few things:\n",
       "\n",
       "1. It can be artificially high because there are entities that _should_ be mapped, but are not\n",
       "2. It can be artificially low because there are entities that are incorrectly mapped, e.g., as\n",
       "   a result of inference. The frontend curation interface can help identify and remove these\n",
       "3. It can be artificially low because for some vocabularies like SNOMED-CT, it's not possible\n",
       "   to load a terms list, and therefore it's not possible to account for terms that aren't\n",
       "   mapped. Therefore, we make a lower bound estimate based on the terms that appear in\n",
       "   mappings.\n",
       "4. It can be artificially high if a vocabulary is used that covers many domains and is not\n",
       "   properly subset'd. For example, EFO covers many different domains, so when doing disease\n",
       "   landscape analysis, it should be subset to only terms in the disease hierarchy\n",
       "   (i.e., appearing under ``efo:0000408``).\n",
       "5. It can be affected by terminology issues, such as the confusion between Orphanet and ORDO\n",
       "6. It can be affected by the existence of many-to-many mappings, which are filtered out during\n",
       "   processing, which makes the estimate artificially high since some subset of those entities\n",
       "   could be mapped, but it's not clear which should.\n"
      ],
      "text/plain": [
       "<IPython.core.display.Markdown object>"
      ]
     },
     "metadata": {},
     "output_type": "display_data"
    }
   ],
   "source": [
    "_ = notebook(CONFIGURATION, output_directory=\".\")"
   ]
  }
 ],
 "metadata": {
  "kernelspec": {
   "display_name": "Python 3 (ipykernel)",
   "language": "python",
   "name": "python3"
  },
  "language_info": {
   "codemirror_mode": {
    "name": "ipython",
    "version": 3
   },
   "file_extension": ".py",
   "mimetype": "text/x-python",
   "name": "python",
   "nbconvert_exporter": "python",
   "pygments_lexer": "ipython3",
   "version": "3.12.4"
  },
  "widgets": {
   "application/vnd.jupyter.widget-state+json": {
    "state": {
     "06de6ec182c944a68aa95b935db28b4a": {
      "model_module": "@jupyter-widgets/base",
      "model_module_version": "2.0.0",
      "model_name": "LayoutModel",
      "state": {
       "_model_module": "@jupyter-widgets/base",
       "_model_module_version": "2.0.0",
       "_model_name": "LayoutModel",
       "_view_count": null,
       "_view_module": "@jupyter-widgets/base",
       "_view_module_version": "2.0.0",
       "_view_name": "LayoutView",
       "align_content": null,
       "align_items": null,
       "align_self": null,
       "border_bottom": null,
       "border_left": null,
       "border_right": null,
       "border_top": null,
       "bottom": null,
       "display": null,
       "flex": null,
       "flex_flow": null,
       "grid_area": null,
       "grid_auto_columns": null,
       "grid_auto_flow": null,
       "grid_auto_rows": null,
       "grid_column": null,
       "grid_gap": null,
       "grid_row": null,
       "grid_template_areas": null,
       "grid_template_columns": null,
       "grid_template_rows": null,
       "height": null,
       "justify_content": null,
       "justify_items": null,
       "left": null,
       "margin": null,
       "max_height": null,
       "max_width": null,
       "min_height": null,
       "min_width": null,
       "object_fit": null,
       "object_position": null,
       "order": null,
       "overflow": null,
       "padding": null,
       "right": null,
       "top": null,
       "visibility": null,
       "width": null
      }
     },
     "07bca205ee454619ae51d0dc26c684ee": {
      "model_module": "@jupyter-widgets/controls",
      "model_module_version": "2.0.0",
      "model_name": "HTMLStyleModel",
      "state": {
       "_model_module": "@jupyter-widgets/controls",
       "_model_module_version": "2.0.0",
       "_model_name": "HTMLStyleModel",
       "_view_count": null,
       "_view_module": "@jupyter-widgets/base",
       "_view_module_version": "2.0.0",
       "_view_name": "StyleView",
       "background": null,
       "description_width": "",
       "font_size": null,
       "text_color": null
      }
     },
     "108eef66b64e4938af6d7b760b7455a8": {
      "model_module": "@jupyter-widgets/base",
      "model_module_version": "2.0.0",
      "model_name": "LayoutModel",
      "state": {
       "_model_module": "@jupyter-widgets/base",
       "_model_module_version": "2.0.0",
       "_model_name": "LayoutModel",
       "_view_count": null,
       "_view_module": "@jupyter-widgets/base",
       "_view_module_version": "2.0.0",
       "_view_name": "LayoutView",
       "align_content": null,
       "align_items": null,
       "align_self": null,
       "border_bottom": null,
       "border_left": null,
       "border_right": null,
       "border_top": null,
       "bottom": null,
       "display": null,
       "flex": null,
       "flex_flow": null,
       "grid_area": null,
       "grid_auto_columns": null,
       "grid_auto_flow": null,
       "grid_auto_rows": null,
       "grid_column": null,
       "grid_gap": null,
       "grid_row": null,
       "grid_template_areas": null,
       "grid_template_columns": null,
       "grid_template_rows": null,
       "height": null,
       "justify_content": null,
       "justify_items": null,
       "left": null,
       "margin": null,
       "max_height": null,
       "max_width": null,
       "min_height": null,
       "min_width": null,
       "object_fit": null,
       "object_position": null,
       "order": null,
       "overflow": null,
       "padding": null,
       "right": null,
       "top": null,
       "visibility": null,
       "width": null
      }
     },
     "16b08d68679144cc9e4503ed4c906dfa": {
      "model_module": "@jupyter-widgets/base",
      "model_module_version": "2.0.0",
      "model_name": "LayoutModel",
      "state": {
       "_model_module": "@jupyter-widgets/base",
       "_model_module_version": "2.0.0",
       "_model_name": "LayoutModel",
       "_view_count": null,
       "_view_module": "@jupyter-widgets/base",
       "_view_module_version": "2.0.0",
       "_view_name": "LayoutView",
       "align_content": null,
       "align_items": null,
       "align_self": null,
       "border_bottom": null,
       "border_left": null,
       "border_right": null,
       "border_top": null,
       "bottom": null,
       "display": null,
       "flex": null,
       "flex_flow": null,
       "grid_area": null,
       "grid_auto_columns": null,
       "grid_auto_flow": null,
       "grid_auto_rows": null,
       "grid_column": null,
       "grid_gap": null,
       "grid_row": null,
       "grid_template_areas": null,
       "grid_template_columns": null,
       "grid_template_rows": null,
       "height": null,
       "justify_content": null,
       "justify_items": null,
       "left": null,
       "margin": null,
       "max_height": null,
       "max_width": null,
       "min_height": null,
       "min_width": null,
       "object_fit": null,
       "object_position": null,
       "order": null,
       "overflow": null,
       "padding": null,
       "right": null,
       "top": null,
       "visibility": null,
       "width": null
      }
     },
     "30059880f78741abab9efbb3298fe0f9": {
      "model_module": "@jupyter-widgets/controls",
      "model_module_version": "2.0.0",
      "model_name": "FloatProgressModel",
      "state": {
       "_dom_classes": [],
       "_model_module": "@jupyter-widgets/controls",
       "_model_module_version": "2.0.0",
       "_model_name": "FloatProgressModel",
       "_view_count": null,
       "_view_module": "@jupyter-widgets/controls",
       "_view_module_version": "2.0.0",
       "_view_name": "ProgressView",
       "bar_style": "",
       "description": "",
       "description_allow_html": false,
       "layout": "IPY_MODEL_6e66542b875d43cea71c7798b87a8487",
       "max": 5456884.0,
       "min": 0.0,
       "orientation": "horizontal",
       "style": "IPY_MODEL_57d795437b414a5b85a10837d444c62b",
       "tabbable": null,
       "tooltip": null,
       "value": 5456884.0
      }
     },
     "34f6b5aa0d4c48d2acfed8f728f39f55": {
      "model_module": "@jupyter-widgets/base",
      "model_module_version": "2.0.0",
      "model_name": "LayoutModel",
      "state": {
       "_model_module": "@jupyter-widgets/base",
       "_model_module_version": "2.0.0",
       "_model_name": "LayoutModel",
       "_view_count": null,
       "_view_module": "@jupyter-widgets/base",
       "_view_module_version": "2.0.0",
       "_view_name": "LayoutView",
       "align_content": null,
       "align_items": null,
       "align_self": null,
       "border_bottom": null,
       "border_left": null,
       "border_right": null,
       "border_top": null,
       "bottom": null,
       "display": null,
       "flex": null,
       "flex_flow": null,
       "grid_area": null,
       "grid_auto_columns": null,
       "grid_auto_flow": null,
       "grid_auto_rows": null,
       "grid_column": null,
       "grid_gap": null,
       "grid_row": null,
       "grid_template_areas": null,
       "grid_template_columns": null,
       "grid_template_rows": null,
       "height": null,
       "justify_content": null,
       "justify_items": null,
       "left": null,
       "margin": null,
       "max_height": null,
       "max_width": null,
       "min_height": null,
       "min_width": null,
       "object_fit": null,
       "object_position": null,
       "order": null,
       "overflow": null,
       "padding": null,
       "right": null,
       "top": null,
       "visibility": "hidden",
       "width": null
      }
     },
     "3c1dc5a5acb64016987f3bd0edb071e5": {
      "model_module": "@jupyter-widgets/controls",
      "model_module_version": "2.0.0",
      "model_name": "HTMLStyleModel",
      "state": {
       "_model_module": "@jupyter-widgets/controls",
       "_model_module_version": "2.0.0",
       "_model_name": "HTMLStyleModel",
       "_view_count": null,
       "_view_module": "@jupyter-widgets/base",
       "_view_module_version": "2.0.0",
       "_view_name": "StyleView",
       "background": null,
       "description_width": "",
       "font_size": null,
       "text_color": null
      }
     },
     "57d795437b414a5b85a10837d444c62b": {
      "model_module": "@jupyter-widgets/controls",
      "model_module_version": "2.0.0",
      "model_name": "ProgressStyleModel",
      "state": {
       "_model_module": "@jupyter-widgets/controls",
       "_model_module_version": "2.0.0",
       "_model_name": "ProgressStyleModel",
       "_view_count": null,
       "_view_module": "@jupyter-widgets/base",
       "_view_module_version": "2.0.0",
       "_view_name": "StyleView",
       "bar_color": null,
       "description_width": ""
      }
     },
     "6e66542b875d43cea71c7798b87a8487": {
      "model_module": "@jupyter-widgets/base",
      "model_module_version": "2.0.0",
      "model_name": "LayoutModel",
      "state": {
       "_model_module": "@jupyter-widgets/base",
       "_model_module_version": "2.0.0",
       "_model_name": "LayoutModel",
       "_view_count": null,
       "_view_module": "@jupyter-widgets/base",
       "_view_module_version": "2.0.0",
       "_view_name": "LayoutView",
       "align_content": null,
       "align_items": null,
       "align_self": null,
       "border_bottom": null,
       "border_left": null,
       "border_right": null,
       "border_top": null,
       "bottom": null,
       "display": null,
       "flex": null,
       "flex_flow": null,
       "grid_area": null,
       "grid_auto_columns": null,
       "grid_auto_flow": null,
       "grid_auto_rows": null,
       "grid_column": null,
       "grid_gap": null,
       "grid_row": null,
       "grid_template_areas": null,
       "grid_template_columns": null,
       "grid_template_rows": null,
       "height": null,
       "justify_content": null,
       "justify_items": null,
       "left": null,
       "margin": null,
       "max_height": null,
       "max_width": null,
       "min_height": null,
       "min_width": null,
       "object_fit": null,
       "object_position": null,
       "order": null,
       "overflow": null,
       "padding": null,
       "right": null,
       "top": null,
       "visibility": null,
       "width": null
      }
     },
     "6f4557ee87ad4003b6a026ef97254409": {
      "model_module": "@jupyter-widgets/base",
      "model_module_version": "2.0.0",
      "model_name": "LayoutModel",
      "state": {
       "_model_module": "@jupyter-widgets/base",
       "_model_module_version": "2.0.0",
       "_model_name": "LayoutModel",
       "_view_count": null,
       "_view_module": "@jupyter-widgets/base",
       "_view_module_version": "2.0.0",
       "_view_name": "LayoutView",
       "align_content": null,
       "align_items": null,
       "align_self": null,
       "border_bottom": null,
       "border_left": null,
       "border_right": null,
       "border_top": null,
       "bottom": null,
       "display": null,
       "flex": null,
       "flex_flow": null,
       "grid_area": null,
       "grid_auto_columns": null,
       "grid_auto_flow": null,
       "grid_auto_rows": null,
       "grid_column": null,
       "grid_gap": null,
       "grid_row": null,
       "grid_template_areas": null,
       "grid_template_columns": null,
       "grid_template_rows": null,
       "height": null,
       "justify_content": null,
       "justify_items": null,
       "left": null,
       "margin": null,
       "max_height": null,
       "max_width": null,
       "min_height": null,
       "min_width": null,
       "object_fit": null,
       "object_position": null,
       "order": null,
       "overflow": null,
       "padding": null,
       "right": null,
       "top": null,
       "visibility": null,
       "width": null
      }
     },
     "87128094d57348638fa0d9b5eca31cac": {
      "model_module": "@jupyter-widgets/base",
      "model_module_version": "2.0.0",
      "model_name": "LayoutModel",
      "state": {
       "_model_module": "@jupyter-widgets/base",
       "_model_module_version": "2.0.0",
       "_model_name": "LayoutModel",
       "_view_count": null,
       "_view_module": "@jupyter-widgets/base",
       "_view_module_version": "2.0.0",
       "_view_name": "LayoutView",
       "align_content": null,
       "align_items": null,
       "align_self": null,
       "border_bottom": null,
       "border_left": null,
       "border_right": null,
       "border_top": null,
       "bottom": null,
       "display": null,
       "flex": null,
       "flex_flow": null,
       "grid_area": null,
       "grid_auto_columns": null,
       "grid_auto_flow": null,
       "grid_auto_rows": null,
       "grid_column": null,
       "grid_gap": null,
       "grid_row": null,
       "grid_template_areas": null,
       "grid_template_columns": null,
       "grid_template_rows": null,
       "height": null,
       "justify_content": null,
       "justify_items": null,
       "left": null,
       "margin": null,
       "max_height": null,
       "max_width": null,
       "min_height": null,
       "min_width": null,
       "object_fit": null,
       "object_position": null,
       "order": null,
       "overflow": null,
       "padding": null,
       "right": null,
       "top": null,
       "visibility": "hidden",
       "width": null
      }
     },
     "8cc54fca228a49f28e157ba536e6440b": {
      "model_module": "@jupyter-widgets/controls",
      "model_module_version": "2.0.0",
      "model_name": "HBoxModel",
      "state": {
       "_dom_classes": [],
       "_model_module": "@jupyter-widgets/controls",
       "_model_module_version": "2.0.0",
       "_model_name": "HBoxModel",
       "_view_count": null,
       "_view_module": "@jupyter-widgets/controls",
       "_view_module_version": "2.0.0",
       "_view_name": "HBoxView",
       "box_style": "",
       "children": [
        "IPY_MODEL_e6c7212dd677418fb26ac9c78ed17228",
        "IPY_MODEL_ded206de2c3e41a9bb00d336b1fc9c0f",
        "IPY_MODEL_a7e1c94427284afa95fbbea491521dd1"
       ],
       "layout": "IPY_MODEL_34f6b5aa0d4c48d2acfed8f728f39f55",
       "tabbable": null,
       "tooltip": null
      }
     },
     "99496cbe897a445ea7292528584af038": {
      "model_module": "@jupyter-widgets/controls",
      "model_module_version": "2.0.0",
      "model_name": "HTMLStyleModel",
      "state": {
       "_model_module": "@jupyter-widgets/controls",
       "_model_module_version": "2.0.0",
       "_model_name": "HTMLStyleModel",
       "_view_count": null,
       "_view_module": "@jupyter-widgets/base",
       "_view_module_version": "2.0.0",
       "_view_name": "StyleView",
       "background": null,
       "description_width": "",
       "font_size": null,
       "text_color": null
      }
     },
     "a7e1c94427284afa95fbbea491521dd1": {
      "model_module": "@jupyter-widgets/controls",
      "model_module_version": "2.0.0",
      "model_name": "HTMLModel",
      "state": {
       "_dom_classes": [],
       "_model_module": "@jupyter-widgets/controls",
       "_model_module_version": "2.0.0",
       "_model_name": "HTMLModel",
       "_view_count": null,
       "_view_module": "@jupyter-widgets/controls",
       "_view_module_version": "2.0.0",
       "_view_name": "HTMLView",
       "description": "",
       "description_allow_html": false,
       "layout": "IPY_MODEL_108eef66b64e4938af6d7b760b7455a8",
       "placeholder": "​",
       "style": "IPY_MODEL_07bca205ee454619ae51d0dc26c684ee",
       "tabbable": null,
       "tooltip": null,
       "value": " 1.63M/1.64M [00:04&lt;00:00, 461kmapping/s]"
      }
     },
     "af142e92ad8a445b9bd08ba42c446446": {
      "model_module": "@jupyter-widgets/controls",
      "model_module_version": "2.0.0",
      "model_name": "HTMLModel",
      "state": {
       "_dom_classes": [],
       "_model_module": "@jupyter-widgets/controls",
       "_model_module_version": "2.0.0",
       "_model_name": "HTMLModel",
       "_view_count": null,
       "_view_module": "@jupyter-widgets/controls",
       "_view_module_version": "2.0.0",
       "_view_name": "HTMLView",
       "description": "",
       "description_allow_html": false,
       "layout": "IPY_MODEL_06de6ec182c944a68aa95b935db28b4a",
       "placeholder": "​",
       "style": "IPY_MODEL_99496cbe897a445ea7292528584af038",
       "tabbable": null,
       "tooltip": null,
       "value": " 5.45M/5.46M [00:15&lt;00:00, 346kmapping/s]"
      }
     },
     "b11ad2ac65c545469923ea172600e8c2": {
      "model_module": "@jupyter-widgets/controls",
      "model_module_version": "2.0.0",
      "model_name": "ProgressStyleModel",
      "state": {
       "_model_module": "@jupyter-widgets/controls",
       "_model_module_version": "2.0.0",
       "_model_name": "ProgressStyleModel",
       "_view_count": null,
       "_view_module": "@jupyter-widgets/base",
       "_view_module_version": "2.0.0",
       "_view_name": "StyleView",
       "bar_color": null,
       "description_width": ""
      }
     },
     "c2ae6433672b4002bf35cf824a8e26bd": {
      "model_module": "@jupyter-widgets/controls",
      "model_module_version": "2.0.0",
      "model_name": "HBoxModel",
      "state": {
       "_dom_classes": [],
       "_model_module": "@jupyter-widgets/controls",
       "_model_module_version": "2.0.0",
       "_model_name": "HBoxModel",
       "_view_count": null,
       "_view_module": "@jupyter-widgets/controls",
       "_view_module_version": "2.0.0",
       "_view_name": "HBoxView",
       "box_style": "",
       "children": [
        "IPY_MODEL_cfb525faf5cf426f9dafb069afbf07be",
        "IPY_MODEL_30059880f78741abab9efbb3298fe0f9",
        "IPY_MODEL_af142e92ad8a445b9bd08ba42c446446"
       ],
       "layout": "IPY_MODEL_87128094d57348638fa0d9b5eca31cac",
       "tabbable": null,
       "tooltip": null
      }
     },
     "cd7477d47c3544aaba37ff3e11f791b5": {
      "model_module": "@jupyter-widgets/base",
      "model_module_version": "2.0.0",
      "model_name": "LayoutModel",
      "state": {
       "_model_module": "@jupyter-widgets/base",
       "_model_module_version": "2.0.0",
       "_model_name": "LayoutModel",
       "_view_count": null,
       "_view_module": "@jupyter-widgets/base",
       "_view_module_version": "2.0.0",
       "_view_name": "LayoutView",
       "align_content": null,
       "align_items": null,
       "align_self": null,
       "border_bottom": null,
       "border_left": null,
       "border_right": null,
       "border_top": null,
       "bottom": null,
       "display": null,
       "flex": null,
       "flex_flow": null,
       "grid_area": null,
       "grid_auto_columns": null,
       "grid_auto_flow": null,
       "grid_auto_rows": null,
       "grid_column": null,
       "grid_gap": null,
       "grid_row": null,
       "grid_template_areas": null,
       "grid_template_columns": null,
       "grid_template_rows": null,
       "height": null,
       "justify_content": null,
       "justify_items": null,
       "left": null,
       "margin": null,
       "max_height": null,
       "max_width": null,
       "min_height": null,
       "min_width": null,
       "object_fit": null,
       "object_position": null,
       "order": null,
       "overflow": null,
       "padding": null,
       "right": null,
       "top": null,
       "visibility": null,
       "width": null
      }
     },
     "cfb525faf5cf426f9dafb069afbf07be": {
      "model_module": "@jupyter-widgets/controls",
      "model_module_version": "2.0.0",
      "model_name": "HTMLModel",
      "state": {
       "_dom_classes": [],
       "_model_module": "@jupyter-widgets/controls",
       "_model_module_version": "2.0.0",
       "_model_name": "HTMLModel",
       "_view_count": null,
       "_view_module": "@jupyter-widgets/controls",
       "_view_module_version": "2.0.0",
       "_view_name": "HTMLView",
       "description": "",
       "description_allow_html": false,
       "layout": "IPY_MODEL_16b08d68679144cc9e4503ed4c906dfa",
       "placeholder": "​",
       "style": "IPY_MODEL_3c1dc5a5acb64016987f3bd0edb071e5",
       "tabbable": null,
       "tooltip": null,
       "value": "Indexing mappings: 100%"
      }
     },
     "ded206de2c3e41a9bb00d336b1fc9c0f": {
      "model_module": "@jupyter-widgets/controls",
      "model_module_version": "2.0.0",
      "model_name": "FloatProgressModel",
      "state": {
       "_dom_classes": [],
       "_model_module": "@jupyter-widgets/controls",
       "_model_module_version": "2.0.0",
       "_model_name": "FloatProgressModel",
       "_view_count": null,
       "_view_module": "@jupyter-widgets/controls",
       "_view_module_version": "2.0.0",
       "_view_name": "ProgressView",
       "bar_style": "",
       "description": "",
       "description_allow_html": false,
       "layout": "IPY_MODEL_6f4557ee87ad4003b6a026ef97254409",
       "max": 1644929.0,
       "min": 0.0,
       "orientation": "horizontal",
       "style": "IPY_MODEL_b11ad2ac65c545469923ea172600e8c2",
       "tabbable": null,
       "tooltip": null,
       "value": 1644929.0
      }
     },
     "e6c7212dd677418fb26ac9c78ed17228": {
      "model_module": "@jupyter-widgets/controls",
      "model_module_version": "2.0.0",
      "model_name": "HTMLModel",
      "state": {
       "_dom_classes": [],
       "_model_module": "@jupyter-widgets/controls",
       "_model_module_version": "2.0.0",
       "_model_name": "HTMLModel",
       "_view_count": null,
       "_view_module": "@jupyter-widgets/controls",
       "_view_module_version": "2.0.0",
       "_view_name": "HTMLView",
       "description": "",
       "description_allow_html": false,
       "layout": "IPY_MODEL_cd7477d47c3544aaba37ff3e11f791b5",
       "placeholder": "​",
       "style": "IPY_MODEL_e80655e8582543d6acabda36a1ca6c06",
       "tabbable": null,
       "tooltip": null,
       "value": "Indexing mappings:  99%"
      }
     },
     "e80655e8582543d6acabda36a1ca6c06": {
      "model_module": "@jupyter-widgets/controls",
      "model_module_version": "2.0.0",
      "model_name": "HTMLStyleModel",
      "state": {
       "_model_module": "@jupyter-widgets/controls",
       "_model_module_version": "2.0.0",
       "_model_name": "HTMLStyleModel",
       "_view_count": null,
       "_view_module": "@jupyter-widgets/base",
       "_view_module_version": "2.0.0",
       "_view_name": "StyleView",
       "background": null,
       "description_width": "",
       "font_size": null,
       "text_color": null
      }
     }
    },
    "version_major": 2,
    "version_minor": 0
   }
  }
 },
 "nbformat": 4,
 "nbformat_minor": 5
}
